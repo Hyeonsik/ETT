{
 "cells": [
  {
   "cell_type": "code",
   "execution_count": 1,
   "id": "8a7ce6c7-b0c0-4398-ad0b-4c46c2f10198",
   "metadata": {
    "execution": {
     "iopub.execute_input": "2023-08-06T14:05:46.464245Z",
     "iopub.status.busy": "2023-08-06T14:05:46.463589Z",
     "iopub.status.idle": "2023-08-06T14:05:47.959753Z",
     "shell.execute_reply": "2023-08-06T14:05:47.959229Z",
     "shell.execute_reply.started": "2023-08-06T14:05:46.464123Z"
    },
    "tags": []
   },
   "outputs": [
    {
     "name": "stdout",
     "output_type": "stream",
     "text": [
      "x_cuff_train: (10712, 3), x_cuff_test: (2678, 3)\n",
      "x_uncuff_train: (18934, 3), x_uncuff_test: (4733, 3)\n"
     ]
    }
   ],
   "source": [
    "from sklearn.model_selection import GridSearchCV, RandomizedSearchCV\n",
    "from sklearn.metrics import explained_variance_score, mean_squared_error, mean_absolute_error, r2_score\n",
    "from sklearn.utils import shuffle\n",
    "import pandas as pd\n",
    "import xgboost as xgb\n",
    "import numpy as np\n",
    "import random, os, datetime, pickle\n",
    "import scipy, csv, math\n",
    "import matplotlib.pyplot as plt\n",
    "\n",
    "# loading data\n",
    "df = pickle.load(open('dataset/df_2308', 'rb'))\n",
    "\n",
    "# sorting the data in ascending order, starting from the most recent opdate\n",
    "df.sort_values(by=['opdate'], ascending = True, inplace=True)#[['age_cal', 'sex', 'weight', 'height', 'cuffed']]\n",
    "\n",
    "x = df[['age_cal', 'sex', 'weight', 'height', 'cuffed']].astype(float).values\n",
    "y = df['airway_tube_size'].astype(float).values\n",
    "c = df['opid'].values\n",
    "\n",
    "\n",
    "x_cuffed = x[x[:,4] == 1][:,:4]\n",
    "y_cuffed = y[x[:,4] == 1]\n",
    "\n",
    "nsamp = len(y_cuffed)\n",
    "ntest = int(nsamp * 0.2)\n",
    "ntrain = nsamp - ntest\n",
    "x_cuff_test = x_cuffed[-ntest:, :]\n",
    "y_cuff_test = y_cuffed[-ntest:]\n",
    "x_cuff_train = x_cuffed[:ntrain, :]\n",
    "y_cuff_train = y_cuffed[:ntrain]\n",
    "\n",
    "# traditional age-based formula (Duracher's formula : age / 4 + 3.5)\n",
    "y_cuff_trad = np.array([math.floor((math.floor(age) / 4 + 3.5) * 2) / 2 if age >= 2 else (3.0 if age < 1 else 3.5) for age in x_cuff_test[:,0]], dtype=float)\n",
    "\n",
    "\n",
    "x_uncuffed = x[x[:,4] == 0][:,:4]\n",
    "y_uncuffed = y[x[:,4] == 0]\n",
    "\n",
    "nsamp = len(y_uncuffed)\n",
    "ntest = int(nsamp * 0.2)\n",
    "ntrain = nsamp - ntest\n",
    "x_uncuff_test = x_uncuffed[-ntest:, :]\n",
    "y_uncuff_test = y_uncuffed[-ntest:]\n",
    "x_uncuff_train = x_uncuffed[:ntrain, :]\n",
    "y_uncuff_train = y_uncuffed[:ntrain]\n",
    "\n",
    "# traditional age-based formula (trad1 = Cole's formula : age / 4 + 4, trad2 = Penlington's formula : age / 4 + 4.5)\n",
    "y_uncuff_trad1 = np.array([math.floor((math.floor(age) / 4 + 4) * 2) / 2 if age >= 2 else (3.5 if age < 1 else 4) for age in x_uncuff_test[:,0]], dtype=float)\n",
    "y_uncuff_trad2 = np.array([math.floor((math.floor(age) / 4 + 4.5) * 2) / 2 if age < 6.5 else math.floor((math.floor(age) / 3 + 3.5) * 2) / 2 for age in x_uncuff_test[:,0]], dtype=float)\n",
    "\n",
    "\n",
    "print(f'x_cuff_train: {(x_cuff_train).shape}, x_cuff_test: {x_cuff_test.shape}')\n",
    "print(f'x_uncuff_train: {(x_uncuff_train).shape}, x_uncuff_test: {x_uncuff_test.shape}')"
   ]
  },
  {
   "cell_type": "code",
   "execution_count": 135,
   "id": "5ebbfaee-7724-439a-bade-5a39ec0c0cb4",
   "metadata": {
    "execution": {
     "iopub.execute_input": "2023-08-01T07:40:27.489296Z",
     "iopub.status.busy": "2023-08-01T07:40:27.488837Z",
     "iopub.status.idle": "2023-08-01T07:40:27.499841Z",
     "shell.execute_reply": "2023-08-01T07:40:27.499260Z",
     "shell.execute_reply.started": "2023-08-01T07:40:27.489250Z"
    },
    "tags": []
   },
   "outputs": [],
   "source": [
    "np.savez(f'dataset/ETT_size_2308.npz', x=x, y=y, c=c)"
   ]
  },
  {
   "cell_type": "code",
   "execution_count": 80,
   "id": "90e9cd6f-effd-4f05-ad2f-0fd8a858cc4f",
   "metadata": {
    "execution": {
     "iopub.execute_input": "2023-07-31T11:25:33.684934Z",
     "iopub.status.busy": "2023-07-31T11:25:33.684449Z",
     "iopub.status.idle": "2023-07-31T11:25:33.703521Z",
     "shell.execute_reply": "2023-07-31T11:25:33.702775Z",
     "shell.execute_reply.started": "2023-07-31T11:25:33.684886Z"
    },
    "jupyter": {
     "source_hidden": true
    },
    "tags": []
   },
   "outputs": [
    {
     "name": "stdout",
     "output_type": "stream",
     "text": [
      "x_train: (24764, 5), x_test: (6190, 5)\n"
     ]
    }
   ],
   "source": [
    "from sklearn.model_selection import GridSearchCV, RandomizedSearchCV\n",
    "from sklearn.metrics import explained_variance_score, mean_squared_error, mean_absolute_error, r2_score\n",
    "from sklearn.utils import shuffle\n",
    "import pandas as pd\n",
    "import xgboost as xgb\n",
    "import numpy as np\n",
    "import random, os, datetime, pickle\n",
    "import scipy, csv, math\n",
    "import matplotlib.pyplot as plt\n",
    "\n",
    "dat = np.load(f'dataset/ETT_size-outliers3.npz')\n",
    "#df = pickle.load(open('dataset/df-outliers3', 'rb'))\n",
    "x, y = dat['x'], dat['y']\n",
    "y_old  = dat['y_old']\n",
    "\n",
    "# training set의 뒤쪽 20%를 test set 으로 사용 (이미 shuffle된 상태)\n",
    "nsamp = len(y)\n",
    "ntest = int(nsamp * 0.2)\n",
    "ntrain = nsamp - ntest\n",
    "x_test = x[-ntest:, :]\n",
    "y_test = y[-ntest:]\n",
    "y_test_old = y_old[-ntest:]\n",
    "x_train = x[:ntrain, :]\n",
    "y_train = y[:ntrain]\n",
    "\n",
    "print(f'x_train: {(x_train).shape}, x_test: {x_test.shape}')"
   ]
  },
  {
   "cell_type": "markdown",
   "id": "3ffb27d6-6e31-4b49-8f96-e2e20fa6a690",
   "metadata": {},
   "source": [
    "# Reviewer 1"
   ]
  },
  {
   "cell_type": "markdown",
   "id": "fbedf9b7-b836-45df-97e8-60868b96ae46",
   "metadata": {
    "jp-MarkdownHeadingCollapsed": true,
    "tags": []
   },
   "source": [
    "# COMMENT 0-1"
   ]
  },
  {
   "cell_type": "code",
   "execution_count": 2,
   "id": "661e6bc1-3f3c-445b-b4b4-9f758252c99c",
   "metadata": {
    "execution": {
     "iopub.execute_input": "2023-07-21T03:30:26.812105Z",
     "iopub.status.busy": "2023-07-21T03:30:26.811658Z",
     "iopub.status.idle": "2023-07-21T03:30:26.829092Z",
     "shell.execute_reply": "2023-07-21T03:30:26.828115Z",
     "shell.execute_reply.started": "2023-07-21T03:30:26.812050Z"
    },
    "tags": []
   },
   "outputs": [],
   "source": [
    "def remove_outliers(df, col_name):\n",
    "    out_hids = set()\n",
    "    for i in range(0,0):\n",
    "        df2 = df.loc[(i/2<=df['age_cal'])&(df['age_cal']<i/2+0.5), [col_name,'hid']]\n",
    "\n",
    "        # normalization\n",
    "        from sklearn.preprocessing import StandardScaler\n",
    "        \n",
    "        sc = StandardScaler()\n",
    "        znorm = sc.fit_transform(df2[[col_name]]).flatten()\n",
    "        out_mask = (znorm > 2) | (znorm < -2)\n",
    "\n",
    "        #std0, mean0 = df2.std()[0], df2.mean()[0]\n",
    "        #print(f'age {i/2}~{i/2+0.5}: {np.sum(out_mask)}/{len(df2)} (범위:{mean0 - std0 * 2:.2f}~{mean0 + std0 * 2:.2f})')\n",
    "        out_hids = out_hids | set((df2['hid'].values)[out_mask])\n",
    "\n",
    "        \n",
    "    for i in range(0,10):\n",
    "        df2 = df.loc[df['age']==i, [col_name,'hid']]\n",
    "\n",
    "        # normalization\n",
    "        from sklearn.preprocessing import StandardScaler\n",
    "        \n",
    "        sc = StandardScaler()\n",
    "        znorm = sc.fit_transform(df2[[col_name]]).flatten()\n",
    "        out_mask = (znorm > 2) | (znorm < -2)\n",
    "\n",
    "        #std0, mean0 = df2.std()[0], df2.mean()[0]\n",
    "        #print(f'age {i}~{i+1}: {np.sum(out_mask)}/{len(df2)} (범위:{mean0 - std0 * 2:.2f}~{mean0 + std0 * 2:.2f})')\n",
    "        out_hids = out_hids | set((df2['hid'].values)[out_mask])\n",
    "        \n",
    "        \n",
    "\n",
    "    # outlier에 해당하는 hid 제외\n",
    "    hmask = df['hid'].apply(lambda x: x not in out_hids)\n",
    "    \n",
    "    return df.loc[hmask.values]"
   ]
  },
  {
   "cell_type": "code",
   "execution_count": 4,
   "id": "5e59b0e8-7c3e-4c9e-b571-967faa2888a5",
   "metadata": {
    "execution": {
     "iopub.execute_input": "2023-07-17T04:41:17.583483Z",
     "iopub.status.busy": "2023-07-17T04:41:17.583211Z",
     "iopub.status.idle": "2023-07-17T04:41:23.132287Z",
     "shell.execute_reply": "2023-07-17T04:41:23.131623Z",
     "shell.execute_reply.started": "2023-07-17T04:41:17.583460Z"
    },
    "tags": []
   },
   "outputs": [
    {
     "name": "stdout",
     "output_type": "stream",
     "text": [
      "전체 소아 (19세 미만) opid: 151651\n",
      "10세 이상 제외 : 113266\n",
      "airway tube type이 plain이 아닌 경우 제외: 59638\n",
      "airway_tube_size 결측치 제외: 59352\n",
      "cuffed data가 없는 경우는 제외: 45067\n",
      "ETT size의 outlier 제외: 42010\n",
      "weight의 outlier 제외: 41242\n",
      "height의 outlier 제외: 39215\n",
      "중복되는 hid는 첫번째 수술 외 제외: 30954\n"
     ]
    }
   ],
   "source": [
    "from sklearn.model_selection import GridSearchCV, RandomizedSearchCV\n",
    "from sklearn.metrics import explained_variance_score, mean_squared_error, mean_absolute_error, r2_score\n",
    "from sklearn.utils import shuffle\n",
    "import pandas as pd\n",
    "import xgboost as xgb\n",
    "import numpy as np\n",
    "import random, os, datetime, pickle\n",
    "import scipy, math\n",
    "import matplotlib.pyplot as plt\n",
    "import numpy as np\n",
    "import csv\n",
    "\n",
    "### birth date, op date 없는 환자 중 소아는 거의 없음 (94,914 중 5명) -> 정석대로 birth, op date로 age 계산해서 진행\n",
    "# tube.csv에 수술 시점 weight, height 추가\n",
    "df0 = pd.read_csv('tube.csv')\n",
    "df0.drop(columns=['weight', 'height'], inplace=True)\n",
    "df = pd.read_csv('demography_revised.csv')\n",
    "df = df0.merge(df[['opid', 'weight', 'height']], how='left', on='opid', suffixes=('_o',''))\n",
    "\n",
    "df.loc[df['weight'] <= 1, 'weight'] = None\n",
    "df.loc[df['weight'] > 200, 'weight'] = None\n",
    "df.loc[df['height'] <= 30, 'height'] = None\n",
    "df.loc[df['height'] > 230, 'height'] = None\n",
    "df['age'] = df['age'].astype(int)\n",
    "\n",
    "# 나이 계산 -> age_cal 열에 추가\n",
    "df_b = pd.read_csv('birth_sex.csv')\n",
    "df_b.rename(columns={'생년월일':'birth_date'}, inplace=True)\n",
    "df_b['birth_date'] = df_b['birth_date'].apply(lambda x: datetime.datetime.strptime(x, '%Y-%m-%d'))\n",
    "\n",
    "df_o = pd.read_csv('opdates.csv')\n",
    "df_o['opdate'] = df_o['opdate'].apply(lambda x: datetime.datetime.strptime(x, '%Y-%m-%d'))\n",
    "\n",
    "df1 = pd.merge(df_o, df_b, how='inner', on='hid')\n",
    "df1['age_cal'] = (df1['opdate'] - df1['birth_date'])/pd.Timedelta(days=365.2425)\n",
    "\n",
    "df = pd.merge(df, df1[['opid', 'hid', 'age_cal', 'opdate', 'birth_date']], how='inner', on='opid')\n",
    "df['age'] = df['age_cal'].apply(lambda x: math.floor(x))\n",
    "\n",
    "df = df.loc[df['age_cal'] < 19]\n",
    "print(f'전체 소아 (19세 미만) opid: {len(df)}')\n",
    "\n",
    "\n",
    "\n",
    "# inclusion criteria : 소아 10세 미만\n",
    "#df['age_cal'] = df['age_cal'] + 0.01 # 생일이랑 수술날 같은 경우\n",
    "df = df.loc[df['age_cal'] < 10-0.01]  # 생일이랑 수술날 같은 경우\n",
    "df = df.loc[df['age_cal'] > 0]\n",
    "print(f'10세 이상 제외 : {len(df)}')\n",
    "\n",
    "\n",
    "#####################\n",
    "df = df.loc[df['airway_tube_type'] == 'plain']\n",
    "# [nan 'plain' 'RAE(oral)' 'reinforced' 'LMA' 'T-tube' 'CobraPLA', 'double lumen tube' 'RAE(nasal)' 'laser' 'combitube' 'univent']\n",
    "\n",
    "print(f'airway tube type이 plain이 아닌 경우 제외: {len(df)}')\n",
    "# age, sex, airway tube size 값이 없는 경우는 제외\n",
    "\n",
    "df.dropna(subset=['age', 'airway_tube_size'], inplace=True)  # sex는 모든 데이터 다 있음\n",
    "df['sex'] = (df['sex'] == 'M')\n",
    "print(f'airway_tube_size 결측치 제외: {len(df)}')\n",
    "\n",
    "\n",
    "# cuffed 여부와 fixed depth 추가\n",
    "df_t = pd.read_csv('tube_type.csv')\n",
    "df_t['cuffed'] = (df_t['cuffed'] == 1)\n",
    "\n",
    "df_f = pd.read_csv('tube_fixed.csv')\n",
    "\n",
    "# merge 하면서 cuffed 데이터가 없는 경우는 제외\n",
    "df = df.merge(df_f, how='left', on='opid')\n",
    "df = df.merge(df_t[['opid', 'cuffed']], how='inner', on='opid')\n",
    "print(f'cuffed data가 없는 경우는 제외: {len(df)}')\n",
    "\n",
    "\n",
    "# outlier values of endotracheal tube size, depth \n",
    "df = remove_outliers(df, 'airway_tube_size')\n",
    "print(f'ETT size의 outlier 제외: {len(df)}')\n",
    "df = remove_outliers(df, 'weight')\n",
    "print(f'weight의 outlier 제외: {len(df)}')\n",
    "df = remove_outliers(df, 'height')\n",
    "print(f'height의 outlier 제외: {len(df)}')\n",
    "\n",
    "# 중복되는 hid 경우 제외 (첫번째 수술기록만 가져오기)\n",
    "#df = df.merge(df_o[['opid','hid']], how='inner', on='opid')\n",
    "df = df.loc[df[['hid', 'opid']].groupby('hid')['opid'].idxmin()]\n",
    "print(f'중복되는 hid는 첫번째 수술 외 제외: {len(df)}')"
   ]
  },
  {
   "cell_type": "code",
   "execution_count": 7,
   "id": "86da8528-d1e2-42d7-81f9-fe20d36af726",
   "metadata": {
    "execution": {
     "iopub.execute_input": "2023-07-17T04:43:05.270170Z",
     "iopub.status.busy": "2023-07-17T04:43:05.269240Z",
     "iopub.status.idle": "2023-07-17T04:43:05.304757Z",
     "shell.execute_reply": "2023-07-17T04:43:05.303980Z",
     "shell.execute_reply.started": "2023-07-17T04:43:05.270113Z"
    },
    "tags": []
   },
   "outputs": [
    {
     "data": {
      "text/html": [
       "<div>\n",
       "<style scoped>\n",
       "    .dataframe tbody tr th:only-of-type {\n",
       "        vertical-align: middle;\n",
       "    }\n",
       "\n",
       "    .dataframe tbody tr th {\n",
       "        vertical-align: top;\n",
       "    }\n",
       "\n",
       "    .dataframe thead th {\n",
       "        text-align: right;\n",
       "    }\n",
       "</style>\n",
       "<table border=\"1\" class=\"dataframe\">\n",
       "  <thead>\n",
       "    <tr style=\"text-align: right;\">\n",
       "      <th></th>\n",
       "      <th>opid</th>\n",
       "      <th>sex</th>\n",
       "      <th>age</th>\n",
       "      <th>airway_tube_size</th>\n",
       "      <th>airway_tube_type</th>\n",
       "      <th>airway_lma</th>\n",
       "      <th>weight</th>\n",
       "      <th>height</th>\n",
       "      <th>hid</th>\n",
       "      <th>age_cal</th>\n",
       "      <th>opdate</th>\n",
       "      <th>birth_date</th>\n",
       "      <th>fixed</th>\n",
       "      <th>cuffed</th>\n",
       "    </tr>\n",
       "  </thead>\n",
       "  <tbody>\n",
       "    <tr>\n",
       "      <th>452</th>\n",
       "      <td>51021078</td>\n",
       "      <td>True</td>\n",
       "      <td>9</td>\n",
       "      <td>6.0</td>\n",
       "      <td>plain</td>\n",
       "      <td>NaN</td>\n",
       "      <td>25.60</td>\n",
       "      <td>NaN</td>\n",
       "      <td>28767471</td>\n",
       "      <td>9.686715</td>\n",
       "      <td>2005-10-21</td>\n",
       "      <td>1996-02-13</td>\n",
       "      <td>18.0</td>\n",
       "      <td>True</td>\n",
       "    </tr>\n",
       "    <tr>\n",
       "      <th>4981</th>\n",
       "      <td>70516098</td>\n",
       "      <td>True</td>\n",
       "      <td>9</td>\n",
       "      <td>6.0</td>\n",
       "      <td>plain</td>\n",
       "      <td>NaN</td>\n",
       "      <td>30.75</td>\n",
       "      <td>138.7</td>\n",
       "      <td>31787286</td>\n",
       "      <td>9.048783</td>\n",
       "      <td>2007-05-16</td>\n",
       "      <td>1998-04-28</td>\n",
       "      <td>17.5</td>\n",
       "      <td>True</td>\n",
       "    </tr>\n",
       "    <tr>\n",
       "      <th>265</th>\n",
       "      <td>50926071</td>\n",
       "      <td>True</td>\n",
       "      <td>1</td>\n",
       "      <td>4.0</td>\n",
       "      <td>plain</td>\n",
       "      <td>NaN</td>\n",
       "      <td>9.52</td>\n",
       "      <td>76.2</td>\n",
       "      <td>32851027</td>\n",
       "      <td>1.486684</td>\n",
       "      <td>2005-09-26</td>\n",
       "      <td>2004-04-01</td>\n",
       "      <td>12.0</td>\n",
       "      <td>False</td>\n",
       "    </tr>\n",
       "    <tr>\n",
       "      <th>4440</th>\n",
       "      <td>70320109</td>\n",
       "      <td>True</td>\n",
       "      <td>3</td>\n",
       "      <td>5.0</td>\n",
       "      <td>plain</td>\n",
       "      <td>NaN</td>\n",
       "      <td>13.70</td>\n",
       "      <td>93.7</td>\n",
       "      <td>32866649</td>\n",
       "      <td>3.225254</td>\n",
       "      <td>2007-03-20</td>\n",
       "      <td>2003-12-28</td>\n",
       "      <td>13.0</td>\n",
       "      <td>False</td>\n",
       "    </tr>\n",
       "    <tr>\n",
       "      <th>3538</th>\n",
       "      <td>61202015</td>\n",
       "      <td>False</td>\n",
       "      <td>6</td>\n",
       "      <td>5.5</td>\n",
       "      <td>plain</td>\n",
       "      <td>NaN</td>\n",
       "      <td>20.70</td>\n",
       "      <td>112.6</td>\n",
       "      <td>32926387</td>\n",
       "      <td>6.319089</td>\n",
       "      <td>2006-12-02</td>\n",
       "      <td>2000-08-07</td>\n",
       "      <td>17.0</td>\n",
       "      <td>False</td>\n",
       "    </tr>\n",
       "    <tr>\n",
       "      <th>...</th>\n",
       "      <td>...</td>\n",
       "      <td>...</td>\n",
       "      <td>...</td>\n",
       "      <td>...</td>\n",
       "      <td>...</td>\n",
       "      <td>...</td>\n",
       "      <td>...</td>\n",
       "      <td>...</td>\n",
       "      <td>...</td>\n",
       "      <td>...</td>\n",
       "      <td>...</td>\n",
       "      <td>...</td>\n",
       "      <td>...</td>\n",
       "      <td>...</td>\n",
       "    </tr>\n",
       "    <tr>\n",
       "      <th>45013</th>\n",
       "      <td>221115142</td>\n",
       "      <td>True</td>\n",
       "      <td>0</td>\n",
       "      <td>3.0</td>\n",
       "      <td>plain</td>\n",
       "      <td>NaN</td>\n",
       "      <td>5.20</td>\n",
       "      <td>NaN</td>\n",
       "      <td>80936547</td>\n",
       "      <td>0.093089</td>\n",
       "      <td>2022-11-15</td>\n",
       "      <td>2022-10-12</td>\n",
       "      <td>10.0</td>\n",
       "      <td>True</td>\n",
       "    </tr>\n",
       "    <tr>\n",
       "      <th>45026</th>\n",
       "      <td>221121132</td>\n",
       "      <td>True</td>\n",
       "      <td>0</td>\n",
       "      <td>3.5</td>\n",
       "      <td>plain</td>\n",
       "      <td>NaN</td>\n",
       "      <td>2.01</td>\n",
       "      <td>43.5</td>\n",
       "      <td>80941176</td>\n",
       "      <td>0.008214</td>\n",
       "      <td>2022-11-21</td>\n",
       "      <td>2022-11-18</td>\n",
       "      <td>9.0</td>\n",
       "      <td>True</td>\n",
       "    </tr>\n",
       "    <tr>\n",
       "      <th>45056</th>\n",
       "      <td>221128120</td>\n",
       "      <td>True</td>\n",
       "      <td>8</td>\n",
       "      <td>5.5</td>\n",
       "      <td>plain</td>\n",
       "      <td>NaN</td>\n",
       "      <td>28.00</td>\n",
       "      <td>137.0</td>\n",
       "      <td>80951685</td>\n",
       "      <td>8.972121</td>\n",
       "      <td>2022-11-28</td>\n",
       "      <td>2013-12-08</td>\n",
       "      <td>17.0</td>\n",
       "      <td>True</td>\n",
       "    </tr>\n",
       "    <tr>\n",
       "      <th>45061</th>\n",
       "      <td>221128135</td>\n",
       "      <td>True</td>\n",
       "      <td>0</td>\n",
       "      <td>3.5</td>\n",
       "      <td>plain</td>\n",
       "      <td>NaN</td>\n",
       "      <td>8.80</td>\n",
       "      <td>NaN</td>\n",
       "      <td>80952075</td>\n",
       "      <td>0.774828</td>\n",
       "      <td>2022-11-28</td>\n",
       "      <td>2022-02-18</td>\n",
       "      <td>11.0</td>\n",
       "      <td>True</td>\n",
       "    </tr>\n",
       "    <tr>\n",
       "      <th>45066</th>\n",
       "      <td>221130142</td>\n",
       "      <td>False</td>\n",
       "      <td>0</td>\n",
       "      <td>3.5</td>\n",
       "      <td>plain</td>\n",
       "      <td>NaN</td>\n",
       "      <td>6.10</td>\n",
       "      <td>NaN</td>\n",
       "      <td>80955447</td>\n",
       "      <td>0.257363</td>\n",
       "      <td>2022-11-30</td>\n",
       "      <td>2022-08-28</td>\n",
       "      <td>10.5</td>\n",
       "      <td>True</td>\n",
       "    </tr>\n",
       "  </tbody>\n",
       "</table>\n",
       "<p>30954 rows × 14 columns</p>\n",
       "</div>"
      ],
      "text/plain": [
       "            opid    sex  age  airway_tube_size airway_tube_type  airway_lma  \\\n",
       "452     51021078   True    9               6.0            plain         NaN   \n",
       "4981    70516098   True    9               6.0            plain         NaN   \n",
       "265     50926071   True    1               4.0            plain         NaN   \n",
       "4440    70320109   True    3               5.0            plain         NaN   \n",
       "3538    61202015  False    6               5.5            plain         NaN   \n",
       "...          ...    ...  ...               ...              ...         ...   \n",
       "45013  221115142   True    0               3.0            plain         NaN   \n",
       "45026  221121132   True    0               3.5            plain         NaN   \n",
       "45056  221128120   True    8               5.5            plain         NaN   \n",
       "45061  221128135   True    0               3.5            plain         NaN   \n",
       "45066  221130142  False    0               3.5            plain         NaN   \n",
       "\n",
       "       weight  height       hid   age_cal     opdate birth_date  fixed  cuffed  \n",
       "452     25.60     NaN  28767471  9.686715 2005-10-21 1996-02-13   18.0    True  \n",
       "4981    30.75   138.7  31787286  9.048783 2007-05-16 1998-04-28   17.5    True  \n",
       "265      9.52    76.2  32851027  1.486684 2005-09-26 2004-04-01   12.0   False  \n",
       "4440    13.70    93.7  32866649  3.225254 2007-03-20 2003-12-28   13.0   False  \n",
       "3538    20.70   112.6  32926387  6.319089 2006-12-02 2000-08-07   17.0   False  \n",
       "...       ...     ...       ...       ...        ...        ...    ...     ...  \n",
       "45013    5.20     NaN  80936547  0.093089 2022-11-15 2022-10-12   10.0    True  \n",
       "45026    2.01    43.5  80941176  0.008214 2022-11-21 2022-11-18    9.0    True  \n",
       "45056   28.00   137.0  80951685  8.972121 2022-11-28 2013-12-08   17.0    True  \n",
       "45061    8.80     NaN  80952075  0.774828 2022-11-28 2022-02-18   11.0    True  \n",
       "45066    6.10     NaN  80955447  0.257363 2022-11-30 2022-08-28   10.5    True  \n",
       "\n",
       "[30954 rows x 14 columns]"
      ]
     },
     "execution_count": 7,
     "metadata": {},
     "output_type": "execute_result"
    }
   ],
   "source": [
    "df"
   ]
  },
  {
   "cell_type": "code",
   "execution_count": 27,
   "id": "b2c25913-6dc0-4236-8a8a-08f172bab6b4",
   "metadata": {
    "execution": {
     "iopub.execute_input": "2023-07-17T04:55:36.758853Z",
     "iopub.status.busy": "2023-07-17T04:55:36.758285Z",
     "iopub.status.idle": "2023-07-17T04:55:39.021360Z",
     "shell.execute_reply": "2023-07-17T04:55:39.020816Z",
     "shell.execute_reply.started": "2023-07-17T04:55:36.758796Z"
    },
    "tags": []
   },
   "outputs": [
    {
     "name": "stderr",
     "output_type": "stream",
     "text": [
      "100%|██████████| 30954/30954 [00:02<00:00, 13747.83it/s]\n"
     ]
    }
   ],
   "source": [
    "from tqdm import tqdm\n",
    "\n",
    "# 2005 ~ 2022\n",
    "yrs_cuffed, yrs_uncuffed = np.zeros(18), np.zeros(18)\n",
    "\n",
    "for idx, row in tqdm(df.iterrows(), total=df.shape[0]):\n",
    "    if row['cuffed']:\n",
    "        yrs_cuffed[row['opdate'].year - 2005] += 1\n",
    "    else:\n",
    "        yrs_uncuffed[row['opdate'].year - 2005] += 1"
   ]
  },
  {
   "cell_type": "code",
   "execution_count": 30,
   "id": "81d314f9-8fd8-4396-ba86-0971ae65ddde",
   "metadata": {
    "execution": {
     "iopub.execute_input": "2023-07-17T04:56:32.299377Z",
     "iopub.status.busy": "2023-07-17T04:56:32.298910Z",
     "iopub.status.idle": "2023-07-17T04:56:32.589476Z",
     "shell.execute_reply": "2023-07-17T04:56:32.588846Z",
     "shell.execute_reply.started": "2023-07-17T04:56:32.299327Z"
    },
    "tags": []
   },
   "outputs": [
    {
     "data": {
      "image/png": "[encoded data removed]",
      "text/plain": [
       "<Figure size 720x360 with 1 Axes>"
      ]
     },
     "metadata": {
      "needs_background": "light"
     },
     "output_type": "display_data"
    }
   ],
   "source": [
    "import matplotlib.pyplot as plt\n",
    "\n",
    "w = 0.3\n",
    "idx = np.arange(18)\n",
    "\n",
    "plt.figure(figsize=(10,5))\n",
    "plt.title('cuffed / uncuffed ETT used during study periods (2005-2022)')\n",
    "plt.bar(idx-w/2, yrs_cuffed, width = w, label='cuffed')\n",
    "plt.bar(idx+w/2, yrs_uncuffed, width = w, label='uncuffed')\n",
    "plt.xticks(idx, np.arange(2005,2023), rotation=20)\n",
    "plt.legend()\n",
    "plt.show()"
   ]
  },
  {
   "cell_type": "markdown",
   "id": "c634e054-c84a-4cff-aa76-a4f1b3373648",
   "metadata": {
    "jp-MarkdownHeadingCollapsed": true,
    "tags": []
   },
   "source": [
    "# COMMENT 0-4 (round down vs rounded off)"
   ]
  },
  {
   "cell_type": "code",
   "execution_count": 1,
   "id": "b1d6d1fe-af05-414b-8002-215d8523a7d3",
   "metadata": {
    "execution": {
     "iopub.execute_input": "2023-07-23T01:33:59.845471Z",
     "iopub.status.busy": "2023-07-23T01:33:59.844820Z",
     "iopub.status.idle": "2023-07-23T01:34:01.292069Z",
     "shell.execute_reply": "2023-07-23T01:34:01.291525Z",
     "shell.execute_reply.started": "2023-07-23T01:33:59.845322Z"
    },
    "tags": []
   },
   "outputs": [
    {
     "name": "stdout",
     "output_type": "stream",
     "text": [
      "x_train: (24764, 5), x_test: (6190, 5)\n",
      "x_train: (24764, 4), x_test: (6190, 4)\n"
     ]
    }
   ],
   "source": [
    "from sklearn.model_selection import GridSearchCV, RandomizedSearchCV\n",
    "from sklearn.metrics import explained_variance_score, mean_squared_error, mean_absolute_error, r2_score\n",
    "from sklearn.utils import shuffle\n",
    "import pandas as pd\n",
    "import xgboost as xgb\n",
    "import numpy as np\n",
    "import random, os, datetime, pickle\n",
    "import scipy, csv, math\n",
    "import matplotlib.pyplot as plt\n",
    "\n",
    "dat = np.load(f'dataset/ETT_size-outliers3.npz')\n",
    "#df = pickle.load(open('dataset/df-outliers3', 'rb'))\n",
    "x, y = dat['x'], dat['y']\n",
    "y_old  = dat['y_old']\n",
    "\n",
    "# training set의 뒤쪽 20%를 test set 으로 사용 (이미 shuffle된 상태)\n",
    "nsamp = len(y)\n",
    "ntest = int(nsamp * 0.2)\n",
    "ntrain = nsamp - ntest\n",
    "x_test = x[-ntest:, :]\n",
    "y_test = y[-ntest:]\n",
    "y_test_old = y_old[-ntest:]\n",
    "x_train = x[:ntrain, :]\n",
    "y_train = y[:ntrain]\n",
    "\n",
    "print(f'x_train: {(x_train).shape}, x_test: {x_test.shape}')\n",
    "\n",
    "\n",
    "# input: age, weight, height, cuff\n",
    "x_train = np.concatenate((x_train[:,0:1], x_train[:,2:5]),axis=-1)\n",
    "x_test = np.concatenate((x_test[:,0:1], x_test[:,2:5]),axis=-1)\n",
    "\n",
    "print(f'x_train: {x_train.shape}, x_test: {x_test.shape}')"
   ]
  },
  {
   "cell_type": "code",
   "execution_count": 6,
   "id": "702dea1e-9350-483d-9cf7-cd831f0b8cc5",
   "metadata": {
    "execution": {
     "iopub.execute_input": "2023-07-21T03:31:09.467312Z",
     "iopub.status.busy": "2023-07-21T03:31:09.466810Z",
     "iopub.status.idle": "2023-07-21T03:31:09.474031Z",
     "shell.execute_reply": "2023-07-21T03:31:09.472701Z",
     "shell.execute_reply.started": "2023-07-21T03:31:09.467251Z"
    },
    "tags": []
   },
   "outputs": [],
   "source": [
    "def evaluation(y, y_test):\n",
    "    print(f'acc1 {np.mean(y == y_test)*100:.3f}, acc3 {np.mean((y >= y_test-0.5) & (y <= y_test+0.5))*100:.3f}')\n",
    "    return None\n",
    "    #return np.mean(y_xgbr_o == y_test), np.mean((y_xgbr_o >= y_test-0.5) & (y_xgbr <= y_test+0.5))"
   ]
  },
  {
   "cell_type": "code",
   "execution_count": 7,
   "id": "416ddcc4-8c32-4243-81aa-432044f99869",
   "metadata": {
    "execution": {
     "iopub.execute_input": "2023-07-21T03:31:10.785823Z",
     "iopub.status.busy": "2023-07-21T03:31:10.785338Z",
     "iopub.status.idle": "2023-07-21T03:31:11.615792Z",
     "shell.execute_reply": "2023-07-21T03:31:11.614981Z",
     "shell.execute_reply.started": "2023-07-21T03:31:10.785766Z"
    },
    "tags": []
   },
   "outputs": [
    {
     "name": "stdout",
     "output_type": "stream",
     "text": [
      "###xgbr model###\n",
      "rounded off:\n",
      "acc1 62.165, acc3 98.142\n",
      "round down:\n",
      "acc1 50.307, acc3 94.814\n",
      "###rfr model###\n"
     ]
    },
    {
     "name": "stderr",
     "output_type": "stream",
     "text": [
      "/home/painstudy/anaconda3/envs/numbaenv/lib/python3.6/site-packages/xgboost/sklearn.py:605: UserWarning: Loading a native XGBoost model with Scikit-Learn interface.\n",
      "  'Loading a native XGBoost model with Scikit-Learn interface.'\n",
      "/home/painstudy/anaconda3/envs/numbaenv/lib/python3.6/site-packages/sklearn/base.py:315: UserWarning: Trying to unpickle estimator DecisionTreeRegressor from version 1.0.2 when using version 0.24.2. This might lead to breaking code or invalid results. Use at your own risk.\n",
      "  UserWarning)\n",
      "/home/painstudy/anaconda3/envs/numbaenv/lib/python3.6/site-packages/sklearn/base.py:315: UserWarning: Trying to unpickle estimator RandomForestRegressor from version 1.0.2 when using version 0.24.2. This might lead to breaking code or invalid results. Use at your own risk.\n",
      "  UserWarning)\n",
      "/home/painstudy/anaconda3/envs/numbaenv/lib/python3.6/site-packages/sklearn/base.py:315: UserWarning: Trying to unpickle estimator GridSearchCV from version 1.0.2 when using version 0.24.2. This might lead to breaking code or invalid results. Use at your own risk.\n",
      "  UserWarning)\n"
     ]
    },
    {
     "name": "stdout",
     "output_type": "stream",
     "text": [
      "rounded off:\n",
      "acc1 60.565, acc3 98.029\n",
      "round down:\n",
      "acc1 50.840, acc3 94.540\n",
      "###lr model###\n",
      "rounded off:\n",
      "acc1 58.772, acc3 97.415\n",
      "round down:\n",
      "acc1 45.073, acc3 93.473\n"
     ]
    },
    {
     "name": "stderr",
     "output_type": "stream",
     "text": [
      "/home/painstudy/anaconda3/envs/numbaenv/lib/python3.6/site-packages/sklearn/base.py:315: UserWarning: Trying to unpickle estimator LinearRegression from version 1.0.2 when using version 0.24.2. This might lead to breaking code or invalid results. Use at your own risk.\n",
      "  UserWarning)\n"
     ]
    }
   ],
   "source": [
    "from scipy.stats import chi2_contingency\n",
    "from scipy import stats\n",
    "from sklearn.experimental import enable_iterative_imputer\n",
    "from sklearn.impute import IterativeImputer\n",
    "\n",
    "# traditional formula\n",
    "y1_trad = y_test_old == y_test\n",
    "y2_trad = (y_test_old >= y_test-0.5) & (y_test_old <= y_test+0.5)\n",
    "cuff_mask = x_test[:,3]==1\n",
    "y1_cuff, y2_cuff = y1_trad[cuff_mask], y2_trad[cuff_mask]\n",
    "y1_uncuff, y2_uncuff = y1_trad[~cuff_mask], y2_trad[~cuff_mask]\n",
    "\n",
    "# xgbr model\n",
    "print('###xgbr model###')\n",
    "xgbr = xgb.XGBRegressor()\n",
    "xgbr.load_model('result/outliers+w+h/size/acc1-0.622_acc3-0.981_XGBR_4inputs_10fold/model.model')\n",
    "y_xgbr = xgbr.predict(x_test)\n",
    "print('rounded off:')\n",
    "y_xgbr_o = np.round(y_xgbr * 2) / 2\n",
    "evaluation(y_xgbr_o, y_test)\n",
    "print('round down:')\n",
    "y_xgbr_d = np.floor(y_xgbr * 2) / 2\n",
    "evaluation(y_xgbr_d, y_test)\n",
    "\n",
    "\n",
    "# RF model\n",
    "print('###rfr model###')\n",
    "imp = IterativeImputer().fit(x_train)\n",
    "x_train_imputed = imp.transform(x_train)\n",
    "x_test_imputed = imp.transform(x_test)\n",
    "\n",
    "rfr = pickle.load(open(f'result/outliers+w+h/size/acc1-0.606_acc3-0.980_RF_4inputs_10fold/gridSearch','rb'))\n",
    "y_rfr = rfr.predict(x_test_imputed).flatten()\n",
    "y_rfr_o = np.round(y_rfr * 2) / 2\n",
    "print('rounded off:')\n",
    "evaluation(y_rfr_o, y_test)\n",
    "print('round down:')\n",
    "y_rfr_d = np.floor(y_rfr * 2) / 2\n",
    "evaluation(y_rfr_d, y_test)  \n",
    "      \n",
    "\n",
    "# LR model\n",
    "print('###lr model###')\n",
    "lr = pickle.load(open(f'result/outliers+w+h/size/acc1-0.588_acc3-0.974_LR_4inputs/model','rb'))\n",
    "y_lr = lr.predict(x_test_imputed)\n",
    "print('rounded off:')\n",
    "y_lr_o = np.round(y_lr * 2) / 2\n",
    "evaluation(y_lr_o, y_test)\n",
    "print('round down:')\n",
    "y_lr_d = np.floor(y_lr * 2) / 2\n",
    "evaluation(y_lr_d, y_test)  "
   ]
  },
  {
   "cell_type": "markdown",
   "id": "a60734e5-ceba-4423-ada2-b0452f85353f",
   "metadata": {},
   "source": [
    "# COMMENT 0-2 : seperate models by tube type"
   ]
  },
  {
   "cell_type": "code",
   "execution_count": 81,
   "id": "6d8aa37c-f698-4d7b-b6ef-c1c4fca7cf4c",
   "metadata": {
    "execution": {
     "iopub.execute_input": "2023-07-31T11:25:36.347704Z",
     "iopub.status.busy": "2023-07-31T11:25:36.347308Z",
     "iopub.status.idle": "2023-07-31T11:25:36.354399Z",
     "shell.execute_reply": "2023-07-31T11:25:36.353637Z",
     "shell.execute_reply.started": "2023-07-31T11:25:36.347664Z"
    },
    "tags": []
   },
   "outputs": [
    {
     "name": "stdout",
     "output_type": "stream",
     "text": [
      "x_train: (24764, 4), x_test: (6190, 4)\n"
     ]
    }
   ],
   "source": [
    "# input: age, weight, height, cuff\n",
    "x_train = np.concatenate((x_train[:,0:1], x_train[:,2:5]),axis=-1)\n",
    "x_test = np.concatenate((x_test[:,0:1], x_test[:,2:5]),axis=-1)\n",
    "\n",
    "print(f'x_train: {x_train.shape}, x_test: {x_test.shape}')"
   ]
  },
  {
   "cell_type": "code",
   "execution_count": 82,
   "id": "63d0eee9-59b4-4826-832a-911ac9face18",
   "metadata": {
    "execution": {
     "iopub.execute_input": "2023-07-31T11:25:37.730835Z",
     "iopub.status.busy": "2023-07-31T11:25:37.730373Z",
     "iopub.status.idle": "2023-07-31T11:25:37.883953Z",
     "shell.execute_reply": "2023-07-31T11:25:37.883318Z",
     "shell.execute_reply.started": "2023-07-31T11:25:37.730789Z"
    },
    "tags": []
   },
   "outputs": [
    {
     "name": "stdout",
     "output_type": "stream",
     "text": [
      "x_train: (24764, 4), x_test: (6190, 4)\n"
     ]
    }
   ],
   "source": [
    "from sklearn.experimental import enable_iterative_imputer\n",
    "from sklearn.impute import IterativeImputer\n",
    "\n",
    "\n",
    "imp = IterativeImputer().fit(x_train)\n",
    "x_train = imp.transform(x_train)\n",
    "x_test = imp.transform(x_test)\n",
    "\n",
    "print(f'x_train: {x_train.shape}, x_test: {x_test.shape}')"
   ]
  },
  {
   "cell_type": "markdown",
   "id": "c12f127a-cbd8-4876-a745-8a56252751bb",
   "metadata": {},
   "source": [
    "## Uncuffed model"
   ]
  },
  {
   "cell_type": "code",
   "execution_count": 83,
   "id": "7b487cfc-4605-43a3-9654-5c3cdfe0cc9a",
   "metadata": {
    "execution": {
     "iopub.execute_input": "2023-07-31T11:25:39.717505Z",
     "iopub.status.busy": "2023-07-31T11:25:39.717060Z",
     "iopub.status.idle": "2023-07-31T11:25:39.727004Z",
     "shell.execute_reply": "2023-07-31T11:25:39.726057Z",
     "shell.execute_reply.started": "2023-07-31T11:25:39.717460Z"
    },
    "tags": []
   },
   "outputs": [
    {
     "name": "stdout",
     "output_type": "stream",
     "text": [
      "X_train: (17816, 3), X_test: (4427, 3)\n"
     ]
    }
   ],
   "source": [
    "mask = (x_train[:,3] == 0)\n",
    "X_train = x_train[mask][:,:3]\n",
    "Y_train = y_train[mask]\n",
    "\n",
    "mask = (x_test[:,3] == 0)\n",
    "X_test = x_test[mask][:,:3]\n",
    "Y_test = y_test[mask]\n",
    "\n",
    "Y_test_old = y_test_old[mask]\n",
    "print(f'X_train: {X_train.shape}, X_test: {X_test.shape}')"
   ]
  },
  {
   "cell_type": "markdown",
   "id": "8ca6f862-b4b1-46fa-aca2-f74932fdbdf8",
   "metadata": {},
   "source": [
    "### Traditional"
   ]
  },
  {
   "cell_type": "code",
   "execution_count": 22,
   "id": "4d588102-dea9-41c0-a68b-2d1365ce278c",
   "metadata": {
    "execution": {
     "iopub.execute_input": "2023-07-26T01:20:11.884990Z",
     "iopub.status.busy": "2023-07-26T01:20:11.884416Z",
     "iopub.status.idle": "2023-07-26T01:20:11.924607Z",
     "shell.execute_reply": "2023-07-26T01:20:11.923784Z",
     "shell.execute_reply.started": "2023-07-26T01:20:11.884933Z"
    },
    "tags": []
   },
   "outputs": [
    {
     "name": "stdout",
     "output_type": "stream",
     "text": [
      "--------------\n",
      "old model(traditional) = age/4+4 (uncuffed)\n",
      "--------------\n",
      "explained_variance_score: 0.819\n",
      "mean_squared_errors: 0.302\n",
      "mean_absolute_errors: 0.444\n",
      "r2_score: 0.660\n",
      "acc: 0.273\n",
      "acc(+-0.5mm): 0.840\n",
      "macro f1: 0.206\n"
     ]
    }
   ],
   "source": [
    "print('--------------')\n",
    "print('old model(traditional) = age/4+4 (uncuffed)')\n",
    "print('--------------')\n",
    "print(f'explained_variance_score: {explained_variance_score(Y_test, Y_test_old):.3f}')\n",
    "print(f'mean_squared_errors: {mean_squared_error(Y_test, Y_test_old):.3f}')\n",
    "print(f'mean_absolute_errors: {mean_absolute_error(Y_test, Y_test_old):.3f}')\n",
    "print(f'r2_score: {r2_score(Y_test, Y_test_old):.3f}')\n",
    "\n",
    "# accuracY\n",
    "acc1 = np.mean(Y_test_old==Y_test)\n",
    "acc3 = np.mean((Y_test_old >= Y_test-0.5) & (Y_test_old <= Y_test+0.5))\n",
    "print(f'acc: {acc1:.3f}')\n",
    "print(f'acc(+-0.5mm): {acc3:.3f}')\n",
    "\n",
    "# F1 score\n",
    "yl_test = np.array([f'{i}' for i in Y_test])\n",
    "yl_pred_old = np.array([f'{i}' for i in Y_test_old])\n",
    "f1 = f1_score(yl_test, yl_pred_old, average='macro')\n",
    "print(f'macro f1: {f1:.3f}')"
   ]
  },
  {
   "cell_type": "code",
   "execution_count": 56,
   "id": "18ac9a24-f429-4e5a-8aae-0dc26da2cd0c",
   "metadata": {
    "execution": {
     "iopub.execute_input": "2023-07-26T03:00:48.309906Z",
     "iopub.status.busy": "2023-07-26T03:00:48.309356Z",
     "iopub.status.idle": "2023-07-26T03:00:51.215032Z",
     "shell.execute_reply": "2023-07-26T03:00:51.214462Z",
     "shell.execute_reply.started": "2023-07-26T03:00:48.309854Z"
    },
    "tags": []
   },
   "outputs": [
    {
     "name": "stdout",
     "output_type": "stream",
     "text": [
      "--------------\n",
      "old model() = age/4+4 (uncuffed)\n",
      "--------------\n",
      "acc: 0.273+-0.013 -> 0.260 ~ 0.286\n",
      "acc(+-0.5mm): 0.841+-0.010 -> 0.831 ~ 0.851 \n",
      "macro f1: 0.206+-0.010 -> 0.196 ~ 0.216\n"
     ]
    }
   ],
   "source": [
    "cuff_mask = x_test[:,3]==0\n",
    "y_test_old1 = y_test_old \n",
    "\n",
    "y1_trads, y2_trads, f1_lrs = [], [], []\n",
    "\n",
    "print('--------------')\n",
    "print('old model() = age/4+4 (uncuffed)')\n",
    "print('--------------')\n",
    "\n",
    "for i in range(200):\n",
    "    mask = np.array([random.randint(0,1)==1 for j in range(len(x_test[cuff_mask]))])\n",
    "    Xg_test = (x_test[cuff_mask])[mask]\n",
    "    Yg_test = (y_test[cuff_mask])[mask]\n",
    "    \n",
    "    y_trad = (y_test_old1[cuff_mask])[mask]\n",
    "    y_trad = np.round(y_trad * 2) / 2\n",
    "    y1_trads.append(np.mean(y_trad == Yg_test))\n",
    "    y2_trads.append(np.mean((y_trad >= Yg_test-0.5) & (y_trad <= Yg_test+0.5)))\n",
    "    \n",
    "    yl_test = np.array([f'{i}' for i in Yg_test])\n",
    "    yl_pred = np.array([f'{i}' for i in y_trad])\n",
    "    f1_lrs.append(f1_score(yl_test, yl_pred, average='macro'))\n",
    "    \n",
    "    \n",
    "print(f'acc: {np.mean(y1_trads):.3f}+-{1.96*np.std(y1_trads):.3f} -> {np.mean(y1_trads)-1.96*np.std(y1_trads):.3f} ~ {np.mean(y1_trads)+1.96*np.std(y1_trads):.3f}')\n",
    "print(f'acc(+-0.5mm): {np.mean(y2_trads):.3f}+-{1.96*np.std(y2_trads):.3f} -> {np.mean(y2_trads)-1.96*np.std(y2_trads):.3f} ~ {np.mean(y2_trads)+1.96*np.std(y2_trads):.3f} ')\n",
    "print(f'macro f1: {np.mean(f1_lrs):.3f}+-{1.96*np.std(f1_lrs):.3f} -> {np.mean(f1_lrs)-1.96*np.std(f1_lrs):.3f} ~ {np.mean(f1_lrs)+1.96*np.std(f1_lrs):.3f}')"
   ]
  },
  {
   "cell_type": "code",
   "execution_count": 87,
   "id": "90a02320-f099-4e0e-b4c7-d26d70bb3839",
   "metadata": {
    "execution": {
     "iopub.execute_input": "2023-07-31T11:27:00.809380Z",
     "iopub.status.busy": "2023-07-31T11:27:00.809033Z",
     "iopub.status.idle": "2023-07-31T11:27:17.753746Z",
     "shell.execute_reply": "2023-07-31T11:27:17.753069Z",
     "shell.execute_reply.started": "2023-07-31T11:27:00.809349Z"
    },
    "tags": []
   },
   "outputs": [
    {
     "name": "stdout",
     "output_type": "stream",
     "text": [
      "acc: 0.273+-0.013 -> 0.260 ~ 0.286\n",
      "acc(+-0.5mm): 0.840+-0.011 -> 0.830 ~ 0.851 \n",
      "macro f1: 0.206+-0.010 -> 0.196 ~ 0.216\n"
     ]
    }
   ],
   "source": [
    "# get length of test data\n",
    "total = len(X_test)\n",
    "y1_trads, y2_trads, f1_lrs = [], [], []\n",
    "\n",
    "runs = 10000\n",
    "for i in range(runs):\n",
    "    # sample random indexes with replacement\n",
    "    ind = np.random.randint(total, size=total)\n",
    "    \n",
    "    boot_x = X_test[ind]\n",
    "    boot_y = Y_test[ind]\n",
    "    \n",
    "    y_trad = Y_test_old[ind]\n",
    "    y_trad = np.round(y_trad * 2) / 2\n",
    "    y1_trads.append(np.mean(y_trad == boot_y))\n",
    "    y2_trads.append(np.mean((y_trad >= boot_y-0.5) & (y_trad <= boot_y+0.5)))\n",
    "    \n",
    "    yl_test = np.array([f'{i}' for i in boot_y])\n",
    "    yl_pred = np.array([f'{i}' for i in y_trad])\n",
    "    f1_lrs.append(f1_score(yl_test, yl_pred, average='macro'))\n",
    "    \n",
    "    \n",
    "print(f'acc: {np.mean(y1_trads):.3f}+-{1.96*np.std(y1_trads):.3f} -> {np.mean(y1_trads)-1.96*np.std(y1_trads):.3f} ~ {np.mean(y1_trads)+1.96*np.std(y1_trads):.3f}')\n",
    "print(f'acc(+-0.5mm): {np.mean(y2_trads):.3f}+-{1.96*np.std(y2_trads):.3f} -> {np.mean(y2_trads)-1.96*np.std(y2_trads):.3f} ~ {np.mean(y2_trads)+1.96*np.std(y2_trads):.3f} ')\n",
    "print(f'macro f1: {np.mean(f1_lrs):.3f}+-{1.96*np.std(f1_lrs):.3f} -> {np.mean(f1_lrs)-1.96*np.std(f1_lrs):.3f} ~ {np.mean(f1_lrs)+1.96*np.std(f1_lrs):.3f}')"
   ]
  },
  {
   "cell_type": "code",
   "execution_count": 57,
   "id": "a5cd248b-035c-4bf6-ad20-e60bc57fbb73",
   "metadata": {
    "execution": {
     "iopub.execute_input": "2023-07-26T03:04:44.966753Z",
     "iopub.status.busy": "2023-07-26T03:04:44.966193Z",
     "iopub.status.idle": "2023-07-26T03:04:47.801463Z",
     "shell.execute_reply": "2023-07-26T03:04:47.800837Z",
     "shell.execute_reply.started": "2023-07-26T03:04:44.966696Z"
    },
    "tags": []
   },
   "outputs": [
    {
     "name": "stdout",
     "output_type": "stream",
     "text": [
      "--------------\n",
      "old model(Penlington) = age/4+4.5 (uncuffed)\n",
      "--------------\n",
      "acc: 0.501+-0.014 -> 0.487 ~ 0.516\n",
      "acc(+-0.5mm): 0.933+-0.007 -> 0.925 ~ 0.940 \n",
      "macro f1: 0.407+-0.012 -> 0.395 ~ 0.419\n"
     ]
    }
   ],
   "source": [
    "cuff_mask = x_test[:,3]==0\n",
    "y_test_old1 = y_test_old + 0.5\n",
    "\n",
    "y1_trads, y2_trads, f1_lrs = [], [], []\n",
    "\n",
    "print('--------------')\n",
    "print('old model(Penlington) = age/4+4.5 (uncuffed)')\n",
    "print('--------------')\n",
    "\n",
    "for i in range(200):\n",
    "    mask = np.array([random.randint(0,1)==1 for j in range(len(x_test[cuff_mask]))])\n",
    "    Xg_test = (x_test[cuff_mask])[mask]\n",
    "    Yg_test = (y_test[cuff_mask])[mask]\n",
    "    \n",
    "    y_trad = (y_test_old1[cuff_mask])[mask]\n",
    "    y_trad = np.round(y_trad * 2) / 2\n",
    "    y1_trads.append(np.mean(y_trad == Yg_test))\n",
    "    y2_trads.append(np.mean((y_trad >= Yg_test-0.5) & (y_trad <= Yg_test+0.5)))\n",
    "    \n",
    "    yl_test = np.array([f'{i}' for i in Yg_test])\n",
    "    yl_pred = np.array([f'{i}' for i in y_trad])\n",
    "    f1_lrs.append(f1_score(yl_test, yl_pred, average='macro'))\n",
    "    \n",
    "    \n",
    "print(f'acc: {np.mean(y1_trads):.3f}+-{1.96*np.std(y1_trads):.3f} -> {np.mean(y1_trads)-1.96*np.std(y1_trads):.3f} ~ {np.mean(y1_trads)+1.96*np.std(y1_trads):.3f}')\n",
    "print(f'acc(+-0.5mm): {np.mean(y2_trads):.3f}+-{1.96*np.std(y2_trads):.3f} -> {np.mean(y2_trads)-1.96*np.std(y2_trads):.3f} ~ {np.mean(y2_trads)+1.96*np.std(y2_trads):.3f} ')\n",
    "print(f'macro f1: {np.mean(f1_lrs):.3f}+-{1.96*np.std(f1_lrs):.3f} -> {np.mean(f1_lrs)-1.96*np.std(f1_lrs):.3f} ~ {np.mean(f1_lrs)+1.96*np.std(f1_lrs):.3f}')"
   ]
  },
  {
   "cell_type": "markdown",
   "id": "36f3642f-7206-4969-8e57-fa65100f2020",
   "metadata": {},
   "source": [
    "### LR"
   ]
  },
  {
   "cell_type": "code",
   "execution_count": 23,
   "id": "2ac632c9-3b6f-4120-a44b-65fb25a7940e",
   "metadata": {
    "execution": {
     "iopub.execute_input": "2023-07-26T01:22:30.575216Z",
     "iopub.status.busy": "2023-07-26T01:22:30.574693Z",
     "iopub.status.idle": "2023-07-26T01:22:30.621577Z",
     "shell.execute_reply": "2023-07-26T01:22:30.620791Z",
     "shell.execute_reply.started": "2023-07-26T01:22:30.575157Z"
    },
    "tags": []
   },
   "outputs": [
    {
     "name": "stdout",
     "output_type": "stream",
     "text": [
      "선형회귀 모델: 기울기 [ 0.0696367  -0.00697003  0.03315853], 절편 1.676\n",
      "--------------\n",
      "linear regression model\n",
      "--------------\n",
      "explained_variance_score: 0.858\n",
      "mean_squared_errors: 0.126\n",
      "mean_absolute_errors: 0.228\n",
      "r2_score: 0.858\n",
      "acc: 0.569\n",
      "acc(+-0.5mm): 0.976\n",
      "macro f1: 0.484\n"
     ]
    }
   ],
   "source": [
    "from sklearn.linear_model import LinearRegression\n",
    "from sklearn.metrics import f1_score\n",
    "\n",
    "lin_model = LinearRegression()\n",
    "lin_model.fit(X_train, Y_train)\n",
    "y_pred = lin_model.predict(X_test)\n",
    "y_pred = np.round(y_pred * 2) / 2\n",
    "\n",
    "\n",
    "print(f'선형회귀 모델: 기울기 {lin_model.coef_}, 절편 {lin_model.intercept_:.3f}')\n",
    "print('--------------')\n",
    "print('linear regression model')\n",
    "print('--------------')\n",
    "print(f'explained_variance_score: {explained_variance_score(Y_test, y_pred):.3f}')\n",
    "print(f'mean_squared_errors: {mean_squared_error(Y_test, y_pred):.3f}')\n",
    "print(f'mean_absolute_errors: {mean_absolute_error(Y_test, y_pred):.3f}')\n",
    "print(f'r2_score: {r2_score(Y_test, y_pred):.3f}')\n",
    "\n",
    "\n",
    "# accuracy\n",
    "acc1 = np.mean(y_pred==Y_test)\n",
    "acc3 = np.mean((y_pred >= Y_test-0.5) & (y_pred <= Y_test+0.5))\n",
    "print(f'acc: {acc1:.3f}')\n",
    "print(f'acc(+-0.5mm): {acc3:.3f}')\n",
    "\n",
    "# F1 score\n",
    "yl_test = np.array([f'{i}' for i in Y_test])\n",
    "yl_pred = np.array([f'{i}' for i in y_pred])\n",
    "f1 = f1_score(yl_test, yl_pred, average='macro')\n",
    "print(f'macro f1: {f1:.3f}')"
   ]
  },
  {
   "cell_type": "code",
   "execution_count": 24,
   "id": "4342f16a-35c9-4e53-88d2-1fc9a5c73cb0",
   "metadata": {
    "execution": {
     "iopub.execute_input": "2023-07-26T01:22:36.901255Z",
     "iopub.status.busy": "2023-07-26T01:22:36.900826Z",
     "iopub.status.idle": "2023-07-26T01:22:36.914582Z",
     "shell.execute_reply": "2023-07-26T01:22:36.913963Z",
     "shell.execute_reply.started": "2023-07-26T01:22:36.901209Z"
    },
    "tags": []
   },
   "outputs": [],
   "source": [
    "# save model\n",
    "odir_f = f'acc1-{acc1:.3f}_acc3-{acc3:.3f}_f1_{f1:.3f}_LR_uncuffed'\n",
    "odir = f'result/revision1/size/{odir_f}'\n",
    "if not os.path.exists(odir):\n",
    "    os.mkdir(odir)\n",
    "\n",
    "# 모델에 대한 정보 txt로 저장\n",
    "pickle.dump(lin_model, open(f'{odir}/model', 'wb'))\n",
    "f = open(f'{odir}/result.txt', 'w')\n",
    "f.write(f'classification model')\n",
    "f.write(f'explained_variance_score: {explained_variance_score(Y_test, y_pred):.3f}')\n",
    "f.write(f'mean_squared_errors: {mean_squared_error(Y_test, y_pred):.3f}')\n",
    "f.write(f'mean_absolute_errors: {mean_absolute_error(Y_test, y_pred):.3f}')\n",
    "f.write(f'r2_score: {r2_score(Y_test, y_pred):.3f}')\n",
    "f.write(f'macro f1 score: {f1}')\n",
    "f.close()"
   ]
  },
  {
   "cell_type": "code",
   "execution_count": 35,
   "id": "a755f880-38ca-4312-b69f-1ea55c725505",
   "metadata": {
    "execution": {
     "iopub.execute_input": "2023-07-26T01:33:51.230759Z",
     "iopub.status.busy": "2023-07-26T01:33:51.230236Z",
     "iopub.status.idle": "2023-07-26T01:33:54.056073Z",
     "shell.execute_reply": "2023-07-26T01:33:54.055446Z",
     "shell.execute_reply.started": "2023-07-26T01:33:51.230704Z"
    },
    "tags": []
   },
   "outputs": [
    {
     "name": "stdout",
     "output_type": "stream",
     "text": [
      "acc: 0.569+-0.014 -> 0.555 ~ 0.583\n",
      "acc(+-0.5mm): 0.976+-0.005 -> 0.971 ~ 0.980 \n",
      "macro f1: 0.484+-0.013 -> 0.471 ~ 0.497\n"
     ]
    }
   ],
   "source": [
    "# test validation\n",
    "lr = pickle.load(open(f'result/revision1/size/acc1-0.569_acc3-0.976_f1_0.484_LR_uncuffed/model','rb'))\n",
    "\n",
    "y1_lrs, y2_lrs = [], []\n",
    "f1_lrs = []\n",
    "for i in range(200):\n",
    "    \n",
    "    mask = np.array([random.randint(0,1)==1 for j in range(len(X_test))])\n",
    "    Xg_test = X_test[mask]\n",
    "    Yg_test = Y_test[mask]\n",
    "    \n",
    "    y_lr = lr.predict(Xg_test)\n",
    "    y_lr = np.round(y_lr * 2) / 2\n",
    "    y1_lrs.append(np.mean(y_lr == Yg_test))\n",
    "    y2_lrs.append(np.mean((y_lr >= Yg_test-0.5) & (y_lr <= Yg_test+0.5)))\n",
    "    \n",
    "    \n",
    "    yl_test = np.array([f'{i}' for i in Yg_test])\n",
    "    yl_pred = np.array([f'{i}' for i in y_lr])\n",
    "    f1_lrs.append(f1_score(yl_test, yl_pred, average='macro'))\n",
    "    \n",
    "print(f'acc: {np.mean(y1_lrs):.3f}+-{1.96*np.std(y1_lrs):.3f} -> {np.mean(y1_lrs)-1.96*np.std(y1_lrs):.3f} ~ {np.mean(y1_lrs)+1.96*np.std(y1_lrs):.3f}')\n",
    "print(f'acc(+-0.5mm): {np.mean(y2_lrs):.3f}+-{1.96*np.std(y2_lrs):.3f} -> {np.mean(y2_lrs)-1.96*np.std(y2_lrs):.3f} ~ {np.mean(y2_lrs)+1.96*np.std(y2_lrs):.3f} ')\n",
    "print(f'macro f1: {np.mean(f1_lrs):.3f}+-{1.96*np.std(f1_lrs):.3f} -> {np.mean(f1_lrs)-1.96*np.std(f1_lrs):.3f} ~ {np.mean(f1_lrs)+1.96*np.std(f1_lrs):.3f}')"
   ]
  },
  {
   "cell_type": "code",
   "execution_count": 139,
   "id": "9593d6bf-8d35-4302-8d1d-5e3c1540eef4",
   "metadata": {
    "execution": {
     "iopub.execute_input": "2023-08-02T02:02:17.859512Z",
     "iopub.status.busy": "2023-08-02T02:02:17.859151Z",
     "iopub.status.idle": "2023-08-02T02:02:17.931539Z",
     "shell.execute_reply": "2023-08-02T02:02:17.930871Z",
     "shell.execute_reply.started": "2023-08-02T02:02:17.859477Z"
    },
    "tags": []
   },
   "outputs": [
    {
     "name": "stdout",
     "output_type": "stream",
     "text": [
      "linear regression model\n",
      "coefficient [0.22224768 0.01024509 0.04033785], intercept 3.510\n",
      "--------------\n",
      "acc: 0.449\n",
      "acc(+-0.5mm): 0.953\n",
      "macro f1: 0.315\n"
     ]
    }
   ],
   "source": [
    "# test set을 recent 20%로 한 경우\n",
    "\n",
    "from sklearn.linear_model import LinearRegression\n",
    "from sklearn.metrics import explained_variance_score, mean_squared_error, mean_absolute_error, r2_score\n",
    "\n",
    "# Create a Linear Regression model for uncuffed endotracheal tube data\n",
    "lr_uncuff = LinearRegression()\n",
    "\n",
    "# Fit the model to the training data\n",
    "lr_uncuff.fit(x_uncuff_train, y_uncuff_train)\n",
    "\n",
    "# Make predictions on the test data using the trained model\n",
    "y_pred = lr_uncuff.predict(x_uncuff_test)\n",
    "\n",
    "# Round the predicted values to the nearest 0.5 mm\n",
    "y_pred = np.round(y_pred * 2) / 2\n",
    "\n",
    "# Print the results for the Linear Regression model\n",
    "print('linear regression model')\n",
    "print(f'coefficient {lr_uncuff.coef_}, intercept {lr_uncuff.intercept_:.3f}')\n",
    "print('--------------')\n",
    "\n",
    "\n",
    "# accuracy\n",
    "acc1 = np.mean(y_pred==y_uncuff_test)\n",
    "acc3 = np.mean((y_pred >= y_uncuff_test-0.5) & (y_pred <= y_uncuff_test+0.5))\n",
    "print(f'acc: {acc1:.3f}')\n",
    "print(f'acc(+-0.5mm): {acc3:.3f}')\n",
    "\n",
    "# F1 score\n",
    "yl_test = np.array([f'{i}' for i in y_uncuff_test])\n",
    "yl_pred = np.array([f'{i}' for i in y_pred])\n",
    "f1 = f1_score(yl_test, yl_pred, average='macro')\n",
    "print(f'macro f1: {f1:.3f}')"
   ]
  },
  {
   "cell_type": "code",
   "execution_count": 74,
   "id": "45f93c29-638e-402c-97d2-8c78b0088649",
   "metadata": {
    "execution": {
     "iopub.execute_input": "2023-07-27T00:50:51.384476Z",
     "iopub.status.busy": "2023-07-27T00:50:51.383994Z",
     "iopub.status.idle": "2023-07-27T00:50:51.393385Z",
     "shell.execute_reply": "2023-07-27T00:50:51.392394Z",
     "shell.execute_reply.started": "2023-07-27T00:50:51.384422Z"
    },
    "tags": []
   },
   "outputs": [
    {
     "data": {
      "text/plain": [
       "(0.4890234542444846, 0.5119307296359984)"
      ]
     },
     "execution_count": 74,
     "metadata": {},
     "output_type": "execute_result"
    }
   ],
   "source": [
    "np.percentile(y1_trads, 5), np.percentile(y1_trads, 95)"
   ]
  },
  {
   "cell_type": "markdown",
   "id": "7b72ec20-cffe-4bb6-a190-7c1c24f0cbc4",
   "metadata": {},
   "source": [
    "### GBRT"
   ]
  },
  {
   "cell_type": "code",
   "execution_count": 36,
   "id": "88ab20f6-11ca-4720-8f91-c52d87f03cf8",
   "metadata": {
    "execution": {
     "iopub.execute_input": "2023-07-21T03:32:09.934184Z",
     "iopub.status.busy": "2023-07-21T03:32:09.933716Z",
     "iopub.status.idle": "2023-07-26T01:45:44.083888Z",
     "shell.execute_reply": "2023-07-26T01:45:44.083033Z",
     "shell.execute_reply.started": "2023-07-26T01:34:19.503936Z"
    },
    "scrolled": true,
    "tags": []
   },
   "outputs": [
    {
     "name": "stdout",
     "output_type": "stream",
     "text": [
      "Fitting 10 folds for each of 2880 candidates, totalling 28800 fits\n"
     ]
    }
   ],
   "source": [
    "# age (일단위)\n",
    "param_dict = {\n",
    "                'learning_rate': [ 0.01, 0.03, 0.05, 0.07], #, #[0.01, 0.03, 0.05],\n",
    "                'max_depth': [3, 4, 5, 7],#[3,4,5],\n",
    "                'n_estimators': [25, 50, 75, 100, 300],\n",
    "                'subsample': [0.5, 0.8, 1], #[0.5, 0.8, 1],\n",
    "                'colsample_bytree': [0.5, 0.8, 1], #[0.8, 1],\n",
    "                'gamma': [0.3, 0.5, 0.7, 0.9],\n",
    "                #'scale_pos_weight': [1, 10, 30, 100]\n",
    "            }\n",
    "nfold = 10\n",
    "gs = GridSearchCV(estimator=xgb.sklearn.XGBRegressor(),\n",
    "                n_jobs=-1,\n",
    "                verbose=1,\n",
    "                param_grid=param_dict, cv=nfold)\n",
    "gs.fit(X_train, Y_train)\n",
    "model = gs.best_estimator_.get_booster()"
   ]
  },
  {
   "cell_type": "code",
   "execution_count": 37,
   "id": "06760285-ae3c-4625-8e3a-7ca1aa987535",
   "metadata": {
    "execution": {
     "iopub.execute_input": "2023-07-26T01:45:44.086243Z",
     "iopub.status.busy": "2023-07-26T01:45:44.085791Z",
     "iopub.status.idle": "2023-07-26T01:45:44.137372Z",
     "shell.execute_reply": "2023-07-26T01:45:44.136715Z",
     "shell.execute_reply.started": "2023-07-26T01:45:44.086203Z"
    },
    "tags": []
   },
   "outputs": [
    {
     "name": "stdout",
     "output_type": "stream",
     "text": [
      "\n",
      "========= found hyperparameter =========\n",
      "{'colsample_bytree': 1, 'gamma': 0.7, 'learning_rate': 0.03, 'max_depth': 4, 'n_estimators': 300, 'subsample': 0.5}\n",
      "0.8933664679609425\n",
      "========================================\n",
      "--------------\n",
      "new model\n",
      "--------------\n",
      "explained_variance_score: 0.872\n",
      "mean_squared_errors: 0.114\n",
      "mean_absolute_errors: 0.213\n",
      "r2_score: 0.872\n",
      "acc: 0.589\n",
      "acc(+-0.5mm): 0.986\n",
      "macro f1: 0.565\n"
     ]
    }
   ],
   "source": [
    "print()\n",
    "print(\"========= found hyperparameter =========\")\n",
    "print(gs.best_params_)\n",
    "print(gs.best_score_)\n",
    "print(\"========================================\")\n",
    "\n",
    "#X_test = xgb.DMatrix(X_test)\n",
    "y_pred = model.predict(X_test).flatten()\n",
    "y_pred = np.round(y_pred * 2) / 2\n",
    "\n",
    "\n",
    "print('--------------')\n",
    "print('new model')\n",
    "print('--------------')\n",
    "print(f'explained_variance_score: {explained_variance_score(Y_test, y_pred):.3f}')\n",
    "print(f'mean_squared_errors: {mean_squared_error(Y_test, y_pred):.3f}')\n",
    "print(f'mean_absolute_errors: {mean_absolute_error(Y_test, y_pred):.3f}')\n",
    "print(f'r2_score: {r2_score(Y_test, y_pred):.3f}')\n",
    "\n",
    "# accuracy\n",
    "acc1 = np.mean(y_pred==Y_test)\n",
    "acc3 = np.mean((y_pred >= Y_test-0.5) & (y_pred <= Y_test+0.5))\n",
    "r2 = r2_score(Y_test, y_pred)\n",
    "print(f'acc: {acc1:.3f}')\n",
    "print(f'acc(+-0.5mm): {acc3:.3f}')\n",
    "\n",
    "# F1 score\n",
    "yl_test = np.array([f'{i}' for i in Y_test])\n",
    "yl_pred = np.array([f'{i}' for i in y_pred])\n",
    "f1 = f1_score(yl_test, yl_pred, average='macro')\n",
    "print(f'macro f1: {f1:.3f}')"
   ]
  },
  {
   "cell_type": "code",
   "execution_count": 38,
   "id": "c5a9328c-cee4-4581-93cd-41774978b8e8",
   "metadata": {
    "execution": {
     "iopub.execute_input": "2023-07-26T01:47:40.678187Z",
     "iopub.status.busy": "2023-07-26T01:47:40.677620Z",
     "iopub.status.idle": "2023-07-26T01:47:40.693589Z",
     "shell.execute_reply": "2023-07-26T01:47:40.692819Z",
     "shell.execute_reply.started": "2023-07-26T01:47:40.678132Z"
    },
    "tags": []
   },
   "outputs": [],
   "source": [
    "# save model\n",
    "odir_f = f'acc1-{acc1:.3f}_acc3-{acc3:.3f}_f1{f1:.3f}_r2-{r2:.3f}_XGBR_uncuffed_{nfold}fold'\n",
    "odir = f'result/revision1/size/{odir_f}'\n",
    "if not os.path.exists(odir):\n",
    "    os.mkdir(odir)\n",
    "model.save_model(f'{odir}/model.model')\n",
    "\n",
    "# 모델에 대한 정보 txt로 저장\n",
    "pickle.dump(param_dict, open(f'{odir}/param_dict', 'wb'))\n",
    "f = open(f'{odir}/result.txt', 'w')\n",
    "f.write(f'classification model')\n",
    "f.write(f'explained_variance_score: {explained_variance_score(Y_test, y_pred):.3f}')\n",
    "f.write(f'mean_squared_errors: {mean_squared_error(Y_test, y_pred):.3f}')\n",
    "f.write(f'mean_absolute_errors: {mean_absolute_error(Y_test, y_pred):.3f}')\n",
    "f.write(f'r2_score: {r2_score(Y_test, y_pred):.3f}')\n",
    "f.close()"
   ]
  },
  {
   "cell_type": "markdown",
   "id": "020a215e-6c30-4a7d-a266-3d99b8879eec",
   "metadata": {},
   "source": [
    "* test validation"
   ]
  },
  {
   "cell_type": "code",
   "execution_count": 44,
   "id": "973a3ce9-9da0-4b72-84ef-4dbe9bf2d46e",
   "metadata": {
    "execution": {
     "iopub.execute_input": "2023-07-26T01:55:37.891811Z",
     "iopub.status.busy": "2023-07-26T01:55:37.891341Z",
     "iopub.status.idle": "2023-07-26T01:55:43.406532Z",
     "shell.execute_reply": "2023-07-26T01:55:43.405858Z",
     "shell.execute_reply.started": "2023-07-26T01:55:37.891758Z"
    },
    "tags": []
   },
   "outputs": [
    {
     "name": "stdout",
     "output_type": "stream",
     "text": [
      "acc: 0.590+-0.014 -> 0.575 ~ 0.604\n",
      "acc(+-0.5mm): 0.985+-0.004 -> 0.982 ~ 0.989 \n",
      "macro f1: 0.565+-0.016 -> 0.550 ~ 0.581\n"
     ]
    }
   ],
   "source": [
    "# test validation\n",
    "xgbr = xgb.XGBRegressor()\n",
    "xgbr.load_model(f'result/revision1/size/acc1-0.589_acc3-0.986_f10.565_r2-0.872_XGBR_uncuffed_10fold/model.model')\n",
    "\n",
    "y1_lrs, y2_lrs = [], []\n",
    "f1_lrs = []\n",
    "for i in range(200):\n",
    "    \n",
    "    mask = np.array([random.randint(0,1)==1 for j in range(len(Y_test))])\n",
    "    Xg_test = X_test[mask]\n",
    "    Yg_test = Y_test[mask]\n",
    "    \n",
    "    y_lr = xgbr.predict(Xg_test)\n",
    "    y_lr = np.round(y_lr * 2) / 2\n",
    "    y1_lrs.append(np.mean(y_lr == Yg_test))\n",
    "    y2_lrs.append(np.mean((y_lr >= Yg_test-0.5) & (y_lr <= Yg_test+0.5)))\n",
    "    \n",
    "    \n",
    "    yl_test = np.array([f'{i}' for i in Yg_test])\n",
    "    yl_pred = np.array([f'{i}' for i in y_lr])\n",
    "    f1_lrs.append(f1_score(yl_test, yl_pred, average='macro'))\n",
    "    \n",
    "print(f'acc: {np.mean(y1_lrs):.3f}+-{1.96*np.std(y1_lrs):.3f} -> {np.mean(y1_lrs)-1.96*np.std(y1_lrs):.3f} ~ {np.mean(y1_lrs)+1.96*np.std(y1_lrs):.3f}')\n",
    "print(f'acc(+-0.5mm): {np.mean(y2_lrs):.3f}+-{1.96*np.std(y2_lrs):.3f} -> {np.mean(y2_lrs)-1.96*np.std(y2_lrs):.3f} ~ {np.mean(y2_lrs)+1.96*np.std(y2_lrs):.3f} ')\n",
    "print(f'macro f1: {np.mean(f1_lrs):.3f}+-{1.96*np.std(f1_lrs):.3f} -> {np.mean(f1_lrs)-1.96*np.std(f1_lrs):.3f} ~ {np.mean(f1_lrs)+1.96*np.std(f1_lrs):.3f}')"
   ]
  },
  {
   "cell_type": "markdown",
   "id": "c2ba6e35-5ad4-4ed7-b4e4-da0fb54fb159",
   "metadata": {
    "execution": {
     "iopub.execute_input": "2023-07-26T03:17:52.240837Z",
     "iopub.status.busy": "2023-07-26T03:17:52.240254Z",
     "iopub.status.idle": "2023-07-26T03:17:52.245793Z",
     "shell.execute_reply": "2023-07-26T03:17:52.244737Z",
     "shell.execute_reply.started": "2023-07-26T03:17:52.240779Z"
    },
    "tags": []
   },
   "source": [
    "### comparison"
   ]
  },
  {
   "cell_type": "code",
   "execution_count": null,
   "id": "4722e930-eebc-44ce-82f2-28c418f8a06d",
   "metadata": {},
   "outputs": [],
   "source": [
    "y1_lrs, y2_lrs = [], []\n",
    "f1_lrs = []\n",
    "for i in range(200):\n",
    "    \n",
    "    mask = np.array([random.randint(0,1)==1 for j in range(len(X_test))])\n",
    "    Xg_test = X_test[mask]\n",
    "    Yg_test = Y_test[mask]\n",
    "    \n",
    "    y_lr = lr.predict(Xg_test)\n",
    "    y_lr = np.round(y_lr * 2) / 2\n",
    "    y1_lrs.append(np.mean(y_lr == Yg_test))\n",
    "    y2_lrs.append(np.mean((y_lr >= Yg_test-0.5) & (y_lr <= Yg_test+0.5)))\n",
    "    \n",
    "    y_xgbr = xgbr.predict(X_test)\n",
    "    y_xgbr = np.round(y_xgbr * 2) / 2\n",
    "    y1_xgbr = y_xgbr == Y_test\n",
    "    y2_xgbr = (y_xgbr >= Y_test-0.5) & (y_xgbr <= Y_test+0.5)\n",
    "    yl_pred = np.array([f'{i}' for i in y_xgbr])\n",
    "    f1_xgbr = f1_score(yl_test, yl_pred, average='macro')    \n",
    "    \n",
    "    \n",
    "    yl_test = np.array([f'{i}' for i in Yg_test])\n",
    "    yl_pred = np.array([f'{i}' for i in y_lr])\n",
    "    f1_lrs.append(f1_score(yl_test, yl_pred, average='macro'))"
   ]
  },
  {
   "cell_type": "code",
   "execution_count": 71,
   "id": "73f44fc3-5d42-4f76-b308-a56e0547c263",
   "metadata": {
    "execution": {
     "iopub.execute_input": "2023-07-26T04:02:03.049293Z",
     "iopub.status.busy": "2023-07-26T04:02:03.048712Z",
     "iopub.status.idle": "2023-07-26T04:02:03.151829Z",
     "shell.execute_reply": "2023-07-26T04:02:03.150916Z",
     "shell.execute_reply.started": "2023-07-26T04:02:03.049235Z"
    },
    "tags": []
   },
   "outputs": [
    {
     "name": "stderr",
     "output_type": "stream",
     "text": [
      "/home/painstudy/.local/lib/python3.8/site-packages/xgboost/sklearn.py:782: UserWarning: Loading a native XGBoost model with Scikit-Learn interface.\n",
      "  warnings.warn(\"Loading a native XGBoost model with Scikit-Learn interface.\")\n"
     ]
    }
   ],
   "source": [
    "from scipy.stats import chi2_contingency\n",
    "from scipy import stats\n",
    "from sklearn.experimental import enable_iterative_imputer\n",
    "from sklearn.impute import IterativeImputer\n",
    "\n",
    "# traditional formula\n",
    "y1_trad = Y_test_old == Y_test\n",
    "y2_trad = (Y_test_old >= Y_test-0.5) & (Y_test_old <= Y_test+0.5)\n",
    "\n",
    "yl_test = np.array([f'{i}' for i in Y_test])\n",
    "yl_pred = np.array([f'{i}' for i in Y_test_old])\n",
    "f1_trad = f1_score(yl_test, yl_pred, average='macro')\n",
    "\n",
    "# xgbr model\n",
    "xgbr = xgb.XGBRegressor()\n",
    "xgbr.load_model('result/revision1/size/acc1-0.589_acc3-0.986_f10.565_r2-0.872_XGBR_uncuffed_10fold/model.model')\n",
    "y_xgbr = xgbr.predict(X_test)\n",
    "y_xgbr = np.round(y_xgbr * 2) / 2\n",
    "y1_xgbr = y_xgbr == Y_test\n",
    "y2_xgbr = (y_xgbr >= Y_test-0.5) & (y_xgbr <= Y_test+0.5)\n",
    "yl_pred = np.array([f'{i}' for i in y_xgbr])\n",
    "f1_xgbr = f1_score(yl_test, yl_pred, average='macro')\n",
    "\n",
    "# LR model\n",
    "lr = pickle.load(open(f'result/revision1/size/acc1-0.569_acc3-0.976_f1_0.484_LR_uncuffed/model','rb'))\n",
    "y_lr = lr.predict(X_test)\n",
    "y_lr = np.round(y_lr * 2) / 2\n",
    "y1_lr = y_lr == Y_test\n",
    "y2_lr = (y_lr >= Y_test-0.5) & (y_lr <= Y_test+0.5)\n",
    "yl_pred = np.array([f'{i}' for i in y_lr])\n",
    "f1_lr = f1_score(yl_test, yl_pred, average='macro')"
   ]
  },
  {
   "cell_type": "code",
   "execution_count": 72,
   "id": "013571d2-d537-4c2d-bad1-d0cb62937737",
   "metadata": {
    "execution": {
     "iopub.execute_input": "2023-07-26T04:02:04.816649Z",
     "iopub.status.busy": "2023-07-26T04:02:04.816125Z",
     "iopub.status.idle": "2023-07-26T04:02:04.841892Z",
     "shell.execute_reply": "2023-07-26T04:02:04.841221Z",
     "shell.execute_reply.started": "2023-07-26T04:02:04.816609Z"
    },
    "tags": []
   },
   "outputs": [
    {
     "name": "stdout",
     "output_type": "stream",
     "text": [
      "###Comparison of xgbr vs lr for size accuracy1###\n",
      "contingency table:\n",
      "   gbrt    lr\n",
      "1  2609  2521\n",
      "0  1818  1906\n",
      "Chi square: 3.589036082269165\n",
      "P-value: 0.05816197016729844\n",
      "\n",
      "###Comparison of xgbr vs lr for size accuracy3###\n",
      "contingency table:\n",
      "   gbrt    lr\n",
      "1  4363  4319\n",
      "0    64   108\n",
      "Chi square: 11.478804047936656\n",
      "P-value: 0.0007039441389567039\n"
     ]
    },
    {
     "ename": "TypeError",
     "evalue": "ufunc 'invert' not supported for the input types, and the inputs could not be safely coerced to any supported types according to the casting rule ''safe''",
     "output_type": "error",
     "traceback": [
      "\u001b[0;31m---------------------------------------------------------------------------\u001b[0m",
      "\u001b[0;31mTypeError\u001b[0m                                 Traceback (most recent call last)",
      "\u001b[0;32m/tmp/ipykernel_1380394/1077059778.py\u001b[0m in \u001b[0;36m<module>\u001b[0;34m\u001b[0m\n\u001b[1;32m     20\u001b[0m \u001b[0;34m\u001b[0m\u001b[0m\n\u001b[1;32m     21\u001b[0m \u001b[0;34m\u001b[0m\u001b[0m\n\u001b[0;32m---> 22\u001b[0;31m \u001b[0mobs1\u001b[0m \u001b[0;34m=\u001b[0m \u001b[0mpd\u001b[0m\u001b[0;34m.\u001b[0m\u001b[0mDataFrame\u001b[0m\u001b[0;34m(\u001b[0m\u001b[0;34m{\u001b[0m\u001b[0;34m'gbrt'\u001b[0m\u001b[0;34m:\u001b[0m \u001b[0;34m[\u001b[0m\u001b[0mnp\u001b[0m\u001b[0;34m.\u001b[0m\u001b[0msum\u001b[0m\u001b[0;34m(\u001b[0m\u001b[0mf1_xgbr\u001b[0m\u001b[0;34m)\u001b[0m\u001b[0;34m,\u001b[0m\u001b[0mnp\u001b[0m\u001b[0;34m.\u001b[0m\u001b[0msum\u001b[0m\u001b[0;34m(\u001b[0m\u001b[0;34m~\u001b[0m\u001b[0mf1_xgbr\u001b[0m\u001b[0;34m)\u001b[0m\u001b[0;34m]\u001b[0m\u001b[0;34m,\u001b[0m \u001b[0;34m'lr'\u001b[0m\u001b[0;34m:\u001b[0m \u001b[0;34m[\u001b[0m\u001b[0mnp\u001b[0m\u001b[0;34m.\u001b[0m\u001b[0msum\u001b[0m\u001b[0;34m(\u001b[0m\u001b[0mf1_lr\u001b[0m\u001b[0;34m)\u001b[0m\u001b[0;34m,\u001b[0m\u001b[0mnp\u001b[0m\u001b[0;34m.\u001b[0m\u001b[0msum\u001b[0m\u001b[0;34m(\u001b[0m\u001b[0;34m~\u001b[0m\u001b[0mf1_lr\u001b[0m\u001b[0;34m)\u001b[0m\u001b[0;34m]\u001b[0m\u001b[0;34m}\u001b[0m\u001b[0;34m)\u001b[0m\u001b[0;34m\u001b[0m\u001b[0;34m\u001b[0m\u001b[0m\n\u001b[0m\u001b[1;32m     23\u001b[0m \u001b[0mobs1\u001b[0m\u001b[0;34m.\u001b[0m\u001b[0mindex\u001b[0m \u001b[0;34m=\u001b[0m \u001b[0;34m[\u001b[0m\u001b[0;34m'1'\u001b[0m\u001b[0;34m,\u001b[0m \u001b[0;34m'0'\u001b[0m\u001b[0;34m]\u001b[0m\u001b[0;34m\u001b[0m\u001b[0;34m\u001b[0m\u001b[0m\n\u001b[1;32m     24\u001b[0m \u001b[0;34m\u001b[0m\u001b[0m\n",
      "\u001b[0;31mTypeError\u001b[0m: ufunc 'invert' not supported for the input types, and the inputs could not be safely coerced to any supported types according to the casting rule ''safe''"
     ]
    }
   ],
   "source": [
    "# XGBR vs LR\n",
    "obs1 = pd.DataFrame({'gbrt': [np.sum(y1_xgbr),np.sum(~y1_xgbr)], 'lr': [np.sum(y1_lr),np.sum(~y1_lr)]})\n",
    "obs1.index = ['1', '0']\n",
    "\n",
    "chiresult = chi2_contingency(obs1, correction=False)\n",
    "print('###Comparison of xgbr vs lr for size accuracy1###')\n",
    "print(f'contingency table:\\n{obs1}')\n",
    "print('Chi square: {}'.format(chiresult[0]))\n",
    "print('P-value: {}'.format(chiresult[1]))\n",
    "\n",
    "\n",
    "obs2 = pd.DataFrame({'gbrt': [np.sum(y2_xgbr),np.sum(~y2_xgbr)], 'lr': [np.sum(y2_lr),np.sum(~y2_lr)]})\n",
    "obs2.index = ['1', '0']\n",
    "\n",
    "chiresult = chi2_contingency(obs2, correction=False)\n",
    "print('\\n###Comparison of xgbr vs lr for size accuracy3###')\n",
    "print(f'contingency table:\\n{obs2}')\n",
    "print('Chi square: {}'.format(chiresult[0]))\n",
    "print('P-value: {}'.format(chiresult[1]))\n",
    "\n",
    "\n",
    "from scipy import stats\n",
    "\n",
    "obs1 = pd.DataFrame({'gbrt': [np.sum(f1_xgbr),np.sum(~f1_xgbr)], 'lr': [np.sum(f1_lr),np.sum(~f1_lr)]})\n",
    "obs1.index = ['1', '0']\n",
    "\n",
    "chiresult = chi2_contingency(obs1, correction=False)\n",
    "print('###Comparison of xgbr vs lr for size f1###')\n",
    "print(f'contingency table:\\n{obs1}')\n",
    "print('Chi square: {}'.format(chiresult[0]))\n",
    "print('P-value: {}'.format(chiresult[1]))\n"
   ]
  },
  {
   "cell_type": "code",
   "execution_count": null,
   "id": "deb014df-cb97-4fbe-9dff-a5b1c216c92f",
   "metadata": {},
   "outputs": [],
   "source": [
    "# XGBR vs Penlington (uncuffed; age/4+4.5)\n",
    "#y_test_old1 = y_test_old + 0.5\n",
    "y1_trad = y_test_old1 == y_test\n",
    "y2_trad = (y_test_old1 >= y_test-0.5) & (y_test_old1 <= y_test+0.5)\n",
    "\n",
    "\n",
    "obs1 = pd.DataFrame({'gbrt': [np.sum(y1_xgbr[cuff_mask]),np.sum(~y1_xgbr[cuff_mask])], 'trad': [np.sum(y1_trad[cuff_mask]),np.sum(~y1_trad[cuff_mask])]})\n",
    "obs1.index = ['1', '0']\n",
    "\n",
    "chiresult = chi2_contingency(obs1, correction=False)\n",
    "print('###Comparison of xgbr vs Penlington for size accuracy1###')\n",
    "print(f'contingency table:\\n{obs1}')\n",
    "print('Chi square: {}'.format(chiresult[0]))\n",
    "print('P-value: {}'.format(chiresult[1]))\n",
    "\n",
    "obs2 = pd.DataFrame({'gbrt': [np.sum(y2_xgbr[cuff_mask]),np.sum(~y2_xgbr[cuff_mask])], 'trad': [np.sum(y2_trad[cuff_mask]),np.sum(~y2_trad[cuff_mask])]})\n",
    "obs2.index = ['1', '0']\n",
    "\n",
    "\n",
    "chiresult = chi2_contingency(obs2, correction=False)\n",
    "print('\\n###Comparison of xgbr vs Penlington for size accuracy3###')\n",
    "print(f'contingency table:\\n{obs2}')\n",
    "print('Chi square: {}'.format(chiresult[0]))\n",
    "print('P-value: {}'.format(chiresult[1]))"
   ]
  },
  {
   "cell_type": "markdown",
   "id": "db730230-b2a2-4b5c-bc42-657e82829566",
   "metadata": {},
   "source": [
    "## Cuffed model"
   ]
  },
  {
   "cell_type": "code",
   "execution_count": 51,
   "id": "0981c096-a014-4288-a0d3-13b90c918884",
   "metadata": {
    "execution": {
     "iopub.execute_input": "2023-07-26T02:08:39.661637Z",
     "iopub.status.busy": "2023-07-26T02:08:39.661058Z",
     "iopub.status.idle": "2023-07-26T02:08:39.672989Z",
     "shell.execute_reply": "2023-07-26T02:08:39.671863Z",
     "shell.execute_reply.started": "2023-07-26T02:08:39.661579Z"
    },
    "tags": []
   },
   "outputs": [
    {
     "name": "stdout",
     "output_type": "stream",
     "text": [
      "X_train: (6948, 3), X_test: (1763, 3)\n"
     ]
    }
   ],
   "source": [
    "mask = (x_train[:,3] == 1)\n",
    "X_train = x_train[mask][:,:3]\n",
    "Y_train = y_train[mask]\n",
    "\n",
    "mask = (x_test[:,3] == 1)\n",
    "X_test = x_test[mask][:,:3]\n",
    "Y_test = y_test[mask]\n",
    "\n",
    "print(f'X_train: {X_train.shape}, X_test: {X_test.shape}')"
   ]
  },
  {
   "cell_type": "markdown",
   "id": "6bc8bec8-b804-404a-8174-95da44bd9994",
   "metadata": {},
   "source": [
    "### Traditional"
   ]
  },
  {
   "cell_type": "code",
   "execution_count": 30,
   "id": "6262fe83-c5f1-4333-9a00-74ef865fac36",
   "metadata": {
    "execution": {
     "iopub.execute_input": "2023-07-26T01:23:31.081961Z",
     "iopub.status.busy": "2023-07-26T01:23:31.081445Z",
     "iopub.status.idle": "2023-07-26T01:23:31.110473Z",
     "shell.execute_reply": "2023-07-26T01:23:31.109645Z",
     "shell.execute_reply.started": "2023-07-26T01:23:31.081908Z"
    },
    "tags": []
   },
   "outputs": [
    {
     "name": "stdout",
     "output_type": "stream",
     "text": [
      "--------------\n",
      "old model(traditional) = age/4+3.5 (cuffed)\n",
      "--------------\n",
      "explained_variance_score: 0.901\n",
      "mean_squared_errors: 0.285\n",
      "mean_absolute_errors: 0.420\n",
      "r2_score: 0.742\n",
      "acc: 0.294\n",
      "acc(+-0.5mm): 0.883\n",
      "macro f1: 0.229\n"
     ]
    }
   ],
   "source": [
    "Y_test_old = y_test_old[mask]\n",
    "\n",
    "print('--------------')\n",
    "print('old model(traditional) = age/4+3.5 (cuffed)')\n",
    "print('--------------')\n",
    "print(f'explained_variance_score: {explained_variance_score(Y_test, Y_test_old):.3f}')\n",
    "print(f'mean_squared_errors: {mean_squared_error(Y_test, Y_test_old):.3f}')\n",
    "print(f'mean_absolute_errors: {mean_absolute_error(Y_test, Y_test_old):.3f}')\n",
    "print(f'r2_score: {r2_score(Y_test, Y_test_old):.3f}')\n",
    "\n",
    "# accuracY\n",
    "acc1 = np.mean(Y_test_old==Y_test)\n",
    "acc3 = np.mean((Y_test_old >= Y_test-0.5) & (Y_test_old <= Y_test+0.5))\n",
    "print(f'acc: {acc1:.3f}')\n",
    "print(f'acc(+-0.5mm): {acc3:.3f}')\n",
    "\n",
    "# F1 score\n",
    "yl_test = np.array([f'{i}' for i in Y_test])\n",
    "yl_pred_old = np.array([f'{i}' for i in Y_test_old])\n",
    "f1 = f1_score(yl_test, yl_pred_old, average='macro')\n",
    "print(f'macro f1: {f1:.3f}')"
   ]
  },
  {
   "cell_type": "markdown",
   "id": "1387356b-2971-4d89-b075-37178c523c88",
   "metadata": {},
   "source": [
    "### LR"
   ]
  },
  {
   "cell_type": "code",
   "execution_count": 31,
   "id": "f2640ce7-4efb-442a-b7fe-ea4e7e769f5f",
   "metadata": {
    "execution": {
     "iopub.execute_input": "2023-07-26T01:23:34.420151Z",
     "iopub.status.busy": "2023-07-26T01:23:34.419664Z",
     "iopub.status.idle": "2023-07-26T01:23:34.453439Z",
     "shell.execute_reply": "2023-07-26T01:23:34.452646Z",
     "shell.execute_reply.started": "2023-07-26T01:23:34.420099Z"
    },
    "tags": []
   },
   "outputs": [
    {
     "name": "stdout",
     "output_type": "stream",
     "text": [
      "선형회귀 모델: 기울기 [ 0.1017478 -0.0004596  0.023105 ], 절편 1.925\n",
      "--------------\n",
      "linear regression model\n",
      "--------------\n",
      "explained_variance_score: 0.906\n",
      "mean_squared_errors: 0.104\n",
      "mean_absolute_errors: 0.178\n",
      "r2_score: 0.906\n",
      "acc: 0.672\n",
      "acc(+-0.5mm): 0.973\n",
      "macro f1: 0.596\n"
     ]
    }
   ],
   "source": [
    "from sklearn.linear_model import LinearRegression\n",
    "from sklearn.metrics import f1_score\n",
    "\n",
    "lin_model = LinearRegression()\n",
    "lin_model.fit(X_train, Y_train)\n",
    "y_pred = lin_model.predict(X_test)\n",
    "y_pred = np.round(y_pred * 2) / 2\n",
    "\n",
    "\n",
    "print(f'선형회귀 모델: 기울기 {lin_model.coef_}, 절편 {lin_model.intercept_:.3f}')\n",
    "print('--------------')\n",
    "print('linear regression model')\n",
    "print('--------------')\n",
    "print(f'explained_variance_score: {explained_variance_score(Y_test, y_pred):.3f}')\n",
    "print(f'mean_squared_errors: {mean_squared_error(Y_test, y_pred):.3f}')\n",
    "print(f'mean_absolute_errors: {mean_absolute_error(Y_test, y_pred):.3f}')\n",
    "print(f'r2_score: {r2_score(Y_test, y_pred):.3f}')\n",
    "\n",
    "\n",
    "# accuracy\n",
    "acc1 = np.mean(y_pred==Y_test)\n",
    "acc3 = np.mean((y_pred >= Y_test-0.5) & (y_pred <= Y_test+0.5))\n",
    "print(f'acc: {acc1:.3f}')\n",
    "print(f'acc(+-0.5mm): {acc3:.3f}')\n",
    "\n",
    "# F1 score\n",
    "yl_test = np.array([f'{i}' for i in Y_test])\n",
    "yl_pred = np.array([f'{i}' for i in y_pred])\n",
    "f1 = f1_score(yl_test, yl_pred, average='macro')\n",
    "print(f'macro f1: {f1:.3f}')"
   ]
  },
  {
   "cell_type": "code",
   "execution_count": 32,
   "id": "ccb91b53-194c-4b5c-aebc-9cdb5cf2801c",
   "metadata": {
    "execution": {
     "iopub.execute_input": "2023-07-26T01:23:36.135567Z",
     "iopub.status.busy": "2023-07-26T01:23:36.135169Z",
     "iopub.status.idle": "2023-07-26T01:23:36.147402Z",
     "shell.execute_reply": "2023-07-26T01:23:36.146915Z",
     "shell.execute_reply.started": "2023-07-26T01:23:36.135524Z"
    },
    "tags": []
   },
   "outputs": [],
   "source": [
    "# save model\n",
    "odir_f = f'acc1-{acc1:.3f}_acc3-{acc3:.3f}_f1_{f1:.3f}_LR_cuffed'\n",
    "odir = f'result/revision1/size/{odir_f}'\n",
    "if not os.path.exists(odir):\n",
    "    os.mkdir(odir)\n",
    "\n",
    "# 모델에 대한 정보 txt로 저장\n",
    "pickle.dump(lin_model, open(f'{odir}/model', 'wb'))\n",
    "f = open(f'{odir}/result.txt', 'w')\n",
    "f.write(f'classification model')\n",
    "f.write(f'explained_variance_score: {explained_variance_score(Y_test, y_pred):.3f}')\n",
    "f.write(f'mean_squared_errors: {mean_squared_error(Y_test, y_pred):.3f}')\n",
    "f.write(f'mean_absolute_errors: {mean_absolute_error(Y_test, y_pred):.3f}')\n",
    "f.write(f'r2_score: {r2_score(Y_test, y_pred):.3f}')\n",
    "f.write(f'macro f1 score: {f1}')\n",
    "f.close()"
   ]
  },
  {
   "cell_type": "code",
   "execution_count": 33,
   "id": "d3c3d833-d695-46de-9cb3-dad12751b5b2",
   "metadata": {
    "execution": {
     "iopub.execute_input": "2023-07-26T01:31:53.584151Z",
     "iopub.status.busy": "2023-07-26T01:31:53.583574Z",
     "iopub.status.idle": "2023-07-26T01:31:54.983745Z",
     "shell.execute_reply": "2023-07-26T01:31:54.983115Z",
     "shell.execute_reply.started": "2023-07-26T01:31:53.584094Z"
    },
    "tags": []
   },
   "outputs": [
    {
     "name": "stdout",
     "output_type": "stream",
     "text": [
      "acc: 0.671+-0.021 -> 0.650 ~ 0.693\n",
      "acc(+-0.5mm): 0.973+-0.007 -> 0.966 ~ 0.980 \n",
      "macro f1: 0.596+-0.018 -> 0.577 ~ 0.614\n"
     ]
    }
   ],
   "source": [
    "# test validation\n",
    "lr = pickle.load(open(f'result/revision1/size/acc1-0.672_acc3-0.973_f1_0.596_LR_cuffed/model','rb'))\n",
    "\n",
    "y1_lrs, y2_lrs = [], []\n",
    "f1_lrs = []\n",
    "for i in range(200):\n",
    "    \n",
    "    mask = np.array([random.randint(0,1)==1 for j in range(len(X_test))])\n",
    "    Xg_test = X_test[mask]\n",
    "    Yg_test = Y_test[mask]\n",
    "    \n",
    "    y_lr = lr.predict(Xg_test)\n",
    "    y_lr = np.round(y_lr * 2) / 2\n",
    "    y1_lrs.append(np.mean(y_lr == Yg_test))\n",
    "    y2_lrs.append(np.mean((y_lr >= Yg_test-0.5) & (y_lr <= Yg_test+0.5)))\n",
    "    \n",
    "    \n",
    "    yl_test = np.array([f'{i}' for i in Yg_test])\n",
    "    yl_pred = np.array([f'{i}' for i in y_lr])\n",
    "    f1_lrs.append(f1_score(yl_test, yl_pred, average='macro'))\n",
    "    \n",
    "print(f'acc: {np.mean(y1_lrs):.3f}+-{1.96*np.std(y1_lrs):.3f} -> {np.mean(y1_lrs)-1.96*np.std(y1_lrs):.3f} ~ {np.mean(y1_lrs)+1.96*np.std(y1_lrs):.3f}')\n",
    "print(f'acc(+-0.5mm): {np.mean(y2_lrs):.3f}+-{1.96*np.std(y2_lrs):.3f} -> {np.mean(y2_lrs)-1.96*np.std(y2_lrs):.3f} ~ {np.mean(y2_lrs)+1.96*np.std(y2_lrs):.3f} ')\n",
    "print(f'macro f1: {np.mean(f1_lrs):.3f}+-{1.96*np.std(f1_lrs):.3f} -> {np.mean(f1_lrs)-1.96*np.std(f1_lrs):.3f} ~ {np.mean(f1_lrs)+1.96*np.std(f1_lrs):.3f}')"
   ]
  },
  {
   "cell_type": "markdown",
   "id": "84ca6205-414a-4e91-8c55-e5badeb8717d",
   "metadata": {},
   "source": [
    "### GBRT"
   ]
  },
  {
   "cell_type": "code",
   "execution_count": 46,
   "id": "0c89e856-9887-4020-8cfe-7ea5d08b3444",
   "metadata": {
    "execution": {
     "iopub.execute_input": "2023-07-26T02:01:19.663155Z",
     "iopub.status.busy": "2023-07-26T02:01:19.662592Z",
     "iopub.status.idle": "2023-07-26T02:06:20.275859Z",
     "shell.execute_reply": "2023-07-26T02:06:20.275103Z",
     "shell.execute_reply.started": "2023-07-26T02:01:19.663098Z"
    },
    "tags": []
   },
   "outputs": [
    {
     "name": "stdout",
     "output_type": "stream",
     "text": [
      "Fitting 10 folds for each of 2880 candidates, totalling 28800 fits\n"
     ]
    }
   ],
   "source": [
    "# age (일단위)\n",
    "param_dict = {\n",
    "                'learning_rate': [ 0.01, 0.03, 0.05, 0.07], #, #[0.01, 0.03, 0.05],\n",
    "                'max_depth': [3, 4, 5, 7],#[3,4,5],\n",
    "                'n_estimators': [25, 50, 75, 100, 300],\n",
    "                'subsample': [0.5, 0.8, 1], #[0.5, 0.8, 1],\n",
    "                'colsample_bytree': [0.5, 0.8, 1], #[0.8, 1],\n",
    "                'gamma': [0.3, 0.5, 0.7, 0.9],\n",
    "                #'scale_pos_weight': [1, 10, 30, 100]\n",
    "            }\n",
    "nfold = 10\n",
    "gs = GridSearchCV(estimator=xgb.sklearn.XGBRegressor(),\n",
    "                n_jobs=-1,\n",
    "                verbose=1,\n",
    "                param_grid=param_dict, cv=nfold)\n",
    "gs.fit(X_train, Y_train)\n",
    "model = gs.best_estimator_.get_booster()"
   ]
  },
  {
   "cell_type": "code",
   "execution_count": 48,
   "id": "e69bcc91-19d5-4c07-a524-7aab654effd4",
   "metadata": {
    "execution": {
     "iopub.execute_input": "2023-07-26T02:07:47.046994Z",
     "iopub.status.busy": "2023-07-26T02:07:47.046433Z",
     "iopub.status.idle": "2023-07-26T02:07:47.091602Z",
     "shell.execute_reply": "2023-07-26T02:07:47.090693Z",
     "shell.execute_reply.started": "2023-07-26T02:07:47.046939Z"
    },
    "tags": []
   },
   "outputs": [
    {
     "name": "stdout",
     "output_type": "stream",
     "text": [
      "\n",
      "========= found hyperparameter =========\n",
      "{'colsample_bytree': 1, 'gamma': 0.5, 'learning_rate': 0.03, 'max_depth': 4, 'n_estimators': 300, 'subsample': 0.8}\n",
      "0.9300734511451868\n",
      "========================================\n",
      "--------------\n",
      "new model\n",
      "--------------\n",
      "explained_variance_score: 0.919\n",
      "mean_squared_errors: 0.091\n",
      "mean_absolute_errors: 0.153\n",
      "r2_score: 0.918\n",
      "acc: 0.721\n",
      "acc(+-0.5mm): 0.973\n",
      "macro f1: 0.631\n"
     ]
    }
   ],
   "source": [
    "print()\n",
    "print(\"========= found hyperparameter =========\")\n",
    "print(gs.best_params_)\n",
    "print(gs.best_score_)\n",
    "print(\"========================================\")\n",
    "\n",
    "X_test = xgb.DMatrix(X_test)\n",
    "y_pred = model.predict(X_test).flatten()\n",
    "y_pred = np.round(y_pred * 2) / 2\n",
    "\n",
    "\n",
    "print('--------------')\n",
    "print('new model')\n",
    "print('--------------')\n",
    "print(f'explained_variance_score: {explained_variance_score(Y_test, y_pred):.3f}')\n",
    "print(f'mean_squared_errors: {mean_squared_error(Y_test, y_pred):.3f}')\n",
    "print(f'mean_absolute_errors: {mean_absolute_error(Y_test, y_pred):.3f}')\n",
    "print(f'r2_score: {r2_score(Y_test, y_pred):.3f}')\n",
    "\n",
    "# accuracy\n",
    "acc1 = np.mean(y_pred==Y_test)\n",
    "acc3 = np.mean((y_pred >= Y_test-0.5) & (y_pred <= Y_test+0.5))\n",
    "r2 = r2_score(Y_test, y_pred)\n",
    "print(f'acc: {acc1:.3f}')\n",
    "print(f'acc(+-0.5mm): {acc3:.3f}')\n",
    "\n",
    "# F1 score\n",
    "yl_test = np.array([f'{i}' for i in Y_test])\n",
    "yl_pred = np.array([f'{i}' for i in y_pred])\n",
    "f1 = f1_score(yl_test, yl_pred, average='macro')\n",
    "print(f'macro f1: {f1:.3f}')"
   ]
  },
  {
   "cell_type": "code",
   "execution_count": 50,
   "id": "2c25f5ca-1dd4-4660-9451-60bce73bdd80",
   "metadata": {
    "execution": {
     "iopub.execute_input": "2023-07-26T02:08:14.272918Z",
     "iopub.status.busy": "2023-07-26T02:08:14.272362Z",
     "iopub.status.idle": "2023-07-26T02:08:14.290352Z",
     "shell.execute_reply": "2023-07-26T02:08:14.289538Z",
     "shell.execute_reply.started": "2023-07-26T02:08:14.272863Z"
    },
    "tags": []
   },
   "outputs": [],
   "source": [
    "# save model\n",
    "odir_f = f'acc1-{acc1:.3f}_acc3-{acc3:.3f}_f1{f1:.3f}_r2-{r2:.3f}_XGBR_cuffed_{nfold}fold'\n",
    "odir = f'result/revision1/size/{odir_f}'\n",
    "if not os.path.exists(odir):\n",
    "    os.mkdir(odir)\n",
    "model.save_model(f'{odir}/model.model')\n",
    "\n",
    "# 모델에 대한 정보 txt로 저장\n",
    "pickle.dump(param_dict, open(f'{odir}/param_dict', 'wb'))\n",
    "f = open(f'{odir}/result.txt', 'w')\n",
    "f.write(f'classification model')\n",
    "f.write(f'explained_variance_score: {explained_variance_score(Y_test, y_pred):.3f}')\n",
    "f.write(f'mean_squared_errors: {mean_squared_error(Y_test, y_pred):.3f}')\n",
    "f.write(f'mean_absolute_errors: {mean_absolute_error(Y_test, y_pred):.3f}')\n",
    "f.write(f'r2_score: {r2_score(Y_test, y_pred):.3f}')\n",
    "f.close()"
   ]
  },
  {
   "cell_type": "code",
   "execution_count": 52,
   "id": "0dcd2f0f-0f16-4b6e-9529-cd5ced23b1ab",
   "metadata": {
    "execution": {
     "iopub.execute_input": "2023-07-26T02:09:09.790928Z",
     "iopub.status.busy": "2023-07-26T02:09:09.790455Z",
     "iopub.status.idle": "2023-07-26T02:09:12.502539Z",
     "shell.execute_reply": "2023-07-26T02:09:12.501726Z",
     "shell.execute_reply.started": "2023-07-26T02:09:09.790882Z"
    },
    "tags": []
   },
   "outputs": [
    {
     "name": "stderr",
     "output_type": "stream",
     "text": [
      "/home/painstudy/.local/lib/python3.8/site-packages/xgboost/sklearn.py:782: UserWarning: Loading a native XGBoost model with Scikit-Learn interface.\n",
      "  warnings.warn(\"Loading a native XGBoost model with Scikit-Learn interface.\")\n"
     ]
    },
    {
     "name": "stdout",
     "output_type": "stream",
     "text": [
      "acc: 0.722+-0.021 -> 0.701 ~ 0.742\n",
      "acc(+-0.5mm): 0.973+-0.008 -> 0.966 ~ 0.981 \n",
      "macro f1: 0.631+-0.018 -> 0.613 ~ 0.649\n"
     ]
    }
   ],
   "source": [
    "# test validation\n",
    "xgbr = xgb.XGBRegressor()\n",
    "xgbr.load_model(f'result/revision1/size/acc1-0.721_acc3-0.973_f10.631_r2-0.918_XGBR_cuffed_10fold/model.model')\n",
    "\n",
    "y1_lrs, y2_lrs = [], []\n",
    "f1_lrs = []\n",
    "for i in range(200):\n",
    "    \n",
    "    mask = np.array([random.randint(0,1)==1 for j in range(len(Y_test))])\n",
    "    Xg_test = X_test[mask]\n",
    "    Yg_test = Y_test[mask]\n",
    "    \n",
    "    y_lr = xgbr.predict(Xg_test)\n",
    "    y_lr = np.round(y_lr * 2) / 2\n",
    "    y1_lrs.append(np.mean(y_lr == Yg_test))\n",
    "    y2_lrs.append(np.mean((y_lr >= Yg_test-0.5) & (y_lr <= Yg_test+0.5)))\n",
    "    \n",
    "    \n",
    "    yl_test = np.array([f'{i}' for i in Yg_test])\n",
    "    yl_pred = np.array([f'{i}' for i in y_lr])\n",
    "    f1_lrs.append(f1_score(yl_test, yl_pred, average='macro'))\n",
    "    \n",
    "print(f'acc: {np.mean(y1_lrs):.3f}+-{1.96*np.std(y1_lrs):.3f} -> {np.mean(y1_lrs)-1.96*np.std(y1_lrs):.3f} ~ {np.mean(y1_lrs)+1.96*np.std(y1_lrs):.3f}')\n",
    "print(f'acc(+-0.5mm): {np.mean(y2_lrs):.3f}+-{1.96*np.std(y2_lrs):.3f} -> {np.mean(y2_lrs)-1.96*np.std(y2_lrs):.3f} ~ {np.mean(y2_lrs)+1.96*np.std(y2_lrs):.3f} ')\n",
    "print(f'macro f1: {np.mean(f1_lrs):.3f}+-{1.96*np.std(f1_lrs):.3f} -> {np.mean(f1_lrs)-1.96*np.std(f1_lrs):.3f} ~ {np.mean(f1_lrs)+1.96*np.std(f1_lrs):.3f}')"
   ]
  },
  {
   "cell_type": "markdown",
   "id": "92441b93-c2c4-4c7c-9ac3-ef3867fd53a0",
   "metadata": {},
   "source": [
    "## COMMENT 3: Macro-AUROC, R^2"
   ]
  },
  {
   "cell_type": "markdown",
   "id": "458aa037-872a-4601-ba06-ed1229145645",
   "metadata": {},
   "source": [
    "### loading model"
   ]
  },
  {
   "cell_type": "code",
   "execution_count": 79,
   "id": "4a3170d4-33f4-46b0-9d2a-2f4ecf2b410d",
   "metadata": {
    "execution": {
     "iopub.execute_input": "2023-07-26T00:40:53.561647Z",
     "iopub.status.busy": "2023-07-26T00:40:53.561045Z",
     "iopub.status.idle": "2023-07-26T00:40:53.580770Z",
     "shell.execute_reply": "2023-07-26T00:40:53.579653Z",
     "shell.execute_reply.started": "2023-07-26T00:40:53.561586Z"
    },
    "tags": []
   },
   "outputs": [
    {
     "name": "stdout",
     "output_type": "stream",
     "text": [
      "X_train: (17816, 4), X_test: (4427, 4)\n"
     ]
    },
    {
     "name": "stderr",
     "output_type": "stream",
     "text": [
      "/home/painstudy/.local/lib/python3.8/site-packages/xgboost/sklearn.py:782: UserWarning: Loading a native XGBoost model with Scikit-Learn interface.\n",
      "  warnings.warn(\"Loading a native XGBoost model with Scikit-Learn interface.\")\n"
     ]
    }
   ],
   "source": [
    "### uncuffed\n",
    "mask = (x_train[:,3] == 0)\n",
    "X_train = x_train[mask]\n",
    "Y_train = y_train[mask]\n",
    "\n",
    "mask = (x_test[:,3] == 0)\n",
    "X_test = x_test[mask]\n",
    "Y_test = y_test[mask]\n",
    "\n",
    "print(f'X_train: {X_train.shape}, X_test: {X_test.shape}')\n",
    "\n",
    "\n",
    "# xgbr model\n",
    "xgbr = xgb.XGBRegressor()\n",
    "xgbr.load_model('result/revision1/size/acc1-0.592_acc3-0.986_r2-0.873_XGBR_uncuffed_10fold/model.model')\n",
    "\n",
    "#X_test = xgb.DMatrix(X_test)\n",
    "y_xgbr = xgbr.predict((X_test)).flatten()\n",
    "y_xgbr = np.round(y_xgbr * 2) / 2\n",
    "\n",
    "# lr"
   ]
  },
  {
   "cell_type": "code",
   "execution_count": null,
   "id": "e549942d-ce0d-4663-910c-0b3c3d49b85a",
   "metadata": {},
   "outputs": [],
   "source": []
  },
  {
   "cell_type": "code",
   "execution_count": 84,
   "id": "36e760b4-bba2-452f-b28a-9859bd72d6c6",
   "metadata": {
    "execution": {
     "iopub.execute_input": "2023-07-26T00:46:56.893140Z",
     "iopub.status.busy": "2023-07-26T00:46:56.892553Z",
     "iopub.status.idle": "2023-07-26T00:46:56.933541Z",
     "shell.execute_reply": "2023-07-26T00:46:56.932718Z",
     "shell.execute_reply.started": "2023-07-26T00:46:56.893079Z"
    },
    "tags": []
   },
   "outputs": [],
   "source": [
    "from sklearn.preprocessing import LabelBinarizer\n",
    "\n",
    "yl_train = np.array([f'{i}' for i in Y_train])\n",
    "yl_test = np.array([f'{i}' for i in Y_test])\n",
    "\n",
    "label_binarizer = LabelBinarizer().fit(yl_train)\n",
    "y_onehot_test = label_binarizer.transform(yl_test)"
   ]
  },
  {
   "cell_type": "markdown",
   "id": "acab608c-897a-4eb8-8461-ab6d6d35ad56",
   "metadata": {
    "jp-MarkdownHeadingCollapsed": true,
    "tags": []
   },
   "source": [
    "### macro-auroc"
   ]
  },
  {
   "cell_type": "code",
   "execution_count": 12,
   "id": "0fdc1f75-4a0b-4b14-bbfb-d8060f8de417",
   "metadata": {
    "execution": {
     "iopub.execute_input": "2023-07-23T01:36:04.050548Z",
     "iopub.status.busy": "2023-07-23T01:36:04.050308Z",
     "iopub.status.idle": "2023-07-23T01:36:04.088481Z",
     "shell.execute_reply": "2023-07-23T01:36:04.087837Z",
     "shell.execute_reply.started": "2023-07-23T01:36:04.050523Z"
    },
    "tags": []
   },
   "outputs": [
    {
     "data": {
      "text/plain": [
       "(4427, 8)"
      ]
     },
     "execution_count": 12,
     "metadata": {},
     "output_type": "execute_result"
    }
   ],
   "source": [
    "from sklearn.preprocessing import LabelBinarizer\n",
    "\n",
    "yl_train = np.array([f'{i}' for i in Y_train])\n",
    "yl_test = np.array([f'{i}' for i in Y_test])\n",
    "\n",
    "label_binarizer = LabelBinarizer().fit(yl_train)\n",
    "y_onehot_test = label_binarizer.transform(yl_test)\n",
    "y_onehot_test.shape  # (n_samples, n_classes)"
   ]
  },
  {
   "cell_type": "code",
   "execution_count": 27,
   "id": "c673f5d1-dad8-4c93-a0ed-d8b2f8dd1fae",
   "metadata": {
    "execution": {
     "iopub.execute_input": "2023-07-23T01:43:07.327405Z",
     "iopub.status.busy": "2023-07-23T01:43:07.326852Z",
     "iopub.status.idle": "2023-07-23T01:43:07.343984Z",
     "shell.execute_reply": "2023-07-23T01:43:07.343111Z",
     "shell.execute_reply.started": "2023-07-23T01:43:07.327345Z"
    },
    "tags": []
   },
   "outputs": [],
   "source": [
    "y_pred = np.round(y_pred * 2) / 2\n",
    "y_pred = np.array([f'{i}' for i in y_pred])\n",
    "\n",
    "y_score = label_binarizer.transform(y_pred)"
   ]
  },
  {
   "cell_type": "code",
   "execution_count": 14,
   "id": "223aa2cc-7a99-4432-9ba3-968bac091072",
   "metadata": {
    "execution": {
     "iopub.execute_input": "2023-07-23T01:36:18.463482Z",
     "iopub.status.busy": "2023-07-23T01:36:18.462952Z",
     "iopub.status.idle": "2023-07-23T01:36:18.495927Z",
     "shell.execute_reply": "2023-07-23T01:36:18.495106Z",
     "shell.execute_reply.started": "2023-07-23T01:36:18.463425Z"
    },
    "tags": []
   },
   "outputs": [],
   "source": [
    "y_score = np.array([np.array([3.0, 3.5, 4.0, 4.5, 5.0, 5.5, 6.0, 6.5]) - y_pred[i] for i in range(len(Y_test))])\n",
    "#y_score = y_score - y_pred"
   ]
  },
  {
   "cell_type": "code",
   "execution_count": 24,
   "id": "3536d64c-8f8b-4803-be70-0748e557fa0e",
   "metadata": {
    "execution": {
     "iopub.execute_input": "2023-07-23T01:39:25.132375Z",
     "iopub.status.busy": "2023-07-23T01:39:25.131871Z",
     "iopub.status.idle": "2023-07-23T01:39:25.140098Z",
     "shell.execute_reply": "2023-07-23T01:39:25.139179Z",
     "shell.execute_reply.started": "2023-07-23T01:39:25.132326Z"
    },
    "tags": []
   },
   "outputs": [
    {
     "data": {
      "text/plain": [
       "array([0, 0, 0, ..., 1, 0, 0])"
      ]
     },
     "execution_count": 24,
     "metadata": {},
     "output_type": "execute_result"
    }
   ],
   "source": [
    "y_onehot_test[:, class_id]"
   ]
  },
  {
   "cell_type": "code",
   "execution_count": 25,
   "id": "b087a28d-69ec-4ba0-be01-ae901d8043d7",
   "metadata": {
    "execution": {
     "iopub.execute_input": "2023-07-23T01:39:26.403542Z",
     "iopub.status.busy": "2023-07-23T01:39:26.403128Z",
     "iopub.status.idle": "2023-07-23T01:39:26.410760Z",
     "shell.execute_reply": "2023-07-23T01:39:26.409850Z",
     "shell.execute_reply.started": "2023-07-23T01:39:26.403496Z"
    },
    "tags": []
   },
   "outputs": [
    {
     "data": {
      "text/plain": [
       "array([0.31492949, 1.86598635, 2.99728656, ..., 0.24630356, 1.42380524,\n",
       "       2.2989397 ])"
      ]
     },
     "execution_count": 25,
     "metadata": {},
     "output_type": "execute_result"
    }
   ],
   "source": [
    "y_score[:, class_id]"
   ]
  },
  {
   "cell_type": "code",
   "execution_count": 28,
   "id": "0fa3d8b4-4d75-415f-828b-a1f2a74ed8d5",
   "metadata": {
    "collapsed": true,
    "execution": {
     "iopub.execute_input": "2023-07-23T01:43:12.802020Z",
     "iopub.status.busy": "2023-07-23T01:43:12.801470Z",
     "iopub.status.idle": "2023-07-23T01:43:14.053721Z",
     "shell.execute_reply": "2023-07-23T01:43:14.053084Z",
     "shell.execute_reply.started": "2023-07-23T01:43:12.801964Z"
    },
    "jupyter": {
     "outputs_hidden": true
    },
    "tags": []
   },
   "outputs": [
    {
     "data": {
      "image/png": "[encoded data removed]",
      "text/plain": [
       "<Figure size 432x288 with 1 Axes>"
      ]
     },
     "metadata": {
      "needs_background": "light"
     },
     "output_type": "display_data"
    },
    {
     "data": {
      "image/png": "[encoded data removed]",
      "text/plain": [
       "<Figure size 432x288 with 1 Axes>"
      ]
     },
     "metadata": {
      "needs_background": "light"
     },
     "output_type": "display_data"
    },
    {
     "data": {
      "image/png": "[encoded data removed]",
      "text/plain": [
       "<Figure size 432x288 with 1 Axes>"
      ]
     },
     "metadata": {
      "needs_background": "light"
     },
     "output_type": "display_data"
    },
    {
     "data": {
      "image/png": "[encoded data removed]",
      "text/plain": [
       "<Figure size 432x288 with 1 Axes>"
      ]
     },
     "metadata": {
      "needs_background": "light"
     },
     "output_type": "display_data"
    },
    {
     "data": {
      "image/png": "[encoded data removed]",
      "text/plain": [
       "<Figure size 432x288 with 1 Axes>"
      ]
     },
     "metadata": {
      "needs_background": "light"
     },
     "output_type": "display_data"
    },
    {
     "data": {
      "image/png": "[encoded data removed]",
      "text/plain": [
       "<Figure size 432x288 with 1 Axes>"
      ]
     },
     "metadata": {
      "needs_background": "light"
     },
     "output_type": "display_data"
    },
    {
     "data": {
      "image/png": "[encoded data removed]",
      "text/plain": [
       "<Figure size 432x288 with 1 Axes>"
      ]
     },
     "metadata": {
      "needs_background": "light"
     },
     "output_type": "display_data"
    },
    {
     "data": {
      "image/png": "[encoded data removed]",
      "text/plain": [
       "<Figure size 432x288 with 1 Axes>"
      ]
     },
     "metadata": {
      "needs_background": "light"
     },
     "output_type": "display_data"
    }
   ],
   "source": [
    "import matplotlib.pyplot as plt\n",
    "from sklearn.metrics import RocCurveDisplay\n",
    "\n",
    "for i in range(len(label_binarizer.classes_)):\n",
    "    class_of_interest = label_binarizer.classes_[i]\n",
    "    class_id = np.flatnonzero(label_binarizer.classes_ == class_of_interest)[0]\n",
    "\n",
    "    RocCurveDisplay.from_predictions(\n",
    "        y_onehot_test[:, class_id],\n",
    "        y_score[:, class_id],\n",
    "        name=f\"{class_of_interest} vs the rest\",\n",
    "        color=\"darkorange\",\n",
    "        plot_chance_level=True,\n",
    "    )\n",
    "    plt.axis(\"square\")\n",
    "    plt.xlabel(\"False Positive Rate\")\n",
    "    plt.ylabel(\"True Positive Rate\")\n",
    "    plt.title(f\"One-vs-Rest ROC curves:\\nID{class_of_interest} vs (Others)\")\n",
    "    plt.legend()\n",
    "    plt.show()"
   ]
  },
  {
   "cell_type": "code",
   "execution_count": 22,
   "id": "ea3c346d-8fe9-40cc-86e1-0cee5f943eac",
   "metadata": {
    "collapsed": true,
    "execution": {
     "iopub.execute_input": "2023-07-23T01:38:28.182188Z",
     "iopub.status.busy": "2023-07-23T01:38:28.181592Z",
     "iopub.status.idle": "2023-07-23T01:38:29.415657Z",
     "shell.execute_reply": "2023-07-23T01:38:29.415039Z",
     "shell.execute_reply.started": "2023-07-23T01:38:28.182128Z"
    },
    "jupyter": {
     "outputs_hidden": true
    },
    "tags": []
   },
   "outputs": [
    {
     "data": {
      "image/png": "[encoded data removed]",
      "text/plain": [
       "<Figure size 432x288 with 1 Axes>"
      ]
     },
     "metadata": {
      "needs_background": "light"
     },
     "output_type": "display_data"
    },
    {
     "data": {
      "image/png": "[encoded data removed]",
      "text/plain": [
       "<Figure size 432x288 with 1 Axes>"
      ]
     },
     "metadata": {
      "needs_background": "light"
     },
     "output_type": "display_data"
    },
    {
     "data": {
      "image/png": "[encoded data removed]",
      "text/plain": [
       "<Figure size 432x288 with 1 Axes>"
      ]
     },
     "metadata": {
      "needs_background": "light"
     },
     "output_type": "display_data"
    },
    {
     "data": {
      "image/png": "[encoded data removed]",
      "text/plain": [
       "<Figure size 432x288 with 1 Axes>"
      ]
     },
     "metadata": {
      "needs_background": "light"
     },
     "output_type": "display_data"
    },
    {
     "data": {
      "image/png": "[encoded data removed]",
      "text/plain": [
       "<Figure size 432x288 with 1 Axes>"
      ]
     },
     "metadata": {
      "needs_background": "light"
     },
     "output_type": "display_data"
    },
    {
     "data": {
      "image/png": "[encoded data removed]",
      "text/plain": [
       "<Figure size 432x288 with 1 Axes>"
      ]
     },
     "metadata": {
      "needs_background": "light"
     },
     "output_type": "display_data"
    },
    {
     "data": {
      "image/png": "[encoded data removed]",
      "text/plain": [
       "<Figure size 432x288 with 1 Axes>"
      ]
     },
     "metadata": {
      "needs_background": "light"
     },
     "output_type": "display_data"
    },
    {
     "data": {
      "image/png": "[encoded data removed]",
      "text/plain": [
       "<Figure size 432x288 with 1 Axes>"
      ]
     },
     "metadata": {
      "needs_background": "light"
     },
     "output_type": "display_data"
    }
   ],
   "source": [
    "import matplotlib.pyplot as plt\n",
    "from sklearn.metrics import RocCurveDisplay\n",
    "\n",
    "for i in range(len(label_binarizer.classes_)):\n",
    "    class_of_interest = label_binarizer.classes_[i]\n",
    "    class_id = np.flatnonzero(label_binarizer.classes_ == class_of_interest)[0]\n",
    "\n",
    "    RocCurveDisplay.from_predictions(\n",
    "        y_onehot_test[:, class_id],\n",
    "        y_score[:, class_id],\n",
    "        name=f\"{class_of_interest} vs the rest\",\n",
    "        color=\"darkorange\",\n",
    "        plot_chance_level=True,\n",
    "    )\n",
    "    plt.axis(\"square\")\n",
    "    plt.xlabel(\"False Positive Rate\")\n",
    "    plt.ylabel(\"True Positive Rate\")\n",
    "    plt.title(f\"One-vs-Rest ROC curves:\\nID{class_of_interest} vs (Others)\")\n",
    "    plt.legend()\n",
    "    plt.show()"
   ]
  },
  {
   "cell_type": "code",
   "execution_count": null,
   "id": "9bddf2c0-111f-44a6-9a03-dd1d46ec9a2e",
   "metadata": {},
   "outputs": [],
   "source": [
    "# store the fpr, tpr, and roc_auc for all averaging strategies\n",
    "fpr, tpr, roc_auc = dict(), dict(), dict()"
   ]
  },
  {
   "cell_type": "code",
   "execution_count": 35,
   "id": "a1f11e97-e276-4164-9de9-2d19c57aa006",
   "metadata": {
    "execution": {
     "iopub.execute_input": "2023-07-23T03:24:34.226514Z",
     "iopub.status.busy": "2023-07-23T03:24:34.226075Z",
     "iopub.status.idle": "2023-07-23T03:24:34.243467Z",
     "shell.execute_reply": "2023-07-23T03:24:34.242560Z",
     "shell.execute_reply.started": "2023-07-23T03:24:34.226464Z"
    },
    "tags": []
   },
   "outputs": [],
   "source": [
    "from tqdm import tqdm\n",
    "\n",
    "def naive_roc_auc_score(y_true, y_pred):\n",
    "    \n",
    "    num_same_sign = 0\n",
    "    num_pairs = 0\n",
    "\n",
    "    for a in tqdm(range(len(y_true))):\n",
    "        for b in range(len(y_true)):\n",
    "            if y_true[a] > y_true[b]:\n",
    "                num_pairs += 1\n",
    "                if y_pred[a] > y_pred[b]:\n",
    "                    num_same_sign += 1\n",
    "                elif y_pred[a] == y_pred[b]:\n",
    "                    num_same_sign += .5\n",
    "\n",
    "    return num_same_sign / num_pairs"
   ]
  },
  {
   "cell_type": "code",
   "execution_count": 39,
   "id": "7e093d3f-d9d5-45b4-8558-cb99281a1d42",
   "metadata": {
    "execution": {
     "iopub.execute_input": "2023-07-23T03:29:41.809320Z",
     "iopub.status.busy": "2023-07-23T03:29:41.808755Z",
     "iopub.status.idle": "2023-07-23T03:29:41.817273Z",
     "shell.execute_reply": "2023-07-23T03:29:41.816273Z",
     "shell.execute_reply.started": "2023-07-23T03:29:41.809260Z"
    },
    "tags": []
   },
   "outputs": [
    {
     "data": {
      "text/plain": [
       "array([6. , 5. , 3.5, ..., 6.5, 5.5, 4.5])"
      ]
     },
     "execution_count": 39,
     "metadata": {},
     "output_type": "execute_result"
    }
   ],
   "source": [
    "Y_test"
   ]
  },
  {
   "cell_type": "code",
   "execution_count": 36,
   "id": "cb67c217-a2ee-42be-b855-70fbe1978aea",
   "metadata": {
    "execution": {
     "iopub.execute_input": "2023-07-23T03:24:35.596425Z",
     "iopub.status.busy": "2023-07-23T03:24:35.596005Z",
     "iopub.status.idle": "2023-07-23T03:28:51.027163Z",
     "shell.execute_reply": "2023-07-23T03:28:51.026518Z",
     "shell.execute_reply.started": "2023-07-23T03:24:35.596374Z"
    },
    "tags": []
   },
   "outputs": [
    {
     "name": "stderr",
     "output_type": "stream",
     "text": [
      "100%|██████████| 4427/4427 [00:31<00:00, 140.27it/s]\n"
     ]
    },
    {
     "name": "stdout",
     "output_type": "stream",
     "text": [
      "ID3.0 : one-vs-rest AUROC 0.025879008767155678\n"
     ]
    },
    {
     "name": "stderr",
     "output_type": "stream",
     "text": [
      "100%|██████████| 4427/4427 [00:32<00:00, 137.82it/s]\n"
     ]
    },
    {
     "name": "stdout",
     "output_type": "stream",
     "text": [
      "ID3.5 : one-vs-rest AUROC 0.06387896745575584\n"
     ]
    },
    {
     "name": "stderr",
     "output_type": "stream",
     "text": [
      "100%|██████████| 4427/4427 [00:32<00:00, 137.09it/s]\n"
     ]
    },
    {
     "name": "stdout",
     "output_type": "stream",
     "text": [
      "ID4.0 : one-vs-rest AUROC 0.2010924377819543\n"
     ]
    },
    {
     "name": "stderr",
     "output_type": "stream",
     "text": [
      "100%|██████████| 4427/4427 [00:32<00:00, 136.02it/s]\n"
     ]
    },
    {
     "name": "stdout",
     "output_type": "stream",
     "text": [
      "ID4.5 : one-vs-rest AUROC 0.3668193276919039\n"
     ]
    },
    {
     "name": "stderr",
     "output_type": "stream",
     "text": [
      "100%|██████████| 4427/4427 [00:32<00:00, 137.24it/s]\n"
     ]
    },
    {
     "name": "stdout",
     "output_type": "stream",
     "text": [
      "ID5.0 : one-vs-rest AUROC 0.5925160634166894\n"
     ]
    },
    {
     "name": "stderr",
     "output_type": "stream",
     "text": [
      "100%|██████████| 4427/4427 [00:31<00:00, 138.94it/s]\n"
     ]
    },
    {
     "name": "stdout",
     "output_type": "stream",
     "text": [
      "ID5.5 : one-vs-rest AUROC 0.7664424759538034\n"
     ]
    },
    {
     "name": "stderr",
     "output_type": "stream",
     "text": [
      "100%|██████████| 4427/4427 [00:31<00:00, 139.92it/s]\n"
     ]
    },
    {
     "name": "stdout",
     "output_type": "stream",
     "text": [
      "ID6.0 : one-vs-rest AUROC 0.919220303678808\n"
     ]
    },
    {
     "name": "stderr",
     "output_type": "stream",
     "text": [
      "100%|██████████| 4427/4427 [00:31<00:00, 142.28it/s]"
     ]
    },
    {
     "name": "stdout",
     "output_type": "stream",
     "text": [
      "ID6.5 : one-vs-rest AUROC 0.965899869570695\n"
     ]
    },
    {
     "name": "stderr",
     "output_type": "stream",
     "text": [
      "\n"
     ]
    }
   ],
   "source": [
    "y_pred = xgbr.predict((X_test)).flatten()\n",
    "labels = [i*0.5 for i in range(6, 14)]\n",
    "\n",
    "for label in labels:\n",
    "    y_true = (Y_test == label)\n",
    "    print(f'ID{label} : one-vs-rest AUROC {naive_roc_auc_score(y_true, y_pred)}')"
   ]
  },
  {
   "cell_type": "code",
   "execution_count": 40,
   "id": "f5b8b66b-75bc-4745-9e90-3cd50ead575a",
   "metadata": {
    "execution": {
     "iopub.execute_input": "2023-07-23T03:30:01.959472Z",
     "iopub.status.busy": "2023-07-23T03:30:01.958896Z",
     "iopub.status.idle": "2023-07-23T03:31:03.237007Z",
     "shell.execute_reply": "2023-07-23T03:31:03.236380Z",
     "shell.execute_reply.started": "2023-07-23T03:30:01.959412Z"
    },
    "tags": []
   },
   "outputs": [
    {
     "name": "stderr",
     "output_type": "stream",
     "text": [
      "100%|██████████| 4427/4427 [00:07<00:00, 591.57it/s]\n"
     ]
    },
    {
     "name": "stdout",
     "output_type": "stream",
     "text": [
      "ID3.0 : one-vs-rest AUROC 0.9517880374368198\n"
     ]
    },
    {
     "name": "stderr",
     "output_type": "stream",
     "text": [
      "100%|██████████| 4427/4427 [00:07<00:00, 577.77it/s]\n"
     ]
    },
    {
     "name": "stdout",
     "output_type": "stream",
     "text": [
      "ID3.5 : one-vs-rest AUROC 0.9517880374368198\n"
     ]
    },
    {
     "name": "stderr",
     "output_type": "stream",
     "text": [
      "100%|██████████| 4427/4427 [00:07<00:00, 578.23it/s]\n"
     ]
    },
    {
     "name": "stdout",
     "output_type": "stream",
     "text": [
      "ID4.0 : one-vs-rest AUROC 0.9517880374368198\n"
     ]
    },
    {
     "name": "stderr",
     "output_type": "stream",
     "text": [
      "100%|██████████| 4427/4427 [00:07<00:00, 578.17it/s]\n"
     ]
    },
    {
     "name": "stdout",
     "output_type": "stream",
     "text": [
      "ID4.5 : one-vs-rest AUROC 0.9517880374368198\n"
     ]
    },
    {
     "name": "stderr",
     "output_type": "stream",
     "text": [
      "100%|██████████| 4427/4427 [00:07<00:00, 578.14it/s]\n"
     ]
    },
    {
     "name": "stdout",
     "output_type": "stream",
     "text": [
      "ID5.0 : one-vs-rest AUROC 0.9517880374368198\n"
     ]
    },
    {
     "name": "stderr",
     "output_type": "stream",
     "text": [
      "100%|██████████| 4427/4427 [00:07<00:00, 575.34it/s]\n"
     ]
    },
    {
     "name": "stdout",
     "output_type": "stream",
     "text": [
      "ID5.5 : one-vs-rest AUROC 0.9517880374368198\n"
     ]
    },
    {
     "name": "stderr",
     "output_type": "stream",
     "text": [
      "100%|██████████| 4427/4427 [00:07<00:00, 573.86it/s]\n"
     ]
    },
    {
     "name": "stdout",
     "output_type": "stream",
     "text": [
      "ID6.0 : one-vs-rest AUROC 0.9517880374368198\n"
     ]
    },
    {
     "name": "stderr",
     "output_type": "stream",
     "text": [
      "100%|██████████| 4427/4427 [00:07<00:00, 572.95it/s]"
     ]
    },
    {
     "name": "stdout",
     "output_type": "stream",
     "text": [
      "ID6.5 : one-vs-rest AUROC 0.9517880374368198\n"
     ]
    },
    {
     "name": "stderr",
     "output_type": "stream",
     "text": [
      "\n"
     ]
    }
   ],
   "source": [
    "for label in labels:\n",
    "    y_true = (Y_test == label)\n",
    "    \n",
    "    print(f'ID{label} : one-vs-rest AUROC {naive_roc_auc_score(Y_test, y_pred)}')"
   ]
  },
  {
   "cell_type": "markdown",
   "id": "31b8c83f-a8d7-4607-a9cc-8fd01f49acde",
   "metadata": {},
   "source": [
    "### macro F1-score"
   ]
  },
  {
   "cell_type": "code",
   "execution_count": 86,
   "id": "6da1f408-4a2f-4eaf-9c9a-6c58f1423233",
   "metadata": {
    "execution": {
     "iopub.execute_input": "2023-07-26T00:46:59.670248Z",
     "iopub.status.busy": "2023-07-26T00:46:59.669775Z",
     "iopub.status.idle": "2023-07-26T00:46:59.693806Z",
     "shell.execute_reply": "2023-07-26T00:46:59.692992Z",
     "shell.execute_reply.started": "2023-07-26T00:46:59.670195Z"
    },
    "tags": []
   },
   "outputs": [
    {
     "data": {
      "text/plain": [
       "0.567824080860674"
      ]
     },
     "execution_count": 86,
     "metadata": {},
     "output_type": "execute_result"
    }
   ],
   "source": [
    "from sklearn.metrics import f1_score\n",
    "\n",
    "yl_pred = np.array([f'{i}' for i in y_pred])\n",
    "f1_score(yl_test, yl_pred, average='macro')"
   ]
  },
  {
   "cell_type": "code",
   "execution_count": null,
   "id": "834232bc-c8f0-4b49-a58c-237015918677",
   "metadata": {},
   "outputs": [],
   "source": []
  },
  {
   "cell_type": "markdown",
   "id": "fb47b724-299a-404b-bc11-7531c14974e0",
   "metadata": {},
   "source": [
    "## COMMENT 5 (Suppl.table 2)"
   ]
  },
  {
   "cell_type": "markdown",
   "id": "ea03f061-4ef1-41e6-812b-16ee25b3f9b6",
   "metadata": {},
   "source": [
    "### Size models"
   ]
  },
  {
   "cell_type": "code",
   "execution_count": 4,
   "id": "70dda71a-893c-4850-aa34-fa796cb472d3",
   "metadata": {
    "execution": {
     "iopub.execute_input": "2023-08-13T11:23:16.068963Z",
     "iopub.status.busy": "2023-08-13T11:23:16.068501Z",
     "iopub.status.idle": "2023-08-13T11:23:16.159733Z",
     "shell.execute_reply": "2023-08-13T11:23:16.159005Z",
     "shell.execute_reply.started": "2023-08-13T11:23:16.068917Z"
    },
    "tags": []
   },
   "outputs": [
    {
     "name": "stderr",
     "output_type": "stream",
     "text": [
      "/home/painstudy/.local/lib/python3.8/site-packages/xgboost/sklearn.py:782: UserWarning: Loading a native XGBoost model with Scikit-Learn interface.\n",
      "  warnings.warn(\"Loading a native XGBoost model with Scikit-Learn interface.\")\n"
     ]
    }
   ],
   "source": [
    "# Linear regression model\n",
    "lr_cuff = pickle.load(open(f'result/revision1/size/acc1-0.584_acc3-0.994_f1_0.575_LR_cuffed/model','rb'))\n",
    "lr_uncuff = pickle.load(open(f'result/revision1/size/acc1-0.538_acc3-0.972_f1_0.409_LR_uncuffed/model','rb'))\n",
    "\n",
    "\n",
    "# Gradient-boosted regression tree model\n",
    "gbrt_cuff = xgb.XGBRegressor()\n",
    "gbrt_cuff.load_model('result/revision1/size/acc1-0.701_acc3-0.995_f10.670_GBRT_cuffed_10fold/model.model')\n",
    "\n",
    "gbrt_uncuff = xgb.XGBRegressor()\n",
    "gbrt_uncuff.load_model('result/revision1/size/acc1-0.582_acc3-0.981_f10.497_GBRT_uncuffed_10fold/model.model')"
   ]
  },
  {
   "cell_type": "code",
   "execution_count": 165,
   "id": "16de40ed-701f-491d-9aa8-8fc2719130df",
   "metadata": {
    "execution": {
     "iopub.execute_input": "2023-08-05T03:29:16.506799Z",
     "iopub.status.busy": "2023-08-05T03:29:16.506386Z",
     "iopub.status.idle": "2023-08-05T03:29:16.518167Z",
     "shell.execute_reply": "2023-08-05T03:29:16.516870Z",
     "shell.execute_reply.started": "2023-08-05T03:29:16.506760Z"
    },
    "tags": []
   },
   "outputs": [
    {
     "data": {
      "text/plain": [
       "array([3.7265515], dtype=float32)"
      ]
     },
     "execution_count": 165,
     "metadata": {},
     "output_type": "execute_result"
    }
   ],
   "source": [
    "gbrt_cuff.predict([[age, ws[j], hs[j]]])"
   ]
  },
  {
   "cell_type": "code",
   "execution_count": 166,
   "id": "877d70f0-0d89-42ce-8e40-8dfb17e7c4c8",
   "metadata": {
    "execution": {
     "iopub.execute_input": "2023-08-05T03:29:42.425947Z",
     "iopub.status.busy": "2023-08-05T03:29:42.425430Z",
     "iopub.status.idle": "2023-08-05T03:29:42.435392Z",
     "shell.execute_reply": "2023-08-05T03:29:42.434368Z",
     "shell.execute_reply.started": "2023-08-05T03:29:42.425896Z"
    },
    "tags": []
   },
   "outputs": [],
   "source": [
    "def prediction_cuffed(inp):\n",
    "    # prediction of lr model\n",
    "    y_lr = lr_cuff.predict([inp])\n",
    "    y_lr = np.round(y_lr*2) / 2\n",
    "    \n",
    "    # prediction of gbrt model\n",
    "    y_gbrt = gbrt_cuff.predict([inp]).flatten()\n",
    "    y_gbrt = np.round(y_gbrt * 2) / 2\n",
    "    \n",
    "    inp.extend(y_lr)\n",
    "    inp.extend(y_gbrt)\n",
    "    return inp\n",
    "\n",
    "\n",
    "def prediction_uncuffed(inp):\n",
    "    # prediction of lr model\n",
    "    y_lr = lr_uncuff.predict([inp])\n",
    "    y_lr = np.round(y_lr*2) / 2\n",
    "    \n",
    "    # prediction of gbrt model\n",
    "    y_gbrt = gbrt_uncuff.predict([inp]).flatten()\n",
    "    y_gbrt = np.round(y_gbrt * 2) / 2\n",
    "    \n",
    "    inp.extend(y_lr)\n",
    "    inp.extend(y_gbrt)\n",
    "    return inp"
   ]
  },
  {
   "cell_type": "code",
   "execution_count": 151,
   "id": "3c712b5c-97d6-4d7a-8391-0993dc1db5db",
   "metadata": {
    "execution": {
     "iopub.execute_input": "2023-08-05T03:15:17.035353Z",
     "iopub.status.busy": "2023-08-05T03:15:17.034854Z",
     "iopub.status.idle": "2023-08-05T03:15:17.150602Z",
     "shell.execute_reply": "2023-08-05T03:15:17.150001Z",
     "shell.execute_reply.started": "2023-08-05T03:15:17.035303Z"
    },
    "tags": []
   },
   "outputs": [
    {
     "data": {
      "text/html": [
       "<div>\n",
       "<style scoped>\n",
       "    .dataframe tbody tr th:only-of-type {\n",
       "        vertical-align: middle;\n",
       "    }\n",
       "\n",
       "    .dataframe tbody tr th {\n",
       "        vertical-align: top;\n",
       "    }\n",
       "\n",
       "    .dataframe thead th {\n",
       "        text-align: right;\n",
       "    }\n",
       "</style>\n",
       "<table border=\"1\" class=\"dataframe\">\n",
       "  <thead>\n",
       "    <tr style=\"text-align: right;\">\n",
       "      <th></th>\n",
       "      <th>sex</th>\n",
       "      <th>age(years)</th>\n",
       "      <th>age(months)</th>\n",
       "      <th>L</th>\n",
       "      <th>M</th>\n",
       "      <th>S</th>\n",
       "      <th>1st</th>\n",
       "      <th>3rd</th>\n",
       "      <th>5th</th>\n",
       "      <th>10th</th>\n",
       "      <th>...</th>\n",
       "      <th>95th</th>\n",
       "      <th>97th</th>\n",
       "      <th>99th</th>\n",
       "      <th>-3SD</th>\n",
       "      <th>-2SD</th>\n",
       "      <th>-1SD</th>\n",
       "      <th>0</th>\n",
       "      <th>+1SD</th>\n",
       "      <th>+2SD</th>\n",
       "      <th>+3SD</th>\n",
       "    </tr>\n",
       "  </thead>\n",
       "  <tbody>\n",
       "    <tr>\n",
       "      <th>0</th>\n",
       "      <td>1</td>\n",
       "      <td>1</td>\n",
       "      <td>12</td>\n",
       "      <td>1.0000</td>\n",
       "      <td>75.7488</td>\n",
       "      <td>0.0314</td>\n",
       "      <td>70.2</td>\n",
       "      <td>71.3</td>\n",
       "      <td>71.8</td>\n",
       "      <td>72.7</td>\n",
       "      <td>...</td>\n",
       "      <td>79.7</td>\n",
       "      <td>80.2</td>\n",
       "      <td>81.3</td>\n",
       "      <td>68.6</td>\n",
       "      <td>71.0</td>\n",
       "      <td>73.4</td>\n",
       "      <td>75.7</td>\n",
       "      <td>78.1</td>\n",
       "      <td>80.5</td>\n",
       "      <td>82.9</td>\n",
       "    </tr>\n",
       "    <tr>\n",
       "      <th>1</th>\n",
       "      <td>1</td>\n",
       "      <td>2</td>\n",
       "      <td>24</td>\n",
       "      <td>1.0000</td>\n",
       "      <td>87.1161</td>\n",
       "      <td>0.0351</td>\n",
       "      <td>80.0</td>\n",
       "      <td>81.4</td>\n",
       "      <td>82.1</td>\n",
       "      <td>83.2</td>\n",
       "      <td>...</td>\n",
       "      <td>92.1</td>\n",
       "      <td>92.9</td>\n",
       "      <td>94.2</td>\n",
       "      <td>78.0</td>\n",
       "      <td>81.0</td>\n",
       "      <td>84.1</td>\n",
       "      <td>87.1</td>\n",
       "      <td>90.2</td>\n",
       "      <td>93.2</td>\n",
       "      <td>96.3</td>\n",
       "    </tr>\n",
       "    <tr>\n",
       "      <th>2</th>\n",
       "      <td>1</td>\n",
       "      <td>3</td>\n",
       "      <td>36</td>\n",
       "      <td>-1.0915</td>\n",
       "      <td>96.4961</td>\n",
       "      <td>0.0403</td>\n",
       "      <td>88.3</td>\n",
       "      <td>89.7</td>\n",
       "      <td>90.5</td>\n",
       "      <td>91.8</td>\n",
       "      <td>...</td>\n",
       "      <td>103.4</td>\n",
       "      <td>104.4</td>\n",
       "      <td>106.5</td>\n",
       "      <td>86.1</td>\n",
       "      <td>89.3</td>\n",
       "      <td>92.8</td>\n",
       "      <td>96.5</td>\n",
       "      <td>100.6</td>\n",
       "      <td>105.0</td>\n",
       "      <td>109.8</td>\n",
       "    </tr>\n",
       "    <tr>\n",
       "      <th>3</th>\n",
       "      <td>1</td>\n",
       "      <td>4</td>\n",
       "      <td>48</td>\n",
       "      <td>-0.1597</td>\n",
       "      <td>103.0749</td>\n",
       "      <td>0.0400</td>\n",
       "      <td>94.0</td>\n",
       "      <td>95.6</td>\n",
       "      <td>96.5</td>\n",
       "      <td>97.9</td>\n",
       "      <td>...</td>\n",
       "      <td>110.1</td>\n",
       "      <td>111.2</td>\n",
       "      <td>113.2</td>\n",
       "      <td>91.5</td>\n",
       "      <td>95.2</td>\n",
       "      <td>99.0</td>\n",
       "      <td>103.1</td>\n",
       "      <td>107.3</td>\n",
       "      <td>111.7</td>\n",
       "      <td>116.4</td>\n",
       "    </tr>\n",
       "    <tr>\n",
       "      <th>4</th>\n",
       "      <td>1</td>\n",
       "      <td>5</td>\n",
       "      <td>60</td>\n",
       "      <td>0.4242</td>\n",
       "      <td>109.5896</td>\n",
       "      <td>0.0398</td>\n",
       "      <td>99.7</td>\n",
       "      <td>101.6</td>\n",
       "      <td>102.5</td>\n",
       "      <td>104.1</td>\n",
       "      <td>...</td>\n",
       "      <td>116.9</td>\n",
       "      <td>118.0</td>\n",
       "      <td>120.0</td>\n",
       "      <td>96.9</td>\n",
       "      <td>101.1</td>\n",
       "      <td>105.3</td>\n",
       "      <td>109.6</td>\n",
       "      <td>114.0</td>\n",
       "      <td>118.5</td>\n",
       "      <td>123.1</td>\n",
       "    </tr>\n",
       "    <tr>\n",
       "      <th>5</th>\n",
       "      <td>1</td>\n",
       "      <td>6</td>\n",
       "      <td>72</td>\n",
       "      <td>0.1783</td>\n",
       "      <td>115.9183</td>\n",
       "      <td>0.0403</td>\n",
       "      <td>105.5</td>\n",
       "      <td>107.4</td>\n",
       "      <td>108.4</td>\n",
       "      <td>110.1</td>\n",
       "      <td>...</td>\n",
       "      <td>123.8</td>\n",
       "      <td>125.0</td>\n",
       "      <td>127.2</td>\n",
       "      <td>102.6</td>\n",
       "      <td>106.9</td>\n",
       "      <td>111.3</td>\n",
       "      <td>115.9</td>\n",
       "      <td>120.7</td>\n",
       "      <td>125.6</td>\n",
       "      <td>130.7</td>\n",
       "    </tr>\n",
       "    <tr>\n",
       "      <th>6</th>\n",
       "      <td>1</td>\n",
       "      <td>7</td>\n",
       "      <td>84</td>\n",
       "      <td>0.0492</td>\n",
       "      <td>122.0537</td>\n",
       "      <td>0.0406</td>\n",
       "      <td>111.0</td>\n",
       "      <td>113.1</td>\n",
       "      <td>114.2</td>\n",
       "      <td>115.9</td>\n",
       "      <td>...</td>\n",
       "      <td>130.5</td>\n",
       "      <td>131.7</td>\n",
       "      <td>134.1</td>\n",
       "      <td>108.0</td>\n",
       "      <td>112.5</td>\n",
       "      <td>117.2</td>\n",
       "      <td>122.1</td>\n",
       "      <td>127.1</td>\n",
       "      <td>132.4</td>\n",
       "      <td>137.8</td>\n",
       "    </tr>\n",
       "    <tr>\n",
       "      <th>7</th>\n",
       "      <td>1</td>\n",
       "      <td>8</td>\n",
       "      <td>96</td>\n",
       "      <td>0.1205</td>\n",
       "      <td>127.8793</td>\n",
       "      <td>0.0405</td>\n",
       "      <td>116.3</td>\n",
       "      <td>118.5</td>\n",
       "      <td>119.6</td>\n",
       "      <td>121.4</td>\n",
       "      <td>...</td>\n",
       "      <td>136.6</td>\n",
       "      <td>137.9</td>\n",
       "      <td>140.4</td>\n",
       "      <td>113.2</td>\n",
       "      <td>117.9</td>\n",
       "      <td>122.8</td>\n",
       "      <td>127.9</td>\n",
       "      <td>133.1</td>\n",
       "      <td>138.6</td>\n",
       "      <td>144.3</td>\n",
       "    </tr>\n",
       "    <tr>\n",
       "      <th>8</th>\n",
       "      <td>1</td>\n",
       "      <td>9</td>\n",
       "      <td>108</td>\n",
       "      <td>0.1885</td>\n",
       "      <td>133.4136</td>\n",
       "      <td>0.0405</td>\n",
       "      <td>121.3</td>\n",
       "      <td>123.6</td>\n",
       "      <td>124.8</td>\n",
       "      <td>126.6</td>\n",
       "      <td>...</td>\n",
       "      <td>142.5</td>\n",
       "      <td>143.9</td>\n",
       "      <td>146.5</td>\n",
       "      <td>118.0</td>\n",
       "      <td>123.0</td>\n",
       "      <td>128.1</td>\n",
       "      <td>133.4</td>\n",
       "      <td>138.9</td>\n",
       "      <td>144.6</td>\n",
       "      <td>150.4</td>\n",
       "    </tr>\n",
       "    <tr>\n",
       "      <th>9</th>\n",
       "      <td>1</td>\n",
       "      <td>10</td>\n",
       "      <td>120</td>\n",
       "      <td>-0.0752</td>\n",
       "      <td>138.8473</td>\n",
       "      <td>0.0417</td>\n",
       "      <td>126.0</td>\n",
       "      <td>128.4</td>\n",
       "      <td>129.7</td>\n",
       "      <td>131.6</td>\n",
       "      <td>...</td>\n",
       "      <td>148.7</td>\n",
       "      <td>150.2</td>\n",
       "      <td>153.1</td>\n",
       "      <td>122.6</td>\n",
       "      <td>127.8</td>\n",
       "      <td>133.2</td>\n",
       "      <td>138.8</td>\n",
       "      <td>144.8</td>\n",
       "      <td>151.0</td>\n",
       "      <td>157.5</td>\n",
       "    </tr>\n",
       "    <tr>\n",
       "      <th>10</th>\n",
       "      <td>1</td>\n",
       "      <td>11</td>\n",
       "      <td>132</td>\n",
       "      <td>0.0886</td>\n",
       "      <td>144.7010</td>\n",
       "      <td>0.0438</td>\n",
       "      <td>130.6</td>\n",
       "      <td>133.2</td>\n",
       "      <td>134.6</td>\n",
       "      <td>136.8</td>\n",
       "      <td>...</td>\n",
       "      <td>155.5</td>\n",
       "      <td>157.1</td>\n",
       "      <td>160.2</td>\n",
       "      <td>126.8</td>\n",
       "      <td>132.5</td>\n",
       "      <td>138.5</td>\n",
       "      <td>144.7</td>\n",
       "      <td>151.2</td>\n",
       "      <td>157.9</td>\n",
       "      <td>164.9</td>\n",
       "    </tr>\n",
       "    <tr>\n",
       "      <th>11</th>\n",
       "      <td>1</td>\n",
       "      <td>12</td>\n",
       "      <td>144</td>\n",
       "      <td>0.8928</td>\n",
       "      <td>151.4223</td>\n",
       "      <td>0.0465</td>\n",
       "      <td>135.1</td>\n",
       "      <td>138.2</td>\n",
       "      <td>139.9</td>\n",
       "      <td>142.4</td>\n",
       "      <td>...</td>\n",
       "      <td>163.0</td>\n",
       "      <td>164.7</td>\n",
       "      <td>167.9</td>\n",
       "      <td>130.5</td>\n",
       "      <td>137.4</td>\n",
       "      <td>144.4</td>\n",
       "      <td>151.4</td>\n",
       "      <td>158.5</td>\n",
       "      <td>165.6</td>\n",
       "      <td>172.7</td>\n",
       "    </tr>\n",
       "    <tr>\n",
       "      <th>12</th>\n",
       "      <td>2</td>\n",
       "      <td>1</td>\n",
       "      <td>12</td>\n",
       "      <td>1.0000</td>\n",
       "      <td>74.0150</td>\n",
       "      <td>0.0348</td>\n",
       "      <td>68.0</td>\n",
       "      <td>69.2</td>\n",
       "      <td>69.8</td>\n",
       "      <td>70.7</td>\n",
       "      <td>...</td>\n",
       "      <td>78.3</td>\n",
       "      <td>78.9</td>\n",
       "      <td>80.0</td>\n",
       "      <td>66.3</td>\n",
       "      <td>68.9</td>\n",
       "      <td>71.4</td>\n",
       "      <td>74.0</td>\n",
       "      <td>76.6</td>\n",
       "      <td>79.2</td>\n",
       "      <td>81.7</td>\n",
       "    </tr>\n",
       "    <tr>\n",
       "      <th>13</th>\n",
       "      <td>2</td>\n",
       "      <td>2</td>\n",
       "      <td>24</td>\n",
       "      <td>1.0000</td>\n",
       "      <td>85.7153</td>\n",
       "      <td>0.0376</td>\n",
       "      <td>78.2</td>\n",
       "      <td>79.6</td>\n",
       "      <td>80.4</td>\n",
       "      <td>81.6</td>\n",
       "      <td>...</td>\n",
       "      <td>91.0</td>\n",
       "      <td>91.8</td>\n",
       "      <td>93.2</td>\n",
       "      <td>76.0</td>\n",
       "      <td>79.3</td>\n",
       "      <td>82.5</td>\n",
       "      <td>85.7</td>\n",
       "      <td>88.9</td>\n",
       "      <td>92.2</td>\n",
       "      <td>95.4</td>\n",
       "    </tr>\n",
       "    <tr>\n",
       "      <th>14</th>\n",
       "      <td>2</td>\n",
       "      <td>3</td>\n",
       "      <td>36</td>\n",
       "      <td>0.5472</td>\n",
       "      <td>95.4078</td>\n",
       "      <td>0.0413</td>\n",
       "      <td>86.4</td>\n",
       "      <td>88.1</td>\n",
       "      <td>89.0</td>\n",
       "      <td>90.4</td>\n",
       "      <td>...</td>\n",
       "      <td>102.0</td>\n",
       "      <td>103.0</td>\n",
       "      <td>104.8</td>\n",
       "      <td>83.9</td>\n",
       "      <td>87.7</td>\n",
       "      <td>91.5</td>\n",
       "      <td>95.4</td>\n",
       "      <td>99.4</td>\n",
       "      <td>103.4</td>\n",
       "      <td>107.6</td>\n",
       "    </tr>\n",
       "    <tr>\n",
       "      <th>15</th>\n",
       "      <td>2</td>\n",
       "      <td>4</td>\n",
       "      <td>48</td>\n",
       "      <td>0.1129</td>\n",
       "      <td>101.8943</td>\n",
       "      <td>0.0401</td>\n",
       "      <td>92.8</td>\n",
       "      <td>94.5</td>\n",
       "      <td>95.4</td>\n",
       "      <td>96.8</td>\n",
       "      <td>...</td>\n",
       "      <td>108.8</td>\n",
       "      <td>109.8</td>\n",
       "      <td>111.8</td>\n",
       "      <td>90.3</td>\n",
       "      <td>94.0</td>\n",
       "      <td>97.9</td>\n",
       "      <td>101.9</td>\n",
       "      <td>106.1</td>\n",
       "      <td>110.4</td>\n",
       "      <td>114.8</td>\n",
       "    </tr>\n",
       "    <tr>\n",
       "      <th>16</th>\n",
       "      <td>2</td>\n",
       "      <td>5</td>\n",
       "      <td>60</td>\n",
       "      <td>-0.1404</td>\n",
       "      <td>108.3714</td>\n",
       "      <td>0.0390</td>\n",
       "      <td>99.0</td>\n",
       "      <td>100.7</td>\n",
       "      <td>101.7</td>\n",
       "      <td>103.1</td>\n",
       "      <td>...</td>\n",
       "      <td>115.6</td>\n",
       "      <td>116.7</td>\n",
       "      <td>118.7</td>\n",
       "      <td>96.5</td>\n",
       "      <td>100.3</td>\n",
       "      <td>104.2</td>\n",
       "      <td>108.4</td>\n",
       "      <td>112.7</td>\n",
       "      <td>117.2</td>\n",
       "      <td>122.0</td>\n",
       "    </tr>\n",
       "    <tr>\n",
       "      <th>17</th>\n",
       "      <td>2</td>\n",
       "      <td>6</td>\n",
       "      <td>72</td>\n",
       "      <td>0.2115</td>\n",
       "      <td>114.7289</td>\n",
       "      <td>0.0388</td>\n",
       "      <td>104.7</td>\n",
       "      <td>106.6</td>\n",
       "      <td>107.6</td>\n",
       "      <td>109.1</td>\n",
       "      <td>...</td>\n",
       "      <td>122.2</td>\n",
       "      <td>123.3</td>\n",
       "      <td>125.5</td>\n",
       "      <td>102.0</td>\n",
       "      <td>106.1</td>\n",
       "      <td>110.3</td>\n",
       "      <td>114.7</td>\n",
       "      <td>119.2</td>\n",
       "      <td>123.9</td>\n",
       "      <td>128.7</td>\n",
       "    </tr>\n",
       "    <tr>\n",
       "      <th>18</th>\n",
       "      <td>2</td>\n",
       "      <td>7</td>\n",
       "      <td>84</td>\n",
       "      <td>0.0163</td>\n",
       "      <td>120.8229</td>\n",
       "      <td>0.0396</td>\n",
       "      <td>110.2</td>\n",
       "      <td>112.2</td>\n",
       "      <td>113.2</td>\n",
       "      <td>114.8</td>\n",
       "      <td>...</td>\n",
       "      <td>128.9</td>\n",
       "      <td>130.2</td>\n",
       "      <td>132.5</td>\n",
       "      <td>107.3</td>\n",
       "      <td>111.6</td>\n",
       "      <td>116.1</td>\n",
       "      <td>120.8</td>\n",
       "      <td>125.7</td>\n",
       "      <td>130.8</td>\n",
       "      <td>136.0</td>\n",
       "    </tr>\n",
       "    <tr>\n",
       "      <th>19</th>\n",
       "      <td>2</td>\n",
       "      <td>8</td>\n",
       "      <td>96</td>\n",
       "      <td>-0.5993</td>\n",
       "      <td>126.6703</td>\n",
       "      <td>0.0410</td>\n",
       "      <td>115.5</td>\n",
       "      <td>117.5</td>\n",
       "      <td>118.6</td>\n",
       "      <td>120.3</td>\n",
       "      <td>...</td>\n",
       "      <td>135.7</td>\n",
       "      <td>137.1</td>\n",
       "      <td>139.7</td>\n",
       "      <td>112.5</td>\n",
       "      <td>116.9</td>\n",
       "      <td>121.6</td>\n",
       "      <td>126.7</td>\n",
       "      <td>132.0</td>\n",
       "      <td>137.8</td>\n",
       "      <td>143.9</td>\n",
       "    </tr>\n",
       "    <tr>\n",
       "      <th>20</th>\n",
       "      <td>2</td>\n",
       "      <td>9</td>\n",
       "      <td>108</td>\n",
       "      <td>-0.8812</td>\n",
       "      <td>132.6442</td>\n",
       "      <td>0.0423</td>\n",
       "      <td>120.7</td>\n",
       "      <td>122.8</td>\n",
       "      <td>124.0</td>\n",
       "      <td>125.8</td>\n",
       "      <td>...</td>\n",
       "      <td>142.5</td>\n",
       "      <td>144.1</td>\n",
       "      <td>147.0</td>\n",
       "      <td>117.6</td>\n",
       "      <td>122.2</td>\n",
       "      <td>127.2</td>\n",
       "      <td>132.6</td>\n",
       "      <td>138.5</td>\n",
       "      <td>144.8</td>\n",
       "      <td>151.8</td>\n",
       "    </tr>\n",
       "    <tr>\n",
       "      <th>21</th>\n",
       "      <td>2</td>\n",
       "      <td>10</td>\n",
       "      <td>120</td>\n",
       "      <td>-0.1573</td>\n",
       "      <td>139.1218</td>\n",
       "      <td>0.0438</td>\n",
       "      <td>125.7</td>\n",
       "      <td>128.2</td>\n",
       "      <td>129.5</td>\n",
       "      <td>131.6</td>\n",
       "      <td>...</td>\n",
       "      <td>149.6</td>\n",
       "      <td>151.2</td>\n",
       "      <td>154.2</td>\n",
       "      <td>122.1</td>\n",
       "      <td>127.5</td>\n",
       "      <td>133.2</td>\n",
       "      <td>139.1</td>\n",
       "      <td>145.4</td>\n",
       "      <td>152.0</td>\n",
       "      <td>158.9</td>\n",
       "    </tr>\n",
       "    <tr>\n",
       "      <th>22</th>\n",
       "      <td>2</td>\n",
       "      <td>11</td>\n",
       "      <td>132</td>\n",
       "      <td>1.1242</td>\n",
       "      <td>145.7568</td>\n",
       "      <td>0.0435</td>\n",
       "      <td>130.9</td>\n",
       "      <td>133.8</td>\n",
       "      <td>135.3</td>\n",
       "      <td>137.6</td>\n",
       "      <td>...</td>\n",
       "      <td>156.1</td>\n",
       "      <td>157.6</td>\n",
       "      <td>160.4</td>\n",
       "      <td>126.6</td>\n",
       "      <td>133.0</td>\n",
       "      <td>139.4</td>\n",
       "      <td>145.8</td>\n",
       "      <td>152.1</td>\n",
       "      <td>158.4</td>\n",
       "      <td>164.6</td>\n",
       "    </tr>\n",
       "    <tr>\n",
       "      <th>23</th>\n",
       "      <td>2</td>\n",
       "      <td>12</td>\n",
       "      <td>144</td>\n",
       "      <td>2.3447</td>\n",
       "      <td>151.6571</td>\n",
       "      <td>0.0402</td>\n",
       "      <td>136.5</td>\n",
       "      <td>139.5</td>\n",
       "      <td>141.1</td>\n",
       "      <td>143.5</td>\n",
       "      <td>...</td>\n",
       "      <td>161.3</td>\n",
       "      <td>162.6</td>\n",
       "      <td>165.0</td>\n",
       "      <td>131.6</td>\n",
       "      <td>138.7</td>\n",
       "      <td>145.4</td>\n",
       "      <td>151.7</td>\n",
       "      <td>157.6</td>\n",
       "      <td>163.3</td>\n",
       "      <td>168.7</td>\n",
       "    </tr>\n",
       "  </tbody>\n",
       "</table>\n",
       "<p>24 rows × 26 columns</p>\n",
       "</div>"
      ],
      "text/plain": [
       "    sex  age(years)  age(months)       L         M       S    1st    3rd  \\\n",
       "0     1           1           12  1.0000   75.7488  0.0314   70.2   71.3   \n",
       "1     1           2           24  1.0000   87.1161  0.0351   80.0   81.4   \n",
       "2     1           3           36 -1.0915   96.4961  0.0403   88.3   89.7   \n",
       "3     1           4           48 -0.1597  103.0749  0.0400   94.0   95.6   \n",
       "4     1           5           60  0.4242  109.5896  0.0398   99.7  101.6   \n",
       "5     1           6           72  0.1783  115.9183  0.0403  105.5  107.4   \n",
       "6     1           7           84  0.0492  122.0537  0.0406  111.0  113.1   \n",
       "7     1           8           96  0.1205  127.8793  0.0405  116.3  118.5   \n",
       "8     1           9          108  0.1885  133.4136  0.0405  121.3  123.6   \n",
       "9     1          10          120 -0.0752  138.8473  0.0417  126.0  128.4   \n",
       "10    1          11          132  0.0886  144.7010  0.0438  130.6  133.2   \n",
       "11    1          12          144  0.8928  151.4223  0.0465  135.1  138.2   \n",
       "12    2           1           12  1.0000   74.0150  0.0348   68.0   69.2   \n",
       "13    2           2           24  1.0000   85.7153  0.0376   78.2   79.6   \n",
       "14    2           3           36  0.5472   95.4078  0.0413   86.4   88.1   \n",
       "15    2           4           48  0.1129  101.8943  0.0401   92.8   94.5   \n",
       "16    2           5           60 -0.1404  108.3714  0.0390   99.0  100.7   \n",
       "17    2           6           72  0.2115  114.7289  0.0388  104.7  106.6   \n",
       "18    2           7           84  0.0163  120.8229  0.0396  110.2  112.2   \n",
       "19    2           8           96 -0.5993  126.6703  0.0410  115.5  117.5   \n",
       "20    2           9          108 -0.8812  132.6442  0.0423  120.7  122.8   \n",
       "21    2          10          120 -0.1573  139.1218  0.0438  125.7  128.2   \n",
       "22    2          11          132  1.1242  145.7568  0.0435  130.9  133.8   \n",
       "23    2          12          144  2.3447  151.6571  0.0402  136.5  139.5   \n",
       "\n",
       "      5th   10th  ...   95th   97th   99th   -3SD   -2SD   -1SD      0   +1SD  \\\n",
       "0    71.8   72.7  ...   79.7   80.2   81.3   68.6   71.0   73.4   75.7   78.1   \n",
       "1    82.1   83.2  ...   92.1   92.9   94.2   78.0   81.0   84.1   87.1   90.2   \n",
       "2    90.5   91.8  ...  103.4  104.4  106.5   86.1   89.3   92.8   96.5  100.6   \n",
       "3    96.5   97.9  ...  110.1  111.2  113.2   91.5   95.2   99.0  103.1  107.3   \n",
       "4   102.5  104.1  ...  116.9  118.0  120.0   96.9  101.1  105.3  109.6  114.0   \n",
       "5   108.4  110.1  ...  123.8  125.0  127.2  102.6  106.9  111.3  115.9  120.7   \n",
       "6   114.2  115.9  ...  130.5  131.7  134.1  108.0  112.5  117.2  122.1  127.1   \n",
       "7   119.6  121.4  ...  136.6  137.9  140.4  113.2  117.9  122.8  127.9  133.1   \n",
       "8   124.8  126.6  ...  142.5  143.9  146.5  118.0  123.0  128.1  133.4  138.9   \n",
       "9   129.7  131.6  ...  148.7  150.2  153.1  122.6  127.8  133.2  138.8  144.8   \n",
       "10  134.6  136.8  ...  155.5  157.1  160.2  126.8  132.5  138.5  144.7  151.2   \n",
       "11  139.9  142.4  ...  163.0  164.7  167.9  130.5  137.4  144.4  151.4  158.5   \n",
       "12   69.8   70.7  ...   78.3   78.9   80.0   66.3   68.9   71.4   74.0   76.6   \n",
       "13   80.4   81.6  ...   91.0   91.8   93.2   76.0   79.3   82.5   85.7   88.9   \n",
       "14   89.0   90.4  ...  102.0  103.0  104.8   83.9   87.7   91.5   95.4   99.4   \n",
       "15   95.4   96.8  ...  108.8  109.8  111.8   90.3   94.0   97.9  101.9  106.1   \n",
       "16  101.7  103.1  ...  115.6  116.7  118.7   96.5  100.3  104.2  108.4  112.7   \n",
       "17  107.6  109.1  ...  122.2  123.3  125.5  102.0  106.1  110.3  114.7  119.2   \n",
       "18  113.2  114.8  ...  128.9  130.2  132.5  107.3  111.6  116.1  120.8  125.7   \n",
       "19  118.6  120.3  ...  135.7  137.1  139.7  112.5  116.9  121.6  126.7  132.0   \n",
       "20  124.0  125.8  ...  142.5  144.1  147.0  117.6  122.2  127.2  132.6  138.5   \n",
       "21  129.5  131.6  ...  149.6  151.2  154.2  122.1  127.5  133.2  139.1  145.4   \n",
       "22  135.3  137.6  ...  156.1  157.6  160.4  126.6  133.0  139.4  145.8  152.1   \n",
       "23  141.1  143.5  ...  161.3  162.6  165.0  131.6  138.7  145.4  151.7  157.6   \n",
       "\n",
       "     +2SD   +3SD  \n",
       "0    80.5   82.9  \n",
       "1    93.2   96.3  \n",
       "2   105.0  109.8  \n",
       "3   111.7  116.4  \n",
       "4   118.5  123.1  \n",
       "5   125.6  130.7  \n",
       "6   132.4  137.8  \n",
       "7   138.6  144.3  \n",
       "8   144.6  150.4  \n",
       "9   151.0  157.5  \n",
       "10  157.9  164.9  \n",
       "11  165.6  172.7  \n",
       "12   79.2   81.7  \n",
       "13   92.2   95.4  \n",
       "14  103.4  107.6  \n",
       "15  110.4  114.8  \n",
       "16  117.2  122.0  \n",
       "17  123.9  128.7  \n",
       "18  130.8  136.0  \n",
       "19  137.8  143.9  \n",
       "20  144.8  151.8  \n",
       "21  152.0  158.9  \n",
       "22  158.4  164.6  \n",
       "23  163.3  168.7  \n",
       "\n",
       "[24 rows x 26 columns]"
      ]
     },
     "execution_count": 151,
     "metadata": {},
     "output_type": "execute_result"
    }
   ],
   "source": [
    "df_height = pd.read_excel('growth_development.xlsx', sheet_name='신장')\n",
    "df_weight = pd.read_excel('growth_development.xlsx', sheet_name='체중')"
   ]
  },
  {
   "cell_type": "code",
   "execution_count": 170,
   "id": "fdfae076-11b1-4658-9430-6623d727f25c",
   "metadata": {
    "execution": {
     "iopub.execute_input": "2023-08-05T03:31:37.957739Z",
     "iopub.status.busy": "2023-08-05T03:31:37.957258Z",
     "iopub.status.idle": "2023-08-05T03:31:37.972065Z",
     "shell.execute_reply": "2023-08-05T03:31:37.971402Z",
     "shell.execute_reply.started": "2023-08-05T03:31:37.957693Z"
    },
    "tags": []
   },
   "outputs": [],
   "source": [
    "# loading pediatric growth chart\n",
    "df_height = pd.read_excel('growth_development.xlsx', sheet_name='신장')\n",
    "df_weight = pd.read_excel('growth_development.xlsx', sheet_name='체중')\n",
    "\n",
    "percentiles = ['5th', '15th', '25th', '50th', '75th', '85th', '95th']\n",
    "tables_cuffed, tables_uncuffed = [], []\n",
    "\n",
    "for i in range(24):\n",
    "    sex = 2 - df_height.loc[i, 'sex']  # excel은 male 1, female 2 -> 모델은 male 1, female 0\n",
    "    age = df_height.loc[i, 'age(years)']\n",
    "    hs = df_height.loc[i, percentiles].values\n",
    "    ws = df_weight.loc[i, percentiles].values\n",
    "    \n",
    "    for j in range(len(hs)):\n",
    "        tables_cuffed.append(prediction_cuffed([age, sex, ws[j], hs[j]]))\n",
    "        tables_uncuffed.append(prediction_uncuffed([age, ws[j], hs[j]]))"
   ]
  },
  {
   "cell_type": "code",
   "execution_count": null,
   "id": "14b304e6-f048-4609-9c8a-90bb9088e7ce",
   "metadata": {},
   "outputs": [],
   "source": [
    "pd.DataFrame(tables_cuffed, columns=['age', 'weight', 'height', 'predicted_LR', 'predicted_GBRT']).to_csv('S4_cuffed.csv')\n",
    "pd.DataFrame(tables_uncuffed, columns=['age', 'weight', 'height', 'predicted_LR', 'predicted_GBRT']).to_csv('S4_uncuffed.csv')"
   ]
  },
  {
   "cell_type": "code",
   "execution_count": 75,
   "id": "e6d6c30d-2aaf-471a-87a6-2b08809648ed",
   "metadata": {
    "execution": {
     "iopub.execute_input": "2023-07-23T04:33:28.123620Z",
     "iopub.status.busy": "2023-07-23T04:33:28.123084Z",
     "iopub.status.idle": "2023-07-23T04:33:28.159261Z",
     "shell.execute_reply": "2023-07-23T04:33:28.158277Z",
     "shell.execute_reply.started": "2023-07-23T04:33:28.123561Z"
    },
    "jupyter": {
     "source_hidden": true
    },
    "tags": []
   },
   "outputs": [
    {
     "data": {
      "text/plain": [
       "[[1, 8, 70, 0, 4.0],\n",
       " [1, 10, 80, 0, 4.5],\n",
       " [2, 10, 80, 0, 4.5],\n",
       " [2, 15, 90, 0, 4.5],\n",
       " [3, 15, 90, 0, 5.0],\n",
       " [3, 20, 100, 0, 5.0]]"
      ]
     },
     "execution_count": 75,
     "metadata": {},
     "output_type": "execute_result"
    }
   ],
   "source": [
    "# predicted size\n",
    "# age, sex (MALE=1), wt, ht, uncuffed/cuffed(cuffed=1), predictedLM, predicted GBRT\n",
    "\n",
    "tables = []\n",
    "\n",
    "inp = [1, 8, 70, 0]\n",
    "tables.append(prediction_uncuffed(inp))\n",
    "\n",
    "inp = [1, 10, 80, 0]\n",
    "tables.append(prediction_uncuffed(inp))\n",
    "\n",
    "inp = [2, 10, 80, 0]\n",
    "tables.append(prediction_uncuffed(inp))\n",
    "\n",
    "inp = [2, 15, 90, 0]\n",
    "tables.append(prediction_uncuffed(inp))\n",
    "\n",
    "inp = [3, 15, 90, 0]\n",
    "tables.append(prediction_uncuffed(inp))\n",
    "\n",
    "inp = [3, 20, 100, 0]\n",
    "tables.append(prediction_uncuffed(inp))\n",
    "\n",
    "inp = [4, 15, 100, 0]\n",
    "tables.append(prediction_uncuffed(inp))\n",
    "\n",
    "inp = [4, 20, 110, 0]\n",
    "tables.append(prediction_uncuffed(inp))\n",
    "\n",
    "inp = [5, 15, 100, 0]\n",
    "tables.append(prediction_uncuffed(inp))\n",
    "\n",
    "inp = [5, 20, 110, 0]\n",
    "tables.append(prediction_uncuffed(inp))\n",
    "\n",
    "inp = [5, 25, 120, 0]\n",
    "tables.append(prediction_uncuffed(inp))\n",
    "\n",
    "\n",
    "\n",
    "print('[age, weight, height, un/cuffed, predicted LM, predicted GBRT]')\n",
    "tables"
   ]
  },
  {
   "cell_type": "markdown",
   "id": "e1852d20-dcbc-4c3b-865c-8cd49f7f9f2b",
   "metadata": {},
   "source": [
    "### Depth models"
   ]
  },
  {
   "cell_type": "code",
   "execution_count": 5,
   "id": "ac54e4c5-fef2-4602-8eaf-b088eb5f6ad9",
   "metadata": {
    "execution": {
     "iopub.execute_input": "2023-08-13T11:23:19.178341Z",
     "iopub.status.busy": "2023-08-13T11:23:19.177841Z",
     "iopub.status.idle": "2023-08-13T11:23:19.188139Z",
     "shell.execute_reply": "2023-08-13T11:23:19.187284Z",
     "shell.execute_reply.started": "2023-08-13T11:23:19.178294Z"
    },
    "tags": []
   },
   "outputs": [],
   "source": [
    "import xgboost as xgb\n",
    "\n",
    "# Linear regression model\n",
    "lr_uncuff = pickle.load(open(f'result/revision1/depth/mae-0.742_rmse-0.940_r20.803_LR_uncuff/model','rb'))\n",
    "\n",
    "# Gradient-boosted regression tree model\n",
    "gbrt_uncuff = xgb.XGBRegressor()\n",
    "gbrt_uncuff.load_model('result/revision1/depth/mae-0.706_rmse-0.884_r20.831_gbrt_uncuff_10nfold/model.model')\n",
    "\n",
    "# Linear regression model\n",
    "#lr_cuff = pickle.load(open(f'result/revision1/depth/mae-0.775_rmse-1.060_r20.882_LR_cuff+sex/model','rb'))\n",
    "lr_cuff = pickle.load(open(f'result/revision1/depth/mae-0.775_rmse-1.061_r20.883_LR_cuff/model','rb'))\n",
    "\n",
    "\n",
    "# Gradient-boosted regression tree model\n",
    "gbrt_cuff = xgb.XGBRegressor()\n",
    "#gbrt_cuff.load_model('result/revision1/depth/mae-0.722_rmse-1.005_r20.902_gbrt_cuff+sex_10nfold/model.model')\n",
    "gbrt_cuff.load_model('result/revision1/depth/mae-0.719_rmse-1.005_r20.903_gbrt_cuff_10nfold/model.model')\n"
   ]
  },
  {
   "cell_type": "code",
   "execution_count": 7,
   "id": "77a824b9-95c3-4879-a0b4-036b5f335c67",
   "metadata": {
    "execution": {
     "iopub.execute_input": "2023-08-13T11:23:33.622850Z",
     "iopub.status.busy": "2023-08-13T11:23:33.622356Z",
     "iopub.status.idle": "2023-08-13T11:23:33.630741Z",
     "shell.execute_reply": "2023-08-13T11:23:33.629783Z",
     "shell.execute_reply.started": "2023-08-13T11:23:33.622801Z"
    },
    "tags": []
   },
   "outputs": [],
   "source": [
    "def prediction_cuffed(inp):\n",
    "    # prediction of lr model\n",
    "    y_lr = lr_cuff.predict([inp])\n",
    "    \n",
    "    \n",
    "    # prediction of gbrt model\n",
    "    y_gbrt = gbrt_cuff.predict([inp]).flatten()\n",
    "    \n",
    "    \n",
    "    inp.extend(y_lr)\n",
    "    inp.extend(y_gbrt)\n",
    "    return inp\n",
    "\n",
    "\n",
    "def prediction_uncuffed(inp):\n",
    "    # prediction of lr model\n",
    "    y_lr = lr_uncuff.predict([inp])\n",
    "    \n",
    "    \n",
    "    # prediction of gbrt model\n",
    "    y_gbrt = gbrt_uncuff.predict([inp]).flatten()\n",
    "    \n",
    "    \n",
    "    inp.extend(y_lr)\n",
    "    inp.extend(y_gbrt)\n",
    "    return inp"
   ]
  },
  {
   "cell_type": "code",
   "execution_count": 11,
   "id": "7242d06c-6849-47cc-a13b-97c6d36d3f09",
   "metadata": {
    "execution": {
     "iopub.execute_input": "2023-08-13T11:35:13.578022Z",
     "iopub.status.busy": "2023-08-13T11:35:13.577571Z",
     "iopub.status.idle": "2023-08-13T11:35:13.587353Z",
     "shell.execute_reply": "2023-08-13T11:35:13.586697Z",
     "shell.execute_reply.started": "2023-08-13T11:35:13.577980Z"
    },
    "tags": []
   },
   "outputs": [
    {
     "data": {
      "text/plain": [
       "[12, 0, 59.1, 161.3]"
      ]
     },
     "execution_count": 11,
     "metadata": {},
     "output_type": "execute_result"
    }
   ],
   "source": [
    "asd = [age, sex, ws[j], hs[j]]\n",
    "asd"
   ]
  },
  {
   "cell_type": "code",
   "execution_count": 13,
   "id": "2c549abf-251d-4646-be63-7aa810f07fe8",
   "metadata": {
    "execution": {
     "iopub.execute_input": "2023-08-13T11:35:54.714185Z",
     "iopub.status.busy": "2023-08-13T11:35:54.713735Z",
     "iopub.status.idle": "2023-08-13T11:35:54.721212Z",
     "shell.execute_reply": "2023-08-13T11:35:54.720473Z",
     "shell.execute_reply.started": "2023-08-13T11:35:54.714143Z"
    },
    "tags": []
   },
   "outputs": [
    {
     "data": {
      "text/plain": [
       "array([ 71.1, 173.3])"
      ]
     },
     "execution_count": 13,
     "metadata": {},
     "output_type": "execute_result"
    }
   ],
   "source": [
    "asd[0] + asd[2:]"
   ]
  },
  {
   "cell_type": "code",
   "execution_count": 9,
   "id": "ab52a434-b7f3-4684-aa77-cfb889760155",
   "metadata": {
    "execution": {
     "iopub.execute_input": "2023-08-13T11:23:53.863566Z",
     "iopub.status.busy": "2023-08-13T11:23:53.863069Z",
     "iopub.status.idle": "2023-08-13T11:23:54.615973Z",
     "shell.execute_reply": "2023-08-13T11:23:54.615248Z",
     "shell.execute_reply.started": "2023-08-13T11:23:53.863518Z"
    },
    "tags": []
   },
   "outputs": [],
   "source": [
    "# loading pediatric growth chart\n",
    "df_height = pd.read_excel('growth_development.xlsx', sheet_name='신장')\n",
    "df_weight = pd.read_excel('growth_development.xlsx', sheet_name='체중')\n",
    "\n",
    "percentiles = ['5th', '15th', '25th', '50th', '75th', '85th', '95th']\n",
    "tables_cuffed, tables_uncuffed = [], []\n",
    "\n",
    "for i in range(24):\n",
    "    sex = 2 - df_height.loc[i, 'sex']  # excel은 male 1, female 2 -> 모델은 male 1, female 0\n",
    "    age = df_height.loc[i, 'age(years)']\n",
    "    hs = df_height.loc[i, percentiles].values\n",
    "    ws = df_weight.loc[i, percentiles].values\n",
    "    \n",
    "    for j in range(len(hs)):\n",
    "        tables_cuffed.append(prediction_cuffed([age, ws[j], hs[j]]))\n",
    "        tables_uncuffed.append(prediction_uncuffed([age, sex, ws[j], hs[j]]))"
   ]
  },
  {
   "cell_type": "code",
   "execution_count": 14,
   "id": "3cd6dd8a-d3f6-4070-84e2-73b3ec632001",
   "metadata": {
    "execution": {
     "iopub.execute_input": "2023-08-13T11:36:16.108773Z",
     "iopub.status.busy": "2023-08-13T11:36:16.108287Z",
     "iopub.status.idle": "2023-08-13T11:36:16.120662Z",
     "shell.execute_reply": "2023-08-13T11:36:16.120050Z",
     "shell.execute_reply.started": "2023-08-13T11:36:16.108725Z"
    },
    "tags": []
   },
   "outputs": [],
   "source": [
    "pd.DataFrame(tables_cuffed, columns=['age', 'weight', 'height', 'predicted_LR', 'predicted_GBRT']).to_csv('Suppl_T2_depth_cuffed.csv')\n",
    "pd.DataFrame(tables_uncuffed, columns=['age', 'sex', 'weight', 'height', 'predicted_LR', 'predicted_GBRT']).to_csv('Suppl_T2_depth_uncuffed.csv')"
   ]
  },
  {
   "cell_type": "markdown",
   "id": "dcd87b91-7f09-4ffb-9334-a415969d3fda",
   "metadata": {},
   "source": [
    "# Table 1"
   ]
  },
  {
   "cell_type": "code",
   "execution_count": 3,
   "id": "0a47b917-d89f-48b1-bbac-b4aba7bc1c8a",
   "metadata": {
    "execution": {
     "iopub.execute_input": "2023-08-06T14:07:00.194512Z",
     "iopub.status.busy": "2023-08-06T14:07:00.193810Z",
     "iopub.status.idle": "2023-08-06T14:07:00.217635Z",
     "shell.execute_reply": "2023-08-06T14:07:00.216821Z",
     "shell.execute_reply.started": "2023-08-06T14:07:00.194464Z"
    },
    "tags": []
   },
   "outputs": [
    {
     "name": "stdout",
     "output_type": "stream",
     "text": [
      "total x_uncuff_train: 18934, x_uncuff_test: 4733\n",
      "[age] \n",
      "train - mean : 3.32, std : 2.83\n",
      "test - mean : 2.94, std : 2.49\n",
      "\n",
      "neonate: train 671 (0.0354), test 163 (0.0344)\n",
      "infant: train 4597 (0.2428), test 1107 (0.2339)\n",
      "the others: train 13666 (0.7218), test 3463 (0.7317)\n",
      "[sex] \n",
      "train - female : 7811.0(0.413), male: 11123.0(0.587)\n",
      "test - female : 1999.0(0.422), male: 2734.0(0.578)\n",
      "\n",
      "[weight]  mean : 14.59, std : 7.98\n",
      "test - mean : 13.67, std : 7.00\n",
      "\n"
     ]
    },
    {
     "ename": "IndexError",
     "evalue": "index 3 is out of bounds for axis 1 with size 3",
     "output_type": "error",
     "traceback": [
      "\u001b[0;31m---------------------------------------------------------------------------\u001b[0m",
      "\u001b[0;31mIndexError\u001b[0m                                Traceback (most recent call last)",
      "\u001b[0;32m/tmp/ipykernel_2732114/243773131.py\u001b[0m in \u001b[0;36m<module>\u001b[0;34m\u001b[0m\n\u001b[1;32m     18\u001b[0m \u001b[0;34m\u001b[0m\u001b[0m\n\u001b[1;32m     19\u001b[0m \u001b[0;31m# height\u001b[0m\u001b[0;34m\u001b[0m\u001b[0;34m\u001b[0m\u001b[0;34m\u001b[0m\u001b[0m\n\u001b[0;32m---> 20\u001b[0;31m \u001b[0mprint\u001b[0m\u001b[0;34m(\u001b[0m\u001b[0;34mf'[height]  mean : {np.nanmean(x_uncuff_train[:,3]):.2f}, std : {np.nanstd(x_uncuff_train[:,3]):.2f}'\u001b[0m\u001b[0;34m)\u001b[0m\u001b[0;34m\u001b[0m\u001b[0;34m\u001b[0m\u001b[0m\n\u001b[0m\u001b[1;32m     21\u001b[0m \u001b[0mprint\u001b[0m\u001b[0;34m(\u001b[0m\u001b[0;34mf'test - mean : {np.nanmean(x_uncuff_test[:,3]):.2f}, std : {np.nanstd(x_uncuff_test[:,3]):.2f}\\n'\u001b[0m\u001b[0;34m)\u001b[0m\u001b[0;34m\u001b[0m\u001b[0;34m\u001b[0m\u001b[0m\n\u001b[1;32m     22\u001b[0m \u001b[0;34m\u001b[0m\u001b[0m\n",
      "\u001b[0;31mIndexError\u001b[0m: index 3 is out of bounds for axis 1 with size 3"
     ]
    }
   ],
   "source": [
    "print(f'total x_uncuff_train: {len(x_uncuff_train)}, x_uncuff_test: {len(x_uncuff_test)}')\n",
    "# age\n",
    "print(f'[age] \\ntrain - mean : {np.mean(x_uncuff_train[:,0]):.2f}, std : {np.std(x_uncuff_train[:,0]):.2f}')\n",
    "print(f'test - mean : {np.mean(x_uncuff_test[:,0]):.2f}, std : {np.std(x_uncuff_test[:,0]):.2f}\\n')\n",
    "print(f'neonate: train {np.sum(x_uncuff_train[:,0]<1/12)} ({np.sum(x_uncuff_train[:,0]<1/12)/len(x_uncuff_train):.4f}), test {np.sum(x_uncuff_test[:,0]<1/12)} ({np.sum(x_uncuff_test[:,0]<1/12)/len(x_uncuff_test):.4f})')\n",
    "print(f'infant: train {np.sum((x_uncuff_train[:,0]<1)&(x_uncuff_train[:,0]>1/12))} ({np.sum((x_uncuff_train[:,0]<1)&(x_uncuff_train[:,0]>1/12))/len(x_uncuff_train):.4f}), test {np.sum((x_uncuff_test[:,0]<1)&(x_uncuff_test[:,0]>1/12))} ({np.sum((x_uncuff_test[:,0]<1)&(x_uncuff_test[:,0]>1/12))/len(x_uncuff_test):.4f})')\n",
    "print(f'the others: train {np.sum(x_uncuff_train[:,0]>1)} ({np.sum(x_uncuff_train[:,0]>1)/len(x_uncuff_train):.4f}), test {np.sum(x_uncuff_test[:,0]>1)} ({np.sum(x_uncuff_test[:,0]>1)/len(x_uncuff_test):.4f})')\n",
    "\n",
    "\n",
    "# sex\n",
    "print(f'[sex] \\ntrain - female : {len(x_uncuff_train)-np.sum(x_uncuff_train[:,1])}({1-np.mean(x_uncuff_train[:,1]):.3f}), male: {np.sum(x_uncuff_train[:,1])}({np.mean(x_uncuff_train[:,1]):.3f})')\n",
    "print(f'test - female : {len(x_uncuff_test)-np.sum(x_uncuff_test[:,1])}({1-np.mean(x_uncuff_test[:,1]):.3f}), male: {np.sum(x_uncuff_test[:,1])}({np.mean(x_uncuff_test[:,1]):.3f})\\n')\n",
    "\n",
    "\n",
    "# weight\n",
    "print(f'[weight]  mean : {np.nanmean(x_uncuff_train[:,2]):.2f}, std : {np.nanstd(x_uncuff_train[:,2]):.2f}')\n",
    "print(f'test - mean : {np.nanmean(x_uncuff_test[:,2]):.2f}, std : {np.nanstd(x_uncuff_test[:,2]):.2f}\\n')\n",
    "\n",
    "# height\n",
    "print(f'[height]  mean : {np.nanmean(x_uncuff_train[:,3]):.2f}, std : {np.nanstd(x_uncuff_train[:,3]):.2f}')\n",
    "print(f'test - mean : {np.nanmean(x_uncuff_test[:,3]):.2f}, std : {np.nanstd(x_uncuff_test[:,3]):.2f}\\n')\n",
    "\n",
    "# tube size\n",
    "print(f'[tube size] \\ntrain - mean : {np.mean(y_uncuff_train):.2f}, std : {np.std(y_uncuff_train):.2f}')\n",
    "print(f'test - mean : {np.mean(y_uncuff_test):.2f}, std : {np.std(y_uncuff_test):.2f}\\n')"
   ]
  }
 ],
 "metadata": {
  "kernelspec": {
   "display_name": "keras",
   "language": "python",
   "name": "painstudy_keras"
  },
  "language_info": {
   "codemirror_mode": {
    "name": "ipython",
    "version": 3
   },
   "file_extension": ".py",
   "mimetype": "text/x-python",
   "name": "python",
   "nbconvert_exporter": "python",
   "pygments_lexer": "ipython3",
   "version": "3.8.12"
  }
 },
 "nbformat": 4,
 "nbformat_minor": 5
}
