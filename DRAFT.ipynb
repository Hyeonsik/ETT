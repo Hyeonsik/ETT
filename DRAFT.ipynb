{
 "cells": [
  {
   "cell_type": "code",
   "execution_count": 1,
   "id": "7d2ebd31-f52b-46d2-82bc-3b0e1f10e8d6",
   "metadata": {
    "execution": {
     "iopub.execute_input": "2023-02-16T13:15:14.610460Z",
     "iopub.status.busy": "2023-02-16T13:15:14.609722Z",
     "iopub.status.idle": "2023-02-16T13:15:14.626283Z",
     "shell.execute_reply": "2023-02-16T13:15:14.624202Z",
     "shell.execute_reply.started": "2023-02-16T13:15:14.610331Z"
    },
    "tags": []
   },
   "outputs": [],
   "source": [
    "# tensorflow 사용 시 seed 고정\n",
    "def seed_everything(seed: int = 98):\n",
    "    random.seed(seed)\n",
    "    np.random.seed(seed)\n",
    "    os.environ[\"PYTHONHASHSEED\"] = str(seed)\n",
    "    tf.random.set_seed(seed)\n",
    "    \n",
    "SEED = 98"
   ]
  },
  {
   "cell_type": "markdown",
   "id": "fc6f64f5-50bd-49eb-a41a-5966d9a3b6d7",
   "metadata": {},
   "source": [
    "# Fig1"
   ]
  },
  {
   "cell_type": "code",
   "execution_count": 67,
   "id": "3879475d-d4d7-47c9-964c-41673b17fc56",
   "metadata": {
    "execution": {
     "iopub.execute_input": "2023-02-16T14:54:57.654702Z",
     "iopub.status.busy": "2023-02-16T14:54:57.654111Z",
     "iopub.status.idle": "2023-02-16T14:55:01.015486Z",
     "shell.execute_reply": "2023-02-16T14:55:01.014866Z",
     "shell.execute_reply.started": "2023-02-16T14:54:57.654645Z"
    },
    "tags": []
   },
   "outputs": [
    {
     "name": "stdout",
     "output_type": "stream",
     "text": [
      "695913\n",
      "282792\n",
      "281976\n"
     ]
    },
    {
     "data": {
      "text/plain": [
       "59352"
      ]
     },
     "execution_count": 67,
     "metadata": {},
     "output_type": "execute_result"
    }
   ],
   "source": [
    "from sklearn.model_selection import GridSearchCV, RandomizedSearchCV\n",
    "from sklearn.metrics import explained_variance_score, mean_squared_error, mean_absolute_error, r2_score\n",
    "from sklearn.utils import shuffle\n",
    "import pandas as pd\n",
    "import xgboost as xgb\n",
    "import numpy as np\n",
    "import random, os, datetime, pickle\n",
    "import scipy\n",
    "import matplotlib.pyplot as plt\n",
    "import numpy as np\n",
    "import csv\n",
    "\n",
    "\n",
    "# tube.csv에 수술 시점 weight, height 추가\n",
    "df0 = pd.read_csv('tube.csv')\n",
    "df0.drop(columns=['weight', 'height'], inplace=True)\n",
    "df = pd.read_csv('demography_revised.csv')\n",
    "df = df0.merge(df[['opid', 'weight', 'height']], how='left', on='opid', suffixes=('_o',''))\n",
    "\n",
    "df.loc[df['weight'] <= 0, 'weight'] = None\n",
    "df.loc[df['height'] <= 0, 'height'] = None\n",
    "df['age'] = df['age'].astype(int)\n",
    "#df = df.loc[df['age'] < 10]\n",
    "print(f'초기 전체 opid: {len(df)}')\n",
    "df = df.loc[df['airway_tube_type'] == 'plain']\n",
    "# [nan 'plain' 'RAE(oral)' 'reinforced' 'LMA' 'T-tube' 'CobraPLA', 'double lumen tube' 'RAE(nasal)' 'laser' 'combitube' 'univent']\n",
    "\n",
    "print(f'airway tube type이 plain이 아닌 경우 제외: {len(df)}')\n",
    "# age, sex, airway tube size 값이 없는 경우는 제외\n",
    "\n",
    "df.dropna(subset=['age', 'airway_tube_size'], inplace=True)  # sex는 모든 데이터 다 있음\n",
    "df['sex'] = (df['sex'] == 'M')\n",
    "print(f'age, airway_tube_size 결측치 제외: {len(df)}')\n",
    "\n",
    "# 나이 계산 -> age_cal 열에 추가\n",
    "df_b = pd.read_csv('birth_sex.csv')\n",
    "df_b.rename(columns={'생년월일':'birth_date'}, inplace=True)\n",
    "df_b['birth_date'] = df_b['birth_date'].apply(lambda x: datetime.datetime.strptime(x, '%Y-%m-%d'))\n",
    "\n",
    "df_o = pd.read_csv('opdates.csv')\n",
    "df_o['opdate'] = df_o['opdate'].apply(lambda x: datetime.datetime.strptime(x, '%Y-%m-%d'))\n",
    "\n",
    "df1 = pd.merge(df_o, df_b, how='inner', on='hid')\n",
    "df1['age_cal'] = (df1['opdate'] - df1['birth_date'])/pd.Timedelta(days=365.2425)\n",
    "\n",
    "df = pd.merge(df, df1[['opid', 'age_cal', 'opdate', 'birth_date']], how='inner', on='opid')\n",
    "#df3 = pd.merge(df, df1[['opid', 'age_cal', 'opdate', 'birth_date']], how='left', on='opid')\n",
    "\n",
    "# inclusion criteria : 소아 10세 미만\n",
    "#df['age_cal'] = df['age_cal'] + 0.01 # 생일이랑 수술날 같은 경우\n",
    "df = df.loc[df['age_cal'] < 10-0.01]  # 생일이랑 수술날 같은 경우\n",
    "df = df.loc[df['age_cal'] > 0]\n",
    "len(df)"
   ]
  },
  {
   "cell_type": "code",
   "execution_count": 64,
   "id": "189d24ea-fb56-476a-ada7-14a9247fb161",
   "metadata": {
    "execution": {
     "iopub.execute_input": "2023-02-16T14:50:12.134306Z",
     "iopub.status.busy": "2023-02-16T14:50:12.133737Z",
     "iopub.status.idle": "2023-02-16T14:50:12.157424Z",
     "shell.execute_reply": "2023-02-16T14:50:12.156323Z",
     "shell.execute_reply.started": "2023-02-16T14:50:12.134249Z"
    },
    "tags": []
   },
   "outputs": [
    {
     "data": {
      "text/html": [
       "<div>\n",
       "<style scoped>\n",
       "    .dataframe tbody tr th:only-of-type {\n",
       "        vertical-align: middle;\n",
       "    }\n",
       "\n",
       "    .dataframe tbody tr th {\n",
       "        vertical-align: top;\n",
       "    }\n",
       "\n",
       "    .dataframe thead th {\n",
       "        text-align: right;\n",
       "    }\n",
       "</style>\n",
       "<table border=\"1\" class=\"dataframe\">\n",
       "  <thead>\n",
       "    <tr style=\"text-align: right;\">\n",
       "      <th></th>\n",
       "      <th>opid</th>\n",
       "      <th>sex</th>\n",
       "      <th>age</th>\n",
       "      <th>airway_tube_size</th>\n",
       "      <th>airway_tube_type</th>\n",
       "      <th>airway_lma</th>\n",
       "      <th>weight</th>\n",
       "      <th>height</th>\n",
       "      <th>age_cal</th>\n",
       "      <th>opdate</th>\n",
       "      <th>birth_date</th>\n",
       "    </tr>\n",
       "  </thead>\n",
       "  <tbody>\n",
       "    <tr>\n",
       "      <th>47551</th>\n",
       "      <td>140924126</td>\n",
       "      <td>False</td>\n",
       "      <td>10</td>\n",
       "      <td>6.5</td>\n",
       "      <td>plain</td>\n",
       "      <td>NaN</td>\n",
       "      <td>56.1</td>\n",
       "      <td>154.2</td>\n",
       "      <td>9.998836</td>\n",
       "      <td>2014-09-24</td>\n",
       "      <td>2004-09-24</td>\n",
       "    </tr>\n",
       "  </tbody>\n",
       "</table>\n",
       "</div>"
      ],
      "text/plain": [
       "            opid    sex  age  airway_tube_size airway_tube_type  airway_lma  \\\n",
       "47551  140924126  False   10               6.5            plain         NaN   \n",
       "\n",
       "       weight  height   age_cal     opdate birth_date  \n",
       "47551    56.1   154.2  9.998836 2014-09-24 2004-09-24  "
      ]
     },
     "execution_count": 64,
     "metadata": {},
     "output_type": "execute_result"
    }
   ],
   "source": [
    "df[df['opid']==140924126]"
   ]
  },
  {
   "cell_type": "code",
   "execution_count": 32,
   "id": "05b857f5-1c9b-4b72-828b-fe55d748af90",
   "metadata": {
    "collapsed": true,
    "execution": {
     "iopub.execute_input": "2023-02-16T14:34:56.499655Z",
     "iopub.status.busy": "2023-02-16T14:34:56.499118Z",
     "iopub.status.idle": "2023-02-16T14:34:56.520143Z",
     "shell.execute_reply": "2023-02-16T14:34:56.519338Z",
     "shell.execute_reply.started": "2023-02-16T14:34:56.499599Z"
    },
    "jupyter": {
     "outputs_hidden": true
    },
    "tags": []
   },
   "outputs": [
    {
     "data": {
      "text/plain": [
       "{60119113,\n",
       " 100402123,\n",
       " 120215116,\n",
       " 140924126,\n",
       " 200731100,\n",
       " 200929098,\n",
       " 201222093,\n",
       " 210107143,\n",
       " 210108148,\n",
       " 210111133,\n",
       " 210111166,\n",
       " 210113141,\n",
       " 210113147,\n",
       " 210115136,\n",
       " 210118133,\n",
       " 210118134,\n",
       " 210121144,\n",
       " 210121162,\n",
       " 210122155,\n",
       " 210122169,\n",
       " 210125128,\n",
       " 210128129,\n",
       " 210201134,\n",
       " 210201140,\n",
       " 210203163,\n",
       " 210205152,\n",
       " 210209131,\n",
       " 210209140,\n",
       " 210210139,\n",
       " 210212003,\n",
       " 210217139,\n",
       " 210223142,\n",
       " 210224134,\n",
       " 210224142,\n",
       " 210225129,\n",
       " 210303159,\n",
       " 210304151,\n",
       " 210304152,\n",
       " 210308151,\n",
       " 210308152,\n",
       " 210308154,\n",
       " 210308155,\n",
       " 210309133,\n",
       " 210312153,\n",
       " 210315129,\n",
       " 210315131,\n",
       " 210315133,\n",
       " 210315153,\n",
       " 210318127,\n",
       " 210319122,\n",
       " 210322127,\n",
       " 210322150,\n",
       " 210322151,\n",
       " 210324140,\n",
       " 210324145,\n",
       " 210325147,\n",
       " 210326126,\n",
       " 210329134,\n",
       " 210331129,\n",
       " 210401156,\n",
       " 210406134,\n",
       " 210407127,\n",
       " 210407134,\n",
       " 210408134,\n",
       " 210409136,\n",
       " 210419123,\n",
       " 210419145,\n",
       " 210419149,\n",
       " 210426126,\n",
       " 210427139,\n",
       " 210428125,\n",
       " 210429136,\n",
       " 210503124,\n",
       " 210503147,\n",
       " 210504133,\n",
       " 210506126,\n",
       " 210510140,\n",
       " 210512146,\n",
       " 210514150,\n",
       " 210517123,\n",
       " 210520141,\n",
       " 210524127,\n",
       " 210524128,\n",
       " 210524151,\n",
       " 210524152,\n",
       " 210527126,\n",
       " 210527134,\n",
       " 210601128,\n",
       " 210603141,\n",
       " 210609148,\n",
       " 210609159,\n",
       " 210610146,\n",
       " 210614131,\n",
       " 210614132,\n",
       " 210614154,\n",
       " 210614157,\n",
       " 210615119,\n",
       " 210616085,\n",
       " 210621131,\n",
       " 210621138,\n",
       " 210624147,\n",
       " 210628132,\n",
       " 210628133,\n",
       " 210702082,\n",
       " 210705140,\n",
       " 210705141,\n",
       " 210705145,\n",
       " 210706142,\n",
       " 210707153,\n",
       " 210709140,\n",
       " 210712135,\n",
       " 210715128,\n",
       " 210715136,\n",
       " 210716162,\n",
       " 210719127,\n",
       " 210719132,\n",
       " 210719133,\n",
       " 210719138,\n",
       " 210723133,\n",
       " 210726132,\n",
       " 210802141,\n",
       " 210804127,\n",
       " 210806141,\n",
       " 210809160,\n",
       " 210811159,\n",
       " 210816132,\n",
       " 210819128,\n",
       " 210819135,\n",
       " 210823143,\n",
       " 210823147,\n",
       " 210827148,\n",
       " 210830138,\n",
       " 210902143,\n",
       " 210903149,\n",
       " 210910144,\n",
       " 210913156,\n",
       " 210913171,\n",
       " 210914125,\n",
       " 210917163,\n",
       " 210924147,\n",
       " 211005127,\n",
       " 211007157,\n",
       " 211010003,\n",
       " 211011125,\n",
       " 211013133,\n",
       " 211018134,\n",
       " 211018145,\n",
       " 211019144,\n",
       " 211020141,\n",
       " 211020158,\n",
       " 211025141,\n",
       " 211026137,\n",
       " 211028142,\n",
       " 211101157,\n",
       " 211108137,\n",
       " 211108142,\n",
       " 211109155,\n",
       " 211110131,\n",
       " 211110139,\n",
       " 211111141,\n",
       " 211113014,\n",
       " 211115140,\n",
       " 211117129,\n",
       " 211118156,\n",
       " 211118157,\n",
       " 211122148,\n",
       " 211122150,\n",
       " 211122168,\n",
       " 211124116,\n",
       " 211125151,\n",
       " 211129134,\n",
       " 211204003,\n",
       " 211206138,\n",
       " 211209161,\n",
       " 211215154,\n",
       " 211220134,\n",
       " 211220159,\n",
       " 211223128,\n",
       " 211229142,\n",
       " 211231147,\n",
       " 220103141,\n",
       " 220103157,\n",
       " 220104136,\n",
       " 220105143,\n",
       " 220118131,\n",
       " 220119139,\n",
       " 220119149,\n",
       " 220124153,\n",
       " 220126156,\n",
       " 220128153,\n",
       " 220128166,\n",
       " 220128177,\n",
       " 220203151,\n",
       " 220204142,\n",
       " 220204156,\n",
       " 220207145,\n",
       " 220207147,\n",
       " 220207160,\n",
       " 220212006,\n",
       " 220214137,\n",
       " 220214144,\n",
       " 220216153,\n",
       " 220217145,\n",
       " 220221131,\n",
       " 220223125,\n",
       " 220228127,\n",
       " 220303114,\n",
       " 220304124,\n",
       " 220304139,\n",
       " 220307139,\n",
       " 220308135,\n",
       " 220310134,\n",
       " 220315142,\n",
       " 220316138,\n",
       " 220316141,\n",
       " 220321138,\n",
       " 220322119,\n",
       " 220325128,\n",
       " 220328147,\n",
       " 220330134,\n",
       " 220330137}"
      ]
     },
     "execution_count": 32,
     "metadata": {},
     "output_type": "execute_result"
    }
   ],
   "source": [
    "# age와 age_cal 값이 차이나는 데이터들\n",
    "set1 = set(df.loc[df['age'] < 10]['opid'].values)\n",
    "set2 = set(df.loc[df['age_cal'] < 10]['opid'].values)\n",
    "set2 - set1"
   ]
  },
  {
   "cell_type": "code",
   "execution_count": 73,
   "id": "f3fa1b41-ea34-4d05-9b54-0a4453298dc7",
   "metadata": {
    "execution": {
     "iopub.execute_input": "2023-02-16T15:04:22.620303Z",
     "iopub.status.busy": "2023-02-16T15:04:22.619729Z",
     "iopub.status.idle": "2023-02-16T15:04:22.626971Z",
     "shell.execute_reply": "2023-02-16T15:04:22.625886Z",
     "shell.execute_reply.started": "2023-02-16T15:04:22.620247Z"
    },
    "tags": []
   },
   "outputs": [
    {
     "name": "stdout",
     "output_type": "stream",
     "text": [
      "cuffed data가 없는 경우는 제외: 45067\n"
     ]
    }
   ],
   "source": [
    "# cuffed 여부와 fixed depth 추가\n",
    "df_t = pd.read_csv('tube_type.csv')\n",
    "df_t['cuffed'] = (df_t['cuffed'] == 1)\n",
    "\n",
    "df_f = pd.read_csv('tube_fixed.csv')\n",
    "\n",
    "# merge 하면서 cuffed 데이터가 없는 경우는 제외\n",
    "df = df.merge(df_f, how='left', on='opid')\n",
    "df = df.merge(df_t[['opid', 'cuffed']], how='inner', on='opid')\n",
    "print(f'cuffed data가 없는 경우는 제외: {len(df)}')"
   ]
  },
  {
   "cell_type": "code",
   "execution_count": 77,
   "id": "fe43f0b4-ebbd-4129-b638-62b7ad992c83",
   "metadata": {
    "execution": {
     "iopub.execute_input": "2023-02-16T15:07:08.742454Z",
     "iopub.status.busy": "2023-02-16T15:07:08.741877Z",
     "iopub.status.idle": "2023-02-16T15:07:10.480102Z",
     "shell.execute_reply": "2023-02-16T15:07:10.479438Z",
     "shell.execute_reply.started": "2023-02-16T15:07:08.742396Z"
    },
    "tags": []
   },
   "outputs": [
    {
     "name": "stdout",
     "output_type": "stream",
     "text": [
      "중복되는 hid는 첫번째 수술 외 제외: 34042\n"
     ]
    }
   ],
   "source": [
    "# 중복되는 hid 경우 제외 (첫번째 수술기록만 가져오기)\n",
    "df = df.merge(df_o[['opid','hid']], how='inner', on='opid')\n",
    "df = df.loc[df[['hid', 'opid']].groupby('hid')['opid'].idxmin()]\n",
    "print(f'중복되는 hid는 첫번째 수술 외 제외: {len(df)}')"
   ]
  },
  {
   "cell_type": "markdown",
   "id": "e2aa0d9d-b06f-41b3-abdb-51d4eb14166a",
   "metadata": {},
   "source": [
    "# Data preprocessing"
   ]
  },
  {
   "cell_type": "code",
   "execution_count": 79,
   "id": "06ba235c-6d46-40fb-b212-f5a2dc4a662b",
   "metadata": {
    "execution": {
     "iopub.execute_input": "2023-02-16T15:09:49.178341Z",
     "iopub.status.busy": "2023-02-16T15:09:49.177763Z",
     "iopub.status.idle": "2023-02-16T15:09:52.527634Z",
     "shell.execute_reply": "2023-02-16T15:09:52.526939Z",
     "shell.execute_reply.started": "2023-02-16T15:09:49.178285Z"
    },
    "tags": []
   },
   "outputs": [],
   "source": [
    "from sklearn.model_selection import GridSearchCV, RandomizedSearchCV\n",
    "from sklearn.metrics import explained_variance_score, mean_squared_error, mean_absolute_error, r2_score\n",
    "from sklearn.utils import shuffle\n",
    "import pandas as pd\n",
    "import xgboost as xgb\n",
    "import numpy as np\n",
    "import random, os, datetime, pickle\n",
    "import scipy\n",
    "import matplotlib.pyplot as plt\n",
    "import numpy as np\n",
    "import csv\n",
    "\n",
    "\n",
    "# tube.csv에 수술 시점 weight, height 추가\n",
    "df0 = pd.read_csv('tube.csv')\n",
    "df0.drop(columns=['weight', 'height'], inplace=True)\n",
    "df = pd.read_csv('demography_revised.csv')\n",
    "df = df0.merge(df[['opid', 'weight', 'height']], how='left', on='opid', suffixes=('_o',''))\n",
    "\n",
    "df.loc[df['weight'] <= 0, 'weight'] = None\n",
    "df.loc[df['height'] <= 0, 'height'] = None\n",
    "df['age'] = df['age'].astype(int)\n",
    "df = df.loc[df['airway_tube_type'] == 'plain']\n",
    "# [nan 'plain' 'RAE(oral)' 'reinforced' 'LMA' 'T-tube' 'CobraPLA', 'double lumen tube' 'RAE(nasal)' 'laser' 'combitube' 'univent']\n",
    "\n",
    "# age, sex, airway tube size 값이 없는 경우는 제외\n",
    "df.dropna(subset=['age', 'airway_tube_size'], inplace=True)\n",
    "df['sex'] = (df['sex'] == 'M')\n",
    "\n",
    "# 나이 계산 -> age_cal 열에 추가\n",
    "df_b = pd.read_csv('birth_sex.csv')\n",
    "df_b.rename(columns={'생년월일':'birth_date'}, inplace=True)\n",
    "df_b['birth_date'] = df_b['birth_date'].apply(lambda x: datetime.datetime.strptime(x, '%Y-%m-%d'))\n",
    "\n",
    "df_o = pd.read_csv('opdates.csv')\n",
    "df_o['opdate'] = df_o['opdate'].apply(lambda x: datetime.datetime.strptime(x, '%Y-%m-%d'))\n",
    "\n",
    "df1 = pd.merge(df_o, df_b, how='inner', on='hid')\n",
    "df1['age_cal'] = (df1['opdate'] - df1['birth_date'])/pd.Timedelta(days=365.2425)\n",
    "\n",
    "df = pd.merge(df, df1[['opid', 'age_cal', 'opdate', 'birth_date']], how='inner', on='opid')\n",
    "\n",
    "\n",
    "# inclusion criteria : 소아 10세 미만\n",
    "df = df.loc[df['age_cal'] < 10-0.01]\n",
    "df = df.loc[df['age_cal'] > 0]"
   ]
  },
  {
   "cell_type": "code",
   "execution_count": 80,
   "id": "8c7a908d-b0fd-4522-8440-117f5878f7eb",
   "metadata": {
    "execution": {
     "iopub.execute_input": "2023-02-16T15:09:52.529041Z",
     "iopub.status.busy": "2023-02-16T15:09:52.528775Z",
     "iopub.status.idle": "2023-02-16T15:09:54.556143Z",
     "shell.execute_reply": "2023-02-16T15:09:54.555479Z",
     "shell.execute_reply.started": "2023-02-16T15:09:52.529016Z"
    },
    "tags": []
   },
   "outputs": [
    {
     "name": "stdout",
     "output_type": "stream",
     "text": [
      "중복되는 hid는 첫번째 수술 외 제외: 34042\n",
      "소아 10세 미만에서 cuffed ETT 사용 비율: 0.287\n",
      "소아 10세 미만 최종 opid수: 34042\n"
     ]
    }
   ],
   "source": [
    "# cuffed 여부와 fixed depth 추가\n",
    "df_t = pd.read_csv('tube_type.csv')\n",
    "df_t['cuffed'] = (df_t['cuffed'] == 1)\n",
    "\n",
    "df_f = pd.read_csv('tube_fixed.csv')\n",
    "\n",
    "# merge 하면서 cuffed 데이터가 없는 경우는 제외\n",
    "df = df.merge(df_f, how='left', on='opid')\n",
    "df = df.merge(df_t[['opid', 'cuffed']], how='inner', on='opid')\n",
    "\n",
    "# 중복되는 hid 경우 제외 (첫번째 수술기록만 가져오기)\n",
    "df = df.merge(df_o[['opid','hid']], how='inner', on='opid')\n",
    "df = df.loc[df[['hid', 'opid']].groupby('hid')['opid'].idxmin()]\n",
    "print(f'중복되는 hid는 첫번째 수술 외 제외: {len(df)}')\n",
    "\n",
    "\n",
    "perc = np.mean(df['cuffed'].values)\n",
    "print(f'소아 10세 미만에서 cuffed ETT 사용 비율: {perc:.3f}')\n",
    "print(f'소아 10세 미만 최종 opid수: {len(df)}')"
   ]
  },
  {
   "cell_type": "code",
   "execution_count": 171,
   "id": "3a65aff4-c09c-4629-8668-1febbe956b35",
   "metadata": {
    "execution": {
     "iopub.execute_input": "2023-02-16T09:58:09.699740Z",
     "iopub.status.busy": "2023-02-16T09:58:09.699189Z",
     "iopub.status.idle": "2023-02-16T09:58:10.882352Z",
     "shell.execute_reply": "2023-02-16T09:58:10.881789Z",
     "shell.execute_reply.started": "2023-02-16T09:58:09.699682Z"
    },
    "tags": []
   },
   "outputs": [],
   "source": [
    "# age-based formula에 따른 ETT size\n",
    "OLD_VAR = 'old_tube_size'\n",
    "# df[OLD_VAR] = np.round((df['age'] / 4 + 4) * 2) / 2\n",
    "df[OLD_VAR] = df['age'].apply(lambda x: np.round((x / 4 + 4) * 2) / 2 if x >= 2 else (3.5 if x < 1 else 4)) \n",
    "df[OLD_VAR] = df.apply(lambda x: x[OLD_VAR] - 0.5 if x['cuffed'] else x[OLD_VAR], axis=1)"
   ]
  },
  {
   "cell_type": "code",
   "execution_count": 85,
   "id": "e9422350-fef6-4c94-8af8-0d5cc91d7d30",
   "metadata": {
    "execution": {
     "iopub.execute_input": "2023-02-16T15:14:30.209214Z",
     "iopub.status.busy": "2023-02-16T15:14:30.208700Z",
     "iopub.status.idle": "2023-02-16T15:14:30.239709Z",
     "shell.execute_reply": "2023-02-16T15:14:30.238854Z",
     "shell.execute_reply.started": "2023-02-16T15:14:30.209157Z"
    },
    "tags": []
   },
   "outputs": [],
   "source": [
    "INPUT_VARS = ['age_cal','sex','weight','height', 'cuffed']\n",
    "TARGET_VAR = 'airway_tube_size'\n",
    "\n",
    "random.seed(SEED)\n",
    "df = shuffle(df)\n",
    "df.reset_index(drop=True, inplace=True)\n",
    "y = df[[TARGET_VAR]].values.flatten().astype(float)\n",
    "c = df['opid'].values.flatten().astype(int)\n",
    "#y_old = df[[OLD_VAR]].values.flatten().astype(float)\n",
    "x = df.loc[:, INPUT_VARS].values.astype(float)\n",
    "\n",
    "# 저장하기\n",
    "#np.savez(f'dataset/ETT_size.npz', x=x, y=y, y_old=y_old, c=c)"
   ]
  },
  {
   "cell_type": "code",
   "execution_count": 88,
   "id": "ffb2e41c-dc54-4509-b327-910b1472868a",
   "metadata": {
    "execution": {
     "iopub.execute_input": "2023-02-16T15:15:08.445360Z",
     "iopub.status.busy": "2023-02-16T15:15:08.444779Z",
     "iopub.status.idle": "2023-02-16T15:15:08.454311Z",
     "shell.execute_reply": "2023-02-16T15:15:08.453184Z",
     "shell.execute_reply.started": "2023-02-16T15:15:08.445301Z"
    },
    "tags": []
   },
   "outputs": [
    {
     "name": "stdout",
     "output_type": "stream",
     "text": [
      "x_train: (27234, 5), x_test: (6808, 5)\n"
     ]
    }
   ],
   "source": [
    "#dat = np.load(f'dataset/ETT_size.npz')\n",
    "\n",
    "# training set의 뒤쪽 20%를 test set 으로 사용\n",
    "nsamp = len(y)\n",
    "ntest = int(nsamp * 0.2)\n",
    "ntrain = nsamp - ntest\n",
    "x_test = x[-ntest:, :]\n",
    "y_test = y[-ntest:]\n",
    "#y_test_old = y_old[-ntest:]\n",
    "x_train = x[:ntrain, :]\n",
    "y_train = y[:ntrain]\n",
    "\n",
    "print(f'x_train: {(x_train).shape}, x_test: {x_test.shape}')"
   ]
  },
  {
   "cell_type": "code",
   "execution_count": null,
   "id": "294e5109-e7d0-4236-becb-50c159ff047e",
   "metadata": {},
   "outputs": [],
   "source": [
    "# label encoding for classification model: 2 -> 0, 2.5 -> 1, ... 8.5 -> 14 로 tube size x 2 - 4\n",
    "df['label'] = df[TARGET_VAR].apply(lambda x: x*2-4)\n",
    "\n",
    "for i in range(14):\n",
    "    df[f'{i}'] = df['label'].apply(lambda x: 1 if x==i else 0)\n",
    "    \n",
    "y_label = df[[f'{i}' for i in range(14)]].values\n",
    "yl_test = y_label[-ntest:]\n",
    "yl_train = y_label[:ntrain]"
   ]
  },
  {
   "cell_type": "markdown",
   "id": "15de3a22-e08a-4762-b840-ea08196c631f",
   "metadata": {},
   "source": [
    "# ETT Size"
   ]
  },
  {
   "cell_type": "markdown",
   "id": "3b684096-c221-44ef-8212-216494307080",
   "metadata": {},
   "source": [
    "## age-based formula"
   ]
  },
  {
   "cell_type": "code",
   "execution_count": null,
   "id": "b13e5f95-7242-4509-924c-7697107aecb9",
   "metadata": {},
   "outputs": [],
   "source": [
    "# age-based formula에 따른 ETT size\n",
    "OLD_VAR = 'old_tube_size'\n",
    "# df[OLD_VAR] = np.round((df['age'] / 4 + 4) * 2) / 2\n",
    "df[OLD_VAR] = df['age'].apply(lambda x: np.round((x / 4 + 4) * 2) / 2 if x >= 2 else (3.5 if x < 1 else 4)) \n",
    "df[OLD_VAR] = df.apply(lambda x: x[OLD_VAR] - 0.5 if x['cuffed'] else x[OLD_VAR], axis=1)\n",
    "\n",
    "y_old = df[[OLD_VAR]].values.flatten().astype(float)\n",
    "y_test_old = y[-ntest:]"
   ]
  },
  {
   "cell_type": "code",
   "execution_count": 192,
   "id": "b94ec787-a440-45d5-ad0b-77a87e7be86d",
   "metadata": {
    "execution": {
     "iopub.execute_input": "2023-02-16T10:07:31.923591Z",
     "iopub.status.busy": "2023-02-16T10:07:31.923038Z",
     "iopub.status.idle": "2023-02-16T10:07:31.937345Z",
     "shell.execute_reply": "2023-02-16T10:07:31.936480Z",
     "shell.execute_reply.started": "2023-02-16T10:07:31.923534Z"
    },
    "tags": []
   },
   "outputs": [
    {
     "name": "stdout",
     "output_type": "stream",
     "text": [
      "--------------\n",
      "old model = age/4+4\n",
      "--------------\n",
      "explained_variance_score: 0.777\n",
      "mean_squared_errors: 0.297\n",
      "r2_score: 0.695\n",
      "acc: 0.339\n",
      "acc(+-0.5mm): 0.868\n"
     ]
    }
   ],
   "source": [
    "print('--------------')\n",
    "print('old model = age/4+4')\n",
    "print('--------------')\n",
    "print(f'explained_variance_score: {explained_variance_score(y_test, y_test_old):.3f}')\n",
    "print(f'mean_squared_errors: {mean_squared_error(y_test, y_test_old):.3f}')\n",
    "print(f'r2_score: {r2_score(y_test, y_test_old):.3f}')\n",
    "# accuracy\n",
    "acc1 = np.mean(y_test_old==y_test)\n",
    "acc3 = np.mean((y_test_old >= y_test-0.5) & (y_test_old <= y_test+0.5))\n",
    "print(f'acc: {acc1:.3f}')\n",
    "print(f'acc(+-0.5mm): {acc3:.3f}')"
   ]
  },
  {
   "cell_type": "markdown",
   "id": "0f425cc7-dec2-4df2-a348-a327e01fc497",
   "metadata": {},
   "source": [
    "## XGBoostRegression"
   ]
  },
  {
   "cell_type": "markdown",
   "id": "365040ae-0883-4577-a8c2-863d0de8abae",
   "metadata": {},
   "source": [
    "* 결측치 그대로 이용"
   ]
  },
  {
   "cell_type": "code",
   "execution_count": 193,
   "id": "f8959dc4-de60-42b6-85a2-99336001bd33",
   "metadata": {
    "execution": {
     "iopub.execute_input": "2023-02-16T10:09:53.878667Z",
     "iopub.status.busy": "2023-02-16T10:09:53.878079Z",
     "iopub.status.idle": "2023-02-16T10:10:22.444151Z",
     "shell.execute_reply": "2023-02-16T10:10:22.443381Z",
     "shell.execute_reply.started": "2023-02-16T10:09:53.878610Z"
    },
    "scrolled": true,
    "tags": []
   },
   "outputs": [
    {
     "name": "stdout",
     "output_type": "stream",
     "text": [
      "Fitting 5 folds for each of 36 candidates, totalling 180 fits\n"
     ]
    },
    {
     "name": "stderr",
     "output_type": "stream",
     "text": [
      "/home/painstudy/.local/lib/python3.8/site-packages/sklearn/model_selection/_search.py:292: UserWarning: The total space of parameters 36 is smaller than n_iter=100. Running 36 iterations. For exhaustive searches, use GridSearchCV.\n",
      "  warnings.warn(\n"
     ]
    },
    {
     "name": "stdout",
     "output_type": "stream",
     "text": [
      "\n",
      "========= found hyperparameter =========\n",
      "{'subsample': 0.8, 'n_estimators': 100, 'max_depth': 4, 'colsample_bytree': 0.5}\n",
      "0.8717466516356295\n",
      "========================================\n",
      "--------------\n",
      "old model = age/4+4\n",
      "--------------\n",
      "explained_variance_score: 0.777\n",
      "mean_squared_errors: 0.297\n",
      "r2_score: 0.695\n",
      "acc: 0.339\n",
      "acc(+-0.5mm): 0.868\n",
      "--------------\n",
      "new model\n",
      "--------------\n",
      "explained_variance_score: 0.855\n",
      "mean_squared_errors: 0.141\n",
      "r2_score: 0.855\n",
      "acc: 0.587\n",
      "acc(+-0.5mm): 0.963\n",
      "[CV 3/5] END colsample_bytree=0.5, max_depth=4, n_estimators=100, subsample=0.5;, score=0.871 total time=   1.9s\n",
      "[CV 2/5] END colsample_bytree=0.5, max_depth=5, n_estimators=200, subsample=0.8;, score=0.866 total time=   3.5s\n",
      "[CV 4/5] END colsample_bytree=0.5, max_depth=7, n_estimators=300, subsample=0.8;, score=0.857 total time=   7.1s\n",
      "[CV 5/5] END colsample_bytree=0.8, max_depth=7, n_estimators=100, subsample=0.8;, score=0.868 total time=   3.8s\n",
      "[CV 1/5] END colsample_bytree=0.5, max_depth=5, n_estimators=200, subsample=0.5;, score=0.865 total time=   3.8s\n",
      "[CV 2/5] END colsample_bytree=0.5, max_depth=7, n_estimators=200, subsample=0.5;, score=0.855 total time=   4.8s\n",
      "[CV 2/5] END colsample_bytree=0.8, max_depth=5, n_estimators=100, subsample=0.5;, score=0.868 total time=   2.6s\n",
      "[CV 2/5] END colsample_bytree=0.8, max_depth=5, n_estimators=200, subsample=0.5;, score=0.863 total time=   5.3s\n",
      "[CV 4/5] END colsample_bytree=0.5, max_depth=5, n_estimators=100, subsample=0.8;, score=0.872 total time=   2.3s\n",
      "[CV 4/5] END colsample_bytree=0.5, max_depth=5, n_estimators=300, subsample=0.5;, score=0.863 total time=   5.2s\n",
      "[CV 4/5] END colsample_bytree=0.8, max_depth=4, n_estimators=200, subsample=0.8;, score=0.872 total time=   4.1s\n",
      "[CV 1/5] END colsample_bytree=0.8, max_depth=5, n_estimators=200, subsample=0.8;, score=0.863 total time=   5.1s\n",
      "[CV 4/5] END colsample_bytree=0.5, max_depth=5, n_estimators=100, subsample=0.5;, score=0.871 total time=   2.6s\n",
      "[CV 2/5] END colsample_bytree=0.5, max_depth=5, n_estimators=300, subsample=0.8;, score=0.864 total time=   5.0s\n",
      "[CV 4/5] END colsample_bytree=0.8, max_depth=4, n_estimators=200, subsample=0.5;, score=0.870 total time=   4.2s\n",
      "[CV 4/5] END colsample_bytree=0.8, max_depth=5, n_estimators=200, subsample=0.8;, score=0.867 total time=   5.1s\n",
      "[CV 3/5] END colsample_bytree=0.5, max_depth=5, n_estimators=100, subsample=0.5;, score=0.869 total time=   2.4s\n",
      "[CV 1/5] END colsample_bytree=0.5, max_depth=5, n_estimators=300, subsample=0.5;, score=0.861 total time=   5.1s\n",
      "[CV 1/5] END colsample_bytree=0.8, max_depth=4, n_estimators=200, subsample=0.5;, score=0.864 total time=   4.2s\n",
      "[CV 4/5] END colsample_bytree=0.8, max_depth=5, n_estimators=200, subsample=0.5;, score=0.865 total time=   5.2s\n",
      "[CV 1/5] END colsample_bytree=0.5, max_depth=5, n_estimators=100, subsample=0.5;, score=0.867 total time=   2.4s\n",
      "[CV 2/5] END colsample_bytree=0.5, max_depth=5, n_estimators=300, subsample=0.5;, score=0.863 total time=   5.2s\n",
      "[CV 3/5] END colsample_bytree=0.8, max_depth=4, n_estimators=200, subsample=0.5;, score=0.868 total time=   4.2s\n",
      "[CV 2/5] END colsample_bytree=0.8, max_depth=5, n_estimators=200, subsample=0.8;, score=0.866 total time=   5.1s\n",
      "[CV 1/5] END colsample_bytree=0.5, max_depth=4, n_estimators=100, subsample=0.5;, score=0.869 total time=   1.0s\n",
      "[CV 5/5] END colsample_bytree=0.5, max_depth=4, n_estimators=300, subsample=0.8;, score=0.872 total time=   3.6s\n",
      "[CV 5/5] END colsample_bytree=0.5, max_depth=5, n_estimators=300, subsample=0.8;, score=0.869 total time=   5.0s\n",
      "[CV 1/5] END colsample_bytree=0.8, max_depth=4, n_estimators=200, subsample=0.8;, score=0.867 total time=   4.1s\n",
      "[CV 3/5] END colsample_bytree=0.8, max_depth=5, n_estimators=200, subsample=0.5;, score=0.865 total time=   5.3s\n",
      "[CV 5/5] END colsample_bytree=0.5, max_depth=5, n_estimators=100, subsample=0.5;, score=0.872 total time=   2.6s\n",
      "[CV 3/5] END colsample_bytree=0.5, max_depth=5, n_estimators=300, subsample=0.8;, score=0.865 total time=   5.0s\n",
      "[CV 5/5] END colsample_bytree=0.8, max_depth=4, n_estimators=200, subsample=0.5;, score=0.871 total time=   4.2s\n",
      "[CV 5/5] END colsample_bytree=0.8, max_depth=5, n_estimators=200, subsample=0.8;, score=0.868 total time=   5.1s\n",
      "[CV 2/5] END colsample_bytree=0.5, max_depth=5, n_estimators=100, subsample=0.8;, score=0.869 total time=   2.4s\n",
      "[CV 3/5] END colsample_bytree=0.5, max_depth=5, n_estimators=300, subsample=0.5;, score=0.863 total time=   5.2s\n",
      "[CV 3/5] END colsample_bytree=0.8, max_depth=4, n_estimators=200, subsample=0.8;, score=0.870 total time=   4.1s\n",
      "[CV 3/5] END colsample_bytree=0.8, max_depth=5, n_estimators=200, subsample=0.8;, score=0.867 total time=   5.2s\n",
      "[CV 2/5] END colsample_bytree=0.5, max_depth=5, n_estimators=100, subsample=0.5;, score=0.868 total time=   2.5s\n",
      "[CV 1/5] END colsample_bytree=0.5, max_depth=5, n_estimators=300, subsample=0.8;, score=0.864 total time=   5.0s\n",
      "[CV 2/5] END colsample_bytree=0.8, max_depth=4, n_estimators=200, subsample=0.5;, score=0.867 total time=   4.3s\n",
      "[CV 5/5] END colsample_bytree=0.8, max_depth=5, n_estimators=200, subsample=0.5;, score=0.867 total time=   5.3s\n",
      "[CV 4/5] END colsample_bytree=0.5, max_depth=4, n_estimators=300, subsample=0.8;, score=0.870 total time=   5.0s\n",
      "[CV 1/5] END colsample_bytree=0.5, max_depth=7, n_estimators=200, subsample=0.8;, score=0.860 total time=   4.4s\n",
      "[CV 3/5] END colsample_bytree=0.8, max_depth=5, n_estimators=100, subsample=0.5;, score=0.869 total time=   2.7s\n",
      "[CV 1/5] END colsample_bytree=0.8, max_depth=5, n_estimators=300, subsample=0.8;, score=0.860 total time=   6.5s\n",
      "[CV 4/5] END colsample_bytree=0.5, max_depth=4, n_estimators=300, subsample=0.5;, score=0.867 total time=   5.1s\n",
      "[CV 2/5] END colsample_bytree=0.5, max_depth=7, n_estimators=300, subsample=0.5;, score=0.850 total time=   7.0s\n",
      "[CV 2/5] END colsample_bytree=0.8, max_depth=5, n_estimators=300, subsample=0.8;, score=0.863 total time=   6.6s\n",
      "[CV 1/5] END colsample_bytree=0.5, max_depth=5, n_estimators=100, subsample=0.8;, score=0.869 total time=   2.5s\n",
      "[CV 5/5] END colsample_bytree=0.5, max_depth=5, n_estimators=300, subsample=0.5;, score=0.866 total time=   5.2s\n",
      "[CV 5/5] END colsample_bytree=0.8, max_depth=4, n_estimators=200, subsample=0.8;, score=0.873 total time=   4.1s\n",
      "[CV 1/5] END colsample_bytree=0.8, max_depth=5, n_estimators=300, subsample=0.5;, score=0.855 total time=   7.0s\n",
      "[CV 4/5] END colsample_bytree=0.5, max_depth=4, n_estimators=100, subsample=0.8;, score=0.873 total time=   1.7s\n",
      "[CV 3/5] END colsample_bytree=0.5, max_depth=5, n_estimators=200, subsample=0.5;, score=0.866 total time=   3.5s\n",
      "[CV 1/5] END colsample_bytree=0.5, max_depth=7, n_estimators=300, subsample=0.8;, score=0.856 total time=   6.8s\n",
      "[CV 4/5] END colsample_bytree=0.8, max_depth=5, n_estimators=300, subsample=0.5;, score=0.861 total time=   6.9s\n",
      "[CV 3/5] END colsample_bytree=0.5, max_depth=4, n_estimators=200, subsample=0.5;, score=0.869 total time=   3.6s\n",
      "[CV 4/5] END colsample_bytree=0.5, max_depth=7, n_estimators=100, subsample=0.8;, score=0.867 total time=   2.3s\n",
      "[CV 4/5] END colsample_bytree=0.8, max_depth=4, n_estimators=100, subsample=0.8;, score=0.873 total time=   2.1s\n",
      "[CV 4/5] END colsample_bytree=0.8, max_depth=4, n_estimators=300, subsample=0.8;, score=0.869 total time=   6.2s\n",
      "[CV 2/5] END colsample_bytree=0.8, max_depth=7, n_estimators=200, subsample=0.8;, score=0.857 total time=   5.1s\n",
      "[CV 3/5] END colsample_bytree=0.5, max_depth=4, n_estimators=100, subsample=0.8;, score=0.872 total time=   2.1s\n",
      "[CV 4/5] END colsample_bytree=0.5, max_depth=5, n_estimators=200, subsample=0.8;, score=0.870 total time=   3.4s\n",
      "[CV 1/5] END colsample_bytree=0.8, max_depth=4, n_estimators=100, subsample=0.5;, score=0.867 total time=   2.1s\n",
      "[CV 2/5] END colsample_bytree=0.8, max_depth=4, n_estimators=200, subsample=0.8;, score=0.869 total time=   4.2s\n",
      "[CV 2/5] END colsample_bytree=0.8, max_depth=5, n_estimators=300, subsample=0.5;, score=0.858 total time=   7.5s\n",
      "[CV 1/5] END colsample_bytree=0.5, max_depth=4, n_estimators=300, subsample=0.8;, score=0.867 total time=   5.0s\n",
      "[CV 2/5] END colsample_bytree=0.5, max_depth=7, n_estimators=200, subsample=0.8;, score=0.860 total time=   4.6s\n",
      "[CV 1/5] END colsample_bytree=0.8, max_depth=5, n_estimators=100, subsample=0.8;, score=0.867 total time=   2.5s\n",
      "[CV 4/5] END colsample_bytree=0.8, max_depth=5, n_estimators=300, subsample=0.8;, score=0.864 total time=   7.3s\n",
      "[CV 4/5] END colsample_bytree=0.5, max_depth=4, n_estimators=200, subsample=0.8;, score=0.871 total time=   3.5s\n",
      "[CV 5/5] END colsample_bytree=0.5, max_depth=7, n_estimators=100, subsample=0.5;, score=0.867 total time=   2.3s\n",
      "[CV 1/5] END colsample_bytree=0.8, max_depth=4, n_estimators=100, subsample=0.8;, score=0.869 total time=   2.0s\n",
      "[CV 4/5] END colsample_bytree=0.8, max_depth=4, n_estimators=300, subsample=0.5;, score=0.867 total time=   6.3s\n",
      "[CV 1/5] END colsample_bytree=0.8, max_depth=7, n_estimators=200, subsample=0.8;, score=0.854 total time=   5.3s\n",
      "[CV 3/5] END colsample_bytree=0.5, max_depth=4, n_estimators=200, subsample=0.8;, score=0.871 total time=   3.5s\n",
      "[CV 1/5] END colsample_bytree=0.5, max_depth=7, n_estimators=100, subsample=0.8;, score=0.865 total time=   2.2s\n",
      "[CV 4/5] END colsample_bytree=0.8, max_depth=4, n_estimators=100, subsample=0.5;, score=0.872 total time=   2.1s\n",
      "[CV 5/5] END colsample_bytree=0.8, max_depth=4, n_estimators=300, subsample=0.5;, score=0.868 total time=   6.4s\n",
      "[CV 4/5] END colsample_bytree=0.8, max_depth=7, n_estimators=200, subsample=0.8;, score=0.857 total time=   5.4s\n",
      "[CV 1/5] END colsample_bytree=0.5, max_depth=4, n_estimators=300, subsample=0.5;, score=0.866 total time=   4.7s\n",
      "[CV 4/5] END colsample_bytree=0.5, max_depth=7, n_estimators=200, subsample=0.5;, score=0.856 total time=   4.8s\n",
      "[CV 5/5] END colsample_bytree=0.8, max_depth=5, n_estimators=100, subsample=0.5;, score=0.871 total time=   2.6s\n",
      "[CV 3/5] END colsample_bytree=0.8, max_depth=5, n_estimators=300, subsample=0.8;, score=0.863 total time=   7.6s\n",
      "[CV 2/5] END colsample_bytree=0.5, max_depth=4, n_estimators=100, subsample=0.5;, score=0.869 total time=   1.1s\n",
      "[CV 2/5] END colsample_bytree=0.5, max_depth=5, n_estimators=200, subsample=0.5;, score=0.865 total time=   3.5s\n",
      "[CV 3/5] END colsample_bytree=0.5, max_depth=7, n_estimators=200, subsample=0.5;, score=0.854 total time=   4.7s\n",
      "[CV 4/5] END colsample_bytree=0.8, max_depth=5, n_estimators=100, subsample=0.5;, score=0.870 total time=   2.6s\n",
      "[CV 5/5] END colsample_bytree=0.8, max_depth=5, n_estimators=300, subsample=0.5;, score=0.862 total time=   7.8s\n",
      "[CV 2/5] END colsample_bytree=0.5, max_depth=4, n_estimators=300, subsample=0.5;, score=0.867 total time=   5.1s\n",
      "[CV 1/5] END colsample_bytree=0.5, max_depth=7, n_estimators=300, subsample=0.5;, score=0.851 total time=   6.9s\n",
      "[CV 3/5] END colsample_bytree=0.8, max_depth=5, n_estimators=300, subsample=0.5;, score=0.861 total time=   7.9s\n",
      "[CV 5/5] END colsample_bytree=0.5, max_depth=4, n_estimators=100, subsample=0.5;, score=0.873 total time=   1.8s\n",
      "[CV 5/5] END colsample_bytree=0.5, max_depth=5, n_estimators=200, subsample=0.5;, score=0.868 total time=   3.5s\n",
      "[CV 2/5] END colsample_bytree=0.5, max_depth=7, n_estimators=300, subsample=0.8;, score=0.855 total time=   6.9s\n",
      "[CV 5/5] END colsample_bytree=0.8, max_depth=5, n_estimators=300, subsample=0.8;, score=0.865 total time=   7.7s\n",
      "[CV 2/5] END colsample_bytree=0.5, max_depth=4, n_estimators=200, subsample=0.5;, score=0.868 total time=   3.6s\n",
      "[CV 5/5] END colsample_bytree=0.5, max_depth=7, n_estimators=100, subsample=0.8;, score=0.869 total time=   2.3s\n",
      "[CV 5/5] END colsample_bytree=0.8, max_depth=4, n_estimators=100, subsample=0.8;, score=0.874 total time=   2.1s\n",
      "[CV 5/5] END colsample_bytree=0.8, max_depth=4, n_estimators=300, subsample=0.8;, score=0.871 total time=   6.2s\n",
      "[CV 3/5] END colsample_bytree=0.8, max_depth=7, n_estimators=200, subsample=0.8;, score=0.858 total time=   6.1s\n",
      "[CV 4/5] END colsample_bytree=0.5, max_depth=4, n_estimators=200, subsample=0.5;, score=0.870 total time=   3.4s\n",
      "[CV 3/5] END colsample_bytree=0.5, max_depth=7, n_estimators=100, subsample=0.5;, score=0.863 total time=   2.3s\n",
      "[CV 3/5] END colsample_bytree=0.8, max_depth=4, n_estimators=100, subsample=0.5;, score=0.871 total time=   2.1s\n",
      "[CV 3/5] END colsample_bytree=0.8, max_depth=4, n_estimators=300, subsample=0.5;, score=0.865 total time=   6.3s\n",
      "[CV 3/5] END colsample_bytree=0.8, max_depth=7, n_estimators=200, subsample=0.5;, score=0.849 total time=   6.4s\n",
      "[CV 2/5] END colsample_bytree=0.5, max_depth=4, n_estimators=100, subsample=0.8;, score=0.870 total time=   2.1s\n",
      "[CV 5/5] END colsample_bytree=0.5, max_depth=5, n_estimators=200, subsample=0.8;, score=0.871 total time=   3.4s\n",
      "[CV 2/5] END colsample_bytree=0.8, max_depth=4, n_estimators=100, subsample=0.5;, score=0.869 total time=   2.1s\n",
      "[CV 1/5] END colsample_bytree=0.8, max_depth=4, n_estimators=300, subsample=0.5;, score=0.861 total time=   6.3s\n",
      "[CV 1/5] END colsample_bytree=0.8, max_depth=7, n_estimators=200, subsample=0.5;, score=0.848 total time=   6.7s\n",
      "[CV 2/5] END colsample_bytree=0.5, max_depth=4, n_estimators=200, subsample=0.8;, score=0.868 total time=   3.5s\n",
      "[CV 4/5] END colsample_bytree=0.5, max_depth=7, n_estimators=100, subsample=0.5;, score=0.865 total time=   2.4s\n",
      "[CV 5/5] END colsample_bytree=0.8, max_depth=4, n_estimators=100, subsample=0.5;, score=0.873 total time=   2.1s\n",
      "[CV 1/5] END colsample_bytree=0.8, max_depth=4, n_estimators=300, subsample=0.8;, score=0.865 total time=   6.2s\n",
      "[CV 2/5] END colsample_bytree=0.8, max_depth=7, n_estimators=200, subsample=0.5;, score=0.849 total time=   6.7s\n",
      "[CV 5/5] END colsample_bytree=0.5, max_depth=4, n_estimators=200, subsample=0.8;, score=0.873 total time=   3.5s\n",
      "[CV 2/5] END colsample_bytree=0.5, max_depth=7, n_estimators=100, subsample=0.8;, score=0.865 total time=   2.4s\n",
      "[CV 3/5] END colsample_bytree=0.8, max_depth=4, n_estimators=100, subsample=0.8;, score=0.872 total time=   2.1s\n",
      "[CV 3/5] END colsample_bytree=0.8, max_depth=4, n_estimators=300, subsample=0.8;, score=0.868 total time=   6.3s\n",
      "[CV 5/5] END colsample_bytree=0.8, max_depth=7, n_estimators=200, subsample=0.8;, score=0.860 total time=   6.6s\n",
      "[CV 5/5] END colsample_bytree=0.5, max_depth=5, n_estimators=100, subsample=0.8;, score=0.874 total time=   2.4s\n",
      "[CV 4/5] END colsample_bytree=0.5, max_depth=5, n_estimators=300, subsample=0.8;, score=0.867 total time=   5.1s\n",
      "[CV 2/5] END colsample_bytree=0.8, max_depth=4, n_estimators=300, subsample=0.5;, score=0.865 total time=   6.5s\n",
      "[CV 5/5] END colsample_bytree=0.8, max_depth=7, n_estimators=200, subsample=0.5;, score=0.853 total time=   6.7s\n",
      "[CV 1/5] END colsample_bytree=0.5, max_depth=4, n_estimators=200, subsample=0.5;, score=0.867 total time=   3.6s\n",
      "[CV 3/5] END colsample_bytree=0.5, max_depth=7, n_estimators=100, subsample=0.8;, score=0.866 total time=   2.3s\n",
      "[CV 2/5] END colsample_bytree=0.8, max_depth=4, n_estimators=100, subsample=0.8;, score=0.870 total time=   2.1s\n",
      "[CV 2/5] END colsample_bytree=0.8, max_depth=4, n_estimators=300, subsample=0.8;, score=0.867 total time=   6.2s\n",
      "[CV 4/5] END colsample_bytree=0.8, max_depth=7, n_estimators=200, subsample=0.5;, score=0.850 total time=   6.8s\n"
     ]
    }
   ],
   "source": [
    "# age \n",
    "param_dict = {\n",
    "                #'learning_rate': [ 0.05, 0.07, 0.1], #[0.01, 0.03, 0.05],\n",
    "                'max_depth': [4, 5, 7],#[3,4,5],\n",
    "                'n_estimators': [100, 200, 300],\n",
    "                #'n_estimators': [100],#[25, 50, 75, 100],\n",
    "                #'n_estimators': [50],\n",
    "                'subsample': [0.5, 0.8], #[0.5, 0.8, 1],\n",
    "                'colsample_bytree': [0.5, 0.8], #[0.8, 1],\n",
    "                #'gamma': [0.9], #[0.3, 0.5, 0.7, 0.9],\n",
    "                #'scale_pos_weight': [5, 10], #[1,10,30,100]\n",
    "            }\n",
    "nfold = 5\n",
    "gs = RandomizedSearchCV(n_iter=100,\n",
    "                        estimator=xgb.sklearn.XGBRegressor(),\n",
    "                        n_jobs=-1,\n",
    "                        verbose=5,\n",
    "                        param_distributions=param_dict, cv=nfold)\n",
    "gs.fit(x_train, y_train)\n",
    "model = gs.best_estimator_.get_booster()\n",
    "\n",
    "print()\n",
    "print(\"========= found hyperparameter =========\")\n",
    "print(gs.best_params_)\n",
    "print(gs.best_score_)\n",
    "print(\"========================================\")\n",
    "\n",
    "y_pred = gs.predict(x_test).flatten()\n",
    "y_pred = np.round(y_pred * 2) / 2\n",
    "\n",
    "print('--------------')\n",
    "print('old model = age/4+4')\n",
    "print('--------------')\n",
    "print(f'explained_variance_score: {explained_variance_score(y_test, y_test_old):.3f}')\n",
    "print(f'mean_squared_errors: {mean_squared_error(y_test, y_test_old):.3f}')\n",
    "print(f'r2_score: {r2_score(y_test, y_test_old):.3f}')\n",
    "# accuracy\n",
    "acc1 = np.mean(y_test_old==y_test)\n",
    "acc3 = np.mean((y_test_old >= y_test-0.5) & (y_test_old <= y_test+0.5))\n",
    "print(f'acc: {acc1:.3f}')\n",
    "print(f'acc(+-0.5mm): {acc3:.3f}')\n",
    "\n",
    "\n",
    "print('--------------')\n",
    "print('new model')\n",
    "print('--------------')\n",
    "print(f'explained_variance_score: {explained_variance_score(y_test, y_pred):.3f}')\n",
    "print(f'mean_squared_errors: {mean_squared_error(y_test, y_pred):.3f}')\n",
    "print(f'r2_score: {r2_score(y_test, y_pred):.3f}')\n",
    "# accuracy\n",
    "acc1 = np.mean(y_pred==y_test)\n",
    "acc3 = np.mean((y_pred >= y_test-0.5) & (y_pred <= y_test+0.5))\n",
    "print(f'acc: {acc1:.3f}')\n",
    "print(f'acc(+-0.5mm): {acc3:.3f}')"
   ]
  },
  {
   "cell_type": "markdown",
   "id": "5e1db1d7-765e-44a3-ad53-181eb4db815a",
   "metadata": {},
   "source": [
    "* 결측치 multi-imputer로 채운 경우"
   ]
  },
  {
   "cell_type": "code",
   "execution_count": null,
   "id": "67a50e25-4273-4db1-8606-69ac759b6838",
   "metadata": {},
   "outputs": [],
   "source": [
    "from sklearn.experimental import enable_iterative_imputer\n",
    "from sklearn.impute import IterativeImputer\n",
    "\n",
    "imp = IterativeImputer().fit(x_train)\n",
    "x_train_imputed = imp.transform(x_train)\n",
    "x_test_imputed = imp.transform(x_test)"
   ]
  },
  {
   "cell_type": "code",
   "execution_count": 78,
   "id": "e157c686-8267-4446-832d-aa17f041391e",
   "metadata": {
    "execution": {
     "iopub.execute_input": "2023-02-16T06:23:50.444586Z",
     "iopub.status.busy": "2023-02-16T06:23:50.444059Z",
     "iopub.status.idle": "2023-02-16T06:24:14.217070Z",
     "shell.execute_reply": "2023-02-16T06:24:14.216328Z",
     "shell.execute_reply.started": "2023-02-16T06:23:50.444533Z"
    },
    "tags": []
   },
   "outputs": [
    {
     "name": "stdout",
     "output_type": "stream",
     "text": [
      "Fitting 5 folds for each of 36 candidates, totalling 180 fits\n"
     ]
    },
    {
     "name": "stderr",
     "output_type": "stream",
     "text": [
      "/home/painstudy/.local/lib/python3.8/site-packages/sklearn/model_selection/_search.py:292: UserWarning: The total space of parameters 36 is smaller than n_iter=100. Running 36 iterations. For exhaustive searches, use GridSearchCV.\n",
      "  warnings.warn(\n"
     ]
    },
    {
     "name": "stdout",
     "output_type": "stream",
     "text": [
      "\n",
      "========= found hyperparameter =========\n",
      "{'subsample': 0.8, 'n_estimators': 100, 'max_depth': 4, 'colsample_bytree': 0.8}\n",
      "0.871740670673633\n",
      "========================================\n",
      "--------------\n",
      "new model\n",
      "--------------\n",
      "explained_variance_score: 0.857\n",
      "mean_squared_errors: 0.140\n",
      "r2_score: 0.857\n",
      "acc: 0.590\n",
      "acc(+-0.5mm): 0.964\n"
     ]
    }
   ],
   "source": [
    "# age (일단위)\n",
    "param_dict = {\n",
    "                #'learning_rate': [ 0.05, 0.07, 0.1], #[0.01, 0.03, 0.05],\n",
    "                'max_depth': [4, 5, 7],#[3,4,5],\n",
    "                'n_estimators': [100, 200, 300],\n",
    "                #'n_estimators': [100],#[25, 50, 75, 100],\n",
    "                #'n_estimators': [50],\n",
    "                'subsample': [0.5, 0.8], #[0.5, 0.8, 1],\n",
    "                'colsample_bytree': [0.5, 0.8], #[0.8, 1],\n",
    "                #'gamma': [0.9], #[0.3, 0.5, 0.7, 0.9],\n",
    "                #'scale_pos_weight': [5, 10], #[1,10,30,100]\n",
    "            }\n",
    "nfold = 5\n",
    "gs = RandomizedSearchCV(n_iter=100,\n",
    "                        estimator=xgb.sklearn.XGBRegressor(),\n",
    "                        n_jobs=-1,\n",
    "                        verbose=3,\n",
    "                        param_distributions=param_dict, cv=nfold)\n",
    "gs.fit(x_train_imputed, y_train)\n",
    "model = gs.best_estimator_.get_booster()\n",
    "\n",
    "print()\n",
    "print(\"========= found hyperparameter =========\")\n",
    "print(gs.best_params_)\n",
    "print(gs.best_score_)\n",
    "print(\"========================================\")\n",
    "\n",
    "y_pred = gs.predict(x_test_imputed).flatten()\n",
    "y_pred = np.round(y_pred * 2) / 2\n",
    "\n",
    "\n",
    "print('--------------')\n",
    "print('new model')\n",
    "print('--------------')\n",
    "print(f'explained_variance_score: {explained_variance_score(y_test, y_pred):.3f}')\n",
    "print(f'mean_squared_errors: {mean_squared_error(y_test, y_pred):.3f}')\n",
    "print(f'r2_score: {r2_score(y_test, y_pred):.3f}')\n",
    "# accuracy\n",
    "acc1 = np.mean(y_pred==y_test)\n",
    "acc3 = np.mean((y_pred >= y_test-0.5) & (y_pred <= y_test+0.5))\n",
    "print(f'acc: {acc1:.3f}')\n",
    "print(f'acc(+-0.5mm): {acc3:.3f}')"
   ]
  },
  {
   "cell_type": "markdown",
   "id": "b44543a6-b141-461b-9350-205faff7e029",
   "metadata": {},
   "source": [
    "### cuffed model"
   ]
  },
  {
   "cell_type": "code",
   "execution_count": null,
   "id": "53f73604-c86e-40a1-b87b-c97e64faeae8",
   "metadata": {},
   "outputs": [],
   "source": [
    "train_mask = (x_train[:,4] == 1)\n",
    "test_mask = (x_test[:,4] == 1)\n",
    "\n",
    "x_train_c = x_train[train_mask,0:4]\n",
    "y_train_c = y_train[train_mask,0:4]"
   ]
  },
  {
   "cell_type": "code",
   "execution_count": null,
   "id": "14ed29b2-7b5b-4463-baab-625c7f7c759b",
   "metadata": {},
   "outputs": [],
   "source": []
  },
  {
   "cell_type": "markdown",
   "id": "0706fc71-17e8-4574-9baa-20736a5cb198",
   "metadata": {},
   "source": [
    "### plotting"
   ]
  },
  {
   "cell_type": "code",
   "execution_count": 197,
   "id": "814117b7-f47e-42a0-a5c3-7d8a54ae5ebf",
   "metadata": {
    "execution": {
     "iopub.execute_input": "2023-02-16T10:17:06.022938Z",
     "iopub.status.busy": "2023-02-16T10:17:06.022392Z",
     "iopub.status.idle": "2023-02-16T10:17:10.273699Z",
     "shell.execute_reply": "2023-02-16T10:17:10.273139Z",
     "shell.execute_reply.started": "2023-02-16T10:17:06.022882Z"
    },
    "tags": []
   },
   "outputs": [],
   "source": [
    "xvals = []\n",
    "yvals = []\n",
    "cvals = []\n",
    "cvals_old = []\n",
    "for x in np.arange(3, 8, 0.5):\n",
    "    for y in np.arange(3, 8, 0.5):\n",
    "        xvals.append(x)\n",
    "        yvals.append(y)\n",
    "        cvals.append(sum((y_pred == x) & (y_test == y)))\n",
    "        cvals_old.append(sum((y_test_old == x) & (y_test == y)))\n",
    "xvals = np.array(xvals)\n",
    "yvals = np.array(yvals)\n",
    "cvals = np.array(cvals) / 2\n",
    "cvals_old = np.array(cvals_old) / 2\n",
    "\n",
    "plt.figure(figsize=(8, 8))\n",
    "plt.xlim(2, 8)\n",
    "plt.ylim(2, 8)\n",
    "plt.scatter(xvals, yvals, c='red', alpha=0.5, s=cvals_old, label='4+AGE/4')\n",
    "plt.xlabel('Prediction')\n",
    "plt.ylabel('Ground Truth')\n",
    "lgnd = plt.legend()\n",
    "lgnd.legendHandles[0]._sizes = [30]\n",
    "plt.plot([2,8], [2,8], 'k-', alpha=0.1)\n",
    "plt.plot([2.5,8], [2,7.5], '--k', alpha=0.1)\n",
    "plt.plot([2,7.5], [2.5,8], '--k', alpha=0.1)\n",
    "plt.savefig('old_tube-size.png')\n",
    "plt.close()\n",
    "\n",
    "plt.figure(figsize=(8, 8))\n",
    "plt.xlim(2, 8)\n",
    "plt.ylim(2, 8)\n",
    "plt.scatter(xvals, yvals, c='blue', alpha=0.5, s=cvals, label='XGBR')\n",
    "plt.xlabel('Prediction')\n",
    "plt.ylabel('Ground Truth')\n",
    "lgnd = plt.legend()\n",
    "lgnd.legendHandles[0]._sizes = [30]\n",
    "plt.plot([2,8], [2,8], 'k-', alpha=0.1)\n",
    "plt.plot([2.5,8], [2,7.5], '--k', alpha=0.1)\n",
    "plt.plot([2,7.5], [2.5,8], '--k', alpha=0.1)\n",
    "plt.savefig('xgbr_tube-size.png')\n",
    "plt.close()"
   ]
  },
  {
   "cell_type": "code",
   "execution_count": null,
   "id": "e4eb6225-355e-4def-9811-e0b3566607d2",
   "metadata": {},
   "outputs": [],
   "source": [
    "# save model\n",
    "odir_f = f'acc1-{acc1:.3f}_acc3-{acc3:.3f}_XGBR_{nfold}fold'\n",
    "odir = f'result/{odir_f}'\n",
    "if not os.path.exists(odir):\n",
    "    os.mkdir(odir)\n",
    "model.save_model(f'{odir}/model.model')\n",
    "\n",
    "# 모델에 대한 정보 txt로 저장\n",
    "pickle.dump(param_dict, open(f'{odir}/param_dict', 'wb'))\n",
    "f = open(f'{odir}/result.txt', 'w')\n",
    "f.write(f'regression model')\n",
    "f.write(f'explained_variance_score: {explained_variance_score(y_test, y_pred):.3f}')\n",
    "f.write(f'mean_squared_errors: {mean_squared_error(y_test, y_pred):.3f}')\n",
    "f.write(f'r2_score: {r2_score(y_test, y_pred):.3f}')\n",
    "f.close()"
   ]
  },
  {
   "cell_type": "markdown",
   "id": "96157649-f0c4-48f5-a1cc-ee171f5cb676",
   "metadata": {},
   "source": [
    "## RandomForest"
   ]
  },
  {
   "cell_type": "code",
   "execution_count": 76,
   "id": "caac49fe-38d3-4c53-a920-35702fed51dd",
   "metadata": {
    "execution": {
     "iopub.execute_input": "2023-02-16T06:23:32.340323Z",
     "iopub.status.busy": "2023-02-16T06:23:32.339755Z",
     "iopub.status.idle": "2023-02-16T06:23:32.482193Z",
     "shell.execute_reply": "2023-02-16T06:23:32.481554Z",
     "shell.execute_reply.started": "2023-02-16T06:23:32.340267Z"
    },
    "tags": []
   },
   "outputs": [],
   "source": [
    "from sklearn.experimental import enable_iterative_imputer\n",
    "from sklearn.impute import IterativeImputer\n",
    "\n",
    "imp = IterativeImputer().fit(x_train)\n",
    "x_train_imputed = imp.transform(x_train)\n",
    "x_test_imputed = imp.transform(x_test)"
   ]
  },
  {
   "cell_type": "code",
   "execution_count": 81,
   "id": "37983c15-4c5c-49bd-9268-c5d0da838677",
   "metadata": {
    "execution": {
     "iopub.execute_input": "2023-02-16T06:31:14.748908Z",
     "iopub.status.busy": "2023-02-16T06:31:14.748339Z",
     "iopub.status.idle": "2023-02-16T06:32:35.138460Z",
     "shell.execute_reply": "2023-02-16T06:32:35.137812Z",
     "shell.execute_reply.started": "2023-02-16T06:31:14.748851Z"
    },
    "tags": []
   },
   "outputs": [
    {
     "name": "stdout",
     "output_type": "stream",
     "text": [
      "Fitting 5 folds for each of 100 candidates, totalling 500 fits\n",
      "\n",
      "========= found hyperparameter =========\n",
      "{'n_estimators': 300, 'min_samples_split': 3, 'min_samples_leaf': 1, 'max_features': 'sqrt', 'max_depth': 7, 'bootstrap': True}\n",
      "0.8732191690919636\n",
      "========================================\n"
     ]
    }
   ],
   "source": [
    "from sklearn.ensemble import RandomForestRegressor\n",
    "\n",
    "SEED = 0\n",
    "param_dict = {\n",
    "                #'learning_rate': [ 0.05, 0.07, 0.1], #[0.01, 0.03, 0.05],\n",
    "                'max_depth': [4, 5, 7],#[3,4,5],\n",
    "                'n_estimators': [100, 200, 300],\n",
    "                'max_features': ['auto', 'sqrt', 'log2'],\n",
    "                #'n_estimators': [100],#[25, 50, 75, 100],\n",
    "                #'n_estimators': [50],\n",
    "                'min_samples_split': [2,3,5],\n",
    "                'min_samples_leaf': [1,2,3],\n",
    "               'bootstrap': [True, False]\n",
    "                #'gamma': [0.9], #[0.3, 0.5, 0.7, 0.9],\n",
    "                #'scale_pos_weight': [5, 10], #[1,10,30,100]\n",
    "            }\n",
    "nfold = 5\n",
    "gs = GridSearchCV(n_iter=500,\n",
    "                        estimator=RandomForestRegressor(random_state = SEED),\n",
    "                        n_jobs=-1,\n",
    "                        verbose=5,\n",
    "                        param_distributions=param_dict, cv=nfold)\n",
    "gs.fit(x_train_imputed, y_train)\n",
    "#model = gs.best_estimator_.get_booster()\n",
    "\n",
    "print()\n",
    "print(\"========= found hyperparameter =========\")\n",
    "print(gs.best_params_)\n",
    "print(gs.best_score_)\n",
    "print(\"========================================\")"
   ]
  },
  {
   "cell_type": "code",
   "execution_count": 83,
   "id": "6d7ef796-ab68-401d-aff0-0880a1e69af2",
   "metadata": {
    "execution": {
     "iopub.execute_input": "2023-02-16T06:33:36.169171Z",
     "iopub.status.busy": "2023-02-16T06:33:36.168611Z",
     "iopub.status.idle": "2023-02-16T06:33:41.828794Z",
     "shell.execute_reply": "2023-02-16T06:33:41.828290Z",
     "shell.execute_reply.started": "2023-02-16T06:33:36.169115Z"
    },
    "tags": []
   },
   "outputs": [
    {
     "name": "stdout",
     "output_type": "stream",
     "text": [
      "--------------\n",
      "new model\n",
      "--------------\n",
      "explained_variance_score: 0.859\n",
      "mean_squared_errors: 0.139\n",
      "r2_score: 0.858\n",
      "acc: 0.586\n",
      "acc(+-0.5mm): 0.966\n"
     ]
    }
   ],
   "source": [
    "rfr = RandomForestRegressor(random_state=SEED,  n_estimators= 300, min_samples_split= 3, min_samples_leaf= 1, max_features='sqrt', max_depth= 7, bootstrap= True)\n",
    "rfr.fit(x_train_imputed, y_train)\n",
    "y_pred = rfr.predict(x_test_imputed).flatten()\n",
    "\n",
    "y_pred = np.round(y_pred * 2) / 2\n",
    "\n",
    "print('--------------')\n",
    "print('new model')\n",
    "print('--------------')\n",
    "print(f'explained_variance_score: {explained_variance_score(y_test, y_pred):.3f}')\n",
    "print(f'mean_squared_errors: {mean_squared_error(y_test, y_pred):.3f}')\n",
    "print(f'r2_score: {r2_score(y_test, y_pred):.3f}')\n",
    "# accuracy\n",
    "acc1 = np.mean(y_pred==y_test)\n",
    "acc3 = np.mean((y_pred >= y_test-0.5) & (y_pred <= y_test+0.5))\n",
    "print(f'acc: {acc1:.3f}')\n",
    "print(f'acc(+-0.5mm): {acc3:.3f}')"
   ]
  },
  {
   "cell_type": "markdown",
   "id": "277c29a2-10e3-49dc-91ea-597c4bff39fc",
   "metadata": {},
   "source": [
    "## SVM"
   ]
  },
  {
   "cell_type": "code",
   "execution_count": 101,
   "id": "80e8218f-1729-4ee4-b912-16106780b601",
   "metadata": {
    "execution": {
     "iopub.execute_input": "2023-02-16T16:00:03.305011Z",
     "iopub.status.busy": "2023-02-16T16:00:03.304413Z",
     "iopub.status.idle": "2023-02-16T16:00:03.522224Z",
     "shell.execute_reply": "2023-02-16T16:00:03.521489Z",
     "shell.execute_reply.started": "2023-02-16T16:00:03.304952Z"
    },
    "tags": []
   },
   "outputs": [],
   "source": [
    "from sklearn.experimental import enable_iterative_imputer\n",
    "from sklearn.impute import IterativeImputer\n",
    "\n",
    "imp = IterativeImputer().fit(x_train)\n",
    "x_train_imputed = imp.transform(x_train)\n",
    "x_test_imputed = imp.transform(x_test)"
   ]
  },
  {
   "cell_type": "code",
   "execution_count": null,
   "id": "68f46d1a-9694-493a-8994-14fc7ac5862e",
   "metadata": {
    "execution": {
     "iopub.execute_input": "2023-02-17T00:21:33.733769Z",
     "iopub.status.busy": "2023-02-17T00:21:33.733201Z"
    },
    "tags": []
   },
   "outputs": [
    {
     "name": "stdout",
     "output_type": "stream",
     "text": [
      "Fitting 4 folds for each of 32 candidates, totalling 128 fits\n"
     ]
    }
   ],
   "source": [
    "from sklearn.svm import SVR\n",
    "from sklearn.model_selection import GridSearchCV, RandomizedSearchCV\n",
    "\n",
    "\n",
    "SEED = 98\n",
    "param_grid = {'C': [1, 10, 100, 1000], \n",
    "              'gamma': [1, 0.1, 0.01, 0.001],\n",
    "              'kernel': ['rbf','linear']} \n",
    "\n",
    "nfold = 4\n",
    "gs = GridSearchCV(estimator=SVR(),\n",
    "                  n_jobs=-1,\n",
    "                  refit=True,\n",
    "                  verbose=3,\n",
    "                  param_grid=param_grid, cv=nfold)\n",
    "gs.fit(x_train_imputed, y_train)\n",
    "#model = gs.best_estimator_.get_booster()\n",
    "\n",
    "print()\n",
    "print(\"========= found hyperparameter =========\")\n",
    "print(gs.best_params_)\n",
    "print(gs.best_score_)\n",
    "print(\"========================================\")\n",
    "\n",
    "\n",
    "y_pred = gs.predict(x_test_imputed).flatten()\n",
    "y_pred = np.round(y_pred * 2) / 2\n",
    "\n",
    "\n",
    "print('--------------')\n",
    "print('new model')\n",
    "print('--------------')\n",
    "print(f'explained_variance_score: {explained_variance_score(y_test, y_pred):.3f}')\n",
    "print(f'mean_squared_errors: {mean_squared_error(y_test, y_pred):.3f}')\n",
    "print(f'r2_score: {r2_score(y_test, y_pred):.3f}')\n",
    "# accuracy\n",
    "acc1 = np.mean(y_pred==y_test)\n",
    "acc3 = np.mean((y_pred >= y_test-0.5) & (y_pred <= y_test+0.5))\n",
    "print(f'acc: {acc1:.3f}')\n",
    "print(f'acc(+-0.5mm): {acc3:.3f}')"
   ]
  },
  {
   "cell_type": "code",
   "execution_count": null,
   "id": "46c2b4fd-fced-4d47-a18d-fcf728c06b0e",
   "metadata": {},
   "outputs": [],
   "source": []
  },
  {
   "cell_type": "markdown",
   "id": "1b0051db-f97f-464c-bced-35ba32bb18d5",
   "metadata": {},
   "source": [
    "## ANN"
   ]
  },
  {
   "cell_type": "code",
   "execution_count": 84,
   "id": "67ed18b7-5c2b-47f7-ae83-be44dc87b8b9",
   "metadata": {
    "execution": {
     "iopub.execute_input": "2023-02-16T06:34:52.064134Z",
     "iopub.status.busy": "2023-02-16T06:34:52.063572Z",
     "iopub.status.idle": "2023-02-16T06:34:53.885891Z",
     "shell.execute_reply": "2023-02-16T06:34:53.885313Z",
     "shell.execute_reply.started": "2023-02-16T06:34:52.064078Z"
    },
    "tags": []
   },
   "outputs": [],
   "source": [
    "from keras import losses, metrics\n",
    "from keras.models import Sequential, Model, load_model\n",
    "from tensorflow.keras.optimizers import Adam\n",
    "from keras.layers import Dense, Conv1D, MaxPooling1D, GlobalMaxPooling1D, BatchNormalization, Dropout, Activation, Input\n",
    "from keras.layers import GlobalAveragePooling1D, Flatten, SeparableConv1D, concatenate, Add\n",
    "from keras.callbacks import ModelCheckpoint, EarlyStopping\n",
    "from sklearn.metrics import auc, classification_report, confusion_matrix, accuracy_score, roc_curve, roc_auc_score, f1_score, precision_recall_curve\n",
    "import tensorflow as tf\n",
    "import itertools as it\n",
    "import matplotlib.pyplot as plt\n",
    "import statsmodels.api as sm\n",
    "from scipy import stats, interp\n",
    "import os, sys, pickle, shutil\n",
    "import pandas as pd\n",
    "import numpy as np\n",
    "import random, datetime, time\n",
    "from sklearn.model_selection import KFold\n",
    "\n",
    "\n",
    "# tensorflow 사용 시 seed 고정\n",
    "def seed_everything(seed: int = 98):\n",
    "    random.seed(seed)\n",
    "    np.random.seed(seed)\n",
    "    os.environ[\"PYTHONHASHSEED\"] = str(seed)\n",
    "    tf.random.set_seed(seed)\n",
    "    \n",
    "SEED = 98\n",
    "os.environ[\"CUDA_VISIBLE_DEVICES\"]= \"3\""
   ]
  },
  {
   "cell_type": "code",
   "execution_count": 105,
   "id": "cfa2b048-b222-44d5-82d5-309f31fd9c1f",
   "metadata": {
    "execution": {
     "iopub.execute_input": "2023-02-16T06:39:30.050248Z",
     "iopub.status.busy": "2023-02-16T06:39:30.049790Z",
     "iopub.status.idle": "2023-02-16T06:39:30.056997Z",
     "shell.execute_reply": "2023-02-16T06:39:30.056036Z",
     "shell.execute_reply.started": "2023-02-16T06:39:30.050199Z"
    },
    "tags": []
   },
   "outputs": [
    {
     "data": {
      "text/plain": [
       "(35971, 5)"
      ]
     },
     "execution_count": 105,
     "metadata": {},
     "output_type": "execute_result"
    }
   ],
   "source": [
    "x_train.shape"
   ]
  },
  {
   "cell_type": "code",
   "execution_count": 104,
   "id": "6971b44f-6a49-4ced-ba09-8418e924b9cd",
   "metadata": {
    "execution": {
     "iopub.execute_input": "2023-02-16T06:39:28.426728Z",
     "iopub.status.busy": "2023-02-16T06:39:28.426247Z",
     "iopub.status.idle": "2023-02-16T06:39:28.486372Z",
     "shell.execute_reply": "2023-02-16T06:39:28.485627Z",
     "shell.execute_reply.started": "2023-02-16T06:39:28.426676Z"
    },
    "tags": []
   },
   "outputs": [],
   "source": [
    "from sklearn.preprocessing import StandardScaler\n",
    "\n",
    "sc = StandardScaler()\n",
    "x_train = sc.fit_transform(df.loc[:ntrain-1,INPUT_VARS])\n",
    "x_test = sc.transform(df.loc[ntrain:,INPUT_VARS])"
   ]
  },
  {
   "cell_type": "code",
   "execution_count": 106,
   "id": "7001f38e-8f9e-449c-a842-d5914021b256",
   "metadata": {
    "execution": {
     "iopub.execute_input": "2023-02-16T06:39:31.475438Z",
     "iopub.status.busy": "2023-02-16T06:39:31.474949Z",
     "iopub.status.idle": "2023-02-16T06:39:31.644484Z",
     "shell.execute_reply": "2023-02-16T06:39:31.643808Z",
     "shell.execute_reply.started": "2023-02-16T06:39:31.475385Z"
    },
    "tags": []
   },
   "outputs": [],
   "source": [
    "from sklearn.experimental import enable_iterative_imputer\n",
    "from sklearn.impute import IterativeImputer\n",
    "from sklearn.preprocessing import StandardScaler\n",
    "\n",
    "imp = IterativeImputer().fit(x_train)\n",
    "x_train_imputed = imp.transform(x_train)\n",
    "x_test_imputed = imp.transform(x_test)"
   ]
  },
  {
   "cell_type": "code",
   "execution_count": 88,
   "id": "903719d5-2cb7-4dc7-af9f-1574bf97e18d",
   "metadata": {
    "execution": {
     "iopub.execute_input": "2023-02-16T06:35:16.884940Z",
     "iopub.status.busy": "2023-02-16T06:35:16.884388Z",
     "iopub.status.idle": "2023-02-16T06:35:16.891571Z",
     "shell.execute_reply": "2023-02-16T06:35:16.890278Z",
     "shell.execute_reply.started": "2023-02-16T06:35:16.884884Z"
    },
    "tags": []
   },
   "outputs": [],
   "source": [
    "# save model\n",
    "#odir_f = f'acc1-{acc1:.3f}_acc3-{acc3:.3f}_XGBR_{nfold}fold'\n",
    "odir_f = f'DNN_size'\n",
    "odir = f'result/{odir_f}'\n",
    "if not os.path.exists(odir):\n",
    "    os.mkdir(odir)"
   ]
  },
  {
   "cell_type": "code",
   "execution_count": 115,
   "id": "119c029c-8455-413d-99b4-844af7a9cdcc",
   "metadata": {
    "execution": {
     "iopub.execute_input": "2023-02-16T06:42:52.177318Z",
     "iopub.status.busy": "2023-02-16T06:42:52.176786Z",
     "iopub.status.idle": "2023-02-16T06:43:09.227896Z",
     "shell.execute_reply": "2023-02-16T06:43:09.227112Z",
     "shell.execute_reply.started": "2023-02-16T06:42:52.177265Z"
    },
    "scrolled": true,
    "tags": []
   },
   "outputs": [
    {
     "name": "stderr",
     "output_type": "stream",
     "text": [
      "/home/painstudy/anaconda3/envs/keras/lib/python3.8/site-packages/keras/optimizer_v2/adam.py:105: UserWarning: The `lr` argument is deprecated, use `learning_rate` instead.\n",
      "  super(Adam, self).__init__(name, **kwargs)\n"
     ]
    },
    {
     "name": "stdout",
     "output_type": "stream",
     "text": [
      "Epoch 1/100\n",
      "449/450 [============================>.] - ETA: 0s - loss: 0.9451 - mean_absolute_error: 0.5390\n",
      "Epoch 00001: val_loss improved from inf to 0.63609, saving model to result/DNN_size/weights.hdf5\n",
      "450/450 [==============================] - 3s 5ms/step - loss: 0.9441 - mean_absolute_error: 0.5388 - val_loss: 0.6361 - val_mean_absolute_error: 0.2973\n",
      "Epoch 2/100\n",
      "444/450 [============================>.] - ETA: 0s - loss: 0.3555 - mean_absolute_error: 0.4044\n",
      "Epoch 00002: val_loss improved from 0.63609 to 0.27092, saving model to result/DNN_size/weights.hdf5\n",
      "450/450 [==============================] - 2s 5ms/step - loss: 0.3538 - mean_absolute_error: 0.4039 - val_loss: 0.2709 - val_mean_absolute_error: 0.2828\n",
      "Epoch 3/100\n",
      "445/450 [============================>.] - ETA: 0s - loss: 0.2866 - mean_absolute_error: 0.3900\n",
      "Epoch 00003: val_loss improved from 0.27092 to 0.17374, saving model to result/DNN_size/weights.hdf5\n",
      "450/450 [==============================] - 2s 4ms/step - loss: 0.2860 - mean_absolute_error: 0.3898 - val_loss: 0.1737 - val_mean_absolute_error: 0.2805\n",
      "Epoch 4/100\n",
      "443/450 [============================>.] - ETA: 0s - loss: 0.2599 - mean_absolute_error: 0.3788\n",
      "Epoch 00004: val_loss improved from 0.17374 to 0.16522, saving model to result/DNN_size/weights.hdf5\n",
      "450/450 [==============================] - 2s 4ms/step - loss: 0.2595 - mean_absolute_error: 0.3787 - val_loss: 0.1652 - val_mean_absolute_error: 0.2757\n",
      "Epoch 5/100\n",
      "446/450 [============================>.] - ETA: 0s - loss: 0.2683 - mean_absolute_error: 0.3696\n",
      "Epoch 00005: val_loss improved from 0.16522 to 0.13354, saving model to result/DNN_size/weights.hdf5\n",
      "450/450 [==============================] - 2s 4ms/step - loss: 0.2680 - mean_absolute_error: 0.3696 - val_loss: 0.1335 - val_mean_absolute_error: 0.2698\n",
      "Epoch 6/100\n",
      "444/450 [============================>.] - ETA: 0s - loss: 0.2341 - mean_absolute_error: 0.3528\n",
      "Epoch 00006: val_loss did not improve from 0.13354\n",
      "450/450 [==============================] - 2s 4ms/step - loss: 0.2341 - mean_absolute_error: 0.3530 - val_loss: 0.1356 - val_mean_absolute_error: 0.2767\n",
      "Epoch 7/100\n",
      "448/450 [============================>.] - ETA: 0s - loss: 0.2523 - mean_absolute_error: 0.3560\n",
      "Epoch 00007: val_loss did not improve from 0.13354\n",
      "450/450 [==============================] - 2s 4ms/step - loss: 0.2521 - mean_absolute_error: 0.3559 - val_loss: 0.1453 - val_mean_absolute_error: 0.2710\n",
      "Epoch 8/100\n",
      "446/450 [============================>.] - ETA: 0s - loss: 0.2083 - mean_absolute_error: 0.3465\n",
      "Epoch 00008: val_loss did not improve from 0.13354\n",
      "450/450 [==============================] - 2s 4ms/step - loss: 0.2079 - mean_absolute_error: 0.3463 - val_loss: 0.1345 - val_mean_absolute_error: 0.2714\n"
     ]
    }
   ],
   "source": [
    "dense_node = 512\n",
    "dropout = 0.3\n",
    "batch_size = 64\n",
    "learning_rate = 0.001\n",
    "\n",
    "# model\n",
    "inp = Input(shape=(x_train.shape[1],))\n",
    "out = inp\n",
    "\n",
    "out = Dense(dense_node, activation='relu')(out)\n",
    "out = BatchNormalization()(out)\n",
    "out = Dropout(dropout)(out)\n",
    "out = Dense(dense_node, activation='relu')(out)\n",
    "out = Dropout(dropout)(out)\n",
    "out = Dense(1, activation=None)(out)\n",
    "\n",
    "model = Model(inputs=[inp], outputs=[out])\n",
    "#model.save_weights(f'{odir}/initial_weights.hdf5')\n",
    "\n",
    "weightcache = f\"{odir}/weights.hdf5\"\n",
    "model.compile(loss='mse', optimizer=Adam(lr=learning_rate), metrics=[\"mean_absolute_error\"])\n",
    "hist = model.fit(x_train_imputed, y_train, validation_split=0.2, epochs=100, batch_size=batch_size, #class_weight={0:1, 1:3}, \n",
    "                        callbacks=[ModelCheckpoint(monitor='val_loss', filepath=weightcache, verbose=1, save_best_only=True),\n",
    "                                    EarlyStopping(monitor='val_loss', patience=3, verbose=0, mode='auto')])\n",
    "\n",
    "model.load_weights(weightcache)\n",
    "y_pred = model.predict(x_test_imputed).flatten()"
   ]
  },
  {
   "cell_type": "code",
   "execution_count": 116,
   "id": "0ebdcb1c-9fa2-43b9-a503-1d0f84f06508",
   "metadata": {
    "execution": {
     "iopub.execute_input": "2023-02-16T06:43:14.140517Z",
     "iopub.status.busy": "2023-02-16T06:43:14.139987Z",
     "iopub.status.idle": "2023-02-16T06:43:14.486275Z",
     "shell.execute_reply": "2023-02-16T06:43:14.485698Z",
     "shell.execute_reply.started": "2023-02-16T06:43:14.140463Z"
    },
    "tags": []
   },
   "outputs": [
    {
     "name": "stdout",
     "output_type": "stream",
     "text": [
      "explained_variance_score: 0.843\n",
      "mean_squared_errors: 0.153\n",
      "r2_score: 0.840\n",
      "acc: 0.567\n",
      "acc(+-0.5mm): 0.955\n"
     ]
    }
   ],
   "source": [
    "y_pred = model.predict(x_test_imputed).flatten()\n",
    "y_pred = np.round(y_pred * 2) / 2\n",
    "\n",
    "print(f'explained_variance_score: {explained_variance_score(y_test, y_pred):.3f}')\n",
    "print(f'mean_squared_errors: {mean_squared_error(y_test, y_pred):.3f}')\n",
    "print(f'r2_score: {r2_score(y_test, y_pred):.3f}')\n",
    "print(f'acc: {np.mean(y_pred==y_test):.3f}')\n",
    "print(f'acc(+-0.5mm): {np.mean((y_pred >= y_test-0.5) & (y_pred <= y_test+0.5)):.3f}')"
   ]
  },
  {
   "cell_type": "markdown",
   "id": "1dd1cf49-7994-4b80-916d-babe4dd792bb",
   "metadata": {},
   "source": [
    "# Insertion depth"
   ]
  },
  {
   "cell_type": "code",
   "execution_count": 126,
   "id": "ad31d414-cb70-498a-9352-c316745ec68b",
   "metadata": {
    "execution": {
     "iopub.execute_input": "2023-02-16T07:02:31.146016Z",
     "iopub.status.busy": "2023-02-16T07:02:31.145635Z",
     "iopub.status.idle": "2023-02-16T07:02:31.161851Z",
     "shell.execute_reply": "2023-02-16T07:02:31.161060Z",
     "shell.execute_reply.started": "2023-02-16T07:02:31.145976Z"
    },
    "scrolled": true,
    "tags": []
   },
   "outputs": [
    {
     "data": {
      "text/plain": [
       "opid                    0\n",
       "sex                     0\n",
       "age                     0\n",
       "weight_o                6\n",
       "height_o              373\n",
       "airway_tube_size        0\n",
       "airway_tube_type        0\n",
       "airway_lma          44938\n",
       "weight                645\n",
       "height               1310\n",
       "age_cal                 0\n",
       "opdate                  0\n",
       "birth_date              0\n",
       "fixed                4638\n",
       "cuffed                  0\n",
       "old_tube_size           0\n",
       "label                   0\n",
       "0                       0\n",
       "1                       0\n",
       "2                       0\n",
       "3                       0\n",
       "4                       0\n",
       "5                       0\n",
       "6                       0\n",
       "7                       0\n",
       "8                       0\n",
       "9                       0\n",
       "10                      0\n",
       "11                      0\n",
       "12                      0\n",
       "13                      0\n",
       "dtype: int64"
      ]
     },
     "execution_count": 126,
     "metadata": {},
     "output_type": "execute_result"
    }
   ],
   "source": [
    "df.isnull().sum()"
   ]
  },
  {
   "cell_type": "code",
   "execution_count": 198,
   "id": "a0bddd98-6e21-474c-9673-77ed11d81f12",
   "metadata": {
    "execution": {
     "iopub.execute_input": "2023-02-16T10:31:05.964991Z",
     "iopub.status.busy": "2023-02-16T10:31:05.964403Z",
     "iopub.status.idle": "2023-02-16T10:31:05.980689Z",
     "shell.execute_reply": "2023-02-16T10:31:05.979898Z",
     "shell.execute_reply.started": "2023-02-16T10:31:05.964935Z"
    },
    "tags": []
   },
   "outputs": [],
   "source": [
    "dff = df.dropna(subset=['fixed'])\n",
    "depths = dff['fixed'].values"
   ]
  },
  {
   "cell_type": "code",
   "execution_count": 201,
   "id": "a1731d5b-46d3-40db-b280-0f7112a0944a",
   "metadata": {
    "execution": {
     "iopub.execute_input": "2023-02-16T10:33:37.023891Z",
     "iopub.status.busy": "2023-02-16T10:33:37.023383Z",
     "iopub.status.idle": "2023-02-16T10:33:37.040576Z",
     "shell.execute_reply": "2023-02-16T10:33:37.039770Z",
     "shell.execute_reply.started": "2023-02-16T10:33:37.023837Z"
    },
    "tags": []
   },
   "outputs": [
    {
     "data": {
      "text/plain": [
       "(0.0, 24.0)"
      ]
     },
     "execution_count": 201,
     "metadata": {},
     "output_type": "execute_result"
    }
   ],
   "source": [
    "min(depths), max(depths)"
   ]
  },
  {
   "cell_type": "code",
   "execution_count": 199,
   "id": "549f228b-e7ef-40b4-8478-39483ddd1084",
   "metadata": {
    "execution": {
     "iopub.execute_input": "2023-02-16T10:31:19.996829Z",
     "iopub.status.busy": "2023-02-16T10:31:19.996259Z",
     "iopub.status.idle": "2023-02-16T10:31:20.162283Z",
     "shell.execute_reply": "2023-02-16T10:31:20.161657Z",
     "shell.execute_reply.started": "2023-02-16T10:31:19.996773Z"
    },
    "tags": []
   },
   "outputs": [
    {
     "data": {
      "text/plain": [
       "(array([7.0000e+00, 4.5000e+01, 2.5100e+02, 2.2040e+03, 6.8630e+03,\n",
       "        1.4196e+04, 1.0387e+04, 5.9750e+03, 3.6700e+02, 3.0000e+01]),\n",
       " array([ 0. ,  2.4,  4.8,  7.2,  9.6, 12. , 14.4, 16.8, 19.2, 21.6, 24. ]),\n",
       " <BarContainer object of 10 artists>)"
      ]
     },
     "execution_count": 199,
     "metadata": {},
     "output_type": "execute_result"
    },
    {
     "data": {
      "image/png": "[encoded data removed]",
      "text/plain": [
       "<Figure size 432x288 with 1 Axes>"
      ]
     },
     "metadata": {
      "needs_background": "light"
     },
     "output_type": "display_data"
    }
   ],
   "source": [
    "plt.hist(depths)"
   ]
  },
  {
   "cell_type": "code",
   "execution_count": 137,
   "id": "447ffc8b-36f2-45d8-9410-de707eabaf8e",
   "metadata": {
    "execution": {
     "iopub.execute_input": "2023-02-16T07:16:32.150597Z",
     "iopub.status.busy": "2023-02-16T07:16:32.150019Z",
     "iopub.status.idle": "2023-02-16T07:16:32.209953Z",
     "shell.execute_reply": "2023-02-16T07:16:32.209112Z",
     "shell.execute_reply.started": "2023-02-16T07:16:32.150539Z"
    },
    "tags": []
   },
   "outputs": [],
   "source": [
    "INPUT_VARS = ['age_cal','sex','weight','height', 'cuffed', 'airway_tube_size']\n",
    "TARGET_VAR = 'fixed'\n",
    "\n",
    "seed_everything(SEED)\n",
    "df.dropna(subset=['fixed'], inplace=True)\n",
    "df = shuffle(df)\n",
    "df.reset_index(drop=True, inplace=True)\n",
    "y = df[[TARGET_VAR]].values.flatten().astype(float)\n",
    "y_old = df[[OLD_VAR]].values.flatten().astype(float)\n",
    "x = df.loc[:, INPUT_VARS].values.astype(float)\n",
    "\n",
    "# training set의 뒤쪽 20%를 test set 으로 사용\n",
    "nsamp = len(y)\n",
    "ntest = int(nsamp * 0.2)\n",
    "ntrain = nsamp - ntest\n",
    "x_test = x[-ntest:, :]\n",
    "y_test = y[-ntest:]\n",
    "y_test_old = y_old[-ntest:]\n",
    "x_train = x[:ntrain, :]\n",
    "y_train = y[:ntrain]"
   ]
  },
  {
   "cell_type": "markdown",
   "id": "ef804e84-f8e8-4ef9-8795-17561847c6e2",
   "metadata": {},
   "source": [
    "## PALS guideline"
   ]
  },
  {
   "cell_type": "code",
   "execution_count": 145,
   "id": "7fb873c5-a02c-4f9d-b0f5-4931816841ba",
   "metadata": {
    "execution": {
     "iopub.execute_input": "2023-02-16T07:35:39.846573Z",
     "iopub.status.busy": "2023-02-16T07:35:39.846199Z",
     "iopub.status.idle": "2023-02-16T07:35:39.859800Z",
     "shell.execute_reply": "2023-02-16T07:35:39.858970Z",
     "shell.execute_reply.started": "2023-02-16T07:35:39.846524Z"
    },
    "tags": []
   },
   "outputs": [
    {
     "name": "stdout",
     "output_type": "stream",
     "text": [
      "--------------\n",
      "old model = 3 * ETT size\n",
      "--------------\n",
      "explained_variance_score: 0.603\n",
      "mean_squared_errors: 3.097\n",
      "r2_score: 0.569\n"
     ]
    }
   ],
   "source": [
    "OLD_VAR = 'old_depth1'\n",
    "# OLD_VAR = 'old_tube_size'\n",
    "df[OLD_VAR] = 3 * df['airway_tube_size']\n",
    "#df[OLD_VAR] = df['airway_tube_size'].apply(lambda x: np.round((x / 4 + 4) * 2) / 2 if x >= 2 else (3.5 if x < 1 else 4)) \n",
    "#df[OLD_VAR] = df.apply(lambda x: x[OLD_VAR] - 0.5 if x['cuffed'] else x[OLD_VAR], axis=1)\n",
    "y_old = df[[OLD_VAR]].values.flatten().astype(float)\n",
    "y_test_old = y_old[-ntest:]\n",
    "\n",
    "print('--------------')\n",
    "print('old model = 3 * ETT size')\n",
    "print('--------------')\n",
    "print(f'explained_variance_score: {explained_variance_score(y_test, y_test_old):.3f}')\n",
    "print(f'mean_squared_errors: {mean_squared_error(y_test, y_test_old):.3f}')\n",
    "print(f'r2_score: {r2_score(y_test, y_test_old):.3f}')"
   ]
  },
  {
   "cell_type": "code",
   "execution_count": 144,
   "id": "2d6dd45f-e5c2-48ae-8d5c-a3426fecf697",
   "metadata": {
    "execution": {
     "iopub.execute_input": "2023-02-16T07:35:36.395066Z",
     "iopub.status.busy": "2023-02-16T07:35:36.394726Z",
     "iopub.status.idle": "2023-02-16T07:35:36.408690Z",
     "shell.execute_reply": "2023-02-16T07:35:36.407814Z",
     "shell.execute_reply.started": "2023-02-16T07:35:36.395030Z"
    },
    "tags": []
   },
   "outputs": [
    {
     "name": "stdout",
     "output_type": "stream",
     "text": [
      "--------------\n",
      "old model = 3 * age-based ETT size\n",
      "--------------\n",
      "explained_variance_score: 0.624\n",
      "mean_squared_errors: 2.808\n",
      "r2_score: 0.609\n"
     ]
    }
   ],
   "source": [
    "OLD_VAR = 'old_depth1'\n",
    "# OLD_VAR = 'old_tube_size'\n",
    "df[OLD_VAR] = 3 * df['old_tube_size']\n",
    "#df[OLD_VAR] = df['airway_tube_size'].apply(lambda x: np.round((x / 4 + 4) * 2) / 2 if x >= 2 else (3.5 if x < 1 else 4)) \n",
    "#df[OLD_VAR] = df.apply(lambda x: x[OLD_VAR] - 0.5 if x['cuffed'] else x[OLD_VAR], axis=1)\n",
    "y_old = df[[OLD_VAR]].values.flatten().astype(float)\n",
    "y_test_old = y_old[-ntest:]\n",
    "\n",
    "print('--------------')\n",
    "print('old model = 3 * age-based ETT size')\n",
    "print('--------------')\n",
    "print(f'explained_variance_score: {explained_variance_score(y_test, y_test_old):.3f}')\n",
    "print(f'mean_squared_errors: {mean_squared_error(y_test, y_test_old):.3f}')\n",
    "print(f'r2_score: {r2_score(y_test, y_test_old):.3f}')"
   ]
  },
  {
   "cell_type": "code",
   "execution_count": 143,
   "id": "fa1f696e-de27-456f-9a23-94193939c932",
   "metadata": {
    "execution": {
     "iopub.execute_input": "2023-02-16T07:35:33.685913Z",
     "iopub.status.busy": "2023-02-16T07:35:33.685296Z",
     "iopub.status.idle": "2023-02-16T07:35:33.702708Z",
     "shell.execute_reply": "2023-02-16T07:35:33.701747Z",
     "shell.execute_reply.started": "2023-02-16T07:35:33.685855Z"
    },
    "tags": []
   },
   "outputs": [
    {
     "name": "stdout",
     "output_type": "stream",
     "text": [
      "--------------\n",
      "old model = age / 2 + 12\n",
      "--------------\n",
      "explained_variance_score: 0.592\n",
      "mean_squared_errors: 2.977\n",
      "r2_score: 0.585\n"
     ]
    }
   ],
   "source": [
    "OLD_VAR = 'old_depth1'\n",
    "# OLD_VAR = 'old_tube_size'\n",
    "df[OLD_VAR] = df['age'] / 2 + 12\n",
    "#df[OLD_VAR] = df['airway_tube_size'].apply(lambda x: np.round((x / 4 + 4) * 2) / 2 if x >= 2 else (3.5 if x < 1 else 4)) \n",
    "#df[OLD_VAR] = df.apply(lambda x: x[OLD_VAR] - 0.5 if x['cuffed'] else x[OLD_VAR], axis=1)\n",
    "y_old = df[[OLD_VAR]].values.flatten().astype(float)\n",
    "y_test_old = y_old[-ntest:]\n",
    "\n",
    "print('--------------')\n",
    "print('old model = age / 2 + 12')\n",
    "print('--------------')\n",
    "print(f'explained_variance_score: {explained_variance_score(y_test, y_test_old):.3f}')\n",
    "print(f'mean_squared_errors: {mean_squared_error(y_test, y_test_old):.3f}')\n",
    "print(f'r2_score: {r2_score(y_test, y_test_old):.3f}')"
   ]
  },
  {
   "cell_type": "code",
   "execution_count": null,
   "id": "918fde95-9a06-4fba-9565-4b5ee50cf5d5",
   "metadata": {},
   "outputs": [],
   "source": []
  },
  {
   "cell_type": "code",
   "execution_count": null,
   "id": "519a8628-515e-4541-93a0-18136259c9c0",
   "metadata": {},
   "outputs": [],
   "source": []
  },
  {
   "cell_type": "code",
   "execution_count": 131,
   "id": "f7d6a6ac-5525-4362-a9c3-8e6c93e8a812",
   "metadata": {
    "execution": {
     "iopub.execute_input": "2023-02-16T07:08:51.640604Z",
     "iopub.status.busy": "2023-02-16T07:08:51.640128Z",
     "iopub.status.idle": "2023-02-16T07:09:15.496134Z",
     "shell.execute_reply": "2023-02-16T07:09:15.495458Z",
     "shell.execute_reply.started": "2023-02-16T07:08:51.640553Z"
    },
    "tags": []
   },
   "outputs": [
    {
     "name": "stderr",
     "output_type": "stream",
     "text": [
      "/home/painstudy/.local/lib/python3.8/site-packages/sklearn/model_selection/_search.py:292: UserWarning: The total space of parameters 36 is smaller than n_iter=100. Running 36 iterations. For exhaustive searches, use GridSearchCV.\n",
      "  warnings.warn(\n"
     ]
    },
    {
     "name": "stdout",
     "output_type": "stream",
     "text": [
      "Fitting 5 folds for each of 36 candidates, totalling 180 fits\n",
      "\n",
      "========= found hyperparameter =========\n",
      "{'subsample': 0.8, 'n_estimators': 100, 'max_depth': 4, 'colsample_bytree': 0.5}\n",
      "0.7925042013962639\n",
      "========================================\n",
      "--------------\n",
      "new model\n",
      "--------------\n",
      "explained_variance_score: 0.790\n",
      "mean_squared_errors: 1.561\n",
      "r2_score: 0.790\n"
     ]
    }
   ],
   "source": [
    "# age (일단위)\n",
    "param_dict = {\n",
    "                #'learning_rate': [ 0.05, 0.07, 0.1], #[0.01, 0.03, 0.05],\n",
    "                'max_depth': [4, 5, 7],#[3,4,5],\n",
    "                'n_estimators': [100, 200, 300],\n",
    "                #'n_estimators': [100],#[25, 50, 75, 100],\n",
    "                #'n_estimators': [50],\n",
    "                'subsample': [0.5, 0.8], #[0.5, 0.8, 1],\n",
    "                'colsample_bytree': [0.5, 0.8], #[0.8, 1],\n",
    "                #'gamma': [0.9], #[0.3, 0.5, 0.7, 0.9],\n",
    "                #'scale_pos_weight': [5, 10], #[1,10,30,100]\n",
    "            }\n",
    "nfold = 5\n",
    "gs = RandomizedSearchCV(n_iter=100,\n",
    "                        estimator=xgb.sklearn.XGBRegressor(),\n",
    "                        n_jobs=-1,\n",
    "                        verbose=5,\n",
    "                        param_distributions=param_dict, cv=nfold)\n",
    "gs.fit(x_train, y_train)\n",
    "model = gs.best_estimator_.get_booster()\n",
    "\n",
    "print()\n",
    "print(\"========= found hyperparameter =========\")\n",
    "print(gs.best_params_)\n",
    "print(gs.best_score_)\n",
    "print(\"========================================\")\n",
    "\n",
    "y_pred = gs.predict(x_test).flatten()\n",
    "\n",
    "\n",
    "print('--------------')\n",
    "print('new model')\n",
    "print('--------------')\n",
    "print(f'explained_variance_score: {explained_variance_score(y_test, y_pred):.3f}')\n",
    "print(f'mean_squared_errors: {mean_squared_error(y_test, y_pred):.3f}')\n",
    "print(f'r2_score: {r2_score(y_test, y_pred):.3f}')"
   ]
  },
  {
   "cell_type": "code",
   "execution_count": 133,
   "id": "db163d37-7ebf-4c1b-8922-3c0455743a88",
   "metadata": {
    "execution": {
     "iopub.execute_input": "2023-02-16T07:10:47.204182Z",
     "iopub.status.busy": "2023-02-16T07:10:47.203615Z",
     "iopub.status.idle": "2023-02-16T07:10:47.211539Z",
     "shell.execute_reply": "2023-02-16T07:10:47.210442Z",
     "shell.execute_reply.started": "2023-02-16T07:10:47.204125Z"
    },
    "tags": []
   },
   "outputs": [
    {
     "name": "stdout",
     "output_type": "stream",
     "text": [
      "acc(+-1cm): 0.700\n"
     ]
    }
   ],
   "source": [
    "print(f'acc(+-1cm): {np.mean((y_pred >= y_test-1) & (y_pred <= y_test+1)):.3f}')"
   ]
  },
  {
   "cell_type": "code",
   "execution_count": 134,
   "id": "a926bb7d-11ed-4f17-92c1-e3c19b7c1718",
   "metadata": {
    "execution": {
     "iopub.execute_input": "2023-02-16T07:11:49.386274Z",
     "iopub.status.busy": "2023-02-16T07:11:49.385707Z",
     "iopub.status.idle": "2023-02-16T07:11:49.395438Z",
     "shell.execute_reply": "2023-02-16T07:11:49.394409Z",
     "shell.execute_reply.started": "2023-02-16T07:11:49.386216Z"
    },
    "tags": []
   },
   "outputs": [
    {
     "data": {
      "text/plain": [
       "(7.589564, 20.347792, 1.5, 24.0)"
      ]
     },
     "execution_count": 134,
     "metadata": {},
     "output_type": "execute_result"
    }
   ],
   "source": [
    "np.min(y_pred), np.max(y_pred), np.min(y_test), np.max(y_test)"
   ]
  },
  {
   "cell_type": "code",
   "execution_count": null,
   "id": "110891bb-0798-4319-ba31-7e238770c7c4",
   "metadata": {},
   "outputs": [],
   "source": [
    "plt.figure(figsize=(8, 8))\n",
    "plt.xlim(2, 8)\n",
    "plt.ylim(2, 8)\n",
    "plt.scatter(xvals, yvals, c='blue', alpha=0.5, s=cvals, label='GBRT')\n",
    "plt.xlabel('Prediction')\n",
    "plt.ylabel('Ground Truth')\n",
    "lgnd = plt.legend()\n",
    "lgnd.legendHandles[0]._sizes = [30]\n",
    "plt.plot([2,8], [2,8], 'k-', alpha=0.1)\n",
    "plt.savefig('new.png')\n",
    "plt.close()"
   ]
  }
 ],
 "metadata": {
  "kernelspec": {
   "display_name": "keras",
   "language": "python",
   "name": "painstudy_keras"
  },
  "language_info": {
   "codemirror_mode": {
    "name": "ipython",
    "version": 3
   },
   "file_extension": ".py",
   "mimetype": "text/x-python",
   "name": "python",
   "nbconvert_exporter": "python",
   "pygments_lexer": "ipython3",
   "version": "3.8.12"
  }
 },
 "nbformat": 4,
 "nbformat_minor": 5
}
