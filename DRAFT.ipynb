{
 "cells": [
  {
   "cell_type": "code",
   "execution_count": 1,
   "id": "7d2ebd31-f52b-46d2-82bc-3b0e1f10e8d6",
   "metadata": {
    "execution": {
     "iopub.execute_input": "2023-02-16T13:15:14.610460Z",
     "iopub.status.busy": "2023-02-16T13:15:14.609722Z",
     "iopub.status.idle": "2023-02-16T13:15:14.626283Z",
     "shell.execute_reply": "2023-02-16T13:15:14.624202Z",
     "shell.execute_reply.started": "2023-02-16T13:15:14.610331Z"
    },
    "tags": []
   },
   "outputs": [],
   "source": [
    "# tensorflow 사용 시 seed 고정\n",
    "def seed_everything(seed: int = 98):\n",
    "    random.seed(seed)\n",
    "    np.random.seed(seed)\n",
    "    os.environ[\"PYTHONHASHSEED\"] = str(seed)\n",
    "    tf.random.set_seed(seed)\n",
    "    \n",
    "SEED = 98"
   ]
  },
  {
   "cell_type": "markdown",
   "id": "fc6f64f5-50bd-49eb-a41a-5966d9a3b6d7",
   "metadata": {},
   "source": [
    "# Fig1"
   ]
  },
  {
   "cell_type": "code",
   "execution_count": 30,
   "id": "a78ed404-d6a7-400a-a9eb-2572e4cb1d91",
   "metadata": {
    "execution": {
     "iopub.execute_input": "2023-02-17T17:06:21.859021Z",
     "iopub.status.busy": "2023-02-17T17:06:21.858466Z",
     "iopub.status.idle": "2023-02-17T17:06:27.223934Z",
     "shell.execute_reply": "2023-02-17T17:06:27.223281Z",
     "shell.execute_reply.started": "2023-02-17T17:06:21.858967Z"
    },
    "tags": []
   },
   "outputs": [
    {
     "name": "stdout",
     "output_type": "stream",
     "text": [
      "전체 소아 (19세 미만) opid: 151651\n",
      "airway tube type이 plain이 아닌 경우 제외: 77477\n",
      "age, airway_tube_size 결측치 제외: 77132\n",
      "10세 이상 제외 : 59352\n",
      "cuffed data가 없는 경우는 제외: 45067\n",
      "중복되는 hid는 첫번째 수술 외 제외: 34042\n"
     ]
    }
   ],
   "source": [
    "### birth date, op date 없는 환자 중 소아는 거의 없음 (94,914 중 5명) -> 정석대로 birth, op date로 age 계산해서 진행\n",
    "# tube.csv에 수술 시점 weight, height 추가\n",
    "df0 = pd.read_csv('tube.csv')\n",
    "df0.drop(columns=['weight', 'height'], inplace=True)\n",
    "df = pd.read_csv('demography_revised.csv')\n",
    "df = df0.merge(df[['opid', 'weight', 'height']], how='left', on='opid', suffixes=('_o',''))\n",
    "\n",
    "df.loc[df['weight'] <= 0, 'weight'] = None\n",
    "df.loc[df['height'] <= 0, 'height'] = None\n",
    "df['age'] = df['age'].astype(int)\n",
    "\n",
    "# 나이 계산 -> age_cal 열에 추가\n",
    "df_b = pd.read_csv('birth_sex.csv')\n",
    "df_b.rename(columns={'생년월일':'birth_date'}, inplace=True)\n",
    "df_b['birth_date'] = df_b['birth_date'].apply(lambda x: datetime.datetime.strptime(x, '%Y-%m-%d'))\n",
    "\n",
    "df_o = pd.read_csv('opdates.csv')\n",
    "df_o['opdate'] = df_o['opdate'].apply(lambda x: datetime.datetime.strptime(x, '%Y-%m-%d'))\n",
    "\n",
    "df1 = pd.merge(df_o, df_b, how='inner', on='hid')\n",
    "df1['age_cal'] = (df1['opdate'] - df1['birth_date'])/pd.Timedelta(days=365.2425)\n",
    "\n",
    "df = pd.merge(df, df1[['opid', 'age_cal', 'opdate', 'birth_date']], how='inner', on='opid')\n",
    "\n",
    "df = df.loc[df['age_cal'] < 19]\n",
    "print(f'전체 소아 (19세 미만) opid: {len(df)}')\n",
    "\n",
    "\n",
    "#####################\n",
    "df = df.loc[df['airway_tube_type'] == 'plain']\n",
    "# [nan 'plain' 'RAE(oral)' 'reinforced' 'LMA' 'T-tube' 'CobraPLA', 'double lumen tube' 'RAE(nasal)' 'laser' 'combitube' 'univent']\n",
    "\n",
    "print(f'airway tube type이 plain이 아닌 경우 제외: {len(df)}')\n",
    "# age, sex, airway tube size 값이 없는 경우는 제외\n",
    "\n",
    "df.dropna(subset=['age', 'airway_tube_size'], inplace=True)  # sex는 모든 데이터 다 있음\n",
    "df['sex'] = (df['sex'] == 'M')\n",
    "print(f'age, airway_tube_size 결측치 제외: {len(df)}')\n",
    "\n",
    "\n",
    "# inclusion criteria : 소아 10세 미만\n",
    "#df['age_cal'] = df['age_cal'] + 0.01 # 생일이랑 수술날 같은 경우\n",
    "df = df.loc[df['age_cal'] < 10-0.01]  # 생일이랑 수술날 같은 경우\n",
    "df = df.loc[df['age_cal'] > 0]\n",
    "print(f'10세 이상 제외 : {len(df)}')\n",
    "\n",
    "# cuffed 여부와 fixed depth 추가\n",
    "df_t = pd.read_csv('tube_type.csv')\n",
    "df_t['cuffed'] = (df_t['cuffed'] == 1)\n",
    "\n",
    "df_f = pd.read_csv('tube_fixed.csv')\n",
    "\n",
    "# merge 하면서 cuffed 데이터가 없는 경우는 제외\n",
    "df = df.merge(df_f, how='left', on='opid')\n",
    "df = df.merge(df_t[['opid', 'cuffed']], how='inner', on='opid')\n",
    "print(f'cuffed data가 없는 경우는 제외: {len(df)}')\n",
    "\n",
    "\n",
    "# 중복되는 hid 경우 제외 (첫번째 수술기록만 가져오기)\n",
    "df = df.merge(df_o[['opid','hid']], how='inner', on='opid')\n",
    "df = df.loc[df[['hid', 'opid']].groupby('hid')['opid'].idxmin()]\n",
    "print(f'중복되는 hid는 첫번째 수술 외 제외: {len(df)}')"
   ]
  },
  {
   "cell_type": "code",
   "execution_count": 29,
   "id": "a5d1a31b-c7dd-4127-975f-0dd1e787f63b",
   "metadata": {
    "execution": {
     "iopub.execute_input": "2023-02-17T17:02:16.891634Z",
     "iopub.status.busy": "2023-02-17T17:02:16.891109Z",
     "iopub.status.idle": "2023-02-17T17:02:25.378174Z",
     "shell.execute_reply": "2023-02-17T17:02:25.377529Z",
     "shell.execute_reply.started": "2023-02-17T17:02:16.891581Z"
    },
    "tags": []
   },
   "outputs": [
    {
     "name": "stdout",
     "output_type": "stream",
     "text": [
      "전체 소아 (19세 미만) opid: 151651\n",
      "중복되는 hid는 첫번째 수술 외 제외: 94914\n",
      "cuffed data가 없는 경우는 제외: 56681\n",
      "airway type이 plain이 아닌 경우는 제외: 38045\n",
      "age, airway_tube_size 결측치 제외: 37923\n",
      "10세 이상 제외 : 29974\n"
     ]
    }
   ],
   "source": [
    "### birth date, op date 없는 환자 중 소아는 거의 없음 (94,914 중 5명) -> 정석대로 birth, op date로 age 계산해서 진행\n",
    "# tube.csv에 수술 시점 weight, height 추가\n",
    "df0 = pd.read_csv('tube.csv')\n",
    "df0.drop(columns=['weight', 'height'], inplace=True)\n",
    "df = pd.read_csv('demography_revised.csv')\n",
    "df = df0.merge(df[['opid', 'weight', 'height']], how='left', on='opid', suffixes=('_o',''))\n",
    "\n",
    "df.loc[df['weight'] <= 0, 'weight'] = None\n",
    "df.loc[df['height'] <= 0, 'height'] = None\n",
    "df['age'] = df['age'].astype(int)\n",
    "\n",
    "# 나이 계산 -> age_cal 열에 추가\n",
    "df_b = pd.read_csv('birth_sex.csv')\n",
    "df_b.rename(columns={'생년월일':'birth_date'}, inplace=True)\n",
    "df_b['birth_date'] = df_b['birth_date'].apply(lambda x: datetime.datetime.strptime(x, '%Y-%m-%d'))\n",
    "\n",
    "df_o = pd.read_csv('opdates.csv')\n",
    "df_o['opdate'] = df_o['opdate'].apply(lambda x: datetime.datetime.strptime(x, '%Y-%m-%d'))\n",
    "\n",
    "df1 = pd.merge(df_o, df_b, how='inner', on='hid')\n",
    "df1['age_cal'] = (df1['opdate'] - df1['birth_date'])/pd.Timedelta(days=365.2425)\n",
    "\n",
    "df = pd.merge(df, df1[['opid', 'age_cal', 'opdate', 'birth_date']], how='inner', on='opid')\n",
    "\n",
    "df = df.loc[df['age_cal'] < 19]\n",
    "print(f'전체 소아 (19세 미만) opid: {len(df)}')\n",
    "\n",
    "\n",
    "# 중복되는 hid 경우 제외 (첫번째 수술기록만 가져오기)\n",
    "df = df.merge(df_o[['opid','hid']], how='inner', on='opid')\n",
    "df = df.loc[df[['hid', 'opid']].groupby('hid')['opid'].idxmin()]\n",
    "print(f'중복되는 hid는 첫번째 수술 외 제외: {len(df)}')\n",
    "\n",
    "\n",
    "# cuffed 여부와 fixed depth 추가\n",
    "df_t = pd.read_csv('tube_type.csv')\n",
    "df_t['cuffed'] = (df_t['cuffed'] == 1)\n",
    "\n",
    "df_f = pd.read_csv('tube_fixed.csv')\n",
    "\n",
    "# merge 하면서 cuffed 데이터가 없는 경우는 제외\n",
    "df = df.merge(df_f, how='left', on='opid')\n",
    "df = df.merge(df_t[['opid', 'cuffed']], how='inner', on='opid')\n",
    "print(f'cuffed data가 없는 경우는 제외: {len(df)}')\n",
    "\n",
    "df = df.loc[df['airway_tube_type'] == 'plain']\n",
    "print(f'airway type이 plain이 아닌 경우는 제외: {len(df)}')\n",
    "\n",
    "\n",
    "df.dropna(subset=['age', 'airway_tube_size'], inplace=True)  # sex는 모든 데이터 다 있음\n",
    "df['sex'] = (df['sex'] == 'M')\n",
    "print(f'age, airway_tube_size 결측치 제외: {len(df)}')\n",
    "\n",
    "\n",
    "df = df.loc[df['age_cal'] < 10-0.01]  # 생일이랑 수술날 같은 경우\n",
    "df = df.loc[df['age_cal'] > 0]\n",
    "print(f'10세 이상 제외 : {len(df)}')"
   ]
  },
  {
   "cell_type": "code",
   "execution_count": 34,
   "id": "da028af9-fa9a-480a-8b60-c89ba21e7743",
   "metadata": {
    "execution": {
     "iopub.execute_input": "2023-02-17T17:10:01.009146Z",
     "iopub.status.busy": "2023-02-17T17:10:01.008164Z",
     "iopub.status.idle": "2023-02-17T17:10:06.552390Z",
     "shell.execute_reply": "2023-02-17T17:10:06.551728Z",
     "shell.execute_reply.started": "2023-02-17T17:10:01.009082Z"
    },
    "tags": []
   },
   "outputs": [
    {
     "name": "stdout",
     "output_type": "stream",
     "text": [
      "전체 소아 (19세 미만) opid: 151651\n",
      "cuffed data가 없는 경우는 제외: 87602\n",
      "airway type이 plain이 아닌 경우는 제외: 59546\n",
      "age, airway_tube_size 결측치 제외: 59351\n",
      "10세 이상 제외 : 45067\n",
      "중복되는 hid는 첫번째 수술 외 제외: 34042\n"
     ]
    }
   ],
   "source": [
    "### birth date, op date 없는 환자 중 소아는 거의 없음 (94,914 중 5명) -> 정석대로 birth, op date로 age 계산해서 진행\n",
    "# tube.csv에 수술 시점 weight, height 추가\n",
    "df0 = pd.read_csv('tube.csv')\n",
    "df0.drop(columns=['weight', 'height'], inplace=True)\n",
    "df = pd.read_csv('demography_revised.csv')\n",
    "df = df0.merge(df[['opid', 'weight', 'height']], how='left', on='opid', suffixes=('_o',''))\n",
    "\n",
    "df.loc[df['weight'] <= 0, 'weight'] = None\n",
    "df.loc[df['height'] <= 0, 'height'] = None\n",
    "df['age'] = df['age'].astype(int)\n",
    "\n",
    "# 나이 계산 -> age_cal 열에 추가\n",
    "df_b = pd.read_csv('birth_sex.csv')\n",
    "df_b.rename(columns={'생년월일':'birth_date'}, inplace=True)\n",
    "df_b['birth_date'] = df_b['birth_date'].apply(lambda x: datetime.datetime.strptime(x, '%Y-%m-%d'))\n",
    "\n",
    "df_o = pd.read_csv('opdates.csv')\n",
    "df_o['opdate'] = df_o['opdate'].apply(lambda x: datetime.datetime.strptime(x, '%Y-%m-%d'))\n",
    "\n",
    "df1 = pd.merge(df_o, df_b, how='inner', on='hid')\n",
    "df1['age_cal'] = (df1['opdate'] - df1['birth_date'])/pd.Timedelta(days=365.2425)\n",
    "\n",
    "df = pd.merge(df, df1[['opid', 'age_cal', 'opdate', 'birth_date']], how='inner', on='opid')\n",
    "\n",
    "df = df.loc[df['age_cal'] < 19]\n",
    "print(f'전체 소아 (19세 미만) opid: {len(df)}')\n",
    "\n",
    "\n",
    "# cuffed 여부와 fixed depth 추가\n",
    "df_t = pd.read_csv('tube_type.csv')\n",
    "df_t['cuffed'] = (df_t['cuffed'] == 1)\n",
    "\n",
    "df_f = pd.read_csv('tube_fixed.csv')\n",
    "\n",
    "# merge 하면서 cuffed 데이터가 없는 경우는 제외\n",
    "df = df.merge(df_f, how='left', on='opid')\n",
    "df = df.merge(df_t[['opid', 'cuffed']], how='inner', on='opid')\n",
    "print(f'cuffed data가 없는 경우는 제외: {len(df)}')\n",
    "\n",
    "\n",
    "\n",
    "\n",
    "df = df.loc[df['airway_tube_type'] == 'plain']\n",
    "print(f'airway type이 plain이 아닌 경우는 제외: {len(df)}')\n",
    "\n",
    "\n",
    "\n",
    "\n",
    "df.dropna(subset=['age', 'airway_tube_size'], inplace=True)  # sex는 모든 데이터 다 있음\n",
    "df['sex'] = (df['sex'] == 'M')\n",
    "print(f'age, airway_tube_size 결측치 제외: {len(df)}')\n",
    "\n",
    "\n",
    "\n",
    "df = df.loc[df['age_cal'] < 10-0.01]  # 생일이랑 수술날 같은 경우\n",
    "df = df.loc[df['age_cal'] > 0]\n",
    "print(f'10세 이상 제외 : {len(df)}')\n",
    "\n",
    "\n",
    "# 중복되는 hid 경우 제외 (첫번째 수술기록만 가져오기)\n",
    "df = df.merge(df_o[['opid','hid']], how='inner', on='opid')\n",
    "df = df.loc[df[['hid', 'opid']].groupby('hid')['opid'].idxmin()]\n",
    "print(f'중복되는 hid는 첫번째 수술 외 제외: {len(df)}')"
   ]
  },
  {
   "cell_type": "code",
   "execution_count": 69,
   "id": "735ef75d-c309-459e-866b-7a31de957de7",
   "metadata": {
    "execution": {
     "iopub.execute_input": "2023-02-21T14:09:36.348053Z",
     "iopub.status.busy": "2023-02-21T14:09:36.347474Z",
     "iopub.status.idle": "2023-02-21T14:09:41.760050Z",
     "shell.execute_reply": "2023-02-21T14:09:41.759516Z",
     "shell.execute_reply.started": "2023-02-21T14:09:36.347997Z"
    },
    "tags": []
   },
   "outputs": [
    {
     "name": "stdout",
     "output_type": "stream",
     "text": [
      "전체 소아 (19세 미만) opid: 151651\n",
      "airway tube type이 plain이 아닌 경우 제외: 77477\n",
      "age, airway_tube_size 결측치 제외: 77132\n",
      "cuffed data가 없는 경우는 제외: 59351\n",
      "10세 이상 제외 : 45067\n",
      "중복되는 hid는 첫번째 수술 외 제외: 34042\n"
     ]
    }
   ],
   "source": [
    "### birth date, op date 없는 환자 중 소아는 거의 없음 (94,914 중 5명) -> 정석대로 birth, op date로 age 계산해서 진행\n",
    "# tube.csv에 수술 시점 weight, height 추가\n",
    "df0 = pd.read_csv('tube.csv')\n",
    "df0.drop(columns=['weight', 'height'], inplace=True)\n",
    "df = pd.read_csv('demography_revised.csv')\n",
    "df = df0.merge(df[['opid', 'weight', 'height']], how='left', on='opid', suffixes=('_o',''))\n",
    "\n",
    "df.loc[df['weight'] <= 0, 'weight'] = None\n",
    "df.loc[df['height'] <= 0, 'height'] = None\n",
    "df['age'] = df['age'].astype(int)\n",
    "\n",
    "# 나이 계산 -> age_cal 열에 추가\n",
    "df_b = pd.read_csv('birth_sex.csv')\n",
    "df_b.rename(columns={'생년월일':'birth_date'}, inplace=True)\n",
    "df_b['birth_date'] = df_b['birth_date'].apply(lambda x: datetime.datetime.strptime(x, '%Y-%m-%d'))\n",
    "\n",
    "df_o = pd.read_csv('opdates.csv')\n",
    "df_o['opdate'] = df_o['opdate'].apply(lambda x: datetime.datetime.strptime(x, '%Y-%m-%d'))\n",
    "\n",
    "df1 = pd.merge(df_o, df_b, how='inner', on='hid')\n",
    "df1['age_cal'] = (df1['opdate'] - df1['birth_date'])/pd.Timedelta(days=365.2425)\n",
    "\n",
    "df = pd.merge(df, df1[['opid', 'age_cal', 'opdate', 'birth_date']], how='inner', on='opid')\n",
    "\n",
    "df = df.loc[df['age_cal'] < 19]\n",
    "print(f'전체 소아 (19세 미만) opid: {len(df)}')\n",
    "\n",
    "\n",
    "#####################\n",
    "df = df.loc[df['airway_tube_type'] == 'plain']\n",
    "# [nan 'plain' 'RAE(oral)' 'reinforced' 'LMA' 'T-tube' 'CobraPLA', 'double lumen tube' 'RAE(nasal)' 'laser' 'combitube' 'univent']\n",
    "\n",
    "print(f'airway tube type이 plain이 아닌 경우 제외: {len(df)}')\n",
    "# age, sex, airway tube size 값이 없는 경우는 제외\n",
    "\n",
    "df.dropna(subset=['age', 'airway_tube_size'], inplace=True)  # sex는 모든 데이터 다 있음\n",
    "df['sex'] = (df['sex'] == 'M')\n",
    "print(f'airway_tube_size 결측치 제외: {len(df)}')\n",
    "\n",
    "\n",
    "# cuffed 여부와 fixed depth 추가\n",
    "df_t = pd.read_csv('tube_type.csv')\n",
    "df_t['cuffed'] = (df_t['cuffed'] == 1)\n",
    "\n",
    "df_f = pd.read_csv('tube_fixed.csv')\n",
    "\n",
    "# merge 하면서 cuffed 데이터가 없는 경우는 제외\n",
    "df = df.merge(df_f, how='left', on='opid')\n",
    "df = df.merge(df_t[['opid', 'cuffed']], how='inner', on='opid')\n",
    "print(f'cuffed data가 없는 경우는 제외: {len(df)}')\n",
    "\n",
    "\n",
    "# inclusion criteria : 소아 10세 미만\n",
    "#df['age_cal'] = df['age_cal'] + 0.01 # 생일이랑 수술날 같은 경우\n",
    "df = df.loc[df['age_cal'] < 10-0.01]  # 생일이랑 수술날 같은 경우\n",
    "df = df.loc[df['age_cal'] > 0]\n",
    "print(f'10세 이상 제외 : {len(df)}')\n",
    "\n",
    "\n",
    "# 중복되는 hid 경우 제외 (첫번째 수술기록만 가져오기)\n",
    "df = df.merge(df_o[['opid','hid']], how='inner', on='opid')\n",
    "df = df.loc[df[['hid', 'opid']].groupby('hid')['opid'].idxmin()]\n",
    "print(f'중복되는 hid는 첫번째 수술 외 제외: {len(df)}')"
   ]
  },
  {
   "cell_type": "code",
   "execution_count": 72,
   "id": "01531ed5-1476-4dc3-b64d-1004a98fea78",
   "metadata": {
    "execution": {
     "iopub.execute_input": "2023-02-21T14:10:35.411363Z",
     "iopub.status.busy": "2023-02-21T14:10:35.410820Z",
     "iopub.status.idle": "2023-02-21T14:10:35.418713Z",
     "shell.execute_reply": "2023-02-21T14:10:35.417677Z",
     "shell.execute_reply.started": "2023-02-21T14:10:35.411310Z"
    },
    "tags": []
   },
   "outputs": [
    {
     "data": {
      "text/plain": [
       "14284"
      ]
     },
     "execution_count": 72,
     "metadata": {},
     "output_type": "execute_result"
    }
   ],
   "source": [
    "59351 - 45067"
   ]
  },
  {
   "cell_type": "code",
   "execution_count": null,
   "id": "db380bea-506c-4526-81e6-cbabe368d3ee",
   "metadata": {},
   "outputs": [],
   "source": [
    "29974 32692 33985 34011 34042"
   ]
  },
  {
   "cell_type": "code",
   "execution_count": 27,
   "id": "eb135e8e-e539-4d71-b738-ab421288b300",
   "metadata": {
    "execution": {
     "iopub.execute_input": "2023-02-17T16:57:50.900541Z",
     "iopub.status.busy": "2023-02-17T16:57:50.899967Z",
     "iopub.status.idle": "2023-02-17T16:58:00.736087Z",
     "shell.execute_reply": "2023-02-17T16:58:00.735413Z",
     "shell.execute_reply.started": "2023-02-17T16:57:50.900482Z"
    },
    "tags": []
   },
   "outputs": [
    {
     "name": "stdout",
     "output_type": "stream",
     "text": [
      "전체 소아 (19세 미만) opid: 155719\n",
      "중복되는 hid는 첫번째 수술 외 제외: 94919\n",
      "cuffed data가 없는 경우는 제외: 56685\n",
      "airway type이 plain이 아닌 경우는 제외: 38047\n",
      "10세 이상 제외 : 30076\n"
     ]
    }
   ],
   "source": [
    "# tube.csv에 수술 시점 weight, height 추가\n",
    "df0 = pd.read_csv('tube.csv')\n",
    "df0.drop(columns=['weight', 'height'], inplace=True)\n",
    "df = pd.read_csv('demography_revised.csv')\n",
    "df = df0.merge(df[['opid', 'weight', 'height']], how='left', on='opid', suffixes=('_o',''))\n",
    "\n",
    "df.loc[df['weight'] <= 0, 'weight'] = None\n",
    "df.loc[df['height'] <= 0, 'height'] = None\n",
    "df['age'] = df['age'].astype(int)\n",
    "df = df.loc[df['age'] < 19]\n",
    "print(f'전체 소아 (19세 미만) opid: {len(df)}')\n",
    "\n",
    "\n",
    "df_o = pd.read_csv('opdates.csv')\n",
    "df_o['opdate'] = df_o['opdate'].apply(lambda x: datetime.datetime.strptime(x, '%Y-%m-%d'))\n",
    "\n",
    "\n",
    "# 중복되는 hid 경우 제외 (첫번째 수술기록만 가져오기)\n",
    "df = df.merge(df_o[['opid','hid']], how='inner', on='opid')\n",
    "df = df.loc[df[['hid', 'opid']].groupby('hid')['opid'].idxmin()]\n",
    "print(f'중복되는 hid는 첫번째 수술 외 제외: {len(df)}')\n",
    "\n",
    "\n",
    "# cuffed 여부와 fixed depth 추가\n",
    "df_t = pd.read_csv('tube_type.csv')\n",
    "df_t['cuffed'] = (df_t['cuffed'] == 1)\n",
    "\n",
    "df_f = pd.read_csv('tube_fixed.csv')\n",
    "\n",
    "# merge 하면서 cuffed 데이터가 없는 경우는 제외\n",
    "df = df.merge(df_f, how='left', on='opid')\n",
    "df = df.merge(df_t[['opid', 'cuffed']], how='inner', on='opid')\n",
    "print(f'cuffed data가 없는 경우는 제외: {len(df)}')\n",
    "\n",
    "df = df.loc[df['airway_tube_type'] == 'plain']\n",
    "print(f'airway type이 plain이 아닌 경우는 제외: {len(df)}')\n",
    "\n",
    "\n",
    "# 나이 계산 -> age_cal 열에 추가\n",
    "df_b = pd.read_csv('birth_sex.csv')\n",
    "df_b.rename(columns={'생년월일':'birth_date'}, inplace=True)\n",
    "df_b['birth_date'] = df_b['birth_date'].apply(lambda x: datetime.datetime.strptime(x, '%Y-%m-%d'))\n",
    "\n",
    "df_o = pd.read_csv('opdates.csv')\n",
    "df_o['opdate'] = df_o['opdate'].apply(lambda x: datetime.datetime.strptime(x, '%Y-%m-%d'))\n",
    "\n",
    "df1 = pd.merge(df_o, df_b, how='inner', on='hid')\n",
    "df1['age_cal'] = (df1['opdate'] - df1['birth_date'])/pd.Timedelta(days=365.2425)\n",
    "\n",
    "df = pd.merge(df, df1[['opid', 'age_cal', 'opdate', 'birth_date']], how='inner', on='opid')\n",
    "\n",
    "# inclusion criteria : 소아 10세 미만\n",
    "#df['age_cal'] = df['age_cal'] + 0.01 # 생일이랑 수술날 같은 경우\n",
    "df = df.loc[df['age_cal'] < 10-0.01]  # 생일이랑 수술날 같은 경우\n",
    "df = df.loc[df['age_cal'] > 0]\n",
    "print(f'10세 이상 제외 : {len(df)}')\n"
   ]
  },
  {
   "cell_type": "code",
   "execution_count": 28,
   "id": "3879475d-d4d7-47c9-964c-41673b17fc56",
   "metadata": {
    "execution": {
     "iopub.execute_input": "2023-02-17T16:58:14.370112Z",
     "iopub.status.busy": "2023-02-17T16:58:14.369548Z",
     "iopub.status.idle": "2023-02-17T16:58:19.817357Z",
     "shell.execute_reply": "2023-02-17T16:58:19.816649Z",
     "shell.execute_reply.started": "2023-02-17T16:58:14.370056Z"
    },
    "tags": []
   },
   "outputs": [
    {
     "name": "stdout",
     "output_type": "stream",
     "text": [
      "초기 전체 opid: 155719\n",
      "airway tube type이 plain이 아닌 경우 제외: 78848\n",
      "age, airway_tube_size 결측치 제외: 78502\n",
      "10세 이상 제외 : 59352\n",
      "cuffed data가 없는 경우는 제외: 45067\n",
      "중복되는 hid는 첫번째 수술 외 제외: 34042\n"
     ]
    }
   ],
   "source": [
    "from sklearn.model_selection import GridSearchCV, RandomizedSearchCV\n",
    "from sklearn.metrics import explained_variance_score, mean_squared_error, mean_absolute_error, r2_score\n",
    "from sklearn.utils import shuffle\n",
    "import pandas as pd\n",
    "import xgboost as xgb\n",
    "import numpy as np\n",
    "import random, os, datetime, pickle\n",
    "import scipy\n",
    "import matplotlib.pyplot as plt\n",
    "import numpy as np\n",
    "import csv\n",
    "\n",
    "\n",
    "# tube.csv에 수술 시점 weight, height 추가\n",
    "df0 = pd.read_csv('tube.csv')\n",
    "df0.drop(columns=['weight', 'height'], inplace=True)\n",
    "df = pd.read_csv('demography_revised.csv')\n",
    "df = df0.merge(df[['opid', 'weight', 'height']], how='left', on='opid', suffixes=('_o',''))\n",
    "\n",
    "df.loc[df['weight'] <= 0, 'weight'] = None\n",
    "df.loc[df['height'] <= 0, 'height'] = None\n",
    "df['age'] = df['age'].astype(int)\n",
    "df = df.loc[df['age'] < 19]\n",
    "print(f'초기 전체 opid: {len(df)}')\n",
    "df = df.loc[df['airway_tube_type'] == 'plain']\n",
    "# [nan 'plain' 'RAE(oral)' 'reinforced' 'LMA' 'T-tube' 'CobraPLA', 'double lumen tube' 'RAE(nasal)' 'laser' 'combitube' 'univent']\n",
    "\n",
    "print(f'airway tube type이 plain이 아닌 경우 제외: {len(df)}')\n",
    "# age, sex, airway tube size 값이 없는 경우는 제외\n",
    "\n",
    "df.dropna(subset=['age', 'airway_tube_size'], inplace=True)  # sex는 모든 데이터 다 있음\n",
    "df['sex'] = (df['sex'] == 'M')\n",
    "print(f'age, airway_tube_size 결측치 제외: {len(df)}')\n",
    "\n",
    "# 나이 계산 -> age_cal 열에 추가\n",
    "df_b = pd.read_csv('birth_sex.csv')\n",
    "df_b.rename(columns={'생년월일':'birth_date'}, inplace=True)\n",
    "df_b['birth_date'] = df_b['birth_date'].apply(lambda x: datetime.datetime.strptime(x, '%Y-%m-%d'))\n",
    "\n",
    "df_o = pd.read_csv('opdates.csv')\n",
    "df_o['opdate'] = df_o['opdate'].apply(lambda x: datetime.datetime.strptime(x, '%Y-%m-%d'))\n",
    "\n",
    "df1 = pd.merge(df_o, df_b, how='inner', on='hid')\n",
    "df1['age_cal'] = (df1['opdate'] - df1['birth_date'])/pd.Timedelta(days=365.2425)\n",
    "\n",
    "df = pd.merge(df, df1[['opid', 'age_cal', 'opdate', 'birth_date']], how='inner', on='opid')\n",
    "#df3 = pd.merge(df, df1[['opid', 'age_cal', 'opdate', 'birth_date']], how='left', on='opid')\n",
    "\n",
    "# inclusion criteria : 소아 10세 미만\n",
    "#df['age_cal'] = df['age_cal'] + 0.01 # 생일이랑 수술날 같은 경우\n",
    "df = df.loc[df['age_cal'] < 10-0.01]  # 생일이랑 수술날 같은 경우\n",
    "df = df.loc[df['age_cal'] > 0]\n",
    "print(f'10세 이상 제외 : {len(df)}')\n",
    "\n",
    "# cuffed 여부와 fixed depth 추가\n",
    "df_t = pd.read_csv('tube_type.csv')\n",
    "df_t['cuffed'] = (df_t['cuffed'] == 1)\n",
    "\n",
    "df_f = pd.read_csv('tube_fixed.csv')\n",
    "\n",
    "# merge 하면서 cuffed 데이터가 없는 경우는 제외\n",
    "df = df.merge(df_f, how='left', on='opid')\n",
    "df = df.merge(df_t[['opid', 'cuffed']], how='inner', on='opid')\n",
    "print(f'cuffed data가 없는 경우는 제외: {len(df)}')\n",
    "\n",
    "\n",
    "# 중복되는 hid 경우 제외 (첫번째 수술기록만 가져오기)\n",
    "df = df.merge(df_o[['opid','hid']], how='inner', on='opid')\n",
    "df = df.loc[df[['hid', 'opid']].groupby('hid')['opid'].idxmin()]\n",
    "print(f'중복되는 hid는 첫번째 수술 외 제외: {len(df)}')"
   ]
  },
  {
   "cell_type": "code",
   "execution_count": 64,
   "id": "189d24ea-fb56-476a-ada7-14a9247fb161",
   "metadata": {
    "execution": {
     "iopub.execute_input": "2023-02-16T14:50:12.134306Z",
     "iopub.status.busy": "2023-02-16T14:50:12.133737Z",
     "iopub.status.idle": "2023-02-16T14:50:12.157424Z",
     "shell.execute_reply": "2023-02-16T14:50:12.156323Z",
     "shell.execute_reply.started": "2023-02-16T14:50:12.134249Z"
    },
    "tags": []
   },
   "outputs": [
    {
     "data": {
      "text/html": [
       "<div>\n",
       "<style scoped>\n",
       "    .dataframe tbody tr th:only-of-type {\n",
       "        vertical-align: middle;\n",
       "    }\n",
       "\n",
       "    .dataframe tbody tr th {\n",
       "        vertical-align: top;\n",
       "    }\n",
       "\n",
       "    .dataframe thead th {\n",
       "        text-align: right;\n",
       "    }\n",
       "</style>\n",
       "<table border=\"1\" class=\"dataframe\">\n",
       "  <thead>\n",
       "    <tr style=\"text-align: right;\">\n",
       "      <th></th>\n",
       "      <th>opid</th>\n",
       "      <th>sex</th>\n",
       "      <th>age</th>\n",
       "      <th>airway_tube_size</th>\n",
       "      <th>airway_tube_type</th>\n",
       "      <th>airway_lma</th>\n",
       "      <th>weight</th>\n",
       "      <th>height</th>\n",
       "      <th>age_cal</th>\n",
       "      <th>opdate</th>\n",
       "      <th>birth_date</th>\n",
       "    </tr>\n",
       "  </thead>\n",
       "  <tbody>\n",
       "    <tr>\n",
       "      <th>47551</th>\n",
       "      <td>140924126</td>\n",
       "      <td>False</td>\n",
       "      <td>10</td>\n",
       "      <td>6.5</td>\n",
       "      <td>plain</td>\n",
       "      <td>NaN</td>\n",
       "      <td>56.1</td>\n",
       "      <td>154.2</td>\n",
       "      <td>9.998836</td>\n",
       "      <td>2014-09-24</td>\n",
       "      <td>2004-09-24</td>\n",
       "    </tr>\n",
       "  </tbody>\n",
       "</table>\n",
       "</div>"
      ],
      "text/plain": [
       "            opid    sex  age  airway_tube_size airway_tube_type  airway_lma  \\\n",
       "47551  140924126  False   10               6.5            plain         NaN   \n",
       "\n",
       "       weight  height   age_cal     opdate birth_date  \n",
       "47551    56.1   154.2  9.998836 2014-09-24 2004-09-24  "
      ]
     },
     "execution_count": 64,
     "metadata": {},
     "output_type": "execute_result"
    }
   ],
   "source": [
    "df[df['opid']==140924126]"
   ]
  },
  {
   "cell_type": "code",
   "execution_count": 32,
   "id": "05b857f5-1c9b-4b72-828b-fe55d748af90",
   "metadata": {
    "collapsed": true,
    "execution": {
     "iopub.execute_input": "2023-02-16T14:34:56.499655Z",
     "iopub.status.busy": "2023-02-16T14:34:56.499118Z",
     "iopub.status.idle": "2023-02-16T14:34:56.520143Z",
     "shell.execute_reply": "2023-02-16T14:34:56.519338Z",
     "shell.execute_reply.started": "2023-02-16T14:34:56.499599Z"
    },
    "jupyter": {
     "outputs_hidden": true
    },
    "tags": []
   },
   "outputs": [
    {
     "data": {
      "text/plain": [
       "{60119113,\n",
       " 100402123,\n",
       " 120215116,\n",
       " 140924126,\n",
       " 200731100,\n",
       " 200929098,\n",
       " 201222093,\n",
       " 210107143,\n",
       " 210108148,\n",
       " 210111133,\n",
       " 210111166,\n",
       " 210113141,\n",
       " 210113147,\n",
       " 210115136,\n",
       " 210118133,\n",
       " 210118134,\n",
       " 210121144,\n",
       " 210121162,\n",
       " 210122155,\n",
       " 210122169,\n",
       " 210125128,\n",
       " 210128129,\n",
       " 210201134,\n",
       " 210201140,\n",
       " 210203163,\n",
       " 210205152,\n",
       " 210209131,\n",
       " 210209140,\n",
       " 210210139,\n",
       " 210212003,\n",
       " 210217139,\n",
       " 210223142,\n",
       " 210224134,\n",
       " 210224142,\n",
       " 210225129,\n",
       " 210303159,\n",
       " 210304151,\n",
       " 210304152,\n",
       " 210308151,\n",
       " 210308152,\n",
       " 210308154,\n",
       " 210308155,\n",
       " 210309133,\n",
       " 210312153,\n",
       " 210315129,\n",
       " 210315131,\n",
       " 210315133,\n",
       " 210315153,\n",
       " 210318127,\n",
       " 210319122,\n",
       " 210322127,\n",
       " 210322150,\n",
       " 210322151,\n",
       " 210324140,\n",
       " 210324145,\n",
       " 210325147,\n",
       " 210326126,\n",
       " 210329134,\n",
       " 210331129,\n",
       " 210401156,\n",
       " 210406134,\n",
       " 210407127,\n",
       " 210407134,\n",
       " 210408134,\n",
       " 210409136,\n",
       " 210419123,\n",
       " 210419145,\n",
       " 210419149,\n",
       " 210426126,\n",
       " 210427139,\n",
       " 210428125,\n",
       " 210429136,\n",
       " 210503124,\n",
       " 210503147,\n",
       " 210504133,\n",
       " 210506126,\n",
       " 210510140,\n",
       " 210512146,\n",
       " 210514150,\n",
       " 210517123,\n",
       " 210520141,\n",
       " 210524127,\n",
       " 210524128,\n",
       " 210524151,\n",
       " 210524152,\n",
       " 210527126,\n",
       " 210527134,\n",
       " 210601128,\n",
       " 210603141,\n",
       " 210609148,\n",
       " 210609159,\n",
       " 210610146,\n",
       " 210614131,\n",
       " 210614132,\n",
       " 210614154,\n",
       " 210614157,\n",
       " 210615119,\n",
       " 210616085,\n",
       " 210621131,\n",
       " 210621138,\n",
       " 210624147,\n",
       " 210628132,\n",
       " 210628133,\n",
       " 210702082,\n",
       " 210705140,\n",
       " 210705141,\n",
       " 210705145,\n",
       " 210706142,\n",
       " 210707153,\n",
       " 210709140,\n",
       " 210712135,\n",
       " 210715128,\n",
       " 210715136,\n",
       " 210716162,\n",
       " 210719127,\n",
       " 210719132,\n",
       " 210719133,\n",
       " 210719138,\n",
       " 210723133,\n",
       " 210726132,\n",
       " 210802141,\n",
       " 210804127,\n",
       " 210806141,\n",
       " 210809160,\n",
       " 210811159,\n",
       " 210816132,\n",
       " 210819128,\n",
       " 210819135,\n",
       " 210823143,\n",
       " 210823147,\n",
       " 210827148,\n",
       " 210830138,\n",
       " 210902143,\n",
       " 210903149,\n",
       " 210910144,\n",
       " 210913156,\n",
       " 210913171,\n",
       " 210914125,\n",
       " 210917163,\n",
       " 210924147,\n",
       " 211005127,\n",
       " 211007157,\n",
       " 211010003,\n",
       " 211011125,\n",
       " 211013133,\n",
       " 211018134,\n",
       " 211018145,\n",
       " 211019144,\n",
       " 211020141,\n",
       " 211020158,\n",
       " 211025141,\n",
       " 211026137,\n",
       " 211028142,\n",
       " 211101157,\n",
       " 211108137,\n",
       " 211108142,\n",
       " 211109155,\n",
       " 211110131,\n",
       " 211110139,\n",
       " 211111141,\n",
       " 211113014,\n",
       " 211115140,\n",
       " 211117129,\n",
       " 211118156,\n",
       " 211118157,\n",
       " 211122148,\n",
       " 211122150,\n",
       " 211122168,\n",
       " 211124116,\n",
       " 211125151,\n",
       " 211129134,\n",
       " 211204003,\n",
       " 211206138,\n",
       " 211209161,\n",
       " 211215154,\n",
       " 211220134,\n",
       " 211220159,\n",
       " 211223128,\n",
       " 211229142,\n",
       " 211231147,\n",
       " 220103141,\n",
       " 220103157,\n",
       " 220104136,\n",
       " 220105143,\n",
       " 220118131,\n",
       " 220119139,\n",
       " 220119149,\n",
       " 220124153,\n",
       " 220126156,\n",
       " 220128153,\n",
       " 220128166,\n",
       " 220128177,\n",
       " 220203151,\n",
       " 220204142,\n",
       " 220204156,\n",
       " 220207145,\n",
       " 220207147,\n",
       " 220207160,\n",
       " 220212006,\n",
       " 220214137,\n",
       " 220214144,\n",
       " 220216153,\n",
       " 220217145,\n",
       " 220221131,\n",
       " 220223125,\n",
       " 220228127,\n",
       " 220303114,\n",
       " 220304124,\n",
       " 220304139,\n",
       " 220307139,\n",
       " 220308135,\n",
       " 220310134,\n",
       " 220315142,\n",
       " 220316138,\n",
       " 220316141,\n",
       " 220321138,\n",
       " 220322119,\n",
       " 220325128,\n",
       " 220328147,\n",
       " 220330134,\n",
       " 220330137}"
      ]
     },
     "execution_count": 32,
     "metadata": {},
     "output_type": "execute_result"
    }
   ],
   "source": [
    "# age와 age_cal 값이 차이나는 데이터들\n",
    "set1 = set(df.loc[df['age'] < 10]['opid'].values)\n",
    "set2 = set(df.loc[df['age_cal'] < 10]['opid'].values)\n",
    "set2 - set1"
   ]
  },
  {
   "cell_type": "code",
   "execution_count": 73,
   "id": "f3fa1b41-ea34-4d05-9b54-0a4453298dc7",
   "metadata": {
    "execution": {
     "iopub.execute_input": "2023-02-16T15:04:22.620303Z",
     "iopub.status.busy": "2023-02-16T15:04:22.619729Z",
     "iopub.status.idle": "2023-02-16T15:04:22.626971Z",
     "shell.execute_reply": "2023-02-16T15:04:22.625886Z",
     "shell.execute_reply.started": "2023-02-16T15:04:22.620247Z"
    },
    "tags": []
   },
   "outputs": [
    {
     "name": "stdout",
     "output_type": "stream",
     "text": [
      "cuffed data가 없는 경우는 제외: 45067\n"
     ]
    }
   ],
   "source": [
    "# cuffed 여부와 fixed depth 추가\n",
    "df_t = pd.read_csv('tube_type.csv')\n",
    "df_t['cuffed'] = (df_t['cuffed'] == 1)\n",
    "\n",
    "df_f = pd.read_csv('tube_fixed.csv')\n",
    "\n",
    "# merge 하면서 cuffed 데이터가 없는 경우는 제외\n",
    "df = df.merge(df_f, how='left', on='opid')\n",
    "df = df.merge(df_t[['opid', 'cuffed']], how='inner', on='opid')\n",
    "print(f'cuffed data가 없는 경우는 제외: {len(df)}')"
   ]
  },
  {
   "cell_type": "code",
   "execution_count": 77,
   "id": "fe43f0b4-ebbd-4129-b638-62b7ad992c83",
   "metadata": {
    "execution": {
     "iopub.execute_input": "2023-02-16T15:07:08.742454Z",
     "iopub.status.busy": "2023-02-16T15:07:08.741877Z",
     "iopub.status.idle": "2023-02-16T15:07:10.480102Z",
     "shell.execute_reply": "2023-02-16T15:07:10.479438Z",
     "shell.execute_reply.started": "2023-02-16T15:07:08.742396Z"
    },
    "tags": []
   },
   "outputs": [
    {
     "name": "stdout",
     "output_type": "stream",
     "text": [
      "중복되는 hid는 첫번째 수술 외 제외: 34042\n"
     ]
    }
   ],
   "source": [
    "# 중복되는 hid 경우 제외 (첫번째 수술기록만 가져오기)\n",
    "df = df.merge(df_o[['opid','hid']], how='inner', on='opid')\n",
    "df = df.loc[df[['hid', 'opid']].groupby('hid')['opid'].idxmin()]\n",
    "print(f'중복되는 hid는 첫번째 수술 외 제외: {len(df)}')"
   ]
  },
  {
   "cell_type": "markdown",
   "id": "e2aa0d9d-b06f-41b3-abdb-51d4eb14166a",
   "metadata": {},
   "source": [
    "# Data preprocessing"
   ]
  },
  {
   "cell_type": "code",
   "execution_count": 2,
   "id": "06ba235c-6d46-40fb-b212-f5a2dc4a662b",
   "metadata": {
    "execution": {
     "iopub.execute_input": "2023-02-17T04:03:02.875961Z",
     "iopub.status.busy": "2023-02-17T04:03:02.875514Z",
     "iopub.status.idle": "2023-02-17T04:03:06.268410Z",
     "shell.execute_reply": "2023-02-17T04:03:06.267700Z",
     "shell.execute_reply.started": "2023-02-17T04:03:02.875912Z"
    },
    "tags": []
   },
   "outputs": [],
   "source": [
    "from sklearn.model_selection import GridSearchCV, RandomizedSearchCV\n",
    "from sklearn.metrics import explained_variance_score, mean_squared_error, mean_absolute_error, r2_score\n",
    "from sklearn.utils import shuffle\n",
    "import pandas as pd\n",
    "import xgboost as xgb\n",
    "import numpy as np\n",
    "import random, os, datetime, pickle\n",
    "import scipy\n",
    "import matplotlib.pyplot as plt\n",
    "import numpy as np\n",
    "import csv, math\n",
    "\n",
    "\n",
    "# tube.csv에 수술 시점 weight, height 추가\n",
    "df0 = pd.read_csv('tube.csv')\n",
    "df0.drop(columns=['weight', 'height'], inplace=True)\n",
    "df = pd.read_csv('demography_revised.csv')\n",
    "df = df0.merge(df[['opid', 'weight', 'height']], how='left', on='opid', suffixes=('_o',''))\n",
    "\n",
    "df.loc[df['weight'] <= 0, 'weight'] = None\n",
    "df.loc[df['height'] <= 0, 'height'] = None\n",
    "df['age'] = df['age'].astype(int)\n",
    "df = df.loc[df['airway_tube_type'] == 'plain']\n",
    "# [nan 'plain' 'RAE(oral)' 'reinforced' 'LMA' 'T-tube' 'CobraPLA', 'double lumen tube' 'RAE(nasal)' 'laser' 'combitube' 'univent']\n",
    "\n",
    "# age, sex, airway tube size 값이 없는 경우는 제외\n",
    "df.dropna(subset=['age', 'airway_tube_size'], inplace=True)\n",
    "df['sex'] = (df['sex'] == 'M')\n",
    "\n",
    "# 나이 계산 -> age_cal 열에 추가\n",
    "df_b = pd.read_csv('birth_sex.csv')\n",
    "df_b.rename(columns={'생년월일':'birth_date'}, inplace=True)\n",
    "df_b['birth_date'] = df_b['birth_date'].apply(lambda x: datetime.datetime.strptime(x, '%Y-%m-%d'))\n",
    "\n",
    "df_o = pd.read_csv('opdates.csv')\n",
    "df_o['opdate'] = df_o['opdate'].apply(lambda x: datetime.datetime.strptime(x, '%Y-%m-%d'))\n",
    "\n",
    "df1 = pd.merge(df_o, df_b, how='inner', on='hid')\n",
    "df1['age_cal'] = (df1['opdate'] - df1['birth_date'])/pd.Timedelta(days=365.2425)\n",
    "\n",
    "df = pd.merge(df, df1[['opid', 'age_cal', 'opdate', 'birth_date']], how='inner', on='opid')\n",
    "\n",
    "\n",
    "# inclusion criteria : 소아 10세 미만\n",
    "df = df.loc[df['age_cal'] < 10-0.01]\n",
    "df = df.loc[df['age_cal'] > 0]\n",
    "df['age'] = df['age_cal'].apply(lambda x: math.floor(x))"
   ]
  },
  {
   "cell_type": "code",
   "execution_count": 3,
   "id": "8c7a908d-b0fd-4522-8440-117f5878f7eb",
   "metadata": {
    "execution": {
     "iopub.execute_input": "2023-02-17T04:03:06.269842Z",
     "iopub.status.busy": "2023-02-17T04:03:06.269578Z",
     "iopub.status.idle": "2023-02-17T04:03:08.296678Z",
     "shell.execute_reply": "2023-02-17T04:03:08.296012Z",
     "shell.execute_reply.started": "2023-02-17T04:03:06.269816Z"
    },
    "tags": []
   },
   "outputs": [
    {
     "name": "stdout",
     "output_type": "stream",
     "text": [
      "중복되는 hid는 첫번째 수술 외 제외: 34042\n",
      "소아 10세 미만에서 cuffed ETT 사용 비율: 0.287\n",
      "소아 10세 미만 최종 opid수: 34042\n"
     ]
    }
   ],
   "source": [
    "# cuffed 여부와 fixed depth 추가\n",
    "df_t = pd.read_csv('tube_type.csv')\n",
    "df_t['cuffed'] = (df_t['cuffed'] == 1)\n",
    "\n",
    "df_f = pd.read_csv('tube_fixed.csv')\n",
    "\n",
    "# merge 하면서 cuffed 데이터가 없는 경우는 제외\n",
    "df = df.merge(df_f, how='left', on='opid')\n",
    "df = df.merge(df_t[['opid', 'cuffed']], how='inner', on='opid')\n",
    "\n",
    "# 중복되는 hid 경우 제외 (첫번째 수술기록만 가져오기)\n",
    "df = df.merge(df_o[['opid','hid']], how='inner', on='opid')\n",
    "df = df.loc[df[['hid', 'opid']].groupby('hid')['opid'].idxmin()]\n",
    "print(f'중복되는 hid는 첫번째 수술 외 제외: {len(df)}')\n",
    "\n",
    "\n",
    "perc = np.mean(df['cuffed'].values)\n",
    "print(f'소아 10세 미만에서 cuffed ETT 사용 비율: {perc:.3f}')\n",
    "print(f'소아 10세 미만 최종 opid수: {len(df)}')"
   ]
  },
  {
   "cell_type": "code",
   "execution_count": 171,
   "id": "3a65aff4-c09c-4629-8668-1febbe956b35",
   "metadata": {
    "execution": {
     "iopub.execute_input": "2023-02-16T09:58:09.699740Z",
     "iopub.status.busy": "2023-02-16T09:58:09.699189Z",
     "iopub.status.idle": "2023-02-16T09:58:10.882352Z",
     "shell.execute_reply": "2023-02-16T09:58:10.881789Z",
     "shell.execute_reply.started": "2023-02-16T09:58:09.699682Z"
    },
    "tags": []
   },
   "outputs": [],
   "source": [
    "# age-based formula에 따른 ETT size\n",
    "OLD_VAR = 'old_tube_size'\n",
    "# df[OLD_VAR] = np.round((df['age'] / 4 + 4) * 2) / 2\n",
    "df[OLD_VAR] = df['age'].apply(lambda x: np.round((x / 4 + 4) * 2) / 2 if x >= 2 else (3.5 if x < 1 else 4)) \n",
    "df[OLD_VAR] = df.apply(lambda x: x[OLD_VAR] - 0.5 if x['cuffed'] else x[OLD_VAR], axis=1)"
   ]
  },
  {
   "cell_type": "code",
   "execution_count": 5,
   "id": "e9422350-fef6-4c94-8af8-0d5cc91d7d30",
   "metadata": {
    "execution": {
     "iopub.execute_input": "2023-02-17T04:03:15.595581Z",
     "iopub.status.busy": "2023-02-17T04:03:15.595050Z",
     "iopub.status.idle": "2023-02-17T04:03:15.625668Z",
     "shell.execute_reply": "2023-02-17T04:03:15.624821Z",
     "shell.execute_reply.started": "2023-02-17T04:03:15.595525Z"
    },
    "tags": []
   },
   "outputs": [],
   "source": [
    "INPUT_VARS = ['age_cal','sex','weight','height', 'cuffed']\n",
    "TARGET_VAR = 'airway_tube_size'\n",
    "\n",
    "random.seed(98)\n",
    "df = shuffle(df)\n",
    "df.reset_index(drop=True, inplace=True)\n",
    "y = df[[TARGET_VAR]].values.flatten().astype(float)\n",
    "c = df['opid'].values.flatten().astype(int)\n",
    "#y_old = df[[OLD_VAR]].values.flatten().astype(float)\n",
    "x = df.loc[:, INPUT_VARS].values.astype(float)\n",
    "\n",
    "# 저장하기\n",
    "#np.savez(f'dataset/ETT_size.npz', x=x, y=y, y_old=y_old, c=c)"
   ]
  },
  {
   "cell_type": "code",
   "execution_count": 6,
   "id": "ffb2e41c-dc54-4509-b327-910b1472868a",
   "metadata": {
    "execution": {
     "iopub.execute_input": "2023-02-17T04:03:18.426852Z",
     "iopub.status.busy": "2023-02-17T04:03:18.426451Z",
     "iopub.status.idle": "2023-02-17T04:03:18.434939Z",
     "shell.execute_reply": "2023-02-17T04:03:18.433900Z",
     "shell.execute_reply.started": "2023-02-17T04:03:18.426809Z"
    },
    "tags": []
   },
   "outputs": [
    {
     "name": "stdout",
     "output_type": "stream",
     "text": [
      "x_train: (27234, 5), x_test: (6808, 5)\n"
     ]
    }
   ],
   "source": [
    "#dat = np.load(f'dataset/ETT_size.npz')\n",
    "\n",
    "# training set의 뒤쪽 20%를 test set 으로 사용\n",
    "nsamp = len(y)\n",
    "ntest = int(nsamp * 0.2)\n",
    "ntrain = nsamp - ntest\n",
    "x_test = x[-ntest:, :]\n",
    "y_test = y[-ntest:]\n",
    "#y_test_old = y_old[-ntest:]\n",
    "x_train = x[:ntrain, :]\n",
    "y_train = y[:ntrain]\n",
    "\n",
    "print(f'x_train: {(x_train).shape}, x_test: {x_test.shape}')"
   ]
  },
  {
   "cell_type": "code",
   "execution_count": null,
   "id": "294e5109-e7d0-4236-becb-50c159ff047e",
   "metadata": {},
   "outputs": [],
   "source": [
    "# label encoding for classification model: 2 -> 0, 2.5 -> 1, ... 8.5 -> 14 로 tube size x 2 - 4\n",
    "df['label'] = df[TARGET_VAR].apply(lambda x: x*2-4)\n",
    "\n",
    "for i in range(14):\n",
    "    df[f'{i}'] = df['label'].apply(lambda x: 1 if x==i else 0)\n",
    "    \n",
    "y_label = df[[f'{i}' for i in range(14)]].values\n",
    "yl_test = y_label[-ntest:]\n",
    "yl_train = y_label[:ntrain]"
   ]
  },
  {
   "cell_type": "markdown",
   "id": "15de3a22-e08a-4762-b840-ea08196c631f",
   "metadata": {},
   "source": [
    "# ETT Size"
   ]
  },
  {
   "cell_type": "markdown",
   "id": "3b684096-c221-44ef-8212-216494307080",
   "metadata": {},
   "source": [
    "## age-based formula"
   ]
  },
  {
   "cell_type": "code",
   "execution_count": null,
   "id": "b13e5f95-7242-4509-924c-7697107aecb9",
   "metadata": {},
   "outputs": [],
   "source": [
    "# age-based formula에 따른 ETT size\n",
    "OLD_VAR = 'old_tube_size'\n",
    "# df[OLD_VAR] = np.round((df['age'] / 4 + 4) * 2) / 2\n",
    "df[OLD_VAR] = df['age'].apply(lambda x: np.round((x / 4 + 4) * 2) / 2 if x >= 2 else (3.5 if x < 1 else 4)) \n",
    "df[OLD_VAR] = df.apply(lambda x: x[OLD_VAR] - 0.5 if x['cuffed'] else x[OLD_VAR], axis=1)\n",
    "\n",
    "y_old = df[[OLD_VAR]].values.flatten().astype(float)\n",
    "y_test_old = y[-ntest:]"
   ]
  },
  {
   "cell_type": "code",
   "execution_count": 192,
   "id": "b94ec787-a440-45d5-ad0b-77a87e7be86d",
   "metadata": {
    "execution": {
     "iopub.execute_input": "2023-02-16T10:07:31.923591Z",
     "iopub.status.busy": "2023-02-16T10:07:31.923038Z",
     "iopub.status.idle": "2023-02-16T10:07:31.937345Z",
     "shell.execute_reply": "2023-02-16T10:07:31.936480Z",
     "shell.execute_reply.started": "2023-02-16T10:07:31.923534Z"
    },
    "tags": []
   },
   "outputs": [
    {
     "name": "stdout",
     "output_type": "stream",
     "text": [
      "--------------\n",
      "old model = age/4+4\n",
      "--------------\n",
      "explained_variance_score: 0.777\n",
      "mean_squared_errors: 0.297\n",
      "r2_score: 0.695\n",
      "acc: 0.339\n",
      "acc(+-0.5mm): 0.868\n"
     ]
    }
   ],
   "source": [
    "print('--------------')\n",
    "print('old model = age/4+4')\n",
    "print('--------------')\n",
    "print(f'explained_variance_score: {explained_variance_score(y_test, y_test_old):.3f}')\n",
    "print(f'mean_squared_errors: {mean_squared_error(y_test, y_test_old):.3f}')\n",
    "print(f'r2_score: {r2_score(y_test, y_test_old):.3f}')\n",
    "# accuracy\n",
    "acc1 = np.mean(y_test_old==y_test)\n",
    "acc3 = np.mean((y_test_old >= y_test-0.5) & (y_test_old <= y_test+0.5))\n",
    "print(f'acc: {acc1:.3f}')\n",
    "print(f'acc(+-0.5mm): {acc3:.3f}')"
   ]
  },
  {
   "cell_type": "markdown",
   "id": "0f425cc7-dec2-4df2-a348-a327e01fc497",
   "metadata": {},
   "source": [
    "## XGBoostRegression"
   ]
  },
  {
   "cell_type": "markdown",
   "id": "365040ae-0883-4577-a8c2-863d0de8abae",
   "metadata": {},
   "source": [
    "* 결측치 그대로 이용"
   ]
  },
  {
   "cell_type": "code",
   "execution_count": 193,
   "id": "f8959dc4-de60-42b6-85a2-99336001bd33",
   "metadata": {
    "execution": {
     "iopub.execute_input": "2023-02-16T10:09:53.878667Z",
     "iopub.status.busy": "2023-02-16T10:09:53.878079Z",
     "iopub.status.idle": "2023-02-16T10:10:22.444151Z",
     "shell.execute_reply": "2023-02-16T10:10:22.443381Z",
     "shell.execute_reply.started": "2023-02-16T10:09:53.878610Z"
    },
    "scrolled": true,
    "tags": []
   },
   "outputs": [
    {
     "name": "stdout",
     "output_type": "stream",
     "text": [
      "Fitting 5 folds for each of 36 candidates, totalling 180 fits\n"
     ]
    },
    {
     "name": "stderr",
     "output_type": "stream",
     "text": [
      "/home/painstudy/.local/lib/python3.8/site-packages/sklearn/model_selection/_search.py:292: UserWarning: The total space of parameters 36 is smaller than n_iter=100. Running 36 iterations. For exhaustive searches, use GridSearchCV.\n",
      "  warnings.warn(\n"
     ]
    },
    {
     "name": "stdout",
     "output_type": "stream",
     "text": [
      "\n",
      "========= found hyperparameter =========\n",
      "{'subsample': 0.8, 'n_estimators': 100, 'max_depth': 4, 'colsample_bytree': 0.5}\n",
      "0.8717466516356295\n",
      "========================================\n",
      "--------------\n",
      "old model = age/4+4\n",
      "--------------\n",
      "explained_variance_score: 0.777\n",
      "mean_squared_errors: 0.297\n",
      "r2_score: 0.695\n",
      "acc: 0.339\n",
      "acc(+-0.5mm): 0.868\n",
      "--------------\n",
      "new model\n",
      "--------------\n",
      "explained_variance_score: 0.855\n",
      "mean_squared_errors: 0.141\n",
      "r2_score: 0.855\n",
      "acc: 0.587\n",
      "acc(+-0.5mm): 0.963\n",
      "[CV 3/5] END colsample_bytree=0.5, max_depth=4, n_estimators=100, subsample=0.5;, score=0.871 total time=   1.9s\n",
      "[CV 2/5] END colsample_bytree=0.5, max_depth=5, n_estimators=200, subsample=0.8;, score=0.866 total time=   3.5s\n",
      "[CV 4/5] END colsample_bytree=0.5, max_depth=7, n_estimators=300, subsample=0.8;, score=0.857 total time=   7.1s\n",
      "[CV 5/5] END colsample_bytree=0.8, max_depth=7, n_estimators=100, subsample=0.8;, score=0.868 total time=   3.8s\n",
      "[CV 1/5] END colsample_bytree=0.5, max_depth=5, n_estimators=200, subsample=0.5;, score=0.865 total time=   3.8s\n",
      "[CV 2/5] END colsample_bytree=0.5, max_depth=7, n_estimators=200, subsample=0.5;, score=0.855 total time=   4.8s\n",
      "[CV 2/5] END colsample_bytree=0.8, max_depth=5, n_estimators=100, subsample=0.5;, score=0.868 total time=   2.6s\n",
      "[CV 2/5] END colsample_bytree=0.8, max_depth=5, n_estimators=200, subsample=0.5;, score=0.863 total time=   5.3s\n",
      "[CV 4/5] END colsample_bytree=0.5, max_depth=5, n_estimators=100, subsample=0.8;, score=0.872 total time=   2.3s\n",
      "[CV 4/5] END colsample_bytree=0.5, max_depth=5, n_estimators=300, subsample=0.5;, score=0.863 total time=   5.2s\n",
      "[CV 4/5] END colsample_bytree=0.8, max_depth=4, n_estimators=200, subsample=0.8;, score=0.872 total time=   4.1s\n",
      "[CV 1/5] END colsample_bytree=0.8, max_depth=5, n_estimators=200, subsample=0.8;, score=0.863 total time=   5.1s\n",
      "[CV 4/5] END colsample_bytree=0.5, max_depth=5, n_estimators=100, subsample=0.5;, score=0.871 total time=   2.6s\n",
      "[CV 2/5] END colsample_bytree=0.5, max_depth=5, n_estimators=300, subsample=0.8;, score=0.864 total time=   5.0s\n",
      "[CV 4/5] END colsample_bytree=0.8, max_depth=4, n_estimators=200, subsample=0.5;, score=0.870 total time=   4.2s\n",
      "[CV 4/5] END colsample_bytree=0.8, max_depth=5, n_estimators=200, subsample=0.8;, score=0.867 total time=   5.1s\n",
      "[CV 3/5] END colsample_bytree=0.5, max_depth=5, n_estimators=100, subsample=0.5;, score=0.869 total time=   2.4s\n",
      "[CV 1/5] END colsample_bytree=0.5, max_depth=5, n_estimators=300, subsample=0.5;, score=0.861 total time=   5.1s\n",
      "[CV 1/5] END colsample_bytree=0.8, max_depth=4, n_estimators=200, subsample=0.5;, score=0.864 total time=   4.2s\n",
      "[CV 4/5] END colsample_bytree=0.8, max_depth=5, n_estimators=200, subsample=0.5;, score=0.865 total time=   5.2s\n",
      "[CV 1/5] END colsample_bytree=0.5, max_depth=5, n_estimators=100, subsample=0.5;, score=0.867 total time=   2.4s\n",
      "[CV 2/5] END colsample_bytree=0.5, max_depth=5, n_estimators=300, subsample=0.5;, score=0.863 total time=   5.2s\n",
      "[CV 3/5] END colsample_bytree=0.8, max_depth=4, n_estimators=200, subsample=0.5;, score=0.868 total time=   4.2s\n",
      "[CV 2/5] END colsample_bytree=0.8, max_depth=5, n_estimators=200, subsample=0.8;, score=0.866 total time=   5.1s\n",
      "[CV 1/5] END colsample_bytree=0.5, max_depth=4, n_estimators=100, subsample=0.5;, score=0.869 total time=   1.0s\n",
      "[CV 5/5] END colsample_bytree=0.5, max_depth=4, n_estimators=300, subsample=0.8;, score=0.872 total time=   3.6s\n",
      "[CV 5/5] END colsample_bytree=0.5, max_depth=5, n_estimators=300, subsample=0.8;, score=0.869 total time=   5.0s\n",
      "[CV 1/5] END colsample_bytree=0.8, max_depth=4, n_estimators=200, subsample=0.8;, score=0.867 total time=   4.1s\n",
      "[CV 3/5] END colsample_bytree=0.8, max_depth=5, n_estimators=200, subsample=0.5;, score=0.865 total time=   5.3s\n",
      "[CV 5/5] END colsample_bytree=0.5, max_depth=5, n_estimators=100, subsample=0.5;, score=0.872 total time=   2.6s\n",
      "[CV 3/5] END colsample_bytree=0.5, max_depth=5, n_estimators=300, subsample=0.8;, score=0.865 total time=   5.0s\n",
      "[CV 5/5] END colsample_bytree=0.8, max_depth=4, n_estimators=200, subsample=0.5;, score=0.871 total time=   4.2s\n",
      "[CV 5/5] END colsample_bytree=0.8, max_depth=5, n_estimators=200, subsample=0.8;, score=0.868 total time=   5.1s\n",
      "[CV 2/5] END colsample_bytree=0.5, max_depth=5, n_estimators=100, subsample=0.8;, score=0.869 total time=   2.4s\n",
      "[CV 3/5] END colsample_bytree=0.5, max_depth=5, n_estimators=300, subsample=0.5;, score=0.863 total time=   5.2s\n",
      "[CV 3/5] END colsample_bytree=0.8, max_depth=4, n_estimators=200, subsample=0.8;, score=0.870 total time=   4.1s\n",
      "[CV 3/5] END colsample_bytree=0.8, max_depth=5, n_estimators=200, subsample=0.8;, score=0.867 total time=   5.2s\n",
      "[CV 2/5] END colsample_bytree=0.5, max_depth=5, n_estimators=100, subsample=0.5;, score=0.868 total time=   2.5s\n",
      "[CV 1/5] END colsample_bytree=0.5, max_depth=5, n_estimators=300, subsample=0.8;, score=0.864 total time=   5.0s\n",
      "[CV 2/5] END colsample_bytree=0.8, max_depth=4, n_estimators=200, subsample=0.5;, score=0.867 total time=   4.3s\n",
      "[CV 5/5] END colsample_bytree=0.8, max_depth=5, n_estimators=200, subsample=0.5;, score=0.867 total time=   5.3s\n",
      "[CV 4/5] END colsample_bytree=0.5, max_depth=4, n_estimators=300, subsample=0.8;, score=0.870 total time=   5.0s\n",
      "[CV 1/5] END colsample_bytree=0.5, max_depth=7, n_estimators=200, subsample=0.8;, score=0.860 total time=   4.4s\n",
      "[CV 3/5] END colsample_bytree=0.8, max_depth=5, n_estimators=100, subsample=0.5;, score=0.869 total time=   2.7s\n",
      "[CV 1/5] END colsample_bytree=0.8, max_depth=5, n_estimators=300, subsample=0.8;, score=0.860 total time=   6.5s\n",
      "[CV 4/5] END colsample_bytree=0.5, max_depth=4, n_estimators=300, subsample=0.5;, score=0.867 total time=   5.1s\n",
      "[CV 2/5] END colsample_bytree=0.5, max_depth=7, n_estimators=300, subsample=0.5;, score=0.850 total time=   7.0s\n",
      "[CV 2/5] END colsample_bytree=0.8, max_depth=5, n_estimators=300, subsample=0.8;, score=0.863 total time=   6.6s\n",
      "[CV 1/5] END colsample_bytree=0.5, max_depth=5, n_estimators=100, subsample=0.8;, score=0.869 total time=   2.5s\n",
      "[CV 5/5] END colsample_bytree=0.5, max_depth=5, n_estimators=300, subsample=0.5;, score=0.866 total time=   5.2s\n",
      "[CV 5/5] END colsample_bytree=0.8, max_depth=4, n_estimators=200, subsample=0.8;, score=0.873 total time=   4.1s\n",
      "[CV 1/5] END colsample_bytree=0.8, max_depth=5, n_estimators=300, subsample=0.5;, score=0.855 total time=   7.0s\n",
      "[CV 4/5] END colsample_bytree=0.5, max_depth=4, n_estimators=100, subsample=0.8;, score=0.873 total time=   1.7s\n",
      "[CV 3/5] END colsample_bytree=0.5, max_depth=5, n_estimators=200, subsample=0.5;, score=0.866 total time=   3.5s\n",
      "[CV 1/5] END colsample_bytree=0.5, max_depth=7, n_estimators=300, subsample=0.8;, score=0.856 total time=   6.8s\n",
      "[CV 4/5] END colsample_bytree=0.8, max_depth=5, n_estimators=300, subsample=0.5;, score=0.861 total time=   6.9s\n",
      "[CV 3/5] END colsample_bytree=0.5, max_depth=4, n_estimators=200, subsample=0.5;, score=0.869 total time=   3.6s\n",
      "[CV 4/5] END colsample_bytree=0.5, max_depth=7, n_estimators=100, subsample=0.8;, score=0.867 total time=   2.3s\n",
      "[CV 4/5] END colsample_bytree=0.8, max_depth=4, n_estimators=100, subsample=0.8;, score=0.873 total time=   2.1s\n",
      "[CV 4/5] END colsample_bytree=0.8, max_depth=4, n_estimators=300, subsample=0.8;, score=0.869 total time=   6.2s\n",
      "[CV 2/5] END colsample_bytree=0.8, max_depth=7, n_estimators=200, subsample=0.8;, score=0.857 total time=   5.1s\n",
      "[CV 3/5] END colsample_bytree=0.5, max_depth=4, n_estimators=100, subsample=0.8;, score=0.872 total time=   2.1s\n",
      "[CV 4/5] END colsample_bytree=0.5, max_depth=5, n_estimators=200, subsample=0.8;, score=0.870 total time=   3.4s\n",
      "[CV 1/5] END colsample_bytree=0.8, max_depth=4, n_estimators=100, subsample=0.5;, score=0.867 total time=   2.1s\n",
      "[CV 2/5] END colsample_bytree=0.8, max_depth=4, n_estimators=200, subsample=0.8;, score=0.869 total time=   4.2s\n",
      "[CV 2/5] END colsample_bytree=0.8, max_depth=5, n_estimators=300, subsample=0.5;, score=0.858 total time=   7.5s\n",
      "[CV 1/5] END colsample_bytree=0.5, max_depth=4, n_estimators=300, subsample=0.8;, score=0.867 total time=   5.0s\n",
      "[CV 2/5] END colsample_bytree=0.5, max_depth=7, n_estimators=200, subsample=0.8;, score=0.860 total time=   4.6s\n",
      "[CV 1/5] END colsample_bytree=0.8, max_depth=5, n_estimators=100, subsample=0.8;, score=0.867 total time=   2.5s\n",
      "[CV 4/5] END colsample_bytree=0.8, max_depth=5, n_estimators=300, subsample=0.8;, score=0.864 total time=   7.3s\n",
      "[CV 4/5] END colsample_bytree=0.5, max_depth=4, n_estimators=200, subsample=0.8;, score=0.871 total time=   3.5s\n",
      "[CV 5/5] END colsample_bytree=0.5, max_depth=7, n_estimators=100, subsample=0.5;, score=0.867 total time=   2.3s\n",
      "[CV 1/5] END colsample_bytree=0.8, max_depth=4, n_estimators=100, subsample=0.8;, score=0.869 total time=   2.0s\n",
      "[CV 4/5] END colsample_bytree=0.8, max_depth=4, n_estimators=300, subsample=0.5;, score=0.867 total time=   6.3s\n",
      "[CV 1/5] END colsample_bytree=0.8, max_depth=7, n_estimators=200, subsample=0.8;, score=0.854 total time=   5.3s\n",
      "[CV 3/5] END colsample_bytree=0.5, max_depth=4, n_estimators=200, subsample=0.8;, score=0.871 total time=   3.5s\n",
      "[CV 1/5] END colsample_bytree=0.5, max_depth=7, n_estimators=100, subsample=0.8;, score=0.865 total time=   2.2s\n",
      "[CV 4/5] END colsample_bytree=0.8, max_depth=4, n_estimators=100, subsample=0.5;, score=0.872 total time=   2.1s\n",
      "[CV 5/5] END colsample_bytree=0.8, max_depth=4, n_estimators=300, subsample=0.5;, score=0.868 total time=   6.4s\n",
      "[CV 4/5] END colsample_bytree=0.8, max_depth=7, n_estimators=200, subsample=0.8;, score=0.857 total time=   5.4s\n",
      "[CV 1/5] END colsample_bytree=0.5, max_depth=4, n_estimators=300, subsample=0.5;, score=0.866 total time=   4.7s\n",
      "[CV 4/5] END colsample_bytree=0.5, max_depth=7, n_estimators=200, subsample=0.5;, score=0.856 total time=   4.8s\n",
      "[CV 5/5] END colsample_bytree=0.8, max_depth=5, n_estimators=100, subsample=0.5;, score=0.871 total time=   2.6s\n",
      "[CV 3/5] END colsample_bytree=0.8, max_depth=5, n_estimators=300, subsample=0.8;, score=0.863 total time=   7.6s\n",
      "[CV 2/5] END colsample_bytree=0.5, max_depth=4, n_estimators=100, subsample=0.5;, score=0.869 total time=   1.1s\n",
      "[CV 2/5] END colsample_bytree=0.5, max_depth=5, n_estimators=200, subsample=0.5;, score=0.865 total time=   3.5s\n",
      "[CV 3/5] END colsample_bytree=0.5, max_depth=7, n_estimators=200, subsample=0.5;, score=0.854 total time=   4.7s\n",
      "[CV 4/5] END colsample_bytree=0.8, max_depth=5, n_estimators=100, subsample=0.5;, score=0.870 total time=   2.6s\n",
      "[CV 5/5] END colsample_bytree=0.8, max_depth=5, n_estimators=300, subsample=0.5;, score=0.862 total time=   7.8s\n",
      "[CV 2/5] END colsample_bytree=0.5, max_depth=4, n_estimators=300, subsample=0.5;, score=0.867 total time=   5.1s\n",
      "[CV 1/5] END colsample_bytree=0.5, max_depth=7, n_estimators=300, subsample=0.5;, score=0.851 total time=   6.9s\n",
      "[CV 3/5] END colsample_bytree=0.8, max_depth=5, n_estimators=300, subsample=0.5;, score=0.861 total time=   7.9s\n",
      "[CV 5/5] END colsample_bytree=0.5, max_depth=4, n_estimators=100, subsample=0.5;, score=0.873 total time=   1.8s\n",
      "[CV 5/5] END colsample_bytree=0.5, max_depth=5, n_estimators=200, subsample=0.5;, score=0.868 total time=   3.5s\n",
      "[CV 2/5] END colsample_bytree=0.5, max_depth=7, n_estimators=300, subsample=0.8;, score=0.855 total time=   6.9s\n",
      "[CV 5/5] END colsample_bytree=0.8, max_depth=5, n_estimators=300, subsample=0.8;, score=0.865 total time=   7.7s\n",
      "[CV 2/5] END colsample_bytree=0.5, max_depth=4, n_estimators=200, subsample=0.5;, score=0.868 total time=   3.6s\n",
      "[CV 5/5] END colsample_bytree=0.5, max_depth=7, n_estimators=100, subsample=0.8;, score=0.869 total time=   2.3s\n",
      "[CV 5/5] END colsample_bytree=0.8, max_depth=4, n_estimators=100, subsample=0.8;, score=0.874 total time=   2.1s\n",
      "[CV 5/5] END colsample_bytree=0.8, max_depth=4, n_estimators=300, subsample=0.8;, score=0.871 total time=   6.2s\n",
      "[CV 3/5] END colsample_bytree=0.8, max_depth=7, n_estimators=200, subsample=0.8;, score=0.858 total time=   6.1s\n",
      "[CV 4/5] END colsample_bytree=0.5, max_depth=4, n_estimators=200, subsample=0.5;, score=0.870 total time=   3.4s\n",
      "[CV 3/5] END colsample_bytree=0.5, max_depth=7, n_estimators=100, subsample=0.5;, score=0.863 total time=   2.3s\n",
      "[CV 3/5] END colsample_bytree=0.8, max_depth=4, n_estimators=100, subsample=0.5;, score=0.871 total time=   2.1s\n",
      "[CV 3/5] END colsample_bytree=0.8, max_depth=4, n_estimators=300, subsample=0.5;, score=0.865 total time=   6.3s\n",
      "[CV 3/5] END colsample_bytree=0.8, max_depth=7, n_estimators=200, subsample=0.5;, score=0.849 total time=   6.4s\n",
      "[CV 2/5] END colsample_bytree=0.5, max_depth=4, n_estimators=100, subsample=0.8;, score=0.870 total time=   2.1s\n",
      "[CV 5/5] END colsample_bytree=0.5, max_depth=5, n_estimators=200, subsample=0.8;, score=0.871 total time=   3.4s\n",
      "[CV 2/5] END colsample_bytree=0.8, max_depth=4, n_estimators=100, subsample=0.5;, score=0.869 total time=   2.1s\n",
      "[CV 1/5] END colsample_bytree=0.8, max_depth=4, n_estimators=300, subsample=0.5;, score=0.861 total time=   6.3s\n",
      "[CV 1/5] END colsample_bytree=0.8, max_depth=7, n_estimators=200, subsample=0.5;, score=0.848 total time=   6.7s\n",
      "[CV 2/5] END colsample_bytree=0.5, max_depth=4, n_estimators=200, subsample=0.8;, score=0.868 total time=   3.5s\n",
      "[CV 4/5] END colsample_bytree=0.5, max_depth=7, n_estimators=100, subsample=0.5;, score=0.865 total time=   2.4s\n",
      "[CV 5/5] END colsample_bytree=0.8, max_depth=4, n_estimators=100, subsample=0.5;, score=0.873 total time=   2.1s\n",
      "[CV 1/5] END colsample_bytree=0.8, max_depth=4, n_estimators=300, subsample=0.8;, score=0.865 total time=   6.2s\n",
      "[CV 2/5] END colsample_bytree=0.8, max_depth=7, n_estimators=200, subsample=0.5;, score=0.849 total time=   6.7s\n",
      "[CV 5/5] END colsample_bytree=0.5, max_depth=4, n_estimators=200, subsample=0.8;, score=0.873 total time=   3.5s\n",
      "[CV 2/5] END colsample_bytree=0.5, max_depth=7, n_estimators=100, subsample=0.8;, score=0.865 total time=   2.4s\n",
      "[CV 3/5] END colsample_bytree=0.8, max_depth=4, n_estimators=100, subsample=0.8;, score=0.872 total time=   2.1s\n",
      "[CV 3/5] END colsample_bytree=0.8, max_depth=4, n_estimators=300, subsample=0.8;, score=0.868 total time=   6.3s\n",
      "[CV 5/5] END colsample_bytree=0.8, max_depth=7, n_estimators=200, subsample=0.8;, score=0.860 total time=   6.6s\n",
      "[CV 5/5] END colsample_bytree=0.5, max_depth=5, n_estimators=100, subsample=0.8;, score=0.874 total time=   2.4s\n",
      "[CV 4/5] END colsample_bytree=0.5, max_depth=5, n_estimators=300, subsample=0.8;, score=0.867 total time=   5.1s\n",
      "[CV 2/5] END colsample_bytree=0.8, max_depth=4, n_estimators=300, subsample=0.5;, score=0.865 total time=   6.5s\n",
      "[CV 5/5] END colsample_bytree=0.8, max_depth=7, n_estimators=200, subsample=0.5;, score=0.853 total time=   6.7s\n",
      "[CV 1/5] END colsample_bytree=0.5, max_depth=4, n_estimators=200, subsample=0.5;, score=0.867 total time=   3.6s\n",
      "[CV 3/5] END colsample_bytree=0.5, max_depth=7, n_estimators=100, subsample=0.8;, score=0.866 total time=   2.3s\n",
      "[CV 2/5] END colsample_bytree=0.8, max_depth=4, n_estimators=100, subsample=0.8;, score=0.870 total time=   2.1s\n",
      "[CV 2/5] END colsample_bytree=0.8, max_depth=4, n_estimators=300, subsample=0.8;, score=0.867 total time=   6.2s\n",
      "[CV 4/5] END colsample_bytree=0.8, max_depth=7, n_estimators=200, subsample=0.5;, score=0.850 total time=   6.8s\n"
     ]
    }
   ],
   "source": [
    "# age \n",
    "param_dict = {\n",
    "                #'learning_rate': [ 0.05, 0.07, 0.1], #[0.01, 0.03, 0.05],\n",
    "                'max_depth': [4, 5, 7],#[3,4,5],\n",
    "                'n_estimators': [100, 200, 300],\n",
    "                #'n_estimators': [100],#[25, 50, 75, 100],\n",
    "                #'n_estimators': [50],\n",
    "                'subsample': [0.5, 0.8], #[0.5, 0.8, 1],\n",
    "                'colsample_bytree': [0.5, 0.8], #[0.8, 1],\n",
    "                #'gamma': [0.9], #[0.3, 0.5, 0.7, 0.9],\n",
    "                #'scale_pos_weight': [5, 10], #[1,10,30,100]\n",
    "            }\n",
    "nfold = 5\n",
    "gs = RandomizedSearchCV(n_iter=100,\n",
    "                        estimator=xgb.sklearn.XGBRegressor(),\n",
    "                        n_jobs=-1,\n",
    "                        verbose=5,\n",
    "                        param_distributions=param_dict, cv=nfold)\n",
    "gs.fit(x_train, y_train)\n",
    "model = gs.best_estimator_.get_booster()\n",
    "\n",
    "print()\n",
    "print(\"========= found hyperparameter =========\")\n",
    "print(gs.best_params_)\n",
    "print(gs.best_score_)\n",
    "print(\"========================================\")\n",
    "\n",
    "y_pred = gs.predict(x_test).flatten()\n",
    "y_pred = np.round(y_pred * 2) / 2\n",
    "\n",
    "print('--------------')\n",
    "print('old model = age/4+4')\n",
    "print('--------------')\n",
    "print(f'explained_variance_score: {explained_variance_score(y_test, y_test_old):.3f}')\n",
    "print(f'mean_squared_errors: {mean_squared_error(y_test, y_test_old):.3f}')\n",
    "print(f'r2_score: {r2_score(y_test, y_test_old):.3f}')\n",
    "# accuracy\n",
    "acc1 = np.mean(y_test_old==y_test)\n",
    "acc3 = np.mean((y_test_old >= y_test-0.5) & (y_test_old <= y_test+0.5))\n",
    "print(f'acc: {acc1:.3f}')\n",
    "print(f'acc(+-0.5mm): {acc3:.3f}')\n",
    "\n",
    "\n",
    "print('--------------')\n",
    "print('new model')\n",
    "print('--------------')\n",
    "print(f'explained_variance_score: {explained_variance_score(y_test, y_pred):.3f}')\n",
    "print(f'mean_squared_errors: {mean_squared_error(y_test, y_pred):.3f}')\n",
    "print(f'r2_score: {r2_score(y_test, y_pred):.3f}')\n",
    "# accuracy\n",
    "acc1 = np.mean(y_pred==y_test)\n",
    "acc3 = np.mean((y_pred >= y_test-0.5) & (y_pred <= y_test+0.5))\n",
    "print(f'acc: {acc1:.3f}')\n",
    "print(f'acc(+-0.5mm): {acc3:.3f}')"
   ]
  },
  {
   "cell_type": "markdown",
   "id": "5e1db1d7-765e-44a3-ad53-181eb4db815a",
   "metadata": {},
   "source": [
    "* 결측치 multi-imputer로 채운 경우"
   ]
  },
  {
   "cell_type": "code",
   "execution_count": null,
   "id": "67a50e25-4273-4db1-8606-69ac759b6838",
   "metadata": {},
   "outputs": [],
   "source": [
    "from sklearn.experimental import enable_iterative_imputer\n",
    "from sklearn.impute import IterativeImputer\n",
    "\n",
    "imp = IterativeImputer().fit(x_train)\n",
    "x_train_imputed = imp.transform(x_train)\n",
    "x_test_imputed = imp.transform(x_test)"
   ]
  },
  {
   "cell_type": "code",
   "execution_count": 78,
   "id": "e157c686-8267-4446-832d-aa17f041391e",
   "metadata": {
    "execution": {
     "iopub.execute_input": "2023-02-16T06:23:50.444586Z",
     "iopub.status.busy": "2023-02-16T06:23:50.444059Z",
     "iopub.status.idle": "2023-02-16T06:24:14.217070Z",
     "shell.execute_reply": "2023-02-16T06:24:14.216328Z",
     "shell.execute_reply.started": "2023-02-16T06:23:50.444533Z"
    },
    "tags": []
   },
   "outputs": [
    {
     "name": "stdout",
     "output_type": "stream",
     "text": [
      "Fitting 5 folds for each of 36 candidates, totalling 180 fits\n"
     ]
    },
    {
     "name": "stderr",
     "output_type": "stream",
     "text": [
      "/home/painstudy/.local/lib/python3.8/site-packages/sklearn/model_selection/_search.py:292: UserWarning: The total space of parameters 36 is smaller than n_iter=100. Running 36 iterations. For exhaustive searches, use GridSearchCV.\n",
      "  warnings.warn(\n"
     ]
    },
    {
     "name": "stdout",
     "output_type": "stream",
     "text": [
      "\n",
      "========= found hyperparameter =========\n",
      "{'subsample': 0.8, 'n_estimators': 100, 'max_depth': 4, 'colsample_bytree': 0.8}\n",
      "0.871740670673633\n",
      "========================================\n",
      "--------------\n",
      "new model\n",
      "--------------\n",
      "explained_variance_score: 0.857\n",
      "mean_squared_errors: 0.140\n",
      "r2_score: 0.857\n",
      "acc: 0.590\n",
      "acc(+-0.5mm): 0.964\n"
     ]
    }
   ],
   "source": [
    "# age (일단위)\n",
    "param_dict = {\n",
    "                #'learning_rate': [ 0.05, 0.07, 0.1], #[0.01, 0.03, 0.05],\n",
    "                'max_depth': [4, 5, 7],#[3,4,5],\n",
    "                'n_estimators': [100, 200, 300],\n",
    "                #'n_estimators': [100],#[25, 50, 75, 100],\n",
    "                #'n_estimators': [50],\n",
    "                'subsample': [0.5, 0.8], #[0.5, 0.8, 1],\n",
    "                'colsample_bytree': [0.5, 0.8], #[0.8, 1],\n",
    "                #'gamma': [0.9], #[0.3, 0.5, 0.7, 0.9],\n",
    "                #'scale_pos_weight': [5, 10], #[1,10,30,100]\n",
    "            }\n",
    "nfold = 5\n",
    "gs = RandomizedSearchCV(n_iter=100,\n",
    "                        estimator=xgb.sklearn.XGBRegressor(),\n",
    "                        n_jobs=-1,\n",
    "                        verbose=3,\n",
    "                        param_distributions=param_dict, cv=nfold)\n",
    "gs.fit(x_train_imputed, y_train)\n",
    "model = gs.best_estimator_.get_booster()\n",
    "\n",
    "print()\n",
    "print(\"========= found hyperparameter =========\")\n",
    "print(gs.best_params_)\n",
    "print(gs.best_score_)\n",
    "print(\"========================================\")\n",
    "\n",
    "y_pred = gs.predict(x_test_imputed).flatten()\n",
    "y_pred = np.round(y_pred * 2) / 2\n",
    "\n",
    "\n",
    "print('--------------')\n",
    "print('new model')\n",
    "print('--------------')\n",
    "print(f'explained_variance_score: {explained_variance_score(y_test, y_pred):.3f}')\n",
    "print(f'mean_squared_errors: {mean_squared_error(y_test, y_pred):.3f}')\n",
    "print(f'r2_score: {r2_score(y_test, y_pred):.3f}')\n",
    "# accuracy\n",
    "acc1 = np.mean(y_pred==y_test)\n",
    "acc3 = np.mean((y_pred >= y_test-0.5) & (y_pred <= y_test+0.5))\n",
    "print(f'acc: {acc1:.3f}')\n",
    "print(f'acc(+-0.5mm): {acc3:.3f}')"
   ]
  },
  {
   "cell_type": "markdown",
   "id": "b44543a6-b141-461b-9350-205faff7e029",
   "metadata": {},
   "source": [
    "### cuffed model"
   ]
  },
  {
   "cell_type": "code",
   "execution_count": null,
   "id": "53f73604-c86e-40a1-b87b-c97e64faeae8",
   "metadata": {},
   "outputs": [],
   "source": [
    "train_mask = (x_train[:,4] == 1)\n",
    "test_mask = (x_test[:,4] == 1)\n",
    "\n",
    "x_train_c = x_train[train_mask,0:4]\n",
    "y_train_c = y_train[train_mask,0:4]"
   ]
  },
  {
   "cell_type": "code",
   "execution_count": null,
   "id": "14ed29b2-7b5b-4463-baab-625c7f7c759b",
   "metadata": {},
   "outputs": [],
   "source": []
  },
  {
   "cell_type": "markdown",
   "id": "0706fc71-17e8-4574-9baa-20736a5cb198",
   "metadata": {},
   "source": [
    "### plotting"
   ]
  },
  {
   "cell_type": "code",
   "execution_count": 197,
   "id": "814117b7-f47e-42a0-a5c3-7d8a54ae5ebf",
   "metadata": {
    "execution": {
     "iopub.execute_input": "2023-02-16T10:17:06.022938Z",
     "iopub.status.busy": "2023-02-16T10:17:06.022392Z",
     "iopub.status.idle": "2023-02-16T10:17:10.273699Z",
     "shell.execute_reply": "2023-02-16T10:17:10.273139Z",
     "shell.execute_reply.started": "2023-02-16T10:17:06.022882Z"
    },
    "tags": []
   },
   "outputs": [],
   "source": [
    "xvals = []\n",
    "yvals = []\n",
    "cvals = []\n",
    "cvals_old = []\n",
    "for x in np.arange(3, 8, 0.5):\n",
    "    for y in np.arange(3, 8, 0.5):\n",
    "        xvals.append(x)\n",
    "        yvals.append(y)\n",
    "        cvals.append(sum((y_pred == x) & (y_test == y)))\n",
    "        cvals_old.append(sum((y_test_old == x) & (y_test == y)))\n",
    "xvals = np.array(xvals)\n",
    "yvals = np.array(yvals)\n",
    "cvals = np.array(cvals) / 2\n",
    "cvals_old = np.array(cvals_old) / 2\n",
    "\n",
    "plt.figure(figsize=(8, 8))\n",
    "plt.xlim(2, 8)\n",
    "plt.ylim(2, 8)\n",
    "plt.scatter(xvals, yvals, c='red', alpha=0.5, s=cvals_old, label='4+AGE/4')\n",
    "plt.xlabel('Prediction')\n",
    "plt.ylabel('Ground Truth')\n",
    "lgnd = plt.legend()\n",
    "lgnd.legendHandles[0]._sizes = [30]\n",
    "plt.plot([2,8], [2,8], 'k-', alpha=0.1)\n",
    "plt.plot([2.5,8], [2,7.5], '--k', alpha=0.1)\n",
    "plt.plot([2,7.5], [2.5,8], '--k', alpha=0.1)\n",
    "plt.savefig('old_tube-size.png')\n",
    "plt.close()\n",
    "\n",
    "plt.figure(figsize=(8, 8))\n",
    "plt.xlim(2, 8)\n",
    "plt.ylim(2, 8)\n",
    "plt.scatter(xvals, yvals, c='blue', alpha=0.5, s=cvals, label='XGBR')\n",
    "plt.xlabel('Prediction')\n",
    "plt.ylabel('Ground Truth')\n",
    "lgnd = plt.legend()\n",
    "lgnd.legendHandles[0]._sizes = [30]\n",
    "plt.plot([2,8], [2,8], 'k-', alpha=0.1)\n",
    "plt.plot([2.5,8], [2,7.5], '--k', alpha=0.1)\n",
    "plt.plot([2,7.5], [2.5,8], '--k', alpha=0.1)\n",
    "plt.savefig('xgbr_tube-size.png')\n",
    "plt.close()"
   ]
  },
  {
   "cell_type": "code",
   "execution_count": null,
   "id": "e4eb6225-355e-4def-9811-e0b3566607d2",
   "metadata": {},
   "outputs": [],
   "source": [
    "# save model\n",
    "odir_f = f'acc1-{acc1:.3f}_acc3-{acc3:.3f}_XGBR_{nfold}fold'\n",
    "odir = f'result/{odir_f}'\n",
    "if not os.path.exists(odir):\n",
    "    os.mkdir(odir)\n",
    "model.save_model(f'{odir}/model.model')\n",
    "\n",
    "# 모델에 대한 정보 txt로 저장\n",
    "pickle.dump(param_dict, open(f'{odir}/param_dict', 'wb'))\n",
    "f = open(f'{odir}/result.txt', 'w')\n",
    "f.write(f'regression model')\n",
    "f.write(f'explained_variance_score: {explained_variance_score(y_test, y_pred):.3f}')\n",
    "f.write(f'mean_squared_errors: {mean_squared_error(y_test, y_pred):.3f}')\n",
    "f.write(f'r2_score: {r2_score(y_test, y_pred):.3f}')\n",
    "f.close()"
   ]
  },
  {
   "cell_type": "markdown",
   "id": "96157649-f0c4-48f5-a1cc-ee171f5cb676",
   "metadata": {},
   "source": [
    "## RandomForest"
   ]
  },
  {
   "cell_type": "code",
   "execution_count": 76,
   "id": "caac49fe-38d3-4c53-a920-35702fed51dd",
   "metadata": {
    "execution": {
     "iopub.execute_input": "2023-02-16T06:23:32.340323Z",
     "iopub.status.busy": "2023-02-16T06:23:32.339755Z",
     "iopub.status.idle": "2023-02-16T06:23:32.482193Z",
     "shell.execute_reply": "2023-02-16T06:23:32.481554Z",
     "shell.execute_reply.started": "2023-02-16T06:23:32.340267Z"
    },
    "tags": []
   },
   "outputs": [],
   "source": [
    "from sklearn.experimental import enable_iterative_imputer\n",
    "from sklearn.impute import IterativeImputer\n",
    "\n",
    "imp = IterativeImputer().fit(x_train)\n",
    "x_train_imputed = imp.transform(x_train)\n",
    "x_test_imputed = imp.transform(x_test)"
   ]
  },
  {
   "cell_type": "code",
   "execution_count": 81,
   "id": "37983c15-4c5c-49bd-9268-c5d0da838677",
   "metadata": {
    "execution": {
     "iopub.execute_input": "2023-02-16T06:31:14.748908Z",
     "iopub.status.busy": "2023-02-16T06:31:14.748339Z",
     "iopub.status.idle": "2023-02-16T06:32:35.138460Z",
     "shell.execute_reply": "2023-02-16T06:32:35.137812Z",
     "shell.execute_reply.started": "2023-02-16T06:31:14.748851Z"
    },
    "tags": []
   },
   "outputs": [
    {
     "name": "stdout",
     "output_type": "stream",
     "text": [
      "Fitting 5 folds for each of 100 candidates, totalling 500 fits\n",
      "\n",
      "========= found hyperparameter =========\n",
      "{'n_estimators': 300, 'min_samples_split': 3, 'min_samples_leaf': 1, 'max_features': 'sqrt', 'max_depth': 7, 'bootstrap': True}\n",
      "0.8732191690919636\n",
      "========================================\n"
     ]
    }
   ],
   "source": [
    "from sklearn.ensemble import RandomForestRegressor\n",
    "\n",
    "SEED = 0\n",
    "param_dict = {\n",
    "                #'learning_rate': [ 0.05, 0.07, 0.1], #[0.01, 0.03, 0.05],\n",
    "                'max_depth': [3, 5, 7],#[3,4,5],\n",
    "                'max_leaf_nodes': [3, 5, 7],\n",
    "                'n_estimators': [50, 100, 200, 300],\n",
    "                'max_features': ['auto', 'sqrt', 'log2'],\n",
    "                #'n_estimators': [100],#[25, 50, 75, 100],\n",
    "                #'n_estimators': [50],\n",
    "                'min_samples_split': [2,3,5],\n",
    "                'min_samples_leaf': [1,2,3],\n",
    "               'bootstrap': [True, False]\n",
    "                #'gamma': [0.9], #[0.3, 0.5, 0.7, 0.9],\n",
    "                #'scale_pos_weight': [5, 10], #[1,10,30,100]\n",
    "            }\n",
    "nfold = 5\n",
    "gs = GridSearchCV(n_iter=500,\n",
    "                        estimator=RandomForestRegressor(random_state = SEED),\n",
    "                        n_jobs=-1,\n",
    "                        verbose=5,\n",
    "                        param_distributions=param_dict, cv=nfold)\n",
    "gs.fit(x_train_imputed, y_train)\n",
    "#model = gs.best_estimator_.get_booster()\n",
    "\n",
    "print()\n",
    "print(\"========= found hyperparameter =========\")\n",
    "print(gs.best_params_)\n",
    "print(gs.best_score_)\n",
    "print(\"========================================\")"
   ]
  },
  {
   "cell_type": "code",
   "execution_count": 83,
   "id": "6d7ef796-ab68-401d-aff0-0880a1e69af2",
   "metadata": {
    "execution": {
     "iopub.execute_input": "2023-02-16T06:33:36.169171Z",
     "iopub.status.busy": "2023-02-16T06:33:36.168611Z",
     "iopub.status.idle": "2023-02-16T06:33:41.828794Z",
     "shell.execute_reply": "2023-02-16T06:33:41.828290Z",
     "shell.execute_reply.started": "2023-02-16T06:33:36.169115Z"
    },
    "tags": []
   },
   "outputs": [
    {
     "name": "stdout",
     "output_type": "stream",
     "text": [
      "--------------\n",
      "new model\n",
      "--------------\n",
      "explained_variance_score: 0.859\n",
      "mean_squared_errors: 0.139\n",
      "r2_score: 0.858\n",
      "acc: 0.586\n",
      "acc(+-0.5mm): 0.966\n"
     ]
    }
   ],
   "source": [
    "rfr = RandomForestRegressor(random_state=SEED,  n_estimators= 300, min_samples_split= 3, min_samples_leaf= 1, max_features='sqrt', max_depth= 7, bootstrap= True)\n",
    "rfr.fit(x_train_imputed, y_train)\n",
    "y_pred = rfr.predict(x_test_imputed).flatten()\n",
    "\n",
    "y_pred = np.round(y_pred * 2) / 2\n",
    "\n",
    "print('--------------')\n",
    "print('new model')\n",
    "print('--------------')\n",
    "print(f'explained_variance_score: {explained_variance_score(y_test, y_pred):.3f}')\n",
    "print(f'mean_squared_errors: {mean_squared_error(y_test, y_pred):.3f}')\n",
    "print(f'r2_score: {r2_score(y_test, y_pred):.3f}')\n",
    "# accuracy\n",
    "acc1 = np.mean(y_pred==y_test)\n",
    "acc3 = np.mean((y_pred >= y_test-0.5) & (y_pred <= y_test+0.5))\n",
    "print(f'acc: {acc1:.3f}')\n",
    "print(f'acc(+-0.5mm): {acc3:.3f}')"
   ]
  },
  {
   "cell_type": "markdown",
   "id": "277c29a2-10e3-49dc-91ea-597c4bff39fc",
   "metadata": {},
   "source": [
    "## SVM"
   ]
  },
  {
   "cell_type": "code",
   "execution_count": 7,
   "id": "80e8218f-1729-4ee4-b912-16106780b601",
   "metadata": {
    "execution": {
     "iopub.execute_input": "2023-02-17T04:03:29.713509Z",
     "iopub.status.busy": "2023-02-17T04:03:29.712941Z",
     "iopub.status.idle": "2023-02-17T04:03:29.930393Z",
     "shell.execute_reply": "2023-02-17T04:03:29.929612Z",
     "shell.execute_reply.started": "2023-02-17T04:03:29.713451Z"
    },
    "tags": []
   },
   "outputs": [],
   "source": [
    "from sklearn.experimental import enable_iterative_imputer\n",
    "from sklearn.impute import IterativeImputer\n",
    "\n",
    "imp = IterativeImputer().fit(x_train)\n",
    "x_train_imputed = imp.transform(x_train)\n",
    "x_test_imputed = imp.transform(x_test)"
   ]
  },
  {
   "cell_type": "code",
   "execution_count": 8,
   "id": "68f46d1a-9694-493a-8994-14fc7ac5862e",
   "metadata": {
    "execution": {
     "iopub.execute_input": "2023-02-17T04:03:31.684661Z",
     "iopub.status.busy": "2023-02-17T04:03:31.684264Z",
     "iopub.status.idle": "2023-02-17T05:05:51.322510Z",
     "shell.execute_reply": "2023-02-17T05:05:51.321218Z",
     "shell.execute_reply.started": "2023-02-17T04:03:31.684618Z"
    },
    "scrolled": true,
    "tags": []
   },
   "outputs": [
    {
     "name": "stdout",
     "output_type": "stream",
     "text": [
      "Fitting 4 folds for each of 16 candidates, totalling 64 fits\n",
      "[CV 2/4] END .......C=10, gamma=0.1, kernel=rbf;, score=0.865 total time= 2.3min\n",
      "[CV 3/4] END .......C=10, gamma=0.1, kernel=rbf;, score=0.872 total time= 2.3min\n",
      "[CV 1/4] END .......C=10, gamma=0.1, kernel=rbf;, score=0.878 total time= 2.3min\n",
      "[CV 4/4] END .......C=10, gamma=0.1, kernel=rbf;, score=0.873 total time= 2.4min\n",
      "[CV 4/4] END ..........C=1, gamma=1, kernel=rbf;, score=0.839 total time= 2.8min\n",
      "[CV 3/4] END ..........C=1, gamma=1, kernel=rbf;, score=0.834 total time= 2.9min\n",
      "[CV 1/4] END ..........C=1, gamma=1, kernel=rbf;, score=0.841 total time= 2.9min\n",
      "[CV 2/4] END ..........C=1, gamma=1, kernel=rbf;, score=0.828 total time= 2.9min\n",
      "[CV 2/4] END .......C=1, gamma=0.01, kernel=rbf;, score=0.874 total time=  45.8s\n",
      "[CV 1/4] END .....C=100, gamma=0.01, kernel=rbf;, score=0.883 total time= 2.2min\n",
      "[CV 3/4] END ......C=1, gamma=0.001, kernel=rbf;, score=0.879 total time=  46.4s\n",
      "[CV 4/4] END .....C=100, gamma=0.01, kernel=rbf;, score=0.878 total time= 2.3min\n",
      "[CV 1/4] END ......C=1, gamma=0.001, kernel=rbf;, score=0.884 total time=  45.9s\n",
      "[CV 2/4] END .....C=100, gamma=0.01, kernel=rbf;, score=0.872 total time= 2.3min\n",
      "[CV 4/4] END .......C=1, gamma=0.01, kernel=rbf;, score=0.882 total time=  46.2s\n",
      "[CV 3/4] END .....C=100, gamma=0.01, kernel=rbf;, score=0.877 total time= 2.3min\n",
      "[CV 4/4] END ......C=1, gamma=0.001, kernel=rbf;, score=0.881 total time=  46.6s\n",
      "[CV 1/4] END ....C=100, gamma=0.001, kernel=rbf;, score=0.884 total time= 1.2min\n",
      "[CV 2/4] END ...C=1000, gamma=0.001, kernel=rbf;, score=0.872 total time= 2.3min\n",
      "[CV 2/4] END ......C=1, gamma=0.001, kernel=rbf;, score=0.874 total time=  46.8s\n",
      "[CV 2/4] END ....C=100, gamma=0.001, kernel=rbf;, score=0.874 total time= 1.2min\n",
      "[CV 3/4] END ...C=1000, gamma=0.001, kernel=rbf;, score=0.878 total time= 3.0min\n",
      "[CV 1/4] END .......C=1, gamma=0.01, kernel=rbf;, score=0.885 total time=  46.9s\n",
      "[CV 3/4] END ....C=100, gamma=0.001, kernel=rbf;, score=0.880 total time= 1.1min\n",
      "[CV 1/4] END ...C=1000, gamma=0.001, kernel=rbf;, score=0.885 total time= 3.6min\n",
      "[CV 3/4] END .......C=1, gamma=0.01, kernel=rbf;, score=0.881 total time=  47.3s\n",
      "[CV 4/4] END ....C=100, gamma=0.001, kernel=rbf;, score=0.881 total time= 1.2min\n",
      "[CV 4/4] END ...C=1000, gamma=0.001, kernel=rbf;, score=0.880 total time= 3.6min\n",
      "[CV 4/4] END .........C=10, gamma=1, kernel=rbf;, score=0.809 total time= 8.0min\n",
      "[CV 3/4] END .........C=10, gamma=1, kernel=rbf;, score=0.801 total time= 8.1min\n",
      "[CV 1/4] END .........C=10, gamma=1, kernel=rbf;, score=0.810 total time= 8.8min\n",
      "[CV 2/4] END .........C=10, gamma=1, kernel=rbf;, score=0.797 total time=10.2min\n",
      "[CV 4/4] END ........C=1, gamma=0.1, kernel=rbf;, score=0.878 total time=  59.6s\n",
      "[CV 1/4] END ....C=1000, gamma=0.01, kernel=rbf;, score=0.875 total time= 9.4min\n",
      "[CV 2/4] END ........C=1, gamma=0.1, kernel=rbf;, score=0.870 total time= 1.0min\n",
      "[CV 3/4] END ....C=1000, gamma=0.01, kernel=rbf;, score=0.867 total time= 9.9min\n",
      "[CV 3/4] END ......C=100, gamma=0.1, kernel=rbf;, score=0.858 total time=11.0min\n",
      "[CV 4/4] END ......C=100, gamma=0.1, kernel=rbf;, score=0.859 total time=11.1min\n",
      "[CV 1/4] END ......C=100, gamma=0.1, kernel=rbf;, score=0.860 total time=11.3min\n",
      "[CV 3/4] END ........C=1, gamma=0.1, kernel=rbf;, score=0.876 total time= 1.1min\n",
      "[CV 4/4] END ....C=1000, gamma=0.01, kernel=rbf;, score=0.874 total time=10.6min\n",
      "[CV 2/4] END ......C=100, gamma=0.1, kernel=rbf;, score=0.851 total time=13.2min\n",
      "[CV 1/4] END ........C=1, gamma=0.1, kernel=rbf;, score=0.882 total time= 1.0min\n",
      "[CV 2/4] END ....C=1000, gamma=0.01, kernel=rbf;, score=0.864 total time=12.6min\n",
      "[CV 3/4] END ........C=100, gamma=1, kernel=rbf;, score=0.710 total time=41.4min\n",
      "[CV 4/4] END ........C=100, gamma=1, kernel=rbf;, score=0.711 total time=42.4min\n",
      "[CV 2/4] END ........C=100, gamma=1, kernel=rbf;, score=0.701 total time=43.1min\n",
      "[CV 1/4] END ........C=100, gamma=1, kernel=rbf;, score=0.717 total time=44.1min\n"
     ]
    },
    {
     "name": "stderr",
     "output_type": "stream",
     "text": [
      "Exception in thread ExecutorManagerThread:\n",
      "Traceback (most recent call last):\n",
      "  File \"/home/painstudy/anaconda3/envs/keras/lib/python3.8/threading.py\", line 932, in _bootstrap_inner\n",
      "    self.run()\n",
      "  File \"/home/painstudy/.local/lib/python3.8/site-packages/joblib/externals/loky/process_executor.py\", line 575, in run\n",
      "    self.flag_executor_shutting_down()\n",
      "  File \"/home/painstudy/.local/lib/python3.8/site-packages/joblib/externals/loky/process_executor.py\", line 770, in flag_executor_shutting_down\n",
      "    self.kill_workers(reason=\"executor shutting down\")\n",
      "  File \"/home/painstudy/.local/lib/python3.8/site-packages/joblib/externals/loky/process_executor.py\", line 781, in kill_workers\n",
      "    recursive_terminate(p)\n",
      "  File \"/home/painstudy/.local/lib/python3.8/site-packages/joblib/externals/loky/backend/utils.py\", line 28, in recursive_terminate\n",
      "    _recursive_terminate_without_psutil(process)\n",
      "  File \"/home/painstudy/.local/lib/python3.8/site-packages/joblib/externals/loky/backend/utils.py\", line 53, in _recursive_terminate_without_psutil\n",
      "    _recursive_terminate(process.pid)\n",
      "  File \"/home/painstudy/.local/lib/python3.8/site-packages/joblib/externals/loky/backend/utils.py\", line 92, in _recursive_terminate\n",
      "    children_pids = subprocess.check_output(\n",
      "  File \"/home/painstudy/anaconda3/envs/keras/lib/python3.8/subprocess.py\", line 415, in check_output\n",
      "    return run(*popenargs, stdout=PIPE, timeout=timeout, check=True,\n",
      "  File \"/home/painstudy/anaconda3/envs/keras/lib/python3.8/subprocess.py\", line 516, in run\n",
      "    raise CalledProcessError(retcode, process.args,\n",
      "subprocess.CalledProcessError: Command '['pgrep', '-P', '1059416']' died with <Signals.SIGINT: 2>.\n"
     ]
    },
    {
     "ename": "KeyboardInterrupt",
     "evalue": "",
     "output_type": "error",
     "traceback": [
      "\u001b[0;31m---------------------------------------------------------------------------\u001b[0m",
      "\u001b[0;31mKeyboardInterrupt\u001b[0m                         Traceback (most recent call last)",
      "\u001b[0;32m~/.local/lib/python3.8/site-packages/joblib/parallel.py\u001b[0m in \u001b[0;36mretrieve\u001b[0;34m(self)\u001b[0m\n\u001b[1;32m    934\u001b[0m                 \u001b[0;32mif\u001b[0m \u001b[0mgetattr\u001b[0m\u001b[0;34m(\u001b[0m\u001b[0mself\u001b[0m\u001b[0;34m.\u001b[0m\u001b[0m_backend\u001b[0m\u001b[0;34m,\u001b[0m \u001b[0;34m'supports_timeout'\u001b[0m\u001b[0;34m,\u001b[0m \u001b[0;32mFalse\u001b[0m\u001b[0;34m)\u001b[0m\u001b[0;34m:\u001b[0m\u001b[0;34m\u001b[0m\u001b[0;34m\u001b[0m\u001b[0m\n\u001b[0;32m--> 935\u001b[0;31m                     \u001b[0mself\u001b[0m\u001b[0;34m.\u001b[0m\u001b[0m_output\u001b[0m\u001b[0;34m.\u001b[0m\u001b[0mextend\u001b[0m\u001b[0;34m(\u001b[0m\u001b[0mjob\u001b[0m\u001b[0;34m.\u001b[0m\u001b[0mget\u001b[0m\u001b[0;34m(\u001b[0m\u001b[0mtimeout\u001b[0m\u001b[0;34m=\u001b[0m\u001b[0mself\u001b[0m\u001b[0;34m.\u001b[0m\u001b[0mtimeout\u001b[0m\u001b[0;34m)\u001b[0m\u001b[0;34m)\u001b[0m\u001b[0;34m\u001b[0m\u001b[0;34m\u001b[0m\u001b[0m\n\u001b[0m\u001b[1;32m    936\u001b[0m                 \u001b[0;32melse\u001b[0m\u001b[0;34m:\u001b[0m\u001b[0;34m\u001b[0m\u001b[0;34m\u001b[0m\u001b[0m\n",
      "\u001b[0;32m~/.local/lib/python3.8/site-packages/joblib/_parallel_backends.py\u001b[0m in \u001b[0;36mwrap_future_result\u001b[0;34m(future, timeout)\u001b[0m\n\u001b[1;32m    541\u001b[0m         \u001b[0;32mtry\u001b[0m\u001b[0;34m:\u001b[0m\u001b[0;34m\u001b[0m\u001b[0;34m\u001b[0m\u001b[0m\n\u001b[0;32m--> 542\u001b[0;31m             \u001b[0;32mreturn\u001b[0m \u001b[0mfuture\u001b[0m\u001b[0;34m.\u001b[0m\u001b[0mresult\u001b[0m\u001b[0;34m(\u001b[0m\u001b[0mtimeout\u001b[0m\u001b[0;34m=\u001b[0m\u001b[0mtimeout\u001b[0m\u001b[0;34m)\u001b[0m\u001b[0;34m\u001b[0m\u001b[0;34m\u001b[0m\u001b[0m\n\u001b[0m\u001b[1;32m    543\u001b[0m         \u001b[0;32mexcept\u001b[0m \u001b[0mCfTimeoutError\u001b[0m \u001b[0;32mas\u001b[0m \u001b[0me\u001b[0m\u001b[0;34m:\u001b[0m\u001b[0;34m\u001b[0m\u001b[0;34m\u001b[0m\u001b[0m\n",
      "\u001b[0;32m~/anaconda3/envs/keras/lib/python3.8/concurrent/futures/_base.py\u001b[0m in \u001b[0;36mresult\u001b[0;34m(self, timeout)\u001b[0m\n\u001b[1;32m    438\u001b[0m \u001b[0;34m\u001b[0m\u001b[0m\n\u001b[0;32m--> 439\u001b[0;31m                 \u001b[0mself\u001b[0m\u001b[0;34m.\u001b[0m\u001b[0m_condition\u001b[0m\u001b[0;34m.\u001b[0m\u001b[0mwait\u001b[0m\u001b[0;34m(\u001b[0m\u001b[0mtimeout\u001b[0m\u001b[0;34m)\u001b[0m\u001b[0;34m\u001b[0m\u001b[0;34m\u001b[0m\u001b[0m\n\u001b[0m\u001b[1;32m    440\u001b[0m \u001b[0;34m\u001b[0m\u001b[0m\n",
      "\u001b[0;32m~/anaconda3/envs/keras/lib/python3.8/threading.py\u001b[0m in \u001b[0;36mwait\u001b[0;34m(self, timeout)\u001b[0m\n\u001b[1;32m    301\u001b[0m             \u001b[0;32mif\u001b[0m \u001b[0mtimeout\u001b[0m \u001b[0;32mis\u001b[0m \u001b[0;32mNone\u001b[0m\u001b[0;34m:\u001b[0m\u001b[0;34m\u001b[0m\u001b[0;34m\u001b[0m\u001b[0m\n\u001b[0;32m--> 302\u001b[0;31m                 \u001b[0mwaiter\u001b[0m\u001b[0;34m.\u001b[0m\u001b[0macquire\u001b[0m\u001b[0;34m(\u001b[0m\u001b[0;34m)\u001b[0m\u001b[0;34m\u001b[0m\u001b[0;34m\u001b[0m\u001b[0m\n\u001b[0m\u001b[1;32m    303\u001b[0m                 \u001b[0mgotit\u001b[0m \u001b[0;34m=\u001b[0m \u001b[0;32mTrue\u001b[0m\u001b[0;34m\u001b[0m\u001b[0;34m\u001b[0m\u001b[0m\n",
      "\u001b[0;31mKeyboardInterrupt\u001b[0m: ",
      "\nDuring handling of the above exception, another exception occurred:\n",
      "\u001b[0;31mKeyboardInterrupt\u001b[0m                         Traceback (most recent call last)",
      "\u001b[0;32m~/.local/lib/python3.8/site-packages/sklearn/model_selection/_search.py\u001b[0m in \u001b[0;36mfit\u001b[0;34m(self, X, y, groups, **fit_params)\u001b[0m\n\u001b[1;32m    890\u001b[0m \u001b[0;34m\u001b[0m\u001b[0m\n\u001b[0;32m--> 891\u001b[0;31m             \u001b[0mself\u001b[0m\u001b[0;34m.\u001b[0m\u001b[0m_run_search\u001b[0m\u001b[0;34m(\u001b[0m\u001b[0mevaluate_candidates\u001b[0m\u001b[0;34m)\u001b[0m\u001b[0;34m\u001b[0m\u001b[0;34m\u001b[0m\u001b[0m\n\u001b[0m\u001b[1;32m    892\u001b[0m \u001b[0;34m\u001b[0m\u001b[0m\n",
      "\u001b[0;32m~/.local/lib/python3.8/site-packages/sklearn/model_selection/_search.py\u001b[0m in \u001b[0;36m_run_search\u001b[0;34m(self, evaluate_candidates)\u001b[0m\n\u001b[1;32m   1391\u001b[0m         \u001b[0;34m\"\"\"Search all candidates in param_grid\"\"\"\u001b[0m\u001b[0;34m\u001b[0m\u001b[0;34m\u001b[0m\u001b[0m\n\u001b[0;32m-> 1392\u001b[0;31m         \u001b[0mevaluate_candidates\u001b[0m\u001b[0;34m(\u001b[0m\u001b[0mParameterGrid\u001b[0m\u001b[0;34m(\u001b[0m\u001b[0mself\u001b[0m\u001b[0;34m.\u001b[0m\u001b[0mparam_grid\u001b[0m\u001b[0;34m)\u001b[0m\u001b[0;34m)\u001b[0m\u001b[0;34m\u001b[0m\u001b[0;34m\u001b[0m\u001b[0m\n\u001b[0m\u001b[1;32m   1393\u001b[0m \u001b[0;34m\u001b[0m\u001b[0m\n",
      "\u001b[0;32m~/.local/lib/python3.8/site-packages/sklearn/model_selection/_search.py\u001b[0m in \u001b[0;36mevaluate_candidates\u001b[0;34m(candidate_params, cv, more_results)\u001b[0m\n\u001b[1;32m    837\u001b[0m \u001b[0;34m\u001b[0m\u001b[0m\n\u001b[0;32m--> 838\u001b[0;31m                 out = parallel(\n\u001b[0m\u001b[1;32m    839\u001b[0m                     delayed(_fit_and_score)(\n",
      "\u001b[0;32m~/.local/lib/python3.8/site-packages/joblib/parallel.py\u001b[0m in \u001b[0;36m__call__\u001b[0;34m(self, iterable)\u001b[0m\n\u001b[1;32m   1055\u001b[0m             \u001b[0;32mwith\u001b[0m \u001b[0mself\u001b[0m\u001b[0;34m.\u001b[0m\u001b[0m_backend\u001b[0m\u001b[0;34m.\u001b[0m\u001b[0mretrieval_context\u001b[0m\u001b[0;34m(\u001b[0m\u001b[0;34m)\u001b[0m\u001b[0;34m:\u001b[0m\u001b[0;34m\u001b[0m\u001b[0;34m\u001b[0m\u001b[0m\n\u001b[0;32m-> 1056\u001b[0;31m                 \u001b[0mself\u001b[0m\u001b[0;34m.\u001b[0m\u001b[0mretrieve\u001b[0m\u001b[0;34m(\u001b[0m\u001b[0;34m)\u001b[0m\u001b[0;34m\u001b[0m\u001b[0;34m\u001b[0m\u001b[0m\n\u001b[0m\u001b[1;32m   1057\u001b[0m             \u001b[0;31m# Make sure that we get a last message telling us we are done\u001b[0m\u001b[0;34m\u001b[0m\u001b[0;34m\u001b[0m\u001b[0;34m\u001b[0m\u001b[0m\n",
      "\u001b[0;32m~/.local/lib/python3.8/site-packages/joblib/parallel.py\u001b[0m in \u001b[0;36mretrieve\u001b[0;34m(self)\u001b[0m\n\u001b[1;32m    956\u001b[0m                     \u001b[0mensure_ready\u001b[0m \u001b[0;34m=\u001b[0m \u001b[0mself\u001b[0m\u001b[0;34m.\u001b[0m\u001b[0m_managed_backend\u001b[0m\u001b[0;34m\u001b[0m\u001b[0;34m\u001b[0m\u001b[0m\n\u001b[0;32m--> 957\u001b[0;31m                     \u001b[0mbackend\u001b[0m\u001b[0;34m.\u001b[0m\u001b[0mabort_everything\u001b[0m\u001b[0;34m(\u001b[0m\u001b[0mensure_ready\u001b[0m\u001b[0;34m=\u001b[0m\u001b[0mensure_ready\u001b[0m\u001b[0;34m)\u001b[0m\u001b[0;34m\u001b[0m\u001b[0;34m\u001b[0m\u001b[0m\n\u001b[0m\u001b[1;32m    958\u001b[0m                 \u001b[0;32mraise\u001b[0m\u001b[0;34m\u001b[0m\u001b[0;34m\u001b[0m\u001b[0m\n",
      "\u001b[0;32m~/.local/lib/python3.8/site-packages/joblib/_parallel_backends.py\u001b[0m in \u001b[0;36mabort_everything\u001b[0;34m(self, ensure_ready)\u001b[0m\n\u001b[1;32m    560\u001b[0m         \"\"\"\n\u001b[0;32m--> 561\u001b[0;31m         \u001b[0mself\u001b[0m\u001b[0;34m.\u001b[0m\u001b[0m_workers\u001b[0m\u001b[0;34m.\u001b[0m\u001b[0mterminate\u001b[0m\u001b[0;34m(\u001b[0m\u001b[0mkill_workers\u001b[0m\u001b[0;34m=\u001b[0m\u001b[0;32mTrue\u001b[0m\u001b[0;34m)\u001b[0m\u001b[0;34m\u001b[0m\u001b[0;34m\u001b[0m\u001b[0m\n\u001b[0m\u001b[1;32m    562\u001b[0m         \u001b[0mself\u001b[0m\u001b[0;34m.\u001b[0m\u001b[0m_workers\u001b[0m \u001b[0;34m=\u001b[0m \u001b[0;32mNone\u001b[0m\u001b[0;34m\u001b[0m\u001b[0;34m\u001b[0m\u001b[0m\n",
      "\u001b[0;32m~/.local/lib/python3.8/site-packages/joblib/executor.py\u001b[0m in \u001b[0;36mterminate\u001b[0;34m(self, kill_workers)\u001b[0m\n\u001b[1;32m     73\u001b[0m     \u001b[0;32mdef\u001b[0m \u001b[0mterminate\u001b[0m\u001b[0;34m(\u001b[0m\u001b[0mself\u001b[0m\u001b[0;34m,\u001b[0m \u001b[0mkill_workers\u001b[0m\u001b[0;34m=\u001b[0m\u001b[0;32mFalse\u001b[0m\u001b[0;34m)\u001b[0m\u001b[0;34m:\u001b[0m\u001b[0;34m\u001b[0m\u001b[0;34m\u001b[0m\u001b[0m\n\u001b[0;32m---> 74\u001b[0;31m         \u001b[0mself\u001b[0m\u001b[0;34m.\u001b[0m\u001b[0mshutdown\u001b[0m\u001b[0;34m(\u001b[0m\u001b[0mkill_workers\u001b[0m\u001b[0;34m=\u001b[0m\u001b[0mkill_workers\u001b[0m\u001b[0;34m)\u001b[0m\u001b[0;34m\u001b[0m\u001b[0;34m\u001b[0m\u001b[0m\n\u001b[0m\u001b[1;32m     75\u001b[0m         \u001b[0;32mif\u001b[0m \u001b[0mkill_workers\u001b[0m\u001b[0;34m:\u001b[0m\u001b[0;34m\u001b[0m\u001b[0;34m\u001b[0m\u001b[0m\n",
      "\u001b[0;32m~/.local/lib/python3.8/site-packages/joblib/externals/loky/process_executor.py\u001b[0m in \u001b[0;36mshutdown\u001b[0;34m(self, wait, kill_workers)\u001b[0m\n\u001b[1;32m   1184\u001b[0m         \u001b[0;32mif\u001b[0m \u001b[0mexecutor_manager_thread\u001b[0m \u001b[0;32mis\u001b[0m \u001b[0;32mnot\u001b[0m \u001b[0;32mNone\u001b[0m \u001b[0;32mand\u001b[0m \u001b[0mwait\u001b[0m\u001b[0;34m:\u001b[0m\u001b[0;34m\u001b[0m\u001b[0;34m\u001b[0m\u001b[0m\n\u001b[0;32m-> 1185\u001b[0;31m             \u001b[0mexecutor_manager_thread\u001b[0m\u001b[0;34m.\u001b[0m\u001b[0mjoin\u001b[0m\u001b[0;34m(\u001b[0m\u001b[0;34m)\u001b[0m\u001b[0;34m\u001b[0m\u001b[0;34m\u001b[0m\u001b[0m\n\u001b[0m\u001b[1;32m   1186\u001b[0m \u001b[0;34m\u001b[0m\u001b[0m\n",
      "\u001b[0;32m~/anaconda3/envs/keras/lib/python3.8/threading.py\u001b[0m in \u001b[0;36mjoin\u001b[0;34m(self, timeout)\u001b[0m\n\u001b[1;32m   1010\u001b[0m         \u001b[0;32mif\u001b[0m \u001b[0mtimeout\u001b[0m \u001b[0;32mis\u001b[0m \u001b[0;32mNone\u001b[0m\u001b[0;34m:\u001b[0m\u001b[0;34m\u001b[0m\u001b[0;34m\u001b[0m\u001b[0m\n\u001b[0;32m-> 1011\u001b[0;31m             \u001b[0mself\u001b[0m\u001b[0;34m.\u001b[0m\u001b[0m_wait_for_tstate_lock\u001b[0m\u001b[0;34m(\u001b[0m\u001b[0;34m)\u001b[0m\u001b[0;34m\u001b[0m\u001b[0;34m\u001b[0m\u001b[0m\n\u001b[0m\u001b[1;32m   1012\u001b[0m         \u001b[0;32melse\u001b[0m\u001b[0;34m:\u001b[0m\u001b[0;34m\u001b[0m\u001b[0;34m\u001b[0m\u001b[0m\n",
      "\u001b[0;32m~/anaconda3/envs/keras/lib/python3.8/threading.py\u001b[0m in \u001b[0;36m_wait_for_tstate_lock\u001b[0;34m(self, block, timeout)\u001b[0m\n\u001b[1;32m   1026\u001b[0m             \u001b[0;32massert\u001b[0m \u001b[0mself\u001b[0m\u001b[0;34m.\u001b[0m\u001b[0m_is_stopped\u001b[0m\u001b[0;34m\u001b[0m\u001b[0;34m\u001b[0m\u001b[0m\n\u001b[0;32m-> 1027\u001b[0;31m         \u001b[0;32melif\u001b[0m \u001b[0mlock\u001b[0m\u001b[0;34m.\u001b[0m\u001b[0macquire\u001b[0m\u001b[0;34m(\u001b[0m\u001b[0mblock\u001b[0m\u001b[0;34m,\u001b[0m \u001b[0mtimeout\u001b[0m\u001b[0;34m)\u001b[0m\u001b[0;34m:\u001b[0m\u001b[0;34m\u001b[0m\u001b[0;34m\u001b[0m\u001b[0m\n\u001b[0m\u001b[1;32m   1028\u001b[0m             \u001b[0mlock\u001b[0m\u001b[0;34m.\u001b[0m\u001b[0mrelease\u001b[0m\u001b[0;34m(\u001b[0m\u001b[0;34m)\u001b[0m\u001b[0;34m\u001b[0m\u001b[0;34m\u001b[0m\u001b[0m\n",
      "\u001b[0;31mKeyboardInterrupt\u001b[0m: ",
      "\nDuring handling of the above exception, another exception occurred:\n",
      "\u001b[0;31mKeyboardInterrupt\u001b[0m                         Traceback (most recent call last)",
      "\u001b[0;32m/tmp/ipykernel_1059252/3601038919.py\u001b[0m in \u001b[0;36m<module>\u001b[0;34m\u001b[0m\n\u001b[1;32m     14\u001b[0m                   \u001b[0mverbose\u001b[0m\u001b[0;34m=\u001b[0m\u001b[0;36m3\u001b[0m\u001b[0;34m,\u001b[0m\u001b[0;34m\u001b[0m\u001b[0;34m\u001b[0m\u001b[0m\n\u001b[1;32m     15\u001b[0m                   param_grid=param_grid, cv=nfold)\n\u001b[0;32m---> 16\u001b[0;31m \u001b[0mgs\u001b[0m\u001b[0;34m.\u001b[0m\u001b[0mfit\u001b[0m\u001b[0;34m(\u001b[0m\u001b[0mx_train_imputed\u001b[0m\u001b[0;34m,\u001b[0m \u001b[0my_train\u001b[0m\u001b[0;34m)\u001b[0m\u001b[0;34m\u001b[0m\u001b[0;34m\u001b[0m\u001b[0m\n\u001b[0m\u001b[1;32m     17\u001b[0m \u001b[0;31m#model = gs.best_estimator_.get_booster()\u001b[0m\u001b[0;34m\u001b[0m\u001b[0;34m\u001b[0m\u001b[0;34m\u001b[0m\u001b[0m\n\u001b[1;32m     18\u001b[0m \u001b[0;34m\u001b[0m\u001b[0m\n",
      "\u001b[0;32m~/.local/lib/python3.8/site-packages/sklearn/model_selection/_search.py\u001b[0m in \u001b[0;36mfit\u001b[0;34m(self, X, y, groups, **fit_params)\u001b[0m\n\u001b[1;32m    899\u001b[0m             \u001b[0;32mif\u001b[0m \u001b[0mcallable\u001b[0m\u001b[0;34m(\u001b[0m\u001b[0mself\u001b[0m\u001b[0;34m.\u001b[0m\u001b[0mscoring\u001b[0m\u001b[0;34m)\u001b[0m \u001b[0;32mand\u001b[0m \u001b[0mself\u001b[0m\u001b[0;34m.\u001b[0m\u001b[0mmultimetric_\u001b[0m\u001b[0;34m:\u001b[0m\u001b[0;34m\u001b[0m\u001b[0;34m\u001b[0m\u001b[0m\n\u001b[1;32m    900\u001b[0m                 \u001b[0mself\u001b[0m\u001b[0;34m.\u001b[0m\u001b[0m_check_refit_for_multimetric\u001b[0m\u001b[0;34m(\u001b[0m\u001b[0mfirst_test_score\u001b[0m\u001b[0;34m)\u001b[0m\u001b[0;34m\u001b[0m\u001b[0;34m\u001b[0m\u001b[0m\n\u001b[0;32m--> 901\u001b[0;31m                 \u001b[0mrefit_metric\u001b[0m \u001b[0;34m=\u001b[0m \u001b[0mself\u001b[0m\u001b[0;34m.\u001b[0m\u001b[0mrefit\u001b[0m\u001b[0;34m\u001b[0m\u001b[0;34m\u001b[0m\u001b[0m\n\u001b[0m\u001b[1;32m    902\u001b[0m \u001b[0;34m\u001b[0m\u001b[0m\n\u001b[1;32m    903\u001b[0m         \u001b[0;31m# For multi-metric evaluation, store the best_index_, best_params_ and\u001b[0m\u001b[0;34m\u001b[0m\u001b[0;34m\u001b[0m\u001b[0;34m\u001b[0m\u001b[0m\n",
      "\u001b[0;32m~/.local/lib/python3.8/site-packages/joblib/parallel.py\u001b[0m in \u001b[0;36m__exit__\u001b[0;34m(self, exc_type, exc_value, traceback)\u001b[0m\n\u001b[1;32m    727\u001b[0m \u001b[0;34m\u001b[0m\u001b[0m\n\u001b[1;32m    728\u001b[0m     \u001b[0;32mdef\u001b[0m \u001b[0m__exit__\u001b[0m\u001b[0;34m(\u001b[0m\u001b[0mself\u001b[0m\u001b[0;34m,\u001b[0m \u001b[0mexc_type\u001b[0m\u001b[0;34m,\u001b[0m \u001b[0mexc_value\u001b[0m\u001b[0;34m,\u001b[0m \u001b[0mtraceback\u001b[0m\u001b[0;34m)\u001b[0m\u001b[0;34m:\u001b[0m\u001b[0;34m\u001b[0m\u001b[0;34m\u001b[0m\u001b[0m\n\u001b[0;32m--> 729\u001b[0;31m         \u001b[0mself\u001b[0m\u001b[0;34m.\u001b[0m\u001b[0m_terminate_backend\u001b[0m\u001b[0;34m(\u001b[0m\u001b[0;34m)\u001b[0m\u001b[0;34m\u001b[0m\u001b[0;34m\u001b[0m\u001b[0m\n\u001b[0m\u001b[1;32m    730\u001b[0m         \u001b[0mself\u001b[0m\u001b[0;34m.\u001b[0m\u001b[0m_managed_backend\u001b[0m \u001b[0;34m=\u001b[0m \u001b[0;32mFalse\u001b[0m\u001b[0;34m\u001b[0m\u001b[0;34m\u001b[0m\u001b[0m\n\u001b[1;32m    731\u001b[0m \u001b[0;34m\u001b[0m\u001b[0m\n",
      "\u001b[0;32m~/.local/lib/python3.8/site-packages/joblib/parallel.py\u001b[0m in \u001b[0;36m_terminate_backend\u001b[0;34m(self)\u001b[0m\n\u001b[1;32m    757\u001b[0m     \u001b[0;32mdef\u001b[0m \u001b[0m_terminate_backend\u001b[0m\u001b[0;34m(\u001b[0m\u001b[0mself\u001b[0m\u001b[0;34m)\u001b[0m\u001b[0;34m:\u001b[0m\u001b[0;34m\u001b[0m\u001b[0;34m\u001b[0m\u001b[0m\n\u001b[1;32m    758\u001b[0m         \u001b[0;32mif\u001b[0m \u001b[0mself\u001b[0m\u001b[0;34m.\u001b[0m\u001b[0m_backend\u001b[0m \u001b[0;32mis\u001b[0m \u001b[0;32mnot\u001b[0m \u001b[0;32mNone\u001b[0m\u001b[0;34m:\u001b[0m\u001b[0;34m\u001b[0m\u001b[0;34m\u001b[0m\u001b[0m\n\u001b[0;32m--> 759\u001b[0;31m             \u001b[0mself\u001b[0m\u001b[0;34m.\u001b[0m\u001b[0m_backend\u001b[0m\u001b[0;34m.\u001b[0m\u001b[0mterminate\u001b[0m\u001b[0;34m(\u001b[0m\u001b[0;34m)\u001b[0m\u001b[0;34m\u001b[0m\u001b[0;34m\u001b[0m\u001b[0m\n\u001b[0m\u001b[1;32m    760\u001b[0m \u001b[0;34m\u001b[0m\u001b[0m\n\u001b[1;32m    761\u001b[0m     \u001b[0;32mdef\u001b[0m \u001b[0m_dispatch\u001b[0m\u001b[0;34m(\u001b[0m\u001b[0mself\u001b[0m\u001b[0;34m,\u001b[0m \u001b[0mbatch\u001b[0m\u001b[0;34m)\u001b[0m\u001b[0;34m:\u001b[0m\u001b[0;34m\u001b[0m\u001b[0;34m\u001b[0m\u001b[0m\n",
      "\u001b[0;32m~/.local/lib/python3.8/site-packages/joblib/_parallel_backends.py\u001b[0m in \u001b[0;36mterminate\u001b[0;34m(self)\u001b[0m\n\u001b[1;32m    549\u001b[0m             \u001b[0;31m# calls, but cleanup the temporary resources that the Parallel call\u001b[0m\u001b[0;34m\u001b[0m\u001b[0;34m\u001b[0m\u001b[0;34m\u001b[0m\u001b[0m\n\u001b[1;32m    550\u001b[0m             \u001b[0;31m# created. This 'hack' requires a private, low-level operation.\u001b[0m\u001b[0;34m\u001b[0m\u001b[0;34m\u001b[0m\u001b[0;34m\u001b[0m\u001b[0m\n\u001b[0;32m--> 551\u001b[0;31m             self._workers._temp_folder_manager._unlink_temporary_resources(\n\u001b[0m\u001b[1;32m    552\u001b[0m                 \u001b[0mcontext_id\u001b[0m\u001b[0;34m=\u001b[0m\u001b[0mself\u001b[0m\u001b[0;34m.\u001b[0m\u001b[0mparallel\u001b[0m\u001b[0;34m.\u001b[0m\u001b[0m_id\u001b[0m\u001b[0;34m\u001b[0m\u001b[0;34m\u001b[0m\u001b[0m\n\u001b[1;32m    553\u001b[0m             )\n",
      "\u001b[0;32m~/.local/lib/python3.8/site-packages/joblib/_memmapping_reducer.py\u001b[0m in \u001b[0;36m_unlink_temporary_resources\u001b[0;34m(self, context_id)\u001b[0m\n\u001b[1;32m    625\u001b[0m                         \u001b[0mos\u001b[0m\u001b[0;34m.\u001b[0m\u001b[0mpath\u001b[0m\u001b[0;34m.\u001b[0m\u001b[0mjoin\u001b[0m\u001b[0;34m(\u001b[0m\u001b[0mtemp_folder\u001b[0m\u001b[0;34m,\u001b[0m \u001b[0mfilename\u001b[0m\u001b[0;34m)\u001b[0m\u001b[0;34m,\u001b[0m \u001b[0;34m\"file\"\u001b[0m\u001b[0;34m\u001b[0m\u001b[0;34m\u001b[0m\u001b[0m\n\u001b[1;32m    626\u001b[0m                     )\n\u001b[0;32m--> 627\u001b[0;31m                 self._try_delete_folder(\n\u001b[0m\u001b[1;32m    628\u001b[0m                     \u001b[0mallow_non_empty\u001b[0m\u001b[0;34m=\u001b[0m\u001b[0;32mFalse\u001b[0m\u001b[0;34m,\u001b[0m \u001b[0mcontext_id\u001b[0m\u001b[0;34m=\u001b[0m\u001b[0mcontext_id\u001b[0m\u001b[0;34m\u001b[0m\u001b[0;34m\u001b[0m\u001b[0m\n\u001b[1;32m    629\u001b[0m                 )\n",
      "\u001b[0;32m~/.local/lib/python3.8/site-packages/joblib/_memmapping_reducer.py\u001b[0m in \u001b[0;36m_try_delete_folder\u001b[0;34m(self, allow_non_empty, context_id)\u001b[0m\n\u001b[1;32m    652\u001b[0m             \u001b[0mtemp_folder\u001b[0m \u001b[0;34m=\u001b[0m \u001b[0mself\u001b[0m\u001b[0;34m.\u001b[0m\u001b[0m_cached_temp_folders\u001b[0m\u001b[0;34m[\u001b[0m\u001b[0mcontext_id\u001b[0m\u001b[0;34m]\u001b[0m\u001b[0;34m\u001b[0m\u001b[0;34m\u001b[0m\u001b[0m\n\u001b[1;32m    653\u001b[0m             \u001b[0;32mtry\u001b[0m\u001b[0;34m:\u001b[0m\u001b[0;34m\u001b[0m\u001b[0;34m\u001b[0m\u001b[0m\n\u001b[0;32m--> 654\u001b[0;31m                 delete_folder(\n\u001b[0m\u001b[1;32m    655\u001b[0m                     \u001b[0mtemp_folder\u001b[0m\u001b[0;34m,\u001b[0m \u001b[0mallow_non_empty\u001b[0m\u001b[0;34m=\u001b[0m\u001b[0mallow_non_empty\u001b[0m\u001b[0;34m\u001b[0m\u001b[0;34m\u001b[0m\u001b[0m\n\u001b[1;32m    656\u001b[0m                 )\n",
      "\u001b[0;32m~/.local/lib/python3.8/site-packages/joblib/disk.py\u001b[0m in \u001b[0;36mdelete_folder\u001b[0;34m(folder_path, onerror, allow_non_empty)\u001b[0m\n\u001b[1;32m    134\u001b[0m                         \u001b[0;31m# yet.\u001b[0m\u001b[0;34m\u001b[0m\u001b[0;34m\u001b[0m\u001b[0;34m\u001b[0m\u001b[0m\n\u001b[1;32m    135\u001b[0m                         \u001b[0;32mraise\u001b[0m\u001b[0;34m\u001b[0m\u001b[0;34m\u001b[0m\u001b[0m\n\u001b[0;32m--> 136\u001b[0;31m                 \u001b[0mtime\u001b[0m\u001b[0;34m.\u001b[0m\u001b[0msleep\u001b[0m\u001b[0;34m(\u001b[0m\u001b[0mRM_SUBDIRS_RETRY_TIME\u001b[0m\u001b[0;34m)\u001b[0m\u001b[0;34m\u001b[0m\u001b[0;34m\u001b[0m\u001b[0m\n\u001b[0m",
      "\u001b[0;31mKeyboardInterrupt\u001b[0m: "
     ]
    }
   ],
   "source": [
    "from sklearn.svm import SVR\n",
    "from sklearn.model_selection import GridSearchCV, RandomizedSearchCV\n",
    "\n",
    "\n",
    "SEED = 98\n",
    "param_grid = {'C': [1, 10, 100, 1000], \n",
    "              'gamma': [1, 0.1, 0.01, 0.001],\n",
    "              'kernel': ['rbf']} \n",
    "\n",
    "nfold = 4\n",
    "gs = GridSearchCV(estimator=SVR(),\n",
    "                  n_jobs=-1,\n",
    "                  refit=True,\n",
    "                  verbose=3,\n",
    "                  param_grid=param_grid, cv=nfold)\n",
    "gs.fit(x_train_imputed, y_train)\n",
    "#model = gs.best_estimator_.get_booster()\n",
    "\n",
    "print()\n",
    "print(\"========= found hyperparameter =========\")\n",
    "print(gs.best_params_)\n",
    "print(gs.best_score_)\n",
    "print(\"========================================\")\n",
    "\n",
    "\n",
    "y_pred = gs.predict(x_test_imputed).flatten()\n",
    "y_pred = np.round(y_pred * 2) / 2\n",
    "\n",
    "\n",
    "print('--------------')\n",
    "print('new model')\n",
    "print('--------------')\n",
    "print(f'explained_variance_score: {explained_variance_score(y_test, y_pred):.3f}')\n",
    "print(f'mean_squared_errors: {mean_squared_error(y_test, y_pred):.3f}')\n",
    "print(f'r2_score: {r2_score(y_test, y_pred):.3f}')\n",
    "# accuracy\n",
    "acc1 = np.mean(y_pred==y_test)\n",
    "acc3 = np.mean((y_pred >= y_test-0.5) & (y_pred <= y_test+0.5))\n",
    "print(f'acc: {acc1:.3f}')\n",
    "print(f'acc(+-0.5mm): {acc3:.3f}')"
   ]
  },
  {
   "cell_type": "code",
   "execution_count": 11,
   "id": "212ef896-f0a5-4700-8ab6-0bb5f5b8fc8c",
   "metadata": {
    "execution": {
     "iopub.execute_input": "2023-02-17T05:08:38.798532Z",
     "iopub.status.busy": "2023-02-17T05:08:38.798029Z",
     "iopub.status.idle": "2023-02-17T05:08:46.456618Z",
     "shell.execute_reply": "2023-02-17T05:08:46.456089Z",
     "shell.execute_reply.started": "2023-02-17T05:08:38.798476Z"
    },
    "tags": []
   },
   "outputs": [
    {
     "name": "stdout",
     "output_type": "stream",
     "text": [
      "--------------\n",
      "new model\n",
      "--------------\n",
      "explained_variance_score: 0.858\n",
      "mean_squared_errors: 0.144\n",
      "r2_score: 0.858\n",
      "acc: 0.591\n",
      "acc(+-0.5mm): 0.961\n"
     ]
    }
   ],
   "source": [
    "svr = SVR(C=1, gamma=0.001, kernel='rbf')\n",
    "svr.fit(x_train_imputed, y_train)\n",
    "\n",
    "y_pred = svr.predict(x_test_imputed).flatten()\n",
    "y_pred = np.round(y_pred * 2) / 2\n",
    "\n",
    "\n",
    "print('--------------')\n",
    "print('new model')\n",
    "print('--------------')\n",
    "print(f'explained_variance_score: {explained_variance_score(y_test, y_pred):.3f}')\n",
    "print(f'mean_squared_errors: {mean_squared_error(y_test, y_pred):.3f}')\n",
    "print(f'r2_score: {r2_score(y_test, y_pred):.3f}')\n",
    "# accuracy\n",
    "acc1 = np.mean(y_pred==y_test)\n",
    "acc3 = np.mean((y_pred >= y_test-0.5) & (y_pred <= y_test+0.5))\n",
    "print(f'acc: {acc1:.3f}')\n",
    "print(f'acc(+-0.5mm): {acc3:.3f}')"
   ]
  },
  {
   "cell_type": "code",
   "execution_count": null,
   "id": "52cb1b7a-ef41-4386-a625-976e929df7a5",
   "metadata": {},
   "outputs": [],
   "source": []
  },
  {
   "cell_type": "code",
   "execution_count": null,
   "id": "2ded91f0-ac26-4c11-9416-9d67cd009b9b",
   "metadata": {},
   "outputs": [],
   "source": []
  },
  {
   "cell_type": "markdown",
   "id": "1b0051db-f97f-464c-bced-35ba32bb18d5",
   "metadata": {},
   "source": [
    "## ANN"
   ]
  },
  {
   "cell_type": "code",
   "execution_count": 84,
   "id": "67ed18b7-5c2b-47f7-ae83-be44dc87b8b9",
   "metadata": {
    "execution": {
     "iopub.execute_input": "2023-02-16T06:34:52.064134Z",
     "iopub.status.busy": "2023-02-16T06:34:52.063572Z",
     "iopub.status.idle": "2023-02-16T06:34:53.885891Z",
     "shell.execute_reply": "2023-02-16T06:34:53.885313Z",
     "shell.execute_reply.started": "2023-02-16T06:34:52.064078Z"
    },
    "tags": []
   },
   "outputs": [],
   "source": [
    "from keras import losses, metrics\n",
    "from keras.models import Sequential, Model, load_model\n",
    "from tensorflow.keras.optimizers import Adam\n",
    "from keras.layers import Dense, Conv1D, MaxPooling1D, GlobalMaxPooling1D, BatchNormalization, Dropout, Activation, Input\n",
    "from keras.layers import GlobalAveragePooling1D, Flatten, SeparableConv1D, concatenate, Add\n",
    "from keras.callbacks import ModelCheckpoint, EarlyStopping\n",
    "from sklearn.metrics import auc, classification_report, confusion_matrix, accuracy_score, roc_curve, roc_auc_score, f1_score, precision_recall_curve\n",
    "import tensorflow as tf\n",
    "import itertools as it\n",
    "import matplotlib.pyplot as plt\n",
    "import statsmodels.api as sm\n",
    "from scipy import stats, interp\n",
    "import os, sys, pickle, shutil\n",
    "import pandas as pd\n",
    "import numpy as np\n",
    "import random, datetime, time\n",
    "from sklearn.model_selection import KFold\n",
    "\n",
    "\n",
    "# tensorflow 사용 시 seed 고정\n",
    "def seed_everything(seed: int = 98):\n",
    "    random.seed(seed)\n",
    "    np.random.seed(seed)\n",
    "    os.environ[\"PYTHONHASHSEED\"] = str(seed)\n",
    "    tf.random.set_seed(seed)\n",
    "    \n",
    "SEED = 98\n",
    "os.environ[\"CUDA_VISIBLE_DEVICES\"]= \"3\""
   ]
  },
  {
   "cell_type": "code",
   "execution_count": 105,
   "id": "cfa2b048-b222-44d5-82d5-309f31fd9c1f",
   "metadata": {
    "execution": {
     "iopub.execute_input": "2023-02-16T06:39:30.050248Z",
     "iopub.status.busy": "2023-02-16T06:39:30.049790Z",
     "iopub.status.idle": "2023-02-16T06:39:30.056997Z",
     "shell.execute_reply": "2023-02-16T06:39:30.056036Z",
     "shell.execute_reply.started": "2023-02-16T06:39:30.050199Z"
    },
    "tags": []
   },
   "outputs": [
    {
     "data": {
      "text/plain": [
       "(35971, 5)"
      ]
     },
     "execution_count": 105,
     "metadata": {},
     "output_type": "execute_result"
    }
   ],
   "source": [
    "x_train.shape"
   ]
  },
  {
   "cell_type": "code",
   "execution_count": 104,
   "id": "6971b44f-6a49-4ced-ba09-8418e924b9cd",
   "metadata": {
    "execution": {
     "iopub.execute_input": "2023-02-16T06:39:28.426728Z",
     "iopub.status.busy": "2023-02-16T06:39:28.426247Z",
     "iopub.status.idle": "2023-02-16T06:39:28.486372Z",
     "shell.execute_reply": "2023-02-16T06:39:28.485627Z",
     "shell.execute_reply.started": "2023-02-16T06:39:28.426676Z"
    },
    "tags": []
   },
   "outputs": [],
   "source": [
    "from sklearn.preprocessing import StandardScaler\n",
    "\n",
    "sc = StandardScaler()\n",
    "x_train = sc.fit_transform(df.loc[:ntrain-1,INPUT_VARS])\n",
    "x_test = sc.transform(df.loc[ntrain:,INPUT_VARS])"
   ]
  },
  {
   "cell_type": "code",
   "execution_count": 106,
   "id": "7001f38e-8f9e-449c-a842-d5914021b256",
   "metadata": {
    "execution": {
     "iopub.execute_input": "2023-02-16T06:39:31.475438Z",
     "iopub.status.busy": "2023-02-16T06:39:31.474949Z",
     "iopub.status.idle": "2023-02-16T06:39:31.644484Z",
     "shell.execute_reply": "2023-02-16T06:39:31.643808Z",
     "shell.execute_reply.started": "2023-02-16T06:39:31.475385Z"
    },
    "tags": []
   },
   "outputs": [],
   "source": [
    "from sklearn.experimental import enable_iterative_imputer\n",
    "from sklearn.impute import IterativeImputer\n",
    "from sklearn.preprocessing import StandardScaler\n",
    "\n",
    "imp = IterativeImputer().fit(x_train)\n",
    "x_train_imputed = imp.transform(x_train)\n",
    "x_test_imputed = imp.transform(x_test)"
   ]
  },
  {
   "cell_type": "code",
   "execution_count": 88,
   "id": "903719d5-2cb7-4dc7-af9f-1574bf97e18d",
   "metadata": {
    "execution": {
     "iopub.execute_input": "2023-02-16T06:35:16.884940Z",
     "iopub.status.busy": "2023-02-16T06:35:16.884388Z",
     "iopub.status.idle": "2023-02-16T06:35:16.891571Z",
     "shell.execute_reply": "2023-02-16T06:35:16.890278Z",
     "shell.execute_reply.started": "2023-02-16T06:35:16.884884Z"
    },
    "tags": []
   },
   "outputs": [],
   "source": [
    "# save model\n",
    "#odir_f = f'acc1-{acc1:.3f}_acc3-{acc3:.3f}_XGBR_{nfold}fold'\n",
    "odir_f = f'DNN_size'\n",
    "odir = f'result/{odir_f}'\n",
    "if not os.path.exists(odir):\n",
    "    os.mkdir(odir)"
   ]
  },
  {
   "cell_type": "code",
   "execution_count": 115,
   "id": "119c029c-8455-413d-99b4-844af7a9cdcc",
   "metadata": {
    "execution": {
     "iopub.execute_input": "2023-02-16T06:42:52.177318Z",
     "iopub.status.busy": "2023-02-16T06:42:52.176786Z",
     "iopub.status.idle": "2023-02-16T06:43:09.227896Z",
     "shell.execute_reply": "2023-02-16T06:43:09.227112Z",
     "shell.execute_reply.started": "2023-02-16T06:42:52.177265Z"
    },
    "scrolled": true,
    "tags": []
   },
   "outputs": [
    {
     "name": "stderr",
     "output_type": "stream",
     "text": [
      "/home/painstudy/anaconda3/envs/keras/lib/python3.8/site-packages/keras/optimizer_v2/adam.py:105: UserWarning: The `lr` argument is deprecated, use `learning_rate` instead.\n",
      "  super(Adam, self).__init__(name, **kwargs)\n"
     ]
    },
    {
     "name": "stdout",
     "output_type": "stream",
     "text": [
      "Epoch 1/100\n",
      "449/450 [============================>.] - ETA: 0s - loss: 0.9451 - mean_absolute_error: 0.5390\n",
      "Epoch 00001: val_loss improved from inf to 0.63609, saving model to result/DNN_size/weights.hdf5\n",
      "450/450 [==============================] - 3s 5ms/step - loss: 0.9441 - mean_absolute_error: 0.5388 - val_loss: 0.6361 - val_mean_absolute_error: 0.2973\n",
      "Epoch 2/100\n",
      "444/450 [============================>.] - ETA: 0s - loss: 0.3555 - mean_absolute_error: 0.4044\n",
      "Epoch 00002: val_loss improved from 0.63609 to 0.27092, saving model to result/DNN_size/weights.hdf5\n",
      "450/450 [==============================] - 2s 5ms/step - loss: 0.3538 - mean_absolute_error: 0.4039 - val_loss: 0.2709 - val_mean_absolute_error: 0.2828\n",
      "Epoch 3/100\n",
      "445/450 [============================>.] - ETA: 0s - loss: 0.2866 - mean_absolute_error: 0.3900\n",
      "Epoch 00003: val_loss improved from 0.27092 to 0.17374, saving model to result/DNN_size/weights.hdf5\n",
      "450/450 [==============================] - 2s 4ms/step - loss: 0.2860 - mean_absolute_error: 0.3898 - val_loss: 0.1737 - val_mean_absolute_error: 0.2805\n",
      "Epoch 4/100\n",
      "443/450 [============================>.] - ETA: 0s - loss: 0.2599 - mean_absolute_error: 0.3788\n",
      "Epoch 00004: val_loss improved from 0.17374 to 0.16522, saving model to result/DNN_size/weights.hdf5\n",
      "450/450 [==============================] - 2s 4ms/step - loss: 0.2595 - mean_absolute_error: 0.3787 - val_loss: 0.1652 - val_mean_absolute_error: 0.2757\n",
      "Epoch 5/100\n",
      "446/450 [============================>.] - ETA: 0s - loss: 0.2683 - mean_absolute_error: 0.3696\n",
      "Epoch 00005: val_loss improved from 0.16522 to 0.13354, saving model to result/DNN_size/weights.hdf5\n",
      "450/450 [==============================] - 2s 4ms/step - loss: 0.2680 - mean_absolute_error: 0.3696 - val_loss: 0.1335 - val_mean_absolute_error: 0.2698\n",
      "Epoch 6/100\n",
      "444/450 [============================>.] - ETA: 0s - loss: 0.2341 - mean_absolute_error: 0.3528\n",
      "Epoch 00006: val_loss did not improve from 0.13354\n",
      "450/450 [==============================] - 2s 4ms/step - loss: 0.2341 - mean_absolute_error: 0.3530 - val_loss: 0.1356 - val_mean_absolute_error: 0.2767\n",
      "Epoch 7/100\n",
      "448/450 [============================>.] - ETA: 0s - loss: 0.2523 - mean_absolute_error: 0.3560\n",
      "Epoch 00007: val_loss did not improve from 0.13354\n",
      "450/450 [==============================] - 2s 4ms/step - loss: 0.2521 - mean_absolute_error: 0.3559 - val_loss: 0.1453 - val_mean_absolute_error: 0.2710\n",
      "Epoch 8/100\n",
      "446/450 [============================>.] - ETA: 0s - loss: 0.2083 - mean_absolute_error: 0.3465\n",
      "Epoch 00008: val_loss did not improve from 0.13354\n",
      "450/450 [==============================] - 2s 4ms/step - loss: 0.2079 - mean_absolute_error: 0.3463 - val_loss: 0.1345 - val_mean_absolute_error: 0.2714\n"
     ]
    }
   ],
   "source": [
    "dense_node = 512\n",
    "dropout = 0.3\n",
    "batch_size = 64\n",
    "learning_rate = 0.001\n",
    "\n",
    "# model\n",
    "inp = Input(shape=(x_train.shape[1],))\n",
    "out = inp\n",
    "\n",
    "out = Dense(dense_node, activation='relu')(out)\n",
    "out = BatchNormalization()(out)\n",
    "out = Dropout(dropout)(out)\n",
    "out = Dense(dense_node, activation='relu')(out)\n",
    "out = Dropout(dropout)(out)\n",
    "out = Dense(1, activation=None)(out)\n",
    "\n",
    "model = Model(inputs=[inp], outputs=[out])\n",
    "#model.save_weights(f'{odir}/initinp.l_weights.hdf5')\n",
    "\n",
    "weightcache = f\"{odir}/weights.hdf5\"\n",
    "model.compile(loss='mse', optimizer=Adam(lr=learning_rate), metrics=[\"mean_absolute_error\"])\n",
    "hist = model.fit(x_train_imputed, y_train, validation_split=0.2, epochs=100, batch_size=batch_size, #class_weight={0:1, 1:3}, \n",
    "                        callbacks=[ModelCheckpoint(monitor='val_loss', filepath=weightcache, verbose=1, save_best_only=True),\n",
    "                                    EarlyStopping(monitor='val_loss', patience=3, verbose=0, mode='auto')])\n",
    "\n",
    "model.load_weights(weightcache)\n",
    "y_pred = model.predict(x_test_imputed).flatten()"
   ]
  },
  {
   "cell_type": "code",
   "execution_count": 116,
   "id": "0ebdcb1c-9fa2-43b9-a503-1d0f84f06508",
   "metadata": {
    "execution": {
     "iopub.execute_input": "2023-02-16T06:43:14.140517Z",
     "iopub.status.busy": "2023-02-16T06:43:14.139987Z",
     "iopub.status.idle": "2023-02-16T06:43:14.486275Z",
     "shell.execute_reply": "2023-02-16T06:43:14.485698Z",
     "shell.execute_reply.started": "2023-02-16T06:43:14.140463Z"
    },
    "tags": []
   },
   "outputs": [
    {
     "name": "stdout",
     "output_type": "stream",
     "text": [
      "explained_variance_score: 0.843\n",
      "mean_squared_errors: 0.153\n",
      "r2_score: 0.840\n",
      "acc: 0.567\n",
      "acc(+-0.5mm): 0.955\n"
     ]
    }
   ],
   "source": [
    "y_pred = model.predict(x_test_imputed).flatten()\n",
    "y_pred = np.round(y_pred * 2) / 2\n",
    "\n",
    "print(f'explained_variance_score: {explained_variance_score(y_test, y_pred):.3f}')\n",
    "print(f'mean_squared_errors: {mean_squared_error(y_test, y_pred):.3f}')\n",
    "print(f'r2_score: {r2_score(y_test, y_pred):.3f}')\n",
    "print(f'acc: {np.mean(y_pred==y_test):.3f}')\n",
    "print(f'acc(+-0.5mm): {np.mean((y_pred >= y_test-0.5) & (y_pred <= y_test+0.5)):.3f}')"
   ]
  },
  {
   "cell_type": "markdown",
   "id": "1dd1cf49-7994-4b80-916d-babe4dd792bb",
   "metadata": {},
   "source": [
    "# Insertion depth"
   ]
  },
  {
   "cell_type": "code",
   "execution_count": null,
   "id": "ad31d414-cb70-498a-9352-c316745ec68b",
   "metadata": {
    "scrolled": true,
    "tags": []
   },
   "outputs": [],
   "source": [
    "df.isnull().sum()"
   ]
  },
  {
   "cell_type": "code",
   "execution_count": 199,
   "id": "549f228b-e7ef-40b4-8478-39483ddd1084",
   "metadata": {
    "execution": {
     "iopub.execute_input": "2023-02-16T10:31:19.996829Z",
     "iopub.status.busy": "2023-02-16T10:31:19.996259Z",
     "iopub.status.idle": "2023-02-16T10:31:20.162283Z",
     "shell.execute_reply": "2023-02-16T10:31:20.161657Z",
     "shell.execute_reply.started": "2023-02-16T10:31:19.996773Z"
    },
    "tags": []
   },
   "outputs": [
    {
     "data": {
      "text/plain": [
       "(array([7.0000e+00, 4.5000e+01, 2.5100e+02, 2.2040e+03, 6.8630e+03,\n",
       "        1.4196e+04, 1.0387e+04, 5.9750e+03, 3.6700e+02, 3.0000e+01]),\n",
       " array([ 0. ,  2.4,  4.8,  7.2,  9.6, 12. , 14.4, 16.8, 19.2, 21.6, 24. ]),\n",
       " <BarContainer object of 10 artists>)"
      ]
     },
     "execution_count": 199,
     "metadata": {},
     "output_type": "execute_result"
    },
    {
     "data": {
      "image/png": "[encoded data removed]",
      "text/plain": [
       "<Figure size 432x288 with 1 Axes>"
      ]
     },
     "metadata": {
      "needs_background": "light"
     },
     "output_type": "display_data"
    }
   ],
   "source": [
    "dff = df.dropna(subset=['fixed'])\n",
    "depths = dff['fixed'].values\n",
    "plt.hist(depths)"
   ]
  },
  {
   "cell_type": "code",
   "execution_count": 137,
   "id": "447ffc8b-36f2-45d8-9410-de707eabaf8e",
   "metadata": {
    "execution": {
     "iopub.execute_input": "2023-02-16T07:16:32.150597Z",
     "iopub.status.busy": "2023-02-16T07:16:32.150019Z",
     "iopub.status.idle": "2023-02-16T07:16:32.209953Z",
     "shell.execute_reply": "2023-02-16T07:16:32.209112Z",
     "shell.execute_reply.started": "2023-02-16T07:16:32.150539Z"
    },
    "tags": []
   },
   "outputs": [],
   "source": [
    "INPUT_VARS = ['age_cal','sex','weight','height', 'cuffed', 'airway_tube_size']\n",
    "TARGET_VAR = 'fixed'\n",
    "\n",
    "seed_everything(SEED)\n",
    "df.dropna(subset=['fixed'], inplace=True)\n",
    "df = shuffle(df)\n",
    "df.reset_index(drop=True, inplace=True)\n",
    "y = df[[TARGET_VAR]].values.flatten().astype(float)\n",
    "x = df.loc[:, INPUT_VARS].values.astype(float)\n",
    "\n",
    "# training set의 뒤쪽 20%를 test set 으로 사용\n",
    "nsamp = len(y)\n",
    "ntest = int(nsamp * 0.2)\n",
    "ntrain = nsamp - ntest\n",
    "x_test = x[-ntest:, :]\n",
    "y_test = y[-ntest:]\n",
    "y_test_old = y_old[-ntest:]\n",
    "x_train = x[:ntrain, :]\n",
    "y_train = y[:ntrain]"
   ]
  },
  {
   "cell_type": "markdown",
   "id": "ef804e84-f8e8-4ef9-8795-17561847c6e2",
   "metadata": {},
   "source": [
    "## PALS guideline"
   ]
  },
  {
   "cell_type": "code",
   "execution_count": 145,
   "id": "7fb873c5-a02c-4f9d-b0f5-4931816841ba",
   "metadata": {
    "execution": {
     "iopub.execute_input": "2023-02-16T07:35:39.846573Z",
     "iopub.status.busy": "2023-02-16T07:35:39.846199Z",
     "iopub.status.idle": "2023-02-16T07:35:39.859800Z",
     "shell.execute_reply": "2023-02-16T07:35:39.858970Z",
     "shell.execute_reply.started": "2023-02-16T07:35:39.846524Z"
    },
    "tags": []
   },
   "outputs": [
    {
     "name": "stdout",
     "output_type": "stream",
     "text": [
      "--------------\n",
      "old model = 3 * ETT size\n",
      "--------------\n",
      "explained_variance_score: 0.603\n",
      "mean_squared_errors: 3.097\n",
      "r2_score: 0.569\n"
     ]
    }
   ],
   "source": [
    "OLD_VAR = 'old_depth1'\n",
    "# OLD_VAR = 'old_tube_size'\n",
    "df[OLD_VAR] = 3 * df['airway_tube_size']\n",
    "#df[OLD_VAR] = df['airway_tube_size'].apply(lambda x: np.round((x / 4 + 4) * 2) / 2 if x >= 2 else (3.5 if x < 1 else 4)) \n",
    "#df[OLD_VAR] = df.apply(lambda x: x[OLD_VAR] - 0.5 if x['cuffed'] else x[OLD_VAR], axis=1)\n",
    "y_old = df[[OLD_VAR]].values.flatten().astype(float)\n",
    "y_test_old = y_old[-ntest:]\n",
    "\n",
    "print('--------------')\n",
    "print('old model = 3 * ETT size')\n",
    "print('--------------')\n",
    "print(f'explained_variance_score: {explained_variance_score(y_test, y_test_old):.3f}')\n",
    "print(f'mean_squared_errors: {mean_squared_error(y_test, y_test_old):.3f}')\n",
    "print(f'r2_score: {r2_score(y_test, y_test_old):.3f}')"
   ]
  },
  {
   "cell_type": "code",
   "execution_count": 144,
   "id": "2d6dd45f-e5c2-48ae-8d5c-a3426fecf697",
   "metadata": {
    "execution": {
     "iopub.execute_input": "2023-02-16T07:35:36.395066Z",
     "iopub.status.busy": "2023-02-16T07:35:36.394726Z",
     "iopub.status.idle": "2023-02-16T07:35:36.408690Z",
     "shell.execute_reply": "2023-02-16T07:35:36.407814Z",
     "shell.execute_reply.started": "2023-02-16T07:35:36.395030Z"
    },
    "tags": []
   },
   "outputs": [
    {
     "name": "stdout",
     "output_type": "stream",
     "text": [
      "--------------\n",
      "old model = 3 * age-based ETT size\n",
      "--------------\n",
      "explained_variance_score: 0.624\n",
      "mean_squared_errors: 2.808\n",
      "r2_score: 0.609\n"
     ]
    }
   ],
   "source": [
    "OLD_VAR = 'old_depth1'\n",
    "# OLD_VAR = 'old_tube_size'\n",
    "df[OLD_VAR] = 3 * df['old_tube_size']\n",
    "#df[OLD_VAR] = df['airway_tube_size'].apply(lambda x: np.round((x / 4 + 4) * 2) / 2 if x >= 2 else (3.5 if x < 1 else 4)) \n",
    "#df[OLD_VAR] = df.apply(lambda x: x[OLD_VAR] - 0.5 if x['cuffed'] else x[OLD_VAR], axis=1)\n",
    "y_old = df[[OLD_VAR]].values.flatten().astype(float)\n",
    "y_test_old = y_old[-ntest:]\n",
    "\n",
    "print('--------------')\n",
    "print('old model = 3 * age-based ETT size')\n",
    "print('--------------')\n",
    "print(f'explained_variance_score: {explained_variance_score(y_test, y_test_old):.3f}')\n",
    "print(f'mean_squared_errors: {mean_squared_error(y_test, y_test_old):.3f}')\n",
    "print(f'r2_score: {r2_score(y_test, y_test_old):.3f}')"
   ]
  },
  {
   "cell_type": "code",
   "execution_count": 143,
   "id": "fa1f696e-de27-456f-9a23-94193939c932",
   "metadata": {
    "execution": {
     "iopub.execute_input": "2023-02-16T07:35:33.685913Z",
     "iopub.status.busy": "2023-02-16T07:35:33.685296Z",
     "iopub.status.idle": "2023-02-16T07:35:33.702708Z",
     "shell.execute_reply": "2023-02-16T07:35:33.701747Z",
     "shell.execute_reply.started": "2023-02-16T07:35:33.685855Z"
    },
    "tags": []
   },
   "outputs": [
    {
     "name": "stdout",
     "output_type": "stream",
     "text": [
      "--------------\n",
      "old model = age / 2 + 12\n",
      "--------------\n",
      "explained_variance_score: 0.592\n",
      "mean_squared_errors: 2.977\n",
      "r2_score: 0.585\n"
     ]
    }
   ],
   "source": [
    "OLD_VAR = 'old_depth1'\n",
    "# OLD_VAR = 'old_tube_size'\n",
    "df[OLD_VAR] = df['age'] / 2 + 12\n",
    "#df[OLD_VAR] = df['airway_tube_size'].apply(lambda x: np.round((x / 4 + 4) * 2) / 2 if x >= 2 else (3.5 if x < 1 else 4)) \n",
    "#df[OLD_VAR] = df.apply(lambda x: x[OLD_VAR] - 0.5 if x['cuffed'] else x[OLD_VAR], axis=1)\n",
    "y_old = df[[OLD_VAR]].values.flatten().astype(float)\n",
    "y_test_old = y_old[-ntest:]\n",
    "\n",
    "print('--------------')\n",
    "print('old model = age / 2 + 12')\n",
    "print('--------------')\n",
    "print(f'explained_variance_score: {explained_variance_score(y_test, y_test_old):.3f}')\n",
    "print(f'mean_squared_errors: {mean_squared_error(y_test, y_test_old):.3f}')\n",
    "print(f'r2_score: {r2_score(y_test, y_test_old):.3f}')"
   ]
  },
  {
   "cell_type": "code",
   "execution_count": null,
   "id": "918fde95-9a06-4fba-9565-4b5ee50cf5d5",
   "metadata": {},
   "outputs": [],
   "source": []
  },
  {
   "cell_type": "code",
   "execution_count": null,
   "id": "519a8628-515e-4541-93a0-18136259c9c0",
   "metadata": {},
   "outputs": [],
   "source": []
  },
  {
   "cell_type": "code",
   "execution_count": 131,
   "id": "f7d6a6ac-5525-4362-a9c3-8e6c93e8a812",
   "metadata": {
    "execution": {
     "iopub.execute_input": "2023-02-16T07:08:51.640604Z",
     "iopub.status.busy": "2023-02-16T07:08:51.640128Z",
     "iopub.status.idle": "2023-02-16T07:09:15.496134Z",
     "shell.execute_reply": "2023-02-16T07:09:15.495458Z",
     "shell.execute_reply.started": "2023-02-16T07:08:51.640553Z"
    },
    "tags": []
   },
   "outputs": [
    {
     "name": "stderr",
     "output_type": "stream",
     "text": [
      "/home/painstudy/.local/lib/python3.8/site-packages/sklearn/model_selection/_search.py:292: UserWarning: The total space of parameters 36 is smaller than n_iter=100. Running 36 iterations. For exhaustive searches, use GridSearchCV.\n",
      "  warnings.warn(\n"
     ]
    },
    {
     "name": "stdout",
     "output_type": "stream",
     "text": [
      "Fitting 5 folds for each of 36 candidates, totalling 180 fits\n",
      "\n",
      "========= found hyperparameter =========\n",
      "{'subsample': 0.8, 'n_estimators': 100, 'max_depth': 4, 'colsample_bytree': 0.5}\n",
      "0.7925042013962639\n",
      "========================================\n",
      "--------------\n",
      "new model\n",
      "--------------\n",
      "explained_variance_score: 0.790\n",
      "mean_squared_errors: 1.561\n",
      "r2_score: 0.790\n"
     ]
    }
   ],
   "source": [
    "from sklearn.metrics import mean_absolute_error\n",
    "\n",
    "# age (일단위)\n",
    "param_dict = {\n",
    "                #'learning_rate': [ 0.05, 0.07, 0.1], #[0.01, 0.03, 0.05],\n",
    "                'max_depth': [4, 5, 7],#[3,4,5],\n",
    "                'n_estimators': [100, 200, 300],\n",
    "                #'n_estimators': [100],#[25, 50, 75, 100],\n",
    "                #'n_estimators': [50],\n",
    "                'subsample': [0.5, 0.8], #[0.5, 0.8, 1],\n",
    "                'colsample_bytree': [0.5, 0.8], #[0.8, 1],\n",
    "                #'gamma': [0.9], #[0.3, 0.5, 0.7, 0.9],\n",
    "                #'scale_pos_weight': [5, 10], #[1,10,30,100]\n",
    "            }\n",
    "nfold = 5\n",
    "gs = RandomizedSearchCV(n_iter=100,\n",
    "                        estimator=xgb.sklearn.XGBRegressor(),\n",
    "                        n_jobs=-1,\n",
    "                        verbose=5,\n",
    "                        param_distributions=param_dict, cv=nfold)\n",
    "gs.fit(x_train, y_train)\n",
    "model = gs.best_estimator_.get_booster()\n",
    "\n",
    "print()\n",
    "print(\"========= found hyperparameter =========\")\n",
    "print(gs.best_params_)\n",
    "print(gs.best_score_)\n",
    "print(\"========================================\")\n",
    "\n",
    "y_pred = gs.predict(x_test).flatten()\n",
    "\n",
    "\n",
    "print('--------------')\n",
    "print('new model')\n",
    "print('--------------')\n",
    "print(f'explained_variance_score: {explained_variance_score(y_test, y_pred):.3f}')\n",
    "print(f'mean_squared_errors: {mean_squared_error(y_test, y_pred):.3f}')\n",
    "print(f'mean_absolute_errors: {mean_absolute_error(y_test, y_pred):.3f}')\n",
    "print(f'r2_score: {r2_score(y_test, y_pred):.3f}')"
   ]
  },
  {
   "cell_type": "code",
   "execution_count": 133,
   "id": "db163d37-7ebf-4c1b-8922-3c0455743a88",
   "metadata": {
    "execution": {
     "iopub.execute_input": "2023-02-16T07:10:47.204182Z",
     "iopub.status.busy": "2023-02-16T07:10:47.203615Z",
     "iopub.status.idle": "2023-02-16T07:10:47.211539Z",
     "shell.execute_reply": "2023-02-16T07:10:47.210442Z",
     "shell.execute_reply.started": "2023-02-16T07:10:47.204125Z"
    },
    "tags": []
   },
   "outputs": [
    {
     "name": "stdout",
     "output_type": "stream",
     "text": [
      "acc(+-1cm): 0.700\n"
     ]
    }
   ],
   "source": [
    "print(f'acc(+-1cm): {np.mean((y_pred >= y_test-1) & (y_pred <= y_test+1)):.3f}')"
   ]
  },
  {
   "cell_type": "code",
   "execution_count": 134,
   "id": "a926bb7d-11ed-4f17-92c1-e3c19b7c1718",
   "metadata": {
    "execution": {
     "iopub.execute_input": "2023-02-16T07:11:49.386274Z",
     "iopub.status.busy": "2023-02-16T07:11:49.385707Z",
     "iopub.status.idle": "2023-02-16T07:11:49.395438Z",
     "shell.execute_reply": "2023-02-16T07:11:49.394409Z",
     "shell.execute_reply.started": "2023-02-16T07:11:49.386216Z"
    },
    "tags": []
   },
   "outputs": [
    {
     "data": {
      "text/plain": [
       "(7.589564, 20.347792, 1.5, 24.0)"
      ]
     },
     "execution_count": 134,
     "metadata": {},
     "output_type": "execute_result"
    }
   ],
   "source": [
    "np.min(y_pred), np.max(y_pred), np.min(y_test), np.max(y_test)"
   ]
  },
  {
   "cell_type": "code",
   "execution_count": null,
   "id": "110891bb-0798-4319-ba31-7e238770c7c4",
   "metadata": {},
   "outputs": [],
   "source": [
    "plt.figure(figsize=(8, 8))\n",
    "plt.xlim(2, 8)\n",
    "plt.ylim(2, 8)\n",
    "plt.scatter(xvals, yvals, c='blue', alpha=0.5, s=cvals, label='GBRT')\n",
    "plt.xlabel('Prediction')\n",
    "plt.ylabel('Ground Truth')\n",
    "lgnd = plt.legend()\n",
    "lgnd.legendHandles[0]._sizes = [30]\n",
    "plt.plot([2,8], [2,8], 'k-', alpha=0.1)\n",
    "plt.savefig('new.png')\n",
    "plt.close()"
   ]
  },
  {
   "cell_type": "code",
   "execution_count": null,
   "id": "aa282efc-4c55-4939-ab28-7e1001c7e251",
   "metadata": {},
   "outputs": [],
   "source": []
  },
  {
   "cell_type": "code",
   "execution_count": null,
   "id": "5a46de03-020a-43ab-a93d-3cb063c3e47c",
   "metadata": {},
   "outputs": [],
   "source": [
    "from sklearn.model_selection import GridSearchCV, RandomizedSearchCV\n",
    "from sklearn.metrics import explained_variance_score, mean_squared_error, mean_absolute_error, r2_score\n",
    "from sklearn.utils import shuffle\n",
    "import pandas as pd\n",
    "import xgboost as xgb\n",
    "import numpy as np\n",
    "import random, os, datetime, pickle\n",
    "import scipy\n",
    "import matplotlib.pyplot as plt\n",
    "import numpy as np\n",
    "import csv, math\n",
    "\n",
    "\n",
    "# tube.csv에 수술 시점 weight, height 추가\n",
    "df0 = pd.read_csv('tube.csv')\n",
    "df0.drop(columns=['weight', 'height'], inplace=True)\n",
    "df = pd.read_csv('demography_revised.csv')\n",
    "df = df0.merge(df[['opid', 'weight', 'height']], how='left', on='opid', suffixes=('_o',''))\n",
    "\n",
    "df.loc[df['weight'] <= 0, 'weight'] = None\n",
    "df.loc[df['height'] <= 0, 'height'] = None\n",
    "df['age'] = df['age'].astype(int)\n",
    "df = df.loc[df['airway_tube_type'] == 'plain']\n",
    "# [nan 'plain' 'RAE(oral)' 'reinforced' 'LMA' 'T-tube' 'CobraPLA', 'double lumen tube' 'RAE(nasal)' 'laser' 'combitube' 'univent']\n",
    "\n",
    "# age, sex, airway tube size 값이 없는 경우는 제외\n",
    "df.dropna(subset=['age', 'airway_tube_size'], inplace=True)\n",
    "df['sex'] = (df['sex'] == 'M')\n",
    "\n",
    "# 나이 계산 -> age_cal 열에 추가\n",
    "df_b = pd.read_csv('birth_sex.csv')\n",
    "df_b.rename(columns={'생년월일':'birth_date'}, inplace=True)\n",
    "df_b['birth_date'] = df_b['birth_date'].apply(lambda x: datetime.datetime.strptime(x, '%Y-%m-%d'))\n",
    "\n",
    "df_o = pd.read_csv('opdates.csv')\n",
    "df_o['opdate'] = df_o['opdate'].apply(lambda x: datetime.datetime.strptime(x, '%Y-%m-%d'))\n",
    "\n",
    "df1 = pd.merge(df_o, df_b, how='inner', on='hid')\n",
    "df1['age_cal'] = (df1['opdate'] - df1['birth_date'])/pd.Timedelta(days=365.2425)\n",
    "\n",
    "df = pd.merge(df, df1[['opid', 'age_cal', 'opdate', 'birth_date']], how='inner', on='opid')\n",
    "\n",
    "# inclusion criteria : 소아 10세 미만\n",
    "df = df.loc[df['age_cal'] < 10-0.01]\n",
    "df = df.loc[df['age_cal'] > 0]\n",
    "df['age'] = df['age_cal'].apply(lambda x: math.floor(x))\n",
    "\n",
    "\n",
    "# cuffed 여부와 fixed depth 추가\n",
    "df_t = pd.read_csv('tube_type.csv')\n",
    "df_t['cuffed'] = (df_t['cuffed'] == 1)\n",
    "\n",
    "df_f = pd.read_csv('tube_fixed.csv')\n",
    "\n",
    "# merge 하면서 cuffed 데이터가 없는 경우는 제외\n",
    "df = df.merge(df_f, how='left', on='opid')\n",
    "df = df.merge(df_t[['opid', 'cuffed']], how='inner', on='opid')\n",
    "\n",
    "# 중복되는 hid 경우 제외 (첫번째 수술기록만 가져오기)\n",
    "df = df.merge(df_o[['opid','hid']], how='inner', on='opid')\n",
    "df = df.loc[df[['hid', 'opid']].groupby('hid')['opid'].idxmin()]\n",
    "print(f'중복되는 hid는 첫번째 수술 외 제외: {len(df)}')\n",
    "\n",
    "perc = np.mean(df['cuffed'].values)\n",
    "print(f'소아 10세 미만에서 cuffed ETT 사용 비율: {perc:.3f}')\n",
    "print(f'소아 10세 미만 최종 opid수: {len(df)}')\n",
    "\n",
    "# age-based formula에 따른 ETT size\n",
    "OLD_VAR = 'old_tube_size'\n",
    "# df[OLD_VAR] = np.round((df['age'] / 4 + 4) * 2) / 2\n",
    "df[OLD_VAR] = df['age'].apply(lambda x: np.round((x / 4 + 4) * 2) / 2 if x >= 2 else (3.5 if x < 1 else 4)) \n",
    "df[OLD_VAR] = df.apply(lambda x: x[OLD_VAR] - 0.5 if x['cuffed'] else x[OLD_VAR], axis=1)\n",
    "\n",
    "\n",
    "# fixed depth를 output\n",
    "INPUT_VARS = ['age_cal','sex','weight','height', 'cuffed', 'airway_tube_size']\n",
    "TARGET_VAR = 'fixed'\n",
    "\n",
    "\n",
    "random.seed(98)\n",
    "#seed_everything(SEED)\n",
    "df.dropna(subset=['fixed'], inplace=True)\n",
    "df = df.loc[df['fixed']>=12]\n",
    "df = shuffle(df)\n",
    "df.reset_index(drop=True, inplace=True)\n",
    "y = df[[TARGET_VAR]].values.flatten().astype(float)\n",
    "x = df.loc[:, INPUT_VARS].values.astype(float)\n",
    "c = df['opid'].values.flatten().astype(int)\n",
    "\n",
    "# 저장하기\n",
    "pickle.dump(df, open(f'dataset/ETT_depth_12','wb'))\n",
    "np.savez(f'dataset/ETT_depth_12.npz', x=x, y=y, c=c)\n",
    "\n",
    "\n",
    "# training set의 뒤쪽 20%를 test set 으로 사용\n",
    "nsamp = len(y)\n",
    "ntest = int(nsamp * 0.2)\n",
    "ntrain = nsamp - ntest\n",
    "x_test = x[-ntest:, :]\n",
    "y_test = y[-ntest:]\n",
    "#y_test_old = y_old[-ntest:]\n",
    "x_train = x[:ntrain, :]\n",
    "y_train = y[:ntrain]\n",
    "\n",
    "print(f'x_train: {(x_train).shape}, x_test: {x_test.shape}')"
   ]
  },
  {
   "cell_type": "code",
   "execution_count": null,
   "id": "1199a418-47d7-49ac-9730-a6111239e442",
   "metadata": {},
   "outputs": [],
   "source": []
  },
  {
   "cell_type": "markdown",
   "id": "ece9d567-a283-4e1b-b209-54107c464ff0",
   "metadata": {},
   "source": [
    "# Comparison of each model"
   ]
  },
  {
   "cell_type": "code",
   "execution_count": 1,
   "id": "862c64fc-62bc-44af-ae66-c3605fe11826",
   "metadata": {
    "execution": {
     "iopub.execute_input": "2023-02-21T06:24:26.006776Z",
     "iopub.status.busy": "2023-02-21T06:24:26.006149Z",
     "iopub.status.idle": "2023-02-21T06:24:27.422267Z",
     "shell.execute_reply": "2023-02-21T06:24:27.421713Z",
     "shell.execute_reply.started": "2023-02-21T06:24:26.006629Z"
    },
    "tags": []
   },
   "outputs": [],
   "source": [
    "from sklearn.model_selection import GridSearchCV, RandomizedSearchCV\n",
    "from sklearn.metrics import explained_variance_score, mean_squared_error, mean_absolute_error, r2_score\n",
    "from sklearn.utils import shuffle\n",
    "import pandas as pd\n",
    "import xgboost as xgb\n",
    "import numpy as np\n",
    "import random, os, datetime, pickle\n",
    "import scipy\n",
    "import matplotlib.pyplot as plt\n",
    "import numpy as np\n",
    "import csv"
   ]
  },
  {
   "cell_type": "code",
   "execution_count": 2,
   "id": "2741e61f-7aec-48ef-809c-680b6a03677c",
   "metadata": {
    "execution": {
     "iopub.execute_input": "2023-02-21T06:24:27.935570Z",
     "iopub.status.busy": "2023-02-21T06:24:27.935298Z",
     "iopub.status.idle": "2023-02-21T06:24:28.146148Z",
     "shell.execute_reply": "2023-02-21T06:24:28.145301Z",
     "shell.execute_reply.started": "2023-02-21T06:24:27.935543Z"
    },
    "tags": []
   },
   "outputs": [
    {
     "name": "stdout",
     "output_type": "stream",
     "text": [
      "x_train: (27234, 5), x_test: (6808, 5)\n"
     ]
    }
   ],
   "source": [
    "dat = np.load(f'dataset/ETT_size.npz')\n",
    "x, y = dat['x'], dat['y']\n",
    "y_old  = dat['y_old']\n",
    "\n",
    "# training set의 뒤쪽 20%를 test set 으로 사용\n",
    "nsamp = len(y)\n",
    "ntest = int(nsamp * 0.2)\n",
    "ntrain = nsamp - ntest\n",
    "x_test = x[-ntest:, :]\n",
    "y_test = y[-ntest:]\n",
    "y_test_old = y_old[-ntest:]\n",
    "x_train = x[:ntrain, :]\n",
    "y_train = y[:ntrain]\n",
    "\n",
    "print(f'x_train: {(x_train).shape}, x_test: {x_test.shape}')\n",
    "\n",
    "\n",
    "from sklearn.experimental import enable_iterative_imputer\n",
    "from sklearn.impute import IterativeImputer\n",
    "from sklearn.preprocessing import StandardScaler\n",
    "\n",
    "imp = IterativeImputer().fit(x_train)\n",
    "x_train_imputed = imp.transform(x_train)\n",
    "x_test_imputed = imp.transform(x_test)"
   ]
  },
  {
   "cell_type": "code",
   "execution_count": 5,
   "id": "bcdced4d-e344-43f4-8648-88417b85f4c8",
   "metadata": {
    "execution": {
     "iopub.execute_input": "2023-02-18T06:16:33.517443Z",
     "iopub.status.busy": "2023-02-18T06:16:33.516873Z",
     "iopub.status.idle": "2023-02-18T06:16:33.701636Z",
     "shell.execute_reply": "2023-02-18T06:16:33.700970Z",
     "shell.execute_reply.started": "2023-02-18T06:16:33.517369Z"
    },
    "tags": []
   },
   "outputs": [],
   "source": [
    "from sklearn.experimental import enable_iterative_imputer\n",
    "from sklearn.impute import IterativeImputer\n",
    "from sklearn.preprocessing import StandardScaler\n",
    "\n",
    "imp = IterativeImputer().fit(x_train)\n",
    "x_train_imputed = imp.transform(x_train)\n",
    "x_test_imputed = imp.transform(x_test)"
   ]
  },
  {
   "cell_type": "code",
   "execution_count": 28,
   "id": "40548c8a-24f0-4507-ab10-aad0a90c4deb",
   "metadata": {
    "execution": {
     "iopub.execute_input": "2023-02-18T06:29:48.203880Z",
     "iopub.status.busy": "2023-02-18T06:29:48.203255Z",
     "iopub.status.idle": "2023-02-18T06:29:48.803906Z",
     "shell.execute_reply": "2023-02-18T06:29:48.803276Z",
     "shell.execute_reply.started": "2023-02-18T06:29:48.203827Z"
    },
    "tags": []
   },
   "outputs": [
    {
     "name": "stderr",
     "output_type": "stream",
     "text": [
      "/home/painstudy/.local/lib/python3.8/site-packages/xgboost/sklearn.py:782: UserWarning: Loading a native XGBoost model with Scikit-Learn interface.\n",
      "  warnings.warn(\"Loading a native XGBoost model with Scikit-Learn interface.\")\n"
     ]
    },
    {
     "name": "stdout",
     "output_type": "stream",
     "text": [
      "xgbr model acc: 0.601, acc(+-0.5mm): 0.966\n",
      "rf model acc: 0.595, acc(+-0.5mm): 0.963\n",
      "ensemble model acc: 0.598, acc(+-0.5mm): 0.965\n"
     ]
    }
   ],
   "source": [
    "# xgbr model\n",
    "xgbr = xgb.XGBRegressor()\n",
    "xgbr.load_model('result/size/acc1-0.601_acc3-0.966_XGBR_10fold/model.model')\n",
    "y_xgbr = xgbr.predict(x_test).flatten()\n",
    "y_xgbr1 = np.round(y_xgbr * 2) / 2\n",
    "acc3 = np.mean((y_xgbr1 >= y_test-0.5) & (y_xgbr1 <= y_test+0.5))\n",
    "print(f'xgbr model acc: {np.mean(y_xgbr1==y_test):.3f}, acc(+-0.5mm): {acc3:.3f}')\n",
    "\n",
    "\n",
    "# RF model\n",
    "rfr = pickle.load(open(f'result/size/acc1-0.595_acc3-0.963_RF_10fold/gridSearch','rb'))\n",
    "y_rfr = rfr.predict(x_test_imputed).flatten()\n",
    "y_rfr1 = np.round(y_rfr * 2) / 2\n",
    "acc3 = np.mean((y_rfr1 >= y_test-0.5) & (y_rfr1 <= y_test+0.5))\n",
    "print(f'rf model acc: {np.mean(y_rfr1==y_test):.3f}, acc(+-0.5mm): {acc3:.3f}')\n",
    "\n",
    "# ensemble\n",
    "y_ens = (y_xgbr*3 + y_rfr*2) / 5\n",
    "y_ens = np.round(y_ens * 2) / 2\n",
    "acc3 = np.mean((y_ens >= y_test-0.5) & (y_ens <= y_test+0.5))\n",
    "print(f'ensemble model acc: {np.mean(y_ens==y_test):.3f}, acc(+-0.5mm): {acc3:.3f}')\n"
   ]
  },
  {
   "cell_type": "code",
   "execution_count": 24,
   "id": "de6b8499-f74c-4559-b83b-fad5faedc7a0",
   "metadata": {
    "execution": {
     "iopub.execute_input": "2023-02-18T06:19:15.706037Z",
     "iopub.status.busy": "2023-02-18T06:19:15.705538Z",
     "iopub.status.idle": "2023-02-18T06:19:15.715264Z",
     "shell.execute_reply": "2023-02-18T06:19:15.713829Z",
     "shell.execute_reply.started": "2023-02-18T06:19:15.705988Z"
    },
    "tags": []
   },
   "outputs": [
    {
     "data": {
      "text/plain": [
       "0.8858695652173914"
      ]
     },
     "execution_count": 24,
     "metadata": {},
     "output_type": "execute_result"
    }
   ],
   "source": [
    "np.mean(y_xgbr==y_rbr)"
   ]
  },
  {
   "cell_type": "markdown",
   "id": "1bd27d13-d233-4139-879a-adfc494c9278",
   "metadata": {},
   "source": [
    "## Cole's formula (age 내림으로 수정)"
   ]
  },
  {
   "cell_type": "code",
   "execution_count": null,
   "id": "e8b4caf7-28ef-43bf-95b6-a2b9a013749d",
   "metadata": {},
   "outputs": [],
   "source": [
    "5 -> 5/4 + 4 = 5.25 -> 10.5 -> round down 10/2 = 5\n",
    "6 -> 6/4 + 4 = 5.5 -> 11 / 2 = 5.5\n",
    "7 -> 7/4 + 4 = 5.75 -> 11.5 -> 11/2=5.5"
   ]
  },
  {
   "cell_type": "code",
   "execution_count": 49,
   "id": "d4e67fb0-24d9-4ce8-9bfa-e7e1fe7bf964",
   "metadata": {
    "execution": {
     "iopub.execute_input": "2023-02-18T07:31:55.089712Z",
     "iopub.status.busy": "2023-02-18T07:31:55.089118Z",
     "iopub.status.idle": "2023-02-18T07:31:55.217331Z",
     "shell.execute_reply": "2023-02-18T07:31:55.216645Z",
     "shell.execute_reply.started": "2023-02-18T07:31:55.089657Z"
    },
    "tags": []
   },
   "outputs": [],
   "source": [
    "import math\n",
    "df_cole = pd.DataFrame({'age_cal':x_test[:,0], 'cuffed':x_test[:,4]})\n",
    "df_cole['age'] = df_cole['age_cal'].apply(lambda x: math.floor(x))\n",
    "\n",
    "OLD_VAR = 'old_tube_size'\n",
    "df_cole[OLD_VAR] = df_cole['age'].apply(lambda x: math.floor((x / 4 + 4) * 2) / 2 if x >= 2 else (3.5 if x < 1 else 4)) \n",
    "df_cole[OLD_VAR] = df_cole.apply(lambda x: x[OLD_VAR] - 0.5 if x['cuffed'] else x[OLD_VAR], axis=1)\n",
    "\n",
    "y_old = df_cole[[OLD_VAR]].values.flatten().astype(float)\n",
    "y_test_old = y_old[-ntest:]"
   ]
  },
  {
   "cell_type": "code",
   "execution_count": 50,
   "id": "4e1176be-7c75-489c-bd81-7ee79518dcd8",
   "metadata": {
    "execution": {
     "iopub.execute_input": "2023-02-18T07:31:56.523775Z",
     "iopub.status.busy": "2023-02-18T07:31:56.523350Z",
     "iopub.status.idle": "2023-02-18T07:31:56.538382Z",
     "shell.execute_reply": "2023-02-18T07:31:56.537523Z",
     "shell.execute_reply.started": "2023-02-18T07:31:56.523731Z"
    },
    "tags": []
   },
   "outputs": [
    {
     "name": "stdout",
     "output_type": "stream",
     "text": [
      "--------------\n",
      "old model = age/4+4\n",
      "--------------\n",
      "explained_variance_score: 0.817\n",
      "mean_squared_errors: 0.321\n",
      "mean_absolute_errors: 0.449\n",
      "r2_score: 0.676\n",
      "acc: 0.276\n",
      "acc(+-0.5mm): 0.841\n"
     ]
    }
   ],
   "source": [
    "print('--------------')\n",
    "print('old model = age/4+4')\n",
    "print('--------------')\n",
    "print(f'explained_variance_score: {explained_variance_score(y_test, y_test_old):.3f}')\n",
    "print(f'mean_squared_errors: {mean_squared_error(y_test, y_test_old):.3f}')\n",
    "print(f'mean_absolute_errors: {mean_absolute_error(y_test, y_test_old):.3f}')\n",
    "print(f'r2_score: {r2_score(y_test, y_test_old):.3f}')\n",
    "# accuracy\n",
    "acc1 = np.mean(y_test_old==y_test)\n",
    "acc3 = np.mean((y_test_old >= y_test-0.5) & (y_test_old <= y_test+0.5))\n",
    "print(f'acc: {acc1:.3f}')\n",
    "print(f'acc(+-0.5mm): {acc3:.3f}')"
   ]
  },
  {
   "cell_type": "code",
   "execution_count": 64,
   "id": "d39990c3-e328-42f8-b4ee-134c40032882",
   "metadata": {
    "execution": {
     "iopub.execute_input": "2023-02-19T04:32:20.841644Z",
     "iopub.status.busy": "2023-02-19T04:32:20.841281Z",
     "iopub.status.idle": "2023-02-19T04:32:20.855190Z",
     "shell.execute_reply": "2023-02-19T04:32:20.854392Z",
     "shell.execute_reply.started": "2023-02-19T04:32:20.841610Z"
    },
    "tags": []
   },
   "outputs": [
    {
     "name": "stdout",
     "output_type": "stream",
     "text": [
      "--------------\n",
      "old model = age/4+4\n",
      "--------------\n",
      "explained_variance_score: 0.629\n",
      "mean_squared_errors: 0.352\n",
      "mean_absolute_errors: 0.478\n",
      "r2_score: 0.188\n",
      "acc: 0.247\n",
      "acc(+-0.5mm): 0.815\n"
     ]
    }
   ],
   "source": [
    "age_mask = (x_test[:,0] >= 2)\n",
    "\n",
    "y_test_old1 = y_test_old[age_mask]\n",
    "y_test1 = y_test[age_mask]\n",
    "\n",
    "\n",
    "print('--------------')\n",
    "print('old model = age/4+4')\n",
    "print('--------------')\n",
    "print(f'explained_variance_score: {explained_variance_score(y_test1, y_test_old1):.3f}')\n",
    "print(f'mean_squared_errors: {mean_squared_error(y_test1, y_test_old1):.3f}')\n",
    "print(f'mean_absolute_errors: {mean_absolute_error(y_test1, y_test_old1):.3f}')\n",
    "print(f'r2_score: {r2_score(y_test1, y_test_old1):.3f}')\n",
    "# accuracy\n",
    "acc1 = np.mean(y_test_old1==y_test1)\n",
    "acc3 = np.mean((y_test_old1 >= y_test1-0.5) & (y_test_old1 <= y_test1+0.5))\n",
    "print(f'acc: {acc1:.3f}')\n",
    "print(f'acc(+-0.5mm): {acc3:.3f}')"
   ]
  },
  {
   "cell_type": "code",
   "execution_count": 66,
   "id": "9f4bbd1a-af3a-4964-9e3b-a5ce0117ce97",
   "metadata": {
    "execution": {
     "iopub.execute_input": "2023-02-19T04:39:26.096645Z",
     "iopub.status.busy": "2023-02-19T04:39:26.096101Z",
     "iopub.status.idle": "2023-02-19T04:39:27.747954Z",
     "shell.execute_reply": "2023-02-19T04:39:27.747456Z",
     "shell.execute_reply.started": "2023-02-19T04:39:26.096590Z"
    },
    "tags": []
   },
   "outputs": [
    {
     "data": {
      "text/plain": [
       "[<matplotlib.lines.Line2D at 0x7f8ab0290fd0>]"
      ]
     },
     "execution_count": 66,
     "metadata": {},
     "output_type": "execute_result"
    },
    {
     "data": {
      "image/png": "[encoded data removed]",
      "text/plain": [
       "<Figure size 576x576 with 1 Axes>"
      ]
     },
     "metadata": {
      "needs_background": "light"
     },
     "output_type": "display_data"
    }
   ],
   "source": [
    "xvals = []\n",
    "yvals = []\n",
    "cvals = []\n",
    "cvals_old = []\n",
    "for x in np.arange(3, 8, 0.5):\n",
    "    for y in np.arange(3, 8, 0.5):\n",
    "        xvals.append(x)\n",
    "        yvals.append(y)\n",
    "        #cvals.append(sum((y_pred == x) & (y_test == y)))\n",
    "        cvals_old.append(sum((y_test_old == x) & (y_test == y)))\n",
    "xvals = np.array(xvals)\n",
    "yvals = np.array(yvals)\n",
    "#cvals = np.array(cvals) / 2\n",
    "cvals_old = np.array(cvals_old) / 2\n",
    "\n",
    "plt.figure(figsize=(8, 8))\n",
    "plt.xlim(2, 8)\n",
    "plt.ylim(2, 8)\n",
    "plt.scatter(xvals, yvals, c='red', alpha=0.5, s=cvals_old, label='4+AGE/4')\n",
    "plt.xlabel('Prediction')\n",
    "plt.ylabel('Ground Truth')\n",
    "lgnd = plt.legend()\n",
    "lgnd.legendHandles[0]._sizes = [30]\n",
    "plt.plot([2,8], [2,8], 'k-', alpha=0.1)\n",
    "plt.plot([2.5,8], [2,7.5], '--k', alpha=0.1)\n",
    "plt.plot([2,7.5], [2.5,8], '--k', alpha=0.1)"
   ]
  },
  {
   "cell_type": "code",
   "execution_count": 42,
   "id": "f3808650-a18f-4e9f-90f2-6fe05961ad55",
   "metadata": {
    "execution": {
     "iopub.execute_input": "2023-02-18T07:29:20.315900Z",
     "iopub.status.busy": "2023-02-18T07:29:20.315650Z",
     "iopub.status.idle": "2023-02-18T07:29:21.031224Z",
     "shell.execute_reply": "2023-02-18T07:29:21.030565Z",
     "shell.execute_reply.started": "2023-02-18T07:29:20.315876Z"
    },
    "tags": []
   },
   "outputs": [
    {
     "name": "stdout",
     "output_type": "stream",
     "text": [
      "--------------\n",
      "old model = age/4+4\n",
      "--------------\n",
      "explained_variance_score: 0.805\n",
      "mean_squared_errors: 0.342\n",
      "mean_absolute_errors: 0.459\n",
      "r2_score: 0.655\n",
      "acc: 0.279\n",
      "acc(+-0.5mm): 0.823\n"
     ]
    }
   ],
   "source": [
    "import math\n",
    "\n",
    "# age-based formula에 따른 ETT size\n",
    "OLD_VAR = 'old_tube_size'\n",
    "# df[OLD_VAR] = np.round((df['age'] / 4 + 4) * 2) / 2\n",
    "df[OLD_VAR] = df['age'].apply(lambda x: math.floor((x / 4 + 4) * 2) / 2 if x >= 2 else (3.5 if x < 1 else 4)) \n",
    "df[OLD_VAR] = df.apply(lambda x: x[OLD_VAR] - 0.5 if x['cuffed'] else x[OLD_VAR], axis=1)\n",
    "\n",
    "SEED = 98\n",
    "INPUT_VARS = ['age_cal','sex','weight','height', 'cuffed']\n",
    "TARGET_VAR = 'airway_tube_size'\n",
    "\n",
    "\n",
    "random.seed(SEED)\n",
    "df = shuffle(df)\n",
    "df.reset_index(drop=True, inplace=True)\n",
    "y = df[[TARGET_VAR]].values.flatten().astype(float)\n",
    "c = df['opid'].values.flatten().astype(int)\n",
    "y_old = df[[OLD_VAR]].values.flatten().astype(float)\n",
    "x = df.loc[:, INPUT_VARS].values.astype(float)\n",
    "\n",
    "\n",
    "\n",
    "# training set의 뒤쪽 20%를 test set 으로 사용\n",
    "nsamp = len(y)\n",
    "ntest = int(nsamp * 0.2)\n",
    "ntrain = nsamp - ntest\n",
    "x_test = x[-ntest:, :]\n",
    "y_test = y[-ntest:]\n",
    "y_test_old = y_old[-ntest:]\n",
    "\n",
    "\n",
    "print('--------------')\n",
    "print('old model = age/4+4')\n",
    "print('--------------')\n",
    "print(f'explained_variance_score: {explained_variance_score(y_test, y_test_old):.3f}')\n",
    "print(f'mean_squared_errors: {mean_squared_error(y_test, y_test_old):.3f}')\n",
    "print(f'mean_absolute_errors: {mean_absolute_error(y_test, y_test_old):.3f}')\n",
    "print(f'r2_score: {r2_score(y_test, y_test_old):.3f}')\n",
    "# accuracy\n",
    "acc1 = np.mean(y_test_old==y_test)\n",
    "acc3 = np.mean((y_test_old >= y_test-0.5) & (y_test_old <= y_test+0.5))\n",
    "print(f'acc: {acc1:.3f}')\n",
    "print(f'acc(+-0.5mm): {acc3:.3f}')"
   ]
  },
  {
   "cell_type": "markdown",
   "id": "72c67473-ed3b-4f36-bc73-4d5066e8a227",
   "metadata": {},
   "source": [
    "# Demography"
   ]
  },
  {
   "cell_type": "code",
   "execution_count": 73,
   "id": "59d2ee99-1247-4e53-881f-af6ca6daf0f1",
   "metadata": {
    "execution": {
     "iopub.execute_input": "2023-02-21T16:14:43.879919Z",
     "iopub.status.busy": "2023-02-21T16:14:43.879404Z",
     "iopub.status.idle": "2023-02-21T16:14:43.889171Z",
     "shell.execute_reply": "2023-02-21T16:14:43.888153Z",
     "shell.execute_reply.started": "2023-02-21T16:14:43.879863Z"
    },
    "tags": []
   },
   "outputs": [
    {
     "data": {
      "text/plain": [
       "(0.02861171494036778, 0.01304271194406909)"
      ]
     },
     "execution_count": 73,
     "metadata": {},
     "output_type": "execute_result"
    }
   ],
   "source": [
    "np.mean(np.isnan(x[:,3])), np.mean(np.isnan(x[:,2]))"
   ]
  },
  {
   "cell_type": "code",
   "execution_count": 49,
   "id": "512b0949-2c48-471f-8393-be18919fd0b7",
   "metadata": {
    "execution": {
     "iopub.execute_input": "2023-02-21T07:19:36.810371Z",
     "iopub.status.busy": "2023-02-21T07:19:36.809877Z",
     "iopub.status.idle": "2023-02-21T07:19:36.820340Z",
     "shell.execute_reply": "2023-02-21T07:19:36.819314Z",
     "shell.execute_reply.started": "2023-02-21T07:19:36.810318Z"
    },
    "tags": []
   },
   "outputs": [
    {
     "data": {
      "text/plain": [
       "(1, 2, 144, 2)"
      ]
     },
     "execution_count": 49,
     "metadata": {},
     "output_type": "execute_result"
    }
   ],
   "source": [
    "height = x[:,3]\n",
    "weight = x[:,2]\n",
    "\n",
    "np.sum(weight>250), np.sum(height>200), np.sum(height<30), np.sum(weight<1)"
   ]
  },
  {
   "cell_type": "code",
   "execution_count": 50,
   "id": "7480d859-ac37-4a13-a8d0-1e833f3093d8",
   "metadata": {
    "execution": {
     "iopub.execute_input": "2023-02-21T07:21:12.151375Z",
     "iopub.status.busy": "2023-02-21T07:21:12.150785Z",
     "iopub.status.idle": "2023-02-21T07:21:12.161945Z",
     "shell.execute_reply": "2023-02-21T07:21:12.161087Z",
     "shell.execute_reply.started": "2023-02-21T07:21:12.151318Z"
    },
    "tags": []
   },
   "outputs": [
    {
     "data": {
      "text/plain": [
       "(array([236.7, 874.2]), array([28.8, 12.7]), array([90.]), array([1301.]))"
      ]
     },
     "execution_count": 50,
     "metadata": {},
     "output_type": "execute_result"
    }
   ],
   "source": [
    "height[height>200], weight[height>200], height[weight>200],    # height outlier는 train, test 하나씩, weight는 train에 하나\n"
   ]
  },
  {
   "cell_type": "code",
   "execution_count": 42,
   "id": "52f60f76-35b4-4e5b-afeb-bd4434f4726d",
   "metadata": {
    "execution": {
     "iopub.execute_input": "2023-02-21T07:16:35.752494Z",
     "iopub.status.busy": "2023-02-21T07:16:35.751901Z",
     "iopub.status.idle": "2023-02-21T07:16:35.983150Z",
     "shell.execute_reply": "2023-02-21T07:16:35.982529Z",
     "shell.execute_reply.started": "2023-02-21T07:16:35.752436Z"
    },
    "tags": []
   },
   "outputs": [
    {
     "name": "stdout",
     "output_type": "stream",
     "text": [
      "weight>250: 1(0.003%), height>200: 2(0.006%)\n"
     ]
    },
    {
     "data": {
      "text/plain": [
       "<matplotlib.collections.PathCollection at 0x7feac0279d30>"
      ]
     },
     "execution_count": 42,
     "metadata": {},
     "output_type": "execute_result"
    },
    {
     "data": {
      "image/png": "[encoded data removed]",
      "text/plain": [
       "<Figure size 432x288 with 1 Axes>"
      ]
     },
     "metadata": {
      "needs_background": "light"
     },
     "output_type": "display_data"
    }
   ],
   "source": [
    "# outlier 제거 (invalid value)\n",
    "height = x[:,3]\n",
    "weight = x[:,2]\n",
    "\n",
    "print(f'weight>250: {np.sum(weight>250)}({np.mean(weight>250)*100:.3f}%), height>200: {np.sum(height>200)}({np.mean(height>200)*100:.3f}%)') \n",
    "out_mask = (height<200) & (weight<250)\n",
    "#out_mask = np.logical_and(height<200, weight<250)\n",
    "#print(np.sum(~out_mask))\n",
    "\n",
    "height = height[out_mask]\n",
    "weight = weight[out_mask]\n",
    "\n",
    "plt.scatter(height, weight)\n",
    "#np.sum(height>200)\n",
    "#height = height[height<200]\n",
    "#np.max(height)"
   ]
  },
  {
   "cell_type": "code",
   "execution_count": 44,
   "id": "485ff728-9507-4012-aec4-54cd2c379417",
   "metadata": {
    "execution": {
     "iopub.execute_input": "2023-02-21T07:17:51.436321Z",
     "iopub.status.busy": "2023-02-21T07:17:51.435749Z",
     "iopub.status.idle": "2023-02-21T07:17:51.446295Z",
     "shell.execute_reply": "2023-02-21T07:17:51.445227Z",
     "shell.execute_reply.started": "2023-02-21T07:17:51.436265Z"
    },
    "tags": []
   },
   "outputs": [
    {
     "data": {
      "text/plain": [
       "(1301.0, 123.0, 236.7, 874.2)"
      ]
     },
     "execution_count": 44,
     "metadata": {},
     "output_type": "execute_result"
    }
   ],
   "source": [
    "np.nanmax(x_train[:,2]), np.nanmax(x_test[:,2]), np.nanmax(x_train[:,3]), np.nanmax(x_test[:,3])"
   ]
  },
  {
   "cell_type": "code",
   "execution_count": 6,
   "id": "b83daa57-7aeb-443f-b319-067190ec9b93",
   "metadata": {
    "execution": {
     "iopub.execute_input": "2023-02-21T06:28:22.428309Z",
     "iopub.status.busy": "2023-02-21T06:28:22.427726Z",
     "iopub.status.idle": "2023-02-21T06:28:22.449535Z",
     "shell.execute_reply": "2023-02-21T06:28:22.448707Z",
     "shell.execute_reply.started": "2023-02-21T06:28:22.428251Z"
    },
    "tags": []
   },
   "outputs": [
    {
     "name": "stdout",
     "output_type": "stream",
     "text": [
      "total x_train: 27234, x_test: 6808\n",
      "[age] \n",
      "train - mean : 3.51, std : 2.95\n",
      "test - mean : 3.46, std : 2.92\n",
      "\n",
      "[sex] \n",
      "train - female : 11271.0(0.414), male: 15963.0(0.586)\n",
      "test - female : 2846.0(0.418), male: 3962.0(0.582)\n",
      "\n",
      "[weight]  mean : 15.58, std : 12.33\n",
      "test - mean : 15.47, std : 9.53\n",
      "\n",
      "[height]  mean : 92.80, std : 26.42\n",
      "test - mean : 92.50, std : 27.78\n",
      "\n",
      "[cuff] cuffed : 7827.0(0.287), uncuffed: 19407.0(0.713)\n",
      "test - female : 0.715, male: 6807.715\n",
      "\n",
      "[tube size] \n",
      "train - mean : 4.75, std : 1.01\n",
      "test - mean : 4.74, std : 0.99\n",
      "\n"
     ]
    }
   ],
   "source": [
    "print(f'total x_train: {len(x_train)}, x_test: {len(x_test)}')\n",
    "# age\n",
    "print(f'[age] \\ntrain - mean : {np.mean(x_train[:,0]):.2f}, std : {np.std(x_train[:,0]):.2f}')\n",
    "print(f'test - mean : {np.mean(x_test[:,0]):.2f}, std : {np.std(x_test[:,0]):.2f}\\n')\n",
    "\n",
    "# sex\n",
    "print(f'[sex] \\ntrain - female : {len(x_train)-np.sum(x_train[:,1])}({1-np.mean(x_train[:,1]):.3f}), male: {np.sum(x_train[:,1])}({np.mean(x_train[:,1]):.3f})')\n",
    "print(f'test - female : {len(x_test)-np.sum(x_test[:,1])}({1-np.mean(x_test[:,1]):.3f}), male: {np.sum(x_test[:,1])}({np.mean(x_test[:,1]):.3f})\\n')\n",
    "\n",
    "\n",
    "# weight\n",
    "print(f'[weight]  mean : {np.nanmean(x_train[:,2]):.2f}, std : {np.nanstd(x_train[:,2]):.2f}')\n",
    "print(f'test - mean : {np.nanmean(x_test[:,2]):.2f}, std : {np.nanstd(x_test[:,2]):.2f}\\n')\n",
    "\n",
    "# height\n",
    "print(f'[height]  mean : {np.nanmean(x_train[:,3]):.2f}, std : {np.nanstd(x_train[:,3]):.2f}')\n",
    "print(f'test - mean : {np.nanmean(x_test[:,3]):.2f}, std : {np.nanstd(x_test[:,3]):.2f}\\n')\n",
    "\n",
    "# cuff\n",
    "print(f'[cuff] cuffed : {np.sum(x_train[:,4])}({np.mean(x_train[:,4]):.3f}), uncuffed: {len(x_train)-np.sum(x_train[:,4])}({1-np.mean(x_train[:,4]):.3f})')\n",
    "print(f'test - female : {np.sum(x_test[:,4])}({1-np.mean(x_test[:,4]):.3f}), male: {len(x_test)-np.sum(x_test[:,4])}({len(x_test)-np.mean(x_test[:,4]):.3f})\\n')\n",
    "\n",
    "# tube size\n",
    "print(f'[tube size] \\ntrain - mean : {np.mean(y_train):.2f}, std : {np.std(y_train):.2f}')\n",
    "print(f'test - mean : {np.mean(y_test):.2f}, std : {np.std(y_test):.2f}\\n')"
   ]
  },
  {
   "cell_type": "code",
   "execution_count": 59,
   "id": "78d81e49-1f5b-4936-9f5d-167fa4f651de",
   "metadata": {
    "execution": {
     "iopub.execute_input": "2023-02-21T11:58:47.493993Z",
     "iopub.status.busy": "2023-02-21T11:58:47.493419Z",
     "iopub.status.idle": "2023-02-21T11:58:47.509053Z",
     "shell.execute_reply": "2023-02-21T11:58:47.508331Z",
     "shell.execute_reply.started": "2023-02-21T11:58:47.493939Z"
    },
    "tags": []
   },
   "outputs": [
    {
     "name": "stdout",
     "output_type": "stream",
     "text": [
      "[weight]  mean : 15.52, std : 9.39\n",
      "test - mean : 15.47, std : 9.53\n",
      "\n",
      "[height]  mean : 93.16, std : 25.81\n",
      "test - mean : 92.79, std : 25.44\n",
      "\n"
     ]
    }
   ],
   "source": [
    "height = x[:,3]\n",
    "weight = x[:,2]\n",
    "\n",
    "x[np.where((height>175) | (height<30))[0],3] = None\n",
    "x[np.where((weight>150) | (weight<1))[0],2] = None\n",
    "\n",
    "x_train = x[:ntrain]\n",
    "x_test = x[-ntest:]\n",
    "\n",
    "\n",
    "# weight\n",
    "print(f'[weight]  mean : {np.nanmean(x_train[:,2]):.2f}, std : {np.nanstd(x_train[:,2]):.2f}')\n",
    "print(f'test - mean : {np.nanmean(x_test[:,2]):.2f}, std : {np.nanstd(x_test[:,2]):.2f}\\n')\n",
    "\n",
    "# height\n",
    "print(f'[height]  mean : {np.nanmean(x_train[:,3]):.2f}, std : {np.nanstd(x_train[:,3]):.2f}')\n",
    "print(f'test - mean : {np.nanmean(x_test[:,3]):.2f}, std : {np.nanstd(x_test[:,3]):.2f}\\n')"
   ]
  },
  {
   "cell_type": "code",
   "execution_count": 58,
   "id": "a5156a8f-d50e-4885-ae6c-872905aeeea7",
   "metadata": {
    "execution": {
     "iopub.execute_input": "2023-02-21T11:57:13.589190Z",
     "iopub.status.busy": "2023-02-21T11:57:13.588647Z",
     "iopub.status.idle": "2023-02-21T11:57:13.598771Z",
     "shell.execute_reply": "2023-02-21T11:57:13.597745Z",
     "shell.execute_reply.started": "2023-02-21T11:57:13.589137Z"
    },
    "tags": []
   },
   "outputs": [
    {
     "data": {
      "text/plain": [
       "(199.0, 123.0, 189.9, 157.8)"
      ]
     },
     "execution_count": 58,
     "metadata": {},
     "output_type": "execute_result"
    }
   ],
   "source": [
    "np.nanmax(x_train[:,2]), np.nanmax(x_test[:,2]), np.nanmax(x_train[:,3]), np.nanmax(x_test[:,3])"
   ]
  },
  {
   "cell_type": "code",
   "execution_count": 61,
   "id": "4b39a846-7ae1-4681-b815-bac18960ee97",
   "metadata": {
    "execution": {
     "iopub.execute_input": "2023-02-21T12:02:36.107610Z",
     "iopub.status.busy": "2023-02-21T12:02:36.107040Z",
     "iopub.status.idle": "2023-02-21T12:02:36.116135Z",
     "shell.execute_reply": "2023-02-21T12:02:36.115287Z",
     "shell.execute_reply.started": "2023-02-21T12:02:36.107555Z"
    },
    "tags": []
   },
   "outputs": [
    {
     "name": "stdout",
     "output_type": "stream",
     "text": [
      "[cuff] cuffed : 7827.0(0.287), uncuffed: 19407.0(0.713)\n",
      "test - female : 1941.0(0.285), male: 4867.0(0.715)\n",
      "\n"
     ]
    }
   ],
   "source": [
    "# cuff\n",
    "print(f'[cuff] cuffed : {np.sum(x_train[:,4])}({np.mean(x_train[:,4]):.3f}), uncuffed: {len(x_train)-np.sum(x_train[:,4])}({1-np.mean(x_train[:,4]):.3f})')\n",
    "print(f'test - female : {np.sum(x_test[:,4])}({np.mean(x_test[:,4]):.3f}), male: {len(x_test)-np.sum(x_test[:,4])}({1-np.mean(x_test[:,4]):.3f})\\n')"
   ]
  },
  {
   "cell_type": "markdown",
   "id": "13e3a38e-8a30-41f1-81c9-649ebecf0a8f",
   "metadata": {},
   "source": [
    "## Sex 별 demo"
   ]
  },
  {
   "cell_type": "code",
   "execution_count": 77,
   "id": "17cfe498-63eb-4ccc-bb48-c547f899108c",
   "metadata": {
    "execution": {
     "iopub.execute_input": "2023-02-22T00:27:50.109893Z",
     "iopub.status.busy": "2023-02-22T00:27:50.109332Z",
     "iopub.status.idle": "2023-02-22T00:27:50.121033Z",
     "shell.execute_reply": "2023-02-22T00:27:50.119990Z",
     "shell.execute_reply.started": "2023-02-22T00:27:50.109839Z"
    },
    "tags": []
   },
   "outputs": [
    {
     "name": "stdout",
     "output_type": "stream",
     "text": [
      "total x_train: 27234, x_test: 6808\n",
      "[age] \n",
      "train - (male) mean : 3.43, std : 2.93\t\n",
      "(female) mean : 3.60, std: 2.97\n"
     ]
    }
   ],
   "source": [
    "print(f'total x_train: {len(x_train)}, x_test: {len(x_test)}')\n",
    "m_mask = (x[:,1]==1)\n",
    "f_mask = (x[:,1]==0)\n",
    "\n",
    "# age\n",
    "print(f'[age] \\ntrain - (male) mean : {np.mean(x[m_mask,0]):.2f}, std : {np.std(x[m_mask,0]):.2f}\\t\\n(female) mean : {np.mean(x[f_mask,0]):.2f}, std: {np.std(x[f_mask,0]):.2f}')"
   ]
  },
  {
   "cell_type": "code",
   "execution_count": null,
   "id": "eb3acc66-f6d0-49cd-82e6-a518b5b0f038",
   "metadata": {},
   "outputs": [],
   "source": [
    "print(f'total x_train: {len(x_train)}, x_test: {len(x_test)}')\n",
    "m_mask = (x[:,1]==1)\n",
    "f_mask = (x[:,1]==0)\n",
    "\n",
    "# age\n",
    "print(f'[age] \\ntrain - (male) mean : {np.mean(x_train[m_mask,0]):.2f}, (female) mean : {np.mean(x_train[f_mask,0]):.2f}')\n",
    "print(f'test - mean : {np.mean(x_test[:,0]):.2f}, std : {np.std(x_test[:,0]):.2f}\\n')\n",
    "\n",
    "# sex\n",
    "print(f'[sex] \\ntrain - female : {len(x_train)-np.sum(x_train[:,1])}({1-np.mean(x_train[:,1]):.3f}), male: {np.sum(x_train[:,1])}({np.mean(x_train[:,1]):.3f})')\n",
    "print(f'test - female : {len(x_test)-np.sum(x_test[:,1])}({1-np.mean(x_test[:,1]):.3f}), male: {np.sum(x_test[:,1])}({np.mean(x_test[:,1]):.3f})\\n')\n",
    "\n",
    "\n",
    "# weight\n",
    "print(f'[weight]  mean : {np.nanmean(x_train[:,2]):.2f}, std : {np.nanstd(x_train[:,2]):.2f}')\n",
    "print(f'test - mean : {np.nanmean(x_test[:,2]):.2f}, std : {np.nanstd(x_test[:,2]):.2f}\\n')\n",
    "\n",
    "# height\n",
    "print(f'[height]  mean : {np.nanmean(x_train[:,3]):.2f}, std : {np.nanstd(x_train[:,3]):.2f}')\n",
    "print(f'test - mean : {np.nanmean(x_test[:,3]):.2f}, std : {np.nanstd(x_test[:,3]):.2f}\\n')\n",
    "\n",
    "# cuff\n",
    "print(f'[cuff] cuffed : {np.sum(x_train[:,4])}({np.mean(x_train[:,4]):.3f}), uncuffed: {len(x_train)-np.sum(x_train[:,4])}({1-np.mean(x_train[:,4]):.3f})')\n",
    "print(f'test - female : {np.sum(x_test[:,4])}({1-np.mean(x_test[:,4]):.3f}), male: {len(x_test)-np.sum(x_test[:,4])}({len(x_test)-np.mean(x_test[:,4]):.3f})\\n')\n",
    "\n",
    "# tube size\n",
    "print(f'[tube size] \\ntrain - mean : {np.mean(y_train):.2f}, std : {np.std(y_train):.2f}')\n",
    "print(f'test - mean : {np.mean(y_test):.2f}, std : {np.std(y_test):.2f}\\n')"
   ]
  },
  {
   "cell_type": "code",
   "execution_count": null,
   "id": "939eba04-40d8-4344-94c7-66bb9397fa84",
   "metadata": {},
   "outputs": [],
   "source": []
  },
  {
   "cell_type": "markdown",
   "id": "f8298889-8634-4b8b-821f-8ee0e88cb5f7",
   "metadata": {
    "tags": []
   },
   "source": [
    "### Imputation 확인"
   ]
  },
  {
   "cell_type": "code",
   "execution_count": 78,
   "id": "c201f6d9-e89a-4fca-a908-3f99d2378071",
   "metadata": {
    "execution": {
     "iopub.execute_input": "2023-02-19T07:05:37.709511Z",
     "iopub.status.busy": "2023-02-19T07:05:37.708999Z",
     "iopub.status.idle": "2023-02-19T07:05:37.730128Z",
     "shell.execute_reply": "2023-02-19T07:05:37.729274Z",
     "shell.execute_reply.started": "2023-02-19T07:05:37.709457Z"
    },
    "tags": []
   },
   "outputs": [
    {
     "data": {
      "text/html": [
       "<div>\n",
       "<style scoped>\n",
       "    .dataframe tbody tr th:only-of-type {\n",
       "        vertical-align: middle;\n",
       "    }\n",
       "\n",
       "    .dataframe tbody tr th {\n",
       "        vertical-align: top;\n",
       "    }\n",
       "\n",
       "    .dataframe thead th {\n",
       "        text-align: right;\n",
       "    }\n",
       "</style>\n",
       "<table border=\"1\" class=\"dataframe\">\n",
       "  <thead>\n",
       "    <tr style=\"text-align: right;\">\n",
       "      <th></th>\n",
       "      <th>0</th>\n",
       "      <th>1</th>\n",
       "      <th>2</th>\n",
       "      <th>3</th>\n",
       "      <th>4</th>\n",
       "    </tr>\n",
       "  </thead>\n",
       "  <tbody>\n",
       "    <tr>\n",
       "      <th>0</th>\n",
       "      <td>6.765368</td>\n",
       "      <td>0.0</td>\n",
       "      <td>20.65</td>\n",
       "      <td>116.0</td>\n",
       "      <td>0.0</td>\n",
       "    </tr>\n",
       "    <tr>\n",
       "      <th>1</th>\n",
       "      <td>1.582510</td>\n",
       "      <td>1.0</td>\n",
       "      <td>10.20</td>\n",
       "      <td>82.0</td>\n",
       "      <td>1.0</td>\n",
       "    </tr>\n",
       "    <tr>\n",
       "      <th>2</th>\n",
       "      <td>7.263667</td>\n",
       "      <td>0.0</td>\n",
       "      <td>24.15</td>\n",
       "      <td>121.5</td>\n",
       "      <td>1.0</td>\n",
       "    </tr>\n",
       "    <tr>\n",
       "      <th>3</th>\n",
       "      <td>1.056832</td>\n",
       "      <td>0.0</td>\n",
       "      <td>9.80</td>\n",
       "      <td>73.7</td>\n",
       "      <td>1.0</td>\n",
       "    </tr>\n",
       "    <tr>\n",
       "      <th>4</th>\n",
       "      <td>4.438147</td>\n",
       "      <td>0.0</td>\n",
       "      <td>19.90</td>\n",
       "      <td>99.0</td>\n",
       "      <td>0.0</td>\n",
       "    </tr>\n",
       "    <tr>\n",
       "      <th>...</th>\n",
       "      <td>...</td>\n",
       "      <td>...</td>\n",
       "      <td>...</td>\n",
       "      <td>...</td>\n",
       "      <td>...</td>\n",
       "    </tr>\n",
       "    <tr>\n",
       "      <th>27229</th>\n",
       "      <td>5.774246</td>\n",
       "      <td>1.0</td>\n",
       "      <td>24.75</td>\n",
       "      <td>118.6</td>\n",
       "      <td>0.0</td>\n",
       "    </tr>\n",
       "    <tr>\n",
       "      <th>27230</th>\n",
       "      <td>0.309383</td>\n",
       "      <td>1.0</td>\n",
       "      <td>4.20</td>\n",
       "      <td>49.7</td>\n",
       "      <td>1.0</td>\n",
       "    </tr>\n",
       "    <tr>\n",
       "      <th>27231</th>\n",
       "      <td>1.451091</td>\n",
       "      <td>1.0</td>\n",
       "      <td>9.70</td>\n",
       "      <td>83.9</td>\n",
       "      <td>1.0</td>\n",
       "    </tr>\n",
       "    <tr>\n",
       "      <th>27232</th>\n",
       "      <td>1.273127</td>\n",
       "      <td>1.0</td>\n",
       "      <td>14.00</td>\n",
       "      <td>90.0</td>\n",
       "      <td>0.0</td>\n",
       "    </tr>\n",
       "    <tr>\n",
       "      <th>27233</th>\n",
       "      <td>1.686551</td>\n",
       "      <td>1.0</td>\n",
       "      <td>13.50</td>\n",
       "      <td>88.0</td>\n",
       "      <td>0.0</td>\n",
       "    </tr>\n",
       "  </tbody>\n",
       "</table>\n",
       "<p>27234 rows × 5 columns</p>\n",
       "</div>"
      ],
      "text/plain": [
       "              0    1      2      3    4\n",
       "0      6.765368  0.0  20.65  116.0  0.0\n",
       "1      1.582510  1.0  10.20   82.0  1.0\n",
       "2      7.263667  0.0  24.15  121.5  1.0\n",
       "3      1.056832  0.0   9.80   73.7  1.0\n",
       "4      4.438147  0.0  19.90   99.0  0.0\n",
       "...         ...  ...    ...    ...  ...\n",
       "27229  5.774246  1.0  24.75  118.6  0.0\n",
       "27230  0.309383  1.0   4.20   49.7  1.0\n",
       "27231  1.451091  1.0   9.70   83.9  1.0\n",
       "27232  1.273127  1.0  14.00   90.0  0.0\n",
       "27233  1.686551  1.0  13.50   88.0  0.0\n",
       "\n",
       "[27234 rows x 5 columns]"
      ]
     },
     "execution_count": 78,
     "metadata": {},
     "output_type": "execute_result"
    }
   ],
   "source": [
    "df_train"
   ]
  },
  {
   "cell_type": "code",
   "execution_count": 84,
   "id": "4ae06aa8-ee96-45a9-b14c-b3cbe5caf846",
   "metadata": {
    "execution": {
     "iopub.execute_input": "2023-02-19T07:08:10.149688Z",
     "iopub.status.busy": "2023-02-19T07:08:10.149135Z",
     "iopub.status.idle": "2023-02-19T07:08:10.158112Z",
     "shell.execute_reply": "2023-02-19T07:08:10.157311Z",
     "shell.execute_reply.started": "2023-02-19T07:08:10.149634Z"
    },
    "tags": []
   },
   "outputs": [
    {
     "data": {
      "text/plain": [
       "0     6.987139\n",
       "1     0.000000\n",
       "2    28.000000\n",
       "3          NaN\n",
       "4     0.000000\n",
       "Name: 114, dtype: float64"
      ]
     },
     "execution_count": 84,
     "metadata": {},
     "output_type": "execute_result"
    }
   ],
   "source": [
    "df_train.loc[114]"
   ]
  },
  {
   "cell_type": "code",
   "execution_count": 83,
   "id": "98d5ecef-788c-4ebf-8b79-763de2a68742",
   "metadata": {
    "execution": {
     "iopub.execute_input": "2023-02-19T07:08:03.684425Z",
     "iopub.status.busy": "2023-02-19T07:08:03.683932Z",
     "iopub.status.idle": "2023-02-19T07:08:03.693233Z",
     "shell.execute_reply": "2023-02-19T07:08:03.692203Z",
     "shell.execute_reply.started": "2023-02-19T07:08:03.684372Z"
    },
    "tags": []
   },
   "outputs": [
    {
     "data": {
      "text/plain": [
       "114"
      ]
     },
     "execution_count": 83,
     "metadata": {},
     "output_type": "execute_result"
    }
   ],
   "source": [
    "df_train = pd.DataFrame(x_train)\n",
    "df_train[3].isnull().tolist().index(1)"
   ]
  },
  {
   "cell_type": "code",
   "execution_count": 85,
   "id": "e3126fad-016e-4d8f-887e-2066467b2826",
   "metadata": {
    "execution": {
     "iopub.execute_input": "2023-02-19T07:08:33.204623Z",
     "iopub.status.busy": "2023-02-19T07:08:33.204082Z",
     "iopub.status.idle": "2023-02-19T07:08:33.326266Z",
     "shell.execute_reply": "2023-02-19T07:08:33.325564Z",
     "shell.execute_reply.started": "2023-02-19T07:08:33.204567Z"
    },
    "tags": []
   },
   "outputs": [],
   "source": [
    "from sklearn.experimental import enable_iterative_imputer\n",
    "from sklearn.impute import IterativeImputer\n",
    "\n",
    "imp = IterativeImputer().fit(x_train)\n",
    "x_train_imputed = imp.transform(x_train)\n",
    "x_test_imputed = imp.transform(x_test)"
   ]
  },
  {
   "cell_type": "code",
   "execution_count": 86,
   "id": "c06a4df0-94ad-4edb-87c0-24651e9bab22",
   "metadata": {
    "execution": {
     "iopub.execute_input": "2023-02-19T07:09:10.169987Z",
     "iopub.status.busy": "2023-02-19T07:09:10.169392Z",
     "iopub.status.idle": "2023-02-19T07:09:10.181056Z",
     "shell.execute_reply": "2023-02-19T07:09:10.179999Z",
     "shell.execute_reply.started": "2023-02-19T07:09:10.169932Z"
    },
    "tags": []
   },
   "outputs": [
    {
     "data": {
      "text/plain": [
       "0      6.987139\n",
       "1      0.000000\n",
       "2     28.000000\n",
       "3    121.907880\n",
       "4      0.000000\n",
       "Name: 114, dtype: float64"
      ]
     },
     "execution_count": 86,
     "metadata": {},
     "output_type": "execute_result"
    }
   ],
   "source": [
    "df_train_imp = pd.DataFrame(x_train_imputed)\n",
    "df_train_imp.loc[114]"
   ]
  },
  {
   "cell_type": "markdown",
   "id": "8a839884-b102-466a-b394-91a0adaf579b",
   "metadata": {},
   "source": [
    "# Size - input correlation"
   ]
  },
  {
   "cell_type": "markdown",
   "id": "c447e553-5954-45ff-88e4-0f9a9d1c0906",
   "metadata": {},
   "source": [
    "## Spearman"
   ]
  },
  {
   "cell_type": "code",
   "execution_count": 123,
   "id": "ae98b8af-57d9-4ce4-a869-2e308d610455",
   "metadata": {
    "execution": {
     "iopub.execute_input": "2023-02-21T00:52:12.415449Z",
     "iopub.status.busy": "2023-02-21T00:52:12.414878Z",
     "iopub.status.idle": "2023-02-21T00:52:12.423673Z",
     "shell.execute_reply": "2023-02-21T00:52:12.422640Z",
     "shell.execute_reply.started": "2023-02-21T00:52:12.415393Z"
    },
    "tags": []
   },
   "outputs": [
    {
     "data": {
      "text/plain": [
       "array([ 94.3, 116.4,  82.5, ...,  77.2,  98.2, 120. ])"
      ]
     },
     "execution_count": 123,
     "metadata": {},
     "output_type": "execute_result"
    }
   ],
   "source": [
    "height"
   ]
  },
  {
   "cell_type": "code",
   "execution_count": 129,
   "id": "1b9fcf1a-0867-4b71-9904-9a1bc1da3327",
   "metadata": {
    "execution": {
     "iopub.execute_input": "2023-02-21T00:52:51.042797Z",
     "iopub.status.busy": "2023-02-21T00:52:51.042321Z",
     "iopub.status.idle": "2023-02-21T00:52:51.051127Z",
     "shell.execute_reply": "2023-02-21T00:52:51.050078Z",
     "shell.execute_reply.started": "2023-02-21T00:52:51.042745Z"
    },
    "tags": []
   },
   "outputs": [
    {
     "data": {
      "text/plain": [
       "array([ 6.7 , 21.  ,  1.  ,  2.2 ,  4.55,  8.8 ,  1.  ,  1.  ,  1.  ,\n",
       "        1.  , 12.2 ,  1.  ,  9.5 ,  1.  ,  4.9 , 10.1 ,  1.  ,  1.  ,\n",
       "        1.  ,  1.  , 13.4 , 13.  ,  9.6 ,  1.  , 17.55,  1.  ,  1.  ,\n",
       "        1.  ,  1.  ,  1.  ,  1.  ])"
      ]
     },
     "execution_count": 129,
     "metadata": {},
     "output_type": "execute_result"
    }
   ],
   "source": [
    "height[height<30]"
   ]
  },
  {
   "cell_type": "code",
   "execution_count": 158,
   "id": "ed6ae797-1875-4efe-858d-a9016614efa3",
   "metadata": {
    "execution": {
     "iopub.execute_input": "2023-02-21T01:05:09.932793Z",
     "iopub.status.busy": "2023-02-21T01:05:09.932208Z",
     "iopub.status.idle": "2023-02-21T01:05:09.941398Z",
     "shell.execute_reply": "2023-02-21T01:05:09.940354Z",
     "shell.execute_reply.started": "2023-02-21T01:05:09.932737Z"
    },
    "tags": []
   },
   "outputs": [
    {
     "data": {
      "text/plain": [
       "array([ True,  True,  True, ...,  True,  True,  True])"
      ]
     },
     "execution_count": 158,
     "metadata": {},
     "output_type": "execute_result"
    }
   ],
   "source": []
  },
  {
   "cell_type": "code",
   "execution_count": 165,
   "id": "d7bc2ffd-8c5e-40b2-95a0-d59fee6f6aa8",
   "metadata": {
    "execution": {
     "iopub.execute_input": "2023-02-21T01:09:09.509322Z",
     "iopub.status.busy": "2023-02-21T01:09:09.508834Z",
     "iopub.status.idle": "2023-02-21T01:09:09.669325Z",
     "shell.execute_reply": "2023-02-21T01:09:09.668710Z",
     "shell.execute_reply.started": "2023-02-21T01:09:09.509270Z"
    },
    "tags": []
   },
   "outputs": [
    {
     "data": {
      "text/plain": [
       "<matplotlib.collections.PathCollection at 0x7f8b84e1c1c0>"
      ]
     },
     "execution_count": 165,
     "metadata": {},
     "output_type": "execute_result"
    },
    {
     "data": {
      "image/png": "[encoded data removed]",
      "text/plain": [
       "<Figure size 432x288 with 1 Axes>"
      ]
     },
     "metadata": {
      "needs_background": "light"
     },
     "output_type": "display_data"
    }
   ],
   "source": [
    "age = x_test_imputed[:,0]\n",
    "height, weight = x_test_imputed[:,3], x_test_imputed[:,2]\n",
    "mask = np.logical_and(np.logical_and(height<200, height>30), age>2)\n",
    "\n",
    "weight = weight[mask]\n",
    "height = height[mask]\n",
    "\n",
    "\n",
    "bmi = weight / (height/100) / (height/100)\n",
    "\n",
    "plt.scatter(bmi, y_test[mask])"
   ]
  },
  {
   "cell_type": "code",
   "execution_count": 104,
   "id": "be372dcd-498e-4c47-85b2-f8e3368b4f90",
   "metadata": {
    "execution": {
     "iopub.execute_input": "2023-02-21T00:40:48.729982Z",
     "iopub.status.busy": "2023-02-21T00:40:48.729099Z",
     "iopub.status.idle": "2023-02-21T00:40:48.738328Z",
     "shell.execute_reply": "2023-02-21T00:40:48.737293Z",
     "shell.execute_reply.started": "2023-02-21T00:40:48.729926Z"
    },
    "tags": []
   },
   "outputs": [
    {
     "data": {
      "text/plain": [
       "array([2.74612073, 6.91047729, 1.72488141, ..., 1.42644955, 3.50452097,\n",
       "       5.9001896 ])"
      ]
     },
     "execution_count": 104,
     "metadata": {},
     "output_type": "execute_result"
    }
   ],
   "source": [
    "x_test[:,0]"
   ]
  },
  {
   "cell_type": "code",
   "execution_count": 107,
   "id": "daa5243c-a77d-45a4-8b37-81920effc651",
   "metadata": {
    "execution": {
     "iopub.execute_input": "2023-02-21T00:41:57.616800Z",
     "iopub.status.busy": "2023-02-21T00:41:57.616239Z",
     "iopub.status.idle": "2023-02-21T00:41:57.628688Z",
     "shell.execute_reply": "2023-02-21T00:41:57.627537Z",
     "shell.execute_reply.started": "2023-02-21T00:41:57.616746Z"
    },
    "tags": []
   },
   "outputs": [
    {
     "data": {
      "text/plain": [
       "(0.8723924366319188, 0.0)"
      ]
     },
     "execution_count": 107,
     "metadata": {},
     "output_type": "execute_result"
    }
   ],
   "source": [
    "import scipy.stats as stats\n",
    "\n",
    "rho, pval = stats.pearsonr(x_test[:,0], y_test)\n",
    "rho, pval"
   ]
  },
  {
   "cell_type": "code",
   "execution_count": 166,
   "id": "173069f7-97c3-4871-95be-593be1dfd286",
   "metadata": {
    "execution": {
     "iopub.execute_input": "2023-02-21T01:27:07.688579Z",
     "iopub.status.busy": "2023-02-21T01:27:07.687982Z",
     "iopub.status.idle": "2023-02-21T01:27:07.847137Z",
     "shell.execute_reply": "2023-02-21T01:27:07.846503Z",
     "shell.execute_reply.started": "2023-02-21T01:27:07.688521Z"
    },
    "tags": []
   },
   "outputs": [
    {
     "data": {
      "text/plain": [
       "(array([   6.,   40.,  471.,  726., 1021., 1207., 1085.,  904.,  972.,\n",
       "         376.]),\n",
       " array([2. , 2.5, 3. , 3.5, 4. , 4.5, 5. , 5.5, 6. , 6.5, 7. ]),\n",
       " <BarContainer object of 10 artists>)"
      ]
     },
     "execution_count": 166,
     "metadata": {},
     "output_type": "execute_result"
    },
    {
     "data": {
      "image/png": "[encoded data removed]",
      "text/plain": [
       "<Figure size 432x288 with 1 Axes>"
      ]
     },
     "metadata": {
      "needs_background": "light"
     },
     "output_type": "display_data"
    }
   ],
   "source": [
    "plt.hist(y_test)"
   ]
  },
  {
   "cell_type": "code",
   "execution_count": 82,
   "id": "cbf86a62-d6c9-42f5-9aa5-16740b376efd",
   "metadata": {
    "execution": {
     "iopub.execute_input": "2023-02-22T06:23:34.397711Z",
     "iopub.status.busy": "2023-02-22T06:23:34.397202Z",
     "iopub.status.idle": "2023-02-22T06:23:34.406293Z",
     "shell.execute_reply": "2023-02-22T06:23:34.405284Z",
     "shell.execute_reply.started": "2023-02-22T06:23:34.397659Z"
    },
    "tags": []
   },
   "outputs": [
    {
     "data": {
      "text/plain": [
       "(0.8723924366319188, 0.0)"
      ]
     },
     "execution_count": 82,
     "metadata": {},
     "output_type": "execute_result"
    }
   ],
   "source": [
    "import scipy.stats as stats\n",
    "stats.pearsonr(x_test[:,0], y_test)"
   ]
  },
  {
   "cell_type": "code",
   "execution_count": 81,
   "id": "20927f0d-0c59-4ed5-8186-eb527c8904d1",
   "metadata": {
    "execution": {
     "iopub.execute_input": "2023-02-22T06:23:26.656667Z",
     "iopub.status.busy": "2023-02-22T06:23:26.656178Z",
     "iopub.status.idle": "2023-02-22T06:23:26.665534Z",
     "shell.execute_reply": "2023-02-22T06:23:26.664515Z",
     "shell.execute_reply.started": "2023-02-22T06:23:26.656615Z"
    },
    "tags": []
   },
   "outputs": [
    {
     "data": {
      "text/plain": [
       "(-0.0100779619100062, 0.405743655645806)"
      ]
     },
     "execution_count": 81,
     "metadata": {},
     "output_type": "execute_result"
    }
   ],
   "source": [
    "import scipy.stats as stats\n",
    "stats.pearsonr(x_test[:,1], y_test)"
   ]
  },
  {
   "cell_type": "code",
   "execution_count": 84,
   "id": "189ef3ff-9f97-48d1-9651-66a043ea1f1a",
   "metadata": {
    "execution": {
     "iopub.execute_input": "2023-02-22T06:23:47.679048Z",
     "iopub.status.busy": "2023-02-22T06:23:47.678523Z",
     "iopub.status.idle": "2023-02-22T06:23:47.687903Z",
     "shell.execute_reply": "2023-02-22T06:23:47.686893Z",
     "shell.execute_reply.started": "2023-02-22T06:23:47.678995Z"
    },
    "tags": []
   },
   "outputs": [
    {
     "data": {
      "text/plain": [
       "(0.7946105737089508, 0.0)"
      ]
     },
     "execution_count": 84,
     "metadata": {},
     "output_type": "execute_result"
    }
   ],
   "source": [
    "import scipy.stats as stats\n",
    "stats.pearsonr(x_test_imputed[:,2], y_test)"
   ]
  },
  {
   "cell_type": "code",
   "execution_count": 85,
   "id": "87af925d-90dc-4dcd-8138-aa2f2f2a5351",
   "metadata": {
    "execution": {
     "iopub.execute_input": "2023-02-22T06:23:54.549617Z",
     "iopub.status.busy": "2023-02-22T06:23:54.549172Z",
     "iopub.status.idle": "2023-02-22T06:23:54.557862Z",
     "shell.execute_reply": "2023-02-22T06:23:54.556876Z",
     "shell.execute_reply.started": "2023-02-22T06:23:54.549572Z"
    },
    "tags": []
   },
   "outputs": [
    {
     "data": {
      "text/plain": [
       "(0.8197764526370859, 0.0)"
      ]
     },
     "execution_count": 85,
     "metadata": {},
     "output_type": "execute_result"
    }
   ],
   "source": [
    "import scipy.stats as stats\n",
    "stats.pearsonr(x_test_imputed[:,3], y_test)"
   ]
  },
  {
   "cell_type": "code",
   "execution_count": 86,
   "id": "a569f2f2-1e76-4645-b523-d35ce27f27d8",
   "metadata": {
    "execution": {
     "iopub.execute_input": "2023-02-22T06:24:02.281687Z",
     "iopub.status.busy": "2023-02-22T06:24:02.281190Z",
     "iopub.status.idle": "2023-02-22T06:24:02.290149Z",
     "shell.execute_reply": "2023-02-22T06:24:02.289142Z",
     "shell.execute_reply.started": "2023-02-22T06:24:02.281636Z"
    },
    "tags": []
   },
   "outputs": [
    {
     "data": {
      "text/plain": [
       "(-0.059154626667131574, 1.0381533516208097e-06)"
      ]
     },
     "execution_count": 86,
     "metadata": {},
     "output_type": "execute_result"
    }
   ],
   "source": [
    "import scipy.stats as stats\n",
    "stats.pearsonr(x_test[:,4], y_test)"
   ]
  },
  {
   "cell_type": "code",
   "execution_count": 89,
   "id": "245d6127-1bf7-4561-aaf2-deb07f3ab1dc",
   "metadata": {
    "execution": {
     "iopub.execute_input": "2023-02-22T06:24:33.678474Z",
     "iopub.status.busy": "2023-02-22T06:24:33.678169Z",
     "iopub.status.idle": "2023-02-22T06:24:33.687483Z",
     "shell.execute_reply": "2023-02-22T06:24:33.686697Z",
     "shell.execute_reply.started": "2023-02-22T06:24:33.678442Z"
    },
    "tags": []
   },
   "outputs": [
    {
     "data": {
      "text/plain": [
       "SpearmanrResult(correlation=-0.01249872268809375, pvalue=0.30248076059007767)"
      ]
     },
     "execution_count": 89,
     "metadata": {},
     "output_type": "execute_result"
    }
   ],
   "source": [
    "import scipy.stats as stats\n",
    "stats.spearmanr(x_test[:,1], y_test)"
   ]
  },
  {
   "cell_type": "code",
   "execution_count": null,
   "id": "2738c6ef-b356-4ca2-b3f9-500d59845d5b",
   "metadata": {},
   "outputs": [],
   "source": [
    "# 즉, depth와 "
   ]
  },
  {
   "cell_type": "markdown",
   "id": "ce52d2e9-7e4c-4d79-afa9-41c90f94810d",
   "metadata": {},
   "source": [
    "# Calculator"
   ]
  },
  {
   "cell_type": "code",
   "execution_count": null,
   "id": "7811cb72-e1a5-450b-8cf7-ac189357f38d",
   "metadata": {},
   "outputs": [],
   "source": [
    "import xgboost as xgb\n",
    "\n",
    "xgbr = xgb.XGBRegressor()\n",
    "xgbr.load_model('size_model.model')\n",
    "\n",
    "def "
   ]
  }
 ],
 "metadata": {
  "kernelspec": {
   "display_name": "keras",
   "language": "python",
   "name": "painstudy_keras"
  },
  "language_info": {
   "codemirror_mode": {
    "name": "ipython",
    "version": 3
   },
   "file_extension": ".py",
   "mimetype": "text/x-python",
   "name": "python",
   "nbconvert_exporter": "python",
   "pygments_lexer": "ipython3",
   "version": "3.8.12"
  }
 },
 "nbformat": 4,
 "nbformat_minor": 5
}
