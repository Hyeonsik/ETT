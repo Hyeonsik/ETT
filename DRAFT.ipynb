{
 "cells": [
  {
   "cell_type": "code",
   "execution_count": 1,
   "id": "7d2ebd31-f52b-46d2-82bc-3b0e1f10e8d6",
   "metadata": {
    "execution": {
     "iopub.execute_input": "2023-02-16T13:15:14.610460Z",
     "iopub.status.busy": "2023-02-16T13:15:14.609722Z",
     "iopub.status.idle": "2023-02-16T13:15:14.626283Z",
     "shell.execute_reply": "2023-02-16T13:15:14.624202Z",
     "shell.execute_reply.started": "2023-02-16T13:15:14.610331Z"
    },
    "tags": []
   },
   "outputs": [],
   "source": [
    "# tensorflow 사용 시 seed 고정\n",
    "def seed_everything(seed: int = 98):\n",
    "    random.seed(seed)\n",
    "    np.random.seed(seed)\n",
    "    os.environ[\"PYTHONHASHSEED\"] = str(seed)\n",
    "    tf.random.set_seed(seed)\n",
    "    \n",
    "SEED = 98"
   ]
  },
  {
   "cell_type": "markdown",
   "id": "fc6f64f5-50bd-49eb-a41a-5966d9a3b6d7",
   "metadata": {},
   "source": [
    "# Fig1"
   ]
  },
  {
   "cell_type": "markdown",
   "id": "f5004107-ab6c-45f1-9f10-ba9c21ae4b26",
   "metadata": {},
   "source": [
    "## Final"
   ]
  },
  {
   "cell_type": "code",
   "execution_count": 4,
   "id": "32ec6c1a-cb3c-431b-9522-c8afc627f947",
   "metadata": {
    "execution": {
     "iopub.execute_input": "2023-08-01T06:03:17.887991Z",
     "iopub.status.busy": "2023-08-01T06:03:17.887578Z",
     "iopub.status.idle": "2023-08-01T06:03:17.899447Z",
     "shell.execute_reply": "2023-08-01T06:03:17.898603Z",
     "shell.execute_reply.started": "2023-08-01T06:03:17.887953Z"
    },
    "tags": []
   },
   "outputs": [],
   "source": [
    "def remove_outliers(df, col_name):\n",
    "    out_hids = set()\n",
    "    for i in range(0,0):\n",
    "        df2 = df.loc[(i/2<=df['age_cal'])&(df['age_cal']<i/2+0.5), [col_name,'hid']]\n",
    "\n",
    "        # normalization\n",
    "        from sklearn.preprocessing import StandardScaler\n",
    "        \n",
    "        sc = StandardScaler()\n",
    "        znorm = sc.fit_transform(df2[[col_name]]).flatten()\n",
    "        out_mask = (znorm > 2) | (znorm < -2)\n",
    "\n",
    "        #std0, mean0 = df2.std()[0], df2.mean()[0]\n",
    "        #print(f'age {i/2}~{i/2+0.5}: {np.sum(out_mask)}/{len(df2)} (범위:{mean0 - std0 * 2:.2f}~{mean0 + std0 * 2:.2f})')\n",
    "        out_hids = out_hids | set((df2['hid'].values)[out_mask])\n",
    "\n",
    "        \n",
    "    for i in range(0,10):\n",
    "        df2 = df.loc[df['age']==i, [col_name,'hid']]\n",
    "\n",
    "        # normalization\n",
    "        from sklearn.preprocessing import StandardScaler\n",
    "        \n",
    "        sc = StandardScaler()\n",
    "        znorm = sc.fit_transform(df2[[col_name]]).flatten()\n",
    "        out_mask = (znorm > 2) | (znorm < -2)\n",
    "\n",
    "        #std0, mean0 = df2.std()[0], df2.mean()[0]\n",
    "        #print(f'age {i}~{i+1}: {np.sum(out_mask)}/{len(df2)} (범위:{mean0 - std0 * 2:.2f}~{mean0 + std0 * 2:.2f})')\n",
    "        out_hids = out_hids | set((df2['hid'].values)[out_mask])\n",
    "        \n",
    "        \n",
    "\n",
    "    # outlier에 해당하는 hid 제외\n",
    "    hmask = df['hid'].apply(lambda x: x not in out_hids)\n",
    "    \n",
    "    return df.loc[hmask.values]"
   ]
  },
  {
   "cell_type": "code",
   "execution_count": 19,
   "id": "755df899-39dd-42e8-8301-b0e1d524786a",
   "metadata": {
    "execution": {
     "iopub.execute_input": "2023-08-01T06:48:07.319293Z",
     "iopub.status.busy": "2023-08-01T06:48:07.318787Z",
     "iopub.status.idle": "2023-08-01T06:48:07.332302Z",
     "shell.execute_reply": "2023-08-01T06:48:07.331523Z",
     "shell.execute_reply.started": "2023-08-01T06:48:07.319243Z"
    },
    "tags": []
   },
   "outputs": [],
   "source": [
    "def remove_outliers_to_nan(df, col_name):\n",
    "    out_hids = set()\n",
    "    for i in range(0,0):\n",
    "        df2 = df.loc[(i/2<=df['age_cal'])&(df['age_cal']<i/2+0.5), [col_name,'hid']]\n",
    "\n",
    "        # normalization\n",
    "        from sklearn.preprocessing import StandardScaler\n",
    "        \n",
    "        sc = StandardScaler()\n",
    "        znorm = sc.fit_transform(df2[[col_name]]).flatten()\n",
    "        out_mask = (znorm > 2) | (znorm < -2)\n",
    "\n",
    "        #std0, mean0 = df2.std()[0], df2.mean()[0]\n",
    "        #print(f'age {i/2}~{i/2+0.5}: {np.sum(out_mask)}/{len(df2)} (범위:{mean0 - std0 * 2:.2f}~{mean0 + std0 * 2:.2f})')\n",
    "        out_hids = out_hids | set((df2['hid'].values)[out_mask])\n",
    "\n",
    "        \n",
    "    for i in range(0,10):\n",
    "        df2 = df.loc[df['age']==i, [col_name,'hid']]\n",
    "\n",
    "        # normalization\n",
    "        from sklearn.preprocessing import StandardScaler\n",
    "        \n",
    "        sc = StandardScaler()\n",
    "        znorm = sc.fit_transform(df2[[col_name]]).flatten()\n",
    "        out_mask = (znorm > 2) | (znorm < -2)\n",
    "\n",
    "        #std0, mean0 = df2.std()[0], df2.mean()[0]\n",
    "        #print(f'age {i}~{i+1}: {np.sum(out_mask)}/{len(df2)} (범위:{mean0 - std0 * 2:.2f}~{mean0 + std0 * 2:.2f})')\n",
    "        out_hids = out_hids | set((df2['hid'].values)[out_mask])\n",
    "        \n",
    "    for idx, row in df.iterrows():\n",
    "        if row['hid'] in out_hids:\n",
    "            df.loc[idx, col_name] = np.nan\n",
    "\n",
    "    return df"
   ]
  },
  {
   "cell_type": "markdown",
   "id": "c63850a9-8064-4a72-934b-25b7453fa10a",
   "metadata": {},
   "source": [
    "### size"
   ]
  },
  {
   "cell_type": "code",
   "execution_count": 23,
   "id": "4b77e13f-7529-43f9-b143-dd4ebe1acbd9",
   "metadata": {
    "execution": {
     "iopub.execute_input": "2023-08-01T07:38:03.419475Z",
     "iopub.status.busy": "2023-08-01T07:38:03.418965Z",
     "iopub.status.idle": "2023-08-01T07:38:16.130532Z",
     "shell.execute_reply": "2023-08-01T07:38:16.129848Z",
     "shell.execute_reply.started": "2023-08-01T07:38:03.419425Z"
    },
    "tags": []
   },
   "outputs": [
    {
     "name": "stdout",
     "output_type": "stream",
     "text": [
      "전체 소아 (19세 미만) opid: 151651\n",
      "13세 이상 제외 : 130389\n",
      "airway tube type이 plain이 아닌 경우 제외: 67799\n",
      "airway_tube_size 결측치 제외: 67486\n",
      "cuffed data가 없는 경우는 제외: 51591\n",
      "ETT size의 outlier 제외: 48471\n",
      "weight의 outlier 제외: 48471\n",
      "height의 outlier 제외: 48471\n",
      "중복되는 hid는 첫번째 수술 외 제외: 37057\n"
     ]
    }
   ],
   "source": [
    "from sklearn.model_selection import GridSearchCV, RandomizedSearchCV\n",
    "from sklearn.metrics import explained_variance_score, mean_squared_error, mean_absolute_error, r2_score\n",
    "from sklearn.utils import shuffle\n",
    "import pandas as pd\n",
    "import xgboost as xgb\n",
    "import numpy as np\n",
    "import random, os, datetime, pickle\n",
    "import scipy, math\n",
    "import matplotlib.pyplot as plt\n",
    "import numpy as np\n",
    "import csv\n",
    "\n",
    "### birth date, op date 없는 환자 중 소아는 거의 없음 (94,914 중 5명) -> 정석대로 birth, op date로 age 계산해서 진행\n",
    "# tube.csv에 수술 시점 weight, height 추가\n",
    "df0 = pd.read_csv('tube.csv')\n",
    "df0.drop(columns=['weight', 'height'], inplace=True)\n",
    "df = pd.read_csv('demography_revised.csv')\n",
    "df = df0.merge(df[['opid', 'weight', 'height']], how='left', on='opid', suffixes=('_o',''))\n",
    "\n",
    "df.loc[df['weight'] <= 1, 'weight'] = None\n",
    "df.loc[df['weight'] > 200, 'weight'] = None\n",
    "df.loc[df['height'] <= 30, 'height'] = None\n",
    "df.loc[df['height'] > 230, 'height'] = None\n",
    "df['age'] = df['age'].astype(int)\n",
    "\n",
    "# 나이 계산 -> age_cal 열에 추가\n",
    "df_b = pd.read_csv('birth_sex.csv')\n",
    "df_b.rename(columns={'생년월일':'birth_date'}, inplace=True)\n",
    "df_b['birth_date'] = df_b['birth_date'].apply(lambda x: datetime.datetime.strptime(x, '%Y-%m-%d'))\n",
    "\n",
    "df_o = pd.read_csv('opdates.csv')\n",
    "df_o['opdate'] = df_o['opdate'].apply(lambda x: datetime.datetime.strptime(x, '%Y-%m-%d'))\n",
    "\n",
    "df1 = pd.merge(df_o, df_b, how='inner', on='hid')\n",
    "df1['age_cal'] = (df1['opdate'] - df1['birth_date'])/pd.Timedelta(days=365.2425)\n",
    "\n",
    "df = pd.merge(df, df1[['opid', 'hid', 'age_cal', 'opdate', 'birth_date']], how='inner', on='opid')\n",
    "df['age'] = df['age_cal'].apply(lambda x: math.floor(x))\n",
    "\n",
    "df = df.loc[df['age_cal'] < 19]\n",
    "print(f'전체 소아 (19세 미만) opid: {len(df)}')\n",
    "\n",
    "\n",
    "# inclusion criteria : 소아 10세 미만\n",
    "#df['age_cal'] = df['age_cal'] + 0.01 # 생일이랑 수술날 같은 경우\n",
    "df = df.loc[df['age_cal'] < 13-0.01]  # 생일이랑 수술날 같은 경우\n",
    "df = df.loc[df['age_cal'] > 0]\n",
    "print(f'13세 이상 제외 : {len(df)}')\n",
    "\n",
    "\n",
    "#####################\n",
    "df = df.loc[df['airway_tube_type'] == 'plain']\n",
    "# [nan 'plain' 'RAE(oral)' 'reinforced' 'LMA' 'T-tube' 'CobraPLA', 'double lumen tube' 'RAE(nasal)' 'laser' 'combitube' 'univent']\n",
    "\n",
    "print(f'airway tube type이 plain이 아닌 경우 제외: {len(df)}')\n",
    "# age, sex, airway tube size 값이 없는 경우는 제외\n",
    "\n",
    "df.dropna(subset=['age', 'airway_tube_size'], inplace=True)  # sex는 모든 데이터 다 있음\n",
    "df['sex'] = (df['sex'] == 'M')\n",
    "print(f'airway_tube_size 결측치 제외: {len(df)}')\n",
    "\n",
    "\n",
    "# cuffed 여부와 fixed depth 추가\n",
    "df_t = pd.read_csv('tube_type.csv')\n",
    "df_t['cuffed'] = (df_t['cuffed'] == 1)\n",
    "\n",
    "df_f = pd.read_csv('tube_fixed.csv')\n",
    "\n",
    "# merge 하면서 cuffed 데이터가 없는 경우는 제외\n",
    "df = df.merge(df_f, how='left', on='opid')\n",
    "df = df.merge(df_t[['opid', 'cuffed']], how='inner', on='opid')\n",
    "print(f'cuffed data가 없는 경우는 제외: {len(df)}')\n",
    "\n",
    "\n",
    "# outlier values of endotracheal tube size, depth \n",
    "df = remove_outliers(df, 'airway_tube_size')\n",
    "print(f'ETT size의 outlier 제외: {len(df)}')\n",
    "df = remove_outliers_to_nan(df, 'weight')\n",
    "print(f'weight의 outlier 제외: {len(df)}')\n",
    "df = remove_outliers_to_nan(df, 'height')\n",
    "print(f'height의 outlier 제외: {len(df)}')\n",
    "\n",
    "# 중복되는 hid 경우 제외 (첫번째 수술기록만 가져오기)\n",
    "#df = df.merge(df_o[['opid','hid']], how='inner', on='opid')\n",
    "df = df.loc[df[['hid', 'opid']].groupby('hid')['opid'].idxmin()]\n",
    "print(f'중복되는 hid는 첫번째 수술 외 제외: {len(df)}')"
   ]
  },
  {
   "cell_type": "code",
   "execution_count": 35,
   "id": "b64fd08c-27f8-41a3-94fd-870662d9ebbf",
   "metadata": {
    "execution": {
     "iopub.execute_input": "2023-08-02T12:36:32.226376Z",
     "iopub.status.busy": "2023-08-02T12:36:32.226070Z",
     "iopub.status.idle": "2023-08-02T12:36:32.232451Z",
     "shell.execute_reply": "2023-08-02T12:36:32.231683Z",
     "shell.execute_reply.started": "2023-08-02T12:36:32.226338Z"
    },
    "tags": []
   },
   "outputs": [
    {
     "data": {
      "text/plain": [
       "151651"
      ]
     },
     "execution_count": 35,
     "metadata": {},
     "output_type": "execute_result"
    }
   ],
   "source": [
    "21262+62590+16208+3120+11414+37057"
   ]
  },
  {
   "cell_type": "code",
   "execution_count": 24,
   "id": "3665b063-1971-4585-a687-62b559d1010c",
   "metadata": {
    "execution": {
     "iopub.execute_input": "2023-08-01T07:38:16.131912Z",
     "iopub.status.busy": "2023-08-01T07:38:16.131675Z",
     "iopub.status.idle": "2023-08-01T07:38:16.145121Z",
     "shell.execute_reply": "2023-08-01T07:38:16.144487Z",
     "shell.execute_reply.started": "2023-08-01T07:38:16.131887Z"
    },
    "tags": []
   },
   "outputs": [
    {
     "name": "stdout",
     "output_type": "stream",
     "text": [
      "<class 'pandas.core.frame.DataFrame'>\n",
      "Int64Index: 37057 entries, 505 to 51590\n",
      "Data columns (total 14 columns):\n",
      " #   Column            Non-Null Count  Dtype         \n",
      "---  ------            --------------  -----         \n",
      " 0   opid              37057 non-null  int64         \n",
      " 1   sex               37057 non-null  bool          \n",
      " 2   age               37057 non-null  int64         \n",
      " 3   airway_tube_size  37057 non-null  float64       \n",
      " 4   airway_tube_type  37057 non-null  object        \n",
      " 5   airway_lma        20 non-null     float64       \n",
      " 6   weight            36039 non-null  float64       \n",
      " 7   height            34977 non-null  float64       \n",
      " 8   hid               37057 non-null  int64         \n",
      " 9   age_cal           37057 non-null  float64       \n",
      " 10  opdate            37057 non-null  datetime64[ns]\n",
      " 11  birth_date        37057 non-null  datetime64[ns]\n",
      " 12  fixed             33196 non-null  float64       \n",
      " 13  cuffed            37057 non-null  bool          \n",
      "dtypes: bool(2), datetime64[ns](2), float64(6), int64(3), object(1)\n",
      "memory usage: 3.7+ MB\n"
     ]
    }
   ],
   "source": [
    "df.info()"
   ]
  },
  {
   "cell_type": "code",
   "execution_count": 25,
   "id": "e330e957-b315-46a9-ae3d-86d8c27f2f0f",
   "metadata": {
    "execution": {
     "iopub.execute_input": "2023-08-01T07:38:16.146133Z",
     "iopub.status.busy": "2023-08-01T07:38:16.145908Z",
     "iopub.status.idle": "2023-08-01T07:38:16.153673Z",
     "shell.execute_reply": "2023-08-01T07:38:16.153176Z",
     "shell.execute_reply.started": "2023-08-01T07:38:16.146109Z"
    },
    "tags": []
   },
   "outputs": [],
   "source": [
    "pickle.dump(df, open(f'dataset/df_2308','wb'))"
   ]
  },
  {
   "cell_type": "code",
   "execution_count": 231,
   "id": "e52f5d60-dace-415a-87eb-f7804964e384",
   "metadata": {
    "execution": {
     "iopub.execute_input": "2023-03-03T17:56:25.056245Z",
     "iopub.status.busy": "2023-03-03T17:56:25.055680Z",
     "iopub.status.idle": "2023-03-03T17:56:25.696981Z",
     "shell.execute_reply": "2023-03-03T17:56:25.696428Z",
     "shell.execute_reply.started": "2023-03-03T17:56:25.056190Z"
    },
    "tags": []
   },
   "outputs": [],
   "source": [
    "# age-based formula에 따른 ETT size\n",
    "OLD_VAR = 'old_tube_size'\n",
    "df[OLD_VAR] = df['age'].apply(lambda x: math.floor((x / 4 + 4) * 2) / 2 if x >= 2 else (3.5 if x < 1 else 4)) \n",
    "df[OLD_VAR] = df.apply(lambda x: x[OLD_VAR] - 0.5 if x['cuffed'] else x[OLD_VAR], axis=1)\n",
    "\n",
    "INPUT_VARS = ['age_cal','sex','weight','height', 'cuffed']\n",
    "TARGET_VAR = 'airway_tube_size'\n",
    "\n",
    "random.seed(98)\n",
    "df = shuffle(df)\n",
    "df.reset_index(drop=True, inplace=True)\n",
    "y = df[[TARGET_VAR]].values.flatten().astype(float)\n",
    "c = df['opid'].values.flatten().astype(int)\n",
    "y_old = df[[OLD_VAR]].values.flatten().astype(float)\n",
    "x = df.loc[:, INPUT_VARS].values.astype(float)\n",
    "\n",
    "# 저장하기\n",
    "np.savez(f'dataset/ETT_size-outliers3.npz', x=x, y=y, y_old=y_old, c=c)\n",
    "pickle.dump(df, open(f'dataset/df_2308','wb'))"
   ]
  },
  {
   "cell_type": "code",
   "execution_count": 232,
   "id": "152f866b-60f7-462f-a073-6782c08b8b09",
   "metadata": {
    "execution": {
     "iopub.execute_input": "2023-03-03T17:56:26.355100Z",
     "iopub.status.busy": "2023-03-03T17:56:26.354708Z",
     "iopub.status.idle": "2023-03-03T17:56:26.362581Z",
     "shell.execute_reply": "2023-03-03T17:56:26.361656Z",
     "shell.execute_reply.started": "2023-03-03T17:56:26.355061Z"
    },
    "tags": []
   },
   "outputs": [
    {
     "name": "stdout",
     "output_type": "stream",
     "text": [
      "x_train: (24764, 5), x_test: (6190, 5)\n"
     ]
    }
   ],
   "source": [
    "#dat = np.load(f'dataset/ETT_size.npz')\n",
    "#x, y = dat['x'], dat['y']\n",
    "#y_old  = dat['y_old']\n",
    "\n",
    "# training set의 뒤쪽 20%를 test set 으로 사용\n",
    "nsamp = len(y)\n",
    "ntest = int(nsamp * 0.2)\n",
    "ntrain = nsamp - ntest\n",
    "x_test = x[-ntest:, :]\n",
    "y_test = y[-ntest:]\n",
    "y_test_old = y_old[-ntest:]\n",
    "x_train = x[:ntrain, :]\n",
    "y_train = y[:ntrain]\n",
    "\n",
    "print(f'x_train: {(x_train).shape}, x_test: {x_test.shape}')"
   ]
  },
  {
   "cell_type": "markdown",
   "id": "435c7c57-287c-4972-8865-361d1ffad2fd",
   "metadata": {},
   "source": [
    "### depth"
   ]
  },
  {
   "cell_type": "code",
   "execution_count": 26,
   "id": "be9cb1c2-d4c9-4a90-b3bd-1821a57e5190",
   "metadata": {
    "execution": {
     "iopub.execute_input": "2023-08-02T02:35:04.328134Z",
     "iopub.status.busy": "2023-08-02T02:35:04.327723Z",
     "iopub.status.idle": "2023-08-02T02:35:16.944126Z",
     "shell.execute_reply": "2023-08-02T02:35:16.943525Z",
     "shell.execute_reply.started": "2023-08-02T02:35:04.328096Z"
    },
    "tags": []
   },
   "outputs": [
    {
     "name": "stdout",
     "output_type": "stream",
     "text": [
      "전체 소아 (19세 미만) opid: 151651\n",
      "13세 이상 제외 : 130389\n",
      "airway tube type이 plain이 아닌 경우 제외: 67799\n",
      "airway_tube_size 결측치 제외: 67486\n",
      "cuffed data가 없는 경우는 제외: 51591\n",
      "ETT size의 outlier 제외: 48471\n",
      "weight의 outlier 제외: 48471\n",
      "height의 outlier 제외: 48471\n",
      "중복되는 hid는 첫번째 수술 외 제외: 37057\n",
      "depth가 없는 경우 제외: 33196\n",
      "fixed의 outlier 제외: 32050\n"
     ]
    }
   ],
   "source": [
    "from sklearn.model_selection import GridSearchCV, RandomizedSearchCV\n",
    "from sklearn.metrics import explained_variance_score, mean_squared_error, mean_absolute_error, r2_score\n",
    "from sklearn.utils import shuffle\n",
    "import pandas as pd\n",
    "import xgboost as xgb\n",
    "import numpy as np\n",
    "import random, os, datetime, pickle\n",
    "import scipy, math\n",
    "import matplotlib.pyplot as plt\n",
    "import numpy as np\n",
    "import csv\n",
    "\n",
    "### birth date, op date 없는 환자 중 소아는 거의 없음 (94,914 중 5명) -> 정석대로 birth, op date로 age 계산해서 진행\n",
    "# tube.csv에 수술 시점 weight, height 추가\n",
    "df0 = pd.read_csv('tube.csv')\n",
    "df0.drop(columns=['weight', 'height'], inplace=True)\n",
    "df = pd.read_csv('demography_revised.csv')\n",
    "df = df0.merge(df[['opid', 'weight', 'height']], how='left', on='opid', suffixes=('_o',''))\n",
    "\n",
    "df.loc[df['weight'] <= 1, 'weight'] = None\n",
    "df.loc[df['weight'] > 200, 'weight'] = None\n",
    "df.loc[df['height'] <= 30, 'height'] = None\n",
    "df.loc[df['height'] > 230, 'height'] = None\n",
    "df['age'] = df['age'].astype(int)\n",
    "\n",
    "# 나이 계산 -> age_cal 열에 추가\n",
    "df_b = pd.read_csv('birth_sex.csv')\n",
    "df_b.rename(columns={'생년월일':'birth_date'}, inplace=True)\n",
    "df_b['birth_date'] = df_b['birth_date'].apply(lambda x: datetime.datetime.strptime(x, '%Y-%m-%d'))\n",
    "\n",
    "df_o = pd.read_csv('opdates.csv')\n",
    "df_o['opdate'] = df_o['opdate'].apply(lambda x: datetime.datetime.strptime(x, '%Y-%m-%d'))\n",
    "\n",
    "df1 = pd.merge(df_o, df_b, how='inner', on='hid')\n",
    "df1['age_cal'] = (df1['opdate'] - df1['birth_date'])/pd.Timedelta(days=365.2425)\n",
    "\n",
    "df = pd.merge(df, df1[['opid', 'hid', 'age_cal', 'opdate', 'birth_date']], how='inner', on='opid')\n",
    "df['age'] = df['age_cal'].apply(lambda x: math.floor(x))\n",
    "\n",
    "df = df.loc[df['age_cal'] < 19]\n",
    "print(f'전체 소아 (19세 미만) opid: {len(df)}')\n",
    "\n",
    "\n",
    "# inclusion criteria : 소아 10세 미만\n",
    "#df['age_cal'] = df['age_cal'] + 0.01 # 생일이랑 수술날 같은 경우\n",
    "df = df.loc[df['age_cal'] < 13-0.01]  # 생일이랑 수술날 같은 경우\n",
    "df = df.loc[df['age_cal'] > 0]\n",
    "print(f'13세 이상 제외 : {len(df)}')\n",
    "\n",
    "\n",
    "#####################\n",
    "df = df.loc[df['airway_tube_type'] == 'plain']\n",
    "# [nan 'plain' 'RAE(oral)' 'reinforced' 'LMA' 'T-tube' 'CobraPLA', 'double lumen tube' 'RAE(nasal)' 'laser' 'combitube' 'univent']\n",
    "\n",
    "print(f'airway tube type이 plain이 아닌 경우 제외: {len(df)}')\n",
    "# age, sex, airway tube size 값이 없는 경우는 제외\n",
    "\n",
    "df.dropna(subset=['age', 'airway_tube_size'], inplace=True)  # sex는 모든 데이터 다 있음\n",
    "df['sex'] = (df['sex'] == 'M')\n",
    "print(f'airway_tube_size 결측치 제외: {len(df)}')\n",
    "\n",
    "\n",
    "# cuffed 여부와 fixed depth 추가\n",
    "df_t = pd.read_csv('tube_type.csv')\n",
    "df_t['cuffed'] = (df_t['cuffed'] == 1)\n",
    "\n",
    "df_f = pd.read_csv('tube_fixed.csv')\n",
    "\n",
    "# merge 하면서 cuffed 데이터가 없는 경우는 제외\n",
    "df = df.merge(df_f, how='left', on='opid')\n",
    "df = df.merge(df_t[['opid', 'cuffed']], how='inner', on='opid')\n",
    "print(f'cuffed data가 없는 경우는 제외: {len(df)}')\n",
    "\n",
    "\n",
    "# outlier values of endotracheal tube size, depth \n",
    "df = remove_outliers(df, 'airway_tube_size')\n",
    "print(f'ETT size의 outlier 제외: {len(df)}')\n",
    "df = remove_outliers_to_nan(df, 'weight')\n",
    "print(f'weight의 outlier 제외: {len(df)}')\n",
    "df = remove_outliers_to_nan(df, 'height')\n",
    "print(f'height의 outlier 제외: {len(df)}')\n",
    "\n",
    "# 중복되는 hid 경우 제외 (첫번째 수술기록만 가져오기)\n",
    "#df = df.merge(df_o[['opid','hid']], how='inner', on='opid')\n",
    "df = df.loc[df[['hid', 'opid']].groupby('hid')['opid'].idxmin()]\n",
    "print(f'중복되는 hid는 첫번째 수술 외 제외: {len(df)}')\n",
    "\n",
    "\n",
    "df.dropna(subset=['fixed'], inplace=True)\n",
    "print(f'depth가 없는 경우 제외: {len(df)}')\n",
    "df = remove_outliers(df, 'fixed')\n",
    "print(f'fixed의 outlier 제외: {len(df)}')"
   ]
  },
  {
   "cell_type": "code",
   "execution_count": 27,
   "id": "beae353c-b02d-4d28-b022-d7189c4a5b9d",
   "metadata": {
    "execution": {
     "iopub.execute_input": "2023-08-02T02:35:45.043274Z",
     "iopub.status.busy": "2023-08-02T02:35:45.042851Z",
     "iopub.status.idle": "2023-08-02T02:35:45.054010Z",
     "shell.execute_reply": "2023-08-02T02:35:45.053193Z",
     "shell.execute_reply.started": "2023-08-02T02:35:45.043230Z"
    },
    "tags": []
   },
   "outputs": [],
   "source": [
    "pickle.dump(df, open(f'dataset/df_depth_2308','wb'))"
   ]
  },
  {
   "cell_type": "code",
   "execution_count": 6,
   "id": "6a666dc5-23be-43a8-9580-3756b8932c04",
   "metadata": {
    "execution": {
     "iopub.execute_input": "2023-03-04T06:48:23.506953Z",
     "iopub.status.busy": "2023-03-04T06:48:23.506377Z",
     "iopub.status.idle": "2023-03-04T06:48:29.748255Z",
     "shell.execute_reply": "2023-03-04T06:48:29.747751Z",
     "shell.execute_reply.started": "2023-03-04T06:48:23.506897Z"
    },
    "tags": []
   },
   "outputs": [
    {
     "name": "stdout",
     "output_type": "stream",
     "text": [
      "전체 소아 (19세 미만) opid: 151651\n",
      "10세 이상 제외 : 113266\n",
      "airway tube type이 plain이 아닌 경우 제외: 59638\n",
      "airway_tube_size 결측치 제외: 59352\n",
      "cuffed data가 없는 경우는 제외: 45067\n",
      "ETT size의 outlier 제외: 42010\n",
      "weight의 outlier 제외: 41242\n",
      "height의 outlier 제외: 39215\n",
      "중복되는 hid는 첫번째 수술 외 제외: 30954\n",
      "depth가 없는 경우 제외: 27779\n",
      "fixed의 outlier 제외: 26679\n",
      "x_train: (21344, 6), x_test: (5335, 6)\n"
     ]
    }
   ],
   "source": [
    "from sklearn.model_selection import GridSearchCV, RandomizedSearchCV\n",
    "from sklearn.metrics import explained_variance_score, mean_squared_error, mean_absolute_error, r2_score\n",
    "from sklearn.utils import shuffle\n",
    "import pandas as pd\n",
    "import xgboost as xgb\n",
    "import numpy as np\n",
    "import random, os, datetime, pickle\n",
    "import scipy, math\n",
    "import matplotlib.pyplot as plt\n",
    "import numpy as np\n",
    "import csv\n",
    "\n",
    "### birth date, op date 없는 환자 중 소아는 거의 없음 (94,914 중 5명) -> 정석대로 birth, op date로 age 계산해서 진행\n",
    "# tube.csv에 수술 시점 weight, height 추가\n",
    "df0 = pd.read_csv('tube.csv')\n",
    "df0.drop(columns=['weight', 'height'], inplace=True)\n",
    "df = pd.read_csv('demography_revised.csv')\n",
    "df = df0.merge(df[['opid', 'weight', 'height']], how='left', on='opid', suffixes=('_o',''))\n",
    "\n",
    "df.loc[df['weight'] <= 1, 'weight'] = None\n",
    "df.loc[df['weight'] > 200, 'weight'] = None\n",
    "df.loc[df['height'] <= 30, 'height'] = None\n",
    "df.loc[df['height'] > 230, 'height'] = None\n",
    "df['age'] = df['age'].astype(int)\n",
    "\n",
    "# 나이 계산 -> age_cal 열에 추가\n",
    "df_b = pd.read_csv('birth_sex.csv')\n",
    "df_b.rename(columns={'생년월일':'birth_date'}, inplace=True)\n",
    "df_b['birth_date'] = df_b['birth_date'].apply(lambda x: datetime.datetime.strptime(x, '%Y-%m-%d'))\n",
    "\n",
    "df_o = pd.read_csv('opdates.csv')\n",
    "df_o['opdate'] = df_o['opdate'].apply(lambda x: datetime.datetime.strptime(x, '%Y-%m-%d'))\n",
    "\n",
    "df1 = pd.merge(df_o, df_b, how='inner', on='hid')\n",
    "df1['age_cal'] = (df1['opdate'] - df1['birth_date'])/pd.Timedelta(days=365.2425)\n",
    "\n",
    "df = pd.merge(df, df1[['opid', 'hid', 'age_cal', 'opdate', 'birth_date']], how='inner', on='opid')\n",
    "df['age'] = df['age_cal'].apply(lambda x: math.floor(x))\n",
    "\n",
    "df = df.loc[df['age_cal'] < 19]\n",
    "print(f'전체 소아 (19세 미만) opid: {len(df)}')\n",
    "\n",
    "\n",
    "\n",
    "# inclusion criteria : 소아 10세 미만\n",
    "#df['age_cal'] = df['age_cal'] + 0.01 # 생일이랑 수술날 같은 경우\n",
    "df = df.loc[df['age_cal'] < 10-0.01]  # 생일이랑 수술날 같은 경우\n",
    "df = df.loc[df['age_cal'] > 0]\n",
    "print(f'10세 이상 제외 : {len(df)}')\n",
    "\n",
    "\n",
    "#####################\n",
    "df = df.loc[df['airway_tube_type'] == 'plain']\n",
    "# [nan 'plain' 'RAE(oral)' 'reinforced' 'LMA' 'T-tube' 'CobraPLA', 'double lumen tube' 'RAE(nasal)' 'laser' 'combitube' 'univent']\n",
    "\n",
    "print(f'airway tube type이 plain이 아닌 경우 제외: {len(df)}')\n",
    "# age, sex, airway tube size 값이 없는 경우는 제외\n",
    "\n",
    "df.dropna(subset=['age', 'airway_tube_size'], inplace=True)  # sex는 모든 데이터 다 있음\n",
    "df['sex'] = (df['sex'] == 'M')\n",
    "print(f'airway_tube_size 결측치 제외: {len(df)}')\n",
    "\n",
    "\n",
    "# cuffed 여부와 fixed depth 추가\n",
    "df_t = pd.read_csv('tube_type.csv')\n",
    "df_t['cuffed'] = (df_t['cuffed'] == 1)\n",
    "\n",
    "df_f = pd.read_csv('tube_fixed.csv')\n",
    "\n",
    "# merge 하면서 cuffed 데이터가 없는 경우는 제외\n",
    "df = df.merge(df_f, how='left', on='opid')\n",
    "df = df.merge(df_t[['opid', 'cuffed']], how='inner', on='opid')\n",
    "print(f'cuffed data가 없는 경우는 제외: {len(df)}')\n",
    "\n",
    "\n",
    "# outlier values of endotracheal tube size, depth \n",
    "df = remove_outliers(df, 'airway_tube_size')\n",
    "print(f'ETT size의 outlier 제외: {len(df)}')\n",
    "df = remove_outliers(df, 'weight')\n",
    "print(f'weight의 outlier 제외: {len(df)}')\n",
    "df = remove_outliers(df, 'height')\n",
    "print(f'height의 outlier 제외: {len(df)}')\n",
    "\n",
    "# 중복되는 hid 경우 제외 (첫번째 수술기록만 가져오기)\n",
    "#df = df.merge(df_o[['opid','hid']], how='inner', on='opid')\n",
    "df = df.loc[df[['hid', 'opid']].groupby('hid')['opid'].idxmin()]\n",
    "print(f'중복되는 hid는 첫번째 수술 외 제외: {len(df)}')\n",
    "\n",
    "\n",
    "# Cole's formula\n",
    "OLD_VAR = 'old_tube_size'\n",
    "df[OLD_VAR] = df['age'].apply(lambda x: math.floor((x / 4 + 4) * 2) / 2 if x >= 2 else (3.5 if x < 1 else 4)) \n",
    "df[OLD_VAR] = df.apply(lambda x: x[OLD_VAR] - 0.5 if x['cuffed'] else x[OLD_VAR], axis=1)\n",
    "\n",
    "\n",
    "# fixed depth를 output\n",
    "INPUT_VARS = ['age_cal','sex','weight','height', 'cuffed', 'airway_tube_size']\n",
    "TARGET_VAR = 'fixed'\n",
    "\n",
    "random.seed(98)\n",
    "#seed_everything(SEED)\n",
    "df.dropna(subset=['fixed'], inplace=True)\n",
    "print(f'depth가 없는 경우 제외: {len(df)}')\n",
    "df = remove_outliers(df, 'fixed')\n",
    "print(f'fixed의 outlier 제외: {len(df)}')\n",
    "\n",
    "\n",
    "df = shuffle(df)\n",
    "df.reset_index(drop=True, inplace=True)\n",
    "y = df[[TARGET_VAR]].values.flatten().astype(float)\n",
    "y_old = df[[OLD_VAR]].values.flatten().astype(float)\n",
    "x = df.loc[:, INPUT_VARS].values.astype(float)\n",
    "c = df['opid'].values.flatten().astype(int)\n",
    "\n",
    "# 저장하기\n",
    "pickle.dump(df, open(f'dataset/ETT_depth-outliers','wb'))\n",
    "np.savez(f'dataset/ETT_depth-outliers.npz', x=x, y=y, y_old=y_old, c=c)\n",
    "\n",
    "\n",
    "# training set의 뒤쪽 20%를 test set 으로 사용\n",
    "nsamp = len(y)\n",
    "ntest = int(nsamp * 0.2)\n",
    "ntrain = nsamp - ntest\n",
    "x_test = x[-ntest:, :]\n",
    "y_test = y[-ntest:]\n",
    "#y_test_old = y_old[-ntest:]\n",
    "x_train = x[:ntrain, :]\n",
    "y_train = y[:ntrain]\n",
    "\n",
    "print(f'x_train: {(x_train).shape}, x_test: {x_test.shape}')"
   ]
  },
  {
   "cell_type": "markdown",
   "id": "aef1c118-989f-4011-b04a-e05465cf7b51",
   "metadata": {},
   "source": [
    "### outlier 비율"
   ]
  },
  {
   "cell_type": "code",
   "execution_count": 201,
   "id": "2a231ea1-1dff-4fda-aa1f-5f9b2f55dc11",
   "metadata": {
    "execution": {
     "iopub.execute_input": "2023-03-03T17:09:08.784642Z",
     "iopub.status.busy": "2023-03-03T17:09:08.784106Z",
     "iopub.status.idle": "2023-03-03T17:09:08.879085Z",
     "shell.execute_reply": "2023-03-03T17:09:08.878391Z",
     "shell.execute_reply.started": "2023-03-03T17:09:08.784589Z"
    },
    "tags": []
   },
   "outputs": [
    {
     "name": "stdout",
     "output_type": "stream",
     "text": [
      "age 0: 208/8982 (범위:39.76~83.86)\n",
      "age 1: 96/4815 (범위:64.74~97.75)\n",
      "age 2: 32/3144 (범위:56.64~124.47)\n",
      "age 3: 32/2605 (범위:82.00~113.88)\n",
      "age 4: 29/2626 (범위:88.53~121.24)\n",
      "age 5: 26/2616 (범위:93.78~129.10)\n",
      "age 6: 35/2377 (범위:99.68~135.81)\n",
      "age 7: 33/1844 (범위:104.10~143.84)\n",
      "age 8: 21/1736 (범위:105.80~152.94)\n",
      "age 9: 23/1807 (범위:113.62~156.88)\n"
     ]
    },
    {
     "data": {
      "text/plain": [
       "535"
      ]
     },
     "execution_count": 201,
     "metadata": {},
     "output_type": "execute_result"
    }
   ],
   "source": [
    "out_hids = set()\n",
    "for i in range(0,10):\n",
    "    #df2 = df.loc[(i<=df['age_cal'])&(df['age_cal']<i+1), ['height','hid']]\n",
    "    df2 = df.loc[df['age']==i, ['height','hid']]\n",
    "\n",
    "    # normalization\n",
    "    sc = StandardScaler()\n",
    "    znorm = sc.fit_transform(df2[['height']]).flatten()\n",
    "    out_mask = (znorm > 2) | (znorm < -2)\n",
    "    \n",
    "    std0, mean0 = df2.std()[0], df2.mean()[0]\n",
    "    print(f'age {i}: {np.sum(out_mask)}/{len(df2)} (범위:{mean0 - std0 * 2:.2f}~{mean0 + std0 * 2:.2f})')\n",
    "    out_hids = out_hids | set((df2['hid'].values)[out_mask])\n",
    "\n",
    "# outlier에 해당하는 hid 제외\n",
    "hmask = df['hid'].apply(lambda x: x not in out_hids)\n",
    "np.sum(~hmask)"
   ]
  },
  {
   "cell_type": "code",
   "execution_count": 197,
   "id": "48ca693d-a41f-4937-b96e-76543bb2749b",
   "metadata": {
    "execution": {
     "iopub.execute_input": "2023-03-03T17:07:06.879124Z",
     "iopub.status.busy": "2023-03-03T17:07:06.878579Z",
     "iopub.status.idle": "2023-03-03T17:07:07.044025Z",
     "shell.execute_reply": "2023-03-03T17:07:07.043368Z",
     "shell.execute_reply.started": "2023-03-03T17:07:06.879072Z"
    },
    "tags": []
   },
   "outputs": [
    {
     "name": "stdout",
     "output_type": "stream",
     "text": [
      "age 0.0~0.5: 159/5829 (범위:39.25~73.75)\n",
      "age 0.5~1.0: 103/3153 (범위:56.15~87.14)\n",
      "age 1.0~1.5: 56/2809 (범위:64.04~93.80)\n",
      "age 1.5~2.0: 44/2006 (범위:68.09~100.99)\n",
      "age 2.0~2.5: 13/1751 (범위:47.53~130.85)\n",
      "age 2.5~3.0: 24/1393 (범위:72.35~112.18)\n",
      "age 3.0~3.5: 19/1349 (범위:79.47~112.89)\n",
      "age 3.5~4.0: 14/1256 (범위:85.70~113.96)\n",
      "age 4.0~4.5: 11/1342 (범위:88.93~118.07)\n",
      "age 4.5~5.0: 15/1284 (범위:88.77~123.91)\n",
      "age 5.0~5.5: 17/1302 (범위:93.41~126.49)\n",
      "age 5.5~6.0: 13/1314 (범위:94.68~131.17)\n",
      "age 6.0~6.5: 25/1308 (범위:100.72~132.27)\n",
      "age 6.5~7.0: 16/1069 (범위:99.16~139.40)\n",
      "age 7.0~7.5: 16/932 (범위:102.90~142.07)\n",
      "age 7.5~8.0: 14/912 (범위:105.80~145.20)\n",
      "age 8.0~8.5: 9/855 (범위:104.63~151.21)\n",
      "age 8.5~9.0: 13/881 (범위:107.25~154.27)\n",
      "age 9.0~9.5: 13/864 (범위:112.53~154.60)\n",
      "age 9.5~10.0: 10/943 (범위:115.08~158.52)\n"
     ]
    },
    {
     "data": {
      "text/plain": [
       "604"
      ]
     },
     "execution_count": 197,
     "metadata": {},
     "output_type": "execute_result"
    }
   ],
   "source": [
    "col_name = 'height'\n",
    "out_hids = set()\n",
    "for i in range(0,20):\n",
    "    df2 = df.loc[(i/2<=df['age_cal'])&(df['age_cal']<i/2+0.5), [col_name,'hid']]\n",
    "\n",
    "    # normalization\n",
    "    sc = StandardScaler()\n",
    "    znorm = sc.fit_transform(df2[[col_name]]).flatten()\n",
    "    out_mask = (znorm > 2) | (znorm < -2)\n",
    "    \n",
    "    std0, mean0 = df2.std()[0], df2.mean()[0]\n",
    "    print(f'age {i/2}~{i/2+0.5}: {np.sum(out_mask)}/{len(df2)} (범위:{mean0 - std0 * 2:.2f}~{mean0 + std0 * 2:.2f})')\n",
    "    out_hids = out_hids | set((df2['hid'].values)[out_mask])\n",
    "\n",
    "# outlier에 해당하는 hid 제외\n",
    "hmask = df['hid'].apply(lambda x: x not in out_hids)\n",
    "np.sum(~hmask)"
   ]
  },
  {
   "cell_type": "code",
   "execution_count": 207,
   "id": "8ed1ef80-e831-4fc1-af1d-0860ad70a243",
   "metadata": {
    "execution": {
     "iopub.execute_input": "2023-03-03T17:26:57.610621Z",
     "iopub.status.busy": "2023-03-03T17:26:57.610073Z",
     "iopub.status.idle": "2023-03-03T17:26:57.707617Z",
     "shell.execute_reply": "2023-03-03T17:26:57.706907Z",
     "shell.execute_reply.started": "2023-03-03T17:26:57.610569Z"
    },
    "tags": []
   },
   "outputs": [
    {
     "name": "stdout",
     "output_type": "stream",
     "text": [
      "age 0~1: 43/8982 (범위:0.77~11.97)\n",
      "age 1~2: 19/4815 (범위:3.19~18.73)\n",
      "age 2~3: 2/3144 (범위:-32.82~59.96)\n",
      "age 3~4: 25/2605 (범위:7.47~23.56)\n",
      "age 4~5: 21/2626 (범위:7.65~27.85)\n",
      "age 5~6: 54/2616 (범위:10.63~29.72)\n",
      "age 6~7: 97/2377 (범위:12.80~33.22)\n",
      "age 7~8: 54/1844 (범위:12.03~40.75)\n",
      "age 8~9: 82/1736 (범위:15.51~44.51)\n",
      "age 9~10: 80/1807 (범위:17.51~50.55)\n"
     ]
    },
    {
     "data": {
      "text/plain": [
       "477"
      ]
     },
     "execution_count": 207,
     "metadata": {},
     "output_type": "execute_result"
    }
   ],
   "source": [
    "col_name = 'weight'\n",
    "out_hids = set()\n",
    "for i in range(0,10):\n",
    "    df2 = df.loc[df['age']==i, [col_name,'hid']]\n",
    "\n",
    "    # normalization\n",
    "    sc = StandardScaler()\n",
    "    znorm = sc.fit_transform(df2[[col_name]]).flatten()\n",
    "    out_mask = (znorm > 2) | (znorm < -2)\n",
    "    \n",
    "    std0, mean0 = df2.std()[0], df2.mean()[0]\n",
    "    print(f'age {i}~{i+1}: {np.sum(out_mask)}/{len(df2)} (범위:{mean0 - std0 * 2:.2f}~{mean0 + std0 * 2:.2f})')\n",
    "    out_hids = out_hids | set((df2['hid'].values)[out_mask])\n",
    "\n",
    "# outlier에 해당하는 hid 제외\n",
    "hmask = df['hid'].apply(lambda x: x not in out_hids)\n",
    "np.sum(~hmask)"
   ]
  },
  {
   "cell_type": "code",
   "execution_count": 202,
   "id": "8659cb45-0275-4ab5-a7b7-75dec9c5ff2a",
   "metadata": {
    "execution": {
     "iopub.execute_input": "2023-03-03T17:12:53.070400Z",
     "iopub.status.busy": "2023-03-03T17:12:53.069840Z",
     "iopub.status.idle": "2023-03-03T17:12:53.245251Z",
     "shell.execute_reply": "2023-03-03T17:12:53.244444Z",
     "shell.execute_reply.started": "2023-03-03T17:12:53.070346Z"
    },
    "tags": []
   },
   "outputs": [
    {
     "name": "stdout",
     "output_type": "stream",
     "text": [
      "age 0.0~0.5: 25/5829 (범위:0.17~9.92)\n",
      "age 0.5~1.0: 154/3153 (범위:5.79~11.78)\n",
      "age 1.0~1.5: 9/2809 (범위:3.95~16.93)\n",
      "age 1.5~2.0: 10/2006 (범위:2.60~20.77)\n",
      "age 2.0~2.5: 1/1751 (범위:-48.66~75.36)\n",
      "age 2.5~3.0: 13/1393 (범위:8.17~19.52)\n",
      "age 3.0~3.5: 7/1349 (범위:4.95~25.27)\n",
      "age 3.5~4.0: 59/1256 (범위:11.25~20.65)\n",
      "age 4.0~4.5: 13/1342 (범위:9.01~25.48)\n",
      "age 4.5~5.0: 9/1284 (범위:6.63~29.92)\n",
      "age 5.0~5.5: 53/1302 (범위:12.55~26.33)\n",
      "age 5.5~6.0: 17/1314 (범위:9.49~32.32)\n",
      "age 6.0~6.5: 43/1308 (범위:11.95~32.68)\n",
      "age 6.5~7.0: 55/1069 (범위:14.12~33.61)\n",
      "age 7.0~7.5: 23/932 (범위:11.51~39.72)\n",
      "age 7.5~8.0: 32/912 (범위:12.72~41.63)\n",
      "age 8.0~8.5: 43/855 (범위:15.14~43.20)\n",
      "age 8.5~9.0: 39/881 (범위:16.07~45.59)\n",
      "age 9.0~9.5: 37/864 (범위:16.57~49.30)\n",
      "age 9.5~10.0: 36/943 (범위:18.62~51.46)\n"
     ]
    },
    {
     "data": {
      "text/plain": [
       "678"
      ]
     },
     "execution_count": 202,
     "metadata": {},
     "output_type": "execute_result"
    }
   ],
   "source": [
    "col_name = 'weight'\n",
    "out_hids = set()\n",
    "for i in range(0,20):\n",
    "    df2 = df.loc[(i/2<=df['age_cal'])&(df['age_cal']<i/2+0.5), [col_name,'hid']]\n",
    "\n",
    "    # normalization\n",
    "    sc = StandardScaler()\n",
    "    znorm = sc.fit_transform(df2[[col_name]]).flatten()\n",
    "    out_mask = (znorm > 2) | (znorm < -2)\n",
    "    \n",
    "    std0, mean0 = df2.std()[0], df2.mean()[0]\n",
    "    print(f'age {i/2}~{i/2+0.5}: {np.sum(out_mask)}/{len(df2)} (범위:{mean0 - std0 * 2:.2f}~{mean0 + std0 * 2:.2f})')\n",
    "    out_hids = out_hids | set((df2['hid'].values)[out_mask])\n",
    "\n",
    "# outlier에 해당하는 hid 제외\n",
    "hmask = df['hid'].apply(lambda x: x not in out_hids)\n",
    "np.sum(~hmask)"
   ]
  },
  {
   "cell_type": "code",
   "execution_count": 206,
   "id": "c260efee-90c6-4206-a04d-32e021270c61",
   "metadata": {
    "execution": {
     "iopub.execute_input": "2023-03-03T17:16:32.258220Z",
     "iopub.status.busy": "2023-03-03T17:16:32.257668Z",
     "iopub.status.idle": "2023-03-03T17:16:32.360517Z",
     "shell.execute_reply": "2023-03-03T17:16:32.359860Z",
     "shell.execute_reply.started": "2023-03-03T17:16:32.258167Z"
    },
    "tags": []
   },
   "outputs": [
    {
     "name": "stdout",
     "output_type": "stream",
     "text": [
      "age 0~1: 674/8982 (범위:2.68~4.49)\n",
      "age 1~2: 0/4815 (범위:3.73~5.02)\n",
      "age 2~3: 183/3144 (범위:3.88~5.47)\n",
      "age 3~4: 0/2605 (범위:4.29~5.72)\n",
      "age 4~5: 0/2626 (범위:4.30~6.11)\n",
      "age 5~6: 0/2616 (범위:4.81~6.26)\n",
      "age 6~7: 0/2377 (범위:4.87~6.73)\n",
      "age 7~8: 146/1844 (범위:5.05~6.82)\n",
      "age 8~9: 0/1736 (범위:5.36~6.75)\n",
      "age 9~10: 0/1807 (범위:5.48~6.62)\n"
     ]
    },
    {
     "data": {
      "text/plain": [
       "1003"
      ]
     },
     "execution_count": 206,
     "metadata": {},
     "output_type": "execute_result"
    }
   ],
   "source": [
    "col_name = 'airway_tube_size'\n",
    "out_hids = set()\n",
    "for i in range(0,10):\n",
    "    df2 = df.loc[df['age']==i, [col_name,'hid']]\n",
    "\n",
    "    # normalization\n",
    "    sc = StandardScaler()\n",
    "    znorm = sc.fit_transform(df2[[col_name]]).flatten()\n",
    "    out_mask = (znorm > 2) | (znorm < -2)\n",
    "    \n",
    "    std0, mean0 = df2.std()[0], df2.mean()[0]\n",
    "    print(f'age {i}~{i+1}: {np.sum(out_mask)}/{len(df2)} (범위:{mean0 - std0 * 2:.2f}~{mean0 + std0 * 2:.2f})')\n",
    "    out_hids = out_hids | set((df2['hid'].values)[out_mask])\n",
    "\n",
    "# outlier에 해당하는 hid 제외\n",
    "hmask = df['hid'].apply(lambda x: x not in out_hids)\n",
    "np.sum(~hmask)"
   ]
  },
  {
   "cell_type": "code",
   "execution_count": 203,
   "id": "37fd062f-f8ac-4f8a-ab59-c273b0812595",
   "metadata": {
    "execution": {
     "iopub.execute_input": "2023-03-03T17:13:29.563518Z",
     "iopub.status.busy": "2023-03-03T17:13:29.562948Z",
     "iopub.status.idle": "2023-03-03T17:13:29.735134Z",
     "shell.execute_reply": "2023-03-03T17:13:29.734421Z",
     "shell.execute_reply.started": "2023-03-03T17:13:29.563462Z"
    },
    "tags": []
   },
   "outputs": [
    {
     "name": "stdout",
     "output_type": "stream",
     "text": [
      "age 0.0~0.5: 103/5829 (범위:2.64~4.17)\n",
      "age 0.5~1.0: 71/3153 (범위:3.19~4.66)\n",
      "age 1.0~1.5: 181/2809 (범위:3.71~4.92)\n",
      "age 1.5~2.0: 0/2006 (범위:3.79~5.13)\n",
      "age 2.0~2.5: 44/1751 (범위:3.85~5.33)\n",
      "age 2.5~3.0: 0/1393 (범위:4.00~5.59)\n",
      "age 3.0~3.5: 0/1349 (범위:4.29~5.69)\n",
      "age 3.5~4.0: 0/1256 (범위:4.30~5.75)\n",
      "age 4.0~4.5: 0/1342 (범위:4.29~6.04)\n",
      "age 4.5~5.0: 0/1284 (범위:4.31~6.16)\n",
      "age 5.0~5.5: 0/1302 (범위:4.80~6.22)\n",
      "age 5.5~6.0: 0/1314 (범위:4.81~6.30)\n",
      "age 6.0~6.5: 0/1308 (범위:4.83~6.69)\n",
      "age 6.5~7.0: 0/1069 (범위:4.93~6.78)\n",
      "age 7.0~7.5: 85/932 (범위:5.01~6.83)\n",
      "age 7.5~8.0: 61/912 (범위:5.08~6.81)\n",
      "age 8.0~8.5: 0/855 (범위:5.34~6.75)\n",
      "age 8.5~9.0: 0/881 (범위:5.39~6.75)\n",
      "age 9.0~9.5: 0/864 (범위:5.44~6.65)\n",
      "age 9.5~10.0: 92/943 (범위:5.51~6.60)\n"
     ]
    },
    {
     "data": {
      "text/plain": [
       "637"
      ]
     },
     "execution_count": 203,
     "metadata": {},
     "output_type": "execute_result"
    }
   ],
   "source": [
    "col_name = 'airway_tube_size'\n",
    "out_hids = set()\n",
    "for i in range(0,20):\n",
    "    df2 = df.loc[(i/2<=df['age_cal'])&(df['age_cal']<i/2+0.5), [col_name,'hid']]\n",
    "\n",
    "    # normalization\n",
    "    sc = StandardScaler()\n",
    "    znorm = sc.fit_transform(df2[[col_name]]).flatten()\n",
    "    out_mask = (znorm > 2) | (znorm < -2)\n",
    "    \n",
    "    std0, mean0 = df2.std()[0], df2.mean()[0]\n",
    "    print(f'age {i/2}~{i/2+0.5}: {np.sum(out_mask)}/{len(df2)} (범위:{mean0 - std0 * 2:.2f}~{mean0 + std0 * 2:.2f})')\n",
    "    out_hids = out_hids | set((df2['hid'].values)[out_mask])\n",
    "\n",
    "# outlier에 해당하는 hid 제외\n",
    "hmask = df['hid'].apply(lambda x: x not in out_hids)\n",
    "np.sum(~hmask)"
   ]
  },
  {
   "cell_type": "code",
   "execution_count": 228,
   "id": "9c6bc75e-75a3-485f-9675-c01c378ceee2",
   "metadata": {
    "execution": {
     "iopub.execute_input": "2023-03-03T17:54:40.154266Z",
     "iopub.status.busy": "2023-03-03T17:54:40.153748Z",
     "iopub.status.idle": "2023-03-03T17:54:40.259037Z",
     "shell.execute_reply": "2023-03-03T17:54:40.258316Z",
     "shell.execute_reply.started": "2023-03-03T17:54:40.154211Z"
    },
    "tags": []
   },
   "outputs": [
    {
     "name": "stdout",
     "output_type": "stream",
     "text": [
      "age 0~1: 261/11343 (범위:2.61~4.56)\n",
      "age 1~2: 427/6755 (범위:3.53~5.12)\n",
      "age 2~3: 65/4761 (범위:3.81~5.50)\n",
      "age 3~4: 228/3870 (범위:4.09~5.84)\n",
      "age 4~5: 82/3672 (범위:4.17~6.14)\n",
      "age 5~6: 339/3745 (범위:4.50~6.44)\n",
      "age 6~7: 75/3289 (범위:4.72~6.79)\n",
      "age 7~8: 32/2587 (범위:4.92~6.86)\n",
      "age 8~9: 104/2507 (범위:5.16~6.83)\n",
      "age 9~10: 56/2538 (범위:5.35~6.69)\n"
     ]
    },
    {
     "data": {
      "text/plain": [
       "3057"
      ]
     },
     "execution_count": 228,
     "metadata": {},
     "output_type": "execute_result"
    }
   ],
   "source": [
    "col_name = 'airway_tube_size'\n",
    "out_hids = set()\n",
    "for i in range(0,10):\n",
    "    df2 = df.loc[df['age']==i, [col_name,'hid']]\n",
    "\n",
    "    # normalization\n",
    "    sc = StandardScaler()\n",
    "    znorm = sc.fit_transform(df2[[col_name]]).flatten()\n",
    "    out_mask = (znorm > 2) | (znorm < -2)\n",
    "    \n",
    "    std0, mean0 = df2.std()[0], df2.mean()[0]\n",
    "    print(f'age {i}~{i+1}: {np.sum(out_mask)}/{len(df2)} (범위:{mean0 - std0 * 2:.2f}~{mean0 + std0 * 2:.2f})')\n",
    "    out_hids = out_hids | set((df2['hid'].values)[out_mask])\n",
    "\n",
    "# outlier에 해당하는 hid 제외\n",
    "hmask = df['hid'].apply(lambda x: x not in out_hids)\n",
    "np.sum(~hmask)"
   ]
  },
  {
   "cell_type": "code",
   "execution_count": 227,
   "id": "fbf1d38e-1eeb-4575-a896-3970a42d3bad",
   "metadata": {
    "execution": {
     "iopub.execute_input": "2023-03-03T17:54:24.083376Z",
     "iopub.status.busy": "2023-03-03T17:54:24.082826Z",
     "iopub.status.idle": "2023-03-03T17:54:24.250128Z",
     "shell.execute_reply": "2023-03-03T17:54:24.249495Z",
     "shell.execute_reply.started": "2023-03-03T17:54:24.083321Z"
    },
    "tags": []
   },
   "outputs": [
    {
     "name": "stdout",
     "output_type": "stream",
     "text": [
      "age 0.0~0.5: 332/7068 (범위:2.55~4.22)\n",
      "age 0.5~1.0: 184/4275 (범위:3.10~4.73)\n",
      "age 1.0~1.5: 42/3909 (범위:3.46~5.04)\n",
      "age 1.5~2.0: 88/2846 (범위:3.69~5.18)\n",
      "age 2.0~2.5: 103/2640 (범위:3.76~5.38)\n",
      "age 2.5~3.0: 24/2121 (범위:3.92~5.61)\n",
      "age 3.0~3.5: 135/2021 (범위:4.05~5.79)\n",
      "age 3.5~4.0: 93/1849 (범위:4.14~5.88)\n",
      "age 4.0~4.5: 48/1889 (범위:4.15~6.08)\n",
      "age 4.5~5.0: 34/1783 (범위:4.19~6.20)\n",
      "age 5.0~5.5: 59/1863 (범위:4.47~6.41)\n",
      "age 5.5~6.0: 164/1882 (범위:4.54~6.47)\n",
      "age 6.0~6.5: 48/1804 (범위:4.67~6.76)\n",
      "age 6.5~7.0: 27/1485 (범위:4.80~6.82)\n",
      "age 7.0~7.5: 22/1323 (범위:4.87~6.88)\n",
      "age 7.5~8.0: 10/1264 (범위:4.98~6.84)\n",
      "age 8.0~8.5: 49/1246 (범위:5.16~6.82)\n",
      "age 8.5~9.0: 55/1261 (범위:5.17~6.84)\n",
      "age 9.0~9.5: 30/1229 (범위:5.30~6.71)\n",
      "age 9.5~10.0: 26/1309 (범위:5.39~6.67)\n"
     ]
    },
    {
     "data": {
      "text/plain": [
       "2914"
      ]
     },
     "execution_count": 227,
     "metadata": {},
     "output_type": "execute_result"
    }
   ],
   "source": [
    "col_name = 'airway_tube_size'\n",
    "out_hids = set()\n",
    "for i in range(0,20):\n",
    "    df2 = df.loc[(i/2<=df['age_cal'])&(df['age_cal']<i/2+0.5), [col_name,'hid']]\n",
    "\n",
    "    # normalization\n",
    "    sc = StandardScaler()\n",
    "    znorm = sc.fit_transform(df2[[col_name]]).flatten()\n",
    "    out_mask = (znorm > 2) | (znorm < -2)\n",
    "    \n",
    "    std0, mean0 = df2.std()[0], df2.mean()[0]\n",
    "    print(f'age {i/2}~{i/2+0.5}: {np.sum(out_mask)}/{len(df2)} (범위:{mean0 - std0 * 2:.2f}~{mean0 + std0 * 2:.2f})')\n",
    "    out_hids = out_hids | set((df2['hid'].values)[out_mask])\n",
    "\n",
    "# outlier에 해당하는 hid 제외\n",
    "hmask = df['hid'].apply(lambda x: x not in out_hids)\n",
    "np.sum(~hmask)"
   ]
  },
  {
   "cell_type": "code",
   "execution_count": 226,
   "id": "75ea3cd9-6211-4a7b-919c-47c03d81ae65",
   "metadata": {
    "execution": {
     "iopub.execute_input": "2023-03-03T17:54:13.267089Z",
     "iopub.status.busy": "2023-03-03T17:54:13.266535Z",
     "iopub.status.idle": "2023-03-03T17:54:13.386389Z",
     "shell.execute_reply": "2023-03-03T17:54:13.385734Z",
     "shell.execute_reply.started": "2023-03-03T17:54:13.267034Z"
    },
    "tags": []
   },
   "outputs": [
    {
     "name": "stdout",
     "output_type": "stream",
     "text": [
      "age 0.0~0.5: 332/7068 (범위:2.55~4.22)\n",
      "age 0.5~1.0: 184/4275 (범위:3.10~4.73)\n",
      "age 1~2: 427/6755 (범위:3.53~5.12)\n",
      "age 2~3: 65/4761 (범위:3.81~5.50)\n",
      "age 3~4: 228/3870 (범위:4.09~5.84)\n",
      "age 4~5: 82/3672 (범위:4.17~6.14)\n",
      "age 5~6: 339/3745 (범위:4.50~6.44)\n",
      "age 6~7: 75/3289 (범위:4.72~6.79)\n",
      "age 7~8: 32/2587 (범위:4.92~6.86)\n",
      "age 8~9: 104/2507 (범위:5.16~6.83)\n",
      "age 9~10: 56/2538 (범위:5.35~6.69)\n"
     ]
    },
    {
     "data": {
      "text/plain": [
       "3484"
      ]
     },
     "execution_count": 226,
     "metadata": {},
     "output_type": "execute_result"
    }
   ],
   "source": [
    "col_name = 'airway_tube_size'\n",
    "out_hids = set()\n",
    "for i in range(0,2):\n",
    "    df2 = df.loc[(i/2<=df['age_cal'])&(df['age_cal']<i/2+0.5), [col_name,'hid']]\n",
    "\n",
    "    # normalization\n",
    "    from sklearn.preprocessing import StandardScaler\n",
    "\n",
    "    sc = StandardScaler()\n",
    "    znorm = sc.fit_transform(df2[[col_name]]).flatten()\n",
    "    out_mask = (znorm > 2) | (znorm < -2)\n",
    "\n",
    "    std0, mean0 = df2.std()[0], df2.mean()[0]\n",
    "    print(f'age {i/2}~{i/2+0.5}: {np.sum(out_mask)}/{len(df2)} (범위:{mean0 - std0 * 2:.2f}~{mean0 + std0 * 2:.2f})')\n",
    "    out_hids = out_hids | set((df2['hid'].values)[out_mask])\n",
    "\n",
    "\n",
    "for i in range(1,10):\n",
    "    df2 = df.loc[df['age']==i, [col_name,'hid']]\n",
    "\n",
    "    # normalization\n",
    "    from sklearn.preprocessing import StandardScaler\n",
    "\n",
    "    sc = StandardScaler()\n",
    "    znorm = sc.fit_transform(df2[[col_name]]).flatten()\n",
    "    out_mask = (znorm > 2) | (znorm < -2)\n",
    "\n",
    "    std0, mean0 = df2.std()[0], df2.mean()[0]\n",
    "    print(f'age {i}~{i+1}: {np.sum(out_mask)}/{len(df2)} (범위:{mean0 - std0 * 2:.2f}~{mean0 + std0 * 2:.2f})')\n",
    "    out_hids = out_hids | set((df2['hid'].values)[out_mask])\n",
    "\n",
    "# outlier에 해당하는 hid 제외\n",
    "hmask = df['hid'].apply(lambda x: x not in out_hids)\n",
    "np.sum(~hmask)"
   ]
  },
  {
   "cell_type": "code",
   "execution_count": null,
   "id": "b131f7a7-441b-4973-8973-e249fabfa17a",
   "metadata": {},
   "outputs": [],
   "source": [
    "out_hids = set()\n",
    "for i in range(0,10):\n",
    "    df2 = df.loc[df['age']==i, ['airway_tube_size','hid']]\n",
    "\n",
    "    # normalization\n",
    "    sc = StandardScaler()\n",
    "    znorm = sc.fit_transform(df2[[col_name]]).flatten()\n",
    "    out_mask = (znorm > 2) | (znorm < -2)\n",
    "    \n",
    "    #print(f'age {i}: {np.sum(out_mask)}')\n",
    "    out_hids = out_hids | set((df2['hid'].values)[out_mask])\n",
    "\n",
    "# outlier에 해당하는 hid 제외\n",
    "hmask = df['hid'].apply(lambda x: x not in out_hids)\n",
    "df = df.loc[hmask.values]"
   ]
  },
  {
   "cell_type": "code",
   "execution_count": 109,
   "id": "c6aefe3a-b918-4c79-a91d-4ef78e790b50",
   "metadata": {
    "execution": {
     "iopub.execute_input": "2023-03-02T13:56:28.592503Z",
     "iopub.status.busy": "2023-03-02T13:56:28.592029Z",
     "iopub.status.idle": "2023-03-02T13:56:28.638338Z",
     "shell.execute_reply": "2023-03-02T13:56:28.637512Z",
     "shell.execute_reply.started": "2023-03-02T13:56:28.592452Z"
    },
    "tags": []
   },
   "outputs": [
    {
     "name": "stdout",
     "output_type": "stream",
     "text": [
      "age 0-1살: 1.5 ~ 5.5\n",
      "age 1-2살: 3.25 ~ 5.25\n",
      "age 2-3살: 3.75 ~ 5.75\n",
      "age 3-4살: 3.0 ~ 7.0\n",
      "age 4-5살: 4.25 ~ 6.25\n",
      "age 5-6살: 3.5 ~ 7.5\n",
      "age 6-7살: 4.75 ~ 6.75\n",
      "age 7-8살: 4.75 ~ 6.75\n",
      "age 8-9살: 5.25 ~ 7.25\n",
      "age 9-10살: 6.0 ~ 6.0\n"
     ]
    }
   ],
   "source": [
    "# boxplot에서 1.5 IQR로 outlier를 잡는 경우 범위\n",
    "def remove_outliers(df, col_name):\n",
    "    # 각 연령별 구간에 대해서 \n",
    "    for i in range(0,10):\n",
    "        # i살 ~ (i+1)살 구간에 대해서\n",
    "        df1 = df.loc[df['age']==i]\n",
    "        s_vals = df1[col_name]\n",
    "        \n",
    "        q1 = s_vals.quantile(0.25)\n",
    "        q3 = s_vals.quantile(0.75)\n",
    "        iqr = q3 -q1\n",
    "        \n",
    "        minimum = q1 - (iqr * 1.5) # IQR 최솟값\n",
    "        maximum = q3 + (iqr * 1.5) # IQR 최댓값\n",
    "        \n",
    "        # IQR 범위 내에 있는 데이터만 산출(IQR 범위 밖의 데이터는 이상치)\n",
    "        return df[(minimum < s_vals) & (s_vals < maximum)]\n",
    "        \n",
    "        \n",
    "        print(f'age {i}-{i+1}살: {q1 - iqr * 1.5} ~ {q3 + iqr * 1.5}')\n",
    "\n",
    "remove_outliers(df, 'airway_tube_size')"
   ]
  },
  {
   "cell_type": "markdown",
   "id": "dda7e2e9-b865-499d-b90b-19e17294afe5",
   "metadata": {
    "jp-MarkdownHeadingCollapsed": true,
    "tags": []
   },
   "source": [
    "## 이전 trials"
   ]
  },
  {
   "cell_type": "code",
   "execution_count": 29,
   "id": "a5d1a31b-c7dd-4127-975f-0dd1e787f63b",
   "metadata": {
    "execution": {
     "iopub.execute_input": "2023-02-17T17:02:16.891634Z",
     "iopub.status.busy": "2023-02-17T17:02:16.891109Z",
     "iopub.status.idle": "2023-02-17T17:02:25.378174Z",
     "shell.execute_reply": "2023-02-17T17:02:25.377529Z",
     "shell.execute_reply.started": "2023-02-17T17:02:16.891581Z"
    },
    "tags": []
   },
   "outputs": [
    {
     "name": "stdout",
     "output_type": "stream",
     "text": [
      "전체 소아 (19세 미만) opid: 151651\n",
      "중복되는 hid는 첫번째 수술 외 제외: 94914\n",
      "cuffed data가 없는 경우는 제외: 56681\n",
      "airway type이 plain이 아닌 경우는 제외: 38045\n",
      "age, airway_tube_size 결측치 제외: 37923\n",
      "10세 이상 제외 : 29974\n"
     ]
    }
   ],
   "source": [
    "### birth date, op date 없는 환자 중 소아는 거의 없음 (94,914 중 5명) -> 정석대로 birth, op date로 age 계산해서 진행\n",
    "# tube.csv에 수술 시점 weight, height 추가\n",
    "df0 = pd.read_csv('tube.csv')\n",
    "df0.drop(columns=['weight', 'height'], inplace=True)\n",
    "df = pd.read_csv('demography_revised.csv')\n",
    "df = df0.merge(df[['opid', 'weight', 'height']], how='left', on='opid', suffixes=('_o',''))\n",
    "\n",
    "df.loc[df['weight'] <= 0, 'weight'] = None\n",
    "df.loc[df['height'] <= 0, 'height'] = None\n",
    "df['age'] = df['age'].astype(int)\n",
    "\n",
    "# 나이 계산 -> age_cal 열에 추가\n",
    "df_b = pd.read_csv('birth_sex.csv')\n",
    "df_b.rename(columns={'생년월일':'birth_date'}, inplace=True)\n",
    "df_b['birth_date'] = df_b['birth_date'].apply(lambda x: datetime.datetime.strptime(x, '%Y-%m-%d'))\n",
    "\n",
    "df_o = pd.read_csv('opdates.csv')\n",
    "df_o['opdate'] = df_o['opdate'].apply(lambda x: datetime.datetime.strptime(x, '%Y-%m-%d'))\n",
    "\n",
    "df1 = pd.merge(df_o, df_b, how='inner', on='hid')\n",
    "df1['age_cal'] = (df1['opdate'] - df1['birth_date'])/pd.Timedelta(days=365.2425)\n",
    "\n",
    "df = pd.merge(df, df1[['opid', 'age_cal', 'opdate', 'birth_date']], how='inner', on='opid')\n",
    "\n",
    "df = df.loc[df['age_cal'] < 19]\n",
    "print(f'전체 소아 (19세 미만) opid: {len(df)}')\n",
    "\n",
    "\n",
    "# 중복되는 hid 경우 제외 (첫번째 수술기록만 가져오기)\n",
    "df = df.merge(df_o[['opid','hid']], how='inner', on='opid')\n",
    "df = df.loc[df[['hid', 'opid']].groupby('hid')['opid'].idxmin()]\n",
    "print(f'중복되는 hid는 첫번째 수술 외 제외: {len(df)}')\n",
    "\n",
    "\n",
    "# cuffed 여부와 fixed depth 추가\n",
    "df_t = pd.read_csv('tube_type.csv')\n",
    "df_t['cuffed'] = (df_t['cuffed'] == 1)\n",
    "\n",
    "df_f = pd.read_csv('tube_fixed.csv')\n",
    "\n",
    "# merge 하면서 cuffed 데이터가 없는 경우는 제외\n",
    "df = df.merge(df_f, how='left', on='opid')\n",
    "df = df.merge(df_t[['opid', 'cuffed']], how='inner', on='opid')\n",
    "print(f'cuffed data가 없는 경우는 제외: {len(df)}')\n",
    "\n",
    "df = df.loc[df['airway_tube_type'] == 'plain']\n",
    "print(f'airway type이 plain이 아닌 경우는 제외: {len(df)}')\n",
    "\n",
    "\n",
    "df.dropna(subset=['age', 'airway_tube_size'], inplace=True)  # sex는 모든 데이터 다 있음\n",
    "df['sex'] = (df['sex'] == 'M')\n",
    "print(f'age, airway_tube_size 결측치 제외: {len(df)}')\n",
    "\n",
    "\n",
    "df = df.loc[df['age_cal'] < 10-0.01]  # 생일이랑 수술날 같은 경우\n",
    "df = df.loc[df['age_cal'] > 0]\n",
    "print(f'10세 이상 제외 : {len(df)}')"
   ]
  },
  {
   "cell_type": "code",
   "execution_count": 34,
   "id": "da028af9-fa9a-480a-8b60-c89ba21e7743",
   "metadata": {
    "execution": {
     "iopub.execute_input": "2023-02-17T17:10:01.009146Z",
     "iopub.status.busy": "2023-02-17T17:10:01.008164Z",
     "iopub.status.idle": "2023-02-17T17:10:06.552390Z",
     "shell.execute_reply": "2023-02-17T17:10:06.551728Z",
     "shell.execute_reply.started": "2023-02-17T17:10:01.009082Z"
    },
    "tags": []
   },
   "outputs": [
    {
     "name": "stdout",
     "output_type": "stream",
     "text": [
      "전체 소아 (19세 미만) opid: 151651\n",
      "cuffed data가 없는 경우는 제외: 87602\n",
      "airway type이 plain이 아닌 경우는 제외: 59546\n",
      "age, airway_tube_size 결측치 제외: 59351\n",
      "10세 이상 제외 : 45067\n",
      "중복되는 hid는 첫번째 수술 외 제외: 34042\n"
     ]
    }
   ],
   "source": [
    "### birth date, op date 없는 환자 중 소아는 거의 없음 (94,914 중 5명) -> 정석대로 birth, op date로 age 계산해서 진행\n",
    "# tube.csv에 수술 시점 weight, height 추가\n",
    "df0 = pd.read_csv('tube.csv')\n",
    "df0.drop(columns=['weight', 'height'], inplace=True)\n",
    "df = pd.read_csv('demography_revised.csv')\n",
    "df = df0.merge(df[['opid', 'weight', 'height']], how='left', on='opid', suffixes=('_o',''))\n",
    "\n",
    "df.loc[df['weight'] <= 0, 'weight'] = None\n",
    "df.loc[df['height'] <= 0, 'height'] = None\n",
    "df['age'] = df['age'].astype(int)\n",
    "\n",
    "# 나이 계산 -> age_cal 열에 추가\n",
    "df_b = pd.read_csv('birth_sex.csv')\n",
    "df_b.rename(columns={'생년월일':'birth_date'}, inplace=True)\n",
    "df_b['birth_date'] = df_b['birth_date'].apply(lambda x: datetime.datetime.strptime(x, '%Y-%m-%d'))\n",
    "\n",
    "df_o = pd.read_csv('opdates.csv')\n",
    "df_o['opdate'] = df_o['opdate'].apply(lambda x: datetime.datetime.strptime(x, '%Y-%m-%d'))\n",
    "\n",
    "df1 = pd.merge(df_o, df_b, how='inner', on='hid')\n",
    "df1['age_cal'] = (df1['opdate'] - df1['birth_date'])/pd.Timedelta(days=365.2425)\n",
    "\n",
    "df = pd.merge(df, df1[['opid', 'age_cal', 'opdate', 'birth_date']], how='inner', on='opid')\n",
    "\n",
    "df = df.loc[df['age_cal'] < 19]\n",
    "print(f'전체 소아 (19세 미만) opid: {len(df)}')\n",
    "\n",
    "\n",
    "# cuffed 여부와 fixed depth 추가\n",
    "df_t = pd.read_csv('tube_type.csv')\n",
    "df_t['cuffed'] = (df_t['cuffed'] == 1)\n",
    "\n",
    "df_f = pd.read_csv('tube_fixed.csv')\n",
    "\n",
    "# merge 하면서 cuffed 데이터가 없는 경우는 제외\n",
    "df = df.merge(df_f, how='left', on='opid')\n",
    "df = df.merge(df_t[['opid', 'cuffed']], how='inner', on='opid')\n",
    "print(f'cuffed data가 없는 경우는 제외: {len(df)}')\n",
    "\n",
    "\n",
    "\n",
    "\n",
    "df = df.loc[df['airway_tube_type'] == 'plain']\n",
    "print(f'airway type이 plain이 아닌 경우는 제외: {len(df)}')\n",
    "\n",
    "\n",
    "\n",
    "\n",
    "df.dropna(subset=['age', 'airway_tube_size'], inplace=True)  # sex는 모든 데이터 다 있음\n",
    "df['sex'] = (df['sex'] == 'M')\n",
    "print(f'age, airway_tube_size 결측치 제외: {len(df)}')\n",
    "\n",
    "\n",
    "\n",
    "df = df.loc[df['age_cal'] < 10-0.01]  # 생일이랑 수술날 같은 경우\n",
    "df = df.loc[df['age_cal'] > 0]\n",
    "print(f'10세 이상 제외 : {len(df)}')\n",
    "\n",
    "\n",
    "# 중복되는 hid 경우 제외 (첫번째 수술기록만 가져오기)\n",
    "df = df.merge(df_o[['opid','hid']], how='inner', on='opid')\n",
    "df = df.loc[df[['hid', 'opid']].groupby('hid')['opid'].idxmin()]\n",
    "print(f'중복되는 hid는 첫번째 수술 외 제외: {len(df)}')"
   ]
  },
  {
   "cell_type": "code",
   "execution_count": 69,
   "id": "735ef75d-c309-459e-866b-7a31de957de7",
   "metadata": {
    "execution": {
     "iopub.execute_input": "2023-02-21T14:09:36.348053Z",
     "iopub.status.busy": "2023-02-21T14:09:36.347474Z",
     "iopub.status.idle": "2023-02-21T14:09:41.760050Z",
     "shell.execute_reply": "2023-02-21T14:09:41.759516Z",
     "shell.execute_reply.started": "2023-02-21T14:09:36.347997Z"
    },
    "tags": []
   },
   "outputs": [
    {
     "name": "stdout",
     "output_type": "stream",
     "text": [
      "전체 소아 (19세 미만) opid: 151651\n",
      "airway tube type이 plain이 아닌 경우 제외: 77477\n",
      "age, airway_tube_size 결측치 제외: 77132\n",
      "cuffed data가 없는 경우는 제외: 59351\n",
      "10세 이상 제외 : 45067\n",
      "중복되는 hid는 첫번째 수술 외 제외: 34042\n"
     ]
    }
   ],
   "source": [
    "### birth date, op date 없는 환자 중 소아는 거의 없음 (94,914 중 5명) -> 정석대로 birth, op date로 age 계산해서 진행\n",
    "# tube.csv에 수술 시점 weight, height 추가\n",
    "df0 = pd.read_csv('tube.csv')\n",
    "df0.drop(columns=['weight', 'height'], inplace=True)\n",
    "df = pd.read_csv('demography_revised.csv')\n",
    "df = df0.merge(df[['opid', 'weight', 'height']], how='left', on='opid', suffixes=('_o',''))\n",
    "\n",
    "df.loc[df['weight'] <= 0, 'weight'] = None\n",
    "df.loc[df['height'] <= 0, 'height'] = None\n",
    "df['age'] = df['age'].astype(int)\n",
    "\n",
    "# 나이 계산 -> age_cal 열에 추가\n",
    "df_b = pd.read_csv('birth_sex.csv')\n",
    "df_b.rename(columns={'생년월일':'birth_date'}, inplace=True)\n",
    "df_b['birth_date'] = df_b['birth_date'].apply(lambda x: datetime.datetime.strptime(x, '%Y-%m-%d'))\n",
    "\n",
    "df_o = pd.read_csv('opdates.csv')\n",
    "df_o['opdate'] = df_o['opdate'].apply(lambda x: datetime.datetime.strptime(x, '%Y-%m-%d'))\n",
    "\n",
    "df1 = pd.merge(df_o, df_b, how='inner', on='hid')\n",
    "df1['age_cal'] = (df1['opdate'] - df1['birth_date'])/pd.Timedelta(days=365.2425)\n",
    "\n",
    "df = pd.merge(df, df1[['opid', 'age_cal', 'opdate', 'birth_date']], how='inner', on='opid')\n",
    "\n",
    "df = df.loc[df['age_cal'] < 19]\n",
    "print(f'전체 소아 (19세 미만) opid: {len(df)}')\n",
    "\n",
    "\n",
    "#####################\n",
    "df = df.loc[df['airway_tube_type'] == 'plain']\n",
    "# [nan 'plain' 'RAE(oral)' 'reinforced' 'LMA' 'T-tube' 'CobraPLA', 'double lumen tube' 'RAE(nasal)' 'laser' 'combitube' 'univent']\n",
    "\n",
    "print(f'airway tube type이 plain이 아닌 경우 제외: {len(df)}')\n",
    "# age, sex, airway tube size 값이 없는 경우는 제외\n",
    "\n",
    "df.dropna(subset=['age', 'airway_tube_size'], inplace=True)  # sex는 모든 데이터 다 있음\n",
    "df['sex'] = (df['sex'] == 'M')\n",
    "print(f'airway_tube_size 결측치 제외: {len(df)}')\n",
    "\n",
    "\n",
    "# cuffed 여부와 fixed depth 추가\n",
    "df_t = pd.read_csv('tube_type.csv')\n",
    "df_t['cuffed'] = (df_t['cuffed'] == 1)\n",
    "\n",
    "df_f = pd.read_csv('tube_fixed.csv')\n",
    "\n",
    "# merge 하면서 cuffed 데이터가 없는 경우는 제외\n",
    "df = df.merge(df_f, how='left', on='opid')\n",
    "df = df.merge(df_t[['opid', 'cuffed']], how='inner', on='opid')\n",
    "print(f'cuffed data가 없는 경우는 제외: {len(df)}')\n",
    "\n",
    "\n",
    "# inclusion criteria : 소아 10세 미만\n",
    "#df['age_cal'] = df['age_cal'] + 0.01 # 생일이랑 수술날 같은 경우\n",
    "df = df.loc[df['age_cal'] < 10-0.01]  # 생일이랑 수술날 같은 경우\n",
    "df = df.loc[df['age_cal'] > 0]\n",
    "print(f'10세 이상 제외 : {len(df)}')\n",
    "\n",
    "\n",
    "# 중복되는 hid 경우 제외 (첫번째 수술기록만 가져오기)\n",
    "df = df.merge(df_o[['opid','hid']], how='inner', on='opid')\n",
    "df = df.loc[df[['hid', 'opid']].groupby('hid')['opid'].idxmin()]\n",
    "print(f'중복되는 hid는 첫번째 수술 외 제외: {len(df)}')"
   ]
  },
  {
   "cell_type": "code",
   "execution_count": 72,
   "id": "01531ed5-1476-4dc3-b64d-1004a98fea78",
   "metadata": {
    "execution": {
     "iopub.execute_input": "2023-02-21T14:10:35.411363Z",
     "iopub.status.busy": "2023-02-21T14:10:35.410820Z",
     "iopub.status.idle": "2023-02-21T14:10:35.418713Z",
     "shell.execute_reply": "2023-02-21T14:10:35.417677Z",
     "shell.execute_reply.started": "2023-02-21T14:10:35.411310Z"
    },
    "tags": []
   },
   "outputs": [
    {
     "data": {
      "text/plain": [
       "14284"
      ]
     },
     "execution_count": 72,
     "metadata": {},
     "output_type": "execute_result"
    }
   ],
   "source": [
    "59351 - 45067"
   ]
  },
  {
   "cell_type": "code",
   "execution_count": null,
   "id": "db380bea-506c-4526-81e6-cbabe368d3ee",
   "metadata": {},
   "outputs": [],
   "source": [
    "29974 32692 33985 34011 34042"
   ]
  },
  {
   "cell_type": "code",
   "execution_count": 27,
   "id": "eb135e8e-e539-4d71-b738-ab421288b300",
   "metadata": {
    "execution": {
     "iopub.execute_input": "2023-02-17T16:57:50.900541Z",
     "iopub.status.busy": "2023-02-17T16:57:50.899967Z",
     "iopub.status.idle": "2023-02-17T16:58:00.736087Z",
     "shell.execute_reply": "2023-02-17T16:58:00.735413Z",
     "shell.execute_reply.started": "2023-02-17T16:57:50.900482Z"
    },
    "tags": []
   },
   "outputs": [
    {
     "name": "stdout",
     "output_type": "stream",
     "text": [
      "전체 소아 (19세 미만) opid: 155719\n",
      "중복되는 hid는 첫번째 수술 외 제외: 94919\n",
      "cuffed data가 없는 경우는 제외: 56685\n",
      "airway type이 plain이 아닌 경우는 제외: 38047\n",
      "10세 이상 제외 : 30076\n"
     ]
    }
   ],
   "source": [
    "# tube.csv에 수술 시점 weight, height 추가\n",
    "df0 = pd.read_csv('tube.csv')\n",
    "df0.drop(columns=['weight', 'height'], inplace=True)\n",
    "df = pd.read_csv('demography_revised.csv')\n",
    "df = df0.merge(df[['opid', 'weight', 'height']], how='left', on='opid', suffixes=('_o',''))\n",
    "\n",
    "df.loc[df['weight'] <= 0, 'weight'] = None\n",
    "df.loc[df['height'] <= 0, 'height'] = None\n",
    "df['age'] = df['age'].astype(int)\n",
    "df = df.loc[df['age'] < 19]\n",
    "print(f'전체 소아 (19세 미만) opid: {len(df)}')\n",
    "\n",
    "\n",
    "df_o = pd.read_csv('opdates.csv')\n",
    "df_o['opdate'] = df_o['opdate'].apply(lambda x: datetime.datetime.strptime(x, '%Y-%m-%d'))\n",
    "\n",
    "\n",
    "# 중복되는 hid 경우 제외 (첫번째 수술기록만 가져오기)\n",
    "df = df.merge(df_o[['opid','hid']], how='inner', on='opid')\n",
    "df = df.loc[df[['hid', 'opid']].groupby('hid')['opid'].idxmin()]\n",
    "print(f'중복되는 hid는 첫번째 수술 외 제외: {len(df)}')\n",
    "\n",
    "\n",
    "# cuffed 여부와 fixed depth 추가\n",
    "df_t = pd.read_csv('tube_type.csv')\n",
    "df_t['cuffed'] = (df_t['cuffed'] == 1)\n",
    "\n",
    "df_f = pd.read_csv('tube_fixed.csv')\n",
    "\n",
    "# merge 하면서 cuffed 데이터가 없는 경우는 제외\n",
    "df = df.merge(df_f, how='left', on='opid')\n",
    "df = df.merge(df_t[['opid', 'cuffed']], how='inner', on='opid')\n",
    "print(f'cuffed data가 없는 경우는 제외: {len(df)}')\n",
    "\n",
    "df = df.loc[df['airway_tube_type'] == 'plain']\n",
    "print(f'airway type이 plain이 아닌 경우는 제외: {len(df)}')\n",
    "\n",
    "\n",
    "# 나이 계산 -> age_cal 열에 추가\n",
    "df_b = pd.read_csv('birth_sex.csv')\n",
    "df_b.rename(columns={'생년월일':'birth_date'}, inplace=True)\n",
    "df_b['birth_date'] = df_b['birth_date'].apply(lambda x: datetime.datetime.strptime(x, '%Y-%m-%d'))\n",
    "\n",
    "df_o = pd.read_csv('opdates.csv')\n",
    "df_o['opdate'] = df_o['opdate'].apply(lambda x: datetime.datetime.strptime(x, '%Y-%m-%d'))\n",
    "\n",
    "df1 = pd.merge(df_o, df_b, how='inner', on='hid')\n",
    "df1['age_cal'] = (df1['opdate'] - df1['birth_date'])/pd.Timedelta(days=365.2425)\n",
    "\n",
    "df = pd.merge(df, df1[['opid', 'age_cal', 'opdate', 'birth_date']], how='inner', on='opid')\n",
    "\n",
    "# inclusion criteria : 소아 10세 미만\n",
    "#df['age_cal'] = df['age_cal'] + 0.01 # 생일이랑 수술날 같은 경우\n",
    "df = df.loc[df['age_cal'] < 10-0.01]  # 생일이랑 수술날 같은 경우\n",
    "df = df.loc[df['age_cal'] > 0]\n",
    "print(f'10세 이상 제외 : {len(df)}')\n"
   ]
  },
  {
   "cell_type": "code",
   "execution_count": 28,
   "id": "3879475d-d4d7-47c9-964c-41673b17fc56",
   "metadata": {
    "execution": {
     "iopub.execute_input": "2023-02-17T16:58:14.370112Z",
     "iopub.status.busy": "2023-02-17T16:58:14.369548Z",
     "iopub.status.idle": "2023-02-17T16:58:19.817357Z",
     "shell.execute_reply": "2023-02-17T16:58:19.816649Z",
     "shell.execute_reply.started": "2023-02-17T16:58:14.370056Z"
    },
    "tags": []
   },
   "outputs": [
    {
     "name": "stdout",
     "output_type": "stream",
     "text": [
      "초기 전체 opid: 155719\n",
      "airway tube type이 plain이 아닌 경우 제외: 78848\n",
      "age, airway_tube_size 결측치 제외: 78502\n",
      "10세 이상 제외 : 59352\n",
      "cuffed data가 없는 경우는 제외: 45067\n",
      "중복되는 hid는 첫번째 수술 외 제외: 34042\n"
     ]
    }
   ],
   "source": [
    "from sklearn.model_selection import GridSearchCV, RandomizedSearchCV\n",
    "from sklearn.metrics import explained_variance_score, mean_squared_error, mean_absolute_error, r2_score\n",
    "from sklearn.utils import shuffle\n",
    "import pandas as pd\n",
    "import xgboost as xgb\n",
    "import numpy as np\n",
    "import random, os, datetime, pickle\n",
    "import scipy\n",
    "import matplotlib.pyplot as plt\n",
    "import numpy as np\n",
    "import csv\n",
    "\n",
    "\n",
    "# tube.csv에 수술 시점 weight, height 추가\n",
    "df0 = pd.read_csv('tube.csv')\n",
    "df0.drop(columns=['weight', 'height'], inplace=True)\n",
    "df = pd.read_csv('demography_revised.csv')\n",
    "df = df0.merge(df[['opid', 'weight', 'height']], how='left', on='opid', suffixes=('_o',''))\n",
    "\n",
    "df.loc[df['weight'] <= 0, 'weight'] = None\n",
    "df.loc[df['height'] <= 0, 'height'] = None\n",
    "df['age'] = df['age'].astype(int)\n",
    "df = df.loc[df['age'] < 19]\n",
    "print(f'초기 전체 opid: {len(df)}')\n",
    "df = df.loc[df['airway_tube_type'] == 'plain']\n",
    "# [nan 'plain' 'RAE(oral)' 'reinforced' 'LMA' 'T-tube' 'CobraPLA', 'double lumen tube' 'RAE(nasal)' 'laser' 'combitube' 'univent']\n",
    "\n",
    "print(f'airway tube type이 plain이 아닌 경우 제외: {len(df)}')\n",
    "# age, sex, airway tube size 값이 없는 경우는 제외\n",
    "\n",
    "df.dropna(subset=['age', 'airway_tube_size'], inplace=True)  # sex는 모든 데이터 다 있음\n",
    "df['sex'] = (df['sex'] == 'M')\n",
    "print(f'age, airway_tube_size 결측치 제외: {len(df)}')\n",
    "\n",
    "# 나이 계산 -> age_cal 열에 추가\n",
    "df_b = pd.read_csv('birth_sex.csv')\n",
    "df_b.rename(columns={'생년월일':'birth_date'}, inplace=True)\n",
    "df_b['birth_date'] = df_b['birth_date'].apply(lambda x: datetime.datetime.strptime(x, '%Y-%m-%d'))\n",
    "\n",
    "df_o = pd.read_csv('opdates.csv')\n",
    "df_o['opdate'] = df_o['opdate'].apply(lambda x: datetime.datetime.strptime(x, '%Y-%m-%d'))\n",
    "\n",
    "df1 = pd.merge(df_o, df_b, how='inner', on='hid')\n",
    "df1['age_cal'] = (df1['opdate'] - df1['birth_date'])/pd.Timedelta(days=365.2425)\n",
    "\n",
    "df = pd.merge(df, df1[['opid', 'age_cal', 'opdate', 'birth_date']], how='inner', on='opid')\n",
    "#df3 = pd.merge(df, df1[['opid', 'age_cal', 'opdate', 'birth_date']], how='left', on='opid')\n",
    "\n",
    "# inclusion criteria : 소아 10세 미만\n",
    "#df['age_cal'] = df['age_cal'] + 0.01 # 생일이랑 수술날 같은 경우\n",
    "df = df.loc[df['age_cal'] < 10-0.01]  # 생일이랑 수술날 같은 경우\n",
    "df = df.loc[df['age_cal'] > 0]\n",
    "print(f'10세 이상 제외 : {len(df)}')\n",
    "\n",
    "# cuffed 여부와 fixed depth 추가\n",
    "df_t = pd.read_csv('tube_type.csv')\n",
    "df_t['cuffed'] = (df_t['cuffed'] == 1)\n",
    "\n",
    "df_f = pd.read_csv('tube_fixed.csv')\n",
    "\n",
    "# merge 하면서 cuffed 데이터가 없는 경우는 제외\n",
    "df = df.merge(df_f, how='left', on='opid')\n",
    "df = df.merge(df_t[['opid', 'cuffed']], how='inner', on='opid')\n",
    "print(f'cuffed data가 없는 경우는 제외: {len(df)}')\n",
    "\n",
    "\n",
    "# 중복되는 hid 경우 제외 (첫번째 수술기록만 가져오기)\n",
    "df = df.merge(df_o[['opid','hid']], how='inner', on='opid')\n",
    "df = df.loc[df[['hid', 'opid']].groupby('hid')['opid'].idxmin()]\n",
    "print(f'중복되는 hid는 첫번째 수술 외 제외: {len(df)}')"
   ]
  },
  {
   "cell_type": "code",
   "execution_count": 64,
   "id": "189d24ea-fb56-476a-ada7-14a9247fb161",
   "metadata": {
    "execution": {
     "iopub.execute_input": "2023-02-16T14:50:12.134306Z",
     "iopub.status.busy": "2023-02-16T14:50:12.133737Z",
     "iopub.status.idle": "2023-02-16T14:50:12.157424Z",
     "shell.execute_reply": "2023-02-16T14:50:12.156323Z",
     "shell.execute_reply.started": "2023-02-16T14:50:12.134249Z"
    },
    "tags": []
   },
   "outputs": [
    {
     "data": {
      "text/html": [
       "<div>\n",
       "<style scoped>\n",
       "    .dataframe tbody tr th:only-of-type {\n",
       "        vertical-align: middle;\n",
       "    }\n",
       "\n",
       "    .dataframe tbody tr th {\n",
       "        vertical-align: top;\n",
       "    }\n",
       "\n",
       "    .dataframe thead th {\n",
       "        text-align: right;\n",
       "    }\n",
       "</style>\n",
       "<table border=\"1\" class=\"dataframe\">\n",
       "  <thead>\n",
       "    <tr style=\"text-align: right;\">\n",
       "      <th></th>\n",
       "      <th>opid</th>\n",
       "      <th>sex</th>\n",
       "      <th>age</th>\n",
       "      <th>airway_tube_size</th>\n",
       "      <th>airway_tube_type</th>\n",
       "      <th>airway_lma</th>\n",
       "      <th>weight</th>\n",
       "      <th>height</th>\n",
       "      <th>age_cal</th>\n",
       "      <th>opdate</th>\n",
       "      <th>birth_date</th>\n",
       "    </tr>\n",
       "  </thead>\n",
       "  <tbody>\n",
       "    <tr>\n",
       "      <th>47551</th>\n",
       "      <td>140924126</td>\n",
       "      <td>False</td>\n",
       "      <td>10</td>\n",
       "      <td>6.5</td>\n",
       "      <td>plain</td>\n",
       "      <td>NaN</td>\n",
       "      <td>56.1</td>\n",
       "      <td>154.2</td>\n",
       "      <td>9.998836</td>\n",
       "      <td>2014-09-24</td>\n",
       "      <td>2004-09-24</td>\n",
       "    </tr>\n",
       "  </tbody>\n",
       "</table>\n",
       "</div>"
      ],
      "text/plain": [
       "            opid    sex  age  airway_tube_size airway_tube_type  airway_lma  \\\n",
       "47551  140924126  False   10               6.5            plain         NaN   \n",
       "\n",
       "       weight  height   age_cal     opdate birth_date  \n",
       "47551    56.1   154.2  9.998836 2014-09-24 2004-09-24  "
      ]
     },
     "execution_count": 64,
     "metadata": {},
     "output_type": "execute_result"
    }
   ],
   "source": [
    "df[df['opid']==140924126]"
   ]
  },
  {
   "cell_type": "code",
   "execution_count": 32,
   "id": "05b857f5-1c9b-4b72-828b-fe55d748af90",
   "metadata": {
    "collapsed": true,
    "execution": {
     "iopub.execute_input": "2023-02-16T14:34:56.499655Z",
     "iopub.status.busy": "2023-02-16T14:34:56.499118Z",
     "iopub.status.idle": "2023-02-16T14:34:56.520143Z",
     "shell.execute_reply": "2023-02-16T14:34:56.519338Z",
     "shell.execute_reply.started": "2023-02-16T14:34:56.499599Z"
    },
    "jupyter": {
     "outputs_hidden": true
    },
    "tags": []
   },
   "outputs": [
    {
     "data": {
      "text/plain": [
       "{60119113,\n",
       " 100402123,\n",
       " 120215116,\n",
       " 140924126,\n",
       " 200731100,\n",
       " 200929098,\n",
       " 201222093,\n",
       " 210107143,\n",
       " 210108148,\n",
       " 210111133,\n",
       " 210111166,\n",
       " 210113141,\n",
       " 210113147,\n",
       " 210115136,\n",
       " 210118133,\n",
       " 210118134,\n",
       " 210121144,\n",
       " 210121162,\n",
       " 210122155,\n",
       " 210122169,\n",
       " 210125128,\n",
       " 210128129,\n",
       " 210201134,\n",
       " 210201140,\n",
       " 210203163,\n",
       " 210205152,\n",
       " 210209131,\n",
       " 210209140,\n",
       " 210210139,\n",
       " 210212003,\n",
       " 210217139,\n",
       " 210223142,\n",
       " 210224134,\n",
       " 210224142,\n",
       " 210225129,\n",
       " 210303159,\n",
       " 210304151,\n",
       " 210304152,\n",
       " 210308151,\n",
       " 210308152,\n",
       " 210308154,\n",
       " 210308155,\n",
       " 210309133,\n",
       " 210312153,\n",
       " 210315129,\n",
       " 210315131,\n",
       " 210315133,\n",
       " 210315153,\n",
       " 210318127,\n",
       " 210319122,\n",
       " 210322127,\n",
       " 210322150,\n",
       " 210322151,\n",
       " 210324140,\n",
       " 210324145,\n",
       " 210325147,\n",
       " 210326126,\n",
       " 210329134,\n",
       " 210331129,\n",
       " 210401156,\n",
       " 210406134,\n",
       " 210407127,\n",
       " 210407134,\n",
       " 210408134,\n",
       " 210409136,\n",
       " 210419123,\n",
       " 210419145,\n",
       " 210419149,\n",
       " 210426126,\n",
       " 210427139,\n",
       " 210428125,\n",
       " 210429136,\n",
       " 210503124,\n",
       " 210503147,\n",
       " 210504133,\n",
       " 210506126,\n",
       " 210510140,\n",
       " 210512146,\n",
       " 210514150,\n",
       " 210517123,\n",
       " 210520141,\n",
       " 210524127,\n",
       " 210524128,\n",
       " 210524151,\n",
       " 210524152,\n",
       " 210527126,\n",
       " 210527134,\n",
       " 210601128,\n",
       " 210603141,\n",
       " 210609148,\n",
       " 210609159,\n",
       " 210610146,\n",
       " 210614131,\n",
       " 210614132,\n",
       " 210614154,\n",
       " 210614157,\n",
       " 210615119,\n",
       " 210616085,\n",
       " 210621131,\n",
       " 210621138,\n",
       " 210624147,\n",
       " 210628132,\n",
       " 210628133,\n",
       " 210702082,\n",
       " 210705140,\n",
       " 210705141,\n",
       " 210705145,\n",
       " 210706142,\n",
       " 210707153,\n",
       " 210709140,\n",
       " 210712135,\n",
       " 210715128,\n",
       " 210715136,\n",
       " 210716162,\n",
       " 210719127,\n",
       " 210719132,\n",
       " 210719133,\n",
       " 210719138,\n",
       " 210723133,\n",
       " 210726132,\n",
       " 210802141,\n",
       " 210804127,\n",
       " 210806141,\n",
       " 210809160,\n",
       " 210811159,\n",
       " 210816132,\n",
       " 210819128,\n",
       " 210819135,\n",
       " 210823143,\n",
       " 210823147,\n",
       " 210827148,\n",
       " 210830138,\n",
       " 210902143,\n",
       " 210903149,\n",
       " 210910144,\n",
       " 210913156,\n",
       " 210913171,\n",
       " 210914125,\n",
       " 210917163,\n",
       " 210924147,\n",
       " 211005127,\n",
       " 211007157,\n",
       " 211010003,\n",
       " 211011125,\n",
       " 211013133,\n",
       " 211018134,\n",
       " 211018145,\n",
       " 211019144,\n",
       " 211020141,\n",
       " 211020158,\n",
       " 211025141,\n",
       " 211026137,\n",
       " 211028142,\n",
       " 211101157,\n",
       " 211108137,\n",
       " 211108142,\n",
       " 211109155,\n",
       " 211110131,\n",
       " 211110139,\n",
       " 211111141,\n",
       " 211113014,\n",
       " 211115140,\n",
       " 211117129,\n",
       " 211118156,\n",
       " 211118157,\n",
       " 211122148,\n",
       " 211122150,\n",
       " 211122168,\n",
       " 211124116,\n",
       " 211125151,\n",
       " 211129134,\n",
       " 211204003,\n",
       " 211206138,\n",
       " 211209161,\n",
       " 211215154,\n",
       " 211220134,\n",
       " 211220159,\n",
       " 211223128,\n",
       " 211229142,\n",
       " 211231147,\n",
       " 220103141,\n",
       " 220103157,\n",
       " 220104136,\n",
       " 220105143,\n",
       " 220118131,\n",
       " 220119139,\n",
       " 220119149,\n",
       " 220124153,\n",
       " 220126156,\n",
       " 220128153,\n",
       " 220128166,\n",
       " 220128177,\n",
       " 220203151,\n",
       " 220204142,\n",
       " 220204156,\n",
       " 220207145,\n",
       " 220207147,\n",
       " 220207160,\n",
       " 220212006,\n",
       " 220214137,\n",
       " 220214144,\n",
       " 220216153,\n",
       " 220217145,\n",
       " 220221131,\n",
       " 220223125,\n",
       " 220228127,\n",
       " 220303114,\n",
       " 220304124,\n",
       " 220304139,\n",
       " 220307139,\n",
       " 220308135,\n",
       " 220310134,\n",
       " 220315142,\n",
       " 220316138,\n",
       " 220316141,\n",
       " 220321138,\n",
       " 220322119,\n",
       " 220325128,\n",
       " 220328147,\n",
       " 220330134,\n",
       " 220330137}"
      ]
     },
     "execution_count": 32,
     "metadata": {},
     "output_type": "execute_result"
    }
   ],
   "source": [
    "# age와 age_cal 값이 차이나는 데이터들\n",
    "set1 = set(df.loc[df['age'] < 10]['opid'].values)\n",
    "set2 = set(df.loc[df['age_cal'] < 10]['opid'].values)\n",
    "set2 - set1"
   ]
  },
  {
   "cell_type": "code",
   "execution_count": 73,
   "id": "f3fa1b41-ea34-4d05-9b54-0a4453298dc7",
   "metadata": {
    "execution": {
     "iopub.execute_input": "2023-02-16T15:04:22.620303Z",
     "iopub.status.busy": "2023-02-16T15:04:22.619729Z",
     "iopub.status.idle": "2023-02-16T15:04:22.626971Z",
     "shell.execute_reply": "2023-02-16T15:04:22.625886Z",
     "shell.execute_reply.started": "2023-02-16T15:04:22.620247Z"
    },
    "tags": []
   },
   "outputs": [
    {
     "name": "stdout",
     "output_type": "stream",
     "text": [
      "cuffed data가 없는 경우는 제외: 45067\n"
     ]
    }
   ],
   "source": [
    "# cuffed 여부와 fixed depth 추가\n",
    "df_t = pd.read_csv('tube_type.csv')\n",
    "df_t['cuffed'] = (df_t['cuffed'] == 1)\n",
    "\n",
    "df_f = pd.read_csv('tube_fixed.csv')\n",
    "\n",
    "# merge 하면서 cuffed 데이터가 없는 경우는 제외\n",
    "df = df.merge(df_f, how='left', on='opid')\n",
    "df = df.merge(df_t[['opid', 'cuffed']], how='inner', on='opid')\n",
    "print(f'cuffed data가 없는 경우는 제외: {len(df)}')"
   ]
  },
  {
   "cell_type": "code",
   "execution_count": 77,
   "id": "fe43f0b4-ebbd-4129-b638-62b7ad992c83",
   "metadata": {
    "execution": {
     "iopub.execute_input": "2023-02-16T15:07:08.742454Z",
     "iopub.status.busy": "2023-02-16T15:07:08.741877Z",
     "iopub.status.idle": "2023-02-16T15:07:10.480102Z",
     "shell.execute_reply": "2023-02-16T15:07:10.479438Z",
     "shell.execute_reply.started": "2023-02-16T15:07:08.742396Z"
    },
    "tags": []
   },
   "outputs": [
    {
     "name": "stdout",
     "output_type": "stream",
     "text": [
      "중복되는 hid는 첫번째 수술 외 제외: 34042\n"
     ]
    }
   ],
   "source": [
    "# 중복되는 hid 경우 제외 (첫번째 수술기록만 가져오기)\n",
    "df = df.merge(df_o[['opid','hid']], how='inner', on='opid')\n",
    "df = df.loc[df[['hid', 'opid']].groupby('hid')['opid'].idxmin()]\n",
    "print(f'중복되는 hid는 첫번째 수술 외 제외: {len(df)}')"
   ]
  },
  {
   "cell_type": "markdown",
   "id": "e2aa0d9d-b06f-41b3-abdb-51d4eb14166a",
   "metadata": {},
   "source": [
    "# Data preprocessing"
   ]
  },
  {
   "cell_type": "code",
   "execution_count": 2,
   "id": "06ba235c-6d46-40fb-b212-f5a2dc4a662b",
   "metadata": {
    "execution": {
     "iopub.execute_input": "2023-02-17T04:03:02.875961Z",
     "iopub.status.busy": "2023-02-17T04:03:02.875514Z",
     "iopub.status.idle": "2023-02-17T04:03:06.268410Z",
     "shell.execute_reply": "2023-02-17T04:03:06.267700Z",
     "shell.execute_reply.started": "2023-02-17T04:03:02.875912Z"
    },
    "tags": []
   },
   "outputs": [],
   "source": [
    "from sklearn.model_selection import GridSearchCV, RandomizedSearchCV\n",
    "from sklearn.metrics import explained_variance_score, mean_squared_error, mean_absolute_error, r2_score\n",
    "from sklearn.utils import shuffle\n",
    "import pandas as pd\n",
    "import xgboost as xgb\n",
    "import numpy as np\n",
    "import random, os, datetime, pickle\n",
    "import scipy\n",
    "import matplotlib.pyplot as plt\n",
    "import numpy as np\n",
    "import csv, math\n",
    "\n",
    "\n",
    "# tube.csv에 수술 시점 weight, height 추가\n",
    "df0 = pd.read_csv('tube.csv')\n",
    "df0.drop(columns=['weight', 'height'], inplace=True)\n",
    "df = pd.read_csv('demography_revised.csv')\n",
    "df = df0.merge(df[['opid', 'weight', 'height']], how='left', on='opid', suffixes=('_o',''))\n",
    "\n",
    "df.loc[df['weight'] <= 0, 'weight'] = None\n",
    "df.loc[df['height'] <= 0, 'height'] = None\n",
    "df['age'] = df['age'].astype(int)\n",
    "df = df.loc[df['airway_tube_type'] == 'plain']\n",
    "# [nan 'plain' 'RAE(oral)' 'reinforced' 'LMA' 'T-tube' 'CobraPLA', 'double lumen tube' 'RAE(nasal)' 'laser' 'combitube' 'univent']\n",
    "\n",
    "# age, sex, airway tube size 값이 없는 경우는 제외\n",
    "df.dropna(subset=['age', 'airway_tube_size'], inplace=True)\n",
    "df['sex'] = (df['sex'] == 'M')\n",
    "\n",
    "# 나이 계산 -> age_cal 열에 추가\n",
    "df_b = pd.read_csv('birth_sex.csv')\n",
    "df_b.rename(columns={'생년월일':'birth_date'}, inplace=True)\n",
    "df_b['birth_date'] = df_b['birth_date'].apply(lambda x: datetime.datetime.strptime(x, '%Y-%m-%d'))\n",
    "\n",
    "df_o = pd.read_csv('opdates.csv')\n",
    "df_o['opdate'] = df_o['opdate'].apply(lambda x: datetime.datetime.strptime(x, '%Y-%m-%d'))\n",
    "\n",
    "df1 = pd.merge(df_o, df_b, how='inner', on='hid')\n",
    "df1['age_cal'] = (df1['opdate'] - df1['birth_date'])/pd.Timedelta(days=365.2425)\n",
    "\n",
    "df = pd.merge(df, df1[['opid', 'age_cal', 'opdate', 'birth_date']], how='inner', on='opid')\n",
    "\n",
    "\n",
    "# inclusion criteria : 소아 10세 미만\n",
    "df = df.loc[df['age_cal'] < 10-0.01]\n",
    "df = df.loc[df['age_cal'] > 0]\n",
    "df['age'] = df['age_cal'].apply(lambda x: math.floor(x))"
   ]
  },
  {
   "cell_type": "code",
   "execution_count": 3,
   "id": "8c7a908d-b0fd-4522-8440-117f5878f7eb",
   "metadata": {
    "execution": {
     "iopub.execute_input": "2023-02-17T04:03:06.269842Z",
     "iopub.status.busy": "2023-02-17T04:03:06.269578Z",
     "iopub.status.idle": "2023-02-17T04:03:08.296678Z",
     "shell.execute_reply": "2023-02-17T04:03:08.296012Z",
     "shell.execute_reply.started": "2023-02-17T04:03:06.269816Z"
    },
    "tags": []
   },
   "outputs": [
    {
     "name": "stdout",
     "output_type": "stream",
     "text": [
      "중복되는 hid는 첫번째 수술 외 제외: 34042\n",
      "소아 10세 미만에서 cuffed ETT 사용 비율: 0.287\n",
      "소아 10세 미만 최종 opid수: 34042\n"
     ]
    }
   ],
   "source": [
    "# cuffed 여부와 fixed depth 추가\n",
    "df_t = pd.read_csv('tube_type.csv')\n",
    "df_t['cuffed'] = (df_t['cuffed'] == 1)\n",
    "\n",
    "df_f = pd.read_csv('tube_fixed.csv')\n",
    "\n",
    "# merge 하면서 cuffed 데이터가 없는 경우는 제외\n",
    "df = df.merge(df_f, how='left', on='opid')\n",
    "df = df.merge(df_t[['opid', 'cuffed']], how='inner', on='opid')\n",
    "\n",
    "# 중복되는 hid 경우 제외 (첫번째 수술기록만 가져오기)\n",
    "df = df.merge(df_o[['opid','hid']], how='inner', on='opid')\n",
    "df = df.loc[df[['hid', 'opid']].groupby('hid')['opid'].idxmin()]\n",
    "print(f'중복되는 hid는 첫번째 수술 외 제외: {len(df)}')\n",
    "\n",
    "\n",
    "perc = np.mean(df['cuffed'].values)\n",
    "print(f'소아 10세 미만에서 cuffed ETT 사용 비율: {perc:.3f}')\n",
    "print(f'소아 10세 미만 최종 opid수: {len(df)}')"
   ]
  },
  {
   "cell_type": "code",
   "execution_count": 171,
   "id": "3a65aff4-c09c-4629-8668-1febbe956b35",
   "metadata": {
    "execution": {
     "iopub.execute_input": "2023-02-16T09:58:09.699740Z",
     "iopub.status.busy": "2023-02-16T09:58:09.699189Z",
     "iopub.status.idle": "2023-02-16T09:58:10.882352Z",
     "shell.execute_reply": "2023-02-16T09:58:10.881789Z",
     "shell.execute_reply.started": "2023-02-16T09:58:09.699682Z"
    },
    "tags": []
   },
   "outputs": [],
   "source": [
    "# age-based formula에 따른 ETT size\n",
    "OLD_VAR = 'old_tube_size'\n",
    "# df[OLD_VAR] = np.round((df['age'] / 4 + 4) * 2) / 2\n",
    "df[OLD_VAR] = df['age'].apply(lambda x: np.round((x / 4 + 4) * 2) / 2 if x >= 2 else (3.5 if x < 1 else 4)) \n",
    "df[OLD_VAR] = df.apply(lambda x: x[OLD_VAR] - 0.5 if x['cuffed'] else x[OLD_VAR], axis=1)"
   ]
  },
  {
   "cell_type": "code",
   "execution_count": 5,
   "id": "e9422350-fef6-4c94-8af8-0d5cc91d7d30",
   "metadata": {
    "execution": {
     "iopub.execute_input": "2023-02-17T04:03:15.595581Z",
     "iopub.status.busy": "2023-02-17T04:03:15.595050Z",
     "iopub.status.idle": "2023-02-17T04:03:15.625668Z",
     "shell.execute_reply": "2023-02-17T04:03:15.624821Z",
     "shell.execute_reply.started": "2023-02-17T04:03:15.595525Z"
    },
    "tags": []
   },
   "outputs": [],
   "source": [
    "INPUT_VARS = ['age_cal','sex','weight','height', 'cuffed']\n",
    "TARGET_VAR = 'airway_tube_size'\n",
    "\n",
    "random.seed(98)\n",
    "df = shuffle(df)\n",
    "df.reset_index(drop=True, inplace=True)\n",
    "y = df[[TARGET_VAR]].values.flatten().astype(float)\n",
    "c = df['opid'].values.flatten().astype(int)\n",
    "#y_old = df[[OLD_VAR]].values.flatten().astype(float)\n",
    "x = df.loc[:, INPUT_VARS].values.astype(float)\n",
    "\n",
    "# 저장하기\n",
    "#np.savez(f'dataset/ETT_size.npz', x=x, y=y, y_old=y_old, c=c)"
   ]
  },
  {
   "cell_type": "code",
   "execution_count": 6,
   "id": "ffb2e41c-dc54-4509-b327-910b1472868a",
   "metadata": {
    "execution": {
     "iopub.execute_input": "2023-02-17T04:03:18.426852Z",
     "iopub.status.busy": "2023-02-17T04:03:18.426451Z",
     "iopub.status.idle": "2023-02-17T04:03:18.434939Z",
     "shell.execute_reply": "2023-02-17T04:03:18.433900Z",
     "shell.execute_reply.started": "2023-02-17T04:03:18.426809Z"
    },
    "tags": []
   },
   "outputs": [
    {
     "name": "stdout",
     "output_type": "stream",
     "text": [
      "x_train: (27234, 5), x_test: (6808, 5)\n"
     ]
    }
   ],
   "source": [
    "#dat = np.load(f'dataset/ETT_size.npz')\n",
    "\n",
    "# training set의 뒤쪽 20%를 test set 으로 사용\n",
    "nsamp = len(y)\n",
    "ntest = int(nsamp * 0.2)\n",
    "ntrain = nsamp - ntest\n",
    "x_test = x[-ntest:, :]\n",
    "y_test = y[-ntest:]\n",
    "#y_test_old = y_old[-ntest:]\n",
    "x_train = x[:ntrain, :]\n",
    "y_train = y[:ntrain]\n",
    "\n",
    "print(f'x_train: {(x_train).shape}, x_test: {x_test.shape}')"
   ]
  },
  {
   "cell_type": "code",
   "execution_count": null,
   "id": "294e5109-e7d0-4236-becb-50c159ff047e",
   "metadata": {},
   "outputs": [],
   "source": [
    "# label encoding for classification model: 2 -> 0, 2.5 -> 1, ... 8.5 -> 14 로 tube size x 2 - 4\n",
    "df['label'] = df[TARGET_VAR].apply(lambda x: x*2-4)\n",
    "\n",
    "for i in range(14):\n",
    "    df[f'{i}'] = df['label'].apply(lambda x: 1 if x==i else 0)\n",
    "    \n",
    "y_label = df[[f'{i}' for i in range(14)]].values\n",
    "yl_test = y_label[-ntest:]\n",
    "yl_train = y_label[:ntrain]"
   ]
  },
  {
   "cell_type": "markdown",
   "id": "15de3a22-e08a-4762-b840-ea08196c631f",
   "metadata": {},
   "source": [
    "# ETT Size"
   ]
  },
  {
   "cell_type": "markdown",
   "id": "3b684096-c221-44ef-8212-216494307080",
   "metadata": {},
   "source": [
    "## age-based formula"
   ]
  },
  {
   "cell_type": "code",
   "execution_count": null,
   "id": "b13e5f95-7242-4509-924c-7697107aecb9",
   "metadata": {},
   "outputs": [],
   "source": [
    "# age-based formula에 따른 ETT size\n",
    "OLD_VAR = 'old_tube_size'\n",
    "# df[OLD_VAR] = np.round((df['age'] / 4 + 4) * 2) / 2\n",
    "df[OLD_VAR] = df['age'].apply(lambda x: np.round((x / 4 + 4) * 2) / 2 if x >= 2 else (3.5 if x < 1 else 4)) \n",
    "df[OLD_VAR] = df.apply(lambda x: x[OLD_VAR] - 0.5 if x['cuffed'] else x[OLD_VAR], axis=1)\n",
    "\n",
    "y_old = df[[OLD_VAR]].values.flatten().astype(float)\n",
    "y_test_old = y[-ntest:]"
   ]
  },
  {
   "cell_type": "code",
   "execution_count": 192,
   "id": "b94ec787-a440-45d5-ad0b-77a87e7be86d",
   "metadata": {
    "execution": {
     "iopub.execute_input": "2023-02-16T10:07:31.923591Z",
     "iopub.status.busy": "2023-02-16T10:07:31.923038Z",
     "iopub.status.idle": "2023-02-16T10:07:31.937345Z",
     "shell.execute_reply": "2023-02-16T10:07:31.936480Z",
     "shell.execute_reply.started": "2023-02-16T10:07:31.923534Z"
    },
    "tags": []
   },
   "outputs": [
    {
     "name": "stdout",
     "output_type": "stream",
     "text": [
      "--------------\n",
      "old model = age/4+4\n",
      "--------------\n",
      "explained_variance_score: 0.777\n",
      "mean_squared_errors: 0.297\n",
      "r2_score: 0.695\n",
      "acc: 0.339\n",
      "acc(+-0.5mm): 0.868\n"
     ]
    }
   ],
   "source": [
    "print('--------------')\n",
    "print('old model = age/4+4')\n",
    "print('--------------')\n",
    "print(f'explained_variance_score: {explained_variance_score(y_test, y_test_old):.3f}')\n",
    "print(f'mean_squared_errors: {mean_squared_error(y_test, y_test_old):.3f}')\n",
    "print(f'r2_score: {r2_score(y_test, y_test_old):.3f}')\n",
    "# accuracy\n",
    "acc1 = np.mean(y_test_old==y_test)\n",
    "acc3 = np.mean((y_test_old >= y_test-0.5) & (y_test_old <= y_test+0.5))\n",
    "print(f'acc: {acc1:.3f}')\n",
    "print(f'acc(+-0.5mm): {acc3:.3f}')"
   ]
  },
  {
   "cell_type": "markdown",
   "id": "0f425cc7-dec2-4df2-a348-a327e01fc497",
   "metadata": {},
   "source": [
    "## XGBoostRegression"
   ]
  },
  {
   "cell_type": "markdown",
   "id": "365040ae-0883-4577-a8c2-863d0de8abae",
   "metadata": {},
   "source": [
    "* 결측치 그대로 이용"
   ]
  },
  {
   "cell_type": "code",
   "execution_count": 193,
   "id": "f8959dc4-de60-42b6-85a2-99336001bd33",
   "metadata": {
    "execution": {
     "iopub.execute_input": "2023-02-16T10:09:53.878667Z",
     "iopub.status.busy": "2023-02-16T10:09:53.878079Z",
     "iopub.status.idle": "2023-02-16T10:10:22.444151Z",
     "shell.execute_reply": "2023-02-16T10:10:22.443381Z",
     "shell.execute_reply.started": "2023-02-16T10:09:53.878610Z"
    },
    "scrolled": true,
    "tags": []
   },
   "outputs": [
    {
     "name": "stdout",
     "output_type": "stream",
     "text": [
      "Fitting 5 folds for each of 36 candidates, totalling 180 fits\n"
     ]
    },
    {
     "name": "stderr",
     "output_type": "stream",
     "text": [
      "/home/painstudy/.local/lib/python3.8/site-packages/sklearn/model_selection/_search.py:292: UserWarning: The total space of parameters 36 is smaller than n_iter=100. Running 36 iterations. For exhaustive searches, use GridSearchCV.\n",
      "  warnings.warn(\n"
     ]
    },
    {
     "name": "stdout",
     "output_type": "stream",
     "text": [
      "\n",
      "========= found hyperparameter =========\n",
      "{'subsample': 0.8, 'n_estimators': 100, 'max_depth': 4, 'colsample_bytree': 0.5}\n",
      "0.8717466516356295\n",
      "========================================\n",
      "--------------\n",
      "old model = age/4+4\n",
      "--------------\n",
      "explained_variance_score: 0.777\n",
      "mean_squared_errors: 0.297\n",
      "r2_score: 0.695\n",
      "acc: 0.339\n",
      "acc(+-0.5mm): 0.868\n",
      "--------------\n",
      "new model\n",
      "--------------\n",
      "explained_variance_score: 0.855\n",
      "mean_squared_errors: 0.141\n",
      "r2_score: 0.855\n",
      "acc: 0.587\n",
      "acc(+-0.5mm): 0.963\n",
      "[CV 3/5] END colsample_bytree=0.5, max_depth=4, n_estimators=100, subsample=0.5;, score=0.871 total time=   1.9s\n",
      "[CV 2/5] END colsample_bytree=0.5, max_depth=5, n_estimators=200, subsample=0.8;, score=0.866 total time=   3.5s\n",
      "[CV 4/5] END colsample_bytree=0.5, max_depth=7, n_estimators=300, subsample=0.8;, score=0.857 total time=   7.1s\n",
      "[CV 5/5] END colsample_bytree=0.8, max_depth=7, n_estimators=100, subsample=0.8;, score=0.868 total time=   3.8s\n",
      "[CV 1/5] END colsample_bytree=0.5, max_depth=5, n_estimators=200, subsample=0.5;, score=0.865 total time=   3.8s\n",
      "[CV 2/5] END colsample_bytree=0.5, max_depth=7, n_estimators=200, subsample=0.5;, score=0.855 total time=   4.8s\n",
      "[CV 2/5] END colsample_bytree=0.8, max_depth=5, n_estimators=100, subsample=0.5;, score=0.868 total time=   2.6s\n",
      "[CV 2/5] END colsample_bytree=0.8, max_depth=5, n_estimators=200, subsample=0.5;, score=0.863 total time=   5.3s\n",
      "[CV 4/5] END colsample_bytree=0.5, max_depth=5, n_estimators=100, subsample=0.8;, score=0.872 total time=   2.3s\n",
      "[CV 4/5] END colsample_bytree=0.5, max_depth=5, n_estimators=300, subsample=0.5;, score=0.863 total time=   5.2s\n",
      "[CV 4/5] END colsample_bytree=0.8, max_depth=4, n_estimators=200, subsample=0.8;, score=0.872 total time=   4.1s\n",
      "[CV 1/5] END colsample_bytree=0.8, max_depth=5, n_estimators=200, subsample=0.8;, score=0.863 total time=   5.1s\n",
      "[CV 4/5] END colsample_bytree=0.5, max_depth=5, n_estimators=100, subsample=0.5;, score=0.871 total time=   2.6s\n",
      "[CV 2/5] END colsample_bytree=0.5, max_depth=5, n_estimators=300, subsample=0.8;, score=0.864 total time=   5.0s\n",
      "[CV 4/5] END colsample_bytree=0.8, max_depth=4, n_estimators=200, subsample=0.5;, score=0.870 total time=   4.2s\n",
      "[CV 4/5] END colsample_bytree=0.8, max_depth=5, n_estimators=200, subsample=0.8;, score=0.867 total time=   5.1s\n",
      "[CV 3/5] END colsample_bytree=0.5, max_depth=5, n_estimators=100, subsample=0.5;, score=0.869 total time=   2.4s\n",
      "[CV 1/5] END colsample_bytree=0.5, max_depth=5, n_estimators=300, subsample=0.5;, score=0.861 total time=   5.1s\n",
      "[CV 1/5] END colsample_bytree=0.8, max_depth=4, n_estimators=200, subsample=0.5;, score=0.864 total time=   4.2s\n",
      "[CV 4/5] END colsample_bytree=0.8, max_depth=5, n_estimators=200, subsample=0.5;, score=0.865 total time=   5.2s\n",
      "[CV 1/5] END colsample_bytree=0.5, max_depth=5, n_estimators=100, subsample=0.5;, score=0.867 total time=   2.4s\n",
      "[CV 2/5] END colsample_bytree=0.5, max_depth=5, n_estimators=300, subsample=0.5;, score=0.863 total time=   5.2s\n",
      "[CV 3/5] END colsample_bytree=0.8, max_depth=4, n_estimators=200, subsample=0.5;, score=0.868 total time=   4.2s\n",
      "[CV 2/5] END colsample_bytree=0.8, max_depth=5, n_estimators=200, subsample=0.8;, score=0.866 total time=   5.1s\n",
      "[CV 1/5] END colsample_bytree=0.5, max_depth=4, n_estimators=100, subsample=0.5;, score=0.869 total time=   1.0s\n",
      "[CV 5/5] END colsample_bytree=0.5, max_depth=4, n_estimators=300, subsample=0.8;, score=0.872 total time=   3.6s\n",
      "[CV 5/5] END colsample_bytree=0.5, max_depth=5, n_estimators=300, subsample=0.8;, score=0.869 total time=   5.0s\n",
      "[CV 1/5] END colsample_bytree=0.8, max_depth=4, n_estimators=200, subsample=0.8;, score=0.867 total time=   4.1s\n",
      "[CV 3/5] END colsample_bytree=0.8, max_depth=5, n_estimators=200, subsample=0.5;, score=0.865 total time=   5.3s\n",
      "[CV 5/5] END colsample_bytree=0.5, max_depth=5, n_estimators=100, subsample=0.5;, score=0.872 total time=   2.6s\n",
      "[CV 3/5] END colsample_bytree=0.5, max_depth=5, n_estimators=300, subsample=0.8;, score=0.865 total time=   5.0s\n",
      "[CV 5/5] END colsample_bytree=0.8, max_depth=4, n_estimators=200, subsample=0.5;, score=0.871 total time=   4.2s\n",
      "[CV 5/5] END colsample_bytree=0.8, max_depth=5, n_estimators=200, subsample=0.8;, score=0.868 total time=   5.1s\n",
      "[CV 2/5] END colsample_bytree=0.5, max_depth=5, n_estimators=100, subsample=0.8;, score=0.869 total time=   2.4s\n",
      "[CV 3/5] END colsample_bytree=0.5, max_depth=5, n_estimators=300, subsample=0.5;, score=0.863 total time=   5.2s\n",
      "[CV 3/5] END colsample_bytree=0.8, max_depth=4, n_estimators=200, subsample=0.8;, score=0.870 total time=   4.1s\n",
      "[CV 3/5] END colsample_bytree=0.8, max_depth=5, n_estimators=200, subsample=0.8;, score=0.867 total time=   5.2s\n",
      "[CV 2/5] END colsample_bytree=0.5, max_depth=5, n_estimators=100, subsample=0.5;, score=0.868 total time=   2.5s\n",
      "[CV 1/5] END colsample_bytree=0.5, max_depth=5, n_estimators=300, subsample=0.8;, score=0.864 total time=   5.0s\n",
      "[CV 2/5] END colsample_bytree=0.8, max_depth=4, n_estimators=200, subsample=0.5;, score=0.867 total time=   4.3s\n",
      "[CV 5/5] END colsample_bytree=0.8, max_depth=5, n_estimators=200, subsample=0.5;, score=0.867 total time=   5.3s\n",
      "[CV 4/5] END colsample_bytree=0.5, max_depth=4, n_estimators=300, subsample=0.8;, score=0.870 total time=   5.0s\n",
      "[CV 1/5] END colsample_bytree=0.5, max_depth=7, n_estimators=200, subsample=0.8;, score=0.860 total time=   4.4s\n",
      "[CV 3/5] END colsample_bytree=0.8, max_depth=5, n_estimators=100, subsample=0.5;, score=0.869 total time=   2.7s\n",
      "[CV 1/5] END colsample_bytree=0.8, max_depth=5, n_estimators=300, subsample=0.8;, score=0.860 total time=   6.5s\n",
      "[CV 4/5] END colsample_bytree=0.5, max_depth=4, n_estimators=300, subsample=0.5;, score=0.867 total time=   5.1s\n",
      "[CV 2/5] END colsample_bytree=0.5, max_depth=7, n_estimators=300, subsample=0.5;, score=0.850 total time=   7.0s\n",
      "[CV 2/5] END colsample_bytree=0.8, max_depth=5, n_estimators=300, subsample=0.8;, score=0.863 total time=   6.6s\n",
      "[CV 1/5] END colsample_bytree=0.5, max_depth=5, n_estimators=100, subsample=0.8;, score=0.869 total time=   2.5s\n",
      "[CV 5/5] END colsample_bytree=0.5, max_depth=5, n_estimators=300, subsample=0.5;, score=0.866 total time=   5.2s\n",
      "[CV 5/5] END colsample_bytree=0.8, max_depth=4, n_estimators=200, subsample=0.8;, score=0.873 total time=   4.1s\n",
      "[CV 1/5] END colsample_bytree=0.8, max_depth=5, n_estimators=300, subsample=0.5;, score=0.855 total time=   7.0s\n",
      "[CV 4/5] END colsample_bytree=0.5, max_depth=4, n_estimators=100, subsample=0.8;, score=0.873 total time=   1.7s\n",
      "[CV 3/5] END colsample_bytree=0.5, max_depth=5, n_estimators=200, subsample=0.5;, score=0.866 total time=   3.5s\n",
      "[CV 1/5] END colsample_bytree=0.5, max_depth=7, n_estimators=300, subsample=0.8;, score=0.856 total time=   6.8s\n",
      "[CV 4/5] END colsample_bytree=0.8, max_depth=5, n_estimators=300, subsample=0.5;, score=0.861 total time=   6.9s\n",
      "[CV 3/5] END colsample_bytree=0.5, max_depth=4, n_estimators=200, subsample=0.5;, score=0.869 total time=   3.6s\n",
      "[CV 4/5] END colsample_bytree=0.5, max_depth=7, n_estimators=100, subsample=0.8;, score=0.867 total time=   2.3s\n",
      "[CV 4/5] END colsample_bytree=0.8, max_depth=4, n_estimators=100, subsample=0.8;, score=0.873 total time=   2.1s\n",
      "[CV 4/5] END colsample_bytree=0.8, max_depth=4, n_estimators=300, subsample=0.8;, score=0.869 total time=   6.2s\n",
      "[CV 2/5] END colsample_bytree=0.8, max_depth=7, n_estimators=200, subsample=0.8;, score=0.857 total time=   5.1s\n",
      "[CV 3/5] END colsample_bytree=0.5, max_depth=4, n_estimators=100, subsample=0.8;, score=0.872 total time=   2.1s\n",
      "[CV 4/5] END colsample_bytree=0.5, max_depth=5, n_estimators=200, subsample=0.8;, score=0.870 total time=   3.4s\n",
      "[CV 1/5] END colsample_bytree=0.8, max_depth=4, n_estimators=100, subsample=0.5;, score=0.867 total time=   2.1s\n",
      "[CV 2/5] END colsample_bytree=0.8, max_depth=4, n_estimators=200, subsample=0.8;, score=0.869 total time=   4.2s\n",
      "[CV 2/5] END colsample_bytree=0.8, max_depth=5, n_estimators=300, subsample=0.5;, score=0.858 total time=   7.5s\n",
      "[CV 1/5] END colsample_bytree=0.5, max_depth=4, n_estimators=300, subsample=0.8;, score=0.867 total time=   5.0s\n",
      "[CV 2/5] END colsample_bytree=0.5, max_depth=7, n_estimators=200, subsample=0.8;, score=0.860 total time=   4.6s\n",
      "[CV 1/5] END colsample_bytree=0.8, max_depth=5, n_estimators=100, subsample=0.8;, score=0.867 total time=   2.5s\n",
      "[CV 4/5] END colsample_bytree=0.8, max_depth=5, n_estimators=300, subsample=0.8;, score=0.864 total time=   7.3s\n",
      "[CV 4/5] END colsample_bytree=0.5, max_depth=4, n_estimators=200, subsample=0.8;, score=0.871 total time=   3.5s\n",
      "[CV 5/5] END colsample_bytree=0.5, max_depth=7, n_estimators=100, subsample=0.5;, score=0.867 total time=   2.3s\n",
      "[CV 1/5] END colsample_bytree=0.8, max_depth=4, n_estimators=100, subsample=0.8;, score=0.869 total time=   2.0s\n",
      "[CV 4/5] END colsample_bytree=0.8, max_depth=4, n_estimators=300, subsample=0.5;, score=0.867 total time=   6.3s\n",
      "[CV 1/5] END colsample_bytree=0.8, max_depth=7, n_estimators=200, subsample=0.8;, score=0.854 total time=   5.3s\n",
      "[CV 3/5] END colsample_bytree=0.5, max_depth=4, n_estimators=200, subsample=0.8;, score=0.871 total time=   3.5s\n",
      "[CV 1/5] END colsample_bytree=0.5, max_depth=7, n_estimators=100, subsample=0.8;, score=0.865 total time=   2.2s\n",
      "[CV 4/5] END colsample_bytree=0.8, max_depth=4, n_estimators=100, subsample=0.5;, score=0.872 total time=   2.1s\n",
      "[CV 5/5] END colsample_bytree=0.8, max_depth=4, n_estimators=300, subsample=0.5;, score=0.868 total time=   6.4s\n",
      "[CV 4/5] END colsample_bytree=0.8, max_depth=7, n_estimators=200, subsample=0.8;, score=0.857 total time=   5.4s\n",
      "[CV 1/5] END colsample_bytree=0.5, max_depth=4, n_estimators=300, subsample=0.5;, score=0.866 total time=   4.7s\n",
      "[CV 4/5] END colsample_bytree=0.5, max_depth=7, n_estimators=200, subsample=0.5;, score=0.856 total time=   4.8s\n",
      "[CV 5/5] END colsample_bytree=0.8, max_depth=5, n_estimators=100, subsample=0.5;, score=0.871 total time=   2.6s\n",
      "[CV 3/5] END colsample_bytree=0.8, max_depth=5, n_estimators=300, subsample=0.8;, score=0.863 total time=   7.6s\n",
      "[CV 2/5] END colsample_bytree=0.5, max_depth=4, n_estimators=100, subsample=0.5;, score=0.869 total time=   1.1s\n",
      "[CV 2/5] END colsample_bytree=0.5, max_depth=5, n_estimators=200, subsample=0.5;, score=0.865 total time=   3.5s\n",
      "[CV 3/5] END colsample_bytree=0.5, max_depth=7, n_estimators=200, subsample=0.5;, score=0.854 total time=   4.7s\n",
      "[CV 4/5] END colsample_bytree=0.8, max_depth=5, n_estimators=100, subsample=0.5;, score=0.870 total time=   2.6s\n",
      "[CV 5/5] END colsample_bytree=0.8, max_depth=5, n_estimators=300, subsample=0.5;, score=0.862 total time=   7.8s\n",
      "[CV 2/5] END colsample_bytree=0.5, max_depth=4, n_estimators=300, subsample=0.5;, score=0.867 total time=   5.1s\n",
      "[CV 1/5] END colsample_bytree=0.5, max_depth=7, n_estimators=300, subsample=0.5;, score=0.851 total time=   6.9s\n",
      "[CV 3/5] END colsample_bytree=0.8, max_depth=5, n_estimators=300, subsample=0.5;, score=0.861 total time=   7.9s\n",
      "[CV 5/5] END colsample_bytree=0.5, max_depth=4, n_estimators=100, subsample=0.5;, score=0.873 total time=   1.8s\n",
      "[CV 5/5] END colsample_bytree=0.5, max_depth=5, n_estimators=200, subsample=0.5;, score=0.868 total time=   3.5s\n",
      "[CV 2/5] END colsample_bytree=0.5, max_depth=7, n_estimators=300, subsample=0.8;, score=0.855 total time=   6.9s\n",
      "[CV 5/5] END colsample_bytree=0.8, max_depth=5, n_estimators=300, subsample=0.8;, score=0.865 total time=   7.7s\n",
      "[CV 2/5] END colsample_bytree=0.5, max_depth=4, n_estimators=200, subsample=0.5;, score=0.868 total time=   3.6s\n",
      "[CV 5/5] END colsample_bytree=0.5, max_depth=7, n_estimators=100, subsample=0.8;, score=0.869 total time=   2.3s\n",
      "[CV 5/5] END colsample_bytree=0.8, max_depth=4, n_estimators=100, subsample=0.8;, score=0.874 total time=   2.1s\n",
      "[CV 5/5] END colsample_bytree=0.8, max_depth=4, n_estimators=300, subsample=0.8;, score=0.871 total time=   6.2s\n",
      "[CV 3/5] END colsample_bytree=0.8, max_depth=7, n_estimators=200, subsample=0.8;, score=0.858 total time=   6.1s\n",
      "[CV 4/5] END colsample_bytree=0.5, max_depth=4, n_estimators=200, subsample=0.5;, score=0.870 total time=   3.4s\n",
      "[CV 3/5] END colsample_bytree=0.5, max_depth=7, n_estimators=100, subsample=0.5;, score=0.863 total time=   2.3s\n",
      "[CV 3/5] END colsample_bytree=0.8, max_depth=4, n_estimators=100, subsample=0.5;, score=0.871 total time=   2.1s\n",
      "[CV 3/5] END colsample_bytree=0.8, max_depth=4, n_estimators=300, subsample=0.5;, score=0.865 total time=   6.3s\n",
      "[CV 3/5] END colsample_bytree=0.8, max_depth=7, n_estimators=200, subsample=0.5;, score=0.849 total time=   6.4s\n",
      "[CV 2/5] END colsample_bytree=0.5, max_depth=4, n_estimators=100, subsample=0.8;, score=0.870 total time=   2.1s\n",
      "[CV 5/5] END colsample_bytree=0.5, max_depth=5, n_estimators=200, subsample=0.8;, score=0.871 total time=   3.4s\n",
      "[CV 2/5] END colsample_bytree=0.8, max_depth=4, n_estimators=100, subsample=0.5;, score=0.869 total time=   2.1s\n",
      "[CV 1/5] END colsample_bytree=0.8, max_depth=4, n_estimators=300, subsample=0.5;, score=0.861 total time=   6.3s\n",
      "[CV 1/5] END colsample_bytree=0.8, max_depth=7, n_estimators=200, subsample=0.5;, score=0.848 total time=   6.7s\n",
      "[CV 2/5] END colsample_bytree=0.5, max_depth=4, n_estimators=200, subsample=0.8;, score=0.868 total time=   3.5s\n",
      "[CV 4/5] END colsample_bytree=0.5, max_depth=7, n_estimators=100, subsample=0.5;, score=0.865 total time=   2.4s\n",
      "[CV 5/5] END colsample_bytree=0.8, max_depth=4, n_estimators=100, subsample=0.5;, score=0.873 total time=   2.1s\n",
      "[CV 1/5] END colsample_bytree=0.8, max_depth=4, n_estimators=300, subsample=0.8;, score=0.865 total time=   6.2s\n",
      "[CV 2/5] END colsample_bytree=0.8, max_depth=7, n_estimators=200, subsample=0.5;, score=0.849 total time=   6.7s\n",
      "[CV 5/5] END colsample_bytree=0.5, max_depth=4, n_estimators=200, subsample=0.8;, score=0.873 total time=   3.5s\n",
      "[CV 2/5] END colsample_bytree=0.5, max_depth=7, n_estimators=100, subsample=0.8;, score=0.865 total time=   2.4s\n",
      "[CV 3/5] END colsample_bytree=0.8, max_depth=4, n_estimators=100, subsample=0.8;, score=0.872 total time=   2.1s\n",
      "[CV 3/5] END colsample_bytree=0.8, max_depth=4, n_estimators=300, subsample=0.8;, score=0.868 total time=   6.3s\n",
      "[CV 5/5] END colsample_bytree=0.8, max_depth=7, n_estimators=200, subsample=0.8;, score=0.860 total time=   6.6s\n",
      "[CV 5/5] END colsample_bytree=0.5, max_depth=5, n_estimators=100, subsample=0.8;, score=0.874 total time=   2.4s\n",
      "[CV 4/5] END colsample_bytree=0.5, max_depth=5, n_estimators=300, subsample=0.8;, score=0.867 total time=   5.1s\n",
      "[CV 2/5] END colsample_bytree=0.8, max_depth=4, n_estimators=300, subsample=0.5;, score=0.865 total time=   6.5s\n",
      "[CV 5/5] END colsample_bytree=0.8, max_depth=7, n_estimators=200, subsample=0.5;, score=0.853 total time=   6.7s\n",
      "[CV 1/5] END colsample_bytree=0.5, max_depth=4, n_estimators=200, subsample=0.5;, score=0.867 total time=   3.6s\n",
      "[CV 3/5] END colsample_bytree=0.5, max_depth=7, n_estimators=100, subsample=0.8;, score=0.866 total time=   2.3s\n",
      "[CV 2/5] END colsample_bytree=0.8, max_depth=4, n_estimators=100, subsample=0.8;, score=0.870 total time=   2.1s\n",
      "[CV 2/5] END colsample_bytree=0.8, max_depth=4, n_estimators=300, subsample=0.8;, score=0.867 total time=   6.2s\n",
      "[CV 4/5] END colsample_bytree=0.8, max_depth=7, n_estimators=200, subsample=0.5;, score=0.850 total time=   6.8s\n"
     ]
    }
   ],
   "source": [
    "# age \n",
    "param_dict = {\n",
    "                #'learning_rate': [ 0.05, 0.07, 0.1], #[0.01, 0.03, 0.05],\n",
    "                'max_depth': [4, 5, 7],#[3,4,5],\n",
    "                'n_estimators': [100, 200, 300],\n",
    "                #'n_estimators': [100],#[25, 50, 75, 100],\n",
    "                #'n_estimators': [50],\n",
    "                'subsample': [0.5, 0.8], #[0.5, 0.8, 1],\n",
    "                'colsample_bytree': [0.5, 0.8], #[0.8, 1],\n",
    "                #'gamma': [0.9], #[0.3, 0.5, 0.7, 0.9],\n",
    "                #'scale_pos_weight': [5, 10], #[1,10,30,100]\n",
    "            }\n",
    "nfold = 5\n",
    "gs = RandomizedSearchCV(n_iter=100,\n",
    "                        estimator=xgb.sklearn.XGBRegressor(),\n",
    "                        n_jobs=-1,\n",
    "                        verbose=5,\n",
    "                        param_distributions=param_dict, cv=nfold)\n",
    "gs.fit(x_train, y_train)\n",
    "model = gs.best_estimator_.get_booster()\n",
    "\n",
    "print()\n",
    "print(\"========= found hyperparameter =========\")\n",
    "print(gs.best_params_)\n",
    "print(gs.best_score_)\n",
    "print(\"========================================\")\n",
    "\n",
    "y_pred = gs.predict(x_test).flatten()\n",
    "y_pred = np.round(y_pred * 2) / 2\n",
    "\n",
    "print('--------------')\n",
    "print('old model = age/4+4')\n",
    "print('--------------')\n",
    "print(f'explained_variance_score: {explained_variance_score(y_test, y_test_old):.3f}')\n",
    "print(f'mean_squared_errors: {mean_squared_error(y_test, y_test_old):.3f}')\n",
    "print(f'r2_score: {r2_score(y_test, y_test_old):.3f}')\n",
    "# accuracy\n",
    "acc1 = np.mean(y_test_old==y_test)\n",
    "acc3 = np.mean((y_test_old >= y_test-0.5) & (y_test_old <= y_test+0.5))\n",
    "print(f'acc: {acc1:.3f}')\n",
    "print(f'acc(+-0.5mm): {acc3:.3f}')\n",
    "\n",
    "\n",
    "print('--------------')\n",
    "print('new model')\n",
    "print('--------------')\n",
    "print(f'explained_variance_score: {explained_variance_score(y_test, y_pred):.3f}')\n",
    "print(f'mean_squared_errors: {mean_squared_error(y_test, y_pred):.3f}')\n",
    "print(f'r2_score: {r2_score(y_test, y_pred):.3f}')\n",
    "# accuracy\n",
    "acc1 = np.mean(y_pred==y_test)\n",
    "acc3 = np.mean((y_pred >= y_test-0.5) & (y_pred <= y_test+0.5))\n",
    "print(f'acc: {acc1:.3f}')\n",
    "print(f'acc(+-0.5mm): {acc3:.3f}')"
   ]
  },
  {
   "cell_type": "markdown",
   "id": "5e1db1d7-765e-44a3-ad53-181eb4db815a",
   "metadata": {},
   "source": [
    "* 결측치 multi-imputer로 채운 경우"
   ]
  },
  {
   "cell_type": "code",
   "execution_count": null,
   "id": "67a50e25-4273-4db1-8606-69ac759b6838",
   "metadata": {},
   "outputs": [],
   "source": [
    "from sklearn.experimental import enable_iterative_imputer\n",
    "from sklearn.impute import IterativeImputer\n",
    "\n",
    "imp = IterativeImputer().fit(x_train)\n",
    "x_train_imputed = imp.transform(x_train)\n",
    "x_test_imputed = imp.transform(x_test)"
   ]
  },
  {
   "cell_type": "code",
   "execution_count": 78,
   "id": "e157c686-8267-4446-832d-aa17f041391e",
   "metadata": {
    "execution": {
     "iopub.execute_input": "2023-02-16T06:23:50.444586Z",
     "iopub.status.busy": "2023-02-16T06:23:50.444059Z",
     "iopub.status.idle": "2023-02-16T06:24:14.217070Z",
     "shell.execute_reply": "2023-02-16T06:24:14.216328Z",
     "shell.execute_reply.started": "2023-02-16T06:23:50.444533Z"
    },
    "tags": []
   },
   "outputs": [
    {
     "name": "stdout",
     "output_type": "stream",
     "text": [
      "Fitting 5 folds for each of 36 candidates, totalling 180 fits\n"
     ]
    },
    {
     "name": "stderr",
     "output_type": "stream",
     "text": [
      "/home/painstudy/.local/lib/python3.8/site-packages/sklearn/model_selection/_search.py:292: UserWarning: The total space of parameters 36 is smaller than n_iter=100. Running 36 iterations. For exhaustive searches, use GridSearchCV.\n",
      "  warnings.warn(\n"
     ]
    },
    {
     "name": "stdout",
     "output_type": "stream",
     "text": [
      "\n",
      "========= found hyperparameter =========\n",
      "{'subsample': 0.8, 'n_estimators': 100, 'max_depth': 4, 'colsample_bytree': 0.8}\n",
      "0.871740670673633\n",
      "========================================\n",
      "--------------\n",
      "new model\n",
      "--------------\n",
      "explained_variance_score: 0.857\n",
      "mean_squared_errors: 0.140\n",
      "r2_score: 0.857\n",
      "acc: 0.590\n",
      "acc(+-0.5mm): 0.964\n"
     ]
    }
   ],
   "source": [
    "# age (일단위)\n",
    "param_dict = {\n",
    "                #'learning_rate': [ 0.05, 0.07, 0.1], #[0.01, 0.03, 0.05],\n",
    "                'max_depth': [4, 5, 7],#[3,4,5],\n",
    "                'n_estimators': [100, 200, 300],\n",
    "                #'n_estimators': [100],#[25, 50, 75, 100],\n",
    "                #'n_estimators': [50],\n",
    "                'subsample': [0.5, 0.8], #[0.5, 0.8, 1],\n",
    "                'colsample_bytree': [0.5, 0.8], #[0.8, 1],\n",
    "                #'gamma': [0.9], #[0.3, 0.5, 0.7, 0.9],\n",
    "                #'scale_pos_weight': [5, 10], #[1,10,30,100]\n",
    "            }\n",
    "nfold = 5\n",
    "gs = RandomizedSearchCV(n_iter=100,\n",
    "                        estimator=xgb.sklearn.XGBRegressor(),\n",
    "                        n_jobs=-1,\n",
    "                        verbose=3,\n",
    "                        param_distributions=param_dict, cv=nfold)\n",
    "gs.fit(x_train_imputed, y_train)\n",
    "model = gs.best_estimator_.get_booster()\n",
    "\n",
    "print()\n",
    "print(\"========= found hyperparameter =========\")\n",
    "print(gs.best_params_)\n",
    "print(gs.best_score_)\n",
    "print(\"========================================\")\n",
    "\n",
    "y_pred = gs.predict(x_test_imputed).flatten()\n",
    "y_pred = np.round(y_pred * 2) / 2\n",
    "\n",
    "\n",
    "print('--------------')\n",
    "print('new model')\n",
    "print('--------------')\n",
    "print(f'explained_variance_score: {explained_variance_score(y_test, y_pred):.3f}')\n",
    "print(f'mean_squared_errors: {mean_squared_error(y_test, y_pred):.3f}')\n",
    "print(f'r2_score: {r2_score(y_test, y_pred):.3f}')\n",
    "# accuracy\n",
    "acc1 = np.mean(y_pred==y_test)\n",
    "acc3 = np.mean((y_pred >= y_test-0.5) & (y_pred <= y_test+0.5))\n",
    "print(f'acc: {acc1:.3f}')\n",
    "print(f'acc(+-0.5mm): {acc3:.3f}')"
   ]
  },
  {
   "cell_type": "markdown",
   "id": "b44543a6-b141-461b-9350-205faff7e029",
   "metadata": {},
   "source": [
    "### cuffed model"
   ]
  },
  {
   "cell_type": "code",
   "execution_count": null,
   "id": "53f73604-c86e-40a1-b87b-c97e64faeae8",
   "metadata": {},
   "outputs": [],
   "source": [
    "train_mask = (x_train[:,4] == 1)\n",
    "test_mask = (x_test[:,4] == 1)\n",
    "\n",
    "x_train_c = x_train[train_mask,0:4]\n",
    "y_train_c = y_train[train_mask,0:4]"
   ]
  },
  {
   "cell_type": "code",
   "execution_count": null,
   "id": "14ed29b2-7b5b-4463-baab-625c7f7c759b",
   "metadata": {},
   "outputs": [],
   "source": []
  },
  {
   "cell_type": "markdown",
   "id": "0706fc71-17e8-4574-9baa-20736a5cb198",
   "metadata": {},
   "source": [
    "### plotting"
   ]
  },
  {
   "cell_type": "code",
   "execution_count": 197,
   "id": "814117b7-f47e-42a0-a5c3-7d8a54ae5ebf",
   "metadata": {
    "execution": {
     "iopub.execute_input": "2023-02-16T10:17:06.022938Z",
     "iopub.status.busy": "2023-02-16T10:17:06.022392Z",
     "iopub.status.idle": "2023-02-16T10:17:10.273699Z",
     "shell.execute_reply": "2023-02-16T10:17:10.273139Z",
     "shell.execute_reply.started": "2023-02-16T10:17:06.022882Z"
    },
    "tags": []
   },
   "outputs": [],
   "source": [
    "xvals = []\n",
    "yvals = []\n",
    "cvals = []\n",
    "cvals_old = []\n",
    "for x in np.arange(3, 8, 0.5):\n",
    "    for y in np.arange(3, 8, 0.5):\n",
    "        xvals.append(x)\n",
    "        yvals.append(y)\n",
    "        cvals.append(sum((y_pred == x) & (y_test == y)))\n",
    "        cvals_old.append(sum((y_test_old == x) & (y_test == y)))\n",
    "xvals = np.array(xvals)\n",
    "yvals = np.array(yvals)\n",
    "cvals = np.array(cvals) / 2\n",
    "cvals_old = np.array(cvals_old) / 2\n",
    "\n",
    "plt.figure(figsize=(8, 8))\n",
    "plt.xlim(2, 8)\n",
    "plt.ylim(2, 8)\n",
    "plt.scatter(xvals, yvals, c='red', alpha=0.5, s=cvals_old, label='4+AGE/4')\n",
    "plt.xlabel('Prediction')\n",
    "plt.ylabel('Ground Truth')\n",
    "lgnd = plt.legend()\n",
    "lgnd.legendHandles[0]._sizes = [30]\n",
    "plt.plot([2,8], [2,8], 'k-', alpha=0.1)\n",
    "plt.plot([2.5,8], [2,7.5], '--k', alpha=0.1)\n",
    "plt.plot([2,7.5], [2.5,8], '--k', alpha=0.1)\n",
    "plt.savefig('old_tube-size.png')\n",
    "plt.close()\n",
    "\n",
    "plt.figure(figsize=(8, 8))\n",
    "plt.xlim(2, 8)\n",
    "plt.ylim(2, 8)\n",
    "plt.scatter(xvals, yvals, c='blue', alpha=0.5, s=cvals, label='XGBR')\n",
    "plt.xlabel('Prediction')\n",
    "plt.ylabel('Ground Truth')\n",
    "lgnd = plt.legend()\n",
    "lgnd.legendHandles[0]._sizes = [30]\n",
    "plt.plot([2,8], [2,8], 'k-', alpha=0.1)\n",
    "plt.plot([2.5,8], [2,7.5], '--k', alpha=0.1)\n",
    "plt.plot([2,7.5], [2.5,8], '--k', alpha=0.1)\n",
    "plt.savefig('xgbr_tube-size.png')\n",
    "plt.close()"
   ]
  },
  {
   "cell_type": "code",
   "execution_count": null,
   "id": "e4eb6225-355e-4def-9811-e0b3566607d2",
   "metadata": {},
   "outputs": [],
   "source": [
    "# save model\n",
    "odir_f = f'acc1-{acc1:.3f}_acc3-{acc3:.3f}_XGBR_{nfold}fold'\n",
    "odir = f'result/{odir_f}'\n",
    "if not os.path.exists(odir):\n",
    "    os.mkdir(odir)\n",
    "model.save_model(f'{odir}/model.model')\n",
    "\n",
    "# 모델에 대한 정보 txt로 저장\n",
    "pickle.dump(param_dict, open(f'{odir}/param_dict', 'wb'))\n",
    "f = open(f'{odir}/result.txt', 'w')\n",
    "f.write(f'regression model')\n",
    "f.write(f'explained_variance_score: {explained_variance_score(y_test, y_pred):.3f}')\n",
    "f.write(f'mean_squared_errors: {mean_squared_error(y_test, y_pred):.3f}')\n",
    "f.write(f'r2_score: {r2_score(y_test, y_pred):.3f}')\n",
    "f.close()"
   ]
  },
  {
   "cell_type": "markdown",
   "id": "96157649-f0c4-48f5-a1cc-ee171f5cb676",
   "metadata": {},
   "source": [
    "## RandomForest"
   ]
  },
  {
   "cell_type": "code",
   "execution_count": 76,
   "id": "caac49fe-38d3-4c53-a920-35702fed51dd",
   "metadata": {
    "execution": {
     "iopub.execute_input": "2023-02-16T06:23:32.340323Z",
     "iopub.status.busy": "2023-02-16T06:23:32.339755Z",
     "iopub.status.idle": "2023-02-16T06:23:32.482193Z",
     "shell.execute_reply": "2023-02-16T06:23:32.481554Z",
     "shell.execute_reply.started": "2023-02-16T06:23:32.340267Z"
    },
    "tags": []
   },
   "outputs": [],
   "source": [
    "from sklearn.experimental import enable_iterative_imputer\n",
    "from sklearn.impute import IterativeImputer\n",
    "\n",
    "imp = IterativeImputer().fit(x_train)\n",
    "x_train_imputed = imp.transform(x_train)\n",
    "x_test_imputed = imp.transform(x_test)"
   ]
  },
  {
   "cell_type": "code",
   "execution_count": 81,
   "id": "37983c15-4c5c-49bd-9268-c5d0da838677",
   "metadata": {
    "execution": {
     "iopub.execute_input": "2023-02-16T06:31:14.748908Z",
     "iopub.status.busy": "2023-02-16T06:31:14.748339Z",
     "iopub.status.idle": "2023-02-16T06:32:35.138460Z",
     "shell.execute_reply": "2023-02-16T06:32:35.137812Z",
     "shell.execute_reply.started": "2023-02-16T06:31:14.748851Z"
    },
    "tags": []
   },
   "outputs": [
    {
     "name": "stdout",
     "output_type": "stream",
     "text": [
      "Fitting 5 folds for each of 100 candidates, totalling 500 fits\n",
      "\n",
      "========= found hyperparameter =========\n",
      "{'n_estimators': 300, 'min_samples_split': 3, 'min_samples_leaf': 1, 'max_features': 'sqrt', 'max_depth': 7, 'bootstrap': True}\n",
      "0.8732191690919636\n",
      "========================================\n"
     ]
    }
   ],
   "source": [
    "from sklearn.ensemble import RandomForestRegressor\n",
    "\n",
    "SEED = 0\n",
    "param_dict = {\n",
    "                #'learning_rate': [ 0.05, 0.07, 0.1], #[0.01, 0.03, 0.05],\n",
    "                'max_depth': [3, 5, 7],#[3,4,5],\n",
    "                'max_leaf_nodes': [3, 5, 7],\n",
    "                'n_estimators': [50, 100, 200, 300],\n",
    "                'max_features': ['auto', 'sqrt', 'log2'],\n",
    "                #'n_estimators': [100],#[25, 50, 75, 100],\n",
    "                #'n_estimators': [50],\n",
    "                'min_samples_split': [2,3,5],\n",
    "                'min_samples_leaf': [1,2,3],\n",
    "               'bootstrap': [True, False]\n",
    "                #'gamma': [0.9], #[0.3, 0.5, 0.7, 0.9],\n",
    "                #'scale_pos_weight': [5, 10], #[1,10,30,100]\n",
    "            }\n",
    "nfold = 5\n",
    "gs = GridSearchCV(n_iter=500,\n",
    "                        estimator=RandomForestRegressor(random_state = SEED),\n",
    "                        n_jobs=-1,\n",
    "                        verbose=5,\n",
    "                        param_distributions=param_dict, cv=nfold)\n",
    "gs.fit(x_train_imputed, y_train)\n",
    "#model = gs.best_estimator_.get_booster()\n",
    "\n",
    "print()\n",
    "print(\"========= found hyperparameter =========\")\n",
    "print(gs.best_params_)\n",
    "print(gs.best_score_)\n",
    "print(\"========================================\")"
   ]
  },
  {
   "cell_type": "code",
   "execution_count": 83,
   "id": "6d7ef796-ab68-401d-aff0-0880a1e69af2",
   "metadata": {
    "execution": {
     "iopub.execute_input": "2023-02-16T06:33:36.169171Z",
     "iopub.status.busy": "2023-02-16T06:33:36.168611Z",
     "iopub.status.idle": "2023-02-16T06:33:41.828794Z",
     "shell.execute_reply": "2023-02-16T06:33:41.828290Z",
     "shell.execute_reply.started": "2023-02-16T06:33:36.169115Z"
    },
    "tags": []
   },
   "outputs": [
    {
     "name": "stdout",
     "output_type": "stream",
     "text": [
      "--------------\n",
      "new model\n",
      "--------------\n",
      "explained_variance_score: 0.859\n",
      "mean_squared_errors: 0.139\n",
      "r2_score: 0.858\n",
      "acc: 0.586\n",
      "acc(+-0.5mm): 0.966\n"
     ]
    }
   ],
   "source": [
    "rfr = RandomForestRegressor(random_state=SEED,  n_estimators= 300, min_samples_split= 3, min_samples_leaf= 1, max_features='sqrt', max_depth= 7, bootstrap= True)\n",
    "rfr.fit(x_train_imputed, y_train)\n",
    "y_pred = rfr.predict(x_test_imputed).flatten()\n",
    "\n",
    "y_pred = np.round(y_pred * 2) / 2\n",
    "\n",
    "print('--------------')\n",
    "print('new model')\n",
    "print('--------------')\n",
    "print(f'explained_variance_score: {explained_variance_score(y_test, y_pred):.3f}')\n",
    "print(f'mean_squared_errors: {mean_squared_error(y_test, y_pred):.3f}')\n",
    "print(f'r2_score: {r2_score(y_test, y_pred):.3f}')\n",
    "# accuracy\n",
    "acc1 = np.mean(y_pred==y_test)\n",
    "acc3 = np.mean((y_pred >= y_test-0.5) & (y_pred <= y_test+0.5))\n",
    "print(f'acc: {acc1:.3f}')\n",
    "print(f'acc(+-0.5mm): {acc3:.3f}')"
   ]
  },
  {
   "cell_type": "markdown",
   "id": "277c29a2-10e3-49dc-91ea-597c4bff39fc",
   "metadata": {},
   "source": [
    "## SVM"
   ]
  },
  {
   "cell_type": "code",
   "execution_count": 7,
   "id": "80e8218f-1729-4ee4-b912-16106780b601",
   "metadata": {
    "execution": {
     "iopub.execute_input": "2023-02-17T04:03:29.713509Z",
     "iopub.status.busy": "2023-02-17T04:03:29.712941Z",
     "iopub.status.idle": "2023-02-17T04:03:29.930393Z",
     "shell.execute_reply": "2023-02-17T04:03:29.929612Z",
     "shell.execute_reply.started": "2023-02-17T04:03:29.713451Z"
    },
    "tags": []
   },
   "outputs": [],
   "source": [
    "from sklearn.experimental import enable_iterative_imputer\n",
    "from sklearn.impute import IterativeImputer\n",
    "\n",
    "imp = IterativeImputer().fit(x_train)\n",
    "x_train_imputed = imp.transform(x_train)\n",
    "x_test_imputed = imp.transform(x_test)"
   ]
  },
  {
   "cell_type": "code",
   "execution_count": 8,
   "id": "68f46d1a-9694-493a-8994-14fc7ac5862e",
   "metadata": {
    "execution": {
     "iopub.execute_input": "2023-02-17T04:03:31.684661Z",
     "iopub.status.busy": "2023-02-17T04:03:31.684264Z",
     "iopub.status.idle": "2023-02-17T05:05:51.322510Z",
     "shell.execute_reply": "2023-02-17T05:05:51.321218Z",
     "shell.execute_reply.started": "2023-02-17T04:03:31.684618Z"
    },
    "scrolled": true,
    "tags": []
   },
   "outputs": [
    {
     "name": "stdout",
     "output_type": "stream",
     "text": [
      "Fitting 4 folds for each of 16 candidates, totalling 64 fits\n",
      "[CV 2/4] END .......C=10, gamma=0.1, kernel=rbf;, score=0.865 total time= 2.3min\n",
      "[CV 3/4] END .......C=10, gamma=0.1, kernel=rbf;, score=0.872 total time= 2.3min\n",
      "[CV 1/4] END .......C=10, gamma=0.1, kernel=rbf;, score=0.878 total time= 2.3min\n",
      "[CV 4/4] END .......C=10, gamma=0.1, kernel=rbf;, score=0.873 total time= 2.4min\n",
      "[CV 4/4] END ..........C=1, gamma=1, kernel=rbf;, score=0.839 total time= 2.8min\n",
      "[CV 3/4] END ..........C=1, gamma=1, kernel=rbf;, score=0.834 total time= 2.9min\n",
      "[CV 1/4] END ..........C=1, gamma=1, kernel=rbf;, score=0.841 total time= 2.9min\n",
      "[CV 2/4] END ..........C=1, gamma=1, kernel=rbf;, score=0.828 total time= 2.9min\n",
      "[CV 2/4] END .......C=1, gamma=0.01, kernel=rbf;, score=0.874 total time=  45.8s\n",
      "[CV 1/4] END .....C=100, gamma=0.01, kernel=rbf;, score=0.883 total time= 2.2min\n",
      "[CV 3/4] END ......C=1, gamma=0.001, kernel=rbf;, score=0.879 total time=  46.4s\n",
      "[CV 4/4] END .....C=100, gamma=0.01, kernel=rbf;, score=0.878 total time= 2.3min\n",
      "[CV 1/4] END ......C=1, gamma=0.001, kernel=rbf;, score=0.884 total time=  45.9s\n",
      "[CV 2/4] END .....C=100, gamma=0.01, kernel=rbf;, score=0.872 total time= 2.3min\n",
      "[CV 4/4] END .......C=1, gamma=0.01, kernel=rbf;, score=0.882 total time=  46.2s\n",
      "[CV 3/4] END .....C=100, gamma=0.01, kernel=rbf;, score=0.877 total time= 2.3min\n",
      "[CV 4/4] END ......C=1, gamma=0.001, kernel=rbf;, score=0.881 total time=  46.6s\n",
      "[CV 1/4] END ....C=100, gamma=0.001, kernel=rbf;, score=0.884 total time= 1.2min\n",
      "[CV 2/4] END ...C=1000, gamma=0.001, kernel=rbf;, score=0.872 total time= 2.3min\n",
      "[CV 2/4] END ......C=1, gamma=0.001, kernel=rbf;, score=0.874 total time=  46.8s\n",
      "[CV 2/4] END ....C=100, gamma=0.001, kernel=rbf;, score=0.874 total time= 1.2min\n",
      "[CV 3/4] END ...C=1000, gamma=0.001, kernel=rbf;, score=0.878 total time= 3.0min\n",
      "[CV 1/4] END .......C=1, gamma=0.01, kernel=rbf;, score=0.885 total time=  46.9s\n",
      "[CV 3/4] END ....C=100, gamma=0.001, kernel=rbf;, score=0.880 total time= 1.1min\n",
      "[CV 1/4] END ...C=1000, gamma=0.001, kernel=rbf;, score=0.885 total time= 3.6min\n",
      "[CV 3/4] END .......C=1, gamma=0.01, kernel=rbf;, score=0.881 total time=  47.3s\n",
      "[CV 4/4] END ....C=100, gamma=0.001, kernel=rbf;, score=0.881 total time= 1.2min\n",
      "[CV 4/4] END ...C=1000, gamma=0.001, kernel=rbf;, score=0.880 total time= 3.6min\n",
      "[CV 4/4] END .........C=10, gamma=1, kernel=rbf;, score=0.809 total time= 8.0min\n",
      "[CV 3/4] END .........C=10, gamma=1, kernel=rbf;, score=0.801 total time= 8.1min\n",
      "[CV 1/4] END .........C=10, gamma=1, kernel=rbf;, score=0.810 total time= 8.8min\n",
      "[CV 2/4] END .........C=10, gamma=1, kernel=rbf;, score=0.797 total time=10.2min\n",
      "[CV 4/4] END ........C=1, gamma=0.1, kernel=rbf;, score=0.878 total time=  59.6s\n",
      "[CV 1/4] END ....C=1000, gamma=0.01, kernel=rbf;, score=0.875 total time= 9.4min\n",
      "[CV 2/4] END ........C=1, gamma=0.1, kernel=rbf;, score=0.870 total time= 1.0min\n",
      "[CV 3/4] END ....C=1000, gamma=0.01, kernel=rbf;, score=0.867 total time= 9.9min\n",
      "[CV 3/4] END ......C=100, gamma=0.1, kernel=rbf;, score=0.858 total time=11.0min\n",
      "[CV 4/4] END ......C=100, gamma=0.1, kernel=rbf;, score=0.859 total time=11.1min\n",
      "[CV 1/4] END ......C=100, gamma=0.1, kernel=rbf;, score=0.860 total time=11.3min\n",
      "[CV 3/4] END ........C=1, gamma=0.1, kernel=rbf;, score=0.876 total time= 1.1min\n",
      "[CV 4/4] END ....C=1000, gamma=0.01, kernel=rbf;, score=0.874 total time=10.6min\n",
      "[CV 2/4] END ......C=100, gamma=0.1, kernel=rbf;, score=0.851 total time=13.2min\n",
      "[CV 1/4] END ........C=1, gamma=0.1, kernel=rbf;, score=0.882 total time= 1.0min\n",
      "[CV 2/4] END ....C=1000, gamma=0.01, kernel=rbf;, score=0.864 total time=12.6min\n",
      "[CV 3/4] END ........C=100, gamma=1, kernel=rbf;, score=0.710 total time=41.4min\n",
      "[CV 4/4] END ........C=100, gamma=1, kernel=rbf;, score=0.711 total time=42.4min\n",
      "[CV 2/4] END ........C=100, gamma=1, kernel=rbf;, score=0.701 total time=43.1min\n",
      "[CV 1/4] END ........C=100, gamma=1, kernel=rbf;, score=0.717 total time=44.1min\n"
     ]
    },
    {
     "name": "stderr",
     "output_type": "stream",
     "text": [
      "Exception in thread ExecutorManagerThread:\n",
      "Traceback (most recent call last):\n",
      "  File \"/home/painstudy/anaconda3/envs/keras/lib/python3.8/threading.py\", line 932, in _bootstrap_inner\n",
      "    self.run()\n",
      "  File \"/home/painstudy/.local/lib/python3.8/site-packages/joblib/externals/loky/process_executor.py\", line 575, in run\n",
      "    self.flag_executor_shutting_down()\n",
      "  File \"/home/painstudy/.local/lib/python3.8/site-packages/joblib/externals/loky/process_executor.py\", line 770, in flag_executor_shutting_down\n",
      "    self.kill_workers(reason=\"executor shutting down\")\n",
      "  File \"/home/painstudy/.local/lib/python3.8/site-packages/joblib/externals/loky/process_executor.py\", line 781, in kill_workers\n",
      "    recursive_terminate(p)\n",
      "  File \"/home/painstudy/.local/lib/python3.8/site-packages/joblib/externals/loky/backend/utils.py\", line 28, in recursive_terminate\n",
      "    _recursive_terminate_without_psutil(process)\n",
      "  File \"/home/painstudy/.local/lib/python3.8/site-packages/joblib/externals/loky/backend/utils.py\", line 53, in _recursive_terminate_without_psutil\n",
      "    _recursive_terminate(process.pid)\n",
      "  File \"/home/painstudy/.local/lib/python3.8/site-packages/joblib/externals/loky/backend/utils.py\", line 92, in _recursive_terminate\n",
      "    children_pids = subprocess.check_output(\n",
      "  File \"/home/painstudy/anaconda3/envs/keras/lib/python3.8/subprocess.py\", line 415, in check_output\n",
      "    return run(*popenargs, stdout=PIPE, timeout=timeout, check=True,\n",
      "  File \"/home/painstudy/anaconda3/envs/keras/lib/python3.8/subprocess.py\", line 516, in run\n",
      "    raise CalledProcessError(retcode, process.args,\n",
      "subprocess.CalledProcessError: Command '['pgrep', '-P', '1059416']' died with <Signals.SIGINT: 2>.\n"
     ]
    },
    {
     "ename": "KeyboardInterrupt",
     "evalue": "",
     "output_type": "error",
     "traceback": [
      "\u001b[0;31m---------------------------------------------------------------------------\u001b[0m",
      "\u001b[0;31mKeyboardInterrupt\u001b[0m                         Traceback (most recent call last)",
      "\u001b[0;32m~/.local/lib/python3.8/site-packages/joblib/parallel.py\u001b[0m in \u001b[0;36mretrieve\u001b[0;34m(self)\u001b[0m\n\u001b[1;32m    934\u001b[0m                 \u001b[0;32mif\u001b[0m \u001b[0mgetattr\u001b[0m\u001b[0;34m(\u001b[0m\u001b[0mself\u001b[0m\u001b[0;34m.\u001b[0m\u001b[0m_backend\u001b[0m\u001b[0;34m,\u001b[0m \u001b[0;34m'supports_timeout'\u001b[0m\u001b[0;34m,\u001b[0m \u001b[0;32mFalse\u001b[0m\u001b[0;34m)\u001b[0m\u001b[0;34m:\u001b[0m\u001b[0;34m\u001b[0m\u001b[0;34m\u001b[0m\u001b[0m\n\u001b[0;32m--> 935\u001b[0;31m                     \u001b[0mself\u001b[0m\u001b[0;34m.\u001b[0m\u001b[0m_output\u001b[0m\u001b[0;34m.\u001b[0m\u001b[0mextend\u001b[0m\u001b[0;34m(\u001b[0m\u001b[0mjob\u001b[0m\u001b[0;34m.\u001b[0m\u001b[0mget\u001b[0m\u001b[0;34m(\u001b[0m\u001b[0mtimeout\u001b[0m\u001b[0;34m=\u001b[0m\u001b[0mself\u001b[0m\u001b[0;34m.\u001b[0m\u001b[0mtimeout\u001b[0m\u001b[0;34m)\u001b[0m\u001b[0;34m)\u001b[0m\u001b[0;34m\u001b[0m\u001b[0;34m\u001b[0m\u001b[0m\n\u001b[0m\u001b[1;32m    936\u001b[0m                 \u001b[0;32melse\u001b[0m\u001b[0;34m:\u001b[0m\u001b[0;34m\u001b[0m\u001b[0;34m\u001b[0m\u001b[0m\n",
      "\u001b[0;32m~/.local/lib/python3.8/site-packages/joblib/_parallel_backends.py\u001b[0m in \u001b[0;36mwrap_future_result\u001b[0;34m(future, timeout)\u001b[0m\n\u001b[1;32m    541\u001b[0m         \u001b[0;32mtry\u001b[0m\u001b[0;34m:\u001b[0m\u001b[0;34m\u001b[0m\u001b[0;34m\u001b[0m\u001b[0m\n\u001b[0;32m--> 542\u001b[0;31m             \u001b[0;32mreturn\u001b[0m \u001b[0mfuture\u001b[0m\u001b[0;34m.\u001b[0m\u001b[0mresult\u001b[0m\u001b[0;34m(\u001b[0m\u001b[0mtimeout\u001b[0m\u001b[0;34m=\u001b[0m\u001b[0mtimeout\u001b[0m\u001b[0;34m)\u001b[0m\u001b[0;34m\u001b[0m\u001b[0;34m\u001b[0m\u001b[0m\n\u001b[0m\u001b[1;32m    543\u001b[0m         \u001b[0;32mexcept\u001b[0m \u001b[0mCfTimeoutError\u001b[0m \u001b[0;32mas\u001b[0m \u001b[0me\u001b[0m\u001b[0;34m:\u001b[0m\u001b[0;34m\u001b[0m\u001b[0;34m\u001b[0m\u001b[0m\n",
      "\u001b[0;32m~/anaconda3/envs/keras/lib/python3.8/concurrent/futures/_base.py\u001b[0m in \u001b[0;36mresult\u001b[0;34m(self, timeout)\u001b[0m\n\u001b[1;32m    438\u001b[0m \u001b[0;34m\u001b[0m\u001b[0m\n\u001b[0;32m--> 439\u001b[0;31m                 \u001b[0mself\u001b[0m\u001b[0;34m.\u001b[0m\u001b[0m_condition\u001b[0m\u001b[0;34m.\u001b[0m\u001b[0mwait\u001b[0m\u001b[0;34m(\u001b[0m\u001b[0mtimeout\u001b[0m\u001b[0;34m)\u001b[0m\u001b[0;34m\u001b[0m\u001b[0;34m\u001b[0m\u001b[0m\n\u001b[0m\u001b[1;32m    440\u001b[0m \u001b[0;34m\u001b[0m\u001b[0m\n",
      "\u001b[0;32m~/anaconda3/envs/keras/lib/python3.8/threading.py\u001b[0m in \u001b[0;36mwait\u001b[0;34m(self, timeout)\u001b[0m\n\u001b[1;32m    301\u001b[0m             \u001b[0;32mif\u001b[0m \u001b[0mtimeout\u001b[0m \u001b[0;32mis\u001b[0m \u001b[0;32mNone\u001b[0m\u001b[0;34m:\u001b[0m\u001b[0;34m\u001b[0m\u001b[0;34m\u001b[0m\u001b[0m\n\u001b[0;32m--> 302\u001b[0;31m                 \u001b[0mwaiter\u001b[0m\u001b[0;34m.\u001b[0m\u001b[0macquire\u001b[0m\u001b[0;34m(\u001b[0m\u001b[0;34m)\u001b[0m\u001b[0;34m\u001b[0m\u001b[0;34m\u001b[0m\u001b[0m\n\u001b[0m\u001b[1;32m    303\u001b[0m                 \u001b[0mgotit\u001b[0m \u001b[0;34m=\u001b[0m \u001b[0;32mTrue\u001b[0m\u001b[0;34m\u001b[0m\u001b[0;34m\u001b[0m\u001b[0m\n",
      "\u001b[0;31mKeyboardInterrupt\u001b[0m: ",
      "\nDuring handling of the above exception, another exception occurred:\n",
      "\u001b[0;31mKeyboardInterrupt\u001b[0m                         Traceback (most recent call last)",
      "\u001b[0;32m~/.local/lib/python3.8/site-packages/sklearn/model_selection/_search.py\u001b[0m in \u001b[0;36mfit\u001b[0;34m(self, X, y, groups, **fit_params)\u001b[0m\n\u001b[1;32m    890\u001b[0m \u001b[0;34m\u001b[0m\u001b[0m\n\u001b[0;32m--> 891\u001b[0;31m             \u001b[0mself\u001b[0m\u001b[0;34m.\u001b[0m\u001b[0m_run_search\u001b[0m\u001b[0;34m(\u001b[0m\u001b[0mevaluate_candidates\u001b[0m\u001b[0;34m)\u001b[0m\u001b[0;34m\u001b[0m\u001b[0;34m\u001b[0m\u001b[0m\n\u001b[0m\u001b[1;32m    892\u001b[0m \u001b[0;34m\u001b[0m\u001b[0m\n",
      "\u001b[0;32m~/.local/lib/python3.8/site-packages/sklearn/model_selection/_search.py\u001b[0m in \u001b[0;36m_run_search\u001b[0;34m(self, evaluate_candidates)\u001b[0m\n\u001b[1;32m   1391\u001b[0m         \u001b[0;34m\"\"\"Search all candidates in param_grid\"\"\"\u001b[0m\u001b[0;34m\u001b[0m\u001b[0;34m\u001b[0m\u001b[0m\n\u001b[0;32m-> 1392\u001b[0;31m         \u001b[0mevaluate_candidates\u001b[0m\u001b[0;34m(\u001b[0m\u001b[0mParameterGrid\u001b[0m\u001b[0;34m(\u001b[0m\u001b[0mself\u001b[0m\u001b[0;34m.\u001b[0m\u001b[0mparam_grid\u001b[0m\u001b[0;34m)\u001b[0m\u001b[0;34m)\u001b[0m\u001b[0;34m\u001b[0m\u001b[0;34m\u001b[0m\u001b[0m\n\u001b[0m\u001b[1;32m   1393\u001b[0m \u001b[0;34m\u001b[0m\u001b[0m\n",
      "\u001b[0;32m~/.local/lib/python3.8/site-packages/sklearn/model_selection/_search.py\u001b[0m in \u001b[0;36mevaluate_candidates\u001b[0;34m(candidate_params, cv, more_results)\u001b[0m\n\u001b[1;32m    837\u001b[0m \u001b[0;34m\u001b[0m\u001b[0m\n\u001b[0;32m--> 838\u001b[0;31m                 out = parallel(\n\u001b[0m\u001b[1;32m    839\u001b[0m                     delayed(_fit_and_score)(\n",
      "\u001b[0;32m~/.local/lib/python3.8/site-packages/joblib/parallel.py\u001b[0m in \u001b[0;36m__call__\u001b[0;34m(self, iterable)\u001b[0m\n\u001b[1;32m   1055\u001b[0m             \u001b[0;32mwith\u001b[0m \u001b[0mself\u001b[0m\u001b[0;34m.\u001b[0m\u001b[0m_backend\u001b[0m\u001b[0;34m.\u001b[0m\u001b[0mretrieval_context\u001b[0m\u001b[0;34m(\u001b[0m\u001b[0;34m)\u001b[0m\u001b[0;34m:\u001b[0m\u001b[0;34m\u001b[0m\u001b[0;34m\u001b[0m\u001b[0m\n\u001b[0;32m-> 1056\u001b[0;31m                 \u001b[0mself\u001b[0m\u001b[0;34m.\u001b[0m\u001b[0mretrieve\u001b[0m\u001b[0;34m(\u001b[0m\u001b[0;34m)\u001b[0m\u001b[0;34m\u001b[0m\u001b[0;34m\u001b[0m\u001b[0m\n\u001b[0m\u001b[1;32m   1057\u001b[0m             \u001b[0;31m# Make sure that we get a last message telling us we are done\u001b[0m\u001b[0;34m\u001b[0m\u001b[0;34m\u001b[0m\u001b[0;34m\u001b[0m\u001b[0m\n",
      "\u001b[0;32m~/.local/lib/python3.8/site-packages/joblib/parallel.py\u001b[0m in \u001b[0;36mretrieve\u001b[0;34m(self)\u001b[0m\n\u001b[1;32m    956\u001b[0m                     \u001b[0mensure_ready\u001b[0m \u001b[0;34m=\u001b[0m \u001b[0mself\u001b[0m\u001b[0;34m.\u001b[0m\u001b[0m_managed_backend\u001b[0m\u001b[0;34m\u001b[0m\u001b[0;34m\u001b[0m\u001b[0m\n\u001b[0;32m--> 957\u001b[0;31m                     \u001b[0mbackend\u001b[0m\u001b[0;34m.\u001b[0m\u001b[0mabort_everything\u001b[0m\u001b[0;34m(\u001b[0m\u001b[0mensure_ready\u001b[0m\u001b[0;34m=\u001b[0m\u001b[0mensure_ready\u001b[0m\u001b[0;34m)\u001b[0m\u001b[0;34m\u001b[0m\u001b[0;34m\u001b[0m\u001b[0m\n\u001b[0m\u001b[1;32m    958\u001b[0m                 \u001b[0;32mraise\u001b[0m\u001b[0;34m\u001b[0m\u001b[0;34m\u001b[0m\u001b[0m\n",
      "\u001b[0;32m~/.local/lib/python3.8/site-packages/joblib/_parallel_backends.py\u001b[0m in \u001b[0;36mabort_everything\u001b[0;34m(self, ensure_ready)\u001b[0m\n\u001b[1;32m    560\u001b[0m         \"\"\"\n\u001b[0;32m--> 561\u001b[0;31m         \u001b[0mself\u001b[0m\u001b[0;34m.\u001b[0m\u001b[0m_workers\u001b[0m\u001b[0;34m.\u001b[0m\u001b[0mterminate\u001b[0m\u001b[0;34m(\u001b[0m\u001b[0mkill_workers\u001b[0m\u001b[0;34m=\u001b[0m\u001b[0;32mTrue\u001b[0m\u001b[0;34m)\u001b[0m\u001b[0;34m\u001b[0m\u001b[0;34m\u001b[0m\u001b[0m\n\u001b[0m\u001b[1;32m    562\u001b[0m         \u001b[0mself\u001b[0m\u001b[0;34m.\u001b[0m\u001b[0m_workers\u001b[0m \u001b[0;34m=\u001b[0m \u001b[0;32mNone\u001b[0m\u001b[0;34m\u001b[0m\u001b[0;34m\u001b[0m\u001b[0m\n",
      "\u001b[0;32m~/.local/lib/python3.8/site-packages/joblib/executor.py\u001b[0m in \u001b[0;36mterminate\u001b[0;34m(self, kill_workers)\u001b[0m\n\u001b[1;32m     73\u001b[0m     \u001b[0;32mdef\u001b[0m \u001b[0mterminate\u001b[0m\u001b[0;34m(\u001b[0m\u001b[0mself\u001b[0m\u001b[0;34m,\u001b[0m \u001b[0mkill_workers\u001b[0m\u001b[0;34m=\u001b[0m\u001b[0;32mFalse\u001b[0m\u001b[0;34m)\u001b[0m\u001b[0;34m:\u001b[0m\u001b[0;34m\u001b[0m\u001b[0;34m\u001b[0m\u001b[0m\n\u001b[0;32m---> 74\u001b[0;31m         \u001b[0mself\u001b[0m\u001b[0;34m.\u001b[0m\u001b[0mshutdown\u001b[0m\u001b[0;34m(\u001b[0m\u001b[0mkill_workers\u001b[0m\u001b[0;34m=\u001b[0m\u001b[0mkill_workers\u001b[0m\u001b[0;34m)\u001b[0m\u001b[0;34m\u001b[0m\u001b[0;34m\u001b[0m\u001b[0m\n\u001b[0m\u001b[1;32m     75\u001b[0m         \u001b[0;32mif\u001b[0m \u001b[0mkill_workers\u001b[0m\u001b[0;34m:\u001b[0m\u001b[0;34m\u001b[0m\u001b[0;34m\u001b[0m\u001b[0m\n",
      "\u001b[0;32m~/.local/lib/python3.8/site-packages/joblib/externals/loky/process_executor.py\u001b[0m in \u001b[0;36mshutdown\u001b[0;34m(self, wait, kill_workers)\u001b[0m\n\u001b[1;32m   1184\u001b[0m         \u001b[0;32mif\u001b[0m \u001b[0mexecutor_manager_thread\u001b[0m \u001b[0;32mis\u001b[0m \u001b[0;32mnot\u001b[0m \u001b[0;32mNone\u001b[0m \u001b[0;32mand\u001b[0m \u001b[0mwait\u001b[0m\u001b[0;34m:\u001b[0m\u001b[0;34m\u001b[0m\u001b[0;34m\u001b[0m\u001b[0m\n\u001b[0;32m-> 1185\u001b[0;31m             \u001b[0mexecutor_manager_thread\u001b[0m\u001b[0;34m.\u001b[0m\u001b[0mjoin\u001b[0m\u001b[0;34m(\u001b[0m\u001b[0;34m)\u001b[0m\u001b[0;34m\u001b[0m\u001b[0;34m\u001b[0m\u001b[0m\n\u001b[0m\u001b[1;32m   1186\u001b[0m \u001b[0;34m\u001b[0m\u001b[0m\n",
      "\u001b[0;32m~/anaconda3/envs/keras/lib/python3.8/threading.py\u001b[0m in \u001b[0;36mjoin\u001b[0;34m(self, timeout)\u001b[0m\n\u001b[1;32m   1010\u001b[0m         \u001b[0;32mif\u001b[0m \u001b[0mtimeout\u001b[0m \u001b[0;32mis\u001b[0m \u001b[0;32mNone\u001b[0m\u001b[0;34m:\u001b[0m\u001b[0;34m\u001b[0m\u001b[0;34m\u001b[0m\u001b[0m\n\u001b[0;32m-> 1011\u001b[0;31m             \u001b[0mself\u001b[0m\u001b[0;34m.\u001b[0m\u001b[0m_wait_for_tstate_lock\u001b[0m\u001b[0;34m(\u001b[0m\u001b[0;34m)\u001b[0m\u001b[0;34m\u001b[0m\u001b[0;34m\u001b[0m\u001b[0m\n\u001b[0m\u001b[1;32m   1012\u001b[0m         \u001b[0;32melse\u001b[0m\u001b[0;34m:\u001b[0m\u001b[0;34m\u001b[0m\u001b[0;34m\u001b[0m\u001b[0m\n",
      "\u001b[0;32m~/anaconda3/envs/keras/lib/python3.8/threading.py\u001b[0m in \u001b[0;36m_wait_for_tstate_lock\u001b[0;34m(self, block, timeout)\u001b[0m\n\u001b[1;32m   1026\u001b[0m             \u001b[0;32massert\u001b[0m \u001b[0mself\u001b[0m\u001b[0;34m.\u001b[0m\u001b[0m_is_stopped\u001b[0m\u001b[0;34m\u001b[0m\u001b[0;34m\u001b[0m\u001b[0m\n\u001b[0;32m-> 1027\u001b[0;31m         \u001b[0;32melif\u001b[0m \u001b[0mlock\u001b[0m\u001b[0;34m.\u001b[0m\u001b[0macquire\u001b[0m\u001b[0;34m(\u001b[0m\u001b[0mblock\u001b[0m\u001b[0;34m,\u001b[0m \u001b[0mtimeout\u001b[0m\u001b[0;34m)\u001b[0m\u001b[0;34m:\u001b[0m\u001b[0;34m\u001b[0m\u001b[0;34m\u001b[0m\u001b[0m\n\u001b[0m\u001b[1;32m   1028\u001b[0m             \u001b[0mlock\u001b[0m\u001b[0;34m.\u001b[0m\u001b[0mrelease\u001b[0m\u001b[0;34m(\u001b[0m\u001b[0;34m)\u001b[0m\u001b[0;34m\u001b[0m\u001b[0;34m\u001b[0m\u001b[0m\n",
      "\u001b[0;31mKeyboardInterrupt\u001b[0m: ",
      "\nDuring handling of the above exception, another exception occurred:\n",
      "\u001b[0;31mKeyboardInterrupt\u001b[0m                         Traceback (most recent call last)",
      "\u001b[0;32m/tmp/ipykernel_1059252/3601038919.py\u001b[0m in \u001b[0;36m<module>\u001b[0;34m\u001b[0m\n\u001b[1;32m     14\u001b[0m                   \u001b[0mverbose\u001b[0m\u001b[0;34m=\u001b[0m\u001b[0;36m3\u001b[0m\u001b[0;34m,\u001b[0m\u001b[0;34m\u001b[0m\u001b[0;34m\u001b[0m\u001b[0m\n\u001b[1;32m     15\u001b[0m                   param_grid=param_grid, cv=nfold)\n\u001b[0;32m---> 16\u001b[0;31m \u001b[0mgs\u001b[0m\u001b[0;34m.\u001b[0m\u001b[0mfit\u001b[0m\u001b[0;34m(\u001b[0m\u001b[0mx_train_imputed\u001b[0m\u001b[0;34m,\u001b[0m \u001b[0my_train\u001b[0m\u001b[0;34m)\u001b[0m\u001b[0;34m\u001b[0m\u001b[0;34m\u001b[0m\u001b[0m\n\u001b[0m\u001b[1;32m     17\u001b[0m \u001b[0;31m#model = gs.best_estimator_.get_booster()\u001b[0m\u001b[0;34m\u001b[0m\u001b[0;34m\u001b[0m\u001b[0;34m\u001b[0m\u001b[0m\n\u001b[1;32m     18\u001b[0m \u001b[0;34m\u001b[0m\u001b[0m\n",
      "\u001b[0;32m~/.local/lib/python3.8/site-packages/sklearn/model_selection/_search.py\u001b[0m in \u001b[0;36mfit\u001b[0;34m(self, X, y, groups, **fit_params)\u001b[0m\n\u001b[1;32m    899\u001b[0m             \u001b[0;32mif\u001b[0m \u001b[0mcallable\u001b[0m\u001b[0;34m(\u001b[0m\u001b[0mself\u001b[0m\u001b[0;34m.\u001b[0m\u001b[0mscoring\u001b[0m\u001b[0;34m)\u001b[0m \u001b[0;32mand\u001b[0m \u001b[0mself\u001b[0m\u001b[0;34m.\u001b[0m\u001b[0mmultimetric_\u001b[0m\u001b[0;34m:\u001b[0m\u001b[0;34m\u001b[0m\u001b[0;34m\u001b[0m\u001b[0m\n\u001b[1;32m    900\u001b[0m                 \u001b[0mself\u001b[0m\u001b[0;34m.\u001b[0m\u001b[0m_check_refit_for_multimetric\u001b[0m\u001b[0;34m(\u001b[0m\u001b[0mfirst_test_score\u001b[0m\u001b[0;34m)\u001b[0m\u001b[0;34m\u001b[0m\u001b[0;34m\u001b[0m\u001b[0m\n\u001b[0;32m--> 901\u001b[0;31m                 \u001b[0mrefit_metric\u001b[0m \u001b[0;34m=\u001b[0m \u001b[0mself\u001b[0m\u001b[0;34m.\u001b[0m\u001b[0mrefit\u001b[0m\u001b[0;34m\u001b[0m\u001b[0;34m\u001b[0m\u001b[0m\n\u001b[0m\u001b[1;32m    902\u001b[0m \u001b[0;34m\u001b[0m\u001b[0m\n\u001b[1;32m    903\u001b[0m         \u001b[0;31m# For multi-metric evaluation, store the best_index_, best_params_ and\u001b[0m\u001b[0;34m\u001b[0m\u001b[0;34m\u001b[0m\u001b[0;34m\u001b[0m\u001b[0m\n",
      "\u001b[0;32m~/.local/lib/python3.8/site-packages/joblib/parallel.py\u001b[0m in \u001b[0;36m__exit__\u001b[0;34m(self, exc_type, exc_value, traceback)\u001b[0m\n\u001b[1;32m    727\u001b[0m \u001b[0;34m\u001b[0m\u001b[0m\n\u001b[1;32m    728\u001b[0m     \u001b[0;32mdef\u001b[0m \u001b[0m__exit__\u001b[0m\u001b[0;34m(\u001b[0m\u001b[0mself\u001b[0m\u001b[0;34m,\u001b[0m \u001b[0mexc_type\u001b[0m\u001b[0;34m,\u001b[0m \u001b[0mexc_value\u001b[0m\u001b[0;34m,\u001b[0m \u001b[0mtraceback\u001b[0m\u001b[0;34m)\u001b[0m\u001b[0;34m:\u001b[0m\u001b[0;34m\u001b[0m\u001b[0;34m\u001b[0m\u001b[0m\n\u001b[0;32m--> 729\u001b[0;31m         \u001b[0mself\u001b[0m\u001b[0;34m.\u001b[0m\u001b[0m_terminate_backend\u001b[0m\u001b[0;34m(\u001b[0m\u001b[0;34m)\u001b[0m\u001b[0;34m\u001b[0m\u001b[0;34m\u001b[0m\u001b[0m\n\u001b[0m\u001b[1;32m    730\u001b[0m         \u001b[0mself\u001b[0m\u001b[0;34m.\u001b[0m\u001b[0m_managed_backend\u001b[0m \u001b[0;34m=\u001b[0m \u001b[0;32mFalse\u001b[0m\u001b[0;34m\u001b[0m\u001b[0;34m\u001b[0m\u001b[0m\n\u001b[1;32m    731\u001b[0m \u001b[0;34m\u001b[0m\u001b[0m\n",
      "\u001b[0;32m~/.local/lib/python3.8/site-packages/joblib/parallel.py\u001b[0m in \u001b[0;36m_terminate_backend\u001b[0;34m(self)\u001b[0m\n\u001b[1;32m    757\u001b[0m     \u001b[0;32mdef\u001b[0m \u001b[0m_terminate_backend\u001b[0m\u001b[0;34m(\u001b[0m\u001b[0mself\u001b[0m\u001b[0;34m)\u001b[0m\u001b[0;34m:\u001b[0m\u001b[0;34m\u001b[0m\u001b[0;34m\u001b[0m\u001b[0m\n\u001b[1;32m    758\u001b[0m         \u001b[0;32mif\u001b[0m \u001b[0mself\u001b[0m\u001b[0;34m.\u001b[0m\u001b[0m_backend\u001b[0m \u001b[0;32mis\u001b[0m \u001b[0;32mnot\u001b[0m \u001b[0;32mNone\u001b[0m\u001b[0;34m:\u001b[0m\u001b[0;34m\u001b[0m\u001b[0;34m\u001b[0m\u001b[0m\n\u001b[0;32m--> 759\u001b[0;31m             \u001b[0mself\u001b[0m\u001b[0;34m.\u001b[0m\u001b[0m_backend\u001b[0m\u001b[0;34m.\u001b[0m\u001b[0mterminate\u001b[0m\u001b[0;34m(\u001b[0m\u001b[0;34m)\u001b[0m\u001b[0;34m\u001b[0m\u001b[0;34m\u001b[0m\u001b[0m\n\u001b[0m\u001b[1;32m    760\u001b[0m \u001b[0;34m\u001b[0m\u001b[0m\n\u001b[1;32m    761\u001b[0m     \u001b[0;32mdef\u001b[0m \u001b[0m_dispatch\u001b[0m\u001b[0;34m(\u001b[0m\u001b[0mself\u001b[0m\u001b[0;34m,\u001b[0m \u001b[0mbatch\u001b[0m\u001b[0;34m)\u001b[0m\u001b[0;34m:\u001b[0m\u001b[0;34m\u001b[0m\u001b[0;34m\u001b[0m\u001b[0m\n",
      "\u001b[0;32m~/.local/lib/python3.8/site-packages/joblib/_parallel_backends.py\u001b[0m in \u001b[0;36mterminate\u001b[0;34m(self)\u001b[0m\n\u001b[1;32m    549\u001b[0m             \u001b[0;31m# calls, but cleanup the temporary resources that the Parallel call\u001b[0m\u001b[0;34m\u001b[0m\u001b[0;34m\u001b[0m\u001b[0;34m\u001b[0m\u001b[0m\n\u001b[1;32m    550\u001b[0m             \u001b[0;31m# created. This 'hack' requires a private, low-level operation.\u001b[0m\u001b[0;34m\u001b[0m\u001b[0;34m\u001b[0m\u001b[0;34m\u001b[0m\u001b[0m\n\u001b[0;32m--> 551\u001b[0;31m             self._workers._temp_folder_manager._unlink_temporary_resources(\n\u001b[0m\u001b[1;32m    552\u001b[0m                 \u001b[0mcontext_id\u001b[0m\u001b[0;34m=\u001b[0m\u001b[0mself\u001b[0m\u001b[0;34m.\u001b[0m\u001b[0mparallel\u001b[0m\u001b[0;34m.\u001b[0m\u001b[0m_id\u001b[0m\u001b[0;34m\u001b[0m\u001b[0;34m\u001b[0m\u001b[0m\n\u001b[1;32m    553\u001b[0m             )\n",
      "\u001b[0;32m~/.local/lib/python3.8/site-packages/joblib/_memmapping_reducer.py\u001b[0m in \u001b[0;36m_unlink_temporary_resources\u001b[0;34m(self, context_id)\u001b[0m\n\u001b[1;32m    625\u001b[0m                         \u001b[0mos\u001b[0m\u001b[0;34m.\u001b[0m\u001b[0mpath\u001b[0m\u001b[0;34m.\u001b[0m\u001b[0mjoin\u001b[0m\u001b[0;34m(\u001b[0m\u001b[0mtemp_folder\u001b[0m\u001b[0;34m,\u001b[0m \u001b[0mfilename\u001b[0m\u001b[0;34m)\u001b[0m\u001b[0;34m,\u001b[0m \u001b[0;34m\"file\"\u001b[0m\u001b[0;34m\u001b[0m\u001b[0;34m\u001b[0m\u001b[0m\n\u001b[1;32m    626\u001b[0m                     )\n\u001b[0;32m--> 627\u001b[0;31m                 self._try_delete_folder(\n\u001b[0m\u001b[1;32m    628\u001b[0m                     \u001b[0mallow_non_empty\u001b[0m\u001b[0;34m=\u001b[0m\u001b[0;32mFalse\u001b[0m\u001b[0;34m,\u001b[0m \u001b[0mcontext_id\u001b[0m\u001b[0;34m=\u001b[0m\u001b[0mcontext_id\u001b[0m\u001b[0;34m\u001b[0m\u001b[0;34m\u001b[0m\u001b[0m\n\u001b[1;32m    629\u001b[0m                 )\n",
      "\u001b[0;32m~/.local/lib/python3.8/site-packages/joblib/_memmapping_reducer.py\u001b[0m in \u001b[0;36m_try_delete_folder\u001b[0;34m(self, allow_non_empty, context_id)\u001b[0m\n\u001b[1;32m    652\u001b[0m             \u001b[0mtemp_folder\u001b[0m \u001b[0;34m=\u001b[0m \u001b[0mself\u001b[0m\u001b[0;34m.\u001b[0m\u001b[0m_cached_temp_folders\u001b[0m\u001b[0;34m[\u001b[0m\u001b[0mcontext_id\u001b[0m\u001b[0;34m]\u001b[0m\u001b[0;34m\u001b[0m\u001b[0;34m\u001b[0m\u001b[0m\n\u001b[1;32m    653\u001b[0m             \u001b[0;32mtry\u001b[0m\u001b[0;34m:\u001b[0m\u001b[0;34m\u001b[0m\u001b[0;34m\u001b[0m\u001b[0m\n\u001b[0;32m--> 654\u001b[0;31m                 delete_folder(\n\u001b[0m\u001b[1;32m    655\u001b[0m                     \u001b[0mtemp_folder\u001b[0m\u001b[0;34m,\u001b[0m \u001b[0mallow_non_empty\u001b[0m\u001b[0;34m=\u001b[0m\u001b[0mallow_non_empty\u001b[0m\u001b[0;34m\u001b[0m\u001b[0;34m\u001b[0m\u001b[0m\n\u001b[1;32m    656\u001b[0m                 )\n",
      "\u001b[0;32m~/.local/lib/python3.8/site-packages/joblib/disk.py\u001b[0m in \u001b[0;36mdelete_folder\u001b[0;34m(folder_path, onerror, allow_non_empty)\u001b[0m\n\u001b[1;32m    134\u001b[0m                         \u001b[0;31m# yet.\u001b[0m\u001b[0;34m\u001b[0m\u001b[0;34m\u001b[0m\u001b[0;34m\u001b[0m\u001b[0m\n\u001b[1;32m    135\u001b[0m                         \u001b[0;32mraise\u001b[0m\u001b[0;34m\u001b[0m\u001b[0;34m\u001b[0m\u001b[0m\n\u001b[0;32m--> 136\u001b[0;31m                 \u001b[0mtime\u001b[0m\u001b[0;34m.\u001b[0m\u001b[0msleep\u001b[0m\u001b[0;34m(\u001b[0m\u001b[0mRM_SUBDIRS_RETRY_TIME\u001b[0m\u001b[0;34m)\u001b[0m\u001b[0;34m\u001b[0m\u001b[0;34m\u001b[0m\u001b[0m\n\u001b[0m",
      "\u001b[0;31mKeyboardInterrupt\u001b[0m: "
     ]
    }
   ],
   "source": [
    "from sklearn.svm import SVR\n",
    "from sklearn.model_selection import GridSearchCV, RandomizedSearchCV\n",
    "\n",
    "\n",
    "SEED = 98\n",
    "param_grid = {'C': [1, 10, 100, 1000], \n",
    "              'gamma': [1, 0.1, 0.01, 0.001],\n",
    "              'kernel': ['rbf']} \n",
    "\n",
    "nfold = 4\n",
    "gs = GridSearchCV(estimator=SVR(),\n",
    "                  n_jobs=-1,\n",
    "                  refit=True,\n",
    "                  verbose=3,\n",
    "                  param_grid=param_grid, cv=nfold)\n",
    "gs.fit(x_train_imputed, y_train)\n",
    "#model = gs.best_estimator_.get_booster()\n",
    "\n",
    "print()\n",
    "print(\"========= found hyperparameter =========\")\n",
    "print(gs.best_params_)\n",
    "print(gs.best_score_)\n",
    "print(\"========================================\")\n",
    "\n",
    "\n",
    "y_pred = gs.predict(x_test_imputed).flatten()\n",
    "y_pred = np.round(y_pred * 2) / 2\n",
    "\n",
    "\n",
    "print('--------------')\n",
    "print('new model')\n",
    "print('--------------')\n",
    "print(f'explained_variance_score: {explained_variance_score(y_test, y_pred):.3f}')\n",
    "print(f'mean_squared_errors: {mean_squared_error(y_test, y_pred):.3f}')\n",
    "print(f'r2_score: {r2_score(y_test, y_pred):.3f}')\n",
    "# accuracy\n",
    "acc1 = np.mean(y_pred==y_test)\n",
    "acc3 = np.mean((y_pred >= y_test-0.5) & (y_pred <= y_test+0.5))\n",
    "print(f'acc: {acc1:.3f}')\n",
    "print(f'acc(+-0.5mm): {acc3:.3f}')"
   ]
  },
  {
   "cell_type": "code",
   "execution_count": 11,
   "id": "212ef896-f0a5-4700-8ab6-0bb5f5b8fc8c",
   "metadata": {
    "execution": {
     "iopub.execute_input": "2023-02-17T05:08:38.798532Z",
     "iopub.status.busy": "2023-02-17T05:08:38.798029Z",
     "iopub.status.idle": "2023-02-17T05:08:46.456618Z",
     "shell.execute_reply": "2023-02-17T05:08:46.456089Z",
     "shell.execute_reply.started": "2023-02-17T05:08:38.798476Z"
    },
    "tags": []
   },
   "outputs": [
    {
     "name": "stdout",
     "output_type": "stream",
     "text": [
      "--------------\n",
      "new model\n",
      "--------------\n",
      "explained_variance_score: 0.858\n",
      "mean_squared_errors: 0.144\n",
      "r2_score: 0.858\n",
      "acc: 0.591\n",
      "acc(+-0.5mm): 0.961\n"
     ]
    }
   ],
   "source": [
    "svr = SVR(C=1, gamma=0.001, kernel='rbf')\n",
    "svr.fit(x_train_imputed, y_train)\n",
    "\n",
    "y_pred = svr.predict(x_test_imputed).flatten()\n",
    "y_pred = np.round(y_pred * 2) / 2\n",
    "\n",
    "\n",
    "print('--------------')\n",
    "print('new model')\n",
    "print('--------------')\n",
    "print(f'explained_variance_score: {explained_variance_score(y_test, y_pred):.3f}')\n",
    "print(f'mean_squared_errors: {mean_squared_error(y_test, y_pred):.3f}')\n",
    "print(f'r2_score: {r2_score(y_test, y_pred):.3f}')\n",
    "# accuracy\n",
    "acc1 = np.mean(y_pred==y_test)\n",
    "acc3 = np.mean((y_pred >= y_test-0.5) & (y_pred <= y_test+0.5))\n",
    "print(f'acc: {acc1:.3f}')\n",
    "print(f'acc(+-0.5mm): {acc3:.3f}')"
   ]
  },
  {
   "cell_type": "code",
   "execution_count": null,
   "id": "52cb1b7a-ef41-4386-a625-976e929df7a5",
   "metadata": {},
   "outputs": [],
   "source": []
  },
  {
   "cell_type": "code",
   "execution_count": null,
   "id": "2ded91f0-ac26-4c11-9416-9d67cd009b9b",
   "metadata": {},
   "outputs": [],
   "source": []
  },
  {
   "cell_type": "markdown",
   "id": "1b0051db-f97f-464c-bced-35ba32bb18d5",
   "metadata": {},
   "source": [
    "## ANN"
   ]
  },
  {
   "cell_type": "code",
   "execution_count": 84,
   "id": "67ed18b7-5c2b-47f7-ae83-be44dc87b8b9",
   "metadata": {
    "execution": {
     "iopub.execute_input": "2023-02-16T06:34:52.064134Z",
     "iopub.status.busy": "2023-02-16T06:34:52.063572Z",
     "iopub.status.idle": "2023-02-16T06:34:53.885891Z",
     "shell.execute_reply": "2023-02-16T06:34:53.885313Z",
     "shell.execute_reply.started": "2023-02-16T06:34:52.064078Z"
    },
    "tags": []
   },
   "outputs": [],
   "source": [
    "from keras import losses, metrics\n",
    "from keras.models import Sequential, Model, load_model\n",
    "from tensorflow.keras.optimizers import Adam\n",
    "from keras.layers import Dense, Conv1D, MaxPooling1D, GlobalMaxPooling1D, BatchNormalization, Dropout, Activation, Input\n",
    "from keras.layers import GlobalAveragePooling1D, Flatten, SeparableConv1D, concatenate, Add\n",
    "from keras.callbacks import ModelCheckpoint, EarlyStopping\n",
    "from sklearn.metrics import auc, classification_report, confusion_matrix, accuracy_score, roc_curve, roc_auc_score, f1_score, precision_recall_curve\n",
    "import tensorflow as tf\n",
    "import itertools as it\n",
    "import matplotlib.pyplot as plt\n",
    "import statsmodels.api as sm\n",
    "from scipy import stats, interp\n",
    "import os, sys, pickle, shutil\n",
    "import pandas as pd\n",
    "import numpy as np\n",
    "import random, datetime, time\n",
    "from sklearn.model_selection import KFold\n",
    "\n",
    "\n",
    "# tensorflow 사용 시 seed 고정\n",
    "def seed_everything(seed: int = 98):\n",
    "    random.seed(seed)\n",
    "    np.random.seed(seed)\n",
    "    os.environ[\"PYTHONHASHSEED\"] = str(seed)\n",
    "    tf.random.set_seed(seed)\n",
    "    \n",
    "SEED = 98\n",
    "os.environ[\"CUDA_VISIBLE_DEVICES\"]= \"3\""
   ]
  },
  {
   "cell_type": "code",
   "execution_count": 105,
   "id": "cfa2b048-b222-44d5-82d5-309f31fd9c1f",
   "metadata": {
    "execution": {
     "iopub.execute_input": "2023-02-16T06:39:30.050248Z",
     "iopub.status.busy": "2023-02-16T06:39:30.049790Z",
     "iopub.status.idle": "2023-02-16T06:39:30.056997Z",
     "shell.execute_reply": "2023-02-16T06:39:30.056036Z",
     "shell.execute_reply.started": "2023-02-16T06:39:30.050199Z"
    },
    "tags": []
   },
   "outputs": [
    {
     "data": {
      "text/plain": [
       "(35971, 5)"
      ]
     },
     "execution_count": 105,
     "metadata": {},
     "output_type": "execute_result"
    }
   ],
   "source": [
    "x_train.shape"
   ]
  },
  {
   "cell_type": "code",
   "execution_count": 104,
   "id": "6971b44f-6a49-4ced-ba09-8418e924b9cd",
   "metadata": {
    "execution": {
     "iopub.execute_input": "2023-02-16T06:39:28.426728Z",
     "iopub.status.busy": "2023-02-16T06:39:28.426247Z",
     "iopub.status.idle": "2023-02-16T06:39:28.486372Z",
     "shell.execute_reply": "2023-02-16T06:39:28.485627Z",
     "shell.execute_reply.started": "2023-02-16T06:39:28.426676Z"
    },
    "tags": []
   },
   "outputs": [],
   "source": [
    "from sklearn.preprocessing import StandardScaler\n",
    "\n",
    "sc = StandardScaler()\n",
    "x_train = sc.fit_transform(df.loc[:ntrain-1,INPUT_VARS])\n",
    "x_test = sc.transform(df.loc[ntrain:,INPUT_VARS])"
   ]
  },
  {
   "cell_type": "code",
   "execution_count": 106,
   "id": "7001f38e-8f9e-449c-a842-d5914021b256",
   "metadata": {
    "execution": {
     "iopub.execute_input": "2023-02-16T06:39:31.475438Z",
     "iopub.status.busy": "2023-02-16T06:39:31.474949Z",
     "iopub.status.idle": "2023-02-16T06:39:31.644484Z",
     "shell.execute_reply": "2023-02-16T06:39:31.643808Z",
     "shell.execute_reply.started": "2023-02-16T06:39:31.475385Z"
    },
    "tags": []
   },
   "outputs": [],
   "source": [
    "from sklearn.experimental import enable_iterative_imputer\n",
    "from sklearn.impute import IterativeImputer\n",
    "from sklearn.preprocessing import StandardScaler\n",
    "\n",
    "imp = IterativeImputer().fit(x_train)\n",
    "x_train_imputed = imp.transform(x_train)\n",
    "x_test_imputed = imp.transform(x_test)"
   ]
  },
  {
   "cell_type": "code",
   "execution_count": 88,
   "id": "903719d5-2cb7-4dc7-af9f-1574bf97e18d",
   "metadata": {
    "execution": {
     "iopub.execute_input": "2023-02-16T06:35:16.884940Z",
     "iopub.status.busy": "2023-02-16T06:35:16.884388Z",
     "iopub.status.idle": "2023-02-16T06:35:16.891571Z",
     "shell.execute_reply": "2023-02-16T06:35:16.890278Z",
     "shell.execute_reply.started": "2023-02-16T06:35:16.884884Z"
    },
    "tags": []
   },
   "outputs": [],
   "source": [
    "# save model\n",
    "#odir_f = f'acc1-{acc1:.3f}_acc3-{acc3:.3f}_XGBR_{nfold}fold'\n",
    "odir_f = f'DNN_size'\n",
    "odir = f'result/{odir_f}'\n",
    "if not os.path.exists(odir):\n",
    "    os.mkdir(odir)"
   ]
  },
  {
   "cell_type": "code",
   "execution_count": 115,
   "id": "119c029c-8455-413d-99b4-844af7a9cdcc",
   "metadata": {
    "execution": {
     "iopub.execute_input": "2023-02-16T06:42:52.177318Z",
     "iopub.status.busy": "2023-02-16T06:42:52.176786Z",
     "iopub.status.idle": "2023-02-16T06:43:09.227896Z",
     "shell.execute_reply": "2023-02-16T06:43:09.227112Z",
     "shell.execute_reply.started": "2023-02-16T06:42:52.177265Z"
    },
    "scrolled": true,
    "tags": []
   },
   "outputs": [
    {
     "name": "stderr",
     "output_type": "stream",
     "text": [
      "/home/painstudy/anaconda3/envs/keras/lib/python3.8/site-packages/keras/optimizer_v2/adam.py:105: UserWarning: The `lr` argument is deprecated, use `learning_rate` instead.\n",
      "  super(Adam, self).__init__(name, **kwargs)\n"
     ]
    },
    {
     "name": "stdout",
     "output_type": "stream",
     "text": [
      "Epoch 1/100\n",
      "449/450 [============================>.] - ETA: 0s - loss: 0.9451 - mean_absolute_error: 0.5390\n",
      "Epoch 00001: val_loss improved from inf to 0.63609, saving model to result/DNN_size/weights.hdf5\n",
      "450/450 [==============================] - 3s 5ms/step - loss: 0.9441 - mean_absolute_error: 0.5388 - val_loss: 0.6361 - val_mean_absolute_error: 0.2973\n",
      "Epoch 2/100\n",
      "444/450 [============================>.] - ETA: 0s - loss: 0.3555 - mean_absolute_error: 0.4044\n",
      "Epoch 00002: val_loss improved from 0.63609 to 0.27092, saving model to result/DNN_size/weights.hdf5\n",
      "450/450 [==============================] - 2s 5ms/step - loss: 0.3538 - mean_absolute_error: 0.4039 - val_loss: 0.2709 - val_mean_absolute_error: 0.2828\n",
      "Epoch 3/100\n",
      "445/450 [============================>.] - ETA: 0s - loss: 0.2866 - mean_absolute_error: 0.3900\n",
      "Epoch 00003: val_loss improved from 0.27092 to 0.17374, saving model to result/DNN_size/weights.hdf5\n",
      "450/450 [==============================] - 2s 4ms/step - loss: 0.2860 - mean_absolute_error: 0.3898 - val_loss: 0.1737 - val_mean_absolute_error: 0.2805\n",
      "Epoch 4/100\n",
      "443/450 [============================>.] - ETA: 0s - loss: 0.2599 - mean_absolute_error: 0.3788\n",
      "Epoch 00004: val_loss improved from 0.17374 to 0.16522, saving model to result/DNN_size/weights.hdf5\n",
      "450/450 [==============================] - 2s 4ms/step - loss: 0.2595 - mean_absolute_error: 0.3787 - val_loss: 0.1652 - val_mean_absolute_error: 0.2757\n",
      "Epoch 5/100\n",
      "446/450 [============================>.] - ETA: 0s - loss: 0.2683 - mean_absolute_error: 0.3696\n",
      "Epoch 00005: val_loss improved from 0.16522 to 0.13354, saving model to result/DNN_size/weights.hdf5\n",
      "450/450 [==============================] - 2s 4ms/step - loss: 0.2680 - mean_absolute_error: 0.3696 - val_loss: 0.1335 - val_mean_absolute_error: 0.2698\n",
      "Epoch 6/100\n",
      "444/450 [============================>.] - ETA: 0s - loss: 0.2341 - mean_absolute_error: 0.3528\n",
      "Epoch 00006: val_loss did not improve from 0.13354\n",
      "450/450 [==============================] - 2s 4ms/step - loss: 0.2341 - mean_absolute_error: 0.3530 - val_loss: 0.1356 - val_mean_absolute_error: 0.2767\n",
      "Epoch 7/100\n",
      "448/450 [============================>.] - ETA: 0s - loss: 0.2523 - mean_absolute_error: 0.3560\n",
      "Epoch 00007: val_loss did not improve from 0.13354\n",
      "450/450 [==============================] - 2s 4ms/step - loss: 0.2521 - mean_absolute_error: 0.3559 - val_loss: 0.1453 - val_mean_absolute_error: 0.2710\n",
      "Epoch 8/100\n",
      "446/450 [============================>.] - ETA: 0s - loss: 0.2083 - mean_absolute_error: 0.3465\n",
      "Epoch 00008: val_loss did not improve from 0.13354\n",
      "450/450 [==============================] - 2s 4ms/step - loss: 0.2079 - mean_absolute_error: 0.3463 - val_loss: 0.1345 - val_mean_absolute_error: 0.2714\n"
     ]
    }
   ],
   "source": [
    "dense_node = 512\n",
    "dropout = 0.3\n",
    "batch_size = 64\n",
    "learning_rate = 0.001\n",
    "\n",
    "# model\n",
    "inp = Input(shape=(x_train.shape[1],))\n",
    "out = inp\n",
    "\n",
    "out = Dense(dense_node, activation='relu')(out)\n",
    "out = BatchNormalization()(out)\n",
    "out = Dropout(dropout)(out)\n",
    "out = Dense(dense_node, activation='relu')(out)\n",
    "out = Dropout(dropout)(out)\n",
    "out = Dense(1, activation=None)(out)\n",
    "\n",
    "model = Model(inputs=[inp], outputs=[out])\n",
    "#model.save_weights(f'{odir}/initinp.l_weights.hdf5')\n",
    "\n",
    "weightcache = f\"{odir}/weights.hdf5\"\n",
    "model.compile(loss='mse', optimizer=Adam(lr=learning_rate), metrics=[\"mean_absolute_error\"])\n",
    "hist = model.fit(x_train_imputed, y_train, validation_split=0.2, epochs=100, batch_size=batch_size, #class_weight={0:1, 1:3}, \n",
    "                        callbacks=[ModelCheckpoint(monitor='val_loss', filepath=weightcache, verbose=1, save_best_only=True),\n",
    "                                    EarlyStopping(monitor='val_loss', patience=3, verbose=0, mode='auto')])\n",
    "\n",
    "model.load_weights(weightcache)\n",
    "y_pred = model.predict(x_test_imputed).flatten()"
   ]
  },
  {
   "cell_type": "code",
   "execution_count": 116,
   "id": "0ebdcb1c-9fa2-43b9-a503-1d0f84f06508",
   "metadata": {
    "execution": {
     "iopub.execute_input": "2023-02-16T06:43:14.140517Z",
     "iopub.status.busy": "2023-02-16T06:43:14.139987Z",
     "iopub.status.idle": "2023-02-16T06:43:14.486275Z",
     "shell.execute_reply": "2023-02-16T06:43:14.485698Z",
     "shell.execute_reply.started": "2023-02-16T06:43:14.140463Z"
    },
    "tags": []
   },
   "outputs": [
    {
     "name": "stdout",
     "output_type": "stream",
     "text": [
      "explained_variance_score: 0.843\n",
      "mean_squared_errors: 0.153\n",
      "r2_score: 0.840\n",
      "acc: 0.567\n",
      "acc(+-0.5mm): 0.955\n"
     ]
    }
   ],
   "source": [
    "y_pred = model.predict(x_test_imputed).flatten()\n",
    "y_pred = np.round(y_pred * 2) / 2\n",
    "\n",
    "print(f'explained_variance_score: {explained_variance_score(y_test, y_pred):.3f}')\n",
    "print(f'mean_squared_errors: {mean_squared_error(y_test, y_pred):.3f}')\n",
    "print(f'r2_score: {r2_score(y_test, y_pred):.3f}')\n",
    "print(f'acc: {np.mean(y_pred==y_test):.3f}')\n",
    "print(f'acc(+-0.5mm): {np.mean((y_pred >= y_test-0.5) & (y_pred <= y_test+0.5)):.3f}')"
   ]
  },
  {
   "cell_type": "markdown",
   "id": "1dd1cf49-7994-4b80-916d-babe4dd792bb",
   "metadata": {},
   "source": [
    "# Insertion depth"
   ]
  },
  {
   "cell_type": "code",
   "execution_count": null,
   "id": "ad31d414-cb70-498a-9352-c316745ec68b",
   "metadata": {
    "scrolled": true,
    "tags": []
   },
   "outputs": [],
   "source": [
    "df.isnull().sum()"
   ]
  },
  {
   "cell_type": "code",
   "execution_count": 199,
   "id": "549f228b-e7ef-40b4-8478-39483ddd1084",
   "metadata": {
    "execution": {
     "iopub.execute_input": "2023-02-16T10:31:19.996829Z",
     "iopub.status.busy": "2023-02-16T10:31:19.996259Z",
     "iopub.status.idle": "2023-02-16T10:31:20.162283Z",
     "shell.execute_reply": "2023-02-16T10:31:20.161657Z",
     "shell.execute_reply.started": "2023-02-16T10:31:19.996773Z"
    },
    "tags": []
   },
   "outputs": [
    {
     "data": {
      "text/plain": [
       "(array([7.0000e+00, 4.5000e+01, 2.5100e+02, 2.2040e+03, 6.8630e+03,\n",
       "        1.4196e+04, 1.0387e+04, 5.9750e+03, 3.6700e+02, 3.0000e+01]),\n",
       " array([ 0. ,  2.4,  4.8,  7.2,  9.6, 12. , 14.4, 16.8, 19.2, 21.6, 24. ]),\n",
       " <BarContainer object of 10 artists>)"
      ]
     },
     "execution_count": 199,
     "metadata": {},
     "output_type": "execute_result"
    },
    {
     "data": {
      "image/png": "[encoded data removed]",
      "text/plain": [
       "<Figure size 432x288 with 1 Axes>"
      ]
     },
     "metadata": {
      "needs_background": "light"
     },
     "output_type": "display_data"
    }
   ],
   "source": [
    "dff = df.dropna(subset=['fixed'])\n",
    "depths = dff['fixed'].values\n",
    "plt.hist(depths)"
   ]
  },
  {
   "cell_type": "code",
   "execution_count": 137,
   "id": "447ffc8b-36f2-45d8-9410-de707eabaf8e",
   "metadata": {
    "execution": {
     "iopub.execute_input": "2023-02-16T07:16:32.150597Z",
     "iopub.status.busy": "2023-02-16T07:16:32.150019Z",
     "iopub.status.idle": "2023-02-16T07:16:32.209953Z",
     "shell.execute_reply": "2023-02-16T07:16:32.209112Z",
     "shell.execute_reply.started": "2023-02-16T07:16:32.150539Z"
    },
    "tags": []
   },
   "outputs": [],
   "source": [
    "INPUT_VARS = ['age_cal','sex','weight','height', 'cuffed', 'airway_tube_size']\n",
    "TARGET_VAR = 'fixed'\n",
    "\n",
    "seed_everything(SEED)\n",
    "df.dropna(subset=['fixed'], inplace=True)\n",
    "df = shuffle(df)\n",
    "df.reset_index(drop=True, inplace=True)\n",
    "y = df[[TARGET_VAR]].values.flatten().astype(float)\n",
    "x = df.loc[:, INPUT_VARS].values.astype(float)\n",
    "\n",
    "# training set의 뒤쪽 20%를 test set 으로 사용\n",
    "nsamp = len(y)\n",
    "ntest = int(nsamp * 0.2)\n",
    "ntrain = nsamp - ntest\n",
    "x_test = x[-ntest:, :]\n",
    "y_test = y[-ntest:]\n",
    "y_test_old = y_old[-ntest:]\n",
    "x_train = x[:ntrain, :]\n",
    "y_train = y[:ntrain]"
   ]
  },
  {
   "cell_type": "markdown",
   "id": "ef804e84-f8e8-4ef9-8795-17561847c6e2",
   "metadata": {},
   "source": [
    "## PALS guideline"
   ]
  },
  {
   "cell_type": "code",
   "execution_count": 145,
   "id": "7fb873c5-a02c-4f9d-b0f5-4931816841ba",
   "metadata": {
    "execution": {
     "iopub.execute_input": "2023-02-16T07:35:39.846573Z",
     "iopub.status.busy": "2023-02-16T07:35:39.846199Z",
     "iopub.status.idle": "2023-02-16T07:35:39.859800Z",
     "shell.execute_reply": "2023-02-16T07:35:39.858970Z",
     "shell.execute_reply.started": "2023-02-16T07:35:39.846524Z"
    },
    "tags": []
   },
   "outputs": [
    {
     "name": "stdout",
     "output_type": "stream",
     "text": [
      "--------------\n",
      "old model = 3 * ETT size\n",
      "--------------\n",
      "explained_variance_score: 0.603\n",
      "mean_squared_errors: 3.097\n",
      "r2_score: 0.569\n"
     ]
    }
   ],
   "source": [
    "OLD_VAR = 'old_depth1'\n",
    "# OLD_VAR = 'old_tube_size'\n",
    "df[OLD_VAR] = 3 * df['airway_tube_size']\n",
    "#df[OLD_VAR] = df['airway_tube_size'].apply(lambda x: np.round((x / 4 + 4) * 2) / 2 if x >= 2 else (3.5 if x < 1 else 4)) \n",
    "#df[OLD_VAR] = df.apply(lambda x: x[OLD_VAR] - 0.5 if x['cuffed'] else x[OLD_VAR], axis=1)\n",
    "y_old = df[[OLD_VAR]].values.flatten().astype(float)\n",
    "y_test_old = y_old[-ntest:]\n",
    "\n",
    "print('--------------')\n",
    "print('old model = 3 * ETT size')\n",
    "print('--------------')\n",
    "print(f'explained_variance_score: {explained_variance_score(y_test, y_test_old):.3f}')\n",
    "print(f'mean_squared_errors: {mean_squared_error(y_test, y_test_old):.3f}')\n",
    "print(f'r2_score: {r2_score(y_test, y_test_old):.3f}')"
   ]
  },
  {
   "cell_type": "code",
   "execution_count": 144,
   "id": "2d6dd45f-e5c2-48ae-8d5c-a3426fecf697",
   "metadata": {
    "execution": {
     "iopub.execute_input": "2023-02-16T07:35:36.395066Z",
     "iopub.status.busy": "2023-02-16T07:35:36.394726Z",
     "iopub.status.idle": "2023-02-16T07:35:36.408690Z",
     "shell.execute_reply": "2023-02-16T07:35:36.407814Z",
     "shell.execute_reply.started": "2023-02-16T07:35:36.395030Z"
    },
    "tags": []
   },
   "outputs": [
    {
     "name": "stdout",
     "output_type": "stream",
     "text": [
      "--------------\n",
      "old model = 3 * age-based ETT size\n",
      "--------------\n",
      "explained_variance_score: 0.624\n",
      "mean_squared_errors: 2.808\n",
      "r2_score: 0.609\n"
     ]
    }
   ],
   "source": [
    "OLD_VAR = 'old_depth1'\n",
    "# OLD_VAR = 'old_tube_size'\n",
    "df[OLD_VAR] = 3 * df['old_tube_size']\n",
    "#df[OLD_VAR] = df['airway_tube_size'].apply(lambda x: np.round((x / 4 + 4) * 2) / 2 if x >= 2 else (3.5 if x < 1 else 4)) \n",
    "#df[OLD_VAR] = df.apply(lambda x: x[OLD_VAR] - 0.5 if x['cuffed'] else x[OLD_VAR], axis=1)\n",
    "y_old = df[[OLD_VAR]].values.flatten().astype(float)\n",
    "y_test_old = y_old[-ntest:]\n",
    "\n",
    "print('--------------')\n",
    "print('old model = 3 * age-based ETT size')\n",
    "print('--------------')\n",
    "print(f'explained_variance_score: {explained_variance_score(y_test, y_test_old):.3f}')\n",
    "print(f'mean_squared_errors: {mean_squared_error(y_test, y_test_old):.3f}')\n",
    "print(f'r2_score: {r2_score(y_test, y_test_old):.3f}')"
   ]
  },
  {
   "cell_type": "code",
   "execution_count": 143,
   "id": "fa1f696e-de27-456f-9a23-94193939c932",
   "metadata": {
    "execution": {
     "iopub.execute_input": "2023-02-16T07:35:33.685913Z",
     "iopub.status.busy": "2023-02-16T07:35:33.685296Z",
     "iopub.status.idle": "2023-02-16T07:35:33.702708Z",
     "shell.execute_reply": "2023-02-16T07:35:33.701747Z",
     "shell.execute_reply.started": "2023-02-16T07:35:33.685855Z"
    },
    "tags": []
   },
   "outputs": [
    {
     "name": "stdout",
     "output_type": "stream",
     "text": [
      "--------------\n",
      "old model = age / 2 + 12\n",
      "--------------\n",
      "explained_variance_score: 0.592\n",
      "mean_squared_errors: 2.977\n",
      "r2_score: 0.585\n"
     ]
    }
   ],
   "source": [
    "OLD_VAR = 'old_depth1'\n",
    "# OLD_VAR = 'old_tube_size'\n",
    "df[OLD_VAR] = df['age'] / 2 + 12\n",
    "#df[OLD_VAR] = df['airway_tube_size'].apply(lambda x: np.round((x / 4 + 4) * 2) / 2 if x >= 2 else (3.5 if x < 1 else 4)) \n",
    "#df[OLD_VAR] = df.apply(lambda x: x[OLD_VAR] - 0.5 if x['cuffed'] else x[OLD_VAR], axis=1)\n",
    "y_old = df[[OLD_VAR]].values.flatten().astype(float)\n",
    "y_test_old = y_old[-ntest:]\n",
    "\n",
    "print('--------------')\n",
    "print('old model = age / 2 + 12')\n",
    "print('--------------')\n",
    "print(f'explained_variance_score: {explained_variance_score(y_test, y_test_old):.3f}')\n",
    "print(f'mean_squared_errors: {mean_squared_error(y_test, y_test_old):.3f}')\n",
    "print(f'r2_score: {r2_score(y_test, y_test_old):.3f}')"
   ]
  },
  {
   "cell_type": "code",
   "execution_count": null,
   "id": "918fde95-9a06-4fba-9565-4b5ee50cf5d5",
   "metadata": {},
   "outputs": [],
   "source": []
  },
  {
   "cell_type": "code",
   "execution_count": null,
   "id": "519a8628-515e-4541-93a0-18136259c9c0",
   "metadata": {},
   "outputs": [],
   "source": []
  },
  {
   "cell_type": "code",
   "execution_count": 131,
   "id": "f7d6a6ac-5525-4362-a9c3-8e6c93e8a812",
   "metadata": {
    "execution": {
     "iopub.execute_input": "2023-02-16T07:08:51.640604Z",
     "iopub.status.busy": "2023-02-16T07:08:51.640128Z",
     "iopub.status.idle": "2023-02-16T07:09:15.496134Z",
     "shell.execute_reply": "2023-02-16T07:09:15.495458Z",
     "shell.execute_reply.started": "2023-02-16T07:08:51.640553Z"
    },
    "tags": []
   },
   "outputs": [
    {
     "name": "stderr",
     "output_type": "stream",
     "text": [
      "/home/painstudy/.local/lib/python3.8/site-packages/sklearn/model_selection/_search.py:292: UserWarning: The total space of parameters 36 is smaller than n_iter=100. Running 36 iterations. For exhaustive searches, use GridSearchCV.\n",
      "  warnings.warn(\n"
     ]
    },
    {
     "name": "stdout",
     "output_type": "stream",
     "text": [
      "Fitting 5 folds for each of 36 candidates, totalling 180 fits\n",
      "\n",
      "========= found hyperparameter =========\n",
      "{'subsample': 0.8, 'n_estimators': 100, 'max_depth': 4, 'colsample_bytree': 0.5}\n",
      "0.7925042013962639\n",
      "========================================\n",
      "--------------\n",
      "new model\n",
      "--------------\n",
      "explained_variance_score: 0.790\n",
      "mean_squared_errors: 1.561\n",
      "r2_score: 0.790\n"
     ]
    }
   ],
   "source": [
    "from sklearn.metrics import mean_absolute_error\n",
    "\n",
    "# age (일단위)\n",
    "param_dict = {\n",
    "                #'learning_rate': [ 0.05, 0.07, 0.1], #[0.01, 0.03, 0.05],\n",
    "                'max_depth': [4, 5, 7],#[3,4,5],\n",
    "                'n_estimators': [100, 200, 300],\n",
    "                #'n_estimators': [100],#[25, 50, 75, 100],\n",
    "                #'n_estimators': [50],\n",
    "                'subsample': [0.5, 0.8], #[0.5, 0.8, 1],\n",
    "                'colsample_bytree': [0.5, 0.8], #[0.8, 1],\n",
    "                #'gamma': [0.9], #[0.3, 0.5, 0.7, 0.9],\n",
    "                #'scale_pos_weight': [5, 10], #[1,10,30,100]\n",
    "            }\n",
    "nfold = 5\n",
    "gs = RandomizedSearchCV(n_iter=100,\n",
    "                        estimator=xgb.sklearn.XGBRegressor(),\n",
    "                        n_jobs=-1,\n",
    "                        verbose=5,\n",
    "                        param_distributions=param_dict, cv=nfold)\n",
    "gs.fit(x_train, y_train)\n",
    "model = gs.best_estimator_.get_booster()\n",
    "\n",
    "print()\n",
    "print(\"========= found hyperparameter =========\")\n",
    "print(gs.best_params_)\n",
    "print(gs.best_score_)\n",
    "print(\"========================================\")\n",
    "\n",
    "y_pred = gs.predict(x_test).flatten()\n",
    "\n",
    "\n",
    "print('--------------')\n",
    "print('new model')\n",
    "print('--------------')\n",
    "print(f'explained_variance_score: {explained_variance_score(y_test, y_pred):.3f}')\n",
    "print(f'mean_squared_errors: {mean_squared_error(y_test, y_pred):.3f}')\n",
    "print(f'mean_absolute_errors: {mean_absolute_error(y_test, y_pred):.3f}')\n",
    "print(f'r2_score: {r2_score(y_test, y_pred):.3f}')"
   ]
  },
  {
   "cell_type": "code",
   "execution_count": 133,
   "id": "db163d37-7ebf-4c1b-8922-3c0455743a88",
   "metadata": {
    "execution": {
     "iopub.execute_input": "2023-02-16T07:10:47.204182Z",
     "iopub.status.busy": "2023-02-16T07:10:47.203615Z",
     "iopub.status.idle": "2023-02-16T07:10:47.211539Z",
     "shell.execute_reply": "2023-02-16T07:10:47.210442Z",
     "shell.execute_reply.started": "2023-02-16T07:10:47.204125Z"
    },
    "tags": []
   },
   "outputs": [
    {
     "name": "stdout",
     "output_type": "stream",
     "text": [
      "acc(+-1cm): 0.700\n"
     ]
    }
   ],
   "source": [
    "print(f'acc(+-1cm): {np.mean((y_pred >= y_test-1) & (y_pred <= y_test+1)):.3f}')"
   ]
  },
  {
   "cell_type": "code",
   "execution_count": 134,
   "id": "a926bb7d-11ed-4f17-92c1-e3c19b7c1718",
   "metadata": {
    "execution": {
     "iopub.execute_input": "2023-02-16T07:11:49.386274Z",
     "iopub.status.busy": "2023-02-16T07:11:49.385707Z",
     "iopub.status.idle": "2023-02-16T07:11:49.395438Z",
     "shell.execute_reply": "2023-02-16T07:11:49.394409Z",
     "shell.execute_reply.started": "2023-02-16T07:11:49.386216Z"
    },
    "tags": []
   },
   "outputs": [
    {
     "data": {
      "text/plain": [
       "(7.589564, 20.347792, 1.5, 24.0)"
      ]
     },
     "execution_count": 134,
     "metadata": {},
     "output_type": "execute_result"
    }
   ],
   "source": [
    "np.min(y_pred), np.max(y_pred), np.min(y_test), np.max(y_test)"
   ]
  },
  {
   "cell_type": "code",
   "execution_count": null,
   "id": "110891bb-0798-4319-ba31-7e238770c7c4",
   "metadata": {},
   "outputs": [],
   "source": [
    "plt.figure(figsize=(8, 8))\n",
    "plt.xlim(2, 8)\n",
    "plt.ylim(2, 8)\n",
    "plt.scatter(xvals, yvals, c='blue', alpha=0.5, s=cvals, label='GBRT')\n",
    "plt.xlabel('Prediction')\n",
    "plt.ylabel('Ground Truth')\n",
    "lgnd = plt.legend()\n",
    "lgnd.legendHandles[0]._sizes = [30]\n",
    "plt.plot([2,8], [2,8], 'k-', alpha=0.1)\n",
    "plt.savefig('new.png')\n",
    "plt.close()"
   ]
  },
  {
   "cell_type": "code",
   "execution_count": null,
   "id": "aa282efc-4c55-4939-ab28-7e1001c7e251",
   "metadata": {},
   "outputs": [],
   "source": []
  },
  {
   "cell_type": "code",
   "execution_count": null,
   "id": "5a46de03-020a-43ab-a93d-3cb063c3e47c",
   "metadata": {},
   "outputs": [],
   "source": [
    "from sklearn.model_selection import GridSearchCV, RandomizedSearchCV\n",
    "from sklearn.metrics import explained_variance_score, mean_squared_error, mean_absolute_error, r2_score\n",
    "from sklearn.utils import shuffle\n",
    "import pandas as pd\n",
    "import xgboost as xgb\n",
    "import numpy as np\n",
    "import random, os, datetime, pickle\n",
    "import scipy\n",
    "import matplotlib.pyplot as plt\n",
    "import numpy as np\n",
    "import csv, math\n",
    "\n",
    "\n",
    "# tube.csv에 수술 시점 weight, height 추가\n",
    "df0 = pd.read_csv('tube.csv')\n",
    "df0.drop(columns=['weight', 'height'], inplace=True)\n",
    "df = pd.read_csv('demography_revised.csv')\n",
    "df = df0.merge(df[['opid', 'weight', 'height']], how='left', on='opid', suffixes=('_o',''))\n",
    "\n",
    "df.loc[df['weight'] <= 0, 'weight'] = None\n",
    "df.loc[df['height'] <= 0, 'height'] = None\n",
    "df['age'] = df['age'].astype(int)\n",
    "df = df.loc[df['airway_tube_type'] == 'plain']\n",
    "# [nan 'plain' 'RAE(oral)' 'reinforced' 'LMA' 'T-tube' 'CobraPLA', 'double lumen tube' 'RAE(nasal)' 'laser' 'combitube' 'univent']\n",
    "\n",
    "# age, sex, airway tube size 값이 없는 경우는 제외\n",
    "df.dropna(subset=['age', 'airway_tube_size'], inplace=True)\n",
    "df['sex'] = (df['sex'] == 'M')\n",
    "\n",
    "# 나이 계산 -> age_cal 열에 추가\n",
    "df_b = pd.read_csv('birth_sex.csv')\n",
    "df_b.rename(columns={'생년월일':'birth_date'}, inplace=True)\n",
    "df_b['birth_date'] = df_b['birth_date'].apply(lambda x: datetime.datetime.strptime(x, '%Y-%m-%d'))\n",
    "\n",
    "df_o = pd.read_csv('opdates.csv')\n",
    "df_o['opdate'] = df_o['opdate'].apply(lambda x: datetime.datetime.strptime(x, '%Y-%m-%d'))\n",
    "\n",
    "df1 = pd.merge(df_o, df_b, how='inner', on='hid')\n",
    "df1['age_cal'] = (df1['opdate'] - df1['birth_date'])/pd.Timedelta(days=365.2425)\n",
    "\n",
    "df = pd.merge(df, df1[['opid', 'age_cal', 'opdate', 'birth_date']], how='inner', on='opid')\n",
    "\n",
    "# inclusion criteria : 소아 10세 미만\n",
    "df = df.loc[df['age_cal'] < 10-0.01]\n",
    "df = df.loc[df['age_cal'] > 0]\n",
    "df['age'] = df['age_cal'].apply(lambda x: math.floor(x))\n",
    "\n",
    "\n",
    "# cuffed 여부와 fixed depth 추가\n",
    "df_t = pd.read_csv('tube_type.csv')\n",
    "df_t['cuffed'] = (df_t['cuffed'] == 1)\n",
    "\n",
    "df_f = pd.read_csv('tube_fixed.csv')\n",
    "\n",
    "# merge 하면서 cuffed 데이터가 없는 경우는 제외\n",
    "df = df.merge(df_f, how='left', on='opid')\n",
    "df = df.merge(df_t[['opid', 'cuffed']], how='inner', on='opid')\n",
    "\n",
    "# 중복되는 hid 경우 제외 (첫번째 수술기록만 가져오기)\n",
    "df = df.merge(df_o[['opid','hid']], how='inner', on='opid')\n",
    "df = df.loc[df[['hid', 'opid']].groupby('hid')['opid'].idxmin()]\n",
    "print(f'중복되는 hid는 첫번째 수술 외 제외: {len(df)}')\n",
    "\n",
    "perc = np.mean(df['cuffed'].values)\n",
    "print(f'소아 10세 미만에서 cuffed ETT 사용 비율: {perc:.3f}')\n",
    "print(f'소아 10세 미만 최종 opid수: {len(df)}')\n",
    "\n",
    "# age-based formula에 따른 ETT size\n",
    "OLD_VAR = 'old_tube_size'\n",
    "# df[OLD_VAR] = np.round((df['age'] / 4 + 4) * 2) / 2\n",
    "df[OLD_VAR] = df['age'].apply(lambda x: np.round((x / 4 + 4) * 2) / 2 if x >= 2 else (3.5 if x < 1 else 4)) \n",
    "df[OLD_VAR] = df.apply(lambda x: x[OLD_VAR] - 0.5 if x['cuffed'] else x[OLD_VAR], axis=1)\n",
    "\n",
    "\n",
    "# fixed depth를 output\n",
    "INPUT_VARS = ['age_cal','sex','weight','height', 'cuffed', 'airway_tube_size']\n",
    "TARGET_VAR = 'fixed'\n",
    "\n",
    "\n",
    "random.seed(98)\n",
    "#seed_everything(SEED)\n",
    "df.dropna(subset=['fixed'], inplace=True)\n",
    "df = df.loc[df['fixed']>=12]\n",
    "df = shuffle(df)\n",
    "df.reset_index(drop=True, inplace=True)\n",
    "y = df[[TARGET_VAR]].values.flatten().astype(float)\n",
    "x = df.loc[:, INPUT_VARS].values.astype(float)\n",
    "c = df['opid'].values.flatten().astype(int)\n",
    "\n",
    "# 저장하기\n",
    "pickle.dump(df, open(f'dataset/ETT_depth_12','wb'))\n",
    "np.savez(f'dataset/ETT_depth_12.npz', x=x, y=y, c=c)\n",
    "\n",
    "\n",
    "# training set의 뒤쪽 20%를 test set 으로 사용\n",
    "nsamp = len(y)\n",
    "ntest = int(nsamp * 0.2)\n",
    "ntrain = nsamp - ntest\n",
    "x_test = x[-ntest:, :]\n",
    "y_test = y[-ntest:]\n",
    "#y_test_old = y_old[-ntest:]\n",
    "x_train = x[:ntrain, :]\n",
    "y_train = y[:ntrain]\n",
    "\n",
    "print(f'x_train: {(x_train).shape}, x_test: {x_test.shape}')"
   ]
  },
  {
   "cell_type": "code",
   "execution_count": null,
   "id": "1199a418-47d7-49ac-9730-a6111239e442",
   "metadata": {},
   "outputs": [],
   "source": []
  },
  {
   "cell_type": "markdown",
   "id": "ece9d567-a283-4e1b-b209-54107c464ff0",
   "metadata": {},
   "source": [
    "# Comparison of each model"
   ]
  },
  {
   "cell_type": "code",
   "execution_count": 1,
   "id": "862c64fc-62bc-44af-ae66-c3605fe11826",
   "metadata": {
    "execution": {
     "iopub.execute_input": "2023-02-21T06:24:26.006776Z",
     "iopub.status.busy": "2023-02-21T06:24:26.006149Z",
     "iopub.status.idle": "2023-02-21T06:24:27.422267Z",
     "shell.execute_reply": "2023-02-21T06:24:27.421713Z",
     "shell.execute_reply.started": "2023-02-21T06:24:26.006629Z"
    },
    "tags": []
   },
   "outputs": [],
   "source": [
    "from sklearn.model_selection import GridSearchCV, RandomizedSearchCV\n",
    "from sklearn.metrics import explained_variance_score, mean_squared_error, mean_absolute_error, r2_score\n",
    "from sklearn.utils import shuffle\n",
    "import pandas as pd\n",
    "import xgboost as xgb\n",
    "import numpy as np\n",
    "import random, os, datetime, pickle\n",
    "import scipy\n",
    "import matplotlib.pyplot as plt\n",
    "import numpy as np\n",
    "import csv"
   ]
  },
  {
   "cell_type": "code",
   "execution_count": 2,
   "id": "2741e61f-7aec-48ef-809c-680b6a03677c",
   "metadata": {
    "execution": {
     "iopub.execute_input": "2023-02-21T06:24:27.935570Z",
     "iopub.status.busy": "2023-02-21T06:24:27.935298Z",
     "iopub.status.idle": "2023-02-21T06:24:28.146148Z",
     "shell.execute_reply": "2023-02-21T06:24:28.145301Z",
     "shell.execute_reply.started": "2023-02-21T06:24:27.935543Z"
    },
    "tags": []
   },
   "outputs": [
    {
     "name": "stdout",
     "output_type": "stream",
     "text": [
      "x_train: (27234, 5), x_test: (6808, 5)\n"
     ]
    }
   ],
   "source": [
    "dat = np.load(f'dataset/ETT_size.npz')\n",
    "x, y = dat['x'], dat['y']\n",
    "y_old  = dat['y_old']\n",
    "\n",
    "# training set의 뒤쪽 20%를 test set 으로 사용\n",
    "nsamp = len(y)\n",
    "ntest = int(nsamp * 0.2)\n",
    "ntrain = nsamp - ntest\n",
    "x_test = x[-ntest:, :]\n",
    "y_test = y[-ntest:]\n",
    "y_test_old = y_old[-ntest:]\n",
    "x_train = x[:ntrain, :]\n",
    "y_train = y[:ntrain]\n",
    "\n",
    "print(f'x_train: {(x_train).shape}, x_test: {x_test.shape}')\n",
    "\n",
    "\n",
    "from sklearn.experimental import enable_iterative_imputer\n",
    "from sklearn.impute import IterativeImputer\n",
    "from sklearn.preprocessing import StandardScaler\n",
    "\n",
    "imp = IterativeImputer().fit(x_train)\n",
    "x_train_imputed = imp.transform(x_train)\n",
    "x_test_imputed = imp.transform(x_test)"
   ]
  },
  {
   "cell_type": "code",
   "execution_count": 5,
   "id": "bcdced4d-e344-43f4-8648-88417b85f4c8",
   "metadata": {
    "execution": {
     "iopub.execute_input": "2023-02-18T06:16:33.517443Z",
     "iopub.status.busy": "2023-02-18T06:16:33.516873Z",
     "iopub.status.idle": "2023-02-18T06:16:33.701636Z",
     "shell.execute_reply": "2023-02-18T06:16:33.700970Z",
     "shell.execute_reply.started": "2023-02-18T06:16:33.517369Z"
    },
    "tags": []
   },
   "outputs": [],
   "source": [
    "from sklearn.experimental import enable_iterative_imputer\n",
    "from sklearn.impute import IterativeImputer\n",
    "from sklearn.preprocessing import StandardScaler\n",
    "\n",
    "imp = IterativeImputer().fit(x_train)\n",
    "x_train_imputed = imp.transform(x_train)\n",
    "x_test_imputed = imp.transform(x_test)"
   ]
  },
  {
   "cell_type": "code",
   "execution_count": 28,
   "id": "40548c8a-24f0-4507-ab10-aad0a90c4deb",
   "metadata": {
    "execution": {
     "iopub.execute_input": "2023-02-18T06:29:48.203880Z",
     "iopub.status.busy": "2023-02-18T06:29:48.203255Z",
     "iopub.status.idle": "2023-02-18T06:29:48.803906Z",
     "shell.execute_reply": "2023-02-18T06:29:48.803276Z",
     "shell.execute_reply.started": "2023-02-18T06:29:48.203827Z"
    },
    "tags": []
   },
   "outputs": [
    {
     "name": "stderr",
     "output_type": "stream",
     "text": [
      "/home/painstudy/.local/lib/python3.8/site-packages/xgboost/sklearn.py:782: UserWarning: Loading a native XGBoost model with Scikit-Learn interface.\n",
      "  warnings.warn(\"Loading a native XGBoost model with Scikit-Learn interface.\")\n"
     ]
    },
    {
     "name": "stdout",
     "output_type": "stream",
     "text": [
      "xgbr model acc: 0.601, acc(+-0.5mm): 0.966\n",
      "rf model acc: 0.595, acc(+-0.5mm): 0.963\n",
      "ensemble model acc: 0.598, acc(+-0.5mm): 0.965\n"
     ]
    }
   ],
   "source": [
    "# xgbr model\n",
    "xgbr = xgb.XGBRegressor()\n",
    "xgbr.load_model('result/size/acc1-0.601_acc3-0.966_XGBR_10fold/model.model')\n",
    "y_xgbr = xgbr.predict(x_test).flatten()\n",
    "y_xgbr1 = np.round(y_xgbr * 2) / 2\n",
    "acc3 = np.mean((y_xgbr1 >= y_test-0.5) & (y_xgbr1 <= y_test+0.5))\n",
    "print(f'xgbr model acc: {np.mean(y_xgbr1==y_test):.3f}, acc(+-0.5mm): {acc3:.3f}')\n",
    "\n",
    "\n",
    "# RF model\n",
    "rfr = pickle.load(open(f'result/size/acc1-0.595_acc3-0.963_RF_10fold/gridSearch','rb'))\n",
    "y_rfr = rfr.predict(x_test_imputed).flatten()\n",
    "y_rfr1 = np.round(y_rfr * 2) / 2\n",
    "acc3 = np.mean((y_rfr1 >= y_test-0.5) & (y_rfr1 <= y_test+0.5))\n",
    "print(f'rf model acc: {np.mean(y_rfr1==y_test):.3f}, acc(+-0.5mm): {acc3:.3f}')\n",
    "\n",
    "# ensemble\n",
    "y_ens = (y_xgbr*3 + y_rfr*2) / 5\n",
    "y_ens = np.round(y_ens * 2) / 2\n",
    "acc3 = np.mean((y_ens >= y_test-0.5) & (y_ens <= y_test+0.5))\n",
    "print(f'ensemble model acc: {np.mean(y_ens==y_test):.3f}, acc(+-0.5mm): {acc3:.3f}')\n"
   ]
  },
  {
   "cell_type": "code",
   "execution_count": 24,
   "id": "de6b8499-f74c-4559-b83b-fad5faedc7a0",
   "metadata": {
    "execution": {
     "iopub.execute_input": "2023-02-18T06:19:15.706037Z",
     "iopub.status.busy": "2023-02-18T06:19:15.705538Z",
     "iopub.status.idle": "2023-02-18T06:19:15.715264Z",
     "shell.execute_reply": "2023-02-18T06:19:15.713829Z",
     "shell.execute_reply.started": "2023-02-18T06:19:15.705988Z"
    },
    "tags": []
   },
   "outputs": [
    {
     "data": {
      "text/plain": [
       "0.8858695652173914"
      ]
     },
     "execution_count": 24,
     "metadata": {},
     "output_type": "execute_result"
    }
   ],
   "source": [
    "np.mean(y_xgbr==y_rbr)"
   ]
  },
  {
   "cell_type": "markdown",
   "id": "1bd27d13-d233-4139-879a-adfc494c9278",
   "metadata": {},
   "source": [
    "## Cole's formula (age 내림으로 수정)"
   ]
  },
  {
   "cell_type": "code",
   "execution_count": null,
   "id": "e8b4caf7-28ef-43bf-95b6-a2b9a013749d",
   "metadata": {},
   "outputs": [],
   "source": [
    "5 -> 5/4 + 4 = 5.25 -> 10.5 -> round down 10/2 = 5\n",
    "6 -> 6/4 + 4 = 5.5 -> 11 / 2 = 5.5\n",
    "7 -> 7/4 + 4 = 5.75 -> 11.5 -> 11/2=5.5"
   ]
  },
  {
   "cell_type": "code",
   "execution_count": 49,
   "id": "d4e67fb0-24d9-4ce8-9bfa-e7e1fe7bf964",
   "metadata": {
    "execution": {
     "iopub.execute_input": "2023-02-18T07:31:55.089712Z",
     "iopub.status.busy": "2023-02-18T07:31:55.089118Z",
     "iopub.status.idle": "2023-02-18T07:31:55.217331Z",
     "shell.execute_reply": "2023-02-18T07:31:55.216645Z",
     "shell.execute_reply.started": "2023-02-18T07:31:55.089657Z"
    },
    "tags": []
   },
   "outputs": [],
   "source": [
    "import math\n",
    "df_cole = pd.DataFrame({'age_cal':x_test[:,0], 'cuffed':x_test[:,4]})\n",
    "df_cole['age'] = df_cole['age_cal'].apply(lambda x: math.floor(x))\n",
    "\n",
    "OLD_VAR = 'old_tube_size'\n",
    "df_cole[OLD_VAR] = df_cole['age'].apply(lambda x: math.floor((x / 4 + 4) * 2) / 2 if x >= 2 else (3.5 if x < 1 else 4)) \n",
    "df_cole[OLD_VAR] = df_cole.apply(lambda x: x[OLD_VAR] - 0.5 if x['cuffed'] else x[OLD_VAR], axis=1)\n",
    "\n",
    "y_old = df_cole[[OLD_VAR]].values.flatten().astype(float)\n",
    "y_test_old = y_old[-ntest:]"
   ]
  },
  {
   "cell_type": "code",
   "execution_count": 50,
   "id": "4e1176be-7c75-489c-bd81-7ee79518dcd8",
   "metadata": {
    "execution": {
     "iopub.execute_input": "2023-02-18T07:31:56.523775Z",
     "iopub.status.busy": "2023-02-18T07:31:56.523350Z",
     "iopub.status.idle": "2023-02-18T07:31:56.538382Z",
     "shell.execute_reply": "2023-02-18T07:31:56.537523Z",
     "shell.execute_reply.started": "2023-02-18T07:31:56.523731Z"
    },
    "tags": []
   },
   "outputs": [
    {
     "name": "stdout",
     "output_type": "stream",
     "text": [
      "--------------\n",
      "old model = age/4+4\n",
      "--------------\n",
      "explained_variance_score: 0.817\n",
      "mean_squared_errors: 0.321\n",
      "mean_absolute_errors: 0.449\n",
      "r2_score: 0.676\n",
      "acc: 0.276\n",
      "acc(+-0.5mm): 0.841\n"
     ]
    }
   ],
   "source": [
    "print('--------------')\n",
    "print('old model = age/4+4')\n",
    "print('--------------')\n",
    "print(f'explained_variance_score: {explained_variance_score(y_test, y_test_old):.3f}')\n",
    "print(f'mean_squared_errors: {mean_squared_error(y_test, y_test_old):.3f}')\n",
    "print(f'mean_absolute_errors: {mean_absolute_error(y_test, y_test_old):.3f}')\n",
    "print(f'r2_score: {r2_score(y_test, y_test_old):.3f}')\n",
    "# accuracy\n",
    "acc1 = np.mean(y_test_old==y_test)\n",
    "acc3 = np.mean((y_test_old >= y_test-0.5) & (y_test_old <= y_test+0.5))\n",
    "print(f'acc: {acc1:.3f}')\n",
    "print(f'acc(+-0.5mm): {acc3:.3f}')"
   ]
  },
  {
   "cell_type": "code",
   "execution_count": 64,
   "id": "d39990c3-e328-42f8-b4ee-134c40032882",
   "metadata": {
    "execution": {
     "iopub.execute_input": "2023-02-19T04:32:20.841644Z",
     "iopub.status.busy": "2023-02-19T04:32:20.841281Z",
     "iopub.status.idle": "2023-02-19T04:32:20.855190Z",
     "shell.execute_reply": "2023-02-19T04:32:20.854392Z",
     "shell.execute_reply.started": "2023-02-19T04:32:20.841610Z"
    },
    "tags": []
   },
   "outputs": [
    {
     "name": "stdout",
     "output_type": "stream",
     "text": [
      "--------------\n",
      "old model = age/4+4\n",
      "--------------\n",
      "explained_variance_score: 0.629\n",
      "mean_squared_errors: 0.352\n",
      "mean_absolute_errors: 0.478\n",
      "r2_score: 0.188\n",
      "acc: 0.247\n",
      "acc(+-0.5mm): 0.815\n"
     ]
    }
   ],
   "source": [
    "age_mask = (x_test[:,0] >= 2)\n",
    "\n",
    "y_test_old1 = y_test_old[age_mask]\n",
    "y_test1 = y_test[age_mask]\n",
    "\n",
    "\n",
    "print('--------------')\n",
    "print('old model = age/4+4')\n",
    "print('--------------')\n",
    "print(f'explained_variance_score: {explained_variance_score(y_test1, y_test_old1):.3f}')\n",
    "print(f'mean_squared_errors: {mean_squared_error(y_test1, y_test_old1):.3f}')\n",
    "print(f'mean_absolute_errors: {mean_absolute_error(y_test1, y_test_old1):.3f}')\n",
    "print(f'r2_score: {r2_score(y_test1, y_test_old1):.3f}')\n",
    "# accuracy\n",
    "acc1 = np.mean(y_test_old1==y_test1)\n",
    "acc3 = np.mean((y_test_old1 >= y_test1-0.5) & (y_test_old1 <= y_test1+0.5))\n",
    "print(f'acc: {acc1:.3f}')\n",
    "print(f'acc(+-0.5mm): {acc3:.3f}')"
   ]
  },
  {
   "cell_type": "code",
   "execution_count": 66,
   "id": "9f4bbd1a-af3a-4964-9e3b-a5ce0117ce97",
   "metadata": {
    "execution": {
     "iopub.execute_input": "2023-02-19T04:39:26.096645Z",
     "iopub.status.busy": "2023-02-19T04:39:26.096101Z",
     "iopub.status.idle": "2023-02-19T04:39:27.747954Z",
     "shell.execute_reply": "2023-02-19T04:39:27.747456Z",
     "shell.execute_reply.started": "2023-02-19T04:39:26.096590Z"
    },
    "tags": []
   },
   "outputs": [
    {
     "data": {
      "text/plain": [
       "[<matplotlib.lines.Line2D at 0x7f8ab0290fd0>]"
      ]
     },
     "execution_count": 66,
     "metadata": {},
     "output_type": "execute_result"
    },
    {
     "data": {
      "image/png": "[encoded data removed]",
      "text/plain": [
       "<Figure size 576x576 with 1 Axes>"
      ]
     },
     "metadata": {
      "needs_background": "light"
     },
     "output_type": "display_data"
    }
   ],
   "source": [
    "xvals = []\n",
    "yvals = []\n",
    "cvals = []\n",
    "cvals_old = []\n",
    "for x in np.arange(3, 8, 0.5):\n",
    "    for y in np.arange(3, 8, 0.5):\n",
    "        xvals.append(x)\n",
    "        yvals.append(y)\n",
    "        #cvals.append(sum((y_pred == x) & (y_test == y)))\n",
    "        cvals_old.append(sum((y_test_old == x) & (y_test == y)))\n",
    "xvals = np.array(xvals)\n",
    "yvals = np.array(yvals)\n",
    "#cvals = np.array(cvals) / 2\n",
    "cvals_old = np.array(cvals_old) / 2\n",
    "\n",
    "plt.figure(figsize=(8, 8))\n",
    "plt.xlim(2, 8)\n",
    "plt.ylim(2, 8)\n",
    "plt.scatter(xvals, yvals, c='red', alpha=0.5, s=cvals_old, label='4+AGE/4')\n",
    "plt.xlabel('Prediction')\n",
    "plt.ylabel('Ground Truth')\n",
    "lgnd = plt.legend()\n",
    "lgnd.legendHandles[0]._sizes = [30]\n",
    "plt.plot([2,8], [2,8], 'k-', alpha=0.1)\n",
    "plt.plot([2.5,8], [2,7.5], '--k', alpha=0.1)\n",
    "plt.plot([2,7.5], [2.5,8], '--k', alpha=0.1)"
   ]
  },
  {
   "cell_type": "code",
   "execution_count": 42,
   "id": "f3808650-a18f-4e9f-90f2-6fe05961ad55",
   "metadata": {
    "execution": {
     "iopub.execute_input": "2023-02-18T07:29:20.315900Z",
     "iopub.status.busy": "2023-02-18T07:29:20.315650Z",
     "iopub.status.idle": "2023-02-18T07:29:21.031224Z",
     "shell.execute_reply": "2023-02-18T07:29:21.030565Z",
     "shell.execute_reply.started": "2023-02-18T07:29:20.315876Z"
    },
    "tags": []
   },
   "outputs": [
    {
     "name": "stdout",
     "output_type": "stream",
     "text": [
      "--------------\n",
      "old model = age/4+4\n",
      "--------------\n",
      "explained_variance_score: 0.805\n",
      "mean_squared_errors: 0.342\n",
      "mean_absolute_errors: 0.459\n",
      "r2_score: 0.655\n",
      "acc: 0.279\n",
      "acc(+-0.5mm): 0.823\n"
     ]
    }
   ],
   "source": [
    "import math\n",
    "\n",
    "# age-based formula에 따른 ETT size\n",
    "OLD_VAR = 'old_tube_size'\n",
    "# df[OLD_VAR] = np.round((df['age'] / 4 + 4) * 2) / 2\n",
    "df[OLD_VAR] = df['age'].apply(lambda x: math.floor((x / 4 + 4) * 2) / 2 if x >= 2 else (3.5 if x < 1 else 4)) \n",
    "df[OLD_VAR] = df.apply(lambda x: x[OLD_VAR] - 0.5 if x['cuffed'] else x[OLD_VAR], axis=1)\n",
    "\n",
    "SEED = 98\n",
    "INPUT_VARS = ['age_cal','sex','weight','height', 'cuffed']\n",
    "TARGET_VAR = 'airway_tube_size'\n",
    "\n",
    "\n",
    "random.seed(SEED)\n",
    "df = shuffle(df)\n",
    "df.reset_index(drop=True, inplace=True)\n",
    "y = df[[TARGET_VAR]].values.flatten().astype(float)\n",
    "c = df['opid'].values.flatten().astype(int)\n",
    "y_old = df[[OLD_VAR]].values.flatten().astype(float)\n",
    "x = df.loc[:, INPUT_VARS].values.astype(float)\n",
    "\n",
    "\n",
    "\n",
    "# training set의 뒤쪽 20%를 test set 으로 사용\n",
    "nsamp = len(y)\n",
    "ntest = int(nsamp * 0.2)\n",
    "ntrain = nsamp - ntest\n",
    "x_test = x[-ntest:, :]\n",
    "y_test = y[-ntest:]\n",
    "y_test_old = y_old[-ntest:]\n",
    "\n",
    "\n",
    "print('--------------')\n",
    "print('old model = age/4+4')\n",
    "print('--------------')\n",
    "print(f'explained_variance_score: {explained_variance_score(y_test, y_test_old):.3f}')\n",
    "print(f'mean_squared_errors: {mean_squared_error(y_test, y_test_old):.3f}')\n",
    "print(f'mean_absolute_errors: {mean_absolute_error(y_test, y_test_old):.3f}')\n",
    "print(f'r2_score: {r2_score(y_test, y_test_old):.3f}')\n",
    "# accuracy\n",
    "acc1 = np.mean(y_test_old==y_test)\n",
    "acc3 = np.mean((y_test_old >= y_test-0.5) & (y_test_old <= y_test+0.5))\n",
    "print(f'acc: {acc1:.3f}')\n",
    "print(f'acc(+-0.5mm): {acc3:.3f}')"
   ]
  },
  {
   "cell_type": "markdown",
   "id": "72c67473-ed3b-4f36-bc73-4d5066e8a227",
   "metadata": {},
   "source": [
    "# Demography"
   ]
  },
  {
   "cell_type": "code",
   "execution_count": 1,
   "id": "5e88d683-be48-4a8c-9029-76fcd43c45ff",
   "metadata": {
    "execution": {
     "iopub.execute_input": "2023-05-30T14:28:52.949616Z",
     "iopub.status.busy": "2023-05-30T14:28:52.949059Z",
     "iopub.status.idle": "2023-05-30T14:28:54.462195Z",
     "shell.execute_reply": "2023-05-30T14:28:54.461567Z",
     "shell.execute_reply.started": "2023-05-30T14:28:52.949482Z"
    },
    "tags": []
   },
   "outputs": [
    {
     "name": "stdout",
     "output_type": "stream",
     "text": [
      "x_train: (24764, 5), x_test: (6190, 5)\n"
     ]
    }
   ],
   "source": [
    "import pandas as pd\n",
    "import xgboost as xgb\n",
    "import numpy as np\n",
    "import random, os, datetime, pickle\n",
    "import scipy, math\n",
    "import matplotlib.pyplot as plt\n",
    "import numpy as np\n",
    "\n",
    "\n",
    "dat = np.load(f'dataset/ETT_size-outliers3.npz')\n",
    "df = pickle.load(open('dataset/df-outliers3', 'rb'))\n",
    "x, y = dat['x'], dat['y']\n",
    "\n",
    "\n",
    "# training set의 뒤쪽 20%를 test set 으로 사용\n",
    "nsamp = len(y)\n",
    "ntest = int(nsamp * 0.2)\n",
    "ntrain = nsamp - ntest\n",
    "x_test = x[-ntest:, :]\n",
    "y_test = y[-ntest:]\n",
    "#y_test_old = y_old[-ntest:]\n",
    "x_train = x[:ntrain, :]\n",
    "y_train = y[:ntrain]\n",
    "\n",
    "\n",
    "df_train = df.loc[:ntrain-1:]\n",
    "df_test = df.loc[ntrain:]\n",
    "\n",
    "print(f'x_train: {(x_train).shape}, x_test: {x_test.shape}')"
   ]
  },
  {
   "cell_type": "markdown",
   "id": "c95de48f-ffc3-43aa-ac5c-6a19b70e4e89",
   "metadata": {
    "tags": []
   },
   "source": [
    "### Outliers"
   ]
  },
  {
   "cell_type": "code",
   "execution_count": 73,
   "id": "59d2ee99-1247-4e53-881f-af6ca6daf0f1",
   "metadata": {
    "execution": {
     "iopub.execute_input": "2023-02-21T16:14:43.879919Z",
     "iopub.status.busy": "2023-02-21T16:14:43.879404Z",
     "iopub.status.idle": "2023-02-21T16:14:43.889171Z",
     "shell.execute_reply": "2023-02-21T16:14:43.888153Z",
     "shell.execute_reply.started": "2023-02-21T16:14:43.879863Z"
    },
    "tags": []
   },
   "outputs": [
    {
     "data": {
      "text/plain": [
       "(0.02861171494036778, 0.01304271194406909)"
      ]
     },
     "execution_count": 73,
     "metadata": {},
     "output_type": "execute_result"
    }
   ],
   "source": [
    "# 결측치 비율\n",
    "np.mean(np.isnan(x[:,3])), np.mean(np.isnan(x[:,2]))"
   ]
  },
  {
   "cell_type": "code",
   "execution_count": 49,
   "id": "512b0949-2c48-471f-8393-be18919fd0b7",
   "metadata": {
    "execution": {
     "iopub.execute_input": "2023-02-21T07:19:36.810371Z",
     "iopub.status.busy": "2023-02-21T07:19:36.809877Z",
     "iopub.status.idle": "2023-02-21T07:19:36.820340Z",
     "shell.execute_reply": "2023-02-21T07:19:36.819314Z",
     "shell.execute_reply.started": "2023-02-21T07:19:36.810318Z"
    },
    "tags": []
   },
   "outputs": [
    {
     "data": {
      "text/plain": [
       "(1, 2, 144, 2)"
      ]
     },
     "execution_count": 49,
     "metadata": {},
     "output_type": "execute_result"
    }
   ],
   "source": [
    "height = x[:,3]\n",
    "weight = x[:,2]\n",
    "\n",
    "np.sum(weight>250), np.sum(height>200), np.sum(height<30), np.sum(weight<1)"
   ]
  },
  {
   "cell_type": "code",
   "execution_count": 50,
   "id": "7480d859-ac37-4a13-a8d0-1e833f3093d8",
   "metadata": {
    "execution": {
     "iopub.execute_input": "2023-02-21T07:21:12.151375Z",
     "iopub.status.busy": "2023-02-21T07:21:12.150785Z",
     "iopub.status.idle": "2023-02-21T07:21:12.161945Z",
     "shell.execute_reply": "2023-02-21T07:21:12.161087Z",
     "shell.execute_reply.started": "2023-02-21T07:21:12.151318Z"
    },
    "tags": []
   },
   "outputs": [
    {
     "data": {
      "text/plain": [
       "(array([236.7, 874.2]), array([28.8, 12.7]), array([90.]), array([1301.]))"
      ]
     },
     "execution_count": 50,
     "metadata": {},
     "output_type": "execute_result"
    }
   ],
   "source": [
    "height[height>200], weight[height>200], height[weight>200],    # height outlier는 train, test 하나씩, weight는 train에 하나\n"
   ]
  },
  {
   "cell_type": "code",
   "execution_count": 42,
   "id": "52f60f76-35b4-4e5b-afeb-bd4434f4726d",
   "metadata": {
    "execution": {
     "iopub.execute_input": "2023-02-21T07:16:35.752494Z",
     "iopub.status.busy": "2023-02-21T07:16:35.751901Z",
     "iopub.status.idle": "2023-02-21T07:16:35.983150Z",
     "shell.execute_reply": "2023-02-21T07:16:35.982529Z",
     "shell.execute_reply.started": "2023-02-21T07:16:35.752436Z"
    },
    "tags": []
   },
   "outputs": [
    {
     "name": "stdout",
     "output_type": "stream",
     "text": [
      "weight>250: 1(0.003%), height>200: 2(0.006%)\n"
     ]
    },
    {
     "data": {
      "text/plain": [
       "<matplotlib.collections.PathCollection at 0x7feac0279d30>"
      ]
     },
     "execution_count": 42,
     "metadata": {},
     "output_type": "execute_result"
    },
    {
     "data": {
      "image/png": "[encoded data removed]",
      "text/plain": [
       "<Figure size 432x288 with 1 Axes>"
      ]
     },
     "metadata": {
      "needs_background": "light"
     },
     "output_type": "display_data"
    }
   ],
   "source": [
    "# outlier 제거 (invalid value)\n",
    "height = x[:,3]\n",
    "weight = x[:,2]\n",
    "\n",
    "print(f'weight>250: {np.sum(weight>250)}({np.mean(weight>250)*100:.3f}%), height>200: {np.sum(height>200)}({np.mean(height>200)*100:.3f}%)') \n",
    "out_mask = (height<200) & (weight<250)\n",
    "#out_mask = np.logical_and(height<200, weight<250)\n",
    "#print(np.sum(~out_mask))\n",
    "\n",
    "height = height[out_mask]\n",
    "weight = weight[out_mask]\n",
    "\n",
    "plt.scatter(height, weight)\n",
    "#np.sum(height>200)\n",
    "#height = height[height<200]\n",
    "#np.max(height)"
   ]
  },
  {
   "cell_type": "code",
   "execution_count": 44,
   "id": "485ff728-9507-4012-aec4-54cd2c379417",
   "metadata": {
    "execution": {
     "iopub.execute_input": "2023-02-21T07:17:51.436321Z",
     "iopub.status.busy": "2023-02-21T07:17:51.435749Z",
     "iopub.status.idle": "2023-02-21T07:17:51.446295Z",
     "shell.execute_reply": "2023-02-21T07:17:51.445227Z",
     "shell.execute_reply.started": "2023-02-21T07:17:51.436265Z"
    },
    "tags": []
   },
   "outputs": [
    {
     "data": {
      "text/plain": [
       "(1301.0, 123.0, 236.7, 874.2)"
      ]
     },
     "execution_count": 44,
     "metadata": {},
     "output_type": "execute_result"
    }
   ],
   "source": [
    "np.nanmax(x_train[:,2]), np.nanmax(x_test[:,2]), np.nanmax(x_train[:,3]), np.nanmax(x_test[:,3])"
   ]
  },
  {
   "cell_type": "markdown",
   "id": "822495bd-0fe1-4cc3-b1e5-7f0a7c9ae137",
   "metadata": {},
   "source": [
    "## Table 1"
   ]
  },
  {
   "cell_type": "code",
   "execution_count": 35,
   "id": "f659ea06-b136-41f4-84ed-6f8dd444241f",
   "metadata": {
    "execution": {
     "iopub.execute_input": "2023-03-10T08:31:42.794711Z",
     "iopub.status.busy": "2023-03-10T08:31:42.794220Z",
     "iopub.status.idle": "2023-03-10T08:31:43.003195Z",
     "shell.execute_reply": "2023-03-10T08:31:43.002631Z",
     "shell.execute_reply.started": "2023-03-10T08:31:42.794654Z"
    },
    "tags": []
   },
   "outputs": [],
   "source": [
    "from sklearn.experimental import enable_iterative_imputer\n",
    "from sklearn.impute import IterativeImputer\n",
    "\n",
    "imp = IterativeImputer().fit(x_train)\n",
    "x_train_imputed = imp.transform(x_train)\n",
    "x_test_imputed = imp.transform(x_test)"
   ]
  },
  {
   "cell_type": "code",
   "execution_count": 42,
   "id": "c207a3b9-9892-4e26-aaab-1bd7b490b8d1",
   "metadata": {
    "execution": {
     "iopub.execute_input": "2023-03-11T13:31:12.597393Z",
     "iopub.status.busy": "2023-03-11T13:31:12.596798Z",
     "iopub.status.idle": "2023-03-11T13:31:12.618974Z",
     "shell.execute_reply": "2023-03-11T13:31:12.618065Z",
     "shell.execute_reply.started": "2023-03-11T13:31:12.597331Z"
    },
    "tags": []
   },
   "outputs": [
    {
     "name": "stdout",
     "output_type": "stream",
     "text": [
      "정규성 검사(age): train-ShapiroResult(statistic=0.9053552150726318, pvalue=0.0), test-ShapiroResult(statistic=0.9067705869674683, pvalue=0.0)\n",
      "정규성 검사(weight): train-ShapiroResult(statistic=0.9437068700790405, pvalue=0.0), test-ShapiroResult(statistic=0.9469149708747864, pvalue=1.478369879862682e-42)\n",
      "정규성 검사(height): train-ShapiroResult(statistic=0.9778341054916382, pvalue=0.0), test-ShapiroResult(statistic=0.9779300689697266, pvalue=6.248798946711334e-30)\n",
      "정규성 검사(size): train-ShapiroResult(statistic=0.9493086338043213, pvalue=0.0), test-ShapiroResult(statistic=0.9504018425941467, pvalue=1.697673089529516e-41)\n"
     ]
    },
    {
     "name": "stderr",
     "output_type": "stream",
     "text": [
      "/home/painstudy/.local/lib/python3.8/site-packages/scipy/stats/morestats.py:1760: UserWarning: p-value may not be accurate for N > 5000.\n",
      "  warnings.warn(\"p-value may not be accurate for N > 5000.\")\n"
     ]
    }
   ],
   "source": [
    "from scipy import stats\n",
    "\n",
    "print(f'정규성 검사(age): train-{stats.shapiro(x_train[:,0])}, test-{stats.shapiro(x_test[:,0])}')\n",
    "print(f'정규성 검사(weight): train-{stats.shapiro(x_train_imputed[:,2])}, test-{stats.shapiro(x_test_imputed[:,2])}')\n",
    "print(f'정규성 검사(height): train-{stats.shapiro(x_train_imputed[:,3])}, test-{stats.shapiro(x_test_imputed[:,3])}')\n",
    "print(f'정규성 검사(size): train-{stats.shapiro(y_train)}, test-{stats.shapiro(y_test)}')"
   ]
  },
  {
   "cell_type": "code",
   "execution_count": 41,
   "id": "1a92f3fb-f730-4abc-a09e-fb4013d8b923",
   "metadata": {
    "execution": {
     "iopub.execute_input": "2023-03-10T08:37:34.009360Z",
     "iopub.status.busy": "2023-03-10T08:37:34.008799Z",
     "iopub.status.idle": "2023-03-10T08:37:34.024158Z",
     "shell.execute_reply": "2023-03-10T08:37:34.023302Z",
     "shell.execute_reply.started": "2023-03-10T08:37:34.009300Z"
    },
    "tags": []
   },
   "outputs": [
    {
     "data": {
      "text/plain": [
       "KstestResult(statistic=0.9860440529574263, pvalue=0.0)"
      ]
     },
     "execution_count": 41,
     "metadata": {},
     "output_type": "execute_result"
    }
   ],
   "source": [
    "stats.kstest(x_train_imputed[:,2], 'norm')"
   ]
  },
  {
   "cell_type": "code",
   "execution_count": 50,
   "id": "9fe86eba-af9b-48dc-958c-44c17b7b688b",
   "metadata": {
    "execution": {
     "iopub.execute_input": "2023-03-12T03:21:50.008704Z",
     "iopub.status.busy": "2023-03-12T03:21:50.008064Z",
     "iopub.status.idle": "2023-03-12T03:21:50.221695Z",
     "shell.execute_reply": "2023-03-12T03:21:50.221208Z",
     "shell.execute_reply.started": "2023-03-12T03:21:50.008654Z"
    },
    "tags": []
   },
   "outputs": [
    {
     "data": {
      "image/png": "[encoded data removed]",
      "text/plain": [
       "<Figure size 432x288 with 1 Axes>"
      ]
     },
     "metadata": {
      "needs_background": "light"
     },
     "output_type": "display_data"
    }
   ],
   "source": [
    "from scipy import stats\n",
    "\n",
    "stats.probplot(x_train_imputed[:,3], dist=stats.norm, plot=plt)\n",
    "plt.show()"
   ]
  },
  {
   "cell_type": "code",
   "execution_count": 45,
   "id": "e4b9a418-6a5c-43fa-9a6b-ec24f3bc8e05",
   "metadata": {
    "execution": {
     "iopub.execute_input": "2023-03-12T03:21:17.919078Z",
     "iopub.status.busy": "2023-03-12T03:21:17.918611Z",
     "iopub.status.idle": "2023-03-12T03:21:18.091478Z",
     "shell.execute_reply": "2023-03-12T03:21:18.090857Z",
     "shell.execute_reply.started": "2023-03-12T03:21:17.919024Z"
    },
    "tags": []
   },
   "outputs": [
    {
     "data": {
      "text/plain": [
       "(array([1426., 2518., 2988., 3711., 3455., 3316., 3269., 2548., 1392.,\n",
       "         141.]),\n",
       " array([ 42.        ,  53.3100871 ,  64.62017419,  75.93026129,\n",
       "         87.24034838,  98.55043548, 109.86052257, 121.17060967,\n",
       "        132.48069676, 143.79078386, 155.10087096]),\n",
       " <BarContainer object of 10 artists>)"
      ]
     },
     "execution_count": 45,
     "metadata": {},
     "output_type": "execute_result"
    },
    {
     "data": {
      "image/png": "[encoded data removed]",
      "text/plain": [
       "<Figure size 432x288 with 1 Axes>"
      ]
     },
     "metadata": {
      "needs_background": "light"
     },
     "output_type": "display_data"
    }
   ],
   "source": [
    "plt.hist(x_train_imputed[:,3])"
   ]
  },
  {
   "cell_type": "markdown",
   "id": "00d7e733-8f89-4d18-84a2-058fa95593f2",
   "metadata": {},
   "source": [
    "### SD"
   ]
  },
  {
   "cell_type": "code",
   "execution_count": 12,
   "id": "b83daa57-7aeb-443f-b319-067190ec9b93",
   "metadata": {
    "execution": {
     "iopub.execute_input": "2023-03-05T17:45:12.115407Z",
     "iopub.status.busy": "2023-03-05T17:45:12.114809Z",
     "iopub.status.idle": "2023-03-05T17:45:12.140078Z",
     "shell.execute_reply": "2023-03-05T17:45:12.139241Z",
     "shell.execute_reply.started": "2023-03-05T17:45:12.115348Z"
    },
    "tags": []
   },
   "outputs": [
    {
     "name": "stdout",
     "output_type": "stream",
     "text": [
      "total x_train: 24764, x_test: 6190\n",
      "[age] \n",
      "train - mean : 3.50, std : 2.95\n",
      "test - mean : 3.47, std : 2.93\n",
      "\n",
      "neonate: train 855 (0.0345), test 228 (0.0368)\n",
      "infant: train 6035 (0.2437), test 1487 (0.2402)\n",
      "the others: train 17874 (0.7218), test 4475 (0.7229)\n",
      "[sex] \n",
      "train - female : 10294.0(0.416), male: 14470.0(0.584)\n",
      "test - female : 2496.0(0.403), male: 3694.0(0.597)\n",
      "\n",
      "[weight]  mean : 15.36, std : 8.71\n",
      "test - mean : 15.34, std : 8.63\n",
      "\n",
      "[height]  mean : 93.24, std : 25.31\n",
      "test - mean : 93.11, std : 25.23\n",
      "\n",
      "[cuff] cuffed : 6948.0(0.281), uncuffed: 17816.0(0.719)\n",
      "test - cuffed : 1763.0(0.285), uncuffed: 4427.0(0.715)\n",
      "\n",
      "[tube size] \n",
      "train - mean : 4.77, std : 0.98\n",
      "test - mean : 4.76, std : 0.98\n",
      "\n"
     ]
    }
   ],
   "source": [
    "print(f'total x_train: {len(x_train)}, x_test: {len(x_test)}')\n",
    "# age\n",
    "print(f'[age] \\ntrain - mean : {np.mean(x_train[:,0]):.2f}, std : {np.std(x_train[:,0]):.2f}')\n",
    "print(f'test - mean : {np.mean(x_test[:,0]):.2f}, std : {np.std(x_test[:,0]):.2f}\\n')\n",
    "print(f'neonate: train {np.sum(x_train[:,0]<1/12)} ({np.sum(x_train[:,0]<1/12)/len(x_train):.4f}), test {np.sum(x_test[:,0]<1/12)} ({np.sum(x_test[:,0]<1/12)/len(x_test):.4f})')\n",
    "print(f'infant: train {np.sum((x_train[:,0]<1)&(x_train[:,0]>1/12))} ({np.sum((x_train[:,0]<1)&(x_train[:,0]>1/12))/len(x_train):.4f}), test {np.sum((x_test[:,0]<1)&(x_test[:,0]>1/12))} ({np.sum((x_test[:,0]<1)&(x_test[:,0]>1/12))/len(x_test):.4f})')\n",
    "print(f'the others: train {np.sum(x_train[:,0]>1)} ({np.sum(x_train[:,0]>1)/len(x_train):.4f}), test {np.sum(x_test[:,0]>1)} ({np.sum(x_test[:,0]>1)/len(x_test):.4f})')\n",
    "\n",
    "\n",
    "# sex\n",
    "print(f'[sex] \\ntrain - female : {len(x_train)-np.sum(x_train[:,1])}({1-np.mean(x_train[:,1]):.3f}), male: {np.sum(x_train[:,1])}({np.mean(x_train[:,1]):.3f})')\n",
    "print(f'test - female : {len(x_test)-np.sum(x_test[:,1])}({1-np.mean(x_test[:,1]):.3f}), male: {np.sum(x_test[:,1])}({np.mean(x_test[:,1]):.3f})\\n')\n",
    "\n",
    "\n",
    "# weight\n",
    "print(f'[weight]  mean : {np.nanmean(x_train[:,2]):.2f}, std : {np.nanstd(x_train[:,2]):.2f}')\n",
    "print(f'test - mean : {np.nanmean(x_test[:,2]):.2f}, std : {np.nanstd(x_test[:,2]):.2f}\\n')\n",
    "\n",
    "# height\n",
    "print(f'[height]  mean : {np.nanmean(x_train[:,3]):.2f}, std : {np.nanstd(x_train[:,3]):.2f}')\n",
    "print(f'test - mean : {np.nanmean(x_test[:,3]):.2f}, std : {np.nanstd(x_test[:,3]):.2f}\\n')\n",
    "\n",
    "# cuff\n",
    "print(f'[cuff] cuffed : {np.sum(x_train[:,4])}({np.mean(x_train[:,4]):.3f}), uncuffed: {len(x_train)-np.sum(x_train[:,4])}({1-np.mean(x_train[:,4]):.3f})')\n",
    "print(f'test - cuffed : {np.sum(x_test[:,4])}({np.mean(x_test[:,4]):.3f}), uncuffed: {len(x_test)-np.sum(x_test[:,4])}({1-np.mean(x_test[:,4]):.3f})\\n')\n",
    "\n",
    "# tube size\n",
    "print(f'[tube size] \\ntrain - mean : {np.mean(y_train):.2f}, std : {np.std(y_train):.2f}')\n",
    "print(f'test - mean : {np.mean(y_test):.2f}, std : {np.std(y_test):.2f}\\n')"
   ]
  },
  {
   "cell_type": "code",
   "execution_count": 59,
   "id": "78d81e49-1f5b-4936-9f5d-167fa4f651de",
   "metadata": {
    "execution": {
     "iopub.execute_input": "2023-02-21T11:58:47.493993Z",
     "iopub.status.busy": "2023-02-21T11:58:47.493419Z",
     "iopub.status.idle": "2023-02-21T11:58:47.509053Z",
     "shell.execute_reply": "2023-02-21T11:58:47.508331Z",
     "shell.execute_reply.started": "2023-02-21T11:58:47.493939Z"
    },
    "tags": []
   },
   "outputs": [
    {
     "name": "stdout",
     "output_type": "stream",
     "text": [
      "[weight]  mean : 15.52, std : 9.39\n",
      "test - mean : 15.47, std : 9.53\n",
      "\n",
      "[height]  mean : 93.16, std : 25.81\n",
      "test - mean : 92.79, std : 25.44\n",
      "\n"
     ]
    }
   ],
   "source": [
    "height = x[:,3]\n",
    "weight = x[:,2]\n",
    "\n",
    "x[np.where((height>175) | (height<30))[0],3] = None\n",
    "x[np.where((weight>150) | (weight<1))[0],2] = None\n",
    "\n",
    "x_train = x[:ntrain]\n",
    "x_test = x[-ntest:]\n",
    "\n",
    "\n",
    "# weight\n",
    "print(f'[weight]  mean : {np.nanmean(x_train[:,2]):.2f}, std : {np.nanstd(x_train[:,2]):.2f}')\n",
    "print(f'test - mean : {np.nanmean(x_test[:,2]):.2f}, std : {np.nanstd(x_test[:,2]):.2f}\\n')\n",
    "\n",
    "# height\n",
    "print(f'[height]  mean : {np.nanmean(x_train[:,3]):.2f}, std : {np.nanstd(x_train[:,3]):.2f}')\n",
    "print(f'test - mean : {np.nanmean(x_test[:,3]):.2f}, std : {np.nanstd(x_test[:,3]):.2f}\\n')"
   ]
  },
  {
   "cell_type": "code",
   "execution_count": 58,
   "id": "a5156a8f-d50e-4885-ae6c-872905aeeea7",
   "metadata": {
    "execution": {
     "iopub.execute_input": "2023-02-21T11:57:13.589190Z",
     "iopub.status.busy": "2023-02-21T11:57:13.588647Z",
     "iopub.status.idle": "2023-02-21T11:57:13.598771Z",
     "shell.execute_reply": "2023-02-21T11:57:13.597745Z",
     "shell.execute_reply.started": "2023-02-21T11:57:13.589137Z"
    },
    "tags": []
   },
   "outputs": [
    {
     "data": {
      "text/plain": [
       "(199.0, 123.0, 189.9, 157.8)"
      ]
     },
     "execution_count": 58,
     "metadata": {},
     "output_type": "execute_result"
    }
   ],
   "source": [
    "np.nanmax(x_train[:,2]), np.nanmax(x_test[:,2]), np.nanmax(x_train[:,3]), np.nanmax(x_test[:,3])"
   ]
  },
  {
   "cell_type": "code",
   "execution_count": 61,
   "id": "4b39a846-7ae1-4681-b815-bac18960ee97",
   "metadata": {
    "execution": {
     "iopub.execute_input": "2023-02-21T12:02:36.107610Z",
     "iopub.status.busy": "2023-02-21T12:02:36.107040Z",
     "iopub.status.idle": "2023-02-21T12:02:36.116135Z",
     "shell.execute_reply": "2023-02-21T12:02:36.115287Z",
     "shell.execute_reply.started": "2023-02-21T12:02:36.107555Z"
    },
    "tags": []
   },
   "outputs": [
    {
     "name": "stdout",
     "output_type": "stream",
     "text": [
      "[cuff] cuffed : 7827.0(0.287), uncuffed: 19407.0(0.713)\n",
      "test - female : 1941.0(0.285), male: 4867.0(0.715)\n",
      "\n"
     ]
    }
   ],
   "source": [
    "# cuff\n",
    "print(f'[cuff] cuffed : {np.sum(x_train[:,4])}({np.mean(x_train[:,4]):.3f}), uncuffed: {len(x_train)-np.sum(x_train[:,4])}({1-np.mean(x_train[:,4]):.3f})')\n",
    "print(f'test - female : {np.sum(x_test[:,4])}({np.mean(x_test[:,4]):.3f}), male: {len(x_test)-np.sum(x_test[:,4])}({1-np.mean(x_test[:,4]):.3f})\\n')"
   ]
  },
  {
   "cell_type": "markdown",
   "id": "0a19f829-4f04-4e7d-9829-c6c07721201a",
   "metadata": {},
   "source": [
    "### IQR"
   ]
  },
  {
   "cell_type": "code",
   "execution_count": 42,
   "id": "1477073d-927d-4f3b-b1be-2839457ef9c5",
   "metadata": {
    "execution": {
     "iopub.execute_input": "2023-05-08T12:25:38.765065Z",
     "iopub.status.busy": "2023-05-08T12:25:38.764487Z",
     "iopub.status.idle": "2023-05-08T12:25:38.810602Z",
     "shell.execute_reply": "2023-05-08T12:25:38.809827Z",
     "shell.execute_reply.started": "2023-05-08T12:25:38.765009Z"
    },
    "tags": []
   },
   "outputs": [
    {
     "name": "stdout",
     "output_type": "stream",
     "text": [
      "[age_cal] \n",
      "train - median 2.705 (IQR:0.860-5.793) [range:0.003-9.988]\n",
      "test - median 2.719 (IQR:0.879-5.760) [range:0.003-9.988]\n",
      "\n",
      "[weight] \n",
      "train - median 13.700 (IQR:9.100-20.200) [range:1.630-51.050]\n",
      "test - median 13.800 (IQR:9.143-20.250) [range:1.710-50.800]\n",
      "\n",
      "[height] \n",
      "train - median 92.800 (IQR:73.700-113.600) [range:42.000-151.100]\n",
      "test - median 92.900 (IQR:73.800-113.225) [range:42.000-150.200]\n",
      "\n",
      "[airway_tube_size] \n",
      "train - median 5.000 (IQR:4.000-5.500) [range:3.000-6.500]\n",
      "test - median 4.500 (IQR:4.000-5.500) [range:3.000-6.500]\n",
      "\n"
     ]
    }
   ],
   "source": [
    "# 정규분포를 따르지 않기에 IQR 계산 \n",
    "DEMO_VARS = ['age_cal', 'weight', 'height', 'airway_tube_size']\n",
    "\n",
    "for var in DEMO_VARS:\n",
    "    #print(f'[{var}] \\ntrain - {df_train[var].quantile(.25):.3f}-{df_train[var].quantile(.75):.3f} (IQR:{df_train[var].quantile(.75)-df_train[var].quantile(.25):.3f})')\n",
    "    print(f'[{var}] \\ntrain - median {df_train[var].quantile(.50):.3f} (IQR:{df_train[var].quantile(.25):.3f}-{df_train[var].quantile(.75):.3f}) [range:{df_train[var].min():.3f}-{df_train[var].max():.3f}]')\n",
    "    #print(f'test - {df_test[var].quantile(.25):.3f}-{df_test[var].quantile(.75):.3f} (IQR:{df_test[var].quantile(.75)-df_test[var].quantile(.25):.3f})\\n')\n",
    "    print(f'test - median {df_test[var].quantile(.50):.3f} (IQR:{df_test[var].quantile(.25):.3f}-{df_test[var].quantile(.75):.3f}) [range:{df_test[var].min():.3f}-{df_test[var].max():.3f}]\\n')"
   ]
  },
  {
   "cell_type": "markdown",
   "id": "9a6df894-19aa-4812-a112-fe489e8af12e",
   "metadata": {},
   "source": [
    "## 연령 구간별 demo"
   ]
  },
  {
   "cell_type": "code",
   "execution_count": null,
   "id": "d8787f99-1ca2-4290-a8c1-92e55f0977b1",
   "metadata": {},
   "outputs": [],
   "source": []
  },
  {
   "cell_type": "markdown",
   "id": "13e3a38e-8a30-41f1-81c9-649ebecf0a8f",
   "metadata": {},
   "source": [
    "## Sex 별 demo"
   ]
  },
  {
   "cell_type": "code",
   "execution_count": 77,
   "id": "17cfe498-63eb-4ccc-bb48-c547f899108c",
   "metadata": {
    "execution": {
     "iopub.execute_input": "2023-02-22T00:27:50.109893Z",
     "iopub.status.busy": "2023-02-22T00:27:50.109332Z",
     "iopub.status.idle": "2023-02-22T00:27:50.121033Z",
     "shell.execute_reply": "2023-02-22T00:27:50.119990Z",
     "shell.execute_reply.started": "2023-02-22T00:27:50.109839Z"
    },
    "tags": []
   },
   "outputs": [
    {
     "name": "stdout",
     "output_type": "stream",
     "text": [
      "total x_train: 27234, x_test: 6808\n",
      "[age] \n",
      "train - (male) mean : 3.43, std : 2.93\t\n",
      "(female) mean : 3.60, std: 2.97\n"
     ]
    }
   ],
   "source": [
    "print(f'total x_train: {len(x_train)}, x_test: {len(x_test)}')\n",
    "m_mask = (x[:,1]==1)\n",
    "f_mask = (x[:,1]==0)\n",
    "\n",
    "# age\n",
    "print(f'[age] \\ntrain - (male) mean : {np.mean(x[m_mask,0]):.2f}, std : {np.std(x[m_mask,0]):.2f}\\t\\n(female) mean : {np.mean(x[f_mask,0]):.2f}, std: {np.std(x[f_mask,0]):.2f}')"
   ]
  },
  {
   "cell_type": "code",
   "execution_count": null,
   "id": "eb3acc66-f6d0-49cd-82e6-a518b5b0f038",
   "metadata": {},
   "outputs": [],
   "source": [
    "print(f'total x_train: {len(x_train)}, x_test: {len(x_test)}')\n",
    "m_mask = (x[:,1]==1)\n",
    "f_mask = (x[:,1]==0)\n",
    "\n",
    "# age\n",
    "print(f'[age] \\ntrain - (male) mean : {np.mean(x_train[m_mask,0]):.2f}, (female) mean : {np.mean(x_train[f_mask,0]):.2f}')\n",
    "print(f'test - mean : {np.mean(x_test[:,0]):.2f}, std : {np.std(x_test[:,0]):.2f}\\n')\n",
    "\n",
    "# sex\n",
    "print(f'[sex] \\ntrain - female : {len(x_train)-np.sum(x_train[:,1])}({1-np.mean(x_train[:,1]):.3f}), male: {np.sum(x_train[:,1])}({np.mean(x_train[:,1]):.3f})')\n",
    "print(f'test - female : {len(x_test)-np.sum(x_test[:,1])}({1-np.mean(x_test[:,1]):.3f}), male: {np.sum(x_test[:,1])}({np.mean(x_test[:,1]):.3f})\\n')\n",
    "\n",
    "\n",
    "# weight\n",
    "print(f'[weight]  mean : {np.nanmean(x_train[:,2]):.2f}, std : {np.nanstd(x_train[:,2]):.2f}')\n",
    "print(f'test - mean : {np.nanmean(x_test[:,2]):.2f}, std : {np.nanstd(x_test[:,2]):.2f}\\n')\n",
    "\n",
    "# height\n",
    "print(f'[height]  mean : {np.nanmean(x_train[:,3]):.2f}, std : {np.nanstd(x_train[:,3]):.2f}')\n",
    "print(f'test - mean : {np.nanmean(x_test[:,3]):.2f}, std : {np.nanstd(x_test[:,3]):.2f}\\n')\n",
    "\n",
    "# cuff\n",
    "print(f'[cuff] cuffed : {np.sum(x_train[:,4])}({np.mean(x_train[:,4]):.3f}), uncuffed: {len(x_train)-np.sum(x_train[:,4])}({1-np.mean(x_train[:,4]):.3f})')\n",
    "print(f'test - female : {np.sum(x_test[:,4])}({1-np.mean(x_test[:,4]):.3f}), male: {len(x_test)-np.sum(x_test[:,4])}({len(x_test)-np.mean(x_test[:,4]):.3f})\\n')\n",
    "\n",
    "# tube size\n",
    "print(f'[tube size] \\ntrain - mean : {np.mean(y_train):.2f}, std : {np.std(y_train):.2f}')\n",
    "print(f'test - mean : {np.mean(y_test):.2f}, std : {np.std(y_test):.2f}\\n')"
   ]
  },
  {
   "cell_type": "code",
   "execution_count": null,
   "id": "939eba04-40d8-4344-94c7-66bb9397fa84",
   "metadata": {},
   "outputs": [],
   "source": []
  },
  {
   "cell_type": "markdown",
   "id": "f8298889-8634-4b8b-821f-8ee0e88cb5f7",
   "metadata": {
    "jp-MarkdownHeadingCollapsed": true,
    "tags": []
   },
   "source": [
    "### Imputation 확인"
   ]
  },
  {
   "cell_type": "code",
   "execution_count": 78,
   "id": "c201f6d9-e89a-4fca-a908-3f99d2378071",
   "metadata": {
    "execution": {
     "iopub.execute_input": "2023-02-19T07:05:37.709511Z",
     "iopub.status.busy": "2023-02-19T07:05:37.708999Z",
     "iopub.status.idle": "2023-02-19T07:05:37.730128Z",
     "shell.execute_reply": "2023-02-19T07:05:37.729274Z",
     "shell.execute_reply.started": "2023-02-19T07:05:37.709457Z"
    },
    "tags": []
   },
   "outputs": [
    {
     "data": {
      "text/html": [
       "<div>\n",
       "<style scoped>\n",
       "    .dataframe tbody tr th:only-of-type {\n",
       "        vertical-align: middle;\n",
       "    }\n",
       "\n",
       "    .dataframe tbody tr th {\n",
       "        vertical-align: top;\n",
       "    }\n",
       "\n",
       "    .dataframe thead th {\n",
       "        text-align: right;\n",
       "    }\n",
       "</style>\n",
       "<table border=\"1\" class=\"dataframe\">\n",
       "  <thead>\n",
       "    <tr style=\"text-align: right;\">\n",
       "      <th></th>\n",
       "      <th>0</th>\n",
       "      <th>1</th>\n",
       "      <th>2</th>\n",
       "      <th>3</th>\n",
       "      <th>4</th>\n",
       "    </tr>\n",
       "  </thead>\n",
       "  <tbody>\n",
       "    <tr>\n",
       "      <th>0</th>\n",
       "      <td>6.765368</td>\n",
       "      <td>0.0</td>\n",
       "      <td>20.65</td>\n",
       "      <td>116.0</td>\n",
       "      <td>0.0</td>\n",
       "    </tr>\n",
       "    <tr>\n",
       "      <th>1</th>\n",
       "      <td>1.582510</td>\n",
       "      <td>1.0</td>\n",
       "      <td>10.20</td>\n",
       "      <td>82.0</td>\n",
       "      <td>1.0</td>\n",
       "    </tr>\n",
       "    <tr>\n",
       "      <th>2</th>\n",
       "      <td>7.263667</td>\n",
       "      <td>0.0</td>\n",
       "      <td>24.15</td>\n",
       "      <td>121.5</td>\n",
       "      <td>1.0</td>\n",
       "    </tr>\n",
       "    <tr>\n",
       "      <th>3</th>\n",
       "      <td>1.056832</td>\n",
       "      <td>0.0</td>\n",
       "      <td>9.80</td>\n",
       "      <td>73.7</td>\n",
       "      <td>1.0</td>\n",
       "    </tr>\n",
       "    <tr>\n",
       "      <th>4</th>\n",
       "      <td>4.438147</td>\n",
       "      <td>0.0</td>\n",
       "      <td>19.90</td>\n",
       "      <td>99.0</td>\n",
       "      <td>0.0</td>\n",
       "    </tr>\n",
       "    <tr>\n",
       "      <th>...</th>\n",
       "      <td>...</td>\n",
       "      <td>...</td>\n",
       "      <td>...</td>\n",
       "      <td>...</td>\n",
       "      <td>...</td>\n",
       "    </tr>\n",
       "    <tr>\n",
       "      <th>27229</th>\n",
       "      <td>5.774246</td>\n",
       "      <td>1.0</td>\n",
       "      <td>24.75</td>\n",
       "      <td>118.6</td>\n",
       "      <td>0.0</td>\n",
       "    </tr>\n",
       "    <tr>\n",
       "      <th>27230</th>\n",
       "      <td>0.309383</td>\n",
       "      <td>1.0</td>\n",
       "      <td>4.20</td>\n",
       "      <td>49.7</td>\n",
       "      <td>1.0</td>\n",
       "    </tr>\n",
       "    <tr>\n",
       "      <th>27231</th>\n",
       "      <td>1.451091</td>\n",
       "      <td>1.0</td>\n",
       "      <td>9.70</td>\n",
       "      <td>83.9</td>\n",
       "      <td>1.0</td>\n",
       "    </tr>\n",
       "    <tr>\n",
       "      <th>27232</th>\n",
       "      <td>1.273127</td>\n",
       "      <td>1.0</td>\n",
       "      <td>14.00</td>\n",
       "      <td>90.0</td>\n",
       "      <td>0.0</td>\n",
       "    </tr>\n",
       "    <tr>\n",
       "      <th>27233</th>\n",
       "      <td>1.686551</td>\n",
       "      <td>1.0</td>\n",
       "      <td>13.50</td>\n",
       "      <td>88.0</td>\n",
       "      <td>0.0</td>\n",
       "    </tr>\n",
       "  </tbody>\n",
       "</table>\n",
       "<p>27234 rows × 5 columns</p>\n",
       "</div>"
      ],
      "text/plain": [
       "              0    1      2      3    4\n",
       "0      6.765368  0.0  20.65  116.0  0.0\n",
       "1      1.582510  1.0  10.20   82.0  1.0\n",
       "2      7.263667  0.0  24.15  121.5  1.0\n",
       "3      1.056832  0.0   9.80   73.7  1.0\n",
       "4      4.438147  0.0  19.90   99.0  0.0\n",
       "...         ...  ...    ...    ...  ...\n",
       "27229  5.774246  1.0  24.75  118.6  0.0\n",
       "27230  0.309383  1.0   4.20   49.7  1.0\n",
       "27231  1.451091  1.0   9.70   83.9  1.0\n",
       "27232  1.273127  1.0  14.00   90.0  0.0\n",
       "27233  1.686551  1.0  13.50   88.0  0.0\n",
       "\n",
       "[27234 rows x 5 columns]"
      ]
     },
     "execution_count": 78,
     "metadata": {},
     "output_type": "execute_result"
    }
   ],
   "source": [
    "df_train"
   ]
  },
  {
   "cell_type": "code",
   "execution_count": 84,
   "id": "4ae06aa8-ee96-45a9-b14c-b3cbe5caf846",
   "metadata": {
    "execution": {
     "iopub.execute_input": "2023-02-19T07:08:10.149688Z",
     "iopub.status.busy": "2023-02-19T07:08:10.149135Z",
     "iopub.status.idle": "2023-02-19T07:08:10.158112Z",
     "shell.execute_reply": "2023-02-19T07:08:10.157311Z",
     "shell.execute_reply.started": "2023-02-19T07:08:10.149634Z"
    },
    "tags": []
   },
   "outputs": [
    {
     "data": {
      "text/plain": [
       "0     6.987139\n",
       "1     0.000000\n",
       "2    28.000000\n",
       "3          NaN\n",
       "4     0.000000\n",
       "Name: 114, dtype: float64"
      ]
     },
     "execution_count": 84,
     "metadata": {},
     "output_type": "execute_result"
    }
   ],
   "source": [
    "df_train.loc[114]"
   ]
  },
  {
   "cell_type": "code",
   "execution_count": 83,
   "id": "98d5ecef-788c-4ebf-8b79-763de2a68742",
   "metadata": {
    "execution": {
     "iopub.execute_input": "2023-02-19T07:08:03.684425Z",
     "iopub.status.busy": "2023-02-19T07:08:03.683932Z",
     "iopub.status.idle": "2023-02-19T07:08:03.693233Z",
     "shell.execute_reply": "2023-02-19T07:08:03.692203Z",
     "shell.execute_reply.started": "2023-02-19T07:08:03.684372Z"
    },
    "tags": []
   },
   "outputs": [
    {
     "data": {
      "text/plain": [
       "114"
      ]
     },
     "execution_count": 83,
     "metadata": {},
     "output_type": "execute_result"
    }
   ],
   "source": [
    "df_train = pd.DataFrame(x_train)\n",
    "df_train[3].isnull().tolist().index(1)"
   ]
  },
  {
   "cell_type": "code",
   "execution_count": 85,
   "id": "e3126fad-016e-4d8f-887e-2066467b2826",
   "metadata": {
    "execution": {
     "iopub.execute_input": "2023-02-19T07:08:33.204623Z",
     "iopub.status.busy": "2023-02-19T07:08:33.204082Z",
     "iopub.status.idle": "2023-02-19T07:08:33.326266Z",
     "shell.execute_reply": "2023-02-19T07:08:33.325564Z",
     "shell.execute_reply.started": "2023-02-19T07:08:33.204567Z"
    },
    "tags": []
   },
   "outputs": [],
   "source": [
    "from sklearn.experimental import enable_iterative_imputer\n",
    "from sklearn.impute import IterativeImputer\n",
    "\n",
    "imp = IterativeImputer().fit(x_train)\n",
    "x_train_imputed = imp.transform(x_train)\n",
    "x_test_imputed = imp.transform(x_test)"
   ]
  },
  {
   "cell_type": "code",
   "execution_count": 86,
   "id": "c06a4df0-94ad-4edb-87c0-24651e9bab22",
   "metadata": {
    "execution": {
     "iopub.execute_input": "2023-02-19T07:09:10.169987Z",
     "iopub.status.busy": "2023-02-19T07:09:10.169392Z",
     "iopub.status.idle": "2023-02-19T07:09:10.181056Z",
     "shell.execute_reply": "2023-02-19T07:09:10.179999Z",
     "shell.execute_reply.started": "2023-02-19T07:09:10.169932Z"
    },
    "tags": []
   },
   "outputs": [
    {
     "data": {
      "text/plain": [
       "0      6.987139\n",
       "1      0.000000\n",
       "2     28.000000\n",
       "3    121.907880\n",
       "4      0.000000\n",
       "Name: 114, dtype: float64"
      ]
     },
     "execution_count": 86,
     "metadata": {},
     "output_type": "execute_result"
    }
   ],
   "source": [
    "df_train_imp = pd.DataFrame(x_train_imputed)\n",
    "df_train_imp.loc[114]"
   ]
  },
  {
   "cell_type": "markdown",
   "id": "c38db210-116a-4f71-9a98-33fad792a87f",
   "metadata": {},
   "source": [
    "## tube size 별 %"
   ]
  },
  {
   "cell_type": "code",
   "execution_count": 14,
   "id": "60ac58d9-2d9d-46b9-8d2a-63df92b908a8",
   "metadata": {
    "execution": {
     "iopub.execute_input": "2023-03-05T17:47:16.790149Z",
     "iopub.status.busy": "2023-03-05T17:47:16.789565Z",
     "iopub.status.idle": "2023-03-05T17:47:16.804799Z",
     "shell.execute_reply": "2023-03-05T17:47:16.803927Z",
     "shell.execute_reply.started": "2023-03-05T17:47:16.790089Z"
    },
    "tags": []
   },
   "outputs": [
    {
     "name": "stdout",
     "output_type": "stream",
     "text": [
      "tube < 3 n_samples (%): 0(0.00)\n",
      "tube 3.0 n_samples (%): 1751(7.07)\n",
      "tube 3.5 n_samples (%): 2655(10.72)\n",
      "tube 4.0 n_samples (%): 3641(14.70)\n",
      "tube 4.5 n_samples (%): 4303(17.38)\n",
      "tube 5.0 n_samples (%): 3877(15.66)\n",
      "tube 5.5 n_samples (%): 3408(13.76)\n",
      "tube 6.0 n_samples (%): 3788(15.30)\n",
      "tube >6 n_samples (%): 1341(5.42)\n"
     ]
    }
   ],
   "source": [
    "print(f'tube < 3 n_samples (%): {np.sum(y_train<3)}({np.mean(y_train<3)*100:.2f})')\n",
    "print(f'tube 3.0 n_samples (%): {np.sum(y_train==3)}({np.mean(y_train==3)*100:.2f})')\n",
    "print(f'tube 3.5 n_samples (%): {np.sum(y_train==3.5)}({np.mean(y_train==3.5)*100:.2f})')\n",
    "print(f'tube 4.0 n_samples (%): {np.sum(y_train==4)}({np.mean(y_train==4)*100:.2f})')\n",
    "print(f'tube 4.5 n_samples (%): {np.sum(y_train==4.5)}({np.mean(y_train==4.5)*100:.2f})')\n",
    "print(f'tube 5.0 n_samples (%): {np.sum(y_train==5)}({np.mean(y_train==5)*100:.2f})')\n",
    "print(f'tube 5.5 n_samples (%): {np.sum(y_train==5.5)}({np.mean(y_train==5.5)*100:.2f})')\n",
    "print(f'tube 6.0 n_samples (%): {np.sum(y_train==6)}({np.mean(y_train==6)*100:.2f})')\n",
    "print(f'tube >6 n_samples (%): {np.sum(y_train>6)}({np.mean(y_train>6)*100:.2f})')"
   ]
  },
  {
   "cell_type": "code",
   "execution_count": 17,
   "id": "454808c0-5052-4cdf-968c-c4356515f05b",
   "metadata": {
    "execution": {
     "iopub.execute_input": "2023-03-05T17:48:58.748956Z",
     "iopub.status.busy": "2023-03-05T17:48:58.748406Z",
     "iopub.status.idle": "2023-03-05T17:48:58.762711Z",
     "shell.execute_reply": "2023-03-05T17:48:58.761891Z",
     "shell.execute_reply.started": "2023-03-05T17:48:58.748897Z"
    },
    "tags": []
   },
   "outputs": [
    {
     "name": "stdout",
     "output_type": "stream",
     "text": [
      "tube < 3 n_samples (%): 0(0.00)\n",
      "tube 3.0 n_samples (%): 443(7.16)\n",
      "tube 3.5 n_samples (%): 667(10.78)\n",
      "tube 4.0 n_samples (%): 892(14.41)\n",
      "tube 4.5 n_samples (%): 1094(17.67)\n",
      "tube 5.0 n_samples (%): 988(15.96)\n",
      "tube 5.5 n_samples (%): 883(14.26)\n",
      "tube 6.0 n_samples (%): 917(14.81)\n",
      "tube >6 n_samples (%): 306(4.94)\n"
     ]
    }
   ],
   "source": [
    "print(f'tube < 3 n_samples (%): {np.sum(y_test<3)}({np.mean(y_test<3)*100:.2f})')\n",
    "print(f'tube 3.0 n_samples (%): {np.sum(y_test==3)}({np.mean(y_test==3)*100:.2f})')\n",
    "print(f'tube 3.5 n_samples (%): {np.sum(y_test==3.5)}({np.mean(y_test==3.5)*100:.2f})')\n",
    "print(f'tube 4.0 n_samples (%): {np.sum(y_test==4)}({np.mean(y_test==4)*100:.2f})')\n",
    "print(f'tube 4.5 n_samples (%): {np.sum(y_test==4.5)}({np.mean(y_test==4.5)*100:.2f})')\n",
    "print(f'tube 5.0 n_samples (%): {np.sum(y_test==5)}({np.mean(y_test==5)*100:.2f})')\n",
    "print(f'tube 5.5 n_samples (%): {np.sum(y_test==5.5)}({np.mean(y_test==5.5)*100:.2f})')\n",
    "print(f'tube 6.0 n_samples (%): {np.sum(y_test==6)}({np.mean(y_test==6)*100:.2f})')\n",
    "print(f'tube >6 n_samples (%): {np.sum(y_test>6)}({np.mean(y_test>6)*100:.2f})')"
   ]
  },
  {
   "cell_type": "code",
   "execution_count": 81,
   "id": "03223629-295c-49eb-8a64-aae550c66d80",
   "metadata": {
    "execution": {
     "iopub.execute_input": "2023-05-28T03:14:28.435168Z",
     "iopub.status.busy": "2023-05-28T03:14:28.434595Z",
     "iopub.status.idle": "2023-05-28T03:14:28.462295Z",
     "shell.execute_reply": "2023-05-28T03:14:28.461449Z",
     "shell.execute_reply.started": "2023-05-28T03:14:28.435112Z"
    },
    "tags": []
   },
   "outputs": [
    {
     "name": "stdout",
     "output_type": "stream",
     "text": [
      "tube < 3 n_samples (%): 0(0.00)\n",
      "tube 3.0 n_samples (%): 902(3.64)\n",
      "tube 3.5 n_samples (%): 868(3.51)\n",
      "tube 4.0 n_samples (%): 925(3.74)\n",
      "tube 4.5 n_samples (%): 908(3.67)\n",
      "tube 5.0 n_samples (%): 872(3.52)\n",
      "tube 5.5 n_samples (%): 892(3.60)\n",
      "tube 6.0 n_samples (%): 1392(5.62)\n",
      "tube >6 n_samples (%): 189(0.76)\n",
      "\n",
      "\n",
      "tube < 3 n_samples (%): 0(0.00)\n",
      "tube 3.0 n_samples (%): 849(3.43)\n",
      "tube 3.5 n_samples (%): 1787(7.22)\n",
      "tube 4.0 n_samples (%): 2716(10.97)\n",
      "tube 4.5 n_samples (%): 3395(13.71)\n",
      "tube 5.0 n_samples (%): 3005(12.13)\n",
      "tube 5.5 n_samples (%): 2516(10.16)\n",
      "tube 6.0 n_samples (%): 2396(9.68)\n",
      "tube >6 n_samples (%): 1152(4.65)\n"
     ]
    }
   ],
   "source": [
    "cmask = x_train[:,4]==1\n",
    "\n",
    "print(f'tube < 3 n_samples (%): {np.sum(y_train[cmask]<3)}({np.sum(y_train[cmask]<3)*100/len(y_train):.2f})')\n",
    "print(f'tube 3.0 n_samples (%): {np.sum(y_train[cmask]==3)}({np.sum(y_train[cmask]==3)*100/len(y_train):.2f})')\n",
    "print(f'tube 3.5 n_samples (%): {np.sum(y_train[cmask]==3.5)}({np.sum(y_train[cmask]==3.5)*100/len(y_train):.2f})')\n",
    "print(f'tube 4.0 n_samples (%): {np.sum(y_train[cmask]==4)}({np.sum(y_train[cmask]==4)*100/len(y_train):.2f})')\n",
    "print(f'tube 4.5 n_samples (%): {np.sum(y_train[cmask]==4.5)}({np.sum(y_train[cmask]==4.5)*100/len(y_train):.2f})')\n",
    "print(f'tube 5.0 n_samples (%): {np.sum(y_train[cmask]==5)}({np.sum(y_train[cmask]==5)*100/len(y_train):.2f})')\n",
    "print(f'tube 5.5 n_samples (%): {np.sum(y_train[cmask]==5.5)}({np.sum(y_train[cmask]==5.5)*100/len(y_train):.2f})')\n",
    "print(f'tube 6.0 n_samples (%): {np.sum(y_train[cmask]==6)}({np.sum(y_train[cmask]==6)*100/len(y_train):.2f})')\n",
    "print(f'tube >6 n_samples (%): {np.sum(y_train[cmask]>6)}({np.sum(y_train[cmask]>6)*100/len(y_train):.2f})\\n\\n')\n",
    "\n",
    "print(f'tube < 3 n_samples (%): {np.sum(y_train[~cmask]<3)}({np.sum(y_train[~cmask]<3)*100/len(y_train):.2f})')\n",
    "print(f'tube 3.0 n_samples (%): {np.sum(y_train[~cmask]==3)}({np.sum(y_train[~cmask]==3)*100/len(y_train):.2f})')\n",
    "print(f'tube 3.5 n_samples (%): {np.sum(y_train[~cmask]==3.5)}({np.sum(y_train[~cmask]==3.5)*100/len(y_train):.2f})')\n",
    "print(f'tube 4.0 n_samples (%): {np.sum(y_train[~cmask]==4)}({np.sum(y_train[~cmask]==4)*100/len(y_train):.2f})')\n",
    "print(f'tube 4.5 n_samples (%): {np.sum(y_train[~cmask]==4.5)}({np.sum(y_train[~cmask]==4.5)*100/len(y_train):.2f})')\n",
    "print(f'tube 5.0 n_samples (%): {np.sum(y_train[~cmask]==5)}({np.sum(y_train[~cmask]==5)*100/len(y_train):.2f})')\n",
    "print(f'tube 5.5 n_samples (%): {np.sum(y_train[~cmask]==5.5)}({np.sum(y_train[~cmask]==5.5)*100/len(y_train):.2f})')\n",
    "print(f'tube 6.0 n_samples (%): {np.sum(y_train[~cmask]==6)}({np.sum(y_train[~cmask]==6)*100/len(y_train):.2f})')\n",
    "print(f'tube >6 n_samples (%): {np.sum(y_train[~cmask]>6)}({np.sum(y_train[~cmask]>6)*100/len(y_train):.2f})')"
   ]
  },
  {
   "cell_type": "code",
   "execution_count": 82,
   "id": "f186139f-f688-4065-85fc-640d2b8f940b",
   "metadata": {
    "execution": {
     "iopub.execute_input": "2023-05-28T03:19:44.562540Z",
     "iopub.status.busy": "2023-05-28T03:19:44.561959Z",
     "iopub.status.idle": "2023-05-28T03:19:44.584699Z",
     "shell.execute_reply": "2023-05-28T03:19:44.583982Z",
     "shell.execute_reply.started": "2023-05-28T03:19:44.562483Z"
    },
    "tags": []
   },
   "outputs": [
    {
     "name": "stdout",
     "output_type": "stream",
     "text": [
      "tube < 3 n_samples (%): 0(0.00)\n",
      "tube 3.0 n_samples (%): 209(3.38)\n",
      "tube 3.5 n_samples (%): 238(3.84)\n",
      "tube 4.0 n_samples (%): 228(3.68)\n",
      "tube 4.5 n_samples (%): 258(4.17)\n",
      "tube 5.0 n_samples (%): 220(3.55)\n",
      "tube 5.5 n_samples (%): 229(3.70)\n",
      "tube 6.0 n_samples (%): 334(5.40)\n",
      "tube >6 n_samples (%): 47(0.76)\n",
      "\n",
      "\n",
      "tube < 3 n_samples (%): 0(0.00)\n",
      "tube 3.0 n_samples (%): 234(3.78)\n",
      "tube 3.5 n_samples (%): 429(6.93)\n",
      "tube 4.0 n_samples (%): 664(10.73)\n",
      "tube 4.5 n_samples (%): 836(13.51)\n",
      "tube 5.0 n_samples (%): 768(12.41)\n",
      "tube 5.5 n_samples (%): 654(10.57)\n",
      "tube 6.0 n_samples (%): 583(9.42)\n",
      "tube >6 n_samples (%): 259(4.18)\n"
     ]
    }
   ],
   "source": [
    "cmask = x_test[:,4]==1\n",
    "\n",
    "print(f'tube < 3 n_samples (%): {np.sum(y_test[cmask]<3)}({np.sum(y_test[cmask]<3)*100/len(y_test):.2f})')\n",
    "print(f'tube 3.0 n_samples (%): {np.sum(y_test[cmask]==3)}({np.sum(y_test[cmask]==3)*100/len(y_test):.2f})')\n",
    "print(f'tube 3.5 n_samples (%): {np.sum(y_test[cmask]==3.5)}({np.sum(y_test[cmask]==3.5)*100/len(y_test):.2f})')\n",
    "print(f'tube 4.0 n_samples (%): {np.sum(y_test[cmask]==4)}({np.sum(y_test[cmask]==4)*100/len(y_test):.2f})')\n",
    "print(f'tube 4.5 n_samples (%): {np.sum(y_test[cmask]==4.5)}({np.sum(y_test[cmask]==4.5)*100/len(y_test):.2f})')\n",
    "print(f'tube 5.0 n_samples (%): {np.sum(y_test[cmask]==5)}({np.sum(y_test[cmask]==5)*100/len(y_test):.2f})')\n",
    "print(f'tube 5.5 n_samples (%): {np.sum(y_test[cmask]==5.5)}({np.sum(y_test[cmask]==5.5)*100/len(y_test):.2f})')\n",
    "print(f'tube 6.0 n_samples (%): {np.sum(y_test[cmask]==6)}({np.sum(y_test[cmask]==6)*100/len(y_test):.2f})')\n",
    "print(f'tube >6 n_samples (%): {np.sum(y_test[cmask]>6)}({np.sum(y_test[cmask]>6)*100/len(y_test):.2f})\\n\\n')\n",
    "\n",
    "print(f'tube < 3 n_samples (%): {np.sum(y_test[~cmask]<3)}({np.sum(y_test[~cmask]<3)*100/len(y_test):.2f})')\n",
    "print(f'tube 3.0 n_samples (%): {np.sum(y_test[~cmask]==3)}({np.sum(y_test[~cmask]==3)*100/len(y_test):.2f})')\n",
    "print(f'tube 3.5 n_samples (%): {np.sum(y_test[~cmask]==3.5)}({np.sum(y_test[~cmask]==3.5)*100/len(y_test):.2f})')\n",
    "print(f'tube 4.0 n_samples (%): {np.sum(y_test[~cmask]==4)}({np.sum(y_test[~cmask]==4)*100/len(y_test):.2f})')\n",
    "print(f'tube 4.5 n_samples (%): {np.sum(y_test[~cmask]==4.5)}({np.sum(y_test[~cmask]==4.5)*100/len(y_test):.2f})')\n",
    "print(f'tube 5.0 n_samples (%): {np.sum(y_test[~cmask]==5)}({np.sum(y_test[~cmask]==5)*100/len(y_test):.2f})')\n",
    "print(f'tube 5.5 n_samples (%): {np.sum(y_test[~cmask]==5.5)}({np.sum(y_test[~cmask]==5.5)*100/len(y_test):.2f})')\n",
    "print(f'tube 6.0 n_samples (%): {np.sum(y_test[~cmask]==6)}({np.sum(y_test[~cmask]==6)*100/len(y_test):.2f})')\n",
    "print(f'tube >6 n_samples (%): {np.sum(y_test[~cmask]>6)}({np.sum(y_test[~cmask]>6)*100/len(y_test):.2f})')"
   ]
  },
  {
   "cell_type": "code",
   "execution_count": 97,
   "id": "47fb3159-2383-430f-8f0d-fa08c329ffb4",
   "metadata": {
    "execution": {
     "iopub.execute_input": "2023-02-22T14:37:21.073075Z",
     "iopub.status.busy": "2023-02-22T14:37:21.072583Z",
     "iopub.status.idle": "2023-02-22T14:37:21.089365Z",
     "shell.execute_reply": "2023-02-22T14:37:21.088643Z",
     "shell.execute_reply.started": "2023-02-22T14:37:21.073027Z"
    },
    "tags": []
   },
   "outputs": [
    {
     "name": "stdout",
     "output_type": "stream",
     "text": [
      "tube 2.0 n_samples (%): 6(0.09)\n",
      "tube 2.5 n_samples (%): 40(0.59)\n",
      "tube 3.0 n_samples (%): 471(6.92)\n",
      "tube 3.5 n_samples (%): 726(10.66)\n",
      "tube 4.0 n_samples (%): 1021(15.00)\n",
      "tube 4.5 n_samples (%): 1207(17.73)\n",
      "tube 5.0 n_samples (%): 1085(15.94)\n",
      "tube 5.5 n_samples (%): 904(13.28)\n",
      "tube 6.0 n_samples (%): 972(14.28)\n",
      "tube 6.5 n_samples (%): 370(5.43)\n",
      "tube 7.0 n_samples (%): 6(0.09)\n",
      "tube 7.5 n_samples (%): 0(0.00)\n",
      "tube 8.0 n_samples (%): 0(0.00)\n",
      "tube 8.5 n_samples (%): 0(0.00)\n"
     ]
    }
   ],
   "source": [
    "print(f'tube 2.0 n_samples (%): {np.sum(y_test==2)}({np.mean(y_test==2)*100:.2f})')\n",
    "print(f'tube 2.5 n_samples (%): {np.sum(y_test==2.5)}({np.mean(y_test==2.5)*100:.2f})')\n",
    "print(f'tube 3.0 n_samples (%): {np.sum(y_test==3)}({np.mean(y_test==3)*100:.2f})')\n",
    "print(f'tube 3.5 n_samples (%): {np.sum(y_test==3.5)}({np.mean(y_test==3.5)*100:.2f})')\n",
    "print(f'tube 4.0 n_samples (%): {np.sum(y_test==4)}({np.mean(y_test==4)*100:.2f})')\n",
    "print(f'tube 4.5 n_samples (%): {np.sum(y_test==4.5)}({np.mean(y_test==4.5)*100:.2f})')\n",
    "print(f'tube 5.0 n_samples (%): {np.sum(y_test==5)}({np.mean(y_test==5)*100:.2f})')\n",
    "print(f'tube 5.5 n_samples (%): {np.sum(y_test==5.5)}({np.mean(y_test==5.5)*100:.2f})')\n",
    "print(f'tube 6.0 n_samples (%): {np.sum(y_test==6)}({np.mean(y_test==6)*100:.2f})')\n",
    "print(f'tube 6.5 n_samples (%): {np.sum(y_test==6.5)}({np.mean(y_test==6.5)*100:.2f})')\n",
    "print(f'tube 7.0 n_samples (%): {np.sum(y_test==7)}({np.mean(y_test==7)*100:.2f})')\n",
    "print(f'tube 7.5 n_samples (%): {np.sum(y_test==7.5)}({np.mean(y_test==7.5)*100:.2f})')\n",
    "print(f'tube 8.0 n_samples (%): {np.sum(y_test==8)}({np.mean(y_test==8)*100:.2f})')\n",
    "print(f'tube 8.5 n_samples (%): {np.sum(y_test==8.5)}({np.mean(y_test==8.5)*100:.2f})')"
   ]
  },
  {
   "cell_type": "markdown",
   "id": "281c3fdb-c9b8-46b0-b6c4-15ef4e7f8647",
   "metadata": {},
   "source": [
    "## depth"
   ]
  },
  {
   "cell_type": "code",
   "execution_count": 43,
   "id": "72898732-7730-4256-9975-d283bcf5c464",
   "metadata": {
    "execution": {
     "iopub.execute_input": "2023-05-08T12:32:02.144913Z",
     "iopub.status.busy": "2023-05-08T12:32:02.144339Z",
     "iopub.status.idle": "2023-05-08T12:32:02.164170Z",
     "shell.execute_reply": "2023-05-08T12:32:02.163319Z",
     "shell.execute_reply.started": "2023-05-08T12:32:02.144858Z"
    },
    "tags": []
   },
   "outputs": [
    {
     "name": "stdout",
     "output_type": "stream",
     "text": [
      "x_train: (21344, 5), x_test: (5335, 5)\n"
     ]
    }
   ],
   "source": [
    "dat = np.load(f'dataset/ETT_depth-outliers.npz')\n",
    "x, y = dat['x'], dat['y']\n",
    "x = x[:,0:5]\n",
    "df = pickle.load(open('dataset/ETT_depth-outliers', 'rb'))\n",
    "\n",
    "nsamp = len(y)\n",
    "ntest = int(nsamp * 0.2)\n",
    "ntrain = nsamp - ntest\n",
    "x_test = x[-ntest:, :]\n",
    "y_test = y[-ntest:]\n",
    "x_train = x[:ntrain, :]\n",
    "y_train = y[:ntrain]\n",
    "\n",
    "df_train = df.loc[:ntrain-1:]\n",
    "df_test = df.loc[ntrain:]\n",
    "\n",
    "print(f'x_train: {(x_train).shape}, x_test: {x_test.shape}')"
   ]
  },
  {
   "cell_type": "code",
   "execution_count": 31,
   "id": "20350c03-fd56-43eb-933d-57752d15ab56",
   "metadata": {
    "execution": {
     "iopub.execute_input": "2023-05-07T07:23:09.621469Z",
     "iopub.status.busy": "2023-05-07T07:23:09.620957Z",
     "iopub.status.idle": "2023-05-07T07:23:09.633943Z",
     "shell.execute_reply": "2023-05-07T07:23:09.632929Z",
     "shell.execute_reply.started": "2023-05-07T07:23:09.621415Z"
    },
    "tags": []
   },
   "outputs": [
    {
     "name": "stderr",
     "output_type": "stream",
     "text": [
      "/home/painstudy/.local/lib/python3.8/site-packages/scipy/stats/morestats.py:1760: UserWarning: p-value may not be accurate for N > 5000.\n",
      "  warnings.warn(\"p-value may not be accurate for N > 5000.\")\n"
     ]
    },
    {
     "data": {
      "text/plain": [
       "ShapiroResult(statistic=0.9799808263778687, pvalue=0.0)"
      ]
     },
     "execution_count": 31,
     "metadata": {},
     "output_type": "execute_result"
    }
   ],
   "source": [
    "from scipy import stats\n",
    "stats.shapiro(df_train['fixed'].values)"
   ]
  },
  {
   "cell_type": "code",
   "execution_count": 33,
   "id": "22c419b2-00e8-4fb3-8a68-416296b767fe",
   "metadata": {
    "execution": {
     "iopub.execute_input": "2023-05-07T07:25:04.416128Z",
     "iopub.status.busy": "2023-05-07T07:25:04.415556Z",
     "iopub.status.idle": "2023-05-07T07:25:04.426546Z",
     "shell.execute_reply": "2023-05-07T07:25:04.425501Z",
     "shell.execute_reply.started": "2023-05-07T07:25:04.416073Z"
    },
    "tags": []
   },
   "outputs": [
    {
     "name": "stdout",
     "output_type": "stream",
     "text": [
      "정규성 검사(size): train-ShapiroResult(statistic=0.9799808263778687, pvalue=0.0), test-ShapiroResult(statistic=0.9795219302177429, pvalue=4.5403613549654424e-27)\n"
     ]
    }
   ],
   "source": [
    "from scipy import stats\n",
    "\n",
    "depth_train = df_train['fixed'].values\n",
    "depth_test = df_test['fixed'].values\n",
    "print(f'정규성 검사(size): train-{stats.shapiro(depth_train)}, test-{stats.shapiro(depth_test)}')"
   ]
  },
  {
   "cell_type": "code",
   "execution_count": 19,
   "id": "fd4aac52-29dc-4263-8a55-2e84b94ba0b6",
   "metadata": {
    "execution": {
     "iopub.execute_input": "2023-03-05T17:49:12.273788Z",
     "iopub.status.busy": "2023-03-05T17:49:12.273279Z",
     "iopub.status.idle": "2023-03-05T17:49:12.281664Z",
     "shell.execute_reply": "2023-03-05T17:49:12.280594Z",
     "shell.execute_reply.started": "2023-03-05T17:49:12.273732Z"
    },
    "tags": []
   },
   "outputs": [
    {
     "name": "stdout",
     "output_type": "stream",
     "text": [
      "[tube depth] \n",
      "train - mean : 13.72, std : 2.60\n",
      "test - mean : 13.69, std : 2.58\n",
      "\n"
     ]
    }
   ],
   "source": [
    "# tube size\n",
    "print(f'[tube depth] \\ntrain - mean : {np.mean(y_train):.2f}, std : {np.std(y_train):.2f}')\n",
    "print(f'test - mean : {np.mean(y_test):.2f}, std : {np.std(y_test):.2f}\\n')"
   ]
  },
  {
   "cell_type": "code",
   "execution_count": 44,
   "id": "77c71bc4-7d7a-44f9-8368-f44316ec4a27",
   "metadata": {
    "execution": {
     "iopub.execute_input": "2023-05-08T12:32:05.305956Z",
     "iopub.status.busy": "2023-05-08T12:32:05.305480Z",
     "iopub.status.idle": "2023-05-08T12:32:05.325159Z",
     "shell.execute_reply": "2023-05-08T12:32:05.324324Z",
     "shell.execute_reply.started": "2023-05-08T12:32:05.305905Z"
    },
    "tags": []
   },
   "outputs": [
    {
     "name": "stdout",
     "output_type": "stream",
     "text": [
      "[fixed] \n",
      "train - median 14.000 (IQR:12.000-16.000) [range:8.000-20.000]\n",
      "test - median 14.000 (IQR:12.000-16.000) [range:8.000-20.000]\n",
      "\n"
     ]
    }
   ],
   "source": [
    "# 정규분포를 따르지 않기에 IQR 계산 \n",
    "DEMO_VARS = ['fixed']\n",
    "\n",
    "for var in DEMO_VARS:\n",
    "    #print(f'[{var}] \\ntrain - {df_train[var].quantile(.25):.3f}-{df_train[var].quantile(.75):.3f} (IQR:{df_train[var].quantile(.75)-df_train[var].quantile(.25):.3f})')\n",
    "    print(f'[{var}] \\ntrain - median {df_train[var].quantile(.50):.3f} (IQR:{df_train[var].quantile(.25):.3f}-{df_train[var].quantile(.75):.3f}) [range:{df_train[var].min():.3f}-{df_train[var].max():.3f}]')\n",
    "    #print(f'test - {df_test[var].quantile(.25):.3f}-{df_test[var].quantile(.75):.3f} (IQR:{df_test[var].quantile(.75)-df_test[var].quantile(.25):.3f})\\n')\n",
    "    print(f'test - median {df_test[var].quantile(.50):.3f} (IQR:{df_test[var].quantile(.25):.3f}-{df_test[var].quantile(.75):.3f}) [range:{df_train[var].min():.3f}-{df_train[var].max():.3f}]\\n')"
   ]
  },
  {
   "cell_type": "markdown",
   "id": "8a839884-b102-466a-b394-91a0adaf579b",
   "metadata": {},
   "source": [
    "# Size - input correlation"
   ]
  },
  {
   "cell_type": "markdown",
   "id": "c447e553-5954-45ff-88e4-0f9a9d1c0906",
   "metadata": {},
   "source": [
    "## Spearman"
   ]
  },
  {
   "cell_type": "code",
   "execution_count": 123,
   "id": "ae98b8af-57d9-4ce4-a869-2e308d610455",
   "metadata": {
    "execution": {
     "iopub.execute_input": "2023-02-21T00:52:12.415449Z",
     "iopub.status.busy": "2023-02-21T00:52:12.414878Z",
     "iopub.status.idle": "2023-02-21T00:52:12.423673Z",
     "shell.execute_reply": "2023-02-21T00:52:12.422640Z",
     "shell.execute_reply.started": "2023-02-21T00:52:12.415393Z"
    },
    "tags": []
   },
   "outputs": [
    {
     "data": {
      "text/plain": [
       "array([ 94.3, 116.4,  82.5, ...,  77.2,  98.2, 120. ])"
      ]
     },
     "execution_count": 123,
     "metadata": {},
     "output_type": "execute_result"
    }
   ],
   "source": [
    "height"
   ]
  },
  {
   "cell_type": "code",
   "execution_count": 129,
   "id": "1b9fcf1a-0867-4b71-9904-9a1bc1da3327",
   "metadata": {
    "execution": {
     "iopub.execute_input": "2023-02-21T00:52:51.042797Z",
     "iopub.status.busy": "2023-02-21T00:52:51.042321Z",
     "iopub.status.idle": "2023-02-21T00:52:51.051127Z",
     "shell.execute_reply": "2023-02-21T00:52:51.050078Z",
     "shell.execute_reply.started": "2023-02-21T00:52:51.042745Z"
    },
    "tags": []
   },
   "outputs": [
    {
     "data": {
      "text/plain": [
       "array([ 6.7 , 21.  ,  1.  ,  2.2 ,  4.55,  8.8 ,  1.  ,  1.  ,  1.  ,\n",
       "        1.  , 12.2 ,  1.  ,  9.5 ,  1.  ,  4.9 , 10.1 ,  1.  ,  1.  ,\n",
       "        1.  ,  1.  , 13.4 , 13.  ,  9.6 ,  1.  , 17.55,  1.  ,  1.  ,\n",
       "        1.  ,  1.  ,  1.  ,  1.  ])"
      ]
     },
     "execution_count": 129,
     "metadata": {},
     "output_type": "execute_result"
    }
   ],
   "source": [
    "height[height<30]"
   ]
  },
  {
   "cell_type": "code",
   "execution_count": 165,
   "id": "d7bc2ffd-8c5e-40b2-95a0-d59fee6f6aa8",
   "metadata": {
    "execution": {
     "iopub.execute_input": "2023-02-21T01:09:09.509322Z",
     "iopub.status.busy": "2023-02-21T01:09:09.508834Z",
     "iopub.status.idle": "2023-02-21T01:09:09.669325Z",
     "shell.execute_reply": "2023-02-21T01:09:09.668710Z",
     "shell.execute_reply.started": "2023-02-21T01:09:09.509270Z"
    },
    "tags": []
   },
   "outputs": [
    {
     "data": {
      "text/plain": [
       "<matplotlib.collections.PathCollection at 0x7f8b84e1c1c0>"
      ]
     },
     "execution_count": 165,
     "metadata": {},
     "output_type": "execute_result"
    },
    {
     "data": {
      "image/png": "[encoded data removed]",
      "text/plain": [
       "<Figure size 432x288 with 1 Axes>"
      ]
     },
     "metadata": {
      "needs_background": "light"
     },
     "output_type": "display_data"
    }
   ],
   "source": [
    "age = x_test_imputed[:,0]\n",
    "height, weight = x_test_imputed[:,3], x_test_imputed[:,2]\n",
    "mask = np.logical_and(np.logical_and(height<200, height>30), age>2)\n",
    "\n",
    "weight = weight[mask]\n",
    "height = height[mask]\n",
    "\n",
    "\n",
    "bmi = weight / (height/100) / (height/100)\n",
    "\n",
    "plt.scatter(bmi, y_test[mask])"
   ]
  },
  {
   "cell_type": "code",
   "execution_count": 104,
   "id": "be372dcd-498e-4c47-85b2-f8e3368b4f90",
   "metadata": {
    "execution": {
     "iopub.execute_input": "2023-02-21T00:40:48.729982Z",
     "iopub.status.busy": "2023-02-21T00:40:48.729099Z",
     "iopub.status.idle": "2023-02-21T00:40:48.738328Z",
     "shell.execute_reply": "2023-02-21T00:40:48.737293Z",
     "shell.execute_reply.started": "2023-02-21T00:40:48.729926Z"
    },
    "tags": []
   },
   "outputs": [
    {
     "data": {
      "text/plain": [
       "array([2.74612073, 6.91047729, 1.72488141, ..., 1.42644955, 3.50452097,\n",
       "       5.9001896 ])"
      ]
     },
     "execution_count": 104,
     "metadata": {},
     "output_type": "execute_result"
    }
   ],
   "source": [
    "x_test[:,0]"
   ]
  },
  {
   "cell_type": "code",
   "execution_count": 107,
   "id": "daa5243c-a77d-45a4-8b37-81920effc651",
   "metadata": {
    "execution": {
     "iopub.execute_input": "2023-02-21T00:41:57.616800Z",
     "iopub.status.busy": "2023-02-21T00:41:57.616239Z",
     "iopub.status.idle": "2023-02-21T00:41:57.628688Z",
     "shell.execute_reply": "2023-02-21T00:41:57.627537Z",
     "shell.execute_reply.started": "2023-02-21T00:41:57.616746Z"
    },
    "tags": []
   },
   "outputs": [
    {
     "data": {
      "text/plain": [
       "(0.8723924366319188, 0.0)"
      ]
     },
     "execution_count": 107,
     "metadata": {},
     "output_type": "execute_result"
    }
   ],
   "source": [
    "import scipy.stats as stats\n",
    "\n",
    "rho, pval = stats.pearsonr(x_test[:,0], y_test)\n",
    "rho, pval"
   ]
  },
  {
   "cell_type": "code",
   "execution_count": 166,
   "id": "173069f7-97c3-4871-95be-593be1dfd286",
   "metadata": {
    "execution": {
     "iopub.execute_input": "2023-02-21T01:27:07.688579Z",
     "iopub.status.busy": "2023-02-21T01:27:07.687982Z",
     "iopub.status.idle": "2023-02-21T01:27:07.847137Z",
     "shell.execute_reply": "2023-02-21T01:27:07.846503Z",
     "shell.execute_reply.started": "2023-02-21T01:27:07.688521Z"
    },
    "tags": []
   },
   "outputs": [
    {
     "data": {
      "text/plain": [
       "(array([   6.,   40.,  471.,  726., 1021., 1207., 1085.,  904.,  972.,\n",
       "         376.]),\n",
       " array([2. , 2.5, 3. , 3.5, 4. , 4.5, 5. , 5.5, 6. , 6.5, 7. ]),\n",
       " <BarContainer object of 10 artists>)"
      ]
     },
     "execution_count": 166,
     "metadata": {},
     "output_type": "execute_result"
    },
    {
     "data": {
      "image/png": "[encoded data removed]",
      "text/plain": [
       "<Figure size 432x288 with 1 Axes>"
      ]
     },
     "metadata": {
      "needs_background": "light"
     },
     "output_type": "display_data"
    }
   ],
   "source": [
    "plt.hist(y_test)"
   ]
  },
  {
   "cell_type": "code",
   "execution_count": 82,
   "id": "cbf86a62-d6c9-42f5-9aa5-16740b376efd",
   "metadata": {
    "execution": {
     "iopub.execute_input": "2023-02-22T06:23:34.397711Z",
     "iopub.status.busy": "2023-02-22T06:23:34.397202Z",
     "iopub.status.idle": "2023-02-22T06:23:34.406293Z",
     "shell.execute_reply": "2023-02-22T06:23:34.405284Z",
     "shell.execute_reply.started": "2023-02-22T06:23:34.397659Z"
    },
    "tags": []
   },
   "outputs": [
    {
     "data": {
      "text/plain": [
       "(0.8723924366319188, 0.0)"
      ]
     },
     "execution_count": 82,
     "metadata": {},
     "output_type": "execute_result"
    }
   ],
   "source": [
    "import scipy.stats as stats\n",
    "stats.pearsonr(x_test[:,0], y_test)"
   ]
  },
  {
   "cell_type": "code",
   "execution_count": 81,
   "id": "20927f0d-0c59-4ed5-8186-eb527c8904d1",
   "metadata": {
    "execution": {
     "iopub.execute_input": "2023-02-22T06:23:26.656667Z",
     "iopub.status.busy": "2023-02-22T06:23:26.656178Z",
     "iopub.status.idle": "2023-02-22T06:23:26.665534Z",
     "shell.execute_reply": "2023-02-22T06:23:26.664515Z",
     "shell.execute_reply.started": "2023-02-22T06:23:26.656615Z"
    },
    "tags": []
   },
   "outputs": [
    {
     "data": {
      "text/plain": [
       "(-0.0100779619100062, 0.405743655645806)"
      ]
     },
     "execution_count": 81,
     "metadata": {},
     "output_type": "execute_result"
    }
   ],
   "source": [
    "import scipy.stats as stats\n",
    "stats.pearsonr(x_test[:,1], y_test)"
   ]
  },
  {
   "cell_type": "code",
   "execution_count": 84,
   "id": "189ef3ff-9f97-48d1-9651-66a043ea1f1a",
   "metadata": {
    "execution": {
     "iopub.execute_input": "2023-02-22T06:23:47.679048Z",
     "iopub.status.busy": "2023-02-22T06:23:47.678523Z",
     "iopub.status.idle": "2023-02-22T06:23:47.687903Z",
     "shell.execute_reply": "2023-02-22T06:23:47.686893Z",
     "shell.execute_reply.started": "2023-02-22T06:23:47.678995Z"
    },
    "tags": []
   },
   "outputs": [
    {
     "data": {
      "text/plain": [
       "(0.7946105737089508, 0.0)"
      ]
     },
     "execution_count": 84,
     "metadata": {},
     "output_type": "execute_result"
    }
   ],
   "source": [
    "import scipy.stats as stats\n",
    "stats.pearsonr(x_test_imputed[:,2], y_test)"
   ]
  },
  {
   "cell_type": "code",
   "execution_count": 85,
   "id": "87af925d-90dc-4dcd-8138-aa2f2f2a5351",
   "metadata": {
    "execution": {
     "iopub.execute_input": "2023-02-22T06:23:54.549617Z",
     "iopub.status.busy": "2023-02-22T06:23:54.549172Z",
     "iopub.status.idle": "2023-02-22T06:23:54.557862Z",
     "shell.execute_reply": "2023-02-22T06:23:54.556876Z",
     "shell.execute_reply.started": "2023-02-22T06:23:54.549572Z"
    },
    "tags": []
   },
   "outputs": [
    {
     "data": {
      "text/plain": [
       "(0.8197764526370859, 0.0)"
      ]
     },
     "execution_count": 85,
     "metadata": {},
     "output_type": "execute_result"
    }
   ],
   "source": [
    "import scipy.stats as stats\n",
    "stats.pearsonr(x_test_imputed[:,3], y_test)"
   ]
  },
  {
   "cell_type": "code",
   "execution_count": 86,
   "id": "a569f2f2-1e76-4645-b523-d35ce27f27d8",
   "metadata": {
    "execution": {
     "iopub.execute_input": "2023-02-22T06:24:02.281687Z",
     "iopub.status.busy": "2023-02-22T06:24:02.281190Z",
     "iopub.status.idle": "2023-02-22T06:24:02.290149Z",
     "shell.execute_reply": "2023-02-22T06:24:02.289142Z",
     "shell.execute_reply.started": "2023-02-22T06:24:02.281636Z"
    },
    "tags": []
   },
   "outputs": [
    {
     "data": {
      "text/plain": [
       "(-0.059154626667131574, 1.0381533516208097e-06)"
      ]
     },
     "execution_count": 86,
     "metadata": {},
     "output_type": "execute_result"
    }
   ],
   "source": [
    "import scipy.stats as stats\n",
    "stats.pearsonr(x_test[:,4], y_test)"
   ]
  },
  {
   "cell_type": "code",
   "execution_count": 89,
   "id": "245d6127-1bf7-4561-aaf2-deb07f3ab1dc",
   "metadata": {
    "execution": {
     "iopub.execute_input": "2023-02-22T06:24:33.678474Z",
     "iopub.status.busy": "2023-02-22T06:24:33.678169Z",
     "iopub.status.idle": "2023-02-22T06:24:33.687483Z",
     "shell.execute_reply": "2023-02-22T06:24:33.686697Z",
     "shell.execute_reply.started": "2023-02-22T06:24:33.678442Z"
    },
    "tags": []
   },
   "outputs": [
    {
     "data": {
      "text/plain": [
       "SpearmanrResult(correlation=-0.01249872268809375, pvalue=0.30248076059007767)"
      ]
     },
     "execution_count": 89,
     "metadata": {},
     "output_type": "execute_result"
    }
   ],
   "source": [
    "import scipy.stats as stats\n",
    "stats.spearmanr(x_test[:,1], y_test)"
   ]
  },
  {
   "cell_type": "code",
   "execution_count": null,
   "id": "15a41e01-274d-452b-b142-ce5e83426824",
   "metadata": {},
   "outputs": [],
   "source": []
  },
  {
   "cell_type": "markdown",
   "id": "258a3d16-cb62-4dbe-9087-b531e0e59f7f",
   "metadata": {},
   "source": [
    "# [Linearity test for age - tube size](https://jeffmacaluso.github.io/post/LinearRegressionAssumptions/)"
   ]
  },
  {
   "cell_type": "code",
   "execution_count": 68,
   "id": "33122ab4-bc6a-44c7-b93a-f8454c945f19",
   "metadata": {
    "execution": {
     "iopub.execute_input": "2023-08-10T02:21:36.746563Z",
     "iopub.status.busy": "2023-08-10T02:21:36.746059Z",
     "iopub.status.idle": "2023-08-10T02:21:36.762591Z",
     "shell.execute_reply": "2023-08-10T02:21:36.761986Z",
     "shell.execute_reply.started": "2023-08-10T02:21:36.746514Z"
    },
    "tags": []
   },
   "outputs": [
    {
     "name": "stdout",
     "output_type": "stream",
     "text": [
      "x_train: (29646, 5), x_test: (7411, 5)\n"
     ]
    }
   ],
   "source": [
    "from sklearn.model_selection import GridSearchCV, RandomizedSearchCV\n",
    "from sklearn.metrics import explained_variance_score, mean_squared_error, mean_absolute_error, r2_score\n",
    "from sklearn.utils import shuffle\n",
    "import pandas as pd\n",
    "import xgboost as xgb\n",
    "import numpy as np\n",
    "import random, os, datetime, pickle\n",
    "import scipy, csv, math\n",
    "import matplotlib.pyplot as plt\n",
    "import numpy as np\n",
    "\n",
    "\n",
    "dat = np.load(f'dataset/ETT_size_2308.npz')\n",
    "#df = pickle.load(open('dataset/df-outliers3', 'rb'))\n",
    "x, y = dat['x'], dat['y']\n",
    "#y_old  = dat['y_old']\n",
    "\n",
    "# training set의 뒤쪽 20%를 test set 으로 사용 (이미 shuffle된 상태)\n",
    "nsamp = len(y)\n",
    "ntest = int(nsamp * 0.2)\n",
    "ntrain = nsamp - ntest\n",
    "x_test = x[-ntest:, :]\n",
    "y_test = y[-ntest:]\n",
    "#y_test_old = y_old[-ntest:]\n",
    "x_train = x[:ntrain, :]\n",
    "y_train = y[:ntrain]\n",
    "\n",
    "print(f'x_train: {(x_train).shape}, x_test: {x_test.shape}')"
   ]
  },
  {
   "cell_type": "code",
   "execution_count": 65,
   "id": "4586ae06-6162-45dc-9f42-f015e4247f41",
   "metadata": {
    "execution": {
     "iopub.execute_input": "2023-05-11T05:28:36.514801Z",
     "iopub.status.busy": "2023-05-11T05:28:36.514261Z",
     "iopub.status.idle": "2023-05-11T05:28:36.582661Z",
     "shell.execute_reply": "2023-05-11T05:28:36.581886Z",
     "shell.execute_reply.started": "2023-05-11T05:28:36.514744Z"
    },
    "tags": []
   },
   "outputs": [
    {
     "name": "stdout",
     "output_type": "stream",
     "text": [
      "R^2: 0.7865834285936453\n"
     ]
    }
   ],
   "source": [
    "import numpy as np\n",
    "import pandas as pd\n",
    "import matplotlib.pyplot as plt\n",
    "import seaborn as sns\n",
    "from sklearn.linear_model import LinearRegression\n",
    "\n",
    "cmask = x_train[:,4]==1\n",
    "X_train = x_train[cmask]\n",
    "\n",
    "linear_x, linear_y = x_train[:,0].reshape(-1,1), y_train\n",
    "\n",
    "linear_model = LinearRegression()\n",
    "linear_model.fit(linear_x, linear_y)\n",
    "\n",
    "# Returning the R^2 for the model\n",
    "linear_r2 = linear_model.score(linear_x, linear_y)\n",
    "print('R^2: {0}'.format(linear_r2))\n",
    "\n",
    "def calculate_residuals(model, features, label):\n",
    "    \"\"\"\n",
    "    Creates predictions on the features with the model and calculates residuals\n",
    "    \"\"\"\n",
    "    predictions = model.predict(features)\n",
    "    df_results = pd.DataFrame({'Actual': label, 'Predicted': predictions})\n",
    "    df_results['Residuals'] = abs(df_results['Actual']) - abs(df_results['Predicted'])\n",
    "    \n",
    "    return df_results"
   ]
  },
  {
   "cell_type": "code",
   "execution_count": 66,
   "id": "aa971851-a4e9-492f-a677-da630722ad23",
   "metadata": {
    "execution": {
     "iopub.execute_input": "2023-05-11T05:28:38.919766Z",
     "iopub.status.busy": "2023-05-11T05:28:38.919347Z",
     "iopub.status.idle": "2023-05-11T05:28:39.248966Z",
     "shell.execute_reply": "2023-05-11T05:28:39.248436Z",
     "shell.execute_reply.started": "2023-05-11T05:28:38.919719Z"
    },
    "tags": []
   },
   "outputs": [
    {
     "name": "stdout",
     "output_type": "stream",
     "text": [
      "Assumption 1: Linear Relationship between the Target and the Feature \n",
      "\n",
      "Checking with a scatter plot of actual vs. predicted. Predictions should follow the diagonal line.\n"
     ]
    },
    {
     "name": "stderr",
     "output_type": "stream",
     "text": [
      "/home/painstudy/.local/lib/python3.8/site-packages/seaborn/regression.py:581: UserWarning: The `size` parameter has been renamed to `height`; please update your code.\n",
      "  warnings.warn(msg, UserWarning)\n"
     ]
    },
    {
     "data": {
      "image/png": "[encoded data removed]",
      "text/plain": [
       "<Figure size 504x504 with 1 Axes>"
      ]
     },
     "metadata": {
      "needs_background": "light"
     },
     "output_type": "display_data"
    }
   ],
   "source": [
    "def linear_assumption(model, features, label):\n",
    "    \"\"\"\n",
    "    Linearity: Assumes that there is a linear relationship between the predictors and\n",
    "               the response variable. If not, either a quadratic term or another\n",
    "               algorithm should be used.\n",
    "    \"\"\"\n",
    "    print('Assumption 1: Linear Relationship between the Target and the Feature', '\\n')\n",
    "        \n",
    "    print('Checking with a scatter plot of actual vs. predicted.',\n",
    "           'Predictions should follow the diagonal line.')\n",
    "    \n",
    "    # Calculating residuals for the plot\n",
    "    df_results = calculate_residuals(model, features, label)\n",
    "    \n",
    "    # Plotting the actual vs predicted values\n",
    "    sns.lmplot(x='Actual', y='Predicted', data=df_results, fit_reg=False, size=7)\n",
    "        \n",
    "    # Plotting the diagonal line\n",
    "    line_coords = np.arange(df_results.min().min(), df_results.max().max())\n",
    "    plt.plot(line_coords, line_coords,  # X and y points\n",
    "             color='darkorange', linestyle='--')\n",
    "    plt.title('Actual vs. Predicted')\n",
    "    plt.show()\n",
    "    \n",
    "    \n",
    "linear_assumption(linear_model, linear_x, linear_y)"
   ]
  },
  {
   "cell_type": "markdown",
   "id": "1cb51657-00f9-4701-af89-c604ec0b05e0",
   "metadata": {},
   "source": [
    "Assumption 2: The error terms are normally distributed\n",
    "\n",
    "Using the Anderson-Darling test for normal distribution\n",
    "p-value from the test - below 0.05 generally means non-normal: 0.335066045847\n",
    "Residuals are normally distributed"
   ]
  },
  {
   "cell_type": "code",
   "execution_count": 91,
   "id": "d25f8793-9348-4f61-9c8e-c9dd8e264500",
   "metadata": {
    "execution": {
     "iopub.execute_input": "2023-05-28T13:02:40.403347Z",
     "iopub.status.busy": "2023-05-28T13:02:40.402750Z",
     "iopub.status.idle": "2023-05-28T13:02:40.415381Z",
     "shell.execute_reply": "2023-05-28T13:02:40.414100Z",
     "shell.execute_reply.started": "2023-05-28T13:02:40.403290Z"
    },
    "tags": []
   },
   "outputs": [],
   "source": [
    "def normal_errors_assumption(model, features, label, p_value_thresh=0.05):\n",
    "    \"\"\"\n",
    "    Normality: Assumes that the error terms are normally distributed. If they are not,\n",
    "    nonlinear transformations of variables may solve this.\n",
    "               \n",
    "    This assumption being violated primarily causes issues with the confidence intervals\n",
    "    \"\"\"\n",
    "    from statsmodels.stats.diagnostic import normal_ad\n",
    "    print('Assumption 2: The error terms are normally distributed', '\\n')\n",
    "    \n",
    "    # Calculating residuals for the Anderson-Darling test\n",
    "    df_results = calculate_residuals(model, features, label)\n",
    "    \n",
    "    print('Using the Anderson-Darling test for normal distribution')\n",
    "\n",
    "    # Performing the test on the residuals\n",
    "    p_value = normal_ad(df_results['Residuals'])[1]\n",
    "    print('p-value from the test - below 0.05 generally means non-normal:', p_value)\n",
    "    \n",
    "    # Reporting the normality of the residuals\n",
    "    if p_value < p_value_thresh:\n",
    "        print('Residuals are not normally distributed')\n",
    "    else:\n",
    "        print('Residuals are normally distributed')\n",
    "    \n",
    "    # Plotting the residuals distribution\n",
    "    #plt.subplots(figsize=(24, 12))\n",
    "    #plt.title('Distribution of Residuals')\n",
    "    sns.distplot(df_results['Residuals'])\n",
    "    plt.savefig(\"Fig2_size_uncuffed.png\", dpi=600)\n",
    "    plt.show()\n",
    "    \n",
    "    print()\n",
    "    if p_value > p_value_thresh:\n",
    "        print('Assumption satisfied')\n",
    "    else:\n",
    "        print('Assumption not satisfied')\n",
    "        print()\n",
    "        print('Confidence intervals will likely be affected')\n",
    "        print('Try performing nonlinear transformations on variables')\n",
    "    "
   ]
  },
  {
   "cell_type": "code",
   "execution_count": 67,
   "id": "6dfca604-c52f-43a1-8cfe-2e1d2803420b",
   "metadata": {
    "execution": {
     "iopub.execute_input": "2023-05-11T05:29:06.168153Z",
     "iopub.status.busy": "2023-05-11T05:29:06.167577Z",
     "iopub.status.idle": "2023-05-11T05:29:06.531264Z",
     "shell.execute_reply": "2023-05-11T05:29:06.530627Z",
     "shell.execute_reply.started": "2023-05-11T05:29:06.168096Z"
    },
    "tags": []
   },
   "outputs": [
    {
     "name": "stdout",
     "output_type": "stream",
     "text": [
      "Assumption 2: The error terms are normally distributed \n",
      "\n",
      "Using the Anderson-Darling test for normal distribution\n",
      "p-value from the test - below 0.05 generally means non-normal: 0.0\n",
      "Residuals are not normally distributed\n"
     ]
    },
    {
     "name": "stderr",
     "output_type": "stream",
     "text": [
      "/home/painstudy/.local/lib/python3.8/site-packages/seaborn/distributions.py:2619: FutureWarning: `distplot` is a deprecated function and will be removed in a future version. Please adapt your code to use either `displot` (a figure-level function with similar flexibility) or `histplot` (an axes-level function for histograms).\n",
      "  warnings.warn(msg, FutureWarning)\n"
     ]
    },
    {
     "data": {
      "image/png": "[encoded data removed]",
      "text/plain": [
       "<Figure size 864x432 with 1 Axes>"
      ]
     },
     "metadata": {
      "needs_background": "light"
     },
     "output_type": "display_data"
    },
    {
     "name": "stdout",
     "output_type": "stream",
     "text": [
      "\n",
      "Assumption not satisfied\n",
      "\n",
      "Confidence intervals will likely be affected\n",
      "Try performing nonlinear transformations on variables\n"
     ]
    }
   ],
   "source": [
    "normal_errors_assumption(linear_model, linear_x, linear_y)"
   ]
  },
  {
   "cell_type": "markdown",
   "id": "0c946e5d-f01a-4a92-a3cf-a5551c8b965c",
   "metadata": {},
   "source": [
    "### Fig 2 (a) uncuffed ETT size - age"
   ]
  },
  {
   "cell_type": "code",
   "execution_count": 69,
   "id": "13562194-bfdb-4f34-9d82-d54f4332d476",
   "metadata": {
    "execution": {
     "iopub.execute_input": "2023-08-10T02:21:43.677432Z",
     "iopub.status.busy": "2023-08-10T02:21:43.676952Z",
     "iopub.status.idle": "2023-08-10T02:21:43.683613Z",
     "shell.execute_reply": "2023-08-10T02:21:43.682792Z",
     "shell.execute_reply.started": "2023-08-10T02:21:43.677382Z"
    },
    "tags": []
   },
   "outputs": [],
   "source": [
    "# input: age, weight, height, cuff\n",
    "x_train = np.concatenate((x_train[:,0:1], x_train[:,2:5]),axis=-1)\n",
    "x_test = np.concatenate((x_test[:,0:1], x_test[:,2:5]),axis=-1)"
   ]
  },
  {
   "cell_type": "code",
   "execution_count": 73,
   "id": "81c38ada-3278-448a-9bfd-8fe48655977f",
   "metadata": {
    "execution": {
     "iopub.execute_input": "2023-08-10T02:22:19.429466Z",
     "iopub.status.busy": "2023-08-10T02:22:19.429215Z",
     "iopub.status.idle": "2023-08-10T02:22:19.556258Z",
     "shell.execute_reply": "2023-08-10T02:22:19.555600Z",
     "shell.execute_reply.started": "2023-08-10T02:22:19.429441Z"
    },
    "tags": []
   },
   "outputs": [],
   "source": [
    "from sklearn.experimental import enable_iterative_imputer\n",
    "from sklearn.impute import IterativeImputer\n",
    "\n",
    "imp = IterativeImputer().fit(x_train)\n",
    "x_train_imputed = imp.transform(x_train)\n",
    "x_test_imputed = imp.transform(x_test)\n",
    "\n",
    "cmask = x_train[:,3]==1\n",
    "MODE = 'cuffed'\n",
    "X_train = x_train_imputed[cmask]\n",
    "Y_train = y_train[cmask]"
   ]
  },
  {
   "cell_type": "code",
   "execution_count": 42,
   "id": "1e3c1b2f-612e-4076-a051-19cc0af404ab",
   "metadata": {
    "execution": {
     "iopub.execute_input": "2023-08-10T02:07:01.317891Z",
     "iopub.status.busy": "2023-08-10T02:07:01.317015Z",
     "iopub.status.idle": "2023-08-10T02:07:01.331717Z",
     "shell.execute_reply": "2023-08-10T02:07:01.331077Z",
     "shell.execute_reply.started": "2023-08-10T02:07:01.317839Z"
    },
    "tags": []
   },
   "outputs": [
    {
     "data": {
      "text/html": [
       "<style>#sk-container-id-1 {color: black;}#sk-container-id-1 pre{padding: 0;}#sk-container-id-1 div.sk-toggleable {background-color: white;}#sk-container-id-1 label.sk-toggleable__label {cursor: pointer;display: block;width: 100%;margin-bottom: 0;padding: 0.3em;box-sizing: border-box;text-align: center;}#sk-container-id-1 label.sk-toggleable__label-arrow:before {content: \"▸\";float: left;margin-right: 0.25em;color: #696969;}#sk-container-id-1 label.sk-toggleable__label-arrow:hover:before {color: black;}#sk-container-id-1 div.sk-estimator:hover label.sk-toggleable__label-arrow:before {color: black;}#sk-container-id-1 div.sk-toggleable__content {max-height: 0;max-width: 0;overflow: hidden;text-align: left;background-color: #f0f8ff;}#sk-container-id-1 div.sk-toggleable__content pre {margin: 0.2em;color: black;border-radius: 0.25em;background-color: #f0f8ff;}#sk-container-id-1 input.sk-toggleable__control:checked~div.sk-toggleable__content {max-height: 200px;max-width: 100%;overflow: auto;}#sk-container-id-1 input.sk-toggleable__control:checked~label.sk-toggleable__label-arrow:before {content: \"▾\";}#sk-container-id-1 div.sk-estimator input.sk-toggleable__control:checked~label.sk-toggleable__label {background-color: #d4ebff;}#sk-container-id-1 div.sk-label input.sk-toggleable__control:checked~label.sk-toggleable__label {background-color: #d4ebff;}#sk-container-id-1 input.sk-hidden--visually {border: 0;clip: rect(1px 1px 1px 1px);clip: rect(1px, 1px, 1px, 1px);height: 1px;margin: -1px;overflow: hidden;padding: 0;position: absolute;width: 1px;}#sk-container-id-1 div.sk-estimator {font-family: monospace;background-color: #f0f8ff;border: 1px dotted black;border-radius: 0.25em;box-sizing: border-box;margin-bottom: 0.5em;}#sk-container-id-1 div.sk-estimator:hover {background-color: #d4ebff;}#sk-container-id-1 div.sk-parallel-item::after {content: \"\";width: 100%;border-bottom: 1px solid gray;flex-grow: 1;}#sk-container-id-1 div.sk-label:hover label.sk-toggleable__label {background-color: #d4ebff;}#sk-container-id-1 div.sk-serial::before {content: \"\";position: absolute;border-left: 1px solid gray;box-sizing: border-box;top: 0;bottom: 0;left: 50%;z-index: 0;}#sk-container-id-1 div.sk-serial {display: flex;flex-direction: column;align-items: center;background-color: white;padding-right: 0.2em;padding-left: 0.2em;position: relative;}#sk-container-id-1 div.sk-item {position: relative;z-index: 1;}#sk-container-id-1 div.sk-parallel {display: flex;align-items: stretch;justify-content: center;background-color: white;position: relative;}#sk-container-id-1 div.sk-item::before, #sk-container-id-1 div.sk-parallel-item::before {content: \"\";position: absolute;border-left: 1px solid gray;box-sizing: border-box;top: 0;bottom: 0;left: 50%;z-index: -1;}#sk-container-id-1 div.sk-parallel-item {display: flex;flex-direction: column;z-index: 1;position: relative;background-color: white;}#sk-container-id-1 div.sk-parallel-item:first-child::after {align-self: flex-end;width: 50%;}#sk-container-id-1 div.sk-parallel-item:last-child::after {align-self: flex-start;width: 50%;}#sk-container-id-1 div.sk-parallel-item:only-child::after {width: 0;}#sk-container-id-1 div.sk-dashed-wrapped {border: 1px dashed gray;margin: 0 0.4em 0.5em 0.4em;box-sizing: border-box;padding-bottom: 0.4em;background-color: white;}#sk-container-id-1 div.sk-label label {font-family: monospace;font-weight: bold;display: inline-block;line-height: 1.2em;}#sk-container-id-1 div.sk-label-container {text-align: center;}#sk-container-id-1 div.sk-container {/* jupyter's `normalize.less` sets `[hidden] { display: none; }` but bootstrap.min.css set `[hidden] { display: none !important; }` so we also need the `!important` here to be able to override the default hidden behavior on the sphinx rendered scikit-learn.org. See: https://github.com/scikit-learn/scikit-learn/issues/21755 */display: inline-block !important;position: relative;}#sk-container-id-1 div.sk-text-repr-fallback {display: none;}</style><div id=\"sk-container-id-1\" class=\"sk-top-container\"><div class=\"sk-text-repr-fallback\"><pre>LinearRegression()</pre><b>In a Jupyter environment, please rerun this cell to show the HTML representation or trust the notebook. <br />On GitHub, the HTML representation is unable to render, please try loading this page with nbviewer.org.</b></div><div class=\"sk-container\" hidden><div class=\"sk-item\"><div class=\"sk-estimator sk-toggleable\"><input class=\"sk-toggleable__control sk-hidden--visually\" id=\"sk-estimator-id-1\" type=\"checkbox\" checked><label for=\"sk-estimator-id-1\" class=\"sk-toggleable__label sk-toggleable__label-arrow\">LinearRegression</label><div class=\"sk-toggleable__content\"><pre>LinearRegression()</pre></div></div></div></div></div>"
      ],
      "text/plain": [
       "LinearRegression()"
      ]
     },
     "execution_count": 42,
     "metadata": {},
     "output_type": "execute_result"
    }
   ],
   "source": [
    "from sklearn.linear_model import LinearRegression\n",
    "from sklearn.metrics import r2_score\n",
    "\n",
    "linear_x, linear_y = X_train[:,0].reshape(-1,1), Y_train\n",
    "\n",
    "linear_model = LinearRegression()\n",
    "linear_model.fit(linear_x, linear_y)"
   ]
  },
  {
   "cell_type": "code",
   "execution_count": 54,
   "id": "5e5ebe4b-a002-4952-bf66-6b2f36738026",
   "metadata": {
    "execution": {
     "iopub.execute_input": "2023-08-10T02:13:41.735758Z",
     "iopub.status.busy": "2023-08-10T02:13:41.735254Z",
     "iopub.status.idle": "2023-08-10T02:13:41.745687Z",
     "shell.execute_reply": "2023-08-10T02:13:41.744632Z",
     "shell.execute_reply.started": "2023-08-10T02:13:41.735709Z"
    },
    "tags": []
   },
   "outputs": [],
   "source": [
    "def plot_settings(SMALL_SIZE=18, MEDIUM_SIZE=18, BIGGER_SIZE=18, FONT_NAME='Avenir Next LT Pro'):\n",
    "    plt.rc('figure', figsize=(12,12))\n",
    "    plt.rc('font', size=SMALL_SIZE)          # controls default text sizes\n",
    "    plt.rc('axes', titlesize=SMALL_SIZE)     # fontsize of the axes title\n",
    "    plt.rc('axes', labelsize=MEDIUM_SIZE)    # fontsize of the x and y labels\n",
    "    plt.rc('xtick', labelsize=SMALL_SIZE)    # fontsize of the tick labels\n",
    "    plt.rc('ytick', labelsize=SMALL_SIZE)    # fontsize of the tick labels\n",
    "    plt.rc('legend', fontsize=SMALL_SIZE)    # legend fontsize\n",
    "    plt.rc('figure', titlesize=BIGGER_SIZE)  # fontsize of the figure title\n",
    "    \n",
    "    # finding font\n",
    "    import matplotlib.font_manager as fm\n",
    "    font_path = fm.findfont(fm.FontProperties(family=FONT_NAME))\n",
    "    plt.rcParams['font.family'] = fm.FontProperties(fname=font_path).get_name()"
   ]
  },
  {
   "cell_type": "code",
   "execution_count": 74,
   "id": "80a2f6a2-aec9-45cd-a180-464349bfa248",
   "metadata": {
    "execution": {
     "iopub.execute_input": "2023-08-10T02:22:25.020592Z",
     "iopub.status.busy": "2023-08-10T02:22:25.020116Z",
     "iopub.status.idle": "2023-08-10T02:22:30.932871Z",
     "shell.execute_reply": "2023-08-10T02:22:30.932230Z",
     "shell.execute_reply.started": "2023-08-10T02:22:25.020544Z"
    },
    "tags": []
   },
   "outputs": [
    {
     "data": {
      "image/png": "[encoded data removed]",
      "text/plain": [
       "<Figure size 864x864 with 1 Axes>"
      ]
     },
     "metadata": {
      "needs_background": "light"
     },
     "output_type": "display_data"
    }
   ],
   "source": [
    "xvals = []\n",
    "yvals = []\n",
    "cvals = []\n",
    "x_age = np.array([math.floor(x) for x in X_train[:,0]])\n",
    "\n",
    "#y_fitted = linear_model.predict(np.reshape([0,9],[-1,1]))\n",
    "y_fitted = linear_model.predict(X_train[:,0].reshape([-1,1]))\n",
    "\n",
    "for x in np.arange(0, 10, 1):\n",
    "    for y in np.arange(2.5, 8.0, 0.5):\n",
    "        xvals.append(x)\n",
    "        yvals.append(y)        \n",
    "        cvals.append(sum((x_age == x) & (Y_train == y)))\n",
    "\n",
    "xvals = np.array(xvals)\n",
    "yvals = np.array(yvals)\n",
    "cvals = np.array(cvals) / 2\n",
    "\n",
    "\n",
    "# plot settings\n",
    "plot_settings()\n",
    "\n",
    "fig = plt.figure(figsize=(12, 12))\n",
    "ax = fig.add_subplot()\n",
    "\n",
    "# Remove plot frames\n",
    "ax.spines['top'].set_visible(False)\n",
    "ax.spines['right'].set_visible(False)\n",
    "#ax.set_yticks([f'{y:.1f}' for y in np.arange(2.5,7.5,0.5)])\n",
    "#plt.gca().set_yticklabels([f'{y:.1f}' for y in np.arange(2.5,7.5,0.5)])\n",
    "\n",
    "\n",
    "plt.xticks(np.arange(0,10))\n",
    "plt.yticks(np.arange(3, 7.5, 0.5), [f'{y:.1f}' for y in np.arange(3,7.5,0.5)] )\n",
    "plt.xlim(-1, 10)\n",
    "plt.ylim(2.5, 7.5)\n",
    "\n",
    "plt.scatter(xvals, yvals, c='red', alpha=0.5, s=cvals)\n",
    "plt.xlabel('Age (years)')\n",
    "plt.ylabel(f'Tube internal diameter used (mm)')\n",
    "#lgnd = plt.legend()\n",
    "#lgnd.legendHandles[0]._sizes = [30]\n",
    "#plt.plot(np.arange(0,10), coles, 'k-', alpha=0.1)\n",
    "#plt.plot([-2, 10], [3.13, 7.05], 'k-', alpha = 0.5)\n",
    "plt.plot(x_age, linear_model.predict(x_age.reshape([-1,1])), 'k-', alpha = 0.5)\n",
    "\n",
    "equation = f'ID = {linear_model.coef_[0]:.2f} * age + {linear_model.intercept_:.2f}'\n",
    "r_squared = f'R-squared = {r2_score(Y_train,y_fitted):.2f}'\n",
    "plt.text(0, 6.2, equation, fontsize=18)\n",
    "plt.text(0, 6, r_squared, fontsize=18)\n",
    "\n",
    "plt.savefig(f\"figures/Fig3_c_{MODE}_scatter.png\", dpi=600)"
   ]
  },
  {
   "cell_type": "markdown",
   "id": "97ff1768-b841-4fd5-a08d-2b20f57c7f06",
   "metadata": {},
   "source": [
    "### Fig 2 (b) cuffed ETT size residual plot"
   ]
  },
  {
   "cell_type": "code",
   "execution_count": 72,
   "id": "8b4cff65-76c1-4308-bcb6-f5089f2fbeb5",
   "metadata": {
    "execution": {
     "iopub.execute_input": "2023-08-10T02:22:09.619610Z",
     "iopub.status.busy": "2023-08-10T02:22:09.618830Z",
     "iopub.status.idle": "2023-08-10T02:22:19.390716Z",
     "shell.execute_reply": "2023-08-10T02:22:19.390205Z",
     "shell.execute_reply.started": "2023-08-10T02:22:09.619560Z"
    },
    "tags": []
   },
   "outputs": [
    {
     "name": "stderr",
     "output_type": "stream",
     "text": [
      "/home/painstudy/.local/lib/python3.8/site-packages/seaborn/_decorators.py:36: FutureWarning: Pass the following variables as keyword args: x, y. From version 0.12, the only valid positional argument will be `data`, and passing other arguments without an explicit keyword will result in an error or misinterpretation.\n",
      "  warnings.warn(\n"
     ]
    },
    {
     "data": {
      "image/png": "[encoded data removed]",
      "text/plain": [
       "<Figure size 864x864 with 1 Axes>"
      ]
     },
     "metadata": {
      "needs_background": "light"
     },
     "output_type": "display_data"
    }
   ],
   "source": [
    "import seaborn as sns\n",
    "import statsmodels.api as sm\n",
    "import matplotlib.pyplot as plt\n",
    "from statsmodels.graphics.gofplots import ProbPlot\n",
    "\n",
    "\n",
    "df_m = pd.DataFrame({'X':X_train[:,0], 'Y':Y_train})\n",
    "\n",
    "# generate OLS model\n",
    "#model_fit = sm.OLS(pd.DataFrame({'Y':Y_train}), sm.add_constant(df_m)).fit()\n",
    "model_fit = sm.OLS(pd.DataFrame({'Y':Y_train}), sm.add_constant(X_train[:,0])).fit()\n",
    "\n",
    "\n",
    "# model values\n",
    "model_fitted_y = model_fit.fittedvalues\n",
    "\n",
    "# model residuals\n",
    "model_residuals = model_fit.resid\n",
    "\n",
    "# density for residuals - fitted plot\n",
    "X = model_fitted_y\n",
    "Y = model_residuals\n",
    "\n",
    "xvals = []\n",
    "yvals = []\n",
    "cvals = []\n",
    "cuff_mask = (x_train[:,3]==1)\n",
    "\n",
    "for x in np.arange(2.8, 7.2, 0.1):\n",
    "    for y in np.arange(-1.6, 1.1, 0.1):\n",
    "        xvals.append(x)\n",
    "        yvals.append(y)\n",
    "        cvals.append(sum((X >= x) & (X < x + 0.1) & (Y >= y) & (Y < y + 0.1)))\n",
    "\n",
    "xvals = np.array(xvals)\n",
    "yvals = np.array(yvals)\n",
    "cvals = np.array(cvals) / 2\n",
    "\n",
    "\n",
    "# plot setting\n",
    "UPPER_FIT = 7.0\n",
    "LOWER_FIT = 3.5\n",
    "UPPER_RES = 1.0\n",
    "LOWER_RES = -1.5\n",
    "\n",
    "plot_settings()\n",
    "plot_lm_1 = plt.figure(figsize=(12,12))\n",
    "plot_lm_1.axes[0] = sns.residplot(model_fitted_y, df_m.columns[-1], data=df_m,\n",
    "                          lowess=True,\n",
    "                          scatter_kws={'alpha': 0},\n",
    "                          line_kws={'color': 'red', 'lw': 1, 'alpha': 0.8})\n",
    "\n",
    "\n",
    "# Remove plot frames\n",
    "plot_lm_1.axes[0].spines['top'].set_visible(False)\n",
    "plot_lm_1.axes[0].spines['right'].set_visible(False)\n",
    "\n",
    "#plot_lm_1.axes[0].set_title('Residuals vs Fitted')\n",
    "plot_lm_1.axes[0].set_xlabel('Fitted values')\n",
    "plot_lm_1.axes[0].set_ylabel('Residuals')\n",
    "plot_lm_1.axes[0].set_xlim(LOWER_FIT-0.25, UPPER_FIT+0.25)\n",
    "plot_lm_1.axes[0].set_ylim(LOWER_RES-0.25, UPPER_RES+0.25)\n",
    "plot_lm_1.axes[0].set_xticks(np.arange(LOWER_FIT, UPPER_FIT+0.5, 0.5), [f'{y:.1f}' for y in np.arange(LOWER_FIT, UPPER_FIT+0.5,0.5)])\n",
    "plot_lm_1.axes[0].set_yticks(np.arange(LOWER_RES,UPPER_RES+0.5,0.5))\n",
    "\n",
    "plot_lm_1.axes[0] = plt.scatter(xvals, yvals, c='blue', alpha=0.5, s=cvals)\n",
    "plt.savefig(f\"figures/Fig3_b_{MODE}_residuals.png\", dpi=600)"
   ]
  },
  {
   "cell_type": "code",
   "execution_count": 75,
   "id": "ace21f02-8c51-46f5-b81c-7b42d9b2cdc6",
   "metadata": {
    "execution": {
     "iopub.execute_input": "2023-08-10T02:22:30.934388Z",
     "iopub.status.busy": "2023-08-10T02:22:30.934081Z",
     "iopub.status.idle": "2023-08-10T02:22:36.153179Z",
     "shell.execute_reply": "2023-08-10T02:22:36.152576Z",
     "shell.execute_reply.started": "2023-08-10T02:22:30.934362Z"
    },
    "tags": []
   },
   "outputs": [
    {
     "name": "stderr",
     "output_type": "stream",
     "text": [
      "/home/painstudy/.local/lib/python3.8/site-packages/seaborn/_decorators.py:36: FutureWarning: Pass the following variables as keyword args: x, y. From version 0.12, the only valid positional argument will be `data`, and passing other arguments without an explicit keyword will result in an error or misinterpretation.\n",
      "  warnings.warn(\n"
     ]
    },
    {
     "data": {
      "image/png": "[encoded data removed]",
      "text/plain": [
       "<Figure size 864x864 with 1 Axes>"
      ]
     },
     "metadata": {
      "needs_background": "light"
     },
     "output_type": "display_data"
    }
   ],
   "source": [
    "import seaborn as sns\n",
    "import statsmodels.api as sm\n",
    "import matplotlib.pyplot as plt\n",
    "from statsmodels.graphics.gofplots import ProbPlot\n",
    "\n",
    "\n",
    "df_m = pd.DataFrame({'X':X_train[:,0], 'Y':Y_train})\n",
    "\n",
    "# generate OLS model\n",
    "#model_fit = sm.OLS(pd.DataFrame({'Y':Y_train}), sm.add_constant(df_m)).fit()\n",
    "model_fit = sm.OLS(pd.DataFrame({'Y':Y_train}), sm.add_constant(X_train[:,0])).fit()\n",
    "\n",
    "\n",
    "# model values\n",
    "model_fitted_y = model_fit.fittedvalues\n",
    "\n",
    "# model residuals\n",
    "model_residuals = model_fit.resid\n",
    "\n",
    "# density for residuals - fitted plot\n",
    "X = model_fitted_y\n",
    "Y = model_residuals\n",
    "\n",
    "xvals = []\n",
    "yvals = []\n",
    "cvals = []\n",
    "cuff_mask = (x_train[:,3]==0)\n",
    "\n",
    "for x in np.arange(2.8, 7.2, 0.1):\n",
    "    for y in np.arange(-1.6, 1.1, 0.1):\n",
    "        xvals.append(x)\n",
    "        yvals.append(y)\n",
    "        cvals.append(sum((X >= x) & (X < x + 0.1) & (Y >= y) & (Y < y + 0.1)))\n",
    "\n",
    "xvals = np.array(xvals)\n",
    "yvals = np.array(yvals)\n",
    "cvals = np.array(cvals) / 2\n",
    "\n",
    "\n",
    "# plot setting\n",
    "UPPER_FIT = 6.5\n",
    "LOWER_FIT = 3.0\n",
    "UPPER_RES = 1.0\n",
    "LOWER_RES = -1.0\n",
    "\n",
    "plot_settings()\n",
    "plot_lm_1 = plt.figure(figsize=(12,12))\n",
    "plot_lm_1.axes[0] = sns.residplot(model_fitted_y, df_m.columns[-1], data=df_m,\n",
    "                          lowess=True,\n",
    "                          scatter_kws={'alpha': 0},\n",
    "                          line_kws={'color': 'red', 'lw': 1, 'alpha': 0.8})\n",
    "\n",
    "\n",
    "# Remove plot frames\n",
    "plot_lm_1.axes[0].spines['top'].set_visible(False)\n",
    "plot_lm_1.axes[0].spines['right'].set_visible(False)\n",
    "\n",
    "#plot_lm_1.axes[0].set_title('Residuals vs Fitted')\n",
    "plot_lm_1.axes[0].set_xlabel('Fitted values')\n",
    "plot_lm_1.axes[0].set_ylabel('Residuals')\n",
    "plot_lm_1.axes[0].set_xlim(LOWER_FIT-0.25, UPPER_FIT+0.25)\n",
    "plot_lm_1.axes[0].set_ylim(LOWER_RES-0.25, UPPER_RES+0.25)\n",
    "plot_lm_1.axes[0].set_xticks(np.arange(LOWER_FIT, UPPER_FIT+0.5, 0.5), [f'{y:.1f}' for y in np.arange(LOWER_FIT, UPPER_FIT+0.5,0.5)])\n",
    "plot_lm_1.axes[0].set_yticks(np.arange(LOWER_RES,UPPER_RES+0.5,0.5))\n",
    "\n",
    "plot_lm_1.axes[0] = plt.scatter(xvals, yvals, c='blue', alpha=0.5, s=cvals)\n",
    "plt.savefig(f\"figures/Fig3_d_{MODE}_residuals.png\", dpi=600)"
   ]
  },
  {
   "cell_type": "code",
   "execution_count": 129,
   "id": "7c309fb7-c25d-460c-8ad3-05dad7d31a2b",
   "metadata": {
    "collapsed": true,
    "execution": {
     "iopub.execute_input": "2023-05-28T16:47:51.783692Z",
     "iopub.status.busy": "2023-05-28T16:47:51.783089Z",
     "iopub.status.idle": "2023-05-28T16:47:53.116196Z",
     "shell.execute_reply": "2023-05-28T16:47:53.115644Z",
     "shell.execute_reply.started": "2023-05-28T16:47:51.783636Z"
    },
    "jupyter": {
     "outputs_hidden": true
    },
    "tags": []
   },
   "outputs": [
    {
     "name": "stdout",
     "output_type": "stream",
     "text": [
      "                            OLS Regression Results                            \n",
      "==============================================================================\n",
      "Dep. Variable:                      Y   R-squared:                       0.825\n",
      "Model:                            OLS   Adj. R-squared:                  0.825\n",
      "Method:                 Least Squares   F-statistic:                 8.419e+04\n",
      "Date:                Mon, 29 May 2023   Prob (F-statistic):               0.00\n",
      "Time:                        01:47:51   Log-Likelihood:                -8747.3\n",
      "No. Observations:               17816   AIC:                         1.750e+04\n",
      "Df Residuals:                   17814   BIC:                         1.751e+04\n",
      "Df Model:                           1                                         \n",
      "Covariance Type:            nonrobust                                         \n",
      "==============================================================================\n",
      "                 coef    std err          t      P>|t|      [0.025      0.975]\n",
      "------------------------------------------------------------------------------\n",
      "const          3.7827      0.005    820.117      0.000       3.774       3.792\n",
      "X              0.3270      0.001    290.153      0.000       0.325       0.329\n",
      "==============================================================================\n",
      "Omnibus:                      296.360   Durbin-Watson:                   1.994\n",
      "Prob(Omnibus):                  0.000   Jarque-Bera (JB):              310.645\n",
      "Skew:                          -0.322   Prob(JB):                     3.50e-68\n",
      "Kurtosis:                       2.932   Cond. No.                         6.60\n",
      "==============================================================================\n",
      "\n",
      "Notes:\n",
      "[1] Standard Errors assume that the covariance matrix of the errors is correctly specified.\n",
      "eval_env: 1\n"
     ]
    },
    {
     "data": {
      "image/png": "[encoded data removed]",
      "text/plain": [
       "<Figure size 1008x576 with 4 Axes>"
      ]
     },
     "metadata": {},
     "output_type": "display_data"
    }
   ],
   "source": [
    "# display model summary\n",
    "print(model_fit.summary())\n",
    "  \n",
    "# modify figure size\n",
    "fig = plt.figure(figsize=(14, 8))\n",
    "  \n",
    "# creating regression plots\n",
    "fig = sm.graphics.plot_regress_exog(model_fit,\n",
    "                                    'X',\n",
    "                                    fig=fig)"
   ]
  },
  {
   "cell_type": "markdown",
   "id": "5a3c6ef0-5b15-4a61-aabe-4fdf7ab6530a",
   "metadata": {},
   "source": [
    "* plot of residuals vs fitted for multiple linear regression model"
   ]
  },
  {
   "cell_type": "code",
   "execution_count": 143,
   "id": "53df5516-dcec-4865-85a2-b90fe30ee77f",
   "metadata": {
    "execution": {
     "iopub.execute_input": "2023-05-28T17:10:59.414550Z",
     "iopub.status.busy": "2023-05-28T17:10:59.414000Z",
     "iopub.status.idle": "2023-05-28T17:11:13.596848Z",
     "shell.execute_reply": "2023-05-28T17:11:13.596238Z",
     "shell.execute_reply.started": "2023-05-28T17:10:59.414496Z"
    },
    "tags": []
   },
   "outputs": [
    {
     "name": "stderr",
     "output_type": "stream",
     "text": [
      "/home/painstudy/.local/lib/python3.8/site-packages/seaborn/_decorators.py:36: FutureWarning: Pass the following variables as keyword args: x, y. From version 0.12, the only valid positional argument will be `data`, and passing other arguments without an explicit keyword will result in an error or misinterpretation.\n",
      "  warnings.warn(\n"
     ]
    },
    {
     "data": {
      "image/png": "[encoded data removed]",
      "text/plain": [
       "<Figure size 576x396 with 1 Axes>"
      ]
     },
     "metadata": {},
     "output_type": "display_data"
    }
   ],
   "source": [
    "import seaborn as sns\n",
    "import statsmodels.api as sm\n",
    "import matplotlib.pyplot as plt\n",
    "from statsmodels.graphics.gofplots import ProbPlot\n",
    "\n",
    "plt.style.use('seaborn') # pretty matplotlib plots\n",
    "\n",
    "df_X = pd.DataFrame(X_train, columns=['age','weight', 'height', 'cuff'])\n",
    "df_m = pd.concat([df_X, pd.DataFrame({'Y':Y_train})], axis = 1)\n",
    "#df_m = pd.DataFrame({'X':X_train[:,0], 'Y':Y_train})\n",
    "\n",
    "# generate OLS model\n",
    "model_fit = sm.OLS(pd.DataFrame({'Y':Y_train}), sm.add_constant(df_X)).fit()\n",
    "\n",
    "\n",
    "# model values\n",
    "model_fitted_y = model_fit.fittedvalues\n",
    "\n",
    "# model residuals\n",
    "model_residuals = model_fit.resid\n",
    "\n",
    "\n",
    "plot_lm_1 = plt.figure()\n",
    "plot_lm_1.axes[0] = sns.residplot(model_fitted_y, df_m.columns[-1], data=df_m,\n",
    "                          lowess=True,\n",
    "                          scatter_kws={'alpha': 0.5},\n",
    "                          line_kws={'color': 'red', 'lw': 1, 'alpha': 0.8})\n",
    "\n",
    "plot_lm_1.axes[0].set_title('Residuals vs Fitted')\n",
    "plot_lm_1.axes[0].set_xlabel('Fitted values')\n",
    "plot_lm_1.axes[0].set_ylabel('Residuals');"
   ]
  },
  {
   "cell_type": "code",
   "execution_count": null,
   "id": "c5b24316-fc04-4fc9-9e9c-457a644fb4c5",
   "metadata": {},
   "outputs": [],
   "source": [
    "# chat GPT 버전의 코드\n",
    "import numpy as np\n",
    "import matplotlib.pyplot as plt\n",
    "import statsmodels.api as sm\n",
    "from statsmodels.nonparametric.smoothers_lowess import lowess\n",
    "\n",
    "# Generate example data for simple linear regression\n",
    "np.random.seed(42)\n",
    "x = np.random.rand(100) * 10\n",
    "y = 2 * x + np.random.randn(100)\n",
    "\n",
    "# Fit the linear regression model\n",
    "X = sm.add_constant(x)  # Add constant term to the predictor variable\n",
    "model = sm.OLS(y, X)\n",
    "results = model.fit()\n",
    "\n",
    "# Calculate residuals and fitted values\n",
    "residuals = results.resid\n",
    "fitted_values = results.fittedvalues\n",
    "\n",
    "# Plot residuals versus fitted values\n",
    "fig, ax = plt.subplots()\n",
    "ax.scatter(fitted_values, residuals, alpha=0.5)\n",
    "lowess_smoothed = lowess(residuals, fitted_values)\n",
    "ax.plot(lowess_smoothed[:, 0], lowess_smoothed[:, 1], 'r-', linewidth=2)\n",
    "ax.axhline(0, color='black', linestyle='--')\n",
    "ax.set_xlabel('Fitted Values')\n",
    "ax.set_ylabel('Residuals')\n",
    "ax.set_title('Residuals vs. Fitted Values')\n",
    "plt.show()"
   ]
  },
  {
   "cell_type": "markdown",
   "id": "65f62d29-e4d5-4ad8-aee1-e4b4964d70ea",
   "metadata": {},
   "source": [
    "### Fig 2 (e) ETT depth - age"
   ]
  },
  {
   "cell_type": "code",
   "execution_count": 78,
   "id": "5b147672-bef5-4c97-bfd6-c506855c4427",
   "metadata": {
    "execution": {
     "iopub.execute_input": "2023-08-10T02:23:43.740991Z",
     "iopub.status.busy": "2023-08-10T02:23:43.740514Z",
     "iopub.status.idle": "2023-08-10T02:23:43.759805Z",
     "shell.execute_reply": "2023-08-10T02:23:43.759202Z",
     "shell.execute_reply.started": "2023-08-10T02:23:43.740943Z"
    },
    "tags": []
   },
   "outputs": [
    {
     "name": "stdout",
     "output_type": "stream",
     "text": [
      "x_train: (25640, 4), x_test: (6410, 4)\n"
     ]
    }
   ],
   "source": [
    "from sklearn.model_selection import GridSearchCV, RandomizedSearchCV\n",
    "from sklearn.metrics import explained_variance_score, mean_squared_error, mean_absolute_error, r2_score\n",
    "from sklearn.utils import shuffle\n",
    "import pandas as pd\n",
    "import xgboost as xgb\n",
    "import numpy as np\n",
    "import random, os, datetime, pickle\n",
    "import scipy, csv, math\n",
    "import matplotlib.pyplot as plt\n",
    "import numpy as np\n",
    "\n",
    "\n",
    "dat = np.load(f'dataset/ETT_depth_2308.npz')\n",
    "df = pickle.load(open('dataset/df_depth_2308', 'rb'))\n",
    "x, y = dat['x'], dat['y']\n",
    "x = x[:,0:5]\n",
    "#y_old = dat['y_old']\n",
    "\n",
    "\n",
    "# training set의 뒤쪽 20%를 test set 으로 사용 (이미 shuffle된 상태)\n",
    "nsamp = len(y)\n",
    "ntest = int(nsamp * 0.2)\n",
    "ntrain = nsamp - ntest\n",
    "x_test = x[-ntest:, :]\n",
    "y_test = y[-ntest:]\n",
    "#y_test_old = y_old[-ntest:]\n",
    "y_pals = 3 * y_test_old\n",
    "x_train = x[:ntrain, :]\n",
    "y_train = y[:ntrain]\n",
    "\n",
    "x_train = x_train[:,0:4]\n",
    "x_test = x_test[:,0:4]\n",
    "\n",
    "X_train, Y_train = x_train, y_train\n",
    "\n",
    "print(f'x_train: {(x_train).shape}, x_test: {x_test.shape}')"
   ]
  },
  {
   "cell_type": "code",
   "execution_count": 79,
   "id": "7f35a5d9-09c0-4b52-8f7e-3a91b79c66cd",
   "metadata": {
    "execution": {
     "iopub.execute_input": "2023-08-10T02:23:46.812034Z",
     "iopub.status.busy": "2023-08-10T02:23:46.811553Z",
     "iopub.status.idle": "2023-08-10T02:23:46.824036Z",
     "shell.execute_reply": "2023-08-10T02:23:46.823242Z",
     "shell.execute_reply.started": "2023-08-10T02:23:46.811986Z"
    },
    "tags": []
   },
   "outputs": [
    {
     "data": {
      "text/html": [
       "<style>#sk-container-id-2 {color: black;}#sk-container-id-2 pre{padding: 0;}#sk-container-id-2 div.sk-toggleable {background-color: white;}#sk-container-id-2 label.sk-toggleable__label {cursor: pointer;display: block;width: 100%;margin-bottom: 0;padding: 0.3em;box-sizing: border-box;text-align: center;}#sk-container-id-2 label.sk-toggleable__label-arrow:before {content: \"▸\";float: left;margin-right: 0.25em;color: #696969;}#sk-container-id-2 label.sk-toggleable__label-arrow:hover:before {color: black;}#sk-container-id-2 div.sk-estimator:hover label.sk-toggleable__label-arrow:before {color: black;}#sk-container-id-2 div.sk-toggleable__content {max-height: 0;max-width: 0;overflow: hidden;text-align: left;background-color: #f0f8ff;}#sk-container-id-2 div.sk-toggleable__content pre {margin: 0.2em;color: black;border-radius: 0.25em;background-color: #f0f8ff;}#sk-container-id-2 input.sk-toggleable__control:checked~div.sk-toggleable__content {max-height: 200px;max-width: 100%;overflow: auto;}#sk-container-id-2 input.sk-toggleable__control:checked~label.sk-toggleable__label-arrow:before {content: \"▾\";}#sk-container-id-2 div.sk-estimator input.sk-toggleable__control:checked~label.sk-toggleable__label {background-color: #d4ebff;}#sk-container-id-2 div.sk-label input.sk-toggleable__control:checked~label.sk-toggleable__label {background-color: #d4ebff;}#sk-container-id-2 input.sk-hidden--visually {border: 0;clip: rect(1px 1px 1px 1px);clip: rect(1px, 1px, 1px, 1px);height: 1px;margin: -1px;overflow: hidden;padding: 0;position: absolute;width: 1px;}#sk-container-id-2 div.sk-estimator {font-family: monospace;background-color: #f0f8ff;border: 1px dotted black;border-radius: 0.25em;box-sizing: border-box;margin-bottom: 0.5em;}#sk-container-id-2 div.sk-estimator:hover {background-color: #d4ebff;}#sk-container-id-2 div.sk-parallel-item::after {content: \"\";width: 100%;border-bottom: 1px solid gray;flex-grow: 1;}#sk-container-id-2 div.sk-label:hover label.sk-toggleable__label {background-color: #d4ebff;}#sk-container-id-2 div.sk-serial::before {content: \"\";position: absolute;border-left: 1px solid gray;box-sizing: border-box;top: 0;bottom: 0;left: 50%;z-index: 0;}#sk-container-id-2 div.sk-serial {display: flex;flex-direction: column;align-items: center;background-color: white;padding-right: 0.2em;padding-left: 0.2em;position: relative;}#sk-container-id-2 div.sk-item {position: relative;z-index: 1;}#sk-container-id-2 div.sk-parallel {display: flex;align-items: stretch;justify-content: center;background-color: white;position: relative;}#sk-container-id-2 div.sk-item::before, #sk-container-id-2 div.sk-parallel-item::before {content: \"\";position: absolute;border-left: 1px solid gray;box-sizing: border-box;top: 0;bottom: 0;left: 50%;z-index: -1;}#sk-container-id-2 div.sk-parallel-item {display: flex;flex-direction: column;z-index: 1;position: relative;background-color: white;}#sk-container-id-2 div.sk-parallel-item:first-child::after {align-self: flex-end;width: 50%;}#sk-container-id-2 div.sk-parallel-item:last-child::after {align-self: flex-start;width: 50%;}#sk-container-id-2 div.sk-parallel-item:only-child::after {width: 0;}#sk-container-id-2 div.sk-dashed-wrapped {border: 1px dashed gray;margin: 0 0.4em 0.5em 0.4em;box-sizing: border-box;padding-bottom: 0.4em;background-color: white;}#sk-container-id-2 div.sk-label label {font-family: monospace;font-weight: bold;display: inline-block;line-height: 1.2em;}#sk-container-id-2 div.sk-label-container {text-align: center;}#sk-container-id-2 div.sk-container {/* jupyter's `normalize.less` sets `[hidden] { display: none; }` but bootstrap.min.css set `[hidden] { display: none !important; }` so we also need the `!important` here to be able to override the default hidden behavior on the sphinx rendered scikit-learn.org. See: https://github.com/scikit-learn/scikit-learn/issues/21755 */display: inline-block !important;position: relative;}#sk-container-id-2 div.sk-text-repr-fallback {display: none;}</style><div id=\"sk-container-id-2\" class=\"sk-top-container\"><div class=\"sk-text-repr-fallback\"><pre>LinearRegression()</pre><b>In a Jupyter environment, please rerun this cell to show the HTML representation or trust the notebook. <br />On GitHub, the HTML representation is unable to render, please try loading this page with nbviewer.org.</b></div><div class=\"sk-container\" hidden><div class=\"sk-item\"><div class=\"sk-estimator sk-toggleable\"><input class=\"sk-toggleable__control sk-hidden--visually\" id=\"sk-estimator-id-2\" type=\"checkbox\" checked><label for=\"sk-estimator-id-2\" class=\"sk-toggleable__label sk-toggleable__label-arrow\">LinearRegression</label><div class=\"sk-toggleable__content\"><pre>LinearRegression()</pre></div></div></div></div></div>"
      ],
      "text/plain": [
       "LinearRegression()"
      ]
     },
     "execution_count": 79,
     "metadata": {},
     "output_type": "execute_result"
    }
   ],
   "source": [
    "from sklearn.linear_model import LinearRegression\n",
    "from sklearn.metrics import r2_score\n",
    "\n",
    "linear_x, linear_y = X_train[:,0].reshape(-1,1), Y_train\n",
    "\n",
    "linear_model = LinearRegression()\n",
    "linear_model.fit(linear_x, linear_y)"
   ]
  },
  {
   "cell_type": "code",
   "execution_count": 80,
   "id": "dae48a19-0af1-42f6-945e-05b9e6ded965",
   "metadata": {
    "execution": {
     "iopub.execute_input": "2023-08-10T02:24:03.272779Z",
     "iopub.status.busy": "2023-08-10T02:24:03.272287Z",
     "iopub.status.idle": "2023-08-10T02:24:25.351206Z",
     "shell.execute_reply": "2023-08-10T02:24:25.350451Z",
     "shell.execute_reply.started": "2023-08-10T02:24:03.272730Z"
    },
    "tags": []
   },
   "outputs": [
    {
     "data": {
      "image/png": "[encoded data removed]",
      "text/plain": [
       "<Figure size 864x864 with 1 Axes>"
      ]
     },
     "metadata": {
      "needs_background": "light"
     },
     "output_type": "display_data"
    }
   ],
   "source": [
    "xvals = []\n",
    "yvals = []\n",
    "cvals = []\n",
    "x_age = np.array([math.floor(x) for x in X_train[:,0]])\n",
    "\n",
    "#y_fitted = linear_model.predict(np.reshape([0,9],[-1,1]))\n",
    "y_fitted = linear_model.predict(X_train[:,0].reshape([-1,1]))\n",
    "\n",
    "for x in np.arange(0, 10, 1):\n",
    "    for y in np.arange(7, 21, 0.5):\n",
    "        xvals.append(x)\n",
    "        yvals.append(y)        \n",
    "        cvals.append(sum((x_age == x) & (Y_train >= y) & (Y_train < y+ 0.5)))\n",
    "                     \n",
    "xvals = np.array(xvals)\n",
    "yvals = np.array(yvals)\n",
    "cvals = np.array(cvals) / 2\n",
    "\n",
    "\n",
    "# plot\n",
    "plot_settings()\n",
    "fig = plt.figure(figsize=(12, 12))\n",
    "ax = fig.add_subplot()\n",
    "\n",
    "plt.xticks(np.arange(0,10))\n",
    "#plt.yticks(np.arange(8, 22, 2), [f'{y:.1f}' for y in np.arange(8,22,2)] )\n",
    "plt.xlim(-1, 10)\n",
    "plt.ylim(7.0, 21.0)\n",
    "plt.scatter(xvals, yvals, c='red', alpha=0.5, s=cvals)\n",
    "plt.xlabel('Age (years)')\n",
    "plt.ylabel('Fixed depth (cm)')\n",
    "\n",
    "ax.spines['top'].set_visible(False)\n",
    "ax.spines['right'].set_visible(False)\n",
    "\n",
    "#lgnd = plt.legend()\n",
    "#lgnd.legendHandles[0]._sizes = [30]\n",
    "#plt.plot(np.arange(0,10), coles, 'k-', alpha=0.1)\n",
    "#plt.plot([-2, 10], [3.13, 7.05], 'k-', alpha = 0.5)\n",
    "plt.plot(x_age, linear_model.predict(x_age.reshape([-1,1])), 'k-', alpha = 0.5)\n",
    "\n",
    "equation = f'depth = {linear_model.coef_[0]:.2f} * age + {linear_model.intercept_:.2f}'\n",
    "r_squared = f'R-squared = {r2_score(Y_train,y_fitted):.2f}'\n",
    "plt.text(0, 18.8, equation, fontsize=18)\n",
    "plt.text(0, 18, r_squared, fontsize=18)\n",
    "\n",
    "plt.savefig(\"figures/Fig3_e_scatter.png\", dpi=600)"
   ]
  },
  {
   "cell_type": "code",
   "execution_count": 81,
   "id": "942e2b70-e2a7-41d9-b4fc-fc459a20f504",
   "metadata": {
    "execution": {
     "iopub.execute_input": "2023-08-10T02:24:25.352672Z",
     "iopub.status.busy": "2023-08-10T02:24:25.352391Z",
     "iopub.status.idle": "2023-08-10T02:24:35.171335Z",
     "shell.execute_reply": "2023-08-10T02:24:35.170819Z",
     "shell.execute_reply.started": "2023-08-10T02:24:25.352648Z"
    },
    "tags": []
   },
   "outputs": [
    {
     "name": "stderr",
     "output_type": "stream",
     "text": [
      "/home/painstudy/.local/lib/python3.8/site-packages/seaborn/_decorators.py:36: FutureWarning: Pass the following variables as keyword args: x, y. From version 0.12, the only valid positional argument will be `data`, and passing other arguments without an explicit keyword will result in an error or misinterpretation.\n",
      "  warnings.warn(\n"
     ]
    },
    {
     "data": {
      "image/png": "[encoded data removed]",
      "text/plain": [
       "<Figure size 864x864 with 1 Axes>"
      ]
     },
     "metadata": {
      "needs_background": "light"
     },
     "output_type": "display_data"
    }
   ],
   "source": [
    "import seaborn as sns\n",
    "import statsmodels.api as sm\n",
    "import matplotlib.pyplot as plt\n",
    "from statsmodels.graphics.gofplots import ProbPlot\n",
    "\n",
    "\n",
    "df_m = pd.DataFrame({'X':X_train[:,0], 'Y':Y_train})\n",
    "\n",
    "# generate OLS model\n",
    "#model_fit = sm.OLS(pd.DataFrame({'Y':Y_train}), sm.add_constant(df_m)).fit()\n",
    "model_fit = sm.OLS(pd.DataFrame({'Y':Y_train}), sm.add_constant(X_train[:,0])).fit()\n",
    "\n",
    "\n",
    "# model values\n",
    "model_fitted_y = model_fit.fittedvalues\n",
    "\n",
    "# model residuals\n",
    "model_residuals = model_fit.resid\n",
    "\n",
    "# density for residuals - fitted plot\n",
    "X = model_fitted_y\n",
    "Y = model_residuals\n",
    "\n",
    "xvals = []\n",
    "yvals = []\n",
    "cvals = []\n",
    "cuff_mask = (x_train[:,3]==1)\n",
    "\n",
    "for x in np.arange(8, 20, 0.5):\n",
    "    for y in np.arange(-3.9, 3.3, 0.3):\n",
    "        xvals.append(x)\n",
    "        yvals.append(y)\n",
    "        \n",
    "        \n",
    "        \n",
    "        cvals.append(sum((X >= x) & (X < x + 0.5) & (Y >= y) & (Y < y + 0.3)))\n",
    "        #cvals_old.append(sum((y_test_old == x) & (y_test == y)))\n",
    "xvals = np.array(xvals)\n",
    "yvals = np.array(yvals)\n",
    "cvals = np.array(cvals) / 2\n",
    "\n",
    "\n",
    "# plot\n",
    "UPPER_FIT = 20\n",
    "LOWER_FIT = 10\n",
    "INT_FIT = 2\n",
    "UPPER_RES = 3\n",
    "LOWER_RES = -4\n",
    "INT_RES = 1\n",
    "\n",
    "plot_settings()\n",
    "plot_lm_1 = plt.figure()\n",
    "plot_lm_1.axes[0] = sns.residplot(model_fitted_y, df_m.columns[-1], data=df_m,\n",
    "                          lowess=True,\n",
    "                          scatter_kws={'alpha': 0},\n",
    "                          line_kws={'color': 'red', 'lw': 1, 'alpha': 0.8})\n",
    "\n",
    "plot_lm_1.axes[0].spines['top'].set_visible(False)\n",
    "plot_lm_1.axes[0].spines['right'].set_visible(False)\n",
    "plot_lm_1.axes[0].set_xlabel('Fitted values')\n",
    "plot_lm_1.axes[0].set_ylabel('Residuals')\n",
    "plot_lm_1.axes[0].set_xlim(LOWER_FIT - INT_FIT / 2, UPPER_FIT + INT_FIT / 2)\n",
    "plot_lm_1.axes[0].set_ylim(LOWER_RES - INT_RES / 2, UPPER_RES + INT_RES / 2)\n",
    "plot_lm_1.axes[0].set_xticks(np.arange(LOWER_FIT, UPPER_FIT + INT_FIT, INT_FIT), [f'{y}' for y in np.arange(LOWER_FIT, UPPER_FIT+INT_FIT, INT_FIT)])\n",
    "plot_lm_1.axes[0].set_yticks(np.arange(LOWER_RES,UPPER_RES + INT_RES, INT_RES))\n",
    "\n",
    "plot_lm_1.axes[0] = plt.scatter(xvals, yvals, c='blue', alpha=0.5, s=cvals)\n",
    "plt.savefig(\"figures/Fig3_f_residuals.png\", dpi=600)"
   ]
  },
  {
   "cell_type": "code",
   "execution_count": 193,
   "id": "52ab6db3-d661-45d9-9fd8-1a7795670796",
   "metadata": {
    "execution": {
     "iopub.execute_input": "2023-06-03T16:22:42.381932Z",
     "iopub.status.busy": "2023-06-03T16:22:42.381371Z",
     "iopub.status.idle": "2023-06-03T16:22:42.389987Z",
     "shell.execute_reply": "2023-06-03T16:22:42.389140Z",
     "shell.execute_reply.started": "2023-06-03T16:22:42.381877Z"
    },
    "tags": []
   },
   "outputs": [
    {
     "data": {
      "text/plain": [
       "(10.96837428358726, 18.959093733681563)"
      ]
     },
     "execution_count": 193,
     "metadata": {},
     "output_type": "execute_result"
    }
   ],
   "source": [
    "X.min(), X.max()"
   ]
  },
  {
   "cell_type": "markdown",
   "id": "6c182d0a-c663-4aa3-ae1e-1b24d86f9a55",
   "metadata": {},
   "source": [
    "### Anderson Darling test (checking noramlity of residuals)"
   ]
  },
  {
   "cell_type": "code",
   "execution_count": 92,
   "id": "4659f573-9829-463a-a867-727f7e4b93dd",
   "metadata": {
    "execution": {
     "iopub.execute_input": "2023-05-28T13:02:41.822187Z",
     "iopub.status.busy": "2023-05-28T13:02:41.821761Z",
     "iopub.status.idle": "2023-05-28T13:02:42.723458Z",
     "shell.execute_reply": "2023-05-28T13:02:42.722790Z",
     "shell.execute_reply.started": "2023-05-28T13:02:41.822141Z"
    },
    "tags": []
   },
   "outputs": [
    {
     "name": "stdout",
     "output_type": "stream",
     "text": [
      "Assumption 2: The error terms are normally distributed \n",
      "\n",
      "Using the Anderson-Darling test for normal distribution\n",
      "p-value from the test - below 0.05 generally means non-normal: 0.0\n",
      "Residuals are not normally distributed\n"
     ]
    },
    {
     "name": "stderr",
     "output_type": "stream",
     "text": [
      "/home/painstudy/.local/lib/python3.8/site-packages/seaborn/distributions.py:2619: FutureWarning: `distplot` is a deprecated function and will be removed in a future version. Please adapt your code to use either `displot` (a figure-level function with similar flexibility) or `histplot` (an axes-level function for histograms).\n",
      "  warnings.warn(msg, FutureWarning)\n"
     ]
    },
    {
     "data": {
      "image/png": "[encoded data removed]",
      "text/plain": [
       "<Figure size 432x288 with 1 Axes>"
      ]
     },
     "metadata": {
      "needs_background": "light"
     },
     "output_type": "display_data"
    },
    {
     "name": "stdout",
     "output_type": "stream",
     "text": [
      "\n",
      "Assumption not satisfied\n",
      "\n",
      "Confidence intervals will likely be affected\n",
      "Try performing nonlinear transformations on variables\n"
     ]
    }
   ],
   "source": [
    "cmask = x_train[:,4]==0\n",
    "X_train = x_train[cmask]\n",
    "Y_train = y_train[cmask]\n",
    "\n",
    "linear_x, linear_y = X_train[:,0].reshape(-1,1), Y_train\n",
    "\n",
    "linear_model = LinearRegression()\n",
    "linear_model.fit(linear_x, linear_y)\n",
    "\n",
    "normal_errors_assumption(linear_model, linear_x, linear_y)"
   ]
  },
  {
   "cell_type": "code",
   "execution_count": 73,
   "id": "1b13f95c-e457-4709-8007-094db4b03e43",
   "metadata": {
    "execution": {
     "iopub.execute_input": "2023-05-11T05:34:47.652775Z",
     "iopub.status.busy": "2023-05-11T05:34:47.652188Z",
     "iopub.status.idle": "2023-05-11T05:34:48.005125Z",
     "shell.execute_reply": "2023-05-11T05:34:48.004549Z",
     "shell.execute_reply.started": "2023-05-11T05:34:47.652716Z"
    },
    "tags": []
   },
   "outputs": [
    {
     "name": "stdout",
     "output_type": "stream",
     "text": [
      "Assumption 2: The error terms are normally distributed \n",
      "\n",
      "Using the Anderson-Darling test for normal distribution\n",
      "p-value from the test - below 0.05 generally means non-normal: 1.1964321391636765e-15\n",
      "Residuals are not normally distributed\n"
     ]
    },
    {
     "name": "stderr",
     "output_type": "stream",
     "text": [
      "/home/painstudy/.local/lib/python3.8/site-packages/seaborn/distributions.py:2619: FutureWarning: `distplot` is a deprecated function and will be removed in a future version. Please adapt your code to use either `displot` (a figure-level function with similar flexibility) or `histplot` (an axes-level function for histograms).\n",
      "  warnings.warn(msg, FutureWarning)\n"
     ]
    },
    {
     "data": {
      "image/png": "[encoded data removed]",
      "text/plain": [
       "<Figure size 864x432 with 1 Axes>"
      ]
     },
     "metadata": {
      "needs_background": "light"
     },
     "output_type": "display_data"
    },
    {
     "name": "stdout",
     "output_type": "stream",
     "text": [
      "\n",
      "Assumption not satisfied\n",
      "\n",
      "Confidence intervals will likely be affected\n",
      "Try performing nonlinear transformations on variables\n"
     ]
    }
   ],
   "source": [
    "linear_x = x_train\n",
    "\n",
    "normal_errors_assumption(linear_model, linear_x, linear_y)"
   ]
  },
  {
   "cell_type": "markdown",
   "id": "bf0b44ef-ccf3-40fc-83e6-f995ca2a18cb",
   "metadata": {},
   "source": [
    "## Multicollinearity"
   ]
  },
  {
   "cell_type": "code",
   "execution_count": 69,
   "id": "63f6f412-c99a-4612-84a6-67676c7b1523",
   "metadata": {
    "execution": {
     "iopub.execute_input": "2023-05-11T05:30:44.392460Z",
     "iopub.status.busy": "2023-05-11T05:30:44.391699Z",
     "iopub.status.idle": "2023-05-11T05:30:44.407325Z",
     "shell.execute_reply": "2023-05-11T05:30:44.406290Z",
     "shell.execute_reply.started": "2023-05-11T05:30:44.392403Z"
    },
    "tags": []
   },
   "outputs": [],
   "source": [
    "def multicollinearity_assumption(model, features, label, feature_names=None):\n",
    "    \"\"\"\n",
    "    Multicollinearity: Assumes that predictors are not correlated with each other. If there is\n",
    "                       correlation among the predictors, then either remove prepdictors with high\n",
    "                       Variance Inflation Factor (VIF) values or perform dimensionality reduction\n",
    "                           \n",
    "                       This assumption being violated causes issues with interpretability of the \n",
    "                       coefficients and the standard errors of the coefficients.\n",
    "    \"\"\"\n",
    "    from statsmodels.stats.outliers_influence import variance_inflation_factor\n",
    "    print('Assumption 3: Little to no multicollinearity among predictors')\n",
    "        \n",
    "    # Plotting the heatmap\n",
    "    plt.figure(figsize = (10,8))\n",
    "    sns.heatmap(pd.DataFrame(features, columns=feature_names).corr(), annot=True)\n",
    "    plt.title('Correlation of Variables')\n",
    "    plt.show()\n",
    "        \n",
    "    print('Variance Inflation Factors (VIF)')\n",
    "    print('> 10: An indication that multicollinearity may be present')\n",
    "    print('> 100: Certain multicollinearity among the variables')\n",
    "    print('-------------------------------------')\n",
    "       \n",
    "    # Gathering the VIF for each variable\n",
    "    VIF = [variance_inflation_factor(features, i) for i in range(features.shape[1])]\n",
    "    for idx, vif in enumerate(VIF):\n",
    "        print('{0}: {1}'.format(feature_names[idx], vif))\n",
    "        \n",
    "    # Gathering and printing total cases of possible or definite multicollinearity\n",
    "    possible_multicollinearity = sum([1 for vif in VIF if vif > 10])\n",
    "    definite_multicollinearity = sum([1 for vif in VIF if vif > 100])\n",
    "    print()\n",
    "    print('{0} cases of possible multicollinearity'.format(possible_multicollinearity))\n",
    "    print('{0} cases of definite multicollinearity'.format(definite_multicollinearity))\n",
    "    print()\n",
    "\n",
    "    if definite_multicollinearity == 0:\n",
    "        if possible_multicollinearity == 0:\n",
    "            print('Assumption satisfied')\n",
    "        else:\n",
    "            print('Assumption possibly satisfied')\n",
    "            print()\n",
    "            print('Coefficient interpretability may be problematic')\n",
    "            print('Consider removing variables with a high Variance Inflation Factor (VIF)')\n",
    "\n",
    "    else:\n",
    "        print('Assumption not satisfied')\n",
    "        print()\n",
    "        print('Coefficient interpretability will be problematic')\n",
    "        print('Consider removing variables with a high Variance Inflation Factor (VIF)')"
   ]
  },
  {
   "cell_type": "code",
   "execution_count": 72,
   "id": "baeb5be5-3dae-4cc9-a153-1fd5ad1c5dd8",
   "metadata": {
    "execution": {
     "iopub.execute_input": "2023-05-11T05:34:03.692376Z",
     "iopub.status.busy": "2023-05-11T05:34:03.691796Z",
     "iopub.status.idle": "2023-05-11T05:34:04.076193Z",
     "shell.execute_reply": "2023-05-11T05:34:04.075007Z",
     "shell.execute_reply.started": "2023-05-11T05:34:03.692317Z"
    },
    "tags": []
   },
   "outputs": [
    {
     "name": "stdout",
     "output_type": "stream",
     "text": [
      "x_train: (24764, 4), x_test: (6190, 4)\n",
      "Assumption 3: Little to no multicollinearity among predictors\n"
     ]
    },
    {
     "data": {
      "image/png": "[encoded data removed]",
      "text/plain": [
       "<Figure size 720x576 with 2 Axes>"
      ]
     },
     "metadata": {
      "needs_background": "light"
     },
     "output_type": "display_data"
    },
    {
     "name": "stdout",
     "output_type": "stream",
     "text": [
      "Variance Inflation Factors (VIF)\n",
      "> 10: An indication that multicollinearity may be present\n",
      "> 100: Certain multicollinearity among the variables\n",
      "-------------------------------------\n",
      "X1: 15.396582915611317\n",
      "X2: 38.78300884693787\n",
      "X3: 14.774369168355758\n",
      "X4: 1.4457245972751462\n",
      "\n",
      "3 cases of possible multicollinearity\n",
      "0 cases of definite multicollinearity\n",
      "\n",
      "Assumption possibly satisfied\n",
      "\n",
      "Coefficient interpretability may be problematic\n",
      "Consider removing variables with a high Variance Inflation Factor (VIF)\n"
     ]
    }
   ],
   "source": [
    "# input: age, weight, height, cuff\n",
    "x_train = np.concatenate((x_train[:,0:1], x_train[:,2:5]),axis=-1)\n",
    "x_test = np.concatenate((x_test[:,0:1], x_test[:,2:5]),axis=-1)\n",
    "\n",
    "\n",
    "from sklearn.experimental import enable_iterative_imputer\n",
    "from sklearn.impute import IterativeImputer\n",
    "\n",
    "\n",
    "imp = IterativeImputer().fit(x_train)\n",
    "x_train_imputed = imp.transform(x_train)\n",
    "x_test_imputed = imp.transform(x_test)\n",
    "\n",
    "print(f'x_train: {x_train_imputed.shape}, x_test: {x_test_imputed.shape}')\n",
    "\n",
    "\n",
    "linear_x = x_train_imputed\n",
    "linear_y = y_train\n",
    "\n",
    "linear_model = LinearRegression()\n",
    "linear_model.fit(linear_x, linear_y)\n",
    "\n",
    "\n",
    "linear_feature_names = ['X'+str(feature+1) for feature in range(linear_x.shape[1])]\n",
    "\n",
    "multicollinearity_assumption(linear_model, linear_x, linear_y, linear_feature_names)"
   ]
  },
  {
   "cell_type": "code",
   "execution_count": null,
   "id": "8a275d85-bad0-4cc0-ade3-2aa244db6b2f",
   "metadata": {},
   "outputs": [],
   "source": []
  },
  {
   "cell_type": "code",
   "execution_count": 23,
   "id": "924b7c74-67e2-4ec3-8639-7abb5ebcf32b",
   "metadata": {
    "execution": {
     "iopub.execute_input": "2023-06-09T06:44:39.434563Z",
     "iopub.status.busy": "2023-06-09T06:44:39.434053Z",
     "iopub.status.idle": "2023-06-09T06:44:40.623408Z",
     "shell.execute_reply": "2023-06-09T06:44:40.622538Z",
     "shell.execute_reply.started": "2023-06-09T06:44:39.434507Z"
    },
    "tags": []
   },
   "outputs": [
    {
     "name": "stderr",
     "output_type": "stream",
     "text": [
      "Downloading...\n",
      "From: https://drive.google.com/uc?id=11ZzADbIeMY5jUcoHxSVdsO4nun9WVKEO\n",
      "To: /home/painstudy/dl_ETT/AvenirLTProLight.otf\n",
      "100%|██████████| 44.3k/44.3k [00:00<00:00, 836kB/s]\n"
     ]
    },
    {
     "data": {
      "text/plain": [
       "'AvenirLTProLight.otf'"
      ]
     },
     "execution_count": 23,
     "metadata": {},
     "output_type": "execute_result"
    }
   ],
   "source": [
    "import gdown\n",
    "\n",
    "gurl = 'https://drive.google.com/uc?id=11ZzADbIeMY5jUcoHxSVdsO4nun9WVKEO'\n",
    "gdown.download(gurl, 'AvenirLTProLight.otf')"
   ]
  }
 ],
 "metadata": {
  "kernelspec": {
   "display_name": "keras",
   "language": "python",
   "name": "painstudy_keras"
  },
  "language_info": {
   "codemirror_mode": {
    "name": "ipython",
    "version": 3
   },
   "file_extension": ".py",
   "mimetype": "text/x-python",
   "name": "python",
   "nbconvert_exporter": "python",
   "pygments_lexer": "ipython3",
   "version": "3.8.12"
  }
 },
 "nbformat": 4,
 "nbformat_minor": 5
}
